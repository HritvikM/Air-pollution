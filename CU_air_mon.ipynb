{
 "cells": [
  {
   "attachments": {},
   "cell_type": "markdown",
   "id": "39940814",
   "metadata": {
    "papermill": {
     "duration": 0.018873,
     "end_time": "2023-05-10T11:43:42.995193",
     "exception": false,
     "start_time": "2023-05-10T11:43:42.976320",
     "status": "completed"
    },
    "tags": []
   },
   "source": [
    "## Introduction\n",
    "\n",
    "\n",
    "\n",
    "* Date - daily readings between 2015 and 2020\n",
    "\n",
    "* PM2.5 - Particulate Matter 2.5-micrometer in ug / m3\n",
    "\n",
    "* PM10 - Particulate Matter 10-micrometer in ug / m3\n",
    "\n",
    "* NO - Nitric Oxide in ug / m3\n",
    "\n",
    "* NO2 - Nitric Dioxide in ug / m3\n",
    "\n",
    "* NOx - Any Nitric x-oxide in ppb\n",
    "\n",
    "* NH3 - Ammonia in ug / m3\n",
    "\n",
    "* CO - Carbon Monoxide in mg / m3\n",
    "\n",
    "* SO2 - Sulphur Dioxide in ug / m3\n",
    "\n",
    "* O3 - Ozone in ug / m3\n",
    "\n",
    "* Benzene - Benzene in ug / m3\n",
    "\n",
    "* Toluene - Toluene in ug / m3\n",
    "\n",
    "* Xylene - Xylene in ug / m3\n",
    "\n",
    "* AQI - Air Quality Index \n",
    "\n",
    "* AQI Bucket - Air Quality Index Bucket (ranging from 'very poor' to 'good')"
   ]
  },
  {
   "cell_type": "code",
   "execution_count": 1,
   "id": "2ef31898",
   "metadata": {
    "execution": {
     "iopub.execute_input": "2023-05-10T11:43:43.112321Z",
     "iopub.status.busy": "2023-05-10T11:43:43.111338Z",
     "iopub.status.idle": "2023-05-10T11:43:45.376537Z",
     "shell.execute_reply": "2023-05-10T11:43:45.375299Z"
    },
    "papermill": {
     "duration": 2.288775,
     "end_time": "2023-05-10T11:43:45.379159",
     "exception": false,
     "start_time": "2023-05-10T11:43:43.090384",
     "status": "completed"
    },
    "tags": []
   },
   "outputs": [
    {
     "data": {
      "text/html": [
       "<div>\n",
       "<style scoped>\n",
       "    .dataframe tbody tr th:only-of-type {\n",
       "        vertical-align: middle;\n",
       "    }\n",
       "\n",
       "    .dataframe tbody tr th {\n",
       "        vertical-align: top;\n",
       "    }\n",
       "\n",
       "    .dataframe thead th {\n",
       "        text-align: right;\n",
       "    }\n",
       "</style>\n",
       "<table border=\"1\" class=\"dataframe\">\n",
       "  <thead>\n",
       "    <tr style=\"text-align: right;\">\n",
       "      <th></th>\n",
       "      <th>City</th>\n",
       "      <th>Date</th>\n",
       "      <th>PM2.5</th>\n",
       "      <th>PM10</th>\n",
       "      <th>NO</th>\n",
       "      <th>NO2</th>\n",
       "      <th>NOx</th>\n",
       "      <th>NH3</th>\n",
       "      <th>CO</th>\n",
       "      <th>SO2</th>\n",
       "      <th>O3</th>\n",
       "      <th>Benzene</th>\n",
       "      <th>Toluene</th>\n",
       "      <th>Xylene</th>\n",
       "      <th>AQI</th>\n",
       "      <th>AQI_Bucket</th>\n",
       "    </tr>\n",
       "  </thead>\n",
       "  <tbody>\n",
       "    <tr>\n",
       "      <th>0</th>\n",
       "      <td>Ahmedabad</td>\n",
       "      <td>2015-01-01</td>\n",
       "      <td>NaN</td>\n",
       "      <td>NaN</td>\n",
       "      <td>0.92</td>\n",
       "      <td>18.22</td>\n",
       "      <td>17.15</td>\n",
       "      <td>NaN</td>\n",
       "      <td>0.92</td>\n",
       "      <td>27.64</td>\n",
       "      <td>133.36</td>\n",
       "      <td>0.00</td>\n",
       "      <td>0.02</td>\n",
       "      <td>0.00</td>\n",
       "      <td>NaN</td>\n",
       "      <td>NaN</td>\n",
       "    </tr>\n",
       "    <tr>\n",
       "      <th>1</th>\n",
       "      <td>Ahmedabad</td>\n",
       "      <td>2015-01-02</td>\n",
       "      <td>NaN</td>\n",
       "      <td>NaN</td>\n",
       "      <td>0.97</td>\n",
       "      <td>15.69</td>\n",
       "      <td>16.46</td>\n",
       "      <td>NaN</td>\n",
       "      <td>0.97</td>\n",
       "      <td>24.55</td>\n",
       "      <td>34.06</td>\n",
       "      <td>3.68</td>\n",
       "      <td>5.50</td>\n",
       "      <td>3.77</td>\n",
       "      <td>NaN</td>\n",
       "      <td>NaN</td>\n",
       "    </tr>\n",
       "    <tr>\n",
       "      <th>2</th>\n",
       "      <td>Ahmedabad</td>\n",
       "      <td>2015-01-03</td>\n",
       "      <td>NaN</td>\n",
       "      <td>NaN</td>\n",
       "      <td>17.40</td>\n",
       "      <td>19.30</td>\n",
       "      <td>29.70</td>\n",
       "      <td>NaN</td>\n",
       "      <td>17.40</td>\n",
       "      <td>29.07</td>\n",
       "      <td>30.70</td>\n",
       "      <td>6.80</td>\n",
       "      <td>16.40</td>\n",
       "      <td>2.25</td>\n",
       "      <td>NaN</td>\n",
       "      <td>NaN</td>\n",
       "    </tr>\n",
       "    <tr>\n",
       "      <th>3</th>\n",
       "      <td>Ahmedabad</td>\n",
       "      <td>2015-01-04</td>\n",
       "      <td>NaN</td>\n",
       "      <td>NaN</td>\n",
       "      <td>1.70</td>\n",
       "      <td>18.48</td>\n",
       "      <td>17.97</td>\n",
       "      <td>NaN</td>\n",
       "      <td>1.70</td>\n",
       "      <td>18.59</td>\n",
       "      <td>36.08</td>\n",
       "      <td>4.43</td>\n",
       "      <td>10.14</td>\n",
       "      <td>1.00</td>\n",
       "      <td>NaN</td>\n",
       "      <td>NaN</td>\n",
       "    </tr>\n",
       "    <tr>\n",
       "      <th>4</th>\n",
       "      <td>Ahmedabad</td>\n",
       "      <td>2015-01-05</td>\n",
       "      <td>NaN</td>\n",
       "      <td>NaN</td>\n",
       "      <td>22.10</td>\n",
       "      <td>21.42</td>\n",
       "      <td>37.76</td>\n",
       "      <td>NaN</td>\n",
       "      <td>22.10</td>\n",
       "      <td>39.33</td>\n",
       "      <td>39.31</td>\n",
       "      <td>7.01</td>\n",
       "      <td>18.89</td>\n",
       "      <td>2.78</td>\n",
       "      <td>NaN</td>\n",
       "      <td>NaN</td>\n",
       "    </tr>\n",
       "  </tbody>\n",
       "</table>\n",
       "</div>"
      ],
      "text/plain": [
       "        City        Date  PM2.5  PM10     NO    NO2    NOx  NH3     CO    SO2   \n",
       "0  Ahmedabad  2015-01-01    NaN   NaN   0.92  18.22  17.15  NaN   0.92  27.64  \\\n",
       "1  Ahmedabad  2015-01-02    NaN   NaN   0.97  15.69  16.46  NaN   0.97  24.55   \n",
       "2  Ahmedabad  2015-01-03    NaN   NaN  17.40  19.30  29.70  NaN  17.40  29.07   \n",
       "3  Ahmedabad  2015-01-04    NaN   NaN   1.70  18.48  17.97  NaN   1.70  18.59   \n",
       "4  Ahmedabad  2015-01-05    NaN   NaN  22.10  21.42  37.76  NaN  22.10  39.33   \n",
       "\n",
       "       O3  Benzene  Toluene  Xylene  AQI AQI_Bucket  \n",
       "0  133.36     0.00     0.02    0.00  NaN        NaN  \n",
       "1   34.06     3.68     5.50    3.77  NaN        NaN  \n",
       "2   30.70     6.80    16.40    2.25  NaN        NaN  \n",
       "3   36.08     4.43    10.14    1.00  NaN        NaN  \n",
       "4   39.31     7.01    18.89    2.78  NaN        NaN  "
      ]
     },
     "execution_count": 1,
     "metadata": {},
     "output_type": "execute_result"
    }
   ],
   "source": [
    "#import libraries\n",
    "import pandas as pd \n",
    "import numpy as np\n",
    "import os, sys \n",
    "import sqlite3\n",
    "\n",
    "\n",
    "import matplotlib.pyplot as plt\n",
    "import numpy as np\n",
    "\n",
    "import plotly as py\n",
    "import plotly.express as px\n",
    "import plotly.graph_objs as go\n",
    "#import plotly.offline as offline \n",
    "#offline.init_notebook_mode(connected=True)\n",
    "\n",
    "#load data \n",
    "india_air_data = pd.read_csv(\"city_day.csv\")\n",
    "india_air_data.head()"
   ]
  },
  {
   "cell_type": "code",
   "execution_count": null,
   "id": "fdbefd56",
   "metadata": {
    "execution": {
     "iopub.execute_input": "2023-05-10T11:43:45.419691Z",
     "iopub.status.busy": "2023-05-10T11:43:45.419240Z",
     "iopub.status.idle": "2023-05-10T11:43:45.443954Z",
     "shell.execute_reply": "2023-05-10T11:43:45.442718Z"
    },
    "papermill": {
     "duration": 0.047985,
     "end_time": "2023-05-10T11:43:45.446374",
     "exception": false,
     "start_time": "2023-05-10T11:43:45.398389",
     "status": "completed"
    },
    "tags": []
   },
   "outputs": [
    {
     "data": {
      "text/html": [
       "<div>\n",
       "<style scoped>\n",
       "    .dataframe tbody tr th:only-of-type {\n",
       "        vertical-align: middle;\n",
       "    }\n",
       "\n",
       "    .dataframe tbody tr th {\n",
       "        vertical-align: top;\n",
       "    }\n",
       "\n",
       "    .dataframe thead th {\n",
       "        text-align: right;\n",
       "    }\n",
       "</style>\n",
       "<table border=\"1\" class=\"dataframe\">\n",
       "  <thead>\n",
       "    <tr style=\"text-align: right;\">\n",
       "      <th></th>\n",
       "      <th>City</th>\n",
       "      <th>Date</th>\n",
       "      <th>PM2.5</th>\n",
       "      <th>PM10</th>\n",
       "      <th>NO</th>\n",
       "      <th>NO2</th>\n",
       "      <th>NOx</th>\n",
       "      <th>NH3</th>\n",
       "      <th>CO</th>\n",
       "      <th>SO2</th>\n",
       "      <th>O3</th>\n",
       "      <th>Benzene</th>\n",
       "      <th>Toluene</th>\n",
       "      <th>Xylene</th>\n",
       "      <th>AQI</th>\n",
       "      <th>AQI_Bucket</th>\n",
       "    </tr>\n",
       "  </thead>\n",
       "  <tbody>\n",
       "    <tr>\n",
       "      <th>29526</th>\n",
       "      <td>Visakhapatnam</td>\n",
       "      <td>2020-06-27</td>\n",
       "      <td>15.02</td>\n",
       "      <td>50.94</td>\n",
       "      <td>7.68</td>\n",
       "      <td>25.06</td>\n",
       "      <td>19.54</td>\n",
       "      <td>12.47</td>\n",
       "      <td>0.47</td>\n",
       "      <td>8.55</td>\n",
       "      <td>23.30</td>\n",
       "      <td>2.24</td>\n",
       "      <td>12.07</td>\n",
       "      <td>0.73</td>\n",
       "      <td>41.0</td>\n",
       "      <td>Good</td>\n",
       "    </tr>\n",
       "    <tr>\n",
       "      <th>29527</th>\n",
       "      <td>Visakhapatnam</td>\n",
       "      <td>2020-06-28</td>\n",
       "      <td>24.38</td>\n",
       "      <td>74.09</td>\n",
       "      <td>3.42</td>\n",
       "      <td>26.06</td>\n",
       "      <td>16.53</td>\n",
       "      <td>11.99</td>\n",
       "      <td>0.52</td>\n",
       "      <td>12.72</td>\n",
       "      <td>30.14</td>\n",
       "      <td>0.74</td>\n",
       "      <td>2.21</td>\n",
       "      <td>0.38</td>\n",
       "      <td>70.0</td>\n",
       "      <td>Satisfactory</td>\n",
       "    </tr>\n",
       "    <tr>\n",
       "      <th>29528</th>\n",
       "      <td>Visakhapatnam</td>\n",
       "      <td>2020-06-29</td>\n",
       "      <td>22.91</td>\n",
       "      <td>65.73</td>\n",
       "      <td>3.45</td>\n",
       "      <td>29.53</td>\n",
       "      <td>18.33</td>\n",
       "      <td>10.71</td>\n",
       "      <td>0.48</td>\n",
       "      <td>8.42</td>\n",
       "      <td>30.96</td>\n",
       "      <td>0.01</td>\n",
       "      <td>0.01</td>\n",
       "      <td>0.00</td>\n",
       "      <td>68.0</td>\n",
       "      <td>Satisfactory</td>\n",
       "    </tr>\n",
       "    <tr>\n",
       "      <th>29529</th>\n",
       "      <td>Visakhapatnam</td>\n",
       "      <td>2020-06-30</td>\n",
       "      <td>16.64</td>\n",
       "      <td>49.97</td>\n",
       "      <td>4.05</td>\n",
       "      <td>29.26</td>\n",
       "      <td>18.80</td>\n",
       "      <td>10.03</td>\n",
       "      <td>0.52</td>\n",
       "      <td>9.84</td>\n",
       "      <td>28.30</td>\n",
       "      <td>0.00</td>\n",
       "      <td>0.00</td>\n",
       "      <td>0.00</td>\n",
       "      <td>54.0</td>\n",
       "      <td>Satisfactory</td>\n",
       "    </tr>\n",
       "    <tr>\n",
       "      <th>29530</th>\n",
       "      <td>Visakhapatnam</td>\n",
       "      <td>2020-07-01</td>\n",
       "      <td>15.00</td>\n",
       "      <td>66.00</td>\n",
       "      <td>0.40</td>\n",
       "      <td>26.85</td>\n",
       "      <td>14.05</td>\n",
       "      <td>5.20</td>\n",
       "      <td>0.59</td>\n",
       "      <td>2.10</td>\n",
       "      <td>17.05</td>\n",
       "      <td>NaN</td>\n",
       "      <td>NaN</td>\n",
       "      <td>NaN</td>\n",
       "      <td>50.0</td>\n",
       "      <td>Good</td>\n",
       "    </tr>\n",
       "  </tbody>\n",
       "</table>\n",
       "</div>"
      ],
      "text/plain": [
       "                City        Date  PM2.5   PM10    NO    NO2    NOx    NH3  \\\n",
       "29526  Visakhapatnam  2020-06-27  15.02  50.94  7.68  25.06  19.54  12.47   \n",
       "29527  Visakhapatnam  2020-06-28  24.38  74.09  3.42  26.06  16.53  11.99   \n",
       "29528  Visakhapatnam  2020-06-29  22.91  65.73  3.45  29.53  18.33  10.71   \n",
       "29529  Visakhapatnam  2020-06-30  16.64  49.97  4.05  29.26  18.80  10.03   \n",
       "29530  Visakhapatnam  2020-07-01  15.00  66.00  0.40  26.85  14.05   5.20   \n",
       "\n",
       "         CO    SO2     O3  Benzene  Toluene  Xylene   AQI    AQI_Bucket  \n",
       "29526  0.47   8.55  23.30     2.24    12.07    0.73  41.0          Good  \n",
       "29527  0.52  12.72  30.14     0.74     2.21    0.38  70.0  Satisfactory  \n",
       "29528  0.48   8.42  30.96     0.01     0.01    0.00  68.0  Satisfactory  \n",
       "29529  0.52   9.84  28.30     0.00     0.00    0.00  54.0  Satisfactory  \n",
       "29530  0.59   2.10  17.05      NaN      NaN     NaN  50.0          Good  "
      ]
     },
     "execution_count": 65,
     "metadata": {},
     "output_type": "execute_result"
    }
   ],
   "source": [
    "india_air_data.tail()"
   ]
  },
  {
   "cell_type": "code",
   "execution_count": null,
   "id": "88bdc025",
   "metadata": {
    "execution": {
     "iopub.execute_input": "2023-05-10T11:43:45.487459Z",
     "iopub.status.busy": "2023-05-10T11:43:45.486985Z",
     "iopub.status.idle": "2023-05-10T11:43:45.494359Z",
     "shell.execute_reply": "2023-05-10T11:43:45.493089Z"
    },
    "papermill": {
     "duration": 0.03042,
     "end_time": "2023-05-10T11:43:45.496603",
     "exception": false,
     "start_time": "2023-05-10T11:43:45.466183",
     "status": "completed"
    },
    "tags": []
   },
   "outputs": [
    {
     "data": {
      "text/plain": [
       "Index(['City', 'Date', 'PM2.5', 'PM10', 'NO', 'NO2', 'NOx', 'NH3', 'CO', 'SO2',\n",
       "       'O3', 'Benzene', 'Toluene', 'Xylene', 'AQI', 'AQI_Bucket'],\n",
       "      dtype='object')"
      ]
     },
     "execution_count": 66,
     "metadata": {},
     "output_type": "execute_result"
    }
   ],
   "source": [
    "india_air_data.columns"
   ]
  },
  {
   "cell_type": "code",
   "execution_count": null,
   "id": "d368dfed",
   "metadata": {
    "execution": {
     "iopub.execute_input": "2023-05-10T11:43:45.538199Z",
     "iopub.status.busy": "2023-05-10T11:43:45.537318Z",
     "iopub.status.idle": "2023-05-10T11:43:45.552313Z",
     "shell.execute_reply": "2023-05-10T11:43:45.551058Z"
    },
    "papermill": {
     "duration": 0.038775,
     "end_time": "2023-05-10T11:43:45.554849",
     "exception": false,
     "start_time": "2023-05-10T11:43:45.516074",
     "status": "completed"
    },
    "tags": []
   },
   "outputs": [
    {
     "data": {
      "text/plain": [
       "array([nan, 'Poor', 'Very Poor', 'Severe', 'Moderate', 'Satisfactory',\n",
       "       'Good'], dtype=object)"
      ]
     },
     "execution_count": 67,
     "metadata": {},
     "output_type": "execute_result"
    }
   ],
   "source": [
    "india_air_data['AQI_Bucket'].unique()"
   ]
  },
  {
   "cell_type": "code",
   "execution_count": null,
   "id": "44136345",
   "metadata": {
    "execution": {
     "iopub.execute_input": "2023-05-10T11:43:45.596213Z",
     "iopub.status.busy": "2023-05-10T11:43:45.595724Z",
     "iopub.status.idle": "2023-05-10T11:43:45.622899Z",
     "shell.execute_reply": "2023-05-10T11:43:45.621403Z"
    },
    "papermill": {
     "duration": 0.051274,
     "end_time": "2023-05-10T11:43:45.625886",
     "exception": false,
     "start_time": "2023-05-10T11:43:45.574612",
     "status": "completed"
    },
    "tags": []
   },
   "outputs": [
    {
     "name": "stdout",
     "output_type": "stream",
     "text": [
      "<class 'pandas.core.frame.DataFrame'>\n",
      "RangeIndex: 29531 entries, 0 to 29530\n",
      "Data columns (total 16 columns):\n",
      " #   Column      Non-Null Count  Dtype  \n",
      "---  ------      --------------  -----  \n",
      " 0   City        29531 non-null  object \n",
      " 1   Date        29531 non-null  object \n",
      " 2   PM2.5       24933 non-null  float64\n",
      " 3   PM10        18391 non-null  float64\n",
      " 4   NO          25949 non-null  float64\n",
      " 5   NO2         25946 non-null  float64\n",
      " 6   NOx         25346 non-null  float64\n",
      " 7   NH3         19203 non-null  float64\n",
      " 8   CO          27472 non-null  float64\n",
      " 9   SO2         25677 non-null  float64\n",
      " 10  O3          25509 non-null  float64\n",
      " 11  Benzene     23908 non-null  float64\n",
      " 12  Toluene     21490 non-null  float64\n",
      " 13  Xylene      11422 non-null  float64\n",
      " 14  AQI         24850 non-null  float64\n",
      " 15  AQI_Bucket  24850 non-null  object \n",
      "dtypes: float64(13), object(3)\n",
      "memory usage: 3.6+ MB\n"
     ]
    }
   ],
   "source": [
    "#data description \n",
    "india_air_data.info()"
   ]
  },
  {
   "cell_type": "code",
   "execution_count": null,
   "id": "82afc0a9",
   "metadata": {
    "execution": {
     "iopub.execute_input": "2023-05-10T11:43:45.669318Z",
     "iopub.status.busy": "2023-05-10T11:43:45.668481Z",
     "iopub.status.idle": "2023-05-10T11:43:45.678668Z",
     "shell.execute_reply": "2023-05-10T11:43:45.675521Z"
    },
    "papermill": {
     "duration": 0.037085,
     "end_time": "2023-05-10T11:43:45.683649",
     "exception": false,
     "start_time": "2023-05-10T11:43:45.646564",
     "status": "completed"
    },
    "scrolled": true,
    "tags": []
   },
   "outputs": [
    {
     "data": {
      "text/plain": [
       "(29531, 16)"
      ]
     },
     "execution_count": 69,
     "metadata": {},
     "output_type": "execute_result"
    }
   ],
   "source": [
    "india_air_data.shape"
   ]
  },
  {
   "cell_type": "code",
   "execution_count": null,
   "id": "37adace7",
   "metadata": {
    "execution": {
     "iopub.execute_input": "2023-05-10T11:43:45.726413Z",
     "iopub.status.busy": "2023-05-10T11:43:45.725997Z",
     "iopub.status.idle": "2023-05-10T11:43:45.736725Z",
     "shell.execute_reply": "2023-05-10T11:43:45.735432Z"
    },
    "papermill": {
     "duration": 0.034855,
     "end_time": "2023-05-10T11:43:45.739157",
     "exception": false,
     "start_time": "2023-05-10T11:43:45.704302",
     "status": "completed"
    },
    "scrolled": true,
    "tags": []
   },
   "outputs": [
    {
     "name": "stdout",
     "output_type": "stream",
     "text": [
      "26\n",
      "['Ahmedabad' 'Aizawl' 'Amaravati' 'Amritsar' 'Bengaluru' 'Bhopal'\n",
      " 'Brajrajnagar' 'Chandigarh' 'Chennai' 'Coimbatore' 'Delhi' 'Ernakulam'\n",
      " 'Gurugram' 'Guwahati' 'Hyderabad' 'Jaipur' 'Jorapokhar' 'Kochi' 'Kolkata'\n",
      " 'Lucknow' 'Mumbai' 'Patna' 'Shillong' 'Talcher' 'Thiruvananthapuram'\n",
      " 'Visakhapatnam']\n"
     ]
    }
   ],
   "source": [
    "#Basic Stats\n",
    "print(india_air_data['City'].nunique())\n",
    "print(india_air_data['City'].unique())"
   ]
  },
  {
   "cell_type": "code",
   "execution_count": null,
   "id": "51780865",
   "metadata": {
    "execution": {
     "iopub.execute_input": "2023-05-10T11:43:45.781731Z",
     "iopub.status.busy": "2023-05-10T11:43:45.781284Z",
     "iopub.status.idle": "2023-05-10T11:43:45.802114Z",
     "shell.execute_reply": "2023-05-10T11:43:45.800889Z"
    },
    "papermill": {
     "duration": 0.045025,
     "end_time": "2023-05-10T11:43:45.804482",
     "exception": false,
     "start_time": "2023-05-10T11:43:45.759457",
     "status": "completed"
    },
    "tags": []
   },
   "outputs": [
    {
     "data": {
      "text/html": [
       "<div>\n",
       "<style scoped>\n",
       "    .dataframe tbody tr th:only-of-type {\n",
       "        vertical-align: middle;\n",
       "    }\n",
       "\n",
       "    .dataframe tbody tr th {\n",
       "        vertical-align: top;\n",
       "    }\n",
       "\n",
       "    .dataframe thead th {\n",
       "        text-align: right;\n",
       "    }\n",
       "</style>\n",
       "<table border=\"1\" class=\"dataframe\">\n",
       "  <thead>\n",
       "    <tr style=\"text-align: right;\">\n",
       "      <th></th>\n",
       "      <th>City Name</th>\n",
       "      <th>No. of readings</th>\n",
       "      <th>%</th>\n",
       "    </tr>\n",
       "  </thead>\n",
       "  <tbody>\n",
       "    <tr>\n",
       "      <th>0</th>\n",
       "      <td>Lucknow</td>\n",
       "      <td>2009</td>\n",
       "      <td>7.0</td>\n",
       "    </tr>\n",
       "    <tr>\n",
       "      <th>1</th>\n",
       "      <td>Ahmedabad</td>\n",
       "      <td>2009</td>\n",
       "      <td>7.0</td>\n",
       "    </tr>\n",
       "    <tr>\n",
       "      <th>2</th>\n",
       "      <td>Chennai</td>\n",
       "      <td>2009</td>\n",
       "      <td>7.0</td>\n",
       "    </tr>\n",
       "    <tr>\n",
       "      <th>3</th>\n",
       "      <td>Bengaluru</td>\n",
       "      <td>2009</td>\n",
       "      <td>7.0</td>\n",
       "    </tr>\n",
       "    <tr>\n",
       "      <th>4</th>\n",
       "      <td>Mumbai</td>\n",
       "      <td>2009</td>\n",
       "      <td>7.0</td>\n",
       "    </tr>\n",
       "    <tr>\n",
       "      <th>5</th>\n",
       "      <td>Delhi</td>\n",
       "      <td>2009</td>\n",
       "      <td>7.0</td>\n",
       "    </tr>\n",
       "    <tr>\n",
       "      <th>6</th>\n",
       "      <td>Hyderabad</td>\n",
       "      <td>2006</td>\n",
       "      <td>7.0</td>\n",
       "    </tr>\n",
       "    <tr>\n",
       "      <th>7</th>\n",
       "      <td>Patna</td>\n",
       "      <td>1858</td>\n",
       "      <td>6.0</td>\n",
       "    </tr>\n",
       "    <tr>\n",
       "      <th>8</th>\n",
       "      <td>Gurugram</td>\n",
       "      <td>1679</td>\n",
       "      <td>6.0</td>\n",
       "    </tr>\n",
       "    <tr>\n",
       "      <th>9</th>\n",
       "      <td>Visakhapatnam</td>\n",
       "      <td>1462</td>\n",
       "      <td>5.0</td>\n",
       "    </tr>\n",
       "    <tr>\n",
       "      <th>10</th>\n",
       "      <td>Amritsar</td>\n",
       "      <td>1221</td>\n",
       "      <td>4.0</td>\n",
       "    </tr>\n",
       "    <tr>\n",
       "      <th>11</th>\n",
       "      <td>Jorapokhar</td>\n",
       "      <td>1169</td>\n",
       "      <td>4.0</td>\n",
       "    </tr>\n",
       "    <tr>\n",
       "      <th>12</th>\n",
       "      <td>Jaipur</td>\n",
       "      <td>1114</td>\n",
       "      <td>4.0</td>\n",
       "    </tr>\n",
       "    <tr>\n",
       "      <th>13</th>\n",
       "      <td>Thiruvananthapuram</td>\n",
       "      <td>1112</td>\n",
       "      <td>4.0</td>\n",
       "    </tr>\n",
       "    <tr>\n",
       "      <th>14</th>\n",
       "      <td>Amaravati</td>\n",
       "      <td>951</td>\n",
       "      <td>3.0</td>\n",
       "    </tr>\n",
       "    <tr>\n",
       "      <th>15</th>\n",
       "      <td>Brajrajnagar</td>\n",
       "      <td>938</td>\n",
       "      <td>3.0</td>\n",
       "    </tr>\n",
       "    <tr>\n",
       "      <th>16</th>\n",
       "      <td>Talcher</td>\n",
       "      <td>925</td>\n",
       "      <td>3.0</td>\n",
       "    </tr>\n",
       "    <tr>\n",
       "      <th>17</th>\n",
       "      <td>Kolkata</td>\n",
       "      <td>814</td>\n",
       "      <td>3.0</td>\n",
       "    </tr>\n",
       "    <tr>\n",
       "      <th>18</th>\n",
       "      <td>Guwahati</td>\n",
       "      <td>502</td>\n",
       "      <td>2.0</td>\n",
       "    </tr>\n",
       "    <tr>\n",
       "      <th>19</th>\n",
       "      <td>Coimbatore</td>\n",
       "      <td>386</td>\n",
       "      <td>1.0</td>\n",
       "    </tr>\n",
       "    <tr>\n",
       "      <th>20</th>\n",
       "      <td>Shillong</td>\n",
       "      <td>310</td>\n",
       "      <td>1.0</td>\n",
       "    </tr>\n",
       "    <tr>\n",
       "      <th>21</th>\n",
       "      <td>Chandigarh</td>\n",
       "      <td>304</td>\n",
       "      <td>1.0</td>\n",
       "    </tr>\n",
       "    <tr>\n",
       "      <th>22</th>\n",
       "      <td>Bhopal</td>\n",
       "      <td>289</td>\n",
       "      <td>1.0</td>\n",
       "    </tr>\n",
       "    <tr>\n",
       "      <th>23</th>\n",
       "      <td>Kochi</td>\n",
       "      <td>162</td>\n",
       "      <td>1.0</td>\n",
       "    </tr>\n",
       "    <tr>\n",
       "      <th>24</th>\n",
       "      <td>Ernakulam</td>\n",
       "      <td>162</td>\n",
       "      <td>1.0</td>\n",
       "    </tr>\n",
       "    <tr>\n",
       "      <th>25</th>\n",
       "      <td>Aizawl</td>\n",
       "      <td>113</td>\n",
       "      <td>0.0</td>\n",
       "    </tr>\n",
       "  </tbody>\n",
       "</table>\n",
       "</div>"
      ],
      "text/plain": [
       "             City Name  No. of readings    %\n",
       "0              Lucknow             2009  7.0\n",
       "1            Ahmedabad             2009  7.0\n",
       "2              Chennai             2009  7.0\n",
       "3            Bengaluru             2009  7.0\n",
       "4               Mumbai             2009  7.0\n",
       "5                Delhi             2009  7.0\n",
       "6            Hyderabad             2006  7.0\n",
       "7                Patna             1858  6.0\n",
       "8             Gurugram             1679  6.0\n",
       "9        Visakhapatnam             1462  5.0\n",
       "10            Amritsar             1221  4.0\n",
       "11          Jorapokhar             1169  4.0\n",
       "12              Jaipur             1114  4.0\n",
       "13  Thiruvananthapuram             1112  4.0\n",
       "14           Amaravati              951  3.0\n",
       "15        Brajrajnagar              938  3.0\n",
       "16             Talcher              925  3.0\n",
       "17             Kolkata              814  3.0\n",
       "18            Guwahati              502  2.0\n",
       "19          Coimbatore              386  1.0\n",
       "20            Shillong              310  1.0\n",
       "21          Chandigarh              304  1.0\n",
       "22              Bhopal              289  1.0\n",
       "23               Kochi              162  1.0\n",
       "24           Ernakulam              162  1.0\n",
       "25              Aizawl              113  0.0"
      ]
     },
     "execution_count": 71,
     "metadata": {},
     "output_type": "execute_result"
    }
   ],
   "source": [
    "city_readings = india_air_data['City'].value_counts().to_frame().reset_index().rename(columns={'index':'City Name', 'City':'No. of readings'})\n",
    "city_readings['%'] = (100* city_readings['No. of readings']/city_readings['No. of readings'].sum()).round(0)\n",
    "city_readings"
   ]
  },
  {
   "cell_type": "code",
   "execution_count": null,
   "id": "66cb27f9",
   "metadata": {
    "execution": {
     "iopub.execute_input": "2023-05-10T11:43:45.847388Z",
     "iopub.status.busy": "2023-05-10T11:43:45.846909Z",
     "iopub.status.idle": "2023-05-10T11:43:45.876551Z",
     "shell.execute_reply": "2023-05-10T11:43:45.875277Z"
    },
    "papermill": {
     "duration": 0.054171,
     "end_time": "2023-05-10T11:43:45.879216",
     "exception": false,
     "start_time": "2023-05-10T11:43:45.825045",
     "status": "completed"
    },
    "scrolled": true,
    "tags": []
   },
   "outputs": [
    {
     "data": {
      "text/html": [
       "<div>\n",
       "<style scoped>\n",
       "    .dataframe tbody tr th:only-of-type {\n",
       "        vertical-align: middle;\n",
       "    }\n",
       "\n",
       "    .dataframe tbody tr th {\n",
       "        vertical-align: top;\n",
       "    }\n",
       "\n",
       "    .dataframe thead th {\n",
       "        text-align: right;\n",
       "    }\n",
       "</style>\n",
       "<table border=\"1\" class=\"dataframe\">\n",
       "  <thead>\n",
       "    <tr style=\"text-align: right;\">\n",
       "      <th></th>\n",
       "      <th>Year</th>\n",
       "      <th>No. of readings</th>\n",
       "      <th>%</th>\n",
       "    </tr>\n",
       "  </thead>\n",
       "  <tbody>\n",
       "    <tr>\n",
       "      <th>0</th>\n",
       "      <td>2019</td>\n",
       "      <td>7446</td>\n",
       "      <td>25.0</td>\n",
       "    </tr>\n",
       "    <tr>\n",
       "      <th>1</th>\n",
       "      <td>2018</td>\n",
       "      <td>6471</td>\n",
       "      <td>22.0</td>\n",
       "    </tr>\n",
       "    <tr>\n",
       "      <th>2</th>\n",
       "      <td>2017</td>\n",
       "      <td>4689</td>\n",
       "      <td>16.0</td>\n",
       "    </tr>\n",
       "    <tr>\n",
       "      <th>3</th>\n",
       "      <td>2020</td>\n",
       "      <td>4646</td>\n",
       "      <td>16.0</td>\n",
       "    </tr>\n",
       "    <tr>\n",
       "      <th>4</th>\n",
       "      <td>2016</td>\n",
       "      <td>3478</td>\n",
       "      <td>12.0</td>\n",
       "    </tr>\n",
       "    <tr>\n",
       "      <th>5</th>\n",
       "      <td>2015</td>\n",
       "      <td>2801</td>\n",
       "      <td>9.0</td>\n",
       "    </tr>\n",
       "  </tbody>\n",
       "</table>\n",
       "</div>"
      ],
      "text/plain": [
       "   Year  No. of readings     %\n",
       "0  2019             7446  25.0\n",
       "1  2018             6471  22.0\n",
       "2  2017             4689  16.0\n",
       "3  2020             4646  16.0\n",
       "4  2016             3478  12.0\n",
       "5  2015             2801   9.0"
      ]
     },
     "execution_count": 72,
     "metadata": {},
     "output_type": "execute_result"
    }
   ],
   "source": [
    "#Number of readings per year \n",
    "india_air_data['Date'] = pd.to_datetime(india_air_data['Date'])\n",
    "annual_readings = india_air_data.Date.dt.year.value_counts().to_frame().reset_index().rename(columns={'index':'Year', 'Date':'No. of readings'})\n",
    "annual_readings['%'] = (100* annual_readings['No. of readings']/annual_readings['No. of readings'].sum()).round(0)\n",
    "annual_readings\n"
   ]
  },
  {
   "cell_type": "code",
   "execution_count": null,
   "id": "682a3d17",
   "metadata": {
    "execution": {
     "iopub.execute_input": "2023-05-10T11:43:45.922843Z",
     "iopub.status.busy": "2023-05-10T11:43:45.922445Z",
     "iopub.status.idle": "2023-05-10T11:43:45.997568Z",
     "shell.execute_reply": "2023-05-10T11:43:45.996367Z"
    },
    "papermill": {
     "duration": 0.100306,
     "end_time": "2023-05-10T11:43:46.000494",
     "exception": false,
     "start_time": "2023-05-10T11:43:45.900188",
     "status": "completed"
    },
    "tags": []
   },
   "outputs": [
    {
     "data": {
      "text/html": [
       "<div>\n",
       "<style scoped>\n",
       "    .dataframe tbody tr th:only-of-type {\n",
       "        vertical-align: middle;\n",
       "    }\n",
       "\n",
       "    .dataframe tbody tr th {\n",
       "        vertical-align: top;\n",
       "    }\n",
       "\n",
       "    .dataframe thead th {\n",
       "        text-align: right;\n",
       "    }\n",
       "</style>\n",
       "<table border=\"1\" class=\"dataframe\">\n",
       "  <thead>\n",
       "    <tr style=\"text-align: right;\">\n",
       "      <th></th>\n",
       "      <th>count</th>\n",
       "      <th>mean</th>\n",
       "      <th>std</th>\n",
       "      <th>min</th>\n",
       "      <th>25%</th>\n",
       "      <th>50%</th>\n",
       "      <th>75%</th>\n",
       "      <th>max</th>\n",
       "    </tr>\n",
       "  </thead>\n",
       "  <tbody>\n",
       "    <tr>\n",
       "      <th>PM2.5</th>\n",
       "      <td>24933.0</td>\n",
       "      <td>67.450578</td>\n",
       "      <td>64.661449</td>\n",
       "      <td>0.04</td>\n",
       "      <td>28.820</td>\n",
       "      <td>48.57</td>\n",
       "      <td>80.5900</td>\n",
       "      <td>949.99</td>\n",
       "    </tr>\n",
       "    <tr>\n",
       "      <th>PM10</th>\n",
       "      <td>18391.0</td>\n",
       "      <td>118.127103</td>\n",
       "      <td>90.605110</td>\n",
       "      <td>0.01</td>\n",
       "      <td>56.255</td>\n",
       "      <td>95.68</td>\n",
       "      <td>149.7450</td>\n",
       "      <td>1000.00</td>\n",
       "    </tr>\n",
       "    <tr>\n",
       "      <th>NO</th>\n",
       "      <td>25949.0</td>\n",
       "      <td>17.574730</td>\n",
       "      <td>22.785846</td>\n",
       "      <td>0.02</td>\n",
       "      <td>5.630</td>\n",
       "      <td>9.89</td>\n",
       "      <td>19.9500</td>\n",
       "      <td>390.68</td>\n",
       "    </tr>\n",
       "    <tr>\n",
       "      <th>NO2</th>\n",
       "      <td>25946.0</td>\n",
       "      <td>28.560659</td>\n",
       "      <td>24.474746</td>\n",
       "      <td>0.01</td>\n",
       "      <td>11.750</td>\n",
       "      <td>21.69</td>\n",
       "      <td>37.6200</td>\n",
       "      <td>362.21</td>\n",
       "    </tr>\n",
       "    <tr>\n",
       "      <th>NOx</th>\n",
       "      <td>25346.0</td>\n",
       "      <td>32.309123</td>\n",
       "      <td>31.646011</td>\n",
       "      <td>0.00</td>\n",
       "      <td>12.820</td>\n",
       "      <td>23.52</td>\n",
       "      <td>40.1275</td>\n",
       "      <td>467.63</td>\n",
       "    </tr>\n",
       "    <tr>\n",
       "      <th>NH3</th>\n",
       "      <td>19203.0</td>\n",
       "      <td>23.483476</td>\n",
       "      <td>25.684275</td>\n",
       "      <td>0.01</td>\n",
       "      <td>8.580</td>\n",
       "      <td>15.85</td>\n",
       "      <td>30.0200</td>\n",
       "      <td>352.89</td>\n",
       "    </tr>\n",
       "    <tr>\n",
       "      <th>CO</th>\n",
       "      <td>27472.0</td>\n",
       "      <td>2.248598</td>\n",
       "      <td>6.962884</td>\n",
       "      <td>0.00</td>\n",
       "      <td>0.510</td>\n",
       "      <td>0.89</td>\n",
       "      <td>1.4500</td>\n",
       "      <td>175.81</td>\n",
       "    </tr>\n",
       "    <tr>\n",
       "      <th>SO2</th>\n",
       "      <td>25677.0</td>\n",
       "      <td>14.531977</td>\n",
       "      <td>18.133775</td>\n",
       "      <td>0.01</td>\n",
       "      <td>5.670</td>\n",
       "      <td>9.16</td>\n",
       "      <td>15.2200</td>\n",
       "      <td>193.86</td>\n",
       "    </tr>\n",
       "    <tr>\n",
       "      <th>O3</th>\n",
       "      <td>25509.0</td>\n",
       "      <td>34.491430</td>\n",
       "      <td>21.694928</td>\n",
       "      <td>0.01</td>\n",
       "      <td>18.860</td>\n",
       "      <td>30.84</td>\n",
       "      <td>45.5700</td>\n",
       "      <td>257.73</td>\n",
       "    </tr>\n",
       "    <tr>\n",
       "      <th>Benzene</th>\n",
       "      <td>23908.0</td>\n",
       "      <td>3.280840</td>\n",
       "      <td>15.811136</td>\n",
       "      <td>0.00</td>\n",
       "      <td>0.120</td>\n",
       "      <td>1.07</td>\n",
       "      <td>3.0800</td>\n",
       "      <td>455.03</td>\n",
       "    </tr>\n",
       "    <tr>\n",
       "      <th>Toluene</th>\n",
       "      <td>21490.0</td>\n",
       "      <td>8.700972</td>\n",
       "      <td>19.969164</td>\n",
       "      <td>0.00</td>\n",
       "      <td>0.600</td>\n",
       "      <td>2.97</td>\n",
       "      <td>9.1500</td>\n",
       "      <td>454.85</td>\n",
       "    </tr>\n",
       "    <tr>\n",
       "      <th>Xylene</th>\n",
       "      <td>11422.0</td>\n",
       "      <td>3.070128</td>\n",
       "      <td>6.323247</td>\n",
       "      <td>0.00</td>\n",
       "      <td>0.140</td>\n",
       "      <td>0.98</td>\n",
       "      <td>3.3500</td>\n",
       "      <td>170.37</td>\n",
       "    </tr>\n",
       "    <tr>\n",
       "      <th>AQI</th>\n",
       "      <td>24850.0</td>\n",
       "      <td>166.463581</td>\n",
       "      <td>140.696585</td>\n",
       "      <td>13.00</td>\n",
       "      <td>81.000</td>\n",
       "      <td>118.00</td>\n",
       "      <td>208.0000</td>\n",
       "      <td>2049.00</td>\n",
       "    </tr>\n",
       "  </tbody>\n",
       "</table>\n",
       "</div>"
      ],
      "text/plain": [
       "           count        mean         std    min     25%     50%       75%  \\\n",
       "PM2.5    24933.0   67.450578   64.661449   0.04  28.820   48.57   80.5900   \n",
       "PM10     18391.0  118.127103   90.605110   0.01  56.255   95.68  149.7450   \n",
       "NO       25949.0   17.574730   22.785846   0.02   5.630    9.89   19.9500   \n",
       "NO2      25946.0   28.560659   24.474746   0.01  11.750   21.69   37.6200   \n",
       "NOx      25346.0   32.309123   31.646011   0.00  12.820   23.52   40.1275   \n",
       "NH3      19203.0   23.483476   25.684275   0.01   8.580   15.85   30.0200   \n",
       "CO       27472.0    2.248598    6.962884   0.00   0.510    0.89    1.4500   \n",
       "SO2      25677.0   14.531977   18.133775   0.01   5.670    9.16   15.2200   \n",
       "O3       25509.0   34.491430   21.694928   0.01  18.860   30.84   45.5700   \n",
       "Benzene  23908.0    3.280840   15.811136   0.00   0.120    1.07    3.0800   \n",
       "Toluene  21490.0    8.700972   19.969164   0.00   0.600    2.97    9.1500   \n",
       "Xylene   11422.0    3.070128    6.323247   0.00   0.140    0.98    3.3500   \n",
       "AQI      24850.0  166.463581  140.696585  13.00  81.000  118.00  208.0000   \n",
       "\n",
       "             max  \n",
       "PM2.5     949.99  \n",
       "PM10     1000.00  \n",
       "NO        390.68  \n",
       "NO2       362.21  \n",
       "NOx       467.63  \n",
       "NH3       352.89  \n",
       "CO        175.81  \n",
       "SO2       193.86  \n",
       "O3        257.73  \n",
       "Benzene   455.03  \n",
       "Toluene   454.85  \n",
       "Xylene    170.37  \n",
       "AQI      2049.00  "
      ]
     },
     "execution_count": 73,
     "metadata": {},
     "output_type": "execute_result"
    }
   ],
   "source": [
    "#general trend for numeric data\n",
    "pollutant_columns = india_air_data[['PM2.5', 'PM10', 'NO', 'NO2', 'NOx', 'NH3', 'CO', 'SO2','O3', 'Benzene', 'Toluene', 'Xylene', 'AQI']]\n",
    "pollutant_columns.describe().T"
   ]
  },
  {
   "cell_type": "code",
   "execution_count": null,
   "id": "a1ddf83e",
   "metadata": {
    "execution": {
     "iopub.execute_input": "2023-05-10T11:43:46.088471Z",
     "iopub.status.busy": "2023-05-10T11:43:46.088026Z",
     "iopub.status.idle": "2023-05-10T11:43:46.102975Z",
     "shell.execute_reply": "2023-05-10T11:43:46.101495Z"
    },
    "papermill": {
     "duration": 0.040137,
     "end_time": "2023-05-10T11:43:46.105558",
     "exception": false,
     "start_time": "2023-05-10T11:43:46.065421",
     "status": "completed"
    },
    "tags": []
   },
   "outputs": [
    {
     "name": "stdout",
     "output_type": "stream",
     "text": [
      "City              0\n",
      "Date              0\n",
      "PM2.5          4598\n",
      "PM10          11140\n",
      "NO             3582\n",
      "NO2            3585\n",
      "NOx            4185\n",
      "NH3           10328\n",
      "CO             2059\n",
      "SO2            3854\n",
      "O3             4022\n",
      "Benzene        5623\n",
      "Toluene        8041\n",
      "Xylene        18109\n",
      "AQI            4681\n",
      "AQI_Bucket     4681\n",
      "dtype: int64\n",
      "Overall percentage of missing values:  18.73\n"
     ]
    }
   ],
   "source": [
    "#clean data \n",
    "missing_values_count = india_air_data.isnull().sum()\n",
    "total_cells = np.product(india_air_data.shape)\n",
    "total_missing = missing_values_count.sum()\n",
    "percent_missing_vals = ((total_missing/total_cells)*100).round(2)\n",
    "print(missing_values_count[:])\n",
    "print('Overall percentage of missing values: ', percent_missing_vals)"
   ]
  },
  {
   "cell_type": "code",
   "execution_count": null,
   "id": "dee7c296",
   "metadata": {
    "execution": {
     "iopub.execute_input": "2023-05-10T11:43:46.193707Z",
     "iopub.status.busy": "2023-05-10T11:43:46.192879Z",
     "iopub.status.idle": "2023-05-10T11:43:46.214449Z",
     "shell.execute_reply": "2023-05-10T11:43:46.212993Z"
    },
    "papermill": {
     "duration": 0.047057,
     "end_time": "2023-05-10T11:43:46.217605",
     "exception": false,
     "start_time": "2023-05-10T11:43:46.170548",
     "status": "completed"
    },
    "tags": []
   },
   "outputs": [],
   "source": [
    "#Replace the missing values for numerical columns with mean\n",
    "\n",
    "india_air_data['PM2.5'].fillna(india_air_data['PM2.5'].mean().round(2),inplace = True )\n",
    "india_air_data['PM10'].fillna(india_air_data['PM10'].mean().round(2),inplace = True )\n",
    "india_air_data['NO'].fillna(india_air_data['NO'].mean().round(2),inplace = True )\n",
    "india_air_data['NO2'].fillna(india_air_data['NO2'].mean().round(2),inplace = True )\n",
    "india_air_data['NOx'].fillna(india_air_data['NOx'].mean().round(2),inplace = True )\n",
    "india_air_data['NH3'].fillna(india_air_data['NH3'].mean().round(2),inplace = True )\n",
    "india_air_data['CO'].fillna(india_air_data['CO'].mean().round(2),inplace = True )\n",
    "india_air_data['SO2'].fillna(india_air_data['SO2'].mean().round(2),inplace = True )\n",
    "india_air_data['O3'].fillna(india_air_data['O3'].mean().round(2),inplace = True )\n",
    "india_air_data['Benzene'].fillna(india_air_data['Benzene'].mean().round(2),inplace = True )\n",
    "india_air_data['Toluene'].fillna(india_air_data['Toluene'].mean().round(2),inplace = True )\n",
    "india_air_data['Xylene'].fillna(india_air_data['Xylene'].mean().round(2),inplace = True )\n",
    "india_air_data['AQI'].fillna(india_air_data['AQI'].mean().round(2),inplace = True )"
   ]
  },
  {
   "cell_type": "code",
   "execution_count": null,
   "id": "a965dfdb",
   "metadata": {
    "execution": {
     "iopub.execute_input": "2023-05-10T11:43:46.261663Z",
     "iopub.status.busy": "2023-05-10T11:43:46.261253Z",
     "iopub.status.idle": "2023-05-10T11:43:46.288508Z",
     "shell.execute_reply": "2023-05-10T11:43:46.287186Z"
    },
    "papermill": {
     "duration": 0.052525,
     "end_time": "2023-05-10T11:43:46.291166",
     "exception": false,
     "start_time": "2023-05-10T11:43:46.238641",
     "status": "completed"
    },
    "tags": []
   },
   "outputs": [
    {
     "data": {
      "text/html": [
       "<div>\n",
       "<style scoped>\n",
       "    .dataframe tbody tr th:only-of-type {\n",
       "        vertical-align: middle;\n",
       "    }\n",
       "\n",
       "    .dataframe tbody tr th {\n",
       "        vertical-align: top;\n",
       "    }\n",
       "\n",
       "    .dataframe thead th {\n",
       "        text-align: right;\n",
       "    }\n",
       "</style>\n",
       "<table border=\"1\" class=\"dataframe\">\n",
       "  <thead>\n",
       "    <tr style=\"text-align: right;\">\n",
       "      <th></th>\n",
       "      <th>City</th>\n",
       "      <th>Date</th>\n",
       "      <th>PM2.5</th>\n",
       "      <th>PM10</th>\n",
       "      <th>NO</th>\n",
       "      <th>NO2</th>\n",
       "      <th>NOx</th>\n",
       "      <th>NH3</th>\n",
       "      <th>CO</th>\n",
       "      <th>SO2</th>\n",
       "      <th>O3</th>\n",
       "      <th>Benzene</th>\n",
       "      <th>Toluene</th>\n",
       "      <th>Xylene</th>\n",
       "      <th>AQI</th>\n",
       "      <th>AQI_Bucket</th>\n",
       "    </tr>\n",
       "  </thead>\n",
       "  <tbody>\n",
       "    <tr>\n",
       "      <th>0</th>\n",
       "      <td>Ahmedabad</td>\n",
       "      <td>2015-01-01</td>\n",
       "      <td>67.45</td>\n",
       "      <td>118.13</td>\n",
       "      <td>0.92</td>\n",
       "      <td>18.22</td>\n",
       "      <td>17.15</td>\n",
       "      <td>23.48</td>\n",
       "      <td>0.92</td>\n",
       "      <td>27.64</td>\n",
       "      <td>133.36</td>\n",
       "      <td>0.00</td>\n",
       "      <td>0.02</td>\n",
       "      <td>0.00</td>\n",
       "      <td>166.46</td>\n",
       "      <td>NaN</td>\n",
       "    </tr>\n",
       "    <tr>\n",
       "      <th>1</th>\n",
       "      <td>Ahmedabad</td>\n",
       "      <td>2015-01-02</td>\n",
       "      <td>67.45</td>\n",
       "      <td>118.13</td>\n",
       "      <td>0.97</td>\n",
       "      <td>15.69</td>\n",
       "      <td>16.46</td>\n",
       "      <td>23.48</td>\n",
       "      <td>0.97</td>\n",
       "      <td>24.55</td>\n",
       "      <td>34.06</td>\n",
       "      <td>3.68</td>\n",
       "      <td>5.50</td>\n",
       "      <td>3.77</td>\n",
       "      <td>166.46</td>\n",
       "      <td>NaN</td>\n",
       "    </tr>\n",
       "    <tr>\n",
       "      <th>2</th>\n",
       "      <td>Ahmedabad</td>\n",
       "      <td>2015-01-03</td>\n",
       "      <td>67.45</td>\n",
       "      <td>118.13</td>\n",
       "      <td>17.40</td>\n",
       "      <td>19.30</td>\n",
       "      <td>29.70</td>\n",
       "      <td>23.48</td>\n",
       "      <td>17.40</td>\n",
       "      <td>29.07</td>\n",
       "      <td>30.70</td>\n",
       "      <td>6.80</td>\n",
       "      <td>16.40</td>\n",
       "      <td>2.25</td>\n",
       "      <td>166.46</td>\n",
       "      <td>NaN</td>\n",
       "    </tr>\n",
       "    <tr>\n",
       "      <th>3</th>\n",
       "      <td>Ahmedabad</td>\n",
       "      <td>2015-01-04</td>\n",
       "      <td>67.45</td>\n",
       "      <td>118.13</td>\n",
       "      <td>1.70</td>\n",
       "      <td>18.48</td>\n",
       "      <td>17.97</td>\n",
       "      <td>23.48</td>\n",
       "      <td>1.70</td>\n",
       "      <td>18.59</td>\n",
       "      <td>36.08</td>\n",
       "      <td>4.43</td>\n",
       "      <td>10.14</td>\n",
       "      <td>1.00</td>\n",
       "      <td>166.46</td>\n",
       "      <td>NaN</td>\n",
       "    </tr>\n",
       "    <tr>\n",
       "      <th>4</th>\n",
       "      <td>Ahmedabad</td>\n",
       "      <td>2015-01-05</td>\n",
       "      <td>67.45</td>\n",
       "      <td>118.13</td>\n",
       "      <td>22.10</td>\n",
       "      <td>21.42</td>\n",
       "      <td>37.76</td>\n",
       "      <td>23.48</td>\n",
       "      <td>22.10</td>\n",
       "      <td>39.33</td>\n",
       "      <td>39.31</td>\n",
       "      <td>7.01</td>\n",
       "      <td>18.89</td>\n",
       "      <td>2.78</td>\n",
       "      <td>166.46</td>\n",
       "      <td>NaN</td>\n",
       "    </tr>\n",
       "  </tbody>\n",
       "</table>\n",
       "</div>"
      ],
      "text/plain": [
       "        City       Date  PM2.5    PM10     NO    NO2    NOx    NH3     CO  \\\n",
       "0  Ahmedabad 2015-01-01  67.45  118.13   0.92  18.22  17.15  23.48   0.92   \n",
       "1  Ahmedabad 2015-01-02  67.45  118.13   0.97  15.69  16.46  23.48   0.97   \n",
       "2  Ahmedabad 2015-01-03  67.45  118.13  17.40  19.30  29.70  23.48  17.40   \n",
       "3  Ahmedabad 2015-01-04  67.45  118.13   1.70  18.48  17.97  23.48   1.70   \n",
       "4  Ahmedabad 2015-01-05  67.45  118.13  22.10  21.42  37.76  23.48  22.10   \n",
       "\n",
       "     SO2      O3  Benzene  Toluene  Xylene     AQI AQI_Bucket  \n",
       "0  27.64  133.36     0.00     0.02    0.00  166.46        NaN  \n",
       "1  24.55   34.06     3.68     5.50    3.77  166.46        NaN  \n",
       "2  29.07   30.70     6.80    16.40    2.25  166.46        NaN  \n",
       "3  18.59   36.08     4.43    10.14    1.00  166.46        NaN  \n",
       "4  39.33   39.31     7.01    18.89    2.78  166.46        NaN  "
      ]
     },
     "execution_count": 76,
     "metadata": {},
     "output_type": "execute_result"
    }
   ],
   "source": [
    "india_air_data.head()"
   ]
  },
  {
   "cell_type": "code",
   "execution_count": null,
   "id": "bd6a2e23",
   "metadata": {
    "execution": {
     "iopub.execute_input": "2023-05-10T11:43:46.379365Z",
     "iopub.status.busy": "2023-05-10T11:43:46.378876Z",
     "iopub.status.idle": "2023-05-10T11:43:46.388359Z",
     "shell.execute_reply": "2023-05-10T11:43:46.387301Z"
    },
    "papermill": {
     "duration": 0.035235,
     "end_time": "2023-05-10T11:43:46.390893",
     "exception": false,
     "start_time": "2023-05-10T11:43:46.355658",
     "status": "completed"
    },
    "tags": []
   },
   "outputs": [
    {
     "data": {
      "text/plain": [
       "4681"
      ]
     },
     "execution_count": 77,
     "metadata": {},
     "output_type": "execute_result"
    }
   ],
   "source": [
    "india_air_data['AQI_Bucket'].isnull().sum()"
   ]
  },
  {
   "attachments": {},
   "cell_type": "markdown",
   "id": "921b9757",
   "metadata": {
    "papermill": {
     "duration": 0.02194,
     "end_time": "2023-05-10T11:43:46.434602",
     "exception": false,
     "start_time": "2023-05-10T11:43:46.412662",
     "status": "completed"
    },
    "tags": []
   },
   "source": [
    "In total, there are 4,681 missing descriptions in the 'AQI Bucket' column. Let's populate the missing rows in accordance with the score system implemented. \n",
    "\n",
    "AQI Score System: -\n",
    "* Good (0-50)\n",
    "* Satisfactory (51-100)\n",
    "* Moderate (101-200)\n",
    "* Poor (201-300)\n",
    "* Very poor (301-400)\n",
    "* Severe (401-500)"
   ]
  },
  {
   "cell_type": "code",
   "execution_count": null,
   "id": "56dca27c",
   "metadata": {
    "execution": {
     "iopub.execute_input": "2023-05-10T11:43:46.480196Z",
     "iopub.status.busy": "2023-05-10T11:43:46.479443Z",
     "iopub.status.idle": "2023-05-10T11:43:46.500306Z",
     "shell.execute_reply": "2023-05-10T11:43:46.499017Z"
    },
    "papermill": {
     "duration": 0.046539,
     "end_time": "2023-05-10T11:43:46.503013",
     "exception": false,
     "start_time": "2023-05-10T11:43:46.456474",
     "status": "completed"
    },
    "tags": []
   },
   "outputs": [],
   "source": [
    "india_air_data.loc[(india_air_data['AQI'] >= 0) & (india_air_data['AQI'] <= 50), 'AQI_Bucket'] = 'Good'\n",
    "india_air_data.loc[(india_air_data['AQI'] >= 51) & (india_air_data['AQI'] <= 100), 'AQI_Bucket'] = 'Satisfactory'\n",
    "india_air_data.loc[(india_air_data['AQI'] >= 101) & (india_air_data['AQI'] <= 200), 'AQI_Bucket'] = 'Moderate'\n",
    "india_air_data.loc[(india_air_data['AQI'] >= 201) & (india_air_data['AQI'] <= 300), 'AQI_Bucket'] = 'Poor'\n",
    "india_air_data.loc[(india_air_data['AQI'] >= 301) & (india_air_data['AQI'] <= 400), 'AQI_Bucket'] = 'Very poor'\n",
    "india_air_data.loc[(india_air_data['AQI'] >= 401) & (india_air_data['AQI'] <= 500), 'AQI_Bucket'] = 'Severe'"
   ]
  },
  {
   "cell_type": "code",
   "execution_count": null,
   "id": "c94126b4",
   "metadata": {
    "execution": {
     "iopub.execute_input": "2023-05-10T11:43:46.547685Z",
     "iopub.status.busy": "2023-05-10T11:43:46.547237Z",
     "iopub.status.idle": "2023-05-10T11:43:46.580761Z",
     "shell.execute_reply": "2023-05-10T11:43:46.579789Z"
    },
    "papermill": {
     "duration": 0.058396,
     "end_time": "2023-05-10T11:43:46.582968",
     "exception": false,
     "start_time": "2023-05-10T11:43:46.524572",
     "status": "completed"
    },
    "tags": []
   },
   "outputs": [
    {
     "data": {
      "text/html": [
       "<div>\n",
       "<style scoped>\n",
       "    .dataframe tbody tr th:only-of-type {\n",
       "        vertical-align: middle;\n",
       "    }\n",
       "\n",
       "    .dataframe tbody tr th {\n",
       "        vertical-align: top;\n",
       "    }\n",
       "\n",
       "    .dataframe thead th {\n",
       "        text-align: right;\n",
       "    }\n",
       "</style>\n",
       "<table border=\"1\" class=\"dataframe\">\n",
       "  <thead>\n",
       "    <tr style=\"text-align: right;\">\n",
       "      <th></th>\n",
       "      <th>City</th>\n",
       "      <th>Date</th>\n",
       "      <th>PM2.5</th>\n",
       "      <th>PM10</th>\n",
       "      <th>NO</th>\n",
       "      <th>NO2</th>\n",
       "      <th>NOx</th>\n",
       "      <th>NH3</th>\n",
       "      <th>CO</th>\n",
       "      <th>SO2</th>\n",
       "      <th>O3</th>\n",
       "      <th>Benzene</th>\n",
       "      <th>Toluene</th>\n",
       "      <th>Xylene</th>\n",
       "      <th>AQI</th>\n",
       "      <th>AQI_Bucket</th>\n",
       "    </tr>\n",
       "  </thead>\n",
       "  <tbody>\n",
       "    <tr>\n",
       "      <th>0</th>\n",
       "      <td>Ahmedabad</td>\n",
       "      <td>2015-01-01</td>\n",
       "      <td>67.45</td>\n",
       "      <td>118.13</td>\n",
       "      <td>0.92</td>\n",
       "      <td>18.22</td>\n",
       "      <td>17.15</td>\n",
       "      <td>23.48</td>\n",
       "      <td>0.92</td>\n",
       "      <td>27.64</td>\n",
       "      <td>133.36</td>\n",
       "      <td>0.00</td>\n",
       "      <td>0.02</td>\n",
       "      <td>0.00</td>\n",
       "      <td>166.46</td>\n",
       "      <td>Moderate</td>\n",
       "    </tr>\n",
       "    <tr>\n",
       "      <th>1</th>\n",
       "      <td>Ahmedabad</td>\n",
       "      <td>2015-01-02</td>\n",
       "      <td>67.45</td>\n",
       "      <td>118.13</td>\n",
       "      <td>0.97</td>\n",
       "      <td>15.69</td>\n",
       "      <td>16.46</td>\n",
       "      <td>23.48</td>\n",
       "      <td>0.97</td>\n",
       "      <td>24.55</td>\n",
       "      <td>34.06</td>\n",
       "      <td>3.68</td>\n",
       "      <td>5.50</td>\n",
       "      <td>3.77</td>\n",
       "      <td>166.46</td>\n",
       "      <td>Moderate</td>\n",
       "    </tr>\n",
       "    <tr>\n",
       "      <th>2</th>\n",
       "      <td>Ahmedabad</td>\n",
       "      <td>2015-01-03</td>\n",
       "      <td>67.45</td>\n",
       "      <td>118.13</td>\n",
       "      <td>17.40</td>\n",
       "      <td>19.30</td>\n",
       "      <td>29.70</td>\n",
       "      <td>23.48</td>\n",
       "      <td>17.40</td>\n",
       "      <td>29.07</td>\n",
       "      <td>30.70</td>\n",
       "      <td>6.80</td>\n",
       "      <td>16.40</td>\n",
       "      <td>2.25</td>\n",
       "      <td>166.46</td>\n",
       "      <td>Moderate</td>\n",
       "    </tr>\n",
       "    <tr>\n",
       "      <th>3</th>\n",
       "      <td>Ahmedabad</td>\n",
       "      <td>2015-01-04</td>\n",
       "      <td>67.45</td>\n",
       "      <td>118.13</td>\n",
       "      <td>1.70</td>\n",
       "      <td>18.48</td>\n",
       "      <td>17.97</td>\n",
       "      <td>23.48</td>\n",
       "      <td>1.70</td>\n",
       "      <td>18.59</td>\n",
       "      <td>36.08</td>\n",
       "      <td>4.43</td>\n",
       "      <td>10.14</td>\n",
       "      <td>1.00</td>\n",
       "      <td>166.46</td>\n",
       "      <td>Moderate</td>\n",
       "    </tr>\n",
       "    <tr>\n",
       "      <th>4</th>\n",
       "      <td>Ahmedabad</td>\n",
       "      <td>2015-01-05</td>\n",
       "      <td>67.45</td>\n",
       "      <td>118.13</td>\n",
       "      <td>22.10</td>\n",
       "      <td>21.42</td>\n",
       "      <td>37.76</td>\n",
       "      <td>23.48</td>\n",
       "      <td>22.10</td>\n",
       "      <td>39.33</td>\n",
       "      <td>39.31</td>\n",
       "      <td>7.01</td>\n",
       "      <td>18.89</td>\n",
       "      <td>2.78</td>\n",
       "      <td>166.46</td>\n",
       "      <td>Moderate</td>\n",
       "    </tr>\n",
       "    <tr>\n",
       "      <th>...</th>\n",
       "      <td>...</td>\n",
       "      <td>...</td>\n",
       "      <td>...</td>\n",
       "      <td>...</td>\n",
       "      <td>...</td>\n",
       "      <td>...</td>\n",
       "      <td>...</td>\n",
       "      <td>...</td>\n",
       "      <td>...</td>\n",
       "      <td>...</td>\n",
       "      <td>...</td>\n",
       "      <td>...</td>\n",
       "      <td>...</td>\n",
       "      <td>...</td>\n",
       "      <td>...</td>\n",
       "      <td>...</td>\n",
       "    </tr>\n",
       "    <tr>\n",
       "      <th>29526</th>\n",
       "      <td>Visakhapatnam</td>\n",
       "      <td>2020-06-27</td>\n",
       "      <td>15.02</td>\n",
       "      <td>50.94</td>\n",
       "      <td>7.68</td>\n",
       "      <td>25.06</td>\n",
       "      <td>19.54</td>\n",
       "      <td>12.47</td>\n",
       "      <td>0.47</td>\n",
       "      <td>8.55</td>\n",
       "      <td>23.30</td>\n",
       "      <td>2.24</td>\n",
       "      <td>12.07</td>\n",
       "      <td>0.73</td>\n",
       "      <td>41.00</td>\n",
       "      <td>Good</td>\n",
       "    </tr>\n",
       "    <tr>\n",
       "      <th>29527</th>\n",
       "      <td>Visakhapatnam</td>\n",
       "      <td>2020-06-28</td>\n",
       "      <td>24.38</td>\n",
       "      <td>74.09</td>\n",
       "      <td>3.42</td>\n",
       "      <td>26.06</td>\n",
       "      <td>16.53</td>\n",
       "      <td>11.99</td>\n",
       "      <td>0.52</td>\n",
       "      <td>12.72</td>\n",
       "      <td>30.14</td>\n",
       "      <td>0.74</td>\n",
       "      <td>2.21</td>\n",
       "      <td>0.38</td>\n",
       "      <td>70.00</td>\n",
       "      <td>Satisfactory</td>\n",
       "    </tr>\n",
       "    <tr>\n",
       "      <th>29528</th>\n",
       "      <td>Visakhapatnam</td>\n",
       "      <td>2020-06-29</td>\n",
       "      <td>22.91</td>\n",
       "      <td>65.73</td>\n",
       "      <td>3.45</td>\n",
       "      <td>29.53</td>\n",
       "      <td>18.33</td>\n",
       "      <td>10.71</td>\n",
       "      <td>0.48</td>\n",
       "      <td>8.42</td>\n",
       "      <td>30.96</td>\n",
       "      <td>0.01</td>\n",
       "      <td>0.01</td>\n",
       "      <td>0.00</td>\n",
       "      <td>68.00</td>\n",
       "      <td>Satisfactory</td>\n",
       "    </tr>\n",
       "    <tr>\n",
       "      <th>29529</th>\n",
       "      <td>Visakhapatnam</td>\n",
       "      <td>2020-06-30</td>\n",
       "      <td>16.64</td>\n",
       "      <td>49.97</td>\n",
       "      <td>4.05</td>\n",
       "      <td>29.26</td>\n",
       "      <td>18.80</td>\n",
       "      <td>10.03</td>\n",
       "      <td>0.52</td>\n",
       "      <td>9.84</td>\n",
       "      <td>28.30</td>\n",
       "      <td>0.00</td>\n",
       "      <td>0.00</td>\n",
       "      <td>0.00</td>\n",
       "      <td>54.00</td>\n",
       "      <td>Satisfactory</td>\n",
       "    </tr>\n",
       "    <tr>\n",
       "      <th>29530</th>\n",
       "      <td>Visakhapatnam</td>\n",
       "      <td>2020-07-01</td>\n",
       "      <td>15.00</td>\n",
       "      <td>66.00</td>\n",
       "      <td>0.40</td>\n",
       "      <td>26.85</td>\n",
       "      <td>14.05</td>\n",
       "      <td>5.20</td>\n",
       "      <td>0.59</td>\n",
       "      <td>2.10</td>\n",
       "      <td>17.05</td>\n",
       "      <td>3.28</td>\n",
       "      <td>8.70</td>\n",
       "      <td>3.07</td>\n",
       "      <td>50.00</td>\n",
       "      <td>Good</td>\n",
       "    </tr>\n",
       "  </tbody>\n",
       "</table>\n",
       "<p>29531 rows × 16 columns</p>\n",
       "</div>"
      ],
      "text/plain": [
       "                City       Date  PM2.5    PM10     NO    NO2    NOx    NH3  \\\n",
       "0          Ahmedabad 2015-01-01  67.45  118.13   0.92  18.22  17.15  23.48   \n",
       "1          Ahmedabad 2015-01-02  67.45  118.13   0.97  15.69  16.46  23.48   \n",
       "2          Ahmedabad 2015-01-03  67.45  118.13  17.40  19.30  29.70  23.48   \n",
       "3          Ahmedabad 2015-01-04  67.45  118.13   1.70  18.48  17.97  23.48   \n",
       "4          Ahmedabad 2015-01-05  67.45  118.13  22.10  21.42  37.76  23.48   \n",
       "...              ...        ...    ...     ...    ...    ...    ...    ...   \n",
       "29526  Visakhapatnam 2020-06-27  15.02   50.94   7.68  25.06  19.54  12.47   \n",
       "29527  Visakhapatnam 2020-06-28  24.38   74.09   3.42  26.06  16.53  11.99   \n",
       "29528  Visakhapatnam 2020-06-29  22.91   65.73   3.45  29.53  18.33  10.71   \n",
       "29529  Visakhapatnam 2020-06-30  16.64   49.97   4.05  29.26  18.80  10.03   \n",
       "29530  Visakhapatnam 2020-07-01  15.00   66.00   0.40  26.85  14.05   5.20   \n",
       "\n",
       "          CO    SO2      O3  Benzene  Toluene  Xylene     AQI    AQI_Bucket  \n",
       "0       0.92  27.64  133.36     0.00     0.02    0.00  166.46      Moderate  \n",
       "1       0.97  24.55   34.06     3.68     5.50    3.77  166.46      Moderate  \n",
       "2      17.40  29.07   30.70     6.80    16.40    2.25  166.46      Moderate  \n",
       "3       1.70  18.59   36.08     4.43    10.14    1.00  166.46      Moderate  \n",
       "4      22.10  39.33   39.31     7.01    18.89    2.78  166.46      Moderate  \n",
       "...      ...    ...     ...      ...      ...     ...     ...           ...  \n",
       "29526   0.47   8.55   23.30     2.24    12.07    0.73   41.00          Good  \n",
       "29527   0.52  12.72   30.14     0.74     2.21    0.38   70.00  Satisfactory  \n",
       "29528   0.48   8.42   30.96     0.01     0.01    0.00   68.00  Satisfactory  \n",
       "29529   0.52   9.84   28.30     0.00     0.00    0.00   54.00  Satisfactory  \n",
       "29530   0.59   2.10   17.05     3.28     8.70    3.07   50.00          Good  \n",
       "\n",
       "[29531 rows x 16 columns]"
      ]
     },
     "execution_count": 79,
     "metadata": {},
     "output_type": "execute_result"
    }
   ],
   "source": [
    "india_air_data"
   ]
  },
  {
   "cell_type": "code",
   "execution_count": null,
   "id": "df8d24bc",
   "metadata": {
    "execution": {
     "iopub.execute_input": "2023-05-10T11:43:46.629328Z",
     "iopub.status.busy": "2023-05-10T11:43:46.628884Z",
     "iopub.status.idle": "2023-05-10T11:43:46.637962Z",
     "shell.execute_reply": "2023-05-10T11:43:46.636976Z"
    },
    "papermill": {
     "duration": 0.035305,
     "end_time": "2023-05-10T11:43:46.640288",
     "exception": false,
     "start_time": "2023-05-10T11:43:46.604983",
     "status": "completed"
    },
    "tags": []
   },
   "outputs": [
    {
     "data": {
      "text/plain": [
       "0"
      ]
     },
     "execution_count": 80,
     "metadata": {},
     "output_type": "execute_result"
    }
   ],
   "source": [
    "#check if null values filled correctly \n",
    "india_air_data['AQI_Bucket'].isnull().sum()"
   ]
  },
  {
   "cell_type": "code",
   "execution_count": null,
   "id": "b2bded15",
   "metadata": {
    "execution": {
     "iopub.execute_input": "2023-05-10T11:43:46.773364Z",
     "iopub.status.busy": "2023-05-10T11:43:46.772624Z",
     "iopub.status.idle": "2023-05-10T11:43:46.829725Z",
     "shell.execute_reply": "2023-05-10T11:43:46.828694Z"
    },
    "papermill": {
     "duration": 0.083379,
     "end_time": "2023-05-10T11:43:46.832718",
     "exception": false,
     "start_time": "2023-05-10T11:43:46.749339",
     "status": "completed"
    },
    "scrolled": true,
    "tags": []
   },
   "outputs": [
    {
     "data": {
      "text/html": [
       "<div>\n",
       "<style scoped>\n",
       "    .dataframe tbody tr th:only-of-type {\n",
       "        vertical-align: middle;\n",
       "    }\n",
       "\n",
       "    .dataframe tbody tr th {\n",
       "        vertical-align: top;\n",
       "    }\n",
       "\n",
       "    .dataframe thead th {\n",
       "        text-align: right;\n",
       "    }\n",
       "</style>\n",
       "<table border=\"1\" class=\"dataframe\">\n",
       "  <thead>\n",
       "    <tr style=\"text-align: right;\">\n",
       "      <th></th>\n",
       "      <th>City</th>\n",
       "      <th>PM2.5</th>\n",
       "      <th>PM10</th>\n",
       "      <th>NO</th>\n",
       "      <th>NO2</th>\n",
       "      <th>NOx</th>\n",
       "      <th>NH3</th>\n",
       "      <th>CO</th>\n",
       "      <th>SO2</th>\n",
       "      <th>O3</th>\n",
       "      <th>Benzene</th>\n",
       "      <th>Toluene</th>\n",
       "      <th>Xylene</th>\n",
       "      <th>AQI</th>\n",
       "    </tr>\n",
       "  </thead>\n",
       "  <tbody>\n",
       "    <tr>\n",
       "      <th>0</th>\n",
       "      <td>Ahmedabad</td>\n",
       "      <td>67.73</td>\n",
       "      <td>117.41</td>\n",
       "      <td>20.96</td>\n",
       "      <td>49.81</td>\n",
       "      <td>42.92</td>\n",
       "      <td>23.48</td>\n",
       "      <td>16.15</td>\n",
       "      <td>42.28</td>\n",
       "      <td>37.56</td>\n",
       "      <td>4.90</td>\n",
       "      <td>23.16</td>\n",
       "      <td>3.96</td>\n",
       "      <td>356.14</td>\n",
       "    </tr>\n",
       "    <tr>\n",
       "      <th>1</th>\n",
       "      <td>Aizawl</td>\n",
       "      <td>18.02</td>\n",
       "      <td>24.19</td>\n",
       "      <td>9.41</td>\n",
       "      <td>0.39</td>\n",
       "      <td>12.61</td>\n",
       "      <td>22.31</td>\n",
       "      <td>0.28</td>\n",
       "      <td>7.38</td>\n",
       "      <td>6.16</td>\n",
       "      <td>8.94</td>\n",
       "      <td>10.04</td>\n",
       "      <td>3.07</td>\n",
       "      <td>37.10</td>\n",
       "    </tr>\n",
       "    <tr>\n",
       "      <th>2</th>\n",
       "      <td>Amaravati</td>\n",
       "      <td>39.61</td>\n",
       "      <td>78.78</td>\n",
       "      <td>5.20</td>\n",
       "      <td>22.54</td>\n",
       "      <td>16.36</td>\n",
       "      <td>12.65</td>\n",
       "      <td>0.79</td>\n",
       "      <td>14.28</td>\n",
       "      <td>37.91</td>\n",
       "      <td>0.76</td>\n",
       "      <td>2.42</td>\n",
       "      <td>1.57</td>\n",
       "      <td>103.53</td>\n",
       "    </tr>\n",
       "    <tr>\n",
       "      <th>3</th>\n",
       "      <td>Amritsar</td>\n",
       "      <td>56.72</td>\n",
       "      <td>115.35</td>\n",
       "      <td>18.64</td>\n",
       "      <td>18.88</td>\n",
       "      <td>34.86</td>\n",
       "      <td>14.69</td>\n",
       "      <td>0.66</td>\n",
       "      <td>9.03</td>\n",
       "      <td>23.55</td>\n",
       "      <td>4.04</td>\n",
       "      <td>4.02</td>\n",
       "      <td>6.61</td>\n",
       "      <td>123.54</td>\n",
       "    </tr>\n",
       "    <tr>\n",
       "      <th>4</th>\n",
       "      <td>Bengaluru</td>\n",
       "      <td>38.12</td>\n",
       "      <td>89.49</td>\n",
       "      <td>9.43</td>\n",
       "      <td>28.00</td>\n",
       "      <td>19.74</td>\n",
       "      <td>22.13</td>\n",
       "      <td>1.84</td>\n",
       "      <td>5.55</td>\n",
       "      <td>32.98</td>\n",
       "      <td>3.23</td>\n",
       "      <td>4.94</td>\n",
       "      <td>3.07</td>\n",
       "      <td>97.87</td>\n",
       "    </tr>\n",
       "    <tr>\n",
       "      <th>5</th>\n",
       "      <td>Bhopal</td>\n",
       "      <td>50.60</td>\n",
       "      <td>119.29</td>\n",
       "      <td>7.37</td>\n",
       "      <td>31.26</td>\n",
       "      <td>22.74</td>\n",
       "      <td>19.21</td>\n",
       "      <td>0.92</td>\n",
       "      <td>13.11</td>\n",
       "      <td>59.06</td>\n",
       "      <td>3.28</td>\n",
       "      <td>8.70</td>\n",
       "      <td>3.07</td>\n",
       "      <td>134.11</td>\n",
       "    </tr>\n",
       "    <tr>\n",
       "      <th>6</th>\n",
       "      <td>Brajrajnagar</td>\n",
       "      <td>64.73</td>\n",
       "      <td>123.09</td>\n",
       "      <td>17.37</td>\n",
       "      <td>19.52</td>\n",
       "      <td>25.99</td>\n",
       "      <td>33.48</td>\n",
       "      <td>1.87</td>\n",
       "      <td>10.76</td>\n",
       "      <td>20.47</td>\n",
       "      <td>4.55</td>\n",
       "      <td>8.70</td>\n",
       "      <td>3.07</td>\n",
       "      <td>154.16</td>\n",
       "    </tr>\n",
       "    <tr>\n",
       "      <th>7</th>\n",
       "      <td>Chandigarh</td>\n",
       "      <td>42.43</td>\n",
       "      <td>85.66</td>\n",
       "      <td>10.59</td>\n",
       "      <td>11.83</td>\n",
       "      <td>15.29</td>\n",
       "      <td>30.54</td>\n",
       "      <td>0.63</td>\n",
       "      <td>10.16</td>\n",
       "      <td>20.05</td>\n",
       "      <td>5.07</td>\n",
       "      <td>1.40</td>\n",
       "      <td>2.62</td>\n",
       "      <td>97.65</td>\n",
       "    </tr>\n",
       "    <tr>\n",
       "      <th>8</th>\n",
       "      <td>Chennai</td>\n",
       "      <td>51.42</td>\n",
       "      <td>109.82</td>\n",
       "      <td>9.34</td>\n",
       "      <td>17.07</td>\n",
       "      <td>17.93</td>\n",
       "      <td>54.26</td>\n",
       "      <td>1.08</td>\n",
       "      <td>8.00</td>\n",
       "      <td>32.49</td>\n",
       "      <td>1.93</td>\n",
       "      <td>3.36</td>\n",
       "      <td>3.07</td>\n",
       "      <td>117.74</td>\n",
       "    </tr>\n",
       "    <tr>\n",
       "      <th>9</th>\n",
       "      <td>Coimbatore</td>\n",
       "      <td>29.95</td>\n",
       "      <td>39.44</td>\n",
       "      <td>8.83</td>\n",
       "      <td>28.78</td>\n",
       "      <td>30.90</td>\n",
       "      <td>14.01</td>\n",
       "      <td>0.96</td>\n",
       "      <td>8.65</td>\n",
       "      <td>28.88</td>\n",
       "      <td>0.03</td>\n",
       "      <td>0.11</td>\n",
       "      <td>3.07</td>\n",
       "      <td>83.19</td>\n",
       "    </tr>\n",
       "    <tr>\n",
       "      <th>10</th>\n",
       "      <td>Delhi</td>\n",
       "      <td>117.15</td>\n",
       "      <td>228.41</td>\n",
       "      <td>38.96</td>\n",
       "      <td>50.76</td>\n",
       "      <td>58.57</td>\n",
       "      <td>41.91</td>\n",
       "      <td>1.98</td>\n",
       "      <td>15.83</td>\n",
       "      <td>50.62</td>\n",
       "      <td>3.54</td>\n",
       "      <td>17.19</td>\n",
       "      <td>2.07</td>\n",
       "      <td>259.02</td>\n",
       "    </tr>\n",
       "    <tr>\n",
       "      <th>11</th>\n",
       "      <td>Ernakulam</td>\n",
       "      <td>25.99</td>\n",
       "      <td>50.06</td>\n",
       "      <td>23.05</td>\n",
       "      <td>12.16</td>\n",
       "      <td>24.49</td>\n",
       "      <td>20.71</td>\n",
       "      <td>1.64</td>\n",
       "      <td>3.46</td>\n",
       "      <td>34.49</td>\n",
       "      <td>0.67</td>\n",
       "      <td>1.45</td>\n",
       "      <td>0.22</td>\n",
       "      <td>96.48</td>\n",
       "    </tr>\n",
       "    <tr>\n",
       "      <th>12</th>\n",
       "      <td>Gurugram</td>\n",
       "      <td>112.55</td>\n",
       "      <td>150.47</td>\n",
       "      <td>17.54</td>\n",
       "      <td>23.80</td>\n",
       "      <td>30.17</td>\n",
       "      <td>23.67</td>\n",
       "      <td>1.32</td>\n",
       "      <td>9.95</td>\n",
       "      <td>34.41</td>\n",
       "      <td>2.13</td>\n",
       "      <td>6.84</td>\n",
       "      <td>3.26</td>\n",
       "      <td>217.23</td>\n",
       "    </tr>\n",
       "    <tr>\n",
       "      <th>13</th>\n",
       "      <td>Guwahati</td>\n",
       "      <td>63.69</td>\n",
       "      <td>116.60</td>\n",
       "      <td>20.04</td>\n",
       "      <td>13.60</td>\n",
       "      <td>44.28</td>\n",
       "      <td>11.09</td>\n",
       "      <td>0.74</td>\n",
       "      <td>14.66</td>\n",
       "      <td>25.09</td>\n",
       "      <td>4.04</td>\n",
       "      <td>8.70</td>\n",
       "      <td>3.07</td>\n",
       "      <td>140.48</td>\n",
       "    </tr>\n",
       "    <tr>\n",
       "      <th>14</th>\n",
       "      <td>Hyderabad</td>\n",
       "      <td>48.21</td>\n",
       "      <td>96.57</td>\n",
       "      <td>7.95</td>\n",
       "      <td>28.39</td>\n",
       "      <td>19.48</td>\n",
       "      <td>17.51</td>\n",
       "      <td>0.59</td>\n",
       "      <td>9.24</td>\n",
       "      <td>33.62</td>\n",
       "      <td>1.31</td>\n",
       "      <td>7.93</td>\n",
       "      <td>1.77</td>\n",
       "      <td>112.80</td>\n",
       "    </tr>\n",
       "    <tr>\n",
       "      <th>15</th>\n",
       "      <td>Jaipur</td>\n",
       "      <td>54.64</td>\n",
       "      <td>123.42</td>\n",
       "      <td>14.68</td>\n",
       "      <td>32.37</td>\n",
       "      <td>38.90</td>\n",
       "      <td>26.47</td>\n",
       "      <td>0.81</td>\n",
       "      <td>11.11</td>\n",
       "      <td>46.55</td>\n",
       "      <td>1.60</td>\n",
       "      <td>6.73</td>\n",
       "      <td>3.07</td>\n",
       "      <td>134.27</td>\n",
       "    </tr>\n",
       "    <tr>\n",
       "      <th>16</th>\n",
       "      <td>Jorapokhar</td>\n",
       "      <td>66.41</td>\n",
       "      <td>142.24</td>\n",
       "      <td>12.53</td>\n",
       "      <td>13.78</td>\n",
       "      <td>32.31</td>\n",
       "      <td>12.19</td>\n",
       "      <td>1.36</td>\n",
       "      <td>27.91</td>\n",
       "      <td>32.94</td>\n",
       "      <td>3.28</td>\n",
       "      <td>8.70</td>\n",
       "      <td>3.07</td>\n",
       "      <td>161.71</td>\n",
       "    </tr>\n",
       "    <tr>\n",
       "      <th>17</th>\n",
       "      <td>Kochi</td>\n",
       "      <td>31.43</td>\n",
       "      <td>67.34</td>\n",
       "      <td>71.10</td>\n",
       "      <td>15.45</td>\n",
       "      <td>68.41</td>\n",
       "      <td>9.54</td>\n",
       "      <td>1.30</td>\n",
       "      <td>17.60</td>\n",
       "      <td>3.82</td>\n",
       "      <td>3.28</td>\n",
       "      <td>0.00</td>\n",
       "      <td>3.07</td>\n",
       "      <td>105.82</td>\n",
       "    </tr>\n",
       "    <tr>\n",
       "      <th>18</th>\n",
       "      <td>Kolkata</td>\n",
       "      <td>64.57</td>\n",
       "      <td>115.80</td>\n",
       "      <td>26.55</td>\n",
       "      <td>40.03</td>\n",
       "      <td>63.33</td>\n",
       "      <td>18.37</td>\n",
       "      <td>0.80</td>\n",
       "      <td>8.86</td>\n",
       "      <td>30.90</td>\n",
       "      <td>10.86</td>\n",
       "      <td>15.39</td>\n",
       "      <td>2.83</td>\n",
       "      <td>142.47</td>\n",
       "    </tr>\n",
       "    <tr>\n",
       "      <th>19</th>\n",
       "      <td>Lucknow</td>\n",
       "      <td>107.57</td>\n",
       "      <td>118.13</td>\n",
       "      <td>15.26</td>\n",
       "      <td>33.19</td>\n",
       "      <td>24.10</td>\n",
       "      <td>26.40</td>\n",
       "      <td>2.13</td>\n",
       "      <td>10.10</td>\n",
       "      <td>36.88</td>\n",
       "      <td>2.91</td>\n",
       "      <td>5.20</td>\n",
       "      <td>3.07</td>\n",
       "      <td>215.00</td>\n",
       "    </tr>\n",
       "    <tr>\n",
       "      <th>20</th>\n",
       "      <td>Mumbai</td>\n",
       "      <td>54.86</td>\n",
       "      <td>110.01</td>\n",
       "      <td>22.70</td>\n",
       "      <td>27.43</td>\n",
       "      <td>49.39</td>\n",
       "      <td>21.58</td>\n",
       "      <td>0.59</td>\n",
       "      <td>14.79</td>\n",
       "      <td>33.92</td>\n",
       "      <td>1.33</td>\n",
       "      <td>4.31</td>\n",
       "      <td>1.52</td>\n",
       "      <td>142.89</td>\n",
       "    </tr>\n",
       "    <tr>\n",
       "      <th>21</th>\n",
       "      <td>Patna</td>\n",
       "      <td>113.82</td>\n",
       "      <td>119.02</td>\n",
       "      <td>30.28</td>\n",
       "      <td>36.51</td>\n",
       "      <td>44.46</td>\n",
       "      <td>22.95</td>\n",
       "      <td>1.59</td>\n",
       "      <td>21.29</td>\n",
       "      <td>36.84</td>\n",
       "      <td>1.81</td>\n",
       "      <td>10.22</td>\n",
       "      <td>5.17</td>\n",
       "      <td>224.82</td>\n",
       "    </tr>\n",
       "    <tr>\n",
       "      <th>22</th>\n",
       "      <td>Shillong</td>\n",
       "      <td>38.39</td>\n",
       "      <td>59.10</td>\n",
       "      <td>4.09</td>\n",
       "      <td>7.66</td>\n",
       "      <td>4.33</td>\n",
       "      <td>6.75</td>\n",
       "      <td>0.45</td>\n",
       "      <td>8.00</td>\n",
       "      <td>29.15</td>\n",
       "      <td>34.69</td>\n",
       "      <td>35.37</td>\n",
       "      <td>3.07</td>\n",
       "      <td>91.96</td>\n",
       "    </tr>\n",
       "    <tr>\n",
       "      <th>23</th>\n",
       "      <td>Talcher</td>\n",
       "      <td>62.61</td>\n",
       "      <td>156.55</td>\n",
       "      <td>28.07</td>\n",
       "      <td>17.34</td>\n",
       "      <td>31.97</td>\n",
       "      <td>13.92</td>\n",
       "      <td>1.91</td>\n",
       "      <td>25.60</td>\n",
       "      <td>20.36</td>\n",
       "      <td>0.91</td>\n",
       "      <td>7.13</td>\n",
       "      <td>3.07</td>\n",
       "      <td>171.31</td>\n",
       "    </tr>\n",
       "    <tr>\n",
       "      <th>24</th>\n",
       "      <td>Thiruvananthapuram</td>\n",
       "      <td>29.53</td>\n",
       "      <td>55.09</td>\n",
       "      <td>3.85</td>\n",
       "      <td>9.91</td>\n",
       "      <td>8.53</td>\n",
       "      <td>6.93</td>\n",
       "      <td>0.97</td>\n",
       "      <td>5.90</td>\n",
       "      <td>34.68</td>\n",
       "      <td>3.28</td>\n",
       "      <td>8.70</td>\n",
       "      <td>3.07</td>\n",
       "      <td>80.77</td>\n",
       "    </tr>\n",
       "    <tr>\n",
       "      <th>25</th>\n",
       "      <td>Visakhapatnam</td>\n",
       "      <td>50.19</td>\n",
       "      <td>107.92</td>\n",
       "      <td>13.48</td>\n",
       "      <td>35.73</td>\n",
       "      <td>25.42</td>\n",
       "      <td>12.80</td>\n",
       "      <td>0.78</td>\n",
       "      <td>12.95</td>\n",
       "      <td>37.05</td>\n",
       "      <td>3.88</td>\n",
       "      <td>8.36</td>\n",
       "      <td>2.80</td>\n",
       "      <td>127.06</td>\n",
       "    </tr>\n",
       "  </tbody>\n",
       "</table>\n",
       "</div>"
      ],
      "text/plain": [
       "                  City   PM2.5    PM10     NO    NO2    NOx    NH3     CO  \\\n",
       "0            Ahmedabad   67.73  117.41  20.96  49.81  42.92  23.48  16.15   \n",
       "1               Aizawl   18.02   24.19   9.41   0.39  12.61  22.31   0.28   \n",
       "2            Amaravati   39.61   78.78   5.20  22.54  16.36  12.65   0.79   \n",
       "3             Amritsar   56.72  115.35  18.64  18.88  34.86  14.69   0.66   \n",
       "4            Bengaluru   38.12   89.49   9.43  28.00  19.74  22.13   1.84   \n",
       "5               Bhopal   50.60  119.29   7.37  31.26  22.74  19.21   0.92   \n",
       "6         Brajrajnagar   64.73  123.09  17.37  19.52  25.99  33.48   1.87   \n",
       "7           Chandigarh   42.43   85.66  10.59  11.83  15.29  30.54   0.63   \n",
       "8              Chennai   51.42  109.82   9.34  17.07  17.93  54.26   1.08   \n",
       "9           Coimbatore   29.95   39.44   8.83  28.78  30.90  14.01   0.96   \n",
       "10               Delhi  117.15  228.41  38.96  50.76  58.57  41.91   1.98   \n",
       "11           Ernakulam   25.99   50.06  23.05  12.16  24.49  20.71   1.64   \n",
       "12            Gurugram  112.55  150.47  17.54  23.80  30.17  23.67   1.32   \n",
       "13            Guwahati   63.69  116.60  20.04  13.60  44.28  11.09   0.74   \n",
       "14           Hyderabad   48.21   96.57   7.95  28.39  19.48  17.51   0.59   \n",
       "15              Jaipur   54.64  123.42  14.68  32.37  38.90  26.47   0.81   \n",
       "16          Jorapokhar   66.41  142.24  12.53  13.78  32.31  12.19   1.36   \n",
       "17               Kochi   31.43   67.34  71.10  15.45  68.41   9.54   1.30   \n",
       "18             Kolkata   64.57  115.80  26.55  40.03  63.33  18.37   0.80   \n",
       "19             Lucknow  107.57  118.13  15.26  33.19  24.10  26.40   2.13   \n",
       "20              Mumbai   54.86  110.01  22.70  27.43  49.39  21.58   0.59   \n",
       "21               Patna  113.82  119.02  30.28  36.51  44.46  22.95   1.59   \n",
       "22            Shillong   38.39   59.10   4.09   7.66   4.33   6.75   0.45   \n",
       "23             Talcher   62.61  156.55  28.07  17.34  31.97  13.92   1.91   \n",
       "24  Thiruvananthapuram   29.53   55.09   3.85   9.91   8.53   6.93   0.97   \n",
       "25       Visakhapatnam   50.19  107.92  13.48  35.73  25.42  12.80   0.78   \n",
       "\n",
       "      SO2     O3  Benzene  Toluene  Xylene     AQI  \n",
       "0   42.28  37.56     4.90    23.16    3.96  356.14  \n",
       "1    7.38   6.16     8.94    10.04    3.07   37.10  \n",
       "2   14.28  37.91     0.76     2.42    1.57  103.53  \n",
       "3    9.03  23.55     4.04     4.02    6.61  123.54  \n",
       "4    5.55  32.98     3.23     4.94    3.07   97.87  \n",
       "5   13.11  59.06     3.28     8.70    3.07  134.11  \n",
       "6   10.76  20.47     4.55     8.70    3.07  154.16  \n",
       "7   10.16  20.05     5.07     1.40    2.62   97.65  \n",
       "8    8.00  32.49     1.93     3.36    3.07  117.74  \n",
       "9    8.65  28.88     0.03     0.11    3.07   83.19  \n",
       "10  15.83  50.62     3.54    17.19    2.07  259.02  \n",
       "11   3.46  34.49     0.67     1.45    0.22   96.48  \n",
       "12   9.95  34.41     2.13     6.84    3.26  217.23  \n",
       "13  14.66  25.09     4.04     8.70    3.07  140.48  \n",
       "14   9.24  33.62     1.31     7.93    1.77  112.80  \n",
       "15  11.11  46.55     1.60     6.73    3.07  134.27  \n",
       "16  27.91  32.94     3.28     8.70    3.07  161.71  \n",
       "17  17.60   3.82     3.28     0.00    3.07  105.82  \n",
       "18   8.86  30.90    10.86    15.39    2.83  142.47  \n",
       "19  10.10  36.88     2.91     5.20    3.07  215.00  \n",
       "20  14.79  33.92     1.33     4.31    1.52  142.89  \n",
       "21  21.29  36.84     1.81    10.22    5.17  224.82  \n",
       "22   8.00  29.15    34.69    35.37    3.07   91.96  \n",
       "23  25.60  20.36     0.91     7.13    3.07  171.31  \n",
       "24   5.90  34.68     3.28     8.70    3.07   80.77  \n",
       "25  12.95  37.05     3.88     8.36    2.80  127.06  "
      ]
     },
     "execution_count": 81,
     "metadata": {},
     "output_type": "execute_result"
    }
   ],
   "source": [
    "#average readings by city \n",
    "avg_readings = india_air_data.groupby('City').mean().reset_index().round(2)\n",
    "avg_readings"
   ]
  },
  {
   "cell_type": "code",
   "execution_count": null,
   "id": "8ba92999",
   "metadata": {
    "execution": {
     "iopub.execute_input": "2023-05-10T11:43:46.881820Z",
     "iopub.status.busy": "2023-05-10T11:43:46.881366Z",
     "iopub.status.idle": "2023-05-10T11:43:46.930226Z",
     "shell.execute_reply": "2023-05-10T11:43:46.928986Z"
    },
    "papermill": {
     "duration": 0.076729,
     "end_time": "2023-05-10T11:43:46.932992",
     "exception": false,
     "start_time": "2023-05-10T11:43:46.856263",
     "status": "completed"
    },
    "tags": []
   },
   "outputs": [
    {
     "data": {
      "text/html": [
       "<div>\n",
       "<style scoped>\n",
       "    .dataframe tbody tr th:only-of-type {\n",
       "        vertical-align: middle;\n",
       "    }\n",
       "\n",
       "    .dataframe tbody tr th {\n",
       "        vertical-align: top;\n",
       "    }\n",
       "\n",
       "    .dataframe thead th {\n",
       "        text-align: right;\n",
       "    }\n",
       "</style>\n",
       "<table border=\"1\" class=\"dataframe\">\n",
       "  <thead>\n",
       "    <tr style=\"text-align: right;\">\n",
       "      <th></th>\n",
       "      <th>count</th>\n",
       "      <th>mean</th>\n",
       "      <th>std</th>\n",
       "      <th>min</th>\n",
       "      <th>25%</th>\n",
       "      <th>50%</th>\n",
       "      <th>75%</th>\n",
       "      <th>max</th>\n",
       "    </tr>\n",
       "  </thead>\n",
       "  <tbody>\n",
       "    <tr>\n",
       "      <th>PM2.5</th>\n",
       "      <td>26.0</td>\n",
       "      <td>57.728462</td>\n",
       "      <td>27.508158</td>\n",
       "      <td>18.02</td>\n",
       "      <td>38.6950</td>\n",
       "      <td>53.030</td>\n",
       "      <td>64.6900</td>\n",
       "      <td>117.15</td>\n",
       "    </tr>\n",
       "    <tr>\n",
       "      <th>PM10</th>\n",
       "      <td>26.0</td>\n",
       "      <td>104.586538</td>\n",
       "      <td>42.134184</td>\n",
       "      <td>24.19</td>\n",
       "      <td>80.5000</td>\n",
       "      <td>112.680</td>\n",
       "      <td>119.2225</td>\n",
       "      <td>228.41</td>\n",
       "    </tr>\n",
       "    <tr>\n",
       "      <th>NO</th>\n",
       "      <td>26.0</td>\n",
       "      <td>17.971923</td>\n",
       "      <td>13.924665</td>\n",
       "      <td>3.85</td>\n",
       "      <td>9.3575</td>\n",
       "      <td>14.970</td>\n",
       "      <td>22.2650</td>\n",
       "      <td>71.10</td>\n",
       "    </tr>\n",
       "    <tr>\n",
       "      <th>NO2</th>\n",
       "      <td>26.0</td>\n",
       "      <td>24.084231</td>\n",
       "      <td>12.566666</td>\n",
       "      <td>0.39</td>\n",
       "      <td>14.1975</td>\n",
       "      <td>23.170</td>\n",
       "      <td>32.0925</td>\n",
       "      <td>50.76</td>\n",
       "    </tr>\n",
       "    <tr>\n",
       "      <th>NOx</th>\n",
       "      <td>26.0</td>\n",
       "      <td>31.056923</td>\n",
       "      <td>16.472431</td>\n",
       "      <td>4.33</td>\n",
       "      <td>19.5450</td>\n",
       "      <td>28.080</td>\n",
       "      <td>41.9150</td>\n",
       "      <td>68.41</td>\n",
       "    </tr>\n",
       "    <tr>\n",
       "      <th>NH3</th>\n",
       "      <td>26.0</td>\n",
       "      <td>20.751923</td>\n",
       "      <td>10.722767</td>\n",
       "      <td>6.75</td>\n",
       "      <td>13.0800</td>\n",
       "      <td>19.960</td>\n",
       "      <td>23.6225</td>\n",
       "      <td>54.26</td>\n",
       "    </tr>\n",
       "    <tr>\n",
       "      <th>CO</th>\n",
       "      <td>26.0</td>\n",
       "      <td>1.697692</td>\n",
       "      <td>2.994228</td>\n",
       "      <td>0.28</td>\n",
       "      <td>0.7500</td>\n",
       "      <td>0.965</td>\n",
       "      <td>1.6275</td>\n",
       "      <td>16.15</td>\n",
       "    </tr>\n",
       "    <tr>\n",
       "      <th>SO2</th>\n",
       "      <td>26.0</td>\n",
       "      <td>13.325000</td>\n",
       "      <td>8.294535</td>\n",
       "      <td>3.46</td>\n",
       "      <td>8.7025</td>\n",
       "      <td>10.460</td>\n",
       "      <td>14.7575</td>\n",
       "      <td>42.28</td>\n",
       "    </tr>\n",
       "    <tr>\n",
       "      <th>O3</th>\n",
       "      <td>26.0</td>\n",
       "      <td>31.555000</td>\n",
       "      <td>11.769350</td>\n",
       "      <td>3.82</td>\n",
       "      <td>26.0375</td>\n",
       "      <td>33.300</td>\n",
       "      <td>36.8700</td>\n",
       "      <td>59.06</td>\n",
       "    </tr>\n",
       "    <tr>\n",
       "      <th>Benzene</th>\n",
       "      <td>26.0</td>\n",
       "      <td>4.471154</td>\n",
       "      <td>6.613644</td>\n",
       "      <td>0.03</td>\n",
       "      <td>1.6525</td>\n",
       "      <td>3.280</td>\n",
       "      <td>4.0400</td>\n",
       "      <td>34.69</td>\n",
       "    </tr>\n",
       "    <tr>\n",
       "      <th>Toluene</th>\n",
       "      <td>26.0</td>\n",
       "      <td>8.425769</td>\n",
       "      <td>7.591385</td>\n",
       "      <td>0.00</td>\n",
       "      <td>4.0925</td>\n",
       "      <td>7.530</td>\n",
       "      <td>8.7000</td>\n",
       "      <td>35.37</td>\n",
       "    </tr>\n",
       "    <tr>\n",
       "      <th>Xylene</th>\n",
       "      <td>26.0</td>\n",
       "      <td>2.976154</td>\n",
       "      <td>1.154795</td>\n",
       "      <td>0.22</td>\n",
       "      <td>2.8075</td>\n",
       "      <td>3.070</td>\n",
       "      <td>3.0700</td>\n",
       "      <td>6.61</td>\n",
       "    </tr>\n",
       "    <tr>\n",
       "      <th>AQI</th>\n",
       "      <td>26.0</td>\n",
       "      <td>143.427692</td>\n",
       "      <td>66.441364</td>\n",
       "      <td>37.10</td>\n",
       "      <td>99.2850</td>\n",
       "      <td>130.585</td>\n",
       "      <td>159.8225</td>\n",
       "      <td>356.14</td>\n",
       "    </tr>\n",
       "  </tbody>\n",
       "</table>\n",
       "</div>"
      ],
      "text/plain": [
       "         count        mean        std    min      25%      50%       75%  \\\n",
       "PM2.5     26.0   57.728462  27.508158  18.02  38.6950   53.030   64.6900   \n",
       "PM10      26.0  104.586538  42.134184  24.19  80.5000  112.680  119.2225   \n",
       "NO        26.0   17.971923  13.924665   3.85   9.3575   14.970   22.2650   \n",
       "NO2       26.0   24.084231  12.566666   0.39  14.1975   23.170   32.0925   \n",
       "NOx       26.0   31.056923  16.472431   4.33  19.5450   28.080   41.9150   \n",
       "NH3       26.0   20.751923  10.722767   6.75  13.0800   19.960   23.6225   \n",
       "CO        26.0    1.697692   2.994228   0.28   0.7500    0.965    1.6275   \n",
       "SO2       26.0   13.325000   8.294535   3.46   8.7025   10.460   14.7575   \n",
       "O3        26.0   31.555000  11.769350   3.82  26.0375   33.300   36.8700   \n",
       "Benzene   26.0    4.471154   6.613644   0.03   1.6525    3.280    4.0400   \n",
       "Toluene   26.0    8.425769   7.591385   0.00   4.0925    7.530    8.7000   \n",
       "Xylene    26.0    2.976154   1.154795   0.22   2.8075    3.070    3.0700   \n",
       "AQI       26.0  143.427692  66.441364  37.10  99.2850  130.585  159.8225   \n",
       "\n",
       "            max  \n",
       "PM2.5    117.15  \n",
       "PM10     228.41  \n",
       "NO        71.10  \n",
       "NO2       50.76  \n",
       "NOx       68.41  \n",
       "NH3       54.26  \n",
       "CO        16.15  \n",
       "SO2       42.28  \n",
       "O3        59.06  \n",
       "Benzene   34.69  \n",
       "Toluene   35.37  \n",
       "Xylene     6.61  \n",
       "AQI      356.14  "
      ]
     },
     "execution_count": 82,
     "metadata": {},
     "output_type": "execute_result"
    }
   ],
   "source": [
    "avg_readings.describe().T"
   ]
  },
  {
   "cell_type": "code",
   "execution_count": null,
   "id": "31c6448f",
   "metadata": {
    "execution": {
     "iopub.execute_input": "2023-05-10T11:43:46.981556Z",
     "iopub.status.busy": "2023-05-10T11:43:46.980675Z",
     "iopub.status.idle": "2023-05-10T11:43:47.138315Z",
     "shell.execute_reply": "2023-05-10T11:43:47.137163Z"
    },
    "papermill": {
     "duration": 0.185788,
     "end_time": "2023-05-10T11:43:47.141723",
     "exception": false,
     "start_time": "2023-05-10T11:43:46.955935",
     "status": "completed"
    },
    "tags": []
   },
   "outputs": [
    {
     "data": {
      "application/vnd.plotly.v1+json": {
       "config": {
        "plotlyServerURL": "https://plot.ly"
       },
       "data": [
        {
         "labels": [
          "Ahmedabad",
          "Aizawl",
          "Amaravati",
          "Amritsar",
          "Bengaluru",
          "Bhopal",
          "Brajrajnagar",
          "Chandigarh",
          "Chennai",
          "Coimbatore",
          "Delhi",
          "Ernakulam",
          "Gurugram",
          "Guwahati",
          "Hyderabad",
          "Jaipur",
          "Jorapokhar",
          "Kochi",
          "Kolkata",
          "Lucknow",
          "Mumbai",
          "Patna",
          "Shillong",
          "Talcher",
          "Thiruvananthapuram",
          "Visakhapatnam"
         ],
         "textposition": "inside",
         "title": {
          "text": "Average PM2.5 readings by City"
         },
         "type": "pie",
         "values": [
          67.73,
          18.02,
          39.61,
          56.72,
          38.12,
          50.6,
          64.73,
          42.43,
          51.42,
          29.95,
          117.15,
          25.99,
          112.55,
          63.69,
          48.21,
          54.64,
          66.41,
          31.43,
          64.57,
          107.57,
          54.86,
          113.82,
          38.39,
          62.61,
          29.53,
          50.19
         ]
        }
       ],
       "layout": {
        "template": {
         "data": {
          "bar": [
           {
            "error_x": {
             "color": "#2a3f5f"
            },
            "error_y": {
             "color": "#2a3f5f"
            },
            "marker": {
             "line": {
              "color": "#E5ECF6",
              "width": 0.5
             },
             "pattern": {
              "fillmode": "overlay",
              "size": 10,
              "solidity": 0.2
             }
            },
            "type": "bar"
           }
          ],
          "barpolar": [
           {
            "marker": {
             "line": {
              "color": "#E5ECF6",
              "width": 0.5
             },
             "pattern": {
              "fillmode": "overlay",
              "size": 10,
              "solidity": 0.2
             }
            },
            "type": "barpolar"
           }
          ],
          "carpet": [
           {
            "aaxis": {
             "endlinecolor": "#2a3f5f",
             "gridcolor": "white",
             "linecolor": "white",
             "minorgridcolor": "white",
             "startlinecolor": "#2a3f5f"
            },
            "baxis": {
             "endlinecolor": "#2a3f5f",
             "gridcolor": "white",
             "linecolor": "white",
             "minorgridcolor": "white",
             "startlinecolor": "#2a3f5f"
            },
            "type": "carpet"
           }
          ],
          "choropleth": [
           {
            "colorbar": {
             "outlinewidth": 0,
             "ticks": ""
            },
            "type": "choropleth"
           }
          ],
          "contour": [
           {
            "colorbar": {
             "outlinewidth": 0,
             "ticks": ""
            },
            "colorscale": [
             [
              0,
              "#0d0887"
             ],
             [
              0.1111111111111111,
              "#46039f"
             ],
             [
              0.2222222222222222,
              "#7201a8"
             ],
             [
              0.3333333333333333,
              "#9c179e"
             ],
             [
              0.4444444444444444,
              "#bd3786"
             ],
             [
              0.5555555555555556,
              "#d8576b"
             ],
             [
              0.6666666666666666,
              "#ed7953"
             ],
             [
              0.7777777777777778,
              "#fb9f3a"
             ],
             [
              0.8888888888888888,
              "#fdca26"
             ],
             [
              1,
              "#f0f921"
             ]
            ],
            "type": "contour"
           }
          ],
          "contourcarpet": [
           {
            "colorbar": {
             "outlinewidth": 0,
             "ticks": ""
            },
            "type": "contourcarpet"
           }
          ],
          "heatmap": [
           {
            "colorbar": {
             "outlinewidth": 0,
             "ticks": ""
            },
            "colorscale": [
             [
              0,
              "#0d0887"
             ],
             [
              0.1111111111111111,
              "#46039f"
             ],
             [
              0.2222222222222222,
              "#7201a8"
             ],
             [
              0.3333333333333333,
              "#9c179e"
             ],
             [
              0.4444444444444444,
              "#bd3786"
             ],
             [
              0.5555555555555556,
              "#d8576b"
             ],
             [
              0.6666666666666666,
              "#ed7953"
             ],
             [
              0.7777777777777778,
              "#fb9f3a"
             ],
             [
              0.8888888888888888,
              "#fdca26"
             ],
             [
              1,
              "#f0f921"
             ]
            ],
            "type": "heatmap"
           }
          ],
          "heatmapgl": [
           {
            "colorbar": {
             "outlinewidth": 0,
             "ticks": ""
            },
            "colorscale": [
             [
              0,
              "#0d0887"
             ],
             [
              0.1111111111111111,
              "#46039f"
             ],
             [
              0.2222222222222222,
              "#7201a8"
             ],
             [
              0.3333333333333333,
              "#9c179e"
             ],
             [
              0.4444444444444444,
              "#bd3786"
             ],
             [
              0.5555555555555556,
              "#d8576b"
             ],
             [
              0.6666666666666666,
              "#ed7953"
             ],
             [
              0.7777777777777778,
              "#fb9f3a"
             ],
             [
              0.8888888888888888,
              "#fdca26"
             ],
             [
              1,
              "#f0f921"
             ]
            ],
            "type": "heatmapgl"
           }
          ],
          "histogram": [
           {
            "marker": {
             "pattern": {
              "fillmode": "overlay",
              "size": 10,
              "solidity": 0.2
             }
            },
            "type": "histogram"
           }
          ],
          "histogram2d": [
           {
            "colorbar": {
             "outlinewidth": 0,
             "ticks": ""
            },
            "colorscale": [
             [
              0,
              "#0d0887"
             ],
             [
              0.1111111111111111,
              "#46039f"
             ],
             [
              0.2222222222222222,
              "#7201a8"
             ],
             [
              0.3333333333333333,
              "#9c179e"
             ],
             [
              0.4444444444444444,
              "#bd3786"
             ],
             [
              0.5555555555555556,
              "#d8576b"
             ],
             [
              0.6666666666666666,
              "#ed7953"
             ],
             [
              0.7777777777777778,
              "#fb9f3a"
             ],
             [
              0.8888888888888888,
              "#fdca26"
             ],
             [
              1,
              "#f0f921"
             ]
            ],
            "type": "histogram2d"
           }
          ],
          "histogram2dcontour": [
           {
            "colorbar": {
             "outlinewidth": 0,
             "ticks": ""
            },
            "colorscale": [
             [
              0,
              "#0d0887"
             ],
             [
              0.1111111111111111,
              "#46039f"
             ],
             [
              0.2222222222222222,
              "#7201a8"
             ],
             [
              0.3333333333333333,
              "#9c179e"
             ],
             [
              0.4444444444444444,
              "#bd3786"
             ],
             [
              0.5555555555555556,
              "#d8576b"
             ],
             [
              0.6666666666666666,
              "#ed7953"
             ],
             [
              0.7777777777777778,
              "#fb9f3a"
             ],
             [
              0.8888888888888888,
              "#fdca26"
             ],
             [
              1,
              "#f0f921"
             ]
            ],
            "type": "histogram2dcontour"
           }
          ],
          "mesh3d": [
           {
            "colorbar": {
             "outlinewidth": 0,
             "ticks": ""
            },
            "type": "mesh3d"
           }
          ],
          "parcoords": [
           {
            "line": {
             "colorbar": {
              "outlinewidth": 0,
              "ticks": ""
             }
            },
            "type": "parcoords"
           }
          ],
          "pie": [
           {
            "automargin": true,
            "type": "pie"
           }
          ],
          "scatter": [
           {
            "fillpattern": {
             "fillmode": "overlay",
             "size": 10,
             "solidity": 0.2
            },
            "type": "scatter"
           }
          ],
          "scatter3d": [
           {
            "line": {
             "colorbar": {
              "outlinewidth": 0,
              "ticks": ""
             }
            },
            "marker": {
             "colorbar": {
              "outlinewidth": 0,
              "ticks": ""
             }
            },
            "type": "scatter3d"
           }
          ],
          "scattercarpet": [
           {
            "marker": {
             "colorbar": {
              "outlinewidth": 0,
              "ticks": ""
             }
            },
            "type": "scattercarpet"
           }
          ],
          "scattergeo": [
           {
            "marker": {
             "colorbar": {
              "outlinewidth": 0,
              "ticks": ""
             }
            },
            "type": "scattergeo"
           }
          ],
          "scattergl": [
           {
            "marker": {
             "colorbar": {
              "outlinewidth": 0,
              "ticks": ""
             }
            },
            "type": "scattergl"
           }
          ],
          "scattermapbox": [
           {
            "marker": {
             "colorbar": {
              "outlinewidth": 0,
              "ticks": ""
             }
            },
            "type": "scattermapbox"
           }
          ],
          "scatterpolar": [
           {
            "marker": {
             "colorbar": {
              "outlinewidth": 0,
              "ticks": ""
             }
            },
            "type": "scatterpolar"
           }
          ],
          "scatterpolargl": [
           {
            "marker": {
             "colorbar": {
              "outlinewidth": 0,
              "ticks": ""
             }
            },
            "type": "scatterpolargl"
           }
          ],
          "scatterternary": [
           {
            "marker": {
             "colorbar": {
              "outlinewidth": 0,
              "ticks": ""
             }
            },
            "type": "scatterternary"
           }
          ],
          "surface": [
           {
            "colorbar": {
             "outlinewidth": 0,
             "ticks": ""
            },
            "colorscale": [
             [
              0,
              "#0d0887"
             ],
             [
              0.1111111111111111,
              "#46039f"
             ],
             [
              0.2222222222222222,
              "#7201a8"
             ],
             [
              0.3333333333333333,
              "#9c179e"
             ],
             [
              0.4444444444444444,
              "#bd3786"
             ],
             [
              0.5555555555555556,
              "#d8576b"
             ],
             [
              0.6666666666666666,
              "#ed7953"
             ],
             [
              0.7777777777777778,
              "#fb9f3a"
             ],
             [
              0.8888888888888888,
              "#fdca26"
             ],
             [
              1,
              "#f0f921"
             ]
            ],
            "type": "surface"
           }
          ],
          "table": [
           {
            "cells": {
             "fill": {
              "color": "#EBF0F8"
             },
             "line": {
              "color": "white"
             }
            },
            "header": {
             "fill": {
              "color": "#C8D4E3"
             },
             "line": {
              "color": "white"
             }
            },
            "type": "table"
           }
          ]
         },
         "layout": {
          "annotationdefaults": {
           "arrowcolor": "#2a3f5f",
           "arrowhead": 0,
           "arrowwidth": 1
          },
          "autotypenumbers": "strict",
          "coloraxis": {
           "colorbar": {
            "outlinewidth": 0,
            "ticks": ""
           }
          },
          "colorscale": {
           "diverging": [
            [
             0,
             "#8e0152"
            ],
            [
             0.1,
             "#c51b7d"
            ],
            [
             0.2,
             "#de77ae"
            ],
            [
             0.3,
             "#f1b6da"
            ],
            [
             0.4,
             "#fde0ef"
            ],
            [
             0.5,
             "#f7f7f7"
            ],
            [
             0.6,
             "#e6f5d0"
            ],
            [
             0.7,
             "#b8e186"
            ],
            [
             0.8,
             "#7fbc41"
            ],
            [
             0.9,
             "#4d9221"
            ],
            [
             1,
             "#276419"
            ]
           ],
           "sequential": [
            [
             0,
             "#0d0887"
            ],
            [
             0.1111111111111111,
             "#46039f"
            ],
            [
             0.2222222222222222,
             "#7201a8"
            ],
            [
             0.3333333333333333,
             "#9c179e"
            ],
            [
             0.4444444444444444,
             "#bd3786"
            ],
            [
             0.5555555555555556,
             "#d8576b"
            ],
            [
             0.6666666666666666,
             "#ed7953"
            ],
            [
             0.7777777777777778,
             "#fb9f3a"
            ],
            [
             0.8888888888888888,
             "#fdca26"
            ],
            [
             1,
             "#f0f921"
            ]
           ],
           "sequentialminus": [
            [
             0,
             "#0d0887"
            ],
            [
             0.1111111111111111,
             "#46039f"
            ],
            [
             0.2222222222222222,
             "#7201a8"
            ],
            [
             0.3333333333333333,
             "#9c179e"
            ],
            [
             0.4444444444444444,
             "#bd3786"
            ],
            [
             0.5555555555555556,
             "#d8576b"
            ],
            [
             0.6666666666666666,
             "#ed7953"
            ],
            [
             0.7777777777777778,
             "#fb9f3a"
            ],
            [
             0.8888888888888888,
             "#fdca26"
            ],
            [
             1,
             "#f0f921"
            ]
           ]
          },
          "colorway": [
           "#636efa",
           "#EF553B",
           "#00cc96",
           "#ab63fa",
           "#FFA15A",
           "#19d3f3",
           "#FF6692",
           "#B6E880",
           "#FF97FF",
           "#FECB52"
          ],
          "font": {
           "color": "#2a3f5f"
          },
          "geo": {
           "bgcolor": "white",
           "lakecolor": "white",
           "landcolor": "#E5ECF6",
           "showlakes": true,
           "showland": true,
           "subunitcolor": "white"
          },
          "hoverlabel": {
           "align": "left"
          },
          "hovermode": "closest",
          "mapbox": {
           "style": "light"
          },
          "paper_bgcolor": "white",
          "plot_bgcolor": "#E5ECF6",
          "polar": {
           "angularaxis": {
            "gridcolor": "white",
            "linecolor": "white",
            "ticks": ""
           },
           "bgcolor": "#E5ECF6",
           "radialaxis": {
            "gridcolor": "white",
            "linecolor": "white",
            "ticks": ""
           }
          },
          "scene": {
           "xaxis": {
            "backgroundcolor": "#E5ECF6",
            "gridcolor": "white",
            "gridwidth": 2,
            "linecolor": "white",
            "showbackground": true,
            "ticks": "",
            "zerolinecolor": "white"
           },
           "yaxis": {
            "backgroundcolor": "#E5ECF6",
            "gridcolor": "white",
            "gridwidth": 2,
            "linecolor": "white",
            "showbackground": true,
            "ticks": "",
            "zerolinecolor": "white"
           },
           "zaxis": {
            "backgroundcolor": "#E5ECF6",
            "gridcolor": "white",
            "gridwidth": 2,
            "linecolor": "white",
            "showbackground": true,
            "ticks": "",
            "zerolinecolor": "white"
           }
          },
          "shapedefaults": {
           "line": {
            "color": "#2a3f5f"
           }
          },
          "ternary": {
           "aaxis": {
            "gridcolor": "white",
            "linecolor": "white",
            "ticks": ""
           },
           "baxis": {
            "gridcolor": "white",
            "linecolor": "white",
            "ticks": ""
           },
           "bgcolor": "#E5ECF6",
           "caxis": {
            "gridcolor": "white",
            "linecolor": "white",
            "ticks": ""
           }
          },
          "title": {
           "x": 0.05
          },
          "xaxis": {
           "automargin": true,
           "gridcolor": "white",
           "linecolor": "white",
           "ticks": "",
           "title": {
            "standoff": 15
           },
           "zerolinecolor": "white",
           "zerolinewidth": 2
          },
          "yaxis": {
           "automargin": true,
           "gridcolor": "white",
           "linecolor": "white",
           "ticks": "",
           "title": {
            "standoff": 15
           },
           "zerolinecolor": "white",
           "zerolinewidth": 2
          }
         }
        },
        "uniformtext": {
         "minsize": 12,
         "mode": "hide"
        }
       }
      }
     },
     "metadata": {},
     "output_type": "display_data"
    }
   ],
   "source": [
    "# avg readings for PM2.5 across all cities (pie chart)\n",
    "trace1=go.Pie(labels=avg_readings['City'], values=avg_readings['PM2.5'].round(2),\n",
    "             title='Average PM2.5 readings by City')\n",
    "fig=go.Figure(trace1)\n",
    "fig.update_traces(textposition='inside')\n",
    "fig=fig.update_layout(uniformtext_minsize=12, uniformtext_mode='hide')\n",
    "fig.show()"
   ]
  },
  {
   "cell_type": "code",
   "execution_count": null,
   "id": "dd4a5ece",
   "metadata": {
    "execution": {
     "iopub.execute_input": "2023-05-10T11:43:47.191053Z",
     "iopub.status.busy": "2023-05-10T11:43:47.190253Z",
     "iopub.status.idle": "2023-05-10T11:43:47.206754Z",
     "shell.execute_reply": "2023-05-10T11:43:47.205690Z"
    },
    "papermill": {
     "duration": 0.043925,
     "end_time": "2023-05-10T11:43:47.209308",
     "exception": false,
     "start_time": "2023-05-10T11:43:47.165383",
     "status": "completed"
    },
    "tags": []
   },
   "outputs": [
    {
     "data": {
      "application/vnd.plotly.v1+json": {
       "config": {
        "plotlyServerURL": "https://plot.ly"
       },
       "data": [
        {
         "labels": [
          "Ahmedabad",
          "Aizawl",
          "Amaravati",
          "Amritsar",
          "Bengaluru",
          "Bhopal",
          "Brajrajnagar",
          "Chandigarh",
          "Chennai",
          "Coimbatore",
          "Delhi",
          "Ernakulam",
          "Gurugram",
          "Guwahati",
          "Hyderabad",
          "Jaipur",
          "Jorapokhar",
          "Kochi",
          "Kolkata",
          "Lucknow",
          "Mumbai",
          "Patna",
          "Shillong",
          "Talcher",
          "Thiruvananthapuram",
          "Visakhapatnam"
         ],
         "textposition": "inside",
         "title": {
          "text": "Average PM10 readings by City"
         },
         "type": "pie",
         "values": [
          117.41,
          24.19,
          78.78,
          115.35,
          89.49,
          119.29,
          123.09,
          85.66,
          109.82,
          39.44,
          228.41,
          50.06,
          150.47,
          116.6,
          96.57,
          123.42,
          142.24,
          67.34,
          115.8,
          118.13,
          110.01,
          119.02,
          59.1,
          156.55,
          55.09,
          107.92
         ]
        }
       ],
       "layout": {
        "template": {
         "data": {
          "bar": [
           {
            "error_x": {
             "color": "#2a3f5f"
            },
            "error_y": {
             "color": "#2a3f5f"
            },
            "marker": {
             "line": {
              "color": "#E5ECF6",
              "width": 0.5
             },
             "pattern": {
              "fillmode": "overlay",
              "size": 10,
              "solidity": 0.2
             }
            },
            "type": "bar"
           }
          ],
          "barpolar": [
           {
            "marker": {
             "line": {
              "color": "#E5ECF6",
              "width": 0.5
             },
             "pattern": {
              "fillmode": "overlay",
              "size": 10,
              "solidity": 0.2
             }
            },
            "type": "barpolar"
           }
          ],
          "carpet": [
           {
            "aaxis": {
             "endlinecolor": "#2a3f5f",
             "gridcolor": "white",
             "linecolor": "white",
             "minorgridcolor": "white",
             "startlinecolor": "#2a3f5f"
            },
            "baxis": {
             "endlinecolor": "#2a3f5f",
             "gridcolor": "white",
             "linecolor": "white",
             "minorgridcolor": "white",
             "startlinecolor": "#2a3f5f"
            },
            "type": "carpet"
           }
          ],
          "choropleth": [
           {
            "colorbar": {
             "outlinewidth": 0,
             "ticks": ""
            },
            "type": "choropleth"
           }
          ],
          "contour": [
           {
            "colorbar": {
             "outlinewidth": 0,
             "ticks": ""
            },
            "colorscale": [
             [
              0,
              "#0d0887"
             ],
             [
              0.1111111111111111,
              "#46039f"
             ],
             [
              0.2222222222222222,
              "#7201a8"
             ],
             [
              0.3333333333333333,
              "#9c179e"
             ],
             [
              0.4444444444444444,
              "#bd3786"
             ],
             [
              0.5555555555555556,
              "#d8576b"
             ],
             [
              0.6666666666666666,
              "#ed7953"
             ],
             [
              0.7777777777777778,
              "#fb9f3a"
             ],
             [
              0.8888888888888888,
              "#fdca26"
             ],
             [
              1,
              "#f0f921"
             ]
            ],
            "type": "contour"
           }
          ],
          "contourcarpet": [
           {
            "colorbar": {
             "outlinewidth": 0,
             "ticks": ""
            },
            "type": "contourcarpet"
           }
          ],
          "heatmap": [
           {
            "colorbar": {
             "outlinewidth": 0,
             "ticks": ""
            },
            "colorscale": [
             [
              0,
              "#0d0887"
             ],
             [
              0.1111111111111111,
              "#46039f"
             ],
             [
              0.2222222222222222,
              "#7201a8"
             ],
             [
              0.3333333333333333,
              "#9c179e"
             ],
             [
              0.4444444444444444,
              "#bd3786"
             ],
             [
              0.5555555555555556,
              "#d8576b"
             ],
             [
              0.6666666666666666,
              "#ed7953"
             ],
             [
              0.7777777777777778,
              "#fb9f3a"
             ],
             [
              0.8888888888888888,
              "#fdca26"
             ],
             [
              1,
              "#f0f921"
             ]
            ],
            "type": "heatmap"
           }
          ],
          "heatmapgl": [
           {
            "colorbar": {
             "outlinewidth": 0,
             "ticks": ""
            },
            "colorscale": [
             [
              0,
              "#0d0887"
             ],
             [
              0.1111111111111111,
              "#46039f"
             ],
             [
              0.2222222222222222,
              "#7201a8"
             ],
             [
              0.3333333333333333,
              "#9c179e"
             ],
             [
              0.4444444444444444,
              "#bd3786"
             ],
             [
              0.5555555555555556,
              "#d8576b"
             ],
             [
              0.6666666666666666,
              "#ed7953"
             ],
             [
              0.7777777777777778,
              "#fb9f3a"
             ],
             [
              0.8888888888888888,
              "#fdca26"
             ],
             [
              1,
              "#f0f921"
             ]
            ],
            "type": "heatmapgl"
           }
          ],
          "histogram": [
           {
            "marker": {
             "pattern": {
              "fillmode": "overlay",
              "size": 10,
              "solidity": 0.2
             }
            },
            "type": "histogram"
           }
          ],
          "histogram2d": [
           {
            "colorbar": {
             "outlinewidth": 0,
             "ticks": ""
            },
            "colorscale": [
             [
              0,
              "#0d0887"
             ],
             [
              0.1111111111111111,
              "#46039f"
             ],
             [
              0.2222222222222222,
              "#7201a8"
             ],
             [
              0.3333333333333333,
              "#9c179e"
             ],
             [
              0.4444444444444444,
              "#bd3786"
             ],
             [
              0.5555555555555556,
              "#d8576b"
             ],
             [
              0.6666666666666666,
              "#ed7953"
             ],
             [
              0.7777777777777778,
              "#fb9f3a"
             ],
             [
              0.8888888888888888,
              "#fdca26"
             ],
             [
              1,
              "#f0f921"
             ]
            ],
            "type": "histogram2d"
           }
          ],
          "histogram2dcontour": [
           {
            "colorbar": {
             "outlinewidth": 0,
             "ticks": ""
            },
            "colorscale": [
             [
              0,
              "#0d0887"
             ],
             [
              0.1111111111111111,
              "#46039f"
             ],
             [
              0.2222222222222222,
              "#7201a8"
             ],
             [
              0.3333333333333333,
              "#9c179e"
             ],
             [
              0.4444444444444444,
              "#bd3786"
             ],
             [
              0.5555555555555556,
              "#d8576b"
             ],
             [
              0.6666666666666666,
              "#ed7953"
             ],
             [
              0.7777777777777778,
              "#fb9f3a"
             ],
             [
              0.8888888888888888,
              "#fdca26"
             ],
             [
              1,
              "#f0f921"
             ]
            ],
            "type": "histogram2dcontour"
           }
          ],
          "mesh3d": [
           {
            "colorbar": {
             "outlinewidth": 0,
             "ticks": ""
            },
            "type": "mesh3d"
           }
          ],
          "parcoords": [
           {
            "line": {
             "colorbar": {
              "outlinewidth": 0,
              "ticks": ""
             }
            },
            "type": "parcoords"
           }
          ],
          "pie": [
           {
            "automargin": true,
            "type": "pie"
           }
          ],
          "scatter": [
           {
            "fillpattern": {
             "fillmode": "overlay",
             "size": 10,
             "solidity": 0.2
            },
            "type": "scatter"
           }
          ],
          "scatter3d": [
           {
            "line": {
             "colorbar": {
              "outlinewidth": 0,
              "ticks": ""
             }
            },
            "marker": {
             "colorbar": {
              "outlinewidth": 0,
              "ticks": ""
             }
            },
            "type": "scatter3d"
           }
          ],
          "scattercarpet": [
           {
            "marker": {
             "colorbar": {
              "outlinewidth": 0,
              "ticks": ""
             }
            },
            "type": "scattercarpet"
           }
          ],
          "scattergeo": [
           {
            "marker": {
             "colorbar": {
              "outlinewidth": 0,
              "ticks": ""
             }
            },
            "type": "scattergeo"
           }
          ],
          "scattergl": [
           {
            "marker": {
             "colorbar": {
              "outlinewidth": 0,
              "ticks": ""
             }
            },
            "type": "scattergl"
           }
          ],
          "scattermapbox": [
           {
            "marker": {
             "colorbar": {
              "outlinewidth": 0,
              "ticks": ""
             }
            },
            "type": "scattermapbox"
           }
          ],
          "scatterpolar": [
           {
            "marker": {
             "colorbar": {
              "outlinewidth": 0,
              "ticks": ""
             }
            },
            "type": "scatterpolar"
           }
          ],
          "scatterpolargl": [
           {
            "marker": {
             "colorbar": {
              "outlinewidth": 0,
              "ticks": ""
             }
            },
            "type": "scatterpolargl"
           }
          ],
          "scatterternary": [
           {
            "marker": {
             "colorbar": {
              "outlinewidth": 0,
              "ticks": ""
             }
            },
            "type": "scatterternary"
           }
          ],
          "surface": [
           {
            "colorbar": {
             "outlinewidth": 0,
             "ticks": ""
            },
            "colorscale": [
             [
              0,
              "#0d0887"
             ],
             [
              0.1111111111111111,
              "#46039f"
             ],
             [
              0.2222222222222222,
              "#7201a8"
             ],
             [
              0.3333333333333333,
              "#9c179e"
             ],
             [
              0.4444444444444444,
              "#bd3786"
             ],
             [
              0.5555555555555556,
              "#d8576b"
             ],
             [
              0.6666666666666666,
              "#ed7953"
             ],
             [
              0.7777777777777778,
              "#fb9f3a"
             ],
             [
              0.8888888888888888,
              "#fdca26"
             ],
             [
              1,
              "#f0f921"
             ]
            ],
            "type": "surface"
           }
          ],
          "table": [
           {
            "cells": {
             "fill": {
              "color": "#EBF0F8"
             },
             "line": {
              "color": "white"
             }
            },
            "header": {
             "fill": {
              "color": "#C8D4E3"
             },
             "line": {
              "color": "white"
             }
            },
            "type": "table"
           }
          ]
         },
         "layout": {
          "annotationdefaults": {
           "arrowcolor": "#2a3f5f",
           "arrowhead": 0,
           "arrowwidth": 1
          },
          "autotypenumbers": "strict",
          "coloraxis": {
           "colorbar": {
            "outlinewidth": 0,
            "ticks": ""
           }
          },
          "colorscale": {
           "diverging": [
            [
             0,
             "#8e0152"
            ],
            [
             0.1,
             "#c51b7d"
            ],
            [
             0.2,
             "#de77ae"
            ],
            [
             0.3,
             "#f1b6da"
            ],
            [
             0.4,
             "#fde0ef"
            ],
            [
             0.5,
             "#f7f7f7"
            ],
            [
             0.6,
             "#e6f5d0"
            ],
            [
             0.7,
             "#b8e186"
            ],
            [
             0.8,
             "#7fbc41"
            ],
            [
             0.9,
             "#4d9221"
            ],
            [
             1,
             "#276419"
            ]
           ],
           "sequential": [
            [
             0,
             "#0d0887"
            ],
            [
             0.1111111111111111,
             "#46039f"
            ],
            [
             0.2222222222222222,
             "#7201a8"
            ],
            [
             0.3333333333333333,
             "#9c179e"
            ],
            [
             0.4444444444444444,
             "#bd3786"
            ],
            [
             0.5555555555555556,
             "#d8576b"
            ],
            [
             0.6666666666666666,
             "#ed7953"
            ],
            [
             0.7777777777777778,
             "#fb9f3a"
            ],
            [
             0.8888888888888888,
             "#fdca26"
            ],
            [
             1,
             "#f0f921"
            ]
           ],
           "sequentialminus": [
            [
             0,
             "#0d0887"
            ],
            [
             0.1111111111111111,
             "#46039f"
            ],
            [
             0.2222222222222222,
             "#7201a8"
            ],
            [
             0.3333333333333333,
             "#9c179e"
            ],
            [
             0.4444444444444444,
             "#bd3786"
            ],
            [
             0.5555555555555556,
             "#d8576b"
            ],
            [
             0.6666666666666666,
             "#ed7953"
            ],
            [
             0.7777777777777778,
             "#fb9f3a"
            ],
            [
             0.8888888888888888,
             "#fdca26"
            ],
            [
             1,
             "#f0f921"
            ]
           ]
          },
          "colorway": [
           "#636efa",
           "#EF553B",
           "#00cc96",
           "#ab63fa",
           "#FFA15A",
           "#19d3f3",
           "#FF6692",
           "#B6E880",
           "#FF97FF",
           "#FECB52"
          ],
          "font": {
           "color": "#2a3f5f"
          },
          "geo": {
           "bgcolor": "white",
           "lakecolor": "white",
           "landcolor": "#E5ECF6",
           "showlakes": true,
           "showland": true,
           "subunitcolor": "white"
          },
          "hoverlabel": {
           "align": "left"
          },
          "hovermode": "closest",
          "mapbox": {
           "style": "light"
          },
          "paper_bgcolor": "white",
          "plot_bgcolor": "#E5ECF6",
          "polar": {
           "angularaxis": {
            "gridcolor": "white",
            "linecolor": "white",
            "ticks": ""
           },
           "bgcolor": "#E5ECF6",
           "radialaxis": {
            "gridcolor": "white",
            "linecolor": "white",
            "ticks": ""
           }
          },
          "scene": {
           "xaxis": {
            "backgroundcolor": "#E5ECF6",
            "gridcolor": "white",
            "gridwidth": 2,
            "linecolor": "white",
            "showbackground": true,
            "ticks": "",
            "zerolinecolor": "white"
           },
           "yaxis": {
            "backgroundcolor": "#E5ECF6",
            "gridcolor": "white",
            "gridwidth": 2,
            "linecolor": "white",
            "showbackground": true,
            "ticks": "",
            "zerolinecolor": "white"
           },
           "zaxis": {
            "backgroundcolor": "#E5ECF6",
            "gridcolor": "white",
            "gridwidth": 2,
            "linecolor": "white",
            "showbackground": true,
            "ticks": "",
            "zerolinecolor": "white"
           }
          },
          "shapedefaults": {
           "line": {
            "color": "#2a3f5f"
           }
          },
          "ternary": {
           "aaxis": {
            "gridcolor": "white",
            "linecolor": "white",
            "ticks": ""
           },
           "baxis": {
            "gridcolor": "white",
            "linecolor": "white",
            "ticks": ""
           },
           "bgcolor": "#E5ECF6",
           "caxis": {
            "gridcolor": "white",
            "linecolor": "white",
            "ticks": ""
           }
          },
          "title": {
           "x": 0.05
          },
          "xaxis": {
           "automargin": true,
           "gridcolor": "white",
           "linecolor": "white",
           "ticks": "",
           "title": {
            "standoff": 15
           },
           "zerolinecolor": "white",
           "zerolinewidth": 2
          },
          "yaxis": {
           "automargin": true,
           "gridcolor": "white",
           "linecolor": "white",
           "ticks": "",
           "title": {
            "standoff": 15
           },
           "zerolinecolor": "white",
           "zerolinewidth": 2
          }
         }
        },
        "uniformtext": {
         "minsize": 12,
         "mode": "hide"
        }
       }
      }
     },
     "metadata": {},
     "output_type": "display_data"
    }
   ],
   "source": [
    "# avg readings for PM10 across all cities (pie chart)\n",
    "trace2=go.Pie(labels=avg_readings['City'], values=avg_readings['PM10'].round(2),\n",
    "             title='Average PM10 readings by City')\n",
    "fig=go.Figure(trace2)\n",
    "fig.update_traces(textposition='inside')\n",
    "fig=fig.update_layout(uniformtext_minsize=12, uniformtext_mode='hide')\n",
    "fig.show()"
   ]
  },
  {
   "cell_type": "code",
   "execution_count": null,
   "id": "1552c15b",
   "metadata": {
    "execution": {
     "iopub.execute_input": "2023-05-10T11:43:47.259375Z",
     "iopub.status.busy": "2023-05-10T11:43:47.258898Z",
     "iopub.status.idle": "2023-05-10T11:43:47.275260Z",
     "shell.execute_reply": "2023-05-10T11:43:47.273903Z"
    },
    "papermill": {
     "duration": 0.044492,
     "end_time": "2023-05-10T11:43:47.278057",
     "exception": false,
     "start_time": "2023-05-10T11:43:47.233565",
     "status": "completed"
    },
    "tags": []
   },
   "outputs": [
    {
     "data": {
      "application/vnd.plotly.v1+json": {
       "config": {
        "plotlyServerURL": "https://plot.ly"
       },
       "data": [
        {
         "labels": [
          "Ahmedabad",
          "Aizawl",
          "Amaravati",
          "Amritsar",
          "Bengaluru",
          "Bhopal",
          "Brajrajnagar",
          "Chandigarh",
          "Chennai",
          "Coimbatore",
          "Delhi",
          "Ernakulam",
          "Gurugram",
          "Guwahati",
          "Hyderabad",
          "Jaipur",
          "Jorapokhar",
          "Kochi",
          "Kolkata",
          "Lucknow",
          "Mumbai",
          "Patna",
          "Shillong",
          "Talcher",
          "Thiruvananthapuram",
          "Visakhapatnam"
         ],
         "textposition": "inside",
         "title": {
          "text": "Average NO readings by City"
         },
         "type": "pie",
         "values": [
          20.96,
          9.41,
          5.2,
          18.64,
          9.43,
          7.37,
          17.37,
          10.59,
          9.34,
          8.83,
          38.96,
          23.05,
          17.54,
          20.04,
          7.95,
          14.68,
          12.53,
          71.1,
          26.55,
          15.26,
          22.7,
          30.28,
          4.09,
          28.07,
          3.85,
          13.48
         ]
        }
       ],
       "layout": {
        "template": {
         "data": {
          "bar": [
           {
            "error_x": {
             "color": "#2a3f5f"
            },
            "error_y": {
             "color": "#2a3f5f"
            },
            "marker": {
             "line": {
              "color": "#E5ECF6",
              "width": 0.5
             },
             "pattern": {
              "fillmode": "overlay",
              "size": 10,
              "solidity": 0.2
             }
            },
            "type": "bar"
           }
          ],
          "barpolar": [
           {
            "marker": {
             "line": {
              "color": "#E5ECF6",
              "width": 0.5
             },
             "pattern": {
              "fillmode": "overlay",
              "size": 10,
              "solidity": 0.2
             }
            },
            "type": "barpolar"
           }
          ],
          "carpet": [
           {
            "aaxis": {
             "endlinecolor": "#2a3f5f",
             "gridcolor": "white",
             "linecolor": "white",
             "minorgridcolor": "white",
             "startlinecolor": "#2a3f5f"
            },
            "baxis": {
             "endlinecolor": "#2a3f5f",
             "gridcolor": "white",
             "linecolor": "white",
             "minorgridcolor": "white",
             "startlinecolor": "#2a3f5f"
            },
            "type": "carpet"
           }
          ],
          "choropleth": [
           {
            "colorbar": {
             "outlinewidth": 0,
             "ticks": ""
            },
            "type": "choropleth"
           }
          ],
          "contour": [
           {
            "colorbar": {
             "outlinewidth": 0,
             "ticks": ""
            },
            "colorscale": [
             [
              0,
              "#0d0887"
             ],
             [
              0.1111111111111111,
              "#46039f"
             ],
             [
              0.2222222222222222,
              "#7201a8"
             ],
             [
              0.3333333333333333,
              "#9c179e"
             ],
             [
              0.4444444444444444,
              "#bd3786"
             ],
             [
              0.5555555555555556,
              "#d8576b"
             ],
             [
              0.6666666666666666,
              "#ed7953"
             ],
             [
              0.7777777777777778,
              "#fb9f3a"
             ],
             [
              0.8888888888888888,
              "#fdca26"
             ],
             [
              1,
              "#f0f921"
             ]
            ],
            "type": "contour"
           }
          ],
          "contourcarpet": [
           {
            "colorbar": {
             "outlinewidth": 0,
             "ticks": ""
            },
            "type": "contourcarpet"
           }
          ],
          "heatmap": [
           {
            "colorbar": {
             "outlinewidth": 0,
             "ticks": ""
            },
            "colorscale": [
             [
              0,
              "#0d0887"
             ],
             [
              0.1111111111111111,
              "#46039f"
             ],
             [
              0.2222222222222222,
              "#7201a8"
             ],
             [
              0.3333333333333333,
              "#9c179e"
             ],
             [
              0.4444444444444444,
              "#bd3786"
             ],
             [
              0.5555555555555556,
              "#d8576b"
             ],
             [
              0.6666666666666666,
              "#ed7953"
             ],
             [
              0.7777777777777778,
              "#fb9f3a"
             ],
             [
              0.8888888888888888,
              "#fdca26"
             ],
             [
              1,
              "#f0f921"
             ]
            ],
            "type": "heatmap"
           }
          ],
          "heatmapgl": [
           {
            "colorbar": {
             "outlinewidth": 0,
             "ticks": ""
            },
            "colorscale": [
             [
              0,
              "#0d0887"
             ],
             [
              0.1111111111111111,
              "#46039f"
             ],
             [
              0.2222222222222222,
              "#7201a8"
             ],
             [
              0.3333333333333333,
              "#9c179e"
             ],
             [
              0.4444444444444444,
              "#bd3786"
             ],
             [
              0.5555555555555556,
              "#d8576b"
             ],
             [
              0.6666666666666666,
              "#ed7953"
             ],
             [
              0.7777777777777778,
              "#fb9f3a"
             ],
             [
              0.8888888888888888,
              "#fdca26"
             ],
             [
              1,
              "#f0f921"
             ]
            ],
            "type": "heatmapgl"
           }
          ],
          "histogram": [
           {
            "marker": {
             "pattern": {
              "fillmode": "overlay",
              "size": 10,
              "solidity": 0.2
             }
            },
            "type": "histogram"
           }
          ],
          "histogram2d": [
           {
            "colorbar": {
             "outlinewidth": 0,
             "ticks": ""
            },
            "colorscale": [
             [
              0,
              "#0d0887"
             ],
             [
              0.1111111111111111,
              "#46039f"
             ],
             [
              0.2222222222222222,
              "#7201a8"
             ],
             [
              0.3333333333333333,
              "#9c179e"
             ],
             [
              0.4444444444444444,
              "#bd3786"
             ],
             [
              0.5555555555555556,
              "#d8576b"
             ],
             [
              0.6666666666666666,
              "#ed7953"
             ],
             [
              0.7777777777777778,
              "#fb9f3a"
             ],
             [
              0.8888888888888888,
              "#fdca26"
             ],
             [
              1,
              "#f0f921"
             ]
            ],
            "type": "histogram2d"
           }
          ],
          "histogram2dcontour": [
           {
            "colorbar": {
             "outlinewidth": 0,
             "ticks": ""
            },
            "colorscale": [
             [
              0,
              "#0d0887"
             ],
             [
              0.1111111111111111,
              "#46039f"
             ],
             [
              0.2222222222222222,
              "#7201a8"
             ],
             [
              0.3333333333333333,
              "#9c179e"
             ],
             [
              0.4444444444444444,
              "#bd3786"
             ],
             [
              0.5555555555555556,
              "#d8576b"
             ],
             [
              0.6666666666666666,
              "#ed7953"
             ],
             [
              0.7777777777777778,
              "#fb9f3a"
             ],
             [
              0.8888888888888888,
              "#fdca26"
             ],
             [
              1,
              "#f0f921"
             ]
            ],
            "type": "histogram2dcontour"
           }
          ],
          "mesh3d": [
           {
            "colorbar": {
             "outlinewidth": 0,
             "ticks": ""
            },
            "type": "mesh3d"
           }
          ],
          "parcoords": [
           {
            "line": {
             "colorbar": {
              "outlinewidth": 0,
              "ticks": ""
             }
            },
            "type": "parcoords"
           }
          ],
          "pie": [
           {
            "automargin": true,
            "type": "pie"
           }
          ],
          "scatter": [
           {
            "fillpattern": {
             "fillmode": "overlay",
             "size": 10,
             "solidity": 0.2
            },
            "type": "scatter"
           }
          ],
          "scatter3d": [
           {
            "line": {
             "colorbar": {
              "outlinewidth": 0,
              "ticks": ""
             }
            },
            "marker": {
             "colorbar": {
              "outlinewidth": 0,
              "ticks": ""
             }
            },
            "type": "scatter3d"
           }
          ],
          "scattercarpet": [
           {
            "marker": {
             "colorbar": {
              "outlinewidth": 0,
              "ticks": ""
             }
            },
            "type": "scattercarpet"
           }
          ],
          "scattergeo": [
           {
            "marker": {
             "colorbar": {
              "outlinewidth": 0,
              "ticks": ""
             }
            },
            "type": "scattergeo"
           }
          ],
          "scattergl": [
           {
            "marker": {
             "colorbar": {
              "outlinewidth": 0,
              "ticks": ""
             }
            },
            "type": "scattergl"
           }
          ],
          "scattermapbox": [
           {
            "marker": {
             "colorbar": {
              "outlinewidth": 0,
              "ticks": ""
             }
            },
            "type": "scattermapbox"
           }
          ],
          "scatterpolar": [
           {
            "marker": {
             "colorbar": {
              "outlinewidth": 0,
              "ticks": ""
             }
            },
            "type": "scatterpolar"
           }
          ],
          "scatterpolargl": [
           {
            "marker": {
             "colorbar": {
              "outlinewidth": 0,
              "ticks": ""
             }
            },
            "type": "scatterpolargl"
           }
          ],
          "scatterternary": [
           {
            "marker": {
             "colorbar": {
              "outlinewidth": 0,
              "ticks": ""
             }
            },
            "type": "scatterternary"
           }
          ],
          "surface": [
           {
            "colorbar": {
             "outlinewidth": 0,
             "ticks": ""
            },
            "colorscale": [
             [
              0,
              "#0d0887"
             ],
             [
              0.1111111111111111,
              "#46039f"
             ],
             [
              0.2222222222222222,
              "#7201a8"
             ],
             [
              0.3333333333333333,
              "#9c179e"
             ],
             [
              0.4444444444444444,
              "#bd3786"
             ],
             [
              0.5555555555555556,
              "#d8576b"
             ],
             [
              0.6666666666666666,
              "#ed7953"
             ],
             [
              0.7777777777777778,
              "#fb9f3a"
             ],
             [
              0.8888888888888888,
              "#fdca26"
             ],
             [
              1,
              "#f0f921"
             ]
            ],
            "type": "surface"
           }
          ],
          "table": [
           {
            "cells": {
             "fill": {
              "color": "#EBF0F8"
             },
             "line": {
              "color": "white"
             }
            },
            "header": {
             "fill": {
              "color": "#C8D4E3"
             },
             "line": {
              "color": "white"
             }
            },
            "type": "table"
           }
          ]
         },
         "layout": {
          "annotationdefaults": {
           "arrowcolor": "#2a3f5f",
           "arrowhead": 0,
           "arrowwidth": 1
          },
          "autotypenumbers": "strict",
          "coloraxis": {
           "colorbar": {
            "outlinewidth": 0,
            "ticks": ""
           }
          },
          "colorscale": {
           "diverging": [
            [
             0,
             "#8e0152"
            ],
            [
             0.1,
             "#c51b7d"
            ],
            [
             0.2,
             "#de77ae"
            ],
            [
             0.3,
             "#f1b6da"
            ],
            [
             0.4,
             "#fde0ef"
            ],
            [
             0.5,
             "#f7f7f7"
            ],
            [
             0.6,
             "#e6f5d0"
            ],
            [
             0.7,
             "#b8e186"
            ],
            [
             0.8,
             "#7fbc41"
            ],
            [
             0.9,
             "#4d9221"
            ],
            [
             1,
             "#276419"
            ]
           ],
           "sequential": [
            [
             0,
             "#0d0887"
            ],
            [
             0.1111111111111111,
             "#46039f"
            ],
            [
             0.2222222222222222,
             "#7201a8"
            ],
            [
             0.3333333333333333,
             "#9c179e"
            ],
            [
             0.4444444444444444,
             "#bd3786"
            ],
            [
             0.5555555555555556,
             "#d8576b"
            ],
            [
             0.6666666666666666,
             "#ed7953"
            ],
            [
             0.7777777777777778,
             "#fb9f3a"
            ],
            [
             0.8888888888888888,
             "#fdca26"
            ],
            [
             1,
             "#f0f921"
            ]
           ],
           "sequentialminus": [
            [
             0,
             "#0d0887"
            ],
            [
             0.1111111111111111,
             "#46039f"
            ],
            [
             0.2222222222222222,
             "#7201a8"
            ],
            [
             0.3333333333333333,
             "#9c179e"
            ],
            [
             0.4444444444444444,
             "#bd3786"
            ],
            [
             0.5555555555555556,
             "#d8576b"
            ],
            [
             0.6666666666666666,
             "#ed7953"
            ],
            [
             0.7777777777777778,
             "#fb9f3a"
            ],
            [
             0.8888888888888888,
             "#fdca26"
            ],
            [
             1,
             "#f0f921"
            ]
           ]
          },
          "colorway": [
           "#636efa",
           "#EF553B",
           "#00cc96",
           "#ab63fa",
           "#FFA15A",
           "#19d3f3",
           "#FF6692",
           "#B6E880",
           "#FF97FF",
           "#FECB52"
          ],
          "font": {
           "color": "#2a3f5f"
          },
          "geo": {
           "bgcolor": "white",
           "lakecolor": "white",
           "landcolor": "#E5ECF6",
           "showlakes": true,
           "showland": true,
           "subunitcolor": "white"
          },
          "hoverlabel": {
           "align": "left"
          },
          "hovermode": "closest",
          "mapbox": {
           "style": "light"
          },
          "paper_bgcolor": "white",
          "plot_bgcolor": "#E5ECF6",
          "polar": {
           "angularaxis": {
            "gridcolor": "white",
            "linecolor": "white",
            "ticks": ""
           },
           "bgcolor": "#E5ECF6",
           "radialaxis": {
            "gridcolor": "white",
            "linecolor": "white",
            "ticks": ""
           }
          },
          "scene": {
           "xaxis": {
            "backgroundcolor": "#E5ECF6",
            "gridcolor": "white",
            "gridwidth": 2,
            "linecolor": "white",
            "showbackground": true,
            "ticks": "",
            "zerolinecolor": "white"
           },
           "yaxis": {
            "backgroundcolor": "#E5ECF6",
            "gridcolor": "white",
            "gridwidth": 2,
            "linecolor": "white",
            "showbackground": true,
            "ticks": "",
            "zerolinecolor": "white"
           },
           "zaxis": {
            "backgroundcolor": "#E5ECF6",
            "gridcolor": "white",
            "gridwidth": 2,
            "linecolor": "white",
            "showbackground": true,
            "ticks": "",
            "zerolinecolor": "white"
           }
          },
          "shapedefaults": {
           "line": {
            "color": "#2a3f5f"
           }
          },
          "ternary": {
           "aaxis": {
            "gridcolor": "white",
            "linecolor": "white",
            "ticks": ""
           },
           "baxis": {
            "gridcolor": "white",
            "linecolor": "white",
            "ticks": ""
           },
           "bgcolor": "#E5ECF6",
           "caxis": {
            "gridcolor": "white",
            "linecolor": "white",
            "ticks": ""
           }
          },
          "title": {
           "x": 0.05
          },
          "xaxis": {
           "automargin": true,
           "gridcolor": "white",
           "linecolor": "white",
           "ticks": "",
           "title": {
            "standoff": 15
           },
           "zerolinecolor": "white",
           "zerolinewidth": 2
          },
          "yaxis": {
           "automargin": true,
           "gridcolor": "white",
           "linecolor": "white",
           "ticks": "",
           "title": {
            "standoff": 15
           },
           "zerolinecolor": "white",
           "zerolinewidth": 2
          }
         }
        },
        "uniformtext": {
         "minsize": 12,
         "mode": "hide"
        }
       }
      }
     },
     "metadata": {},
     "output_type": "display_data"
    }
   ],
   "source": [
    "# avg readings for NO across all cities (pie chart)\n",
    "trace3=go.Pie(labels=avg_readings['City'], values=avg_readings['NO'].round(2),\n",
    "             title='Average NO readings by City')\n",
    "fig=go.Figure(trace3)\n",
    "fig.update_traces(textposition='inside')\n",
    "fig=fig.update_layout(uniformtext_minsize=12, uniformtext_mode='hide')\n",
    "fig.show()"
   ]
  },
  {
   "cell_type": "code",
   "execution_count": null,
   "id": "0e1eb96c",
   "metadata": {
    "execution": {
     "iopub.execute_input": "2023-05-10T11:43:47.328933Z",
     "iopub.status.busy": "2023-05-10T11:43:47.327945Z",
     "iopub.status.idle": "2023-05-10T11:43:47.344461Z",
     "shell.execute_reply": "2023-05-10T11:43:47.343032Z"
    },
    "papermill": {
     "duration": 0.044861,
     "end_time": "2023-05-10T11:43:47.347026",
     "exception": false,
     "start_time": "2023-05-10T11:43:47.302165",
     "status": "completed"
    },
    "tags": []
   },
   "outputs": [
    {
     "data": {
      "application/vnd.plotly.v1+json": {
       "config": {
        "plotlyServerURL": "https://plot.ly"
       },
       "data": [
        {
         "labels": [
          "Ahmedabad",
          "Aizawl",
          "Amaravati",
          "Amritsar",
          "Bengaluru",
          "Bhopal",
          "Brajrajnagar",
          "Chandigarh",
          "Chennai",
          "Coimbatore",
          "Delhi",
          "Ernakulam",
          "Gurugram",
          "Guwahati",
          "Hyderabad",
          "Jaipur",
          "Jorapokhar",
          "Kochi",
          "Kolkata",
          "Lucknow",
          "Mumbai",
          "Patna",
          "Shillong",
          "Talcher",
          "Thiruvananthapuram",
          "Visakhapatnam"
         ],
         "textposition": "inside",
         "title": {
          "text": "Average NO2 readings by City"
         },
         "type": "pie",
         "values": [
          49.81,
          0.39,
          22.54,
          18.88,
          28,
          31.26,
          19.52,
          11.83,
          17.07,
          28.78,
          50.76,
          12.16,
          23.8,
          13.6,
          28.39,
          32.37,
          13.78,
          15.45,
          40.03,
          33.19,
          27.43,
          36.51,
          7.66,
          17.34,
          9.91,
          35.73
         ]
        }
       ],
       "layout": {
        "template": {
         "data": {
          "bar": [
           {
            "error_x": {
             "color": "#2a3f5f"
            },
            "error_y": {
             "color": "#2a3f5f"
            },
            "marker": {
             "line": {
              "color": "#E5ECF6",
              "width": 0.5
             },
             "pattern": {
              "fillmode": "overlay",
              "size": 10,
              "solidity": 0.2
             }
            },
            "type": "bar"
           }
          ],
          "barpolar": [
           {
            "marker": {
             "line": {
              "color": "#E5ECF6",
              "width": 0.5
             },
             "pattern": {
              "fillmode": "overlay",
              "size": 10,
              "solidity": 0.2
             }
            },
            "type": "barpolar"
           }
          ],
          "carpet": [
           {
            "aaxis": {
             "endlinecolor": "#2a3f5f",
             "gridcolor": "white",
             "linecolor": "white",
             "minorgridcolor": "white",
             "startlinecolor": "#2a3f5f"
            },
            "baxis": {
             "endlinecolor": "#2a3f5f",
             "gridcolor": "white",
             "linecolor": "white",
             "minorgridcolor": "white",
             "startlinecolor": "#2a3f5f"
            },
            "type": "carpet"
           }
          ],
          "choropleth": [
           {
            "colorbar": {
             "outlinewidth": 0,
             "ticks": ""
            },
            "type": "choropleth"
           }
          ],
          "contour": [
           {
            "colorbar": {
             "outlinewidth": 0,
             "ticks": ""
            },
            "colorscale": [
             [
              0,
              "#0d0887"
             ],
             [
              0.1111111111111111,
              "#46039f"
             ],
             [
              0.2222222222222222,
              "#7201a8"
             ],
             [
              0.3333333333333333,
              "#9c179e"
             ],
             [
              0.4444444444444444,
              "#bd3786"
             ],
             [
              0.5555555555555556,
              "#d8576b"
             ],
             [
              0.6666666666666666,
              "#ed7953"
             ],
             [
              0.7777777777777778,
              "#fb9f3a"
             ],
             [
              0.8888888888888888,
              "#fdca26"
             ],
             [
              1,
              "#f0f921"
             ]
            ],
            "type": "contour"
           }
          ],
          "contourcarpet": [
           {
            "colorbar": {
             "outlinewidth": 0,
             "ticks": ""
            },
            "type": "contourcarpet"
           }
          ],
          "heatmap": [
           {
            "colorbar": {
             "outlinewidth": 0,
             "ticks": ""
            },
            "colorscale": [
             [
              0,
              "#0d0887"
             ],
             [
              0.1111111111111111,
              "#46039f"
             ],
             [
              0.2222222222222222,
              "#7201a8"
             ],
             [
              0.3333333333333333,
              "#9c179e"
             ],
             [
              0.4444444444444444,
              "#bd3786"
             ],
             [
              0.5555555555555556,
              "#d8576b"
             ],
             [
              0.6666666666666666,
              "#ed7953"
             ],
             [
              0.7777777777777778,
              "#fb9f3a"
             ],
             [
              0.8888888888888888,
              "#fdca26"
             ],
             [
              1,
              "#f0f921"
             ]
            ],
            "type": "heatmap"
           }
          ],
          "heatmapgl": [
           {
            "colorbar": {
             "outlinewidth": 0,
             "ticks": ""
            },
            "colorscale": [
             [
              0,
              "#0d0887"
             ],
             [
              0.1111111111111111,
              "#46039f"
             ],
             [
              0.2222222222222222,
              "#7201a8"
             ],
             [
              0.3333333333333333,
              "#9c179e"
             ],
             [
              0.4444444444444444,
              "#bd3786"
             ],
             [
              0.5555555555555556,
              "#d8576b"
             ],
             [
              0.6666666666666666,
              "#ed7953"
             ],
             [
              0.7777777777777778,
              "#fb9f3a"
             ],
             [
              0.8888888888888888,
              "#fdca26"
             ],
             [
              1,
              "#f0f921"
             ]
            ],
            "type": "heatmapgl"
           }
          ],
          "histogram": [
           {
            "marker": {
             "pattern": {
              "fillmode": "overlay",
              "size": 10,
              "solidity": 0.2
             }
            },
            "type": "histogram"
           }
          ],
          "histogram2d": [
           {
            "colorbar": {
             "outlinewidth": 0,
             "ticks": ""
            },
            "colorscale": [
             [
              0,
              "#0d0887"
             ],
             [
              0.1111111111111111,
              "#46039f"
             ],
             [
              0.2222222222222222,
              "#7201a8"
             ],
             [
              0.3333333333333333,
              "#9c179e"
             ],
             [
              0.4444444444444444,
              "#bd3786"
             ],
             [
              0.5555555555555556,
              "#d8576b"
             ],
             [
              0.6666666666666666,
              "#ed7953"
             ],
             [
              0.7777777777777778,
              "#fb9f3a"
             ],
             [
              0.8888888888888888,
              "#fdca26"
             ],
             [
              1,
              "#f0f921"
             ]
            ],
            "type": "histogram2d"
           }
          ],
          "histogram2dcontour": [
           {
            "colorbar": {
             "outlinewidth": 0,
             "ticks": ""
            },
            "colorscale": [
             [
              0,
              "#0d0887"
             ],
             [
              0.1111111111111111,
              "#46039f"
             ],
             [
              0.2222222222222222,
              "#7201a8"
             ],
             [
              0.3333333333333333,
              "#9c179e"
             ],
             [
              0.4444444444444444,
              "#bd3786"
             ],
             [
              0.5555555555555556,
              "#d8576b"
             ],
             [
              0.6666666666666666,
              "#ed7953"
             ],
             [
              0.7777777777777778,
              "#fb9f3a"
             ],
             [
              0.8888888888888888,
              "#fdca26"
             ],
             [
              1,
              "#f0f921"
             ]
            ],
            "type": "histogram2dcontour"
           }
          ],
          "mesh3d": [
           {
            "colorbar": {
             "outlinewidth": 0,
             "ticks": ""
            },
            "type": "mesh3d"
           }
          ],
          "parcoords": [
           {
            "line": {
             "colorbar": {
              "outlinewidth": 0,
              "ticks": ""
             }
            },
            "type": "parcoords"
           }
          ],
          "pie": [
           {
            "automargin": true,
            "type": "pie"
           }
          ],
          "scatter": [
           {
            "fillpattern": {
             "fillmode": "overlay",
             "size": 10,
             "solidity": 0.2
            },
            "type": "scatter"
           }
          ],
          "scatter3d": [
           {
            "line": {
             "colorbar": {
              "outlinewidth": 0,
              "ticks": ""
             }
            },
            "marker": {
             "colorbar": {
              "outlinewidth": 0,
              "ticks": ""
             }
            },
            "type": "scatter3d"
           }
          ],
          "scattercarpet": [
           {
            "marker": {
             "colorbar": {
              "outlinewidth": 0,
              "ticks": ""
             }
            },
            "type": "scattercarpet"
           }
          ],
          "scattergeo": [
           {
            "marker": {
             "colorbar": {
              "outlinewidth": 0,
              "ticks": ""
             }
            },
            "type": "scattergeo"
           }
          ],
          "scattergl": [
           {
            "marker": {
             "colorbar": {
              "outlinewidth": 0,
              "ticks": ""
             }
            },
            "type": "scattergl"
           }
          ],
          "scattermapbox": [
           {
            "marker": {
             "colorbar": {
              "outlinewidth": 0,
              "ticks": ""
             }
            },
            "type": "scattermapbox"
           }
          ],
          "scatterpolar": [
           {
            "marker": {
             "colorbar": {
              "outlinewidth": 0,
              "ticks": ""
             }
            },
            "type": "scatterpolar"
           }
          ],
          "scatterpolargl": [
           {
            "marker": {
             "colorbar": {
              "outlinewidth": 0,
              "ticks": ""
             }
            },
            "type": "scatterpolargl"
           }
          ],
          "scatterternary": [
           {
            "marker": {
             "colorbar": {
              "outlinewidth": 0,
              "ticks": ""
             }
            },
            "type": "scatterternary"
           }
          ],
          "surface": [
           {
            "colorbar": {
             "outlinewidth": 0,
             "ticks": ""
            },
            "colorscale": [
             [
              0,
              "#0d0887"
             ],
             [
              0.1111111111111111,
              "#46039f"
             ],
             [
              0.2222222222222222,
              "#7201a8"
             ],
             [
              0.3333333333333333,
              "#9c179e"
             ],
             [
              0.4444444444444444,
              "#bd3786"
             ],
             [
              0.5555555555555556,
              "#d8576b"
             ],
             [
              0.6666666666666666,
              "#ed7953"
             ],
             [
              0.7777777777777778,
              "#fb9f3a"
             ],
             [
              0.8888888888888888,
              "#fdca26"
             ],
             [
              1,
              "#f0f921"
             ]
            ],
            "type": "surface"
           }
          ],
          "table": [
           {
            "cells": {
             "fill": {
              "color": "#EBF0F8"
             },
             "line": {
              "color": "white"
             }
            },
            "header": {
             "fill": {
              "color": "#C8D4E3"
             },
             "line": {
              "color": "white"
             }
            },
            "type": "table"
           }
          ]
         },
         "layout": {
          "annotationdefaults": {
           "arrowcolor": "#2a3f5f",
           "arrowhead": 0,
           "arrowwidth": 1
          },
          "autotypenumbers": "strict",
          "coloraxis": {
           "colorbar": {
            "outlinewidth": 0,
            "ticks": ""
           }
          },
          "colorscale": {
           "diverging": [
            [
             0,
             "#8e0152"
            ],
            [
             0.1,
             "#c51b7d"
            ],
            [
             0.2,
             "#de77ae"
            ],
            [
             0.3,
             "#f1b6da"
            ],
            [
             0.4,
             "#fde0ef"
            ],
            [
             0.5,
             "#f7f7f7"
            ],
            [
             0.6,
             "#e6f5d0"
            ],
            [
             0.7,
             "#b8e186"
            ],
            [
             0.8,
             "#7fbc41"
            ],
            [
             0.9,
             "#4d9221"
            ],
            [
             1,
             "#276419"
            ]
           ],
           "sequential": [
            [
             0,
             "#0d0887"
            ],
            [
             0.1111111111111111,
             "#46039f"
            ],
            [
             0.2222222222222222,
             "#7201a8"
            ],
            [
             0.3333333333333333,
             "#9c179e"
            ],
            [
             0.4444444444444444,
             "#bd3786"
            ],
            [
             0.5555555555555556,
             "#d8576b"
            ],
            [
             0.6666666666666666,
             "#ed7953"
            ],
            [
             0.7777777777777778,
             "#fb9f3a"
            ],
            [
             0.8888888888888888,
             "#fdca26"
            ],
            [
             1,
             "#f0f921"
            ]
           ],
           "sequentialminus": [
            [
             0,
             "#0d0887"
            ],
            [
             0.1111111111111111,
             "#46039f"
            ],
            [
             0.2222222222222222,
             "#7201a8"
            ],
            [
             0.3333333333333333,
             "#9c179e"
            ],
            [
             0.4444444444444444,
             "#bd3786"
            ],
            [
             0.5555555555555556,
             "#d8576b"
            ],
            [
             0.6666666666666666,
             "#ed7953"
            ],
            [
             0.7777777777777778,
             "#fb9f3a"
            ],
            [
             0.8888888888888888,
             "#fdca26"
            ],
            [
             1,
             "#f0f921"
            ]
           ]
          },
          "colorway": [
           "#636efa",
           "#EF553B",
           "#00cc96",
           "#ab63fa",
           "#FFA15A",
           "#19d3f3",
           "#FF6692",
           "#B6E880",
           "#FF97FF",
           "#FECB52"
          ],
          "font": {
           "color": "#2a3f5f"
          },
          "geo": {
           "bgcolor": "white",
           "lakecolor": "white",
           "landcolor": "#E5ECF6",
           "showlakes": true,
           "showland": true,
           "subunitcolor": "white"
          },
          "hoverlabel": {
           "align": "left"
          },
          "hovermode": "closest",
          "mapbox": {
           "style": "light"
          },
          "paper_bgcolor": "white",
          "plot_bgcolor": "#E5ECF6",
          "polar": {
           "angularaxis": {
            "gridcolor": "white",
            "linecolor": "white",
            "ticks": ""
           },
           "bgcolor": "#E5ECF6",
           "radialaxis": {
            "gridcolor": "white",
            "linecolor": "white",
            "ticks": ""
           }
          },
          "scene": {
           "xaxis": {
            "backgroundcolor": "#E5ECF6",
            "gridcolor": "white",
            "gridwidth": 2,
            "linecolor": "white",
            "showbackground": true,
            "ticks": "",
            "zerolinecolor": "white"
           },
           "yaxis": {
            "backgroundcolor": "#E5ECF6",
            "gridcolor": "white",
            "gridwidth": 2,
            "linecolor": "white",
            "showbackground": true,
            "ticks": "",
            "zerolinecolor": "white"
           },
           "zaxis": {
            "backgroundcolor": "#E5ECF6",
            "gridcolor": "white",
            "gridwidth": 2,
            "linecolor": "white",
            "showbackground": true,
            "ticks": "",
            "zerolinecolor": "white"
           }
          },
          "shapedefaults": {
           "line": {
            "color": "#2a3f5f"
           }
          },
          "ternary": {
           "aaxis": {
            "gridcolor": "white",
            "linecolor": "white",
            "ticks": ""
           },
           "baxis": {
            "gridcolor": "white",
            "linecolor": "white",
            "ticks": ""
           },
           "bgcolor": "#E5ECF6",
           "caxis": {
            "gridcolor": "white",
            "linecolor": "white",
            "ticks": ""
           }
          },
          "title": {
           "x": 0.05
          },
          "xaxis": {
           "automargin": true,
           "gridcolor": "white",
           "linecolor": "white",
           "ticks": "",
           "title": {
            "standoff": 15
           },
           "zerolinecolor": "white",
           "zerolinewidth": 2
          },
          "yaxis": {
           "automargin": true,
           "gridcolor": "white",
           "linecolor": "white",
           "ticks": "",
           "title": {
            "standoff": 15
           },
           "zerolinecolor": "white",
           "zerolinewidth": 2
          }
         }
        },
        "uniformtext": {
         "minsize": 12,
         "mode": "hide"
        }
       }
      }
     },
     "metadata": {},
     "output_type": "display_data"
    }
   ],
   "source": [
    "# avg readings for NO2 across all cities (pie chart)\n",
    "trace4=go.Pie(labels=avg_readings['City'], values=avg_readings['NO2'],\n",
    "             title='Average NO2 readings by City')\n",
    "fig=go.Figure(trace4)\n",
    "fig.update_traces(textposition='inside')\n",
    "fig=fig.update_layout(uniformtext_minsize=12, uniformtext_mode='hide')\n",
    "fig.show()"
   ]
  },
  {
   "cell_type": "code",
   "execution_count": null,
   "id": "edcb7c1e",
   "metadata": {
    "execution": {
     "iopub.execute_input": "2023-05-10T11:43:47.398566Z",
     "iopub.status.busy": "2023-05-10T11:43:47.398145Z",
     "iopub.status.idle": "2023-05-10T11:43:47.412750Z",
     "shell.execute_reply": "2023-05-10T11:43:47.411593Z"
    },
    "papermill": {
     "duration": 0.043656,
     "end_time": "2023-05-10T11:43:47.415303",
     "exception": false,
     "start_time": "2023-05-10T11:43:47.371647",
     "status": "completed"
    },
    "tags": []
   },
   "outputs": [
    {
     "data": {
      "application/vnd.plotly.v1+json": {
       "config": {
        "plotlyServerURL": "https://plot.ly"
       },
       "data": [
        {
         "labels": [
          "Ahmedabad",
          "Aizawl",
          "Amaravati",
          "Amritsar",
          "Bengaluru",
          "Bhopal",
          "Brajrajnagar",
          "Chandigarh",
          "Chennai",
          "Coimbatore",
          "Delhi",
          "Ernakulam",
          "Gurugram",
          "Guwahati",
          "Hyderabad",
          "Jaipur",
          "Jorapokhar",
          "Kochi",
          "Kolkata",
          "Lucknow",
          "Mumbai",
          "Patna",
          "Shillong",
          "Talcher",
          "Thiruvananthapuram",
          "Visakhapatnam"
         ],
         "textposition": "inside",
         "title": {
          "text": "Average NOx readings by City"
         },
         "type": "pie",
         "values": [
          42.92,
          12.61,
          16.36,
          34.86,
          19.74,
          22.74,
          25.99,
          15.29,
          17.93,
          30.9,
          58.57,
          24.49,
          30.17,
          44.28,
          19.48,
          38.9,
          32.31,
          68.41,
          63.33,
          24.1,
          49.39,
          44.46,
          4.33,
          31.97,
          8.53,
          25.42
         ]
        }
       ],
       "layout": {
        "template": {
         "data": {
          "bar": [
           {
            "error_x": {
             "color": "#2a3f5f"
            },
            "error_y": {
             "color": "#2a3f5f"
            },
            "marker": {
             "line": {
              "color": "#E5ECF6",
              "width": 0.5
             },
             "pattern": {
              "fillmode": "overlay",
              "size": 10,
              "solidity": 0.2
             }
            },
            "type": "bar"
           }
          ],
          "barpolar": [
           {
            "marker": {
             "line": {
              "color": "#E5ECF6",
              "width": 0.5
             },
             "pattern": {
              "fillmode": "overlay",
              "size": 10,
              "solidity": 0.2
             }
            },
            "type": "barpolar"
           }
          ],
          "carpet": [
           {
            "aaxis": {
             "endlinecolor": "#2a3f5f",
             "gridcolor": "white",
             "linecolor": "white",
             "minorgridcolor": "white",
             "startlinecolor": "#2a3f5f"
            },
            "baxis": {
             "endlinecolor": "#2a3f5f",
             "gridcolor": "white",
             "linecolor": "white",
             "minorgridcolor": "white",
             "startlinecolor": "#2a3f5f"
            },
            "type": "carpet"
           }
          ],
          "choropleth": [
           {
            "colorbar": {
             "outlinewidth": 0,
             "ticks": ""
            },
            "type": "choropleth"
           }
          ],
          "contour": [
           {
            "colorbar": {
             "outlinewidth": 0,
             "ticks": ""
            },
            "colorscale": [
             [
              0,
              "#0d0887"
             ],
             [
              0.1111111111111111,
              "#46039f"
             ],
             [
              0.2222222222222222,
              "#7201a8"
             ],
             [
              0.3333333333333333,
              "#9c179e"
             ],
             [
              0.4444444444444444,
              "#bd3786"
             ],
             [
              0.5555555555555556,
              "#d8576b"
             ],
             [
              0.6666666666666666,
              "#ed7953"
             ],
             [
              0.7777777777777778,
              "#fb9f3a"
             ],
             [
              0.8888888888888888,
              "#fdca26"
             ],
             [
              1,
              "#f0f921"
             ]
            ],
            "type": "contour"
           }
          ],
          "contourcarpet": [
           {
            "colorbar": {
             "outlinewidth": 0,
             "ticks": ""
            },
            "type": "contourcarpet"
           }
          ],
          "heatmap": [
           {
            "colorbar": {
             "outlinewidth": 0,
             "ticks": ""
            },
            "colorscale": [
             [
              0,
              "#0d0887"
             ],
             [
              0.1111111111111111,
              "#46039f"
             ],
             [
              0.2222222222222222,
              "#7201a8"
             ],
             [
              0.3333333333333333,
              "#9c179e"
             ],
             [
              0.4444444444444444,
              "#bd3786"
             ],
             [
              0.5555555555555556,
              "#d8576b"
             ],
             [
              0.6666666666666666,
              "#ed7953"
             ],
             [
              0.7777777777777778,
              "#fb9f3a"
             ],
             [
              0.8888888888888888,
              "#fdca26"
             ],
             [
              1,
              "#f0f921"
             ]
            ],
            "type": "heatmap"
           }
          ],
          "heatmapgl": [
           {
            "colorbar": {
             "outlinewidth": 0,
             "ticks": ""
            },
            "colorscale": [
             [
              0,
              "#0d0887"
             ],
             [
              0.1111111111111111,
              "#46039f"
             ],
             [
              0.2222222222222222,
              "#7201a8"
             ],
             [
              0.3333333333333333,
              "#9c179e"
             ],
             [
              0.4444444444444444,
              "#bd3786"
             ],
             [
              0.5555555555555556,
              "#d8576b"
             ],
             [
              0.6666666666666666,
              "#ed7953"
             ],
             [
              0.7777777777777778,
              "#fb9f3a"
             ],
             [
              0.8888888888888888,
              "#fdca26"
             ],
             [
              1,
              "#f0f921"
             ]
            ],
            "type": "heatmapgl"
           }
          ],
          "histogram": [
           {
            "marker": {
             "pattern": {
              "fillmode": "overlay",
              "size": 10,
              "solidity": 0.2
             }
            },
            "type": "histogram"
           }
          ],
          "histogram2d": [
           {
            "colorbar": {
             "outlinewidth": 0,
             "ticks": ""
            },
            "colorscale": [
             [
              0,
              "#0d0887"
             ],
             [
              0.1111111111111111,
              "#46039f"
             ],
             [
              0.2222222222222222,
              "#7201a8"
             ],
             [
              0.3333333333333333,
              "#9c179e"
             ],
             [
              0.4444444444444444,
              "#bd3786"
             ],
             [
              0.5555555555555556,
              "#d8576b"
             ],
             [
              0.6666666666666666,
              "#ed7953"
             ],
             [
              0.7777777777777778,
              "#fb9f3a"
             ],
             [
              0.8888888888888888,
              "#fdca26"
             ],
             [
              1,
              "#f0f921"
             ]
            ],
            "type": "histogram2d"
           }
          ],
          "histogram2dcontour": [
           {
            "colorbar": {
             "outlinewidth": 0,
             "ticks": ""
            },
            "colorscale": [
             [
              0,
              "#0d0887"
             ],
             [
              0.1111111111111111,
              "#46039f"
             ],
             [
              0.2222222222222222,
              "#7201a8"
             ],
             [
              0.3333333333333333,
              "#9c179e"
             ],
             [
              0.4444444444444444,
              "#bd3786"
             ],
             [
              0.5555555555555556,
              "#d8576b"
             ],
             [
              0.6666666666666666,
              "#ed7953"
             ],
             [
              0.7777777777777778,
              "#fb9f3a"
             ],
             [
              0.8888888888888888,
              "#fdca26"
             ],
             [
              1,
              "#f0f921"
             ]
            ],
            "type": "histogram2dcontour"
           }
          ],
          "mesh3d": [
           {
            "colorbar": {
             "outlinewidth": 0,
             "ticks": ""
            },
            "type": "mesh3d"
           }
          ],
          "parcoords": [
           {
            "line": {
             "colorbar": {
              "outlinewidth": 0,
              "ticks": ""
             }
            },
            "type": "parcoords"
           }
          ],
          "pie": [
           {
            "automargin": true,
            "type": "pie"
           }
          ],
          "scatter": [
           {
            "fillpattern": {
             "fillmode": "overlay",
             "size": 10,
             "solidity": 0.2
            },
            "type": "scatter"
           }
          ],
          "scatter3d": [
           {
            "line": {
             "colorbar": {
              "outlinewidth": 0,
              "ticks": ""
             }
            },
            "marker": {
             "colorbar": {
              "outlinewidth": 0,
              "ticks": ""
             }
            },
            "type": "scatter3d"
           }
          ],
          "scattercarpet": [
           {
            "marker": {
             "colorbar": {
              "outlinewidth": 0,
              "ticks": ""
             }
            },
            "type": "scattercarpet"
           }
          ],
          "scattergeo": [
           {
            "marker": {
             "colorbar": {
              "outlinewidth": 0,
              "ticks": ""
             }
            },
            "type": "scattergeo"
           }
          ],
          "scattergl": [
           {
            "marker": {
             "colorbar": {
              "outlinewidth": 0,
              "ticks": ""
             }
            },
            "type": "scattergl"
           }
          ],
          "scattermapbox": [
           {
            "marker": {
             "colorbar": {
              "outlinewidth": 0,
              "ticks": ""
             }
            },
            "type": "scattermapbox"
           }
          ],
          "scatterpolar": [
           {
            "marker": {
             "colorbar": {
              "outlinewidth": 0,
              "ticks": ""
             }
            },
            "type": "scatterpolar"
           }
          ],
          "scatterpolargl": [
           {
            "marker": {
             "colorbar": {
              "outlinewidth": 0,
              "ticks": ""
             }
            },
            "type": "scatterpolargl"
           }
          ],
          "scatterternary": [
           {
            "marker": {
             "colorbar": {
              "outlinewidth": 0,
              "ticks": ""
             }
            },
            "type": "scatterternary"
           }
          ],
          "surface": [
           {
            "colorbar": {
             "outlinewidth": 0,
             "ticks": ""
            },
            "colorscale": [
             [
              0,
              "#0d0887"
             ],
             [
              0.1111111111111111,
              "#46039f"
             ],
             [
              0.2222222222222222,
              "#7201a8"
             ],
             [
              0.3333333333333333,
              "#9c179e"
             ],
             [
              0.4444444444444444,
              "#bd3786"
             ],
             [
              0.5555555555555556,
              "#d8576b"
             ],
             [
              0.6666666666666666,
              "#ed7953"
             ],
             [
              0.7777777777777778,
              "#fb9f3a"
             ],
             [
              0.8888888888888888,
              "#fdca26"
             ],
             [
              1,
              "#f0f921"
             ]
            ],
            "type": "surface"
           }
          ],
          "table": [
           {
            "cells": {
             "fill": {
              "color": "#EBF0F8"
             },
             "line": {
              "color": "white"
             }
            },
            "header": {
             "fill": {
              "color": "#C8D4E3"
             },
             "line": {
              "color": "white"
             }
            },
            "type": "table"
           }
          ]
         },
         "layout": {
          "annotationdefaults": {
           "arrowcolor": "#2a3f5f",
           "arrowhead": 0,
           "arrowwidth": 1
          },
          "autotypenumbers": "strict",
          "coloraxis": {
           "colorbar": {
            "outlinewidth": 0,
            "ticks": ""
           }
          },
          "colorscale": {
           "diverging": [
            [
             0,
             "#8e0152"
            ],
            [
             0.1,
             "#c51b7d"
            ],
            [
             0.2,
             "#de77ae"
            ],
            [
             0.3,
             "#f1b6da"
            ],
            [
             0.4,
             "#fde0ef"
            ],
            [
             0.5,
             "#f7f7f7"
            ],
            [
             0.6,
             "#e6f5d0"
            ],
            [
             0.7,
             "#b8e186"
            ],
            [
             0.8,
             "#7fbc41"
            ],
            [
             0.9,
             "#4d9221"
            ],
            [
             1,
             "#276419"
            ]
           ],
           "sequential": [
            [
             0,
             "#0d0887"
            ],
            [
             0.1111111111111111,
             "#46039f"
            ],
            [
             0.2222222222222222,
             "#7201a8"
            ],
            [
             0.3333333333333333,
             "#9c179e"
            ],
            [
             0.4444444444444444,
             "#bd3786"
            ],
            [
             0.5555555555555556,
             "#d8576b"
            ],
            [
             0.6666666666666666,
             "#ed7953"
            ],
            [
             0.7777777777777778,
             "#fb9f3a"
            ],
            [
             0.8888888888888888,
             "#fdca26"
            ],
            [
             1,
             "#f0f921"
            ]
           ],
           "sequentialminus": [
            [
             0,
             "#0d0887"
            ],
            [
             0.1111111111111111,
             "#46039f"
            ],
            [
             0.2222222222222222,
             "#7201a8"
            ],
            [
             0.3333333333333333,
             "#9c179e"
            ],
            [
             0.4444444444444444,
             "#bd3786"
            ],
            [
             0.5555555555555556,
             "#d8576b"
            ],
            [
             0.6666666666666666,
             "#ed7953"
            ],
            [
             0.7777777777777778,
             "#fb9f3a"
            ],
            [
             0.8888888888888888,
             "#fdca26"
            ],
            [
             1,
             "#f0f921"
            ]
           ]
          },
          "colorway": [
           "#636efa",
           "#EF553B",
           "#00cc96",
           "#ab63fa",
           "#FFA15A",
           "#19d3f3",
           "#FF6692",
           "#B6E880",
           "#FF97FF",
           "#FECB52"
          ],
          "font": {
           "color": "#2a3f5f"
          },
          "geo": {
           "bgcolor": "white",
           "lakecolor": "white",
           "landcolor": "#E5ECF6",
           "showlakes": true,
           "showland": true,
           "subunitcolor": "white"
          },
          "hoverlabel": {
           "align": "left"
          },
          "hovermode": "closest",
          "mapbox": {
           "style": "light"
          },
          "paper_bgcolor": "white",
          "plot_bgcolor": "#E5ECF6",
          "polar": {
           "angularaxis": {
            "gridcolor": "white",
            "linecolor": "white",
            "ticks": ""
           },
           "bgcolor": "#E5ECF6",
           "radialaxis": {
            "gridcolor": "white",
            "linecolor": "white",
            "ticks": ""
           }
          },
          "scene": {
           "xaxis": {
            "backgroundcolor": "#E5ECF6",
            "gridcolor": "white",
            "gridwidth": 2,
            "linecolor": "white",
            "showbackground": true,
            "ticks": "",
            "zerolinecolor": "white"
           },
           "yaxis": {
            "backgroundcolor": "#E5ECF6",
            "gridcolor": "white",
            "gridwidth": 2,
            "linecolor": "white",
            "showbackground": true,
            "ticks": "",
            "zerolinecolor": "white"
           },
           "zaxis": {
            "backgroundcolor": "#E5ECF6",
            "gridcolor": "white",
            "gridwidth": 2,
            "linecolor": "white",
            "showbackground": true,
            "ticks": "",
            "zerolinecolor": "white"
           }
          },
          "shapedefaults": {
           "line": {
            "color": "#2a3f5f"
           }
          },
          "ternary": {
           "aaxis": {
            "gridcolor": "white",
            "linecolor": "white",
            "ticks": ""
           },
           "baxis": {
            "gridcolor": "white",
            "linecolor": "white",
            "ticks": ""
           },
           "bgcolor": "#E5ECF6",
           "caxis": {
            "gridcolor": "white",
            "linecolor": "white",
            "ticks": ""
           }
          },
          "title": {
           "x": 0.05
          },
          "xaxis": {
           "automargin": true,
           "gridcolor": "white",
           "linecolor": "white",
           "ticks": "",
           "title": {
            "standoff": 15
           },
           "zerolinecolor": "white",
           "zerolinewidth": 2
          },
          "yaxis": {
           "automargin": true,
           "gridcolor": "white",
           "linecolor": "white",
           "ticks": "",
           "title": {
            "standoff": 15
           },
           "zerolinecolor": "white",
           "zerolinewidth": 2
          }
         }
        },
        "uniformtext": {
         "minsize": 12,
         "mode": "hide"
        }
       }
      }
     },
     "metadata": {},
     "output_type": "display_data"
    }
   ],
   "source": [
    "# avg readings for NOx across all cities (pie chart)\n",
    "trace5=go.Pie(labels=avg_readings['City'], values=avg_readings['NOx'],\n",
    "             title='Average NOx readings by City')\n",
    "fig=go.Figure(trace5)\n",
    "fig.update_traces(textposition='inside')\n",
    "fig=fig.update_layout(uniformtext_minsize=12, uniformtext_mode='hide')\n",
    "fig.show()"
   ]
  },
  {
   "cell_type": "code",
   "execution_count": null,
   "id": "c8d1a6c7",
   "metadata": {
    "execution": {
     "iopub.execute_input": "2023-05-10T11:43:47.466044Z",
     "iopub.status.busy": "2023-05-10T11:43:47.465630Z",
     "iopub.status.idle": "2023-05-10T11:43:47.480179Z",
     "shell.execute_reply": "2023-05-10T11:43:47.478671Z"
    },
    "papermill": {
     "duration": 0.043174,
     "end_time": "2023-05-10T11:43:47.482797",
     "exception": false,
     "start_time": "2023-05-10T11:43:47.439623",
     "status": "completed"
    },
    "tags": []
   },
   "outputs": [
    {
     "data": {
      "application/vnd.plotly.v1+json": {
       "config": {
        "plotlyServerURL": "https://plot.ly"
       },
       "data": [
        {
         "labels": [
          "Ahmedabad",
          "Aizawl",
          "Amaravati",
          "Amritsar",
          "Bengaluru",
          "Bhopal",
          "Brajrajnagar",
          "Chandigarh",
          "Chennai",
          "Coimbatore",
          "Delhi",
          "Ernakulam",
          "Gurugram",
          "Guwahati",
          "Hyderabad",
          "Jaipur",
          "Jorapokhar",
          "Kochi",
          "Kolkata",
          "Lucknow",
          "Mumbai",
          "Patna",
          "Shillong",
          "Talcher",
          "Thiruvananthapuram",
          "Visakhapatnam"
         ],
         "textposition": "inside",
         "title": {
          "text": "Average NH3 readings by City"
         },
         "type": "pie",
         "values": [
          23.48,
          22.31,
          12.65,
          14.69,
          22.13,
          19.21,
          33.48,
          30.54,
          54.26,
          14.01,
          41.91,
          20.71,
          23.67,
          11.09,
          17.51,
          26.47,
          12.19,
          9.54,
          18.37,
          26.4,
          21.58,
          22.95,
          6.75,
          13.92,
          6.93,
          12.8
         ]
        }
       ],
       "layout": {
        "template": {
         "data": {
          "bar": [
           {
            "error_x": {
             "color": "#2a3f5f"
            },
            "error_y": {
             "color": "#2a3f5f"
            },
            "marker": {
             "line": {
              "color": "#E5ECF6",
              "width": 0.5
             },
             "pattern": {
              "fillmode": "overlay",
              "size": 10,
              "solidity": 0.2
             }
            },
            "type": "bar"
           }
          ],
          "barpolar": [
           {
            "marker": {
             "line": {
              "color": "#E5ECF6",
              "width": 0.5
             },
             "pattern": {
              "fillmode": "overlay",
              "size": 10,
              "solidity": 0.2
             }
            },
            "type": "barpolar"
           }
          ],
          "carpet": [
           {
            "aaxis": {
             "endlinecolor": "#2a3f5f",
             "gridcolor": "white",
             "linecolor": "white",
             "minorgridcolor": "white",
             "startlinecolor": "#2a3f5f"
            },
            "baxis": {
             "endlinecolor": "#2a3f5f",
             "gridcolor": "white",
             "linecolor": "white",
             "minorgridcolor": "white",
             "startlinecolor": "#2a3f5f"
            },
            "type": "carpet"
           }
          ],
          "choropleth": [
           {
            "colorbar": {
             "outlinewidth": 0,
             "ticks": ""
            },
            "type": "choropleth"
           }
          ],
          "contour": [
           {
            "colorbar": {
             "outlinewidth": 0,
             "ticks": ""
            },
            "colorscale": [
             [
              0,
              "#0d0887"
             ],
             [
              0.1111111111111111,
              "#46039f"
             ],
             [
              0.2222222222222222,
              "#7201a8"
             ],
             [
              0.3333333333333333,
              "#9c179e"
             ],
             [
              0.4444444444444444,
              "#bd3786"
             ],
             [
              0.5555555555555556,
              "#d8576b"
             ],
             [
              0.6666666666666666,
              "#ed7953"
             ],
             [
              0.7777777777777778,
              "#fb9f3a"
             ],
             [
              0.8888888888888888,
              "#fdca26"
             ],
             [
              1,
              "#f0f921"
             ]
            ],
            "type": "contour"
           }
          ],
          "contourcarpet": [
           {
            "colorbar": {
             "outlinewidth": 0,
             "ticks": ""
            },
            "type": "contourcarpet"
           }
          ],
          "heatmap": [
           {
            "colorbar": {
             "outlinewidth": 0,
             "ticks": ""
            },
            "colorscale": [
             [
              0,
              "#0d0887"
             ],
             [
              0.1111111111111111,
              "#46039f"
             ],
             [
              0.2222222222222222,
              "#7201a8"
             ],
             [
              0.3333333333333333,
              "#9c179e"
             ],
             [
              0.4444444444444444,
              "#bd3786"
             ],
             [
              0.5555555555555556,
              "#d8576b"
             ],
             [
              0.6666666666666666,
              "#ed7953"
             ],
             [
              0.7777777777777778,
              "#fb9f3a"
             ],
             [
              0.8888888888888888,
              "#fdca26"
             ],
             [
              1,
              "#f0f921"
             ]
            ],
            "type": "heatmap"
           }
          ],
          "heatmapgl": [
           {
            "colorbar": {
             "outlinewidth": 0,
             "ticks": ""
            },
            "colorscale": [
             [
              0,
              "#0d0887"
             ],
             [
              0.1111111111111111,
              "#46039f"
             ],
             [
              0.2222222222222222,
              "#7201a8"
             ],
             [
              0.3333333333333333,
              "#9c179e"
             ],
             [
              0.4444444444444444,
              "#bd3786"
             ],
             [
              0.5555555555555556,
              "#d8576b"
             ],
             [
              0.6666666666666666,
              "#ed7953"
             ],
             [
              0.7777777777777778,
              "#fb9f3a"
             ],
             [
              0.8888888888888888,
              "#fdca26"
             ],
             [
              1,
              "#f0f921"
             ]
            ],
            "type": "heatmapgl"
           }
          ],
          "histogram": [
           {
            "marker": {
             "pattern": {
              "fillmode": "overlay",
              "size": 10,
              "solidity": 0.2
             }
            },
            "type": "histogram"
           }
          ],
          "histogram2d": [
           {
            "colorbar": {
             "outlinewidth": 0,
             "ticks": ""
            },
            "colorscale": [
             [
              0,
              "#0d0887"
             ],
             [
              0.1111111111111111,
              "#46039f"
             ],
             [
              0.2222222222222222,
              "#7201a8"
             ],
             [
              0.3333333333333333,
              "#9c179e"
             ],
             [
              0.4444444444444444,
              "#bd3786"
             ],
             [
              0.5555555555555556,
              "#d8576b"
             ],
             [
              0.6666666666666666,
              "#ed7953"
             ],
             [
              0.7777777777777778,
              "#fb9f3a"
             ],
             [
              0.8888888888888888,
              "#fdca26"
             ],
             [
              1,
              "#f0f921"
             ]
            ],
            "type": "histogram2d"
           }
          ],
          "histogram2dcontour": [
           {
            "colorbar": {
             "outlinewidth": 0,
             "ticks": ""
            },
            "colorscale": [
             [
              0,
              "#0d0887"
             ],
             [
              0.1111111111111111,
              "#46039f"
             ],
             [
              0.2222222222222222,
              "#7201a8"
             ],
             [
              0.3333333333333333,
              "#9c179e"
             ],
             [
              0.4444444444444444,
              "#bd3786"
             ],
             [
              0.5555555555555556,
              "#d8576b"
             ],
             [
              0.6666666666666666,
              "#ed7953"
             ],
             [
              0.7777777777777778,
              "#fb9f3a"
             ],
             [
              0.8888888888888888,
              "#fdca26"
             ],
             [
              1,
              "#f0f921"
             ]
            ],
            "type": "histogram2dcontour"
           }
          ],
          "mesh3d": [
           {
            "colorbar": {
             "outlinewidth": 0,
             "ticks": ""
            },
            "type": "mesh3d"
           }
          ],
          "parcoords": [
           {
            "line": {
             "colorbar": {
              "outlinewidth": 0,
              "ticks": ""
             }
            },
            "type": "parcoords"
           }
          ],
          "pie": [
           {
            "automargin": true,
            "type": "pie"
           }
          ],
          "scatter": [
           {
            "fillpattern": {
             "fillmode": "overlay",
             "size": 10,
             "solidity": 0.2
            },
            "type": "scatter"
           }
          ],
          "scatter3d": [
           {
            "line": {
             "colorbar": {
              "outlinewidth": 0,
              "ticks": ""
             }
            },
            "marker": {
             "colorbar": {
              "outlinewidth": 0,
              "ticks": ""
             }
            },
            "type": "scatter3d"
           }
          ],
          "scattercarpet": [
           {
            "marker": {
             "colorbar": {
              "outlinewidth": 0,
              "ticks": ""
             }
            },
            "type": "scattercarpet"
           }
          ],
          "scattergeo": [
           {
            "marker": {
             "colorbar": {
              "outlinewidth": 0,
              "ticks": ""
             }
            },
            "type": "scattergeo"
           }
          ],
          "scattergl": [
           {
            "marker": {
             "colorbar": {
              "outlinewidth": 0,
              "ticks": ""
             }
            },
            "type": "scattergl"
           }
          ],
          "scattermapbox": [
           {
            "marker": {
             "colorbar": {
              "outlinewidth": 0,
              "ticks": ""
             }
            },
            "type": "scattermapbox"
           }
          ],
          "scatterpolar": [
           {
            "marker": {
             "colorbar": {
              "outlinewidth": 0,
              "ticks": ""
             }
            },
            "type": "scatterpolar"
           }
          ],
          "scatterpolargl": [
           {
            "marker": {
             "colorbar": {
              "outlinewidth": 0,
              "ticks": ""
             }
            },
            "type": "scatterpolargl"
           }
          ],
          "scatterternary": [
           {
            "marker": {
             "colorbar": {
              "outlinewidth": 0,
              "ticks": ""
             }
            },
            "type": "scatterternary"
           }
          ],
          "surface": [
           {
            "colorbar": {
             "outlinewidth": 0,
             "ticks": ""
            },
            "colorscale": [
             [
              0,
              "#0d0887"
             ],
             [
              0.1111111111111111,
              "#46039f"
             ],
             [
              0.2222222222222222,
              "#7201a8"
             ],
             [
              0.3333333333333333,
              "#9c179e"
             ],
             [
              0.4444444444444444,
              "#bd3786"
             ],
             [
              0.5555555555555556,
              "#d8576b"
             ],
             [
              0.6666666666666666,
              "#ed7953"
             ],
             [
              0.7777777777777778,
              "#fb9f3a"
             ],
             [
              0.8888888888888888,
              "#fdca26"
             ],
             [
              1,
              "#f0f921"
             ]
            ],
            "type": "surface"
           }
          ],
          "table": [
           {
            "cells": {
             "fill": {
              "color": "#EBF0F8"
             },
             "line": {
              "color": "white"
             }
            },
            "header": {
             "fill": {
              "color": "#C8D4E3"
             },
             "line": {
              "color": "white"
             }
            },
            "type": "table"
           }
          ]
         },
         "layout": {
          "annotationdefaults": {
           "arrowcolor": "#2a3f5f",
           "arrowhead": 0,
           "arrowwidth": 1
          },
          "autotypenumbers": "strict",
          "coloraxis": {
           "colorbar": {
            "outlinewidth": 0,
            "ticks": ""
           }
          },
          "colorscale": {
           "diverging": [
            [
             0,
             "#8e0152"
            ],
            [
             0.1,
             "#c51b7d"
            ],
            [
             0.2,
             "#de77ae"
            ],
            [
             0.3,
             "#f1b6da"
            ],
            [
             0.4,
             "#fde0ef"
            ],
            [
             0.5,
             "#f7f7f7"
            ],
            [
             0.6,
             "#e6f5d0"
            ],
            [
             0.7,
             "#b8e186"
            ],
            [
             0.8,
             "#7fbc41"
            ],
            [
             0.9,
             "#4d9221"
            ],
            [
             1,
             "#276419"
            ]
           ],
           "sequential": [
            [
             0,
             "#0d0887"
            ],
            [
             0.1111111111111111,
             "#46039f"
            ],
            [
             0.2222222222222222,
             "#7201a8"
            ],
            [
             0.3333333333333333,
             "#9c179e"
            ],
            [
             0.4444444444444444,
             "#bd3786"
            ],
            [
             0.5555555555555556,
             "#d8576b"
            ],
            [
             0.6666666666666666,
             "#ed7953"
            ],
            [
             0.7777777777777778,
             "#fb9f3a"
            ],
            [
             0.8888888888888888,
             "#fdca26"
            ],
            [
             1,
             "#f0f921"
            ]
           ],
           "sequentialminus": [
            [
             0,
             "#0d0887"
            ],
            [
             0.1111111111111111,
             "#46039f"
            ],
            [
             0.2222222222222222,
             "#7201a8"
            ],
            [
             0.3333333333333333,
             "#9c179e"
            ],
            [
             0.4444444444444444,
             "#bd3786"
            ],
            [
             0.5555555555555556,
             "#d8576b"
            ],
            [
             0.6666666666666666,
             "#ed7953"
            ],
            [
             0.7777777777777778,
             "#fb9f3a"
            ],
            [
             0.8888888888888888,
             "#fdca26"
            ],
            [
             1,
             "#f0f921"
            ]
           ]
          },
          "colorway": [
           "#636efa",
           "#EF553B",
           "#00cc96",
           "#ab63fa",
           "#FFA15A",
           "#19d3f3",
           "#FF6692",
           "#B6E880",
           "#FF97FF",
           "#FECB52"
          ],
          "font": {
           "color": "#2a3f5f"
          },
          "geo": {
           "bgcolor": "white",
           "lakecolor": "white",
           "landcolor": "#E5ECF6",
           "showlakes": true,
           "showland": true,
           "subunitcolor": "white"
          },
          "hoverlabel": {
           "align": "left"
          },
          "hovermode": "closest",
          "mapbox": {
           "style": "light"
          },
          "paper_bgcolor": "white",
          "plot_bgcolor": "#E5ECF6",
          "polar": {
           "angularaxis": {
            "gridcolor": "white",
            "linecolor": "white",
            "ticks": ""
           },
           "bgcolor": "#E5ECF6",
           "radialaxis": {
            "gridcolor": "white",
            "linecolor": "white",
            "ticks": ""
           }
          },
          "scene": {
           "xaxis": {
            "backgroundcolor": "#E5ECF6",
            "gridcolor": "white",
            "gridwidth": 2,
            "linecolor": "white",
            "showbackground": true,
            "ticks": "",
            "zerolinecolor": "white"
           },
           "yaxis": {
            "backgroundcolor": "#E5ECF6",
            "gridcolor": "white",
            "gridwidth": 2,
            "linecolor": "white",
            "showbackground": true,
            "ticks": "",
            "zerolinecolor": "white"
           },
           "zaxis": {
            "backgroundcolor": "#E5ECF6",
            "gridcolor": "white",
            "gridwidth": 2,
            "linecolor": "white",
            "showbackground": true,
            "ticks": "",
            "zerolinecolor": "white"
           }
          },
          "shapedefaults": {
           "line": {
            "color": "#2a3f5f"
           }
          },
          "ternary": {
           "aaxis": {
            "gridcolor": "white",
            "linecolor": "white",
            "ticks": ""
           },
           "baxis": {
            "gridcolor": "white",
            "linecolor": "white",
            "ticks": ""
           },
           "bgcolor": "#E5ECF6",
           "caxis": {
            "gridcolor": "white",
            "linecolor": "white",
            "ticks": ""
           }
          },
          "title": {
           "x": 0.05
          },
          "xaxis": {
           "automargin": true,
           "gridcolor": "white",
           "linecolor": "white",
           "ticks": "",
           "title": {
            "standoff": 15
           },
           "zerolinecolor": "white",
           "zerolinewidth": 2
          },
          "yaxis": {
           "automargin": true,
           "gridcolor": "white",
           "linecolor": "white",
           "ticks": "",
           "title": {
            "standoff": 15
           },
           "zerolinecolor": "white",
           "zerolinewidth": 2
          }
         }
        },
        "uniformtext": {
         "minsize": 10,
         "mode": "hide"
        }
       }
      }
     },
     "metadata": {},
     "output_type": "display_data"
    }
   ],
   "source": [
    "# avg readings for NH3 across all cities (pie chart)\n",
    "trace6=go.Pie(labels=avg_readings['City'], values=avg_readings['NH3'],\n",
    "             title='Average NH3 readings by City')\n",
    "fig=go.Figure(trace6)\n",
    "fig.update_traces(textposition='inside')\n",
    "fig.update_layout(uniformtext_minsize=10, uniformtext_mode='hide')\n",
    "fig.show()"
   ]
  },
  {
   "cell_type": "code",
   "execution_count": null,
   "id": "051e124d",
   "metadata": {
    "execution": {
     "iopub.execute_input": "2023-05-10T11:43:47.534706Z",
     "iopub.status.busy": "2023-05-10T11:43:47.533684Z",
     "iopub.status.idle": "2023-05-10T11:43:47.549193Z",
     "shell.execute_reply": "2023-05-10T11:43:47.547964Z"
    },
    "papermill": {
     "duration": 0.044187,
     "end_time": "2023-05-10T11:43:47.551780",
     "exception": false,
     "start_time": "2023-05-10T11:43:47.507593",
     "status": "completed"
    },
    "tags": []
   },
   "outputs": [
    {
     "data": {
      "application/vnd.plotly.v1+json": {
       "config": {
        "plotlyServerURL": "https://plot.ly"
       },
       "data": [
        {
         "labels": [
          "Ahmedabad",
          "Aizawl",
          "Amaravati",
          "Amritsar",
          "Bengaluru",
          "Bhopal",
          "Brajrajnagar",
          "Chandigarh",
          "Chennai",
          "Coimbatore",
          "Delhi",
          "Ernakulam",
          "Gurugram",
          "Guwahati",
          "Hyderabad",
          "Jaipur",
          "Jorapokhar",
          "Kochi",
          "Kolkata",
          "Lucknow",
          "Mumbai",
          "Patna",
          "Shillong",
          "Talcher",
          "Thiruvananthapuram",
          "Visakhapatnam"
         ],
         "textposition": "inside",
         "title": {
          "text": "Average CO readings by City"
         },
         "type": "pie",
         "values": [
          16.15,
          0.28,
          0.79,
          0.66,
          1.84,
          0.92,
          1.87,
          0.63,
          1.08,
          0.96,
          1.98,
          1.64,
          1.32,
          0.74,
          0.59,
          0.81,
          1.36,
          1.3,
          0.8,
          2.13,
          0.59,
          1.59,
          0.45,
          1.91,
          0.97,
          0.78
         ]
        }
       ],
       "layout": {
        "template": {
         "data": {
          "bar": [
           {
            "error_x": {
             "color": "#2a3f5f"
            },
            "error_y": {
             "color": "#2a3f5f"
            },
            "marker": {
             "line": {
              "color": "#E5ECF6",
              "width": 0.5
             },
             "pattern": {
              "fillmode": "overlay",
              "size": 10,
              "solidity": 0.2
             }
            },
            "type": "bar"
           }
          ],
          "barpolar": [
           {
            "marker": {
             "line": {
              "color": "#E5ECF6",
              "width": 0.5
             },
             "pattern": {
              "fillmode": "overlay",
              "size": 10,
              "solidity": 0.2
             }
            },
            "type": "barpolar"
           }
          ],
          "carpet": [
           {
            "aaxis": {
             "endlinecolor": "#2a3f5f",
             "gridcolor": "white",
             "linecolor": "white",
             "minorgridcolor": "white",
             "startlinecolor": "#2a3f5f"
            },
            "baxis": {
             "endlinecolor": "#2a3f5f",
             "gridcolor": "white",
             "linecolor": "white",
             "minorgridcolor": "white",
             "startlinecolor": "#2a3f5f"
            },
            "type": "carpet"
           }
          ],
          "choropleth": [
           {
            "colorbar": {
             "outlinewidth": 0,
             "ticks": ""
            },
            "type": "choropleth"
           }
          ],
          "contour": [
           {
            "colorbar": {
             "outlinewidth": 0,
             "ticks": ""
            },
            "colorscale": [
             [
              0,
              "#0d0887"
             ],
             [
              0.1111111111111111,
              "#46039f"
             ],
             [
              0.2222222222222222,
              "#7201a8"
             ],
             [
              0.3333333333333333,
              "#9c179e"
             ],
             [
              0.4444444444444444,
              "#bd3786"
             ],
             [
              0.5555555555555556,
              "#d8576b"
             ],
             [
              0.6666666666666666,
              "#ed7953"
             ],
             [
              0.7777777777777778,
              "#fb9f3a"
             ],
             [
              0.8888888888888888,
              "#fdca26"
             ],
             [
              1,
              "#f0f921"
             ]
            ],
            "type": "contour"
           }
          ],
          "contourcarpet": [
           {
            "colorbar": {
             "outlinewidth": 0,
             "ticks": ""
            },
            "type": "contourcarpet"
           }
          ],
          "heatmap": [
           {
            "colorbar": {
             "outlinewidth": 0,
             "ticks": ""
            },
            "colorscale": [
             [
              0,
              "#0d0887"
             ],
             [
              0.1111111111111111,
              "#46039f"
             ],
             [
              0.2222222222222222,
              "#7201a8"
             ],
             [
              0.3333333333333333,
              "#9c179e"
             ],
             [
              0.4444444444444444,
              "#bd3786"
             ],
             [
              0.5555555555555556,
              "#d8576b"
             ],
             [
              0.6666666666666666,
              "#ed7953"
             ],
             [
              0.7777777777777778,
              "#fb9f3a"
             ],
             [
              0.8888888888888888,
              "#fdca26"
             ],
             [
              1,
              "#f0f921"
             ]
            ],
            "type": "heatmap"
           }
          ],
          "heatmapgl": [
           {
            "colorbar": {
             "outlinewidth": 0,
             "ticks": ""
            },
            "colorscale": [
             [
              0,
              "#0d0887"
             ],
             [
              0.1111111111111111,
              "#46039f"
             ],
             [
              0.2222222222222222,
              "#7201a8"
             ],
             [
              0.3333333333333333,
              "#9c179e"
             ],
             [
              0.4444444444444444,
              "#bd3786"
             ],
             [
              0.5555555555555556,
              "#d8576b"
             ],
             [
              0.6666666666666666,
              "#ed7953"
             ],
             [
              0.7777777777777778,
              "#fb9f3a"
             ],
             [
              0.8888888888888888,
              "#fdca26"
             ],
             [
              1,
              "#f0f921"
             ]
            ],
            "type": "heatmapgl"
           }
          ],
          "histogram": [
           {
            "marker": {
             "pattern": {
              "fillmode": "overlay",
              "size": 10,
              "solidity": 0.2
             }
            },
            "type": "histogram"
           }
          ],
          "histogram2d": [
           {
            "colorbar": {
             "outlinewidth": 0,
             "ticks": ""
            },
            "colorscale": [
             [
              0,
              "#0d0887"
             ],
             [
              0.1111111111111111,
              "#46039f"
             ],
             [
              0.2222222222222222,
              "#7201a8"
             ],
             [
              0.3333333333333333,
              "#9c179e"
             ],
             [
              0.4444444444444444,
              "#bd3786"
             ],
             [
              0.5555555555555556,
              "#d8576b"
             ],
             [
              0.6666666666666666,
              "#ed7953"
             ],
             [
              0.7777777777777778,
              "#fb9f3a"
             ],
             [
              0.8888888888888888,
              "#fdca26"
             ],
             [
              1,
              "#f0f921"
             ]
            ],
            "type": "histogram2d"
           }
          ],
          "histogram2dcontour": [
           {
            "colorbar": {
             "outlinewidth": 0,
             "ticks": ""
            },
            "colorscale": [
             [
              0,
              "#0d0887"
             ],
             [
              0.1111111111111111,
              "#46039f"
             ],
             [
              0.2222222222222222,
              "#7201a8"
             ],
             [
              0.3333333333333333,
              "#9c179e"
             ],
             [
              0.4444444444444444,
              "#bd3786"
             ],
             [
              0.5555555555555556,
              "#d8576b"
             ],
             [
              0.6666666666666666,
              "#ed7953"
             ],
             [
              0.7777777777777778,
              "#fb9f3a"
             ],
             [
              0.8888888888888888,
              "#fdca26"
             ],
             [
              1,
              "#f0f921"
             ]
            ],
            "type": "histogram2dcontour"
           }
          ],
          "mesh3d": [
           {
            "colorbar": {
             "outlinewidth": 0,
             "ticks": ""
            },
            "type": "mesh3d"
           }
          ],
          "parcoords": [
           {
            "line": {
             "colorbar": {
              "outlinewidth": 0,
              "ticks": ""
             }
            },
            "type": "parcoords"
           }
          ],
          "pie": [
           {
            "automargin": true,
            "type": "pie"
           }
          ],
          "scatter": [
           {
            "fillpattern": {
             "fillmode": "overlay",
             "size": 10,
             "solidity": 0.2
            },
            "type": "scatter"
           }
          ],
          "scatter3d": [
           {
            "line": {
             "colorbar": {
              "outlinewidth": 0,
              "ticks": ""
             }
            },
            "marker": {
             "colorbar": {
              "outlinewidth": 0,
              "ticks": ""
             }
            },
            "type": "scatter3d"
           }
          ],
          "scattercarpet": [
           {
            "marker": {
             "colorbar": {
              "outlinewidth": 0,
              "ticks": ""
             }
            },
            "type": "scattercarpet"
           }
          ],
          "scattergeo": [
           {
            "marker": {
             "colorbar": {
              "outlinewidth": 0,
              "ticks": ""
             }
            },
            "type": "scattergeo"
           }
          ],
          "scattergl": [
           {
            "marker": {
             "colorbar": {
              "outlinewidth": 0,
              "ticks": ""
             }
            },
            "type": "scattergl"
           }
          ],
          "scattermapbox": [
           {
            "marker": {
             "colorbar": {
              "outlinewidth": 0,
              "ticks": ""
             }
            },
            "type": "scattermapbox"
           }
          ],
          "scatterpolar": [
           {
            "marker": {
             "colorbar": {
              "outlinewidth": 0,
              "ticks": ""
             }
            },
            "type": "scatterpolar"
           }
          ],
          "scatterpolargl": [
           {
            "marker": {
             "colorbar": {
              "outlinewidth": 0,
              "ticks": ""
             }
            },
            "type": "scatterpolargl"
           }
          ],
          "scatterternary": [
           {
            "marker": {
             "colorbar": {
              "outlinewidth": 0,
              "ticks": ""
             }
            },
            "type": "scatterternary"
           }
          ],
          "surface": [
           {
            "colorbar": {
             "outlinewidth": 0,
             "ticks": ""
            },
            "colorscale": [
             [
              0,
              "#0d0887"
             ],
             [
              0.1111111111111111,
              "#46039f"
             ],
             [
              0.2222222222222222,
              "#7201a8"
             ],
             [
              0.3333333333333333,
              "#9c179e"
             ],
             [
              0.4444444444444444,
              "#bd3786"
             ],
             [
              0.5555555555555556,
              "#d8576b"
             ],
             [
              0.6666666666666666,
              "#ed7953"
             ],
             [
              0.7777777777777778,
              "#fb9f3a"
             ],
             [
              0.8888888888888888,
              "#fdca26"
             ],
             [
              1,
              "#f0f921"
             ]
            ],
            "type": "surface"
           }
          ],
          "table": [
           {
            "cells": {
             "fill": {
              "color": "#EBF0F8"
             },
             "line": {
              "color": "white"
             }
            },
            "header": {
             "fill": {
              "color": "#C8D4E3"
             },
             "line": {
              "color": "white"
             }
            },
            "type": "table"
           }
          ]
         },
         "layout": {
          "annotationdefaults": {
           "arrowcolor": "#2a3f5f",
           "arrowhead": 0,
           "arrowwidth": 1
          },
          "autotypenumbers": "strict",
          "coloraxis": {
           "colorbar": {
            "outlinewidth": 0,
            "ticks": ""
           }
          },
          "colorscale": {
           "diverging": [
            [
             0,
             "#8e0152"
            ],
            [
             0.1,
             "#c51b7d"
            ],
            [
             0.2,
             "#de77ae"
            ],
            [
             0.3,
             "#f1b6da"
            ],
            [
             0.4,
             "#fde0ef"
            ],
            [
             0.5,
             "#f7f7f7"
            ],
            [
             0.6,
             "#e6f5d0"
            ],
            [
             0.7,
             "#b8e186"
            ],
            [
             0.8,
             "#7fbc41"
            ],
            [
             0.9,
             "#4d9221"
            ],
            [
             1,
             "#276419"
            ]
           ],
           "sequential": [
            [
             0,
             "#0d0887"
            ],
            [
             0.1111111111111111,
             "#46039f"
            ],
            [
             0.2222222222222222,
             "#7201a8"
            ],
            [
             0.3333333333333333,
             "#9c179e"
            ],
            [
             0.4444444444444444,
             "#bd3786"
            ],
            [
             0.5555555555555556,
             "#d8576b"
            ],
            [
             0.6666666666666666,
             "#ed7953"
            ],
            [
             0.7777777777777778,
             "#fb9f3a"
            ],
            [
             0.8888888888888888,
             "#fdca26"
            ],
            [
             1,
             "#f0f921"
            ]
           ],
           "sequentialminus": [
            [
             0,
             "#0d0887"
            ],
            [
             0.1111111111111111,
             "#46039f"
            ],
            [
             0.2222222222222222,
             "#7201a8"
            ],
            [
             0.3333333333333333,
             "#9c179e"
            ],
            [
             0.4444444444444444,
             "#bd3786"
            ],
            [
             0.5555555555555556,
             "#d8576b"
            ],
            [
             0.6666666666666666,
             "#ed7953"
            ],
            [
             0.7777777777777778,
             "#fb9f3a"
            ],
            [
             0.8888888888888888,
             "#fdca26"
            ],
            [
             1,
             "#f0f921"
            ]
           ]
          },
          "colorway": [
           "#636efa",
           "#EF553B",
           "#00cc96",
           "#ab63fa",
           "#FFA15A",
           "#19d3f3",
           "#FF6692",
           "#B6E880",
           "#FF97FF",
           "#FECB52"
          ],
          "font": {
           "color": "#2a3f5f"
          },
          "geo": {
           "bgcolor": "white",
           "lakecolor": "white",
           "landcolor": "#E5ECF6",
           "showlakes": true,
           "showland": true,
           "subunitcolor": "white"
          },
          "hoverlabel": {
           "align": "left"
          },
          "hovermode": "closest",
          "mapbox": {
           "style": "light"
          },
          "paper_bgcolor": "white",
          "plot_bgcolor": "#E5ECF6",
          "polar": {
           "angularaxis": {
            "gridcolor": "white",
            "linecolor": "white",
            "ticks": ""
           },
           "bgcolor": "#E5ECF6",
           "radialaxis": {
            "gridcolor": "white",
            "linecolor": "white",
            "ticks": ""
           }
          },
          "scene": {
           "xaxis": {
            "backgroundcolor": "#E5ECF6",
            "gridcolor": "white",
            "gridwidth": 2,
            "linecolor": "white",
            "showbackground": true,
            "ticks": "",
            "zerolinecolor": "white"
           },
           "yaxis": {
            "backgroundcolor": "#E5ECF6",
            "gridcolor": "white",
            "gridwidth": 2,
            "linecolor": "white",
            "showbackground": true,
            "ticks": "",
            "zerolinecolor": "white"
           },
           "zaxis": {
            "backgroundcolor": "#E5ECF6",
            "gridcolor": "white",
            "gridwidth": 2,
            "linecolor": "white",
            "showbackground": true,
            "ticks": "",
            "zerolinecolor": "white"
           }
          },
          "shapedefaults": {
           "line": {
            "color": "#2a3f5f"
           }
          },
          "ternary": {
           "aaxis": {
            "gridcolor": "white",
            "linecolor": "white",
            "ticks": ""
           },
           "baxis": {
            "gridcolor": "white",
            "linecolor": "white",
            "ticks": ""
           },
           "bgcolor": "#E5ECF6",
           "caxis": {
            "gridcolor": "white",
            "linecolor": "white",
            "ticks": ""
           }
          },
          "title": {
           "x": 0.05
          },
          "xaxis": {
           "automargin": true,
           "gridcolor": "white",
           "linecolor": "white",
           "ticks": "",
           "title": {
            "standoff": 15
           },
           "zerolinecolor": "white",
           "zerolinewidth": 2
          },
          "yaxis": {
           "automargin": true,
           "gridcolor": "white",
           "linecolor": "white",
           "ticks": "",
           "title": {
            "standoff": 15
           },
           "zerolinecolor": "white",
           "zerolinewidth": 2
          }
         }
        },
        "uniformtext": {
         "minsize": 10,
         "mode": "hide"
        }
       }
      }
     },
     "metadata": {},
     "output_type": "display_data"
    }
   ],
   "source": [
    "# avg readings for CO across all cities (pie chart)\n",
    "trace7=go.Pie(labels=avg_readings['City'], values=avg_readings['CO'].round(2),\n",
    "             title='Average CO readings by City')\n",
    "fig=go.Figure(trace7)\n",
    "fig.update_traces(textposition='inside')\n",
    "fig.update_layout(uniformtext_minsize=10, uniformtext_mode='hide')\n",
    "fig.show()"
   ]
  },
  {
   "cell_type": "code",
   "execution_count": null,
   "id": "a197ca33",
   "metadata": {
    "execution": {
     "iopub.execute_input": "2023-05-10T11:43:47.603400Z",
     "iopub.status.busy": "2023-05-10T11:43:47.602963Z",
     "iopub.status.idle": "2023-05-10T11:43:47.618052Z",
     "shell.execute_reply": "2023-05-10T11:43:47.616860Z"
    },
    "papermill": {
     "duration": 0.044146,
     "end_time": "2023-05-10T11:43:47.620685",
     "exception": false,
     "start_time": "2023-05-10T11:43:47.576539",
     "status": "completed"
    },
    "tags": []
   },
   "outputs": [
    {
     "data": {
      "application/vnd.plotly.v1+json": {
       "config": {
        "plotlyServerURL": "https://plot.ly"
       },
       "data": [
        {
         "labels": [
          "Ahmedabad",
          "Aizawl",
          "Amaravati",
          "Amritsar",
          "Bengaluru",
          "Bhopal",
          "Brajrajnagar",
          "Chandigarh",
          "Chennai",
          "Coimbatore",
          "Delhi",
          "Ernakulam",
          "Gurugram",
          "Guwahati",
          "Hyderabad",
          "Jaipur",
          "Jorapokhar",
          "Kochi",
          "Kolkata",
          "Lucknow",
          "Mumbai",
          "Patna",
          "Shillong",
          "Talcher",
          "Thiruvananthapuram",
          "Visakhapatnam"
         ],
         "textposition": "inside",
         "title": {
          "text": "Average SO2 readings by City"
         },
         "type": "pie",
         "values": [
          42.28,
          7.38,
          14.28,
          9.03,
          5.55,
          13.11,
          10.76,
          10.16,
          8,
          8.65,
          15.83,
          3.46,
          9.95,
          14.66,
          9.24,
          11.11,
          27.91,
          17.6,
          8.86,
          10.1,
          14.79,
          21.29,
          8,
          25.6,
          5.9,
          12.95
         ]
        }
       ],
       "layout": {
        "template": {
         "data": {
          "bar": [
           {
            "error_x": {
             "color": "#2a3f5f"
            },
            "error_y": {
             "color": "#2a3f5f"
            },
            "marker": {
             "line": {
              "color": "#E5ECF6",
              "width": 0.5
             },
             "pattern": {
              "fillmode": "overlay",
              "size": 10,
              "solidity": 0.2
             }
            },
            "type": "bar"
           }
          ],
          "barpolar": [
           {
            "marker": {
             "line": {
              "color": "#E5ECF6",
              "width": 0.5
             },
             "pattern": {
              "fillmode": "overlay",
              "size": 10,
              "solidity": 0.2
             }
            },
            "type": "barpolar"
           }
          ],
          "carpet": [
           {
            "aaxis": {
             "endlinecolor": "#2a3f5f",
             "gridcolor": "white",
             "linecolor": "white",
             "minorgridcolor": "white",
             "startlinecolor": "#2a3f5f"
            },
            "baxis": {
             "endlinecolor": "#2a3f5f",
             "gridcolor": "white",
             "linecolor": "white",
             "minorgridcolor": "white",
             "startlinecolor": "#2a3f5f"
            },
            "type": "carpet"
           }
          ],
          "choropleth": [
           {
            "colorbar": {
             "outlinewidth": 0,
             "ticks": ""
            },
            "type": "choropleth"
           }
          ],
          "contour": [
           {
            "colorbar": {
             "outlinewidth": 0,
             "ticks": ""
            },
            "colorscale": [
             [
              0,
              "#0d0887"
             ],
             [
              0.1111111111111111,
              "#46039f"
             ],
             [
              0.2222222222222222,
              "#7201a8"
             ],
             [
              0.3333333333333333,
              "#9c179e"
             ],
             [
              0.4444444444444444,
              "#bd3786"
             ],
             [
              0.5555555555555556,
              "#d8576b"
             ],
             [
              0.6666666666666666,
              "#ed7953"
             ],
             [
              0.7777777777777778,
              "#fb9f3a"
             ],
             [
              0.8888888888888888,
              "#fdca26"
             ],
             [
              1,
              "#f0f921"
             ]
            ],
            "type": "contour"
           }
          ],
          "contourcarpet": [
           {
            "colorbar": {
             "outlinewidth": 0,
             "ticks": ""
            },
            "type": "contourcarpet"
           }
          ],
          "heatmap": [
           {
            "colorbar": {
             "outlinewidth": 0,
             "ticks": ""
            },
            "colorscale": [
             [
              0,
              "#0d0887"
             ],
             [
              0.1111111111111111,
              "#46039f"
             ],
             [
              0.2222222222222222,
              "#7201a8"
             ],
             [
              0.3333333333333333,
              "#9c179e"
             ],
             [
              0.4444444444444444,
              "#bd3786"
             ],
             [
              0.5555555555555556,
              "#d8576b"
             ],
             [
              0.6666666666666666,
              "#ed7953"
             ],
             [
              0.7777777777777778,
              "#fb9f3a"
             ],
             [
              0.8888888888888888,
              "#fdca26"
             ],
             [
              1,
              "#f0f921"
             ]
            ],
            "type": "heatmap"
           }
          ],
          "heatmapgl": [
           {
            "colorbar": {
             "outlinewidth": 0,
             "ticks": ""
            },
            "colorscale": [
             [
              0,
              "#0d0887"
             ],
             [
              0.1111111111111111,
              "#46039f"
             ],
             [
              0.2222222222222222,
              "#7201a8"
             ],
             [
              0.3333333333333333,
              "#9c179e"
             ],
             [
              0.4444444444444444,
              "#bd3786"
             ],
             [
              0.5555555555555556,
              "#d8576b"
             ],
             [
              0.6666666666666666,
              "#ed7953"
             ],
             [
              0.7777777777777778,
              "#fb9f3a"
             ],
             [
              0.8888888888888888,
              "#fdca26"
             ],
             [
              1,
              "#f0f921"
             ]
            ],
            "type": "heatmapgl"
           }
          ],
          "histogram": [
           {
            "marker": {
             "pattern": {
              "fillmode": "overlay",
              "size": 10,
              "solidity": 0.2
             }
            },
            "type": "histogram"
           }
          ],
          "histogram2d": [
           {
            "colorbar": {
             "outlinewidth": 0,
             "ticks": ""
            },
            "colorscale": [
             [
              0,
              "#0d0887"
             ],
             [
              0.1111111111111111,
              "#46039f"
             ],
             [
              0.2222222222222222,
              "#7201a8"
             ],
             [
              0.3333333333333333,
              "#9c179e"
             ],
             [
              0.4444444444444444,
              "#bd3786"
             ],
             [
              0.5555555555555556,
              "#d8576b"
             ],
             [
              0.6666666666666666,
              "#ed7953"
             ],
             [
              0.7777777777777778,
              "#fb9f3a"
             ],
             [
              0.8888888888888888,
              "#fdca26"
             ],
             [
              1,
              "#f0f921"
             ]
            ],
            "type": "histogram2d"
           }
          ],
          "histogram2dcontour": [
           {
            "colorbar": {
             "outlinewidth": 0,
             "ticks": ""
            },
            "colorscale": [
             [
              0,
              "#0d0887"
             ],
             [
              0.1111111111111111,
              "#46039f"
             ],
             [
              0.2222222222222222,
              "#7201a8"
             ],
             [
              0.3333333333333333,
              "#9c179e"
             ],
             [
              0.4444444444444444,
              "#bd3786"
             ],
             [
              0.5555555555555556,
              "#d8576b"
             ],
             [
              0.6666666666666666,
              "#ed7953"
             ],
             [
              0.7777777777777778,
              "#fb9f3a"
             ],
             [
              0.8888888888888888,
              "#fdca26"
             ],
             [
              1,
              "#f0f921"
             ]
            ],
            "type": "histogram2dcontour"
           }
          ],
          "mesh3d": [
           {
            "colorbar": {
             "outlinewidth": 0,
             "ticks": ""
            },
            "type": "mesh3d"
           }
          ],
          "parcoords": [
           {
            "line": {
             "colorbar": {
              "outlinewidth": 0,
              "ticks": ""
             }
            },
            "type": "parcoords"
           }
          ],
          "pie": [
           {
            "automargin": true,
            "type": "pie"
           }
          ],
          "scatter": [
           {
            "fillpattern": {
             "fillmode": "overlay",
             "size": 10,
             "solidity": 0.2
            },
            "type": "scatter"
           }
          ],
          "scatter3d": [
           {
            "line": {
             "colorbar": {
              "outlinewidth": 0,
              "ticks": ""
             }
            },
            "marker": {
             "colorbar": {
              "outlinewidth": 0,
              "ticks": ""
             }
            },
            "type": "scatter3d"
           }
          ],
          "scattercarpet": [
           {
            "marker": {
             "colorbar": {
              "outlinewidth": 0,
              "ticks": ""
             }
            },
            "type": "scattercarpet"
           }
          ],
          "scattergeo": [
           {
            "marker": {
             "colorbar": {
              "outlinewidth": 0,
              "ticks": ""
             }
            },
            "type": "scattergeo"
           }
          ],
          "scattergl": [
           {
            "marker": {
             "colorbar": {
              "outlinewidth": 0,
              "ticks": ""
             }
            },
            "type": "scattergl"
           }
          ],
          "scattermapbox": [
           {
            "marker": {
             "colorbar": {
              "outlinewidth": 0,
              "ticks": ""
             }
            },
            "type": "scattermapbox"
           }
          ],
          "scatterpolar": [
           {
            "marker": {
             "colorbar": {
              "outlinewidth": 0,
              "ticks": ""
             }
            },
            "type": "scatterpolar"
           }
          ],
          "scatterpolargl": [
           {
            "marker": {
             "colorbar": {
              "outlinewidth": 0,
              "ticks": ""
             }
            },
            "type": "scatterpolargl"
           }
          ],
          "scatterternary": [
           {
            "marker": {
             "colorbar": {
              "outlinewidth": 0,
              "ticks": ""
             }
            },
            "type": "scatterternary"
           }
          ],
          "surface": [
           {
            "colorbar": {
             "outlinewidth": 0,
             "ticks": ""
            },
            "colorscale": [
             [
              0,
              "#0d0887"
             ],
             [
              0.1111111111111111,
              "#46039f"
             ],
             [
              0.2222222222222222,
              "#7201a8"
             ],
             [
              0.3333333333333333,
              "#9c179e"
             ],
             [
              0.4444444444444444,
              "#bd3786"
             ],
             [
              0.5555555555555556,
              "#d8576b"
             ],
             [
              0.6666666666666666,
              "#ed7953"
             ],
             [
              0.7777777777777778,
              "#fb9f3a"
             ],
             [
              0.8888888888888888,
              "#fdca26"
             ],
             [
              1,
              "#f0f921"
             ]
            ],
            "type": "surface"
           }
          ],
          "table": [
           {
            "cells": {
             "fill": {
              "color": "#EBF0F8"
             },
             "line": {
              "color": "white"
             }
            },
            "header": {
             "fill": {
              "color": "#C8D4E3"
             },
             "line": {
              "color": "white"
             }
            },
            "type": "table"
           }
          ]
         },
         "layout": {
          "annotationdefaults": {
           "arrowcolor": "#2a3f5f",
           "arrowhead": 0,
           "arrowwidth": 1
          },
          "autotypenumbers": "strict",
          "coloraxis": {
           "colorbar": {
            "outlinewidth": 0,
            "ticks": ""
           }
          },
          "colorscale": {
           "diverging": [
            [
             0,
             "#8e0152"
            ],
            [
             0.1,
             "#c51b7d"
            ],
            [
             0.2,
             "#de77ae"
            ],
            [
             0.3,
             "#f1b6da"
            ],
            [
             0.4,
             "#fde0ef"
            ],
            [
             0.5,
             "#f7f7f7"
            ],
            [
             0.6,
             "#e6f5d0"
            ],
            [
             0.7,
             "#b8e186"
            ],
            [
             0.8,
             "#7fbc41"
            ],
            [
             0.9,
             "#4d9221"
            ],
            [
             1,
             "#276419"
            ]
           ],
           "sequential": [
            [
             0,
             "#0d0887"
            ],
            [
             0.1111111111111111,
             "#46039f"
            ],
            [
             0.2222222222222222,
             "#7201a8"
            ],
            [
             0.3333333333333333,
             "#9c179e"
            ],
            [
             0.4444444444444444,
             "#bd3786"
            ],
            [
             0.5555555555555556,
             "#d8576b"
            ],
            [
             0.6666666666666666,
             "#ed7953"
            ],
            [
             0.7777777777777778,
             "#fb9f3a"
            ],
            [
             0.8888888888888888,
             "#fdca26"
            ],
            [
             1,
             "#f0f921"
            ]
           ],
           "sequentialminus": [
            [
             0,
             "#0d0887"
            ],
            [
             0.1111111111111111,
             "#46039f"
            ],
            [
             0.2222222222222222,
             "#7201a8"
            ],
            [
             0.3333333333333333,
             "#9c179e"
            ],
            [
             0.4444444444444444,
             "#bd3786"
            ],
            [
             0.5555555555555556,
             "#d8576b"
            ],
            [
             0.6666666666666666,
             "#ed7953"
            ],
            [
             0.7777777777777778,
             "#fb9f3a"
            ],
            [
             0.8888888888888888,
             "#fdca26"
            ],
            [
             1,
             "#f0f921"
            ]
           ]
          },
          "colorway": [
           "#636efa",
           "#EF553B",
           "#00cc96",
           "#ab63fa",
           "#FFA15A",
           "#19d3f3",
           "#FF6692",
           "#B6E880",
           "#FF97FF",
           "#FECB52"
          ],
          "font": {
           "color": "#2a3f5f"
          },
          "geo": {
           "bgcolor": "white",
           "lakecolor": "white",
           "landcolor": "#E5ECF6",
           "showlakes": true,
           "showland": true,
           "subunitcolor": "white"
          },
          "hoverlabel": {
           "align": "left"
          },
          "hovermode": "closest",
          "mapbox": {
           "style": "light"
          },
          "paper_bgcolor": "white",
          "plot_bgcolor": "#E5ECF6",
          "polar": {
           "angularaxis": {
            "gridcolor": "white",
            "linecolor": "white",
            "ticks": ""
           },
           "bgcolor": "#E5ECF6",
           "radialaxis": {
            "gridcolor": "white",
            "linecolor": "white",
            "ticks": ""
           }
          },
          "scene": {
           "xaxis": {
            "backgroundcolor": "#E5ECF6",
            "gridcolor": "white",
            "gridwidth": 2,
            "linecolor": "white",
            "showbackground": true,
            "ticks": "",
            "zerolinecolor": "white"
           },
           "yaxis": {
            "backgroundcolor": "#E5ECF6",
            "gridcolor": "white",
            "gridwidth": 2,
            "linecolor": "white",
            "showbackground": true,
            "ticks": "",
            "zerolinecolor": "white"
           },
           "zaxis": {
            "backgroundcolor": "#E5ECF6",
            "gridcolor": "white",
            "gridwidth": 2,
            "linecolor": "white",
            "showbackground": true,
            "ticks": "",
            "zerolinecolor": "white"
           }
          },
          "shapedefaults": {
           "line": {
            "color": "#2a3f5f"
           }
          },
          "ternary": {
           "aaxis": {
            "gridcolor": "white",
            "linecolor": "white",
            "ticks": ""
           },
           "baxis": {
            "gridcolor": "white",
            "linecolor": "white",
            "ticks": ""
           },
           "bgcolor": "#E5ECF6",
           "caxis": {
            "gridcolor": "white",
            "linecolor": "white",
            "ticks": ""
           }
          },
          "title": {
           "x": 0.05
          },
          "xaxis": {
           "automargin": true,
           "gridcolor": "white",
           "linecolor": "white",
           "ticks": "",
           "title": {
            "standoff": 15
           },
           "zerolinecolor": "white",
           "zerolinewidth": 2
          },
          "yaxis": {
           "automargin": true,
           "gridcolor": "white",
           "linecolor": "white",
           "ticks": "",
           "title": {
            "standoff": 15
           },
           "zerolinecolor": "white",
           "zerolinewidth": 2
          }
         }
        },
        "uniformtext": {
         "minsize": 10,
         "mode": "hide"
        }
       }
      }
     },
     "metadata": {},
     "output_type": "display_data"
    }
   ],
   "source": [
    "# avg readings for SO2 across all cities (pie chart)\n",
    "trace8=go.Pie(labels=avg_readings['City'], values=avg_readings['SO2'],\n",
    "             title='Average SO2 readings by City')\n",
    "fig=go.Figure(trace8)\n",
    "fig.update_traces(textposition='inside')\n",
    "fig.update_layout(uniformtext_minsize=10, uniformtext_mode='hide')\n",
    "fig.show()"
   ]
  },
  {
   "cell_type": "code",
   "execution_count": null,
   "id": "adbd07ab",
   "metadata": {
    "execution": {
     "iopub.execute_input": "2023-05-10T11:43:47.673240Z",
     "iopub.status.busy": "2023-05-10T11:43:47.672359Z",
     "iopub.status.idle": "2023-05-10T11:43:47.686271Z",
     "shell.execute_reply": "2023-05-10T11:43:47.685308Z"
    },
    "papermill": {
     "duration": 0.042822,
     "end_time": "2023-05-10T11:43:47.688653",
     "exception": false,
     "start_time": "2023-05-10T11:43:47.645831",
     "status": "completed"
    },
    "tags": []
   },
   "outputs": [
    {
     "data": {
      "application/vnd.plotly.v1+json": {
       "config": {
        "plotlyServerURL": "https://plot.ly"
       },
       "data": [
        {
         "labels": [
          "Ahmedabad",
          "Aizawl",
          "Amaravati",
          "Amritsar",
          "Bengaluru",
          "Bhopal",
          "Brajrajnagar",
          "Chandigarh",
          "Chennai",
          "Coimbatore",
          "Delhi",
          "Ernakulam",
          "Gurugram",
          "Guwahati",
          "Hyderabad",
          "Jaipur",
          "Jorapokhar",
          "Kochi",
          "Kolkata",
          "Lucknow",
          "Mumbai",
          "Patna",
          "Shillong",
          "Talcher",
          "Thiruvananthapuram",
          "Visakhapatnam"
         ],
         "textposition": "inside",
         "title": {
          "text": "Average O3 readings by City"
         },
         "type": "pie",
         "values": [
          37.56,
          6.16,
          37.91,
          23.55,
          32.98,
          59.06,
          20.47,
          20.05,
          32.49,
          28.88,
          50.62,
          34.49,
          34.41,
          25.09,
          33.62,
          46.55,
          32.94,
          3.82,
          30.9,
          36.88,
          33.92,
          36.84,
          29.15,
          20.36,
          34.68,
          37.05
         ]
        }
       ],
       "layout": {
        "template": {
         "data": {
          "bar": [
           {
            "error_x": {
             "color": "#2a3f5f"
            },
            "error_y": {
             "color": "#2a3f5f"
            },
            "marker": {
             "line": {
              "color": "#E5ECF6",
              "width": 0.5
             },
             "pattern": {
              "fillmode": "overlay",
              "size": 10,
              "solidity": 0.2
             }
            },
            "type": "bar"
           }
          ],
          "barpolar": [
           {
            "marker": {
             "line": {
              "color": "#E5ECF6",
              "width": 0.5
             },
             "pattern": {
              "fillmode": "overlay",
              "size": 10,
              "solidity": 0.2
             }
            },
            "type": "barpolar"
           }
          ],
          "carpet": [
           {
            "aaxis": {
             "endlinecolor": "#2a3f5f",
             "gridcolor": "white",
             "linecolor": "white",
             "minorgridcolor": "white",
             "startlinecolor": "#2a3f5f"
            },
            "baxis": {
             "endlinecolor": "#2a3f5f",
             "gridcolor": "white",
             "linecolor": "white",
             "minorgridcolor": "white",
             "startlinecolor": "#2a3f5f"
            },
            "type": "carpet"
           }
          ],
          "choropleth": [
           {
            "colorbar": {
             "outlinewidth": 0,
             "ticks": ""
            },
            "type": "choropleth"
           }
          ],
          "contour": [
           {
            "colorbar": {
             "outlinewidth": 0,
             "ticks": ""
            },
            "colorscale": [
             [
              0,
              "#0d0887"
             ],
             [
              0.1111111111111111,
              "#46039f"
             ],
             [
              0.2222222222222222,
              "#7201a8"
             ],
             [
              0.3333333333333333,
              "#9c179e"
             ],
             [
              0.4444444444444444,
              "#bd3786"
             ],
             [
              0.5555555555555556,
              "#d8576b"
             ],
             [
              0.6666666666666666,
              "#ed7953"
             ],
             [
              0.7777777777777778,
              "#fb9f3a"
             ],
             [
              0.8888888888888888,
              "#fdca26"
             ],
             [
              1,
              "#f0f921"
             ]
            ],
            "type": "contour"
           }
          ],
          "contourcarpet": [
           {
            "colorbar": {
             "outlinewidth": 0,
             "ticks": ""
            },
            "type": "contourcarpet"
           }
          ],
          "heatmap": [
           {
            "colorbar": {
             "outlinewidth": 0,
             "ticks": ""
            },
            "colorscale": [
             [
              0,
              "#0d0887"
             ],
             [
              0.1111111111111111,
              "#46039f"
             ],
             [
              0.2222222222222222,
              "#7201a8"
             ],
             [
              0.3333333333333333,
              "#9c179e"
             ],
             [
              0.4444444444444444,
              "#bd3786"
             ],
             [
              0.5555555555555556,
              "#d8576b"
             ],
             [
              0.6666666666666666,
              "#ed7953"
             ],
             [
              0.7777777777777778,
              "#fb9f3a"
             ],
             [
              0.8888888888888888,
              "#fdca26"
             ],
             [
              1,
              "#f0f921"
             ]
            ],
            "type": "heatmap"
           }
          ],
          "heatmapgl": [
           {
            "colorbar": {
             "outlinewidth": 0,
             "ticks": ""
            },
            "colorscale": [
             [
              0,
              "#0d0887"
             ],
             [
              0.1111111111111111,
              "#46039f"
             ],
             [
              0.2222222222222222,
              "#7201a8"
             ],
             [
              0.3333333333333333,
              "#9c179e"
             ],
             [
              0.4444444444444444,
              "#bd3786"
             ],
             [
              0.5555555555555556,
              "#d8576b"
             ],
             [
              0.6666666666666666,
              "#ed7953"
             ],
             [
              0.7777777777777778,
              "#fb9f3a"
             ],
             [
              0.8888888888888888,
              "#fdca26"
             ],
             [
              1,
              "#f0f921"
             ]
            ],
            "type": "heatmapgl"
           }
          ],
          "histogram": [
           {
            "marker": {
             "pattern": {
              "fillmode": "overlay",
              "size": 10,
              "solidity": 0.2
             }
            },
            "type": "histogram"
           }
          ],
          "histogram2d": [
           {
            "colorbar": {
             "outlinewidth": 0,
             "ticks": ""
            },
            "colorscale": [
             [
              0,
              "#0d0887"
             ],
             [
              0.1111111111111111,
              "#46039f"
             ],
             [
              0.2222222222222222,
              "#7201a8"
             ],
             [
              0.3333333333333333,
              "#9c179e"
             ],
             [
              0.4444444444444444,
              "#bd3786"
             ],
             [
              0.5555555555555556,
              "#d8576b"
             ],
             [
              0.6666666666666666,
              "#ed7953"
             ],
             [
              0.7777777777777778,
              "#fb9f3a"
             ],
             [
              0.8888888888888888,
              "#fdca26"
             ],
             [
              1,
              "#f0f921"
             ]
            ],
            "type": "histogram2d"
           }
          ],
          "histogram2dcontour": [
           {
            "colorbar": {
             "outlinewidth": 0,
             "ticks": ""
            },
            "colorscale": [
             [
              0,
              "#0d0887"
             ],
             [
              0.1111111111111111,
              "#46039f"
             ],
             [
              0.2222222222222222,
              "#7201a8"
             ],
             [
              0.3333333333333333,
              "#9c179e"
             ],
             [
              0.4444444444444444,
              "#bd3786"
             ],
             [
              0.5555555555555556,
              "#d8576b"
             ],
             [
              0.6666666666666666,
              "#ed7953"
             ],
             [
              0.7777777777777778,
              "#fb9f3a"
             ],
             [
              0.8888888888888888,
              "#fdca26"
             ],
             [
              1,
              "#f0f921"
             ]
            ],
            "type": "histogram2dcontour"
           }
          ],
          "mesh3d": [
           {
            "colorbar": {
             "outlinewidth": 0,
             "ticks": ""
            },
            "type": "mesh3d"
           }
          ],
          "parcoords": [
           {
            "line": {
             "colorbar": {
              "outlinewidth": 0,
              "ticks": ""
             }
            },
            "type": "parcoords"
           }
          ],
          "pie": [
           {
            "automargin": true,
            "type": "pie"
           }
          ],
          "scatter": [
           {
            "fillpattern": {
             "fillmode": "overlay",
             "size": 10,
             "solidity": 0.2
            },
            "type": "scatter"
           }
          ],
          "scatter3d": [
           {
            "line": {
             "colorbar": {
              "outlinewidth": 0,
              "ticks": ""
             }
            },
            "marker": {
             "colorbar": {
              "outlinewidth": 0,
              "ticks": ""
             }
            },
            "type": "scatter3d"
           }
          ],
          "scattercarpet": [
           {
            "marker": {
             "colorbar": {
              "outlinewidth": 0,
              "ticks": ""
             }
            },
            "type": "scattercarpet"
           }
          ],
          "scattergeo": [
           {
            "marker": {
             "colorbar": {
              "outlinewidth": 0,
              "ticks": ""
             }
            },
            "type": "scattergeo"
           }
          ],
          "scattergl": [
           {
            "marker": {
             "colorbar": {
              "outlinewidth": 0,
              "ticks": ""
             }
            },
            "type": "scattergl"
           }
          ],
          "scattermapbox": [
           {
            "marker": {
             "colorbar": {
              "outlinewidth": 0,
              "ticks": ""
             }
            },
            "type": "scattermapbox"
           }
          ],
          "scatterpolar": [
           {
            "marker": {
             "colorbar": {
              "outlinewidth": 0,
              "ticks": ""
             }
            },
            "type": "scatterpolar"
           }
          ],
          "scatterpolargl": [
           {
            "marker": {
             "colorbar": {
              "outlinewidth": 0,
              "ticks": ""
             }
            },
            "type": "scatterpolargl"
           }
          ],
          "scatterternary": [
           {
            "marker": {
             "colorbar": {
              "outlinewidth": 0,
              "ticks": ""
             }
            },
            "type": "scatterternary"
           }
          ],
          "surface": [
           {
            "colorbar": {
             "outlinewidth": 0,
             "ticks": ""
            },
            "colorscale": [
             [
              0,
              "#0d0887"
             ],
             [
              0.1111111111111111,
              "#46039f"
             ],
             [
              0.2222222222222222,
              "#7201a8"
             ],
             [
              0.3333333333333333,
              "#9c179e"
             ],
             [
              0.4444444444444444,
              "#bd3786"
             ],
             [
              0.5555555555555556,
              "#d8576b"
             ],
             [
              0.6666666666666666,
              "#ed7953"
             ],
             [
              0.7777777777777778,
              "#fb9f3a"
             ],
             [
              0.8888888888888888,
              "#fdca26"
             ],
             [
              1,
              "#f0f921"
             ]
            ],
            "type": "surface"
           }
          ],
          "table": [
           {
            "cells": {
             "fill": {
              "color": "#EBF0F8"
             },
             "line": {
              "color": "white"
             }
            },
            "header": {
             "fill": {
              "color": "#C8D4E3"
             },
             "line": {
              "color": "white"
             }
            },
            "type": "table"
           }
          ]
         },
         "layout": {
          "annotationdefaults": {
           "arrowcolor": "#2a3f5f",
           "arrowhead": 0,
           "arrowwidth": 1
          },
          "autotypenumbers": "strict",
          "coloraxis": {
           "colorbar": {
            "outlinewidth": 0,
            "ticks": ""
           }
          },
          "colorscale": {
           "diverging": [
            [
             0,
             "#8e0152"
            ],
            [
             0.1,
             "#c51b7d"
            ],
            [
             0.2,
             "#de77ae"
            ],
            [
             0.3,
             "#f1b6da"
            ],
            [
             0.4,
             "#fde0ef"
            ],
            [
             0.5,
             "#f7f7f7"
            ],
            [
             0.6,
             "#e6f5d0"
            ],
            [
             0.7,
             "#b8e186"
            ],
            [
             0.8,
             "#7fbc41"
            ],
            [
             0.9,
             "#4d9221"
            ],
            [
             1,
             "#276419"
            ]
           ],
           "sequential": [
            [
             0,
             "#0d0887"
            ],
            [
             0.1111111111111111,
             "#46039f"
            ],
            [
             0.2222222222222222,
             "#7201a8"
            ],
            [
             0.3333333333333333,
             "#9c179e"
            ],
            [
             0.4444444444444444,
             "#bd3786"
            ],
            [
             0.5555555555555556,
             "#d8576b"
            ],
            [
             0.6666666666666666,
             "#ed7953"
            ],
            [
             0.7777777777777778,
             "#fb9f3a"
            ],
            [
             0.8888888888888888,
             "#fdca26"
            ],
            [
             1,
             "#f0f921"
            ]
           ],
           "sequentialminus": [
            [
             0,
             "#0d0887"
            ],
            [
             0.1111111111111111,
             "#46039f"
            ],
            [
             0.2222222222222222,
             "#7201a8"
            ],
            [
             0.3333333333333333,
             "#9c179e"
            ],
            [
             0.4444444444444444,
             "#bd3786"
            ],
            [
             0.5555555555555556,
             "#d8576b"
            ],
            [
             0.6666666666666666,
             "#ed7953"
            ],
            [
             0.7777777777777778,
             "#fb9f3a"
            ],
            [
             0.8888888888888888,
             "#fdca26"
            ],
            [
             1,
             "#f0f921"
            ]
           ]
          },
          "colorway": [
           "#636efa",
           "#EF553B",
           "#00cc96",
           "#ab63fa",
           "#FFA15A",
           "#19d3f3",
           "#FF6692",
           "#B6E880",
           "#FF97FF",
           "#FECB52"
          ],
          "font": {
           "color": "#2a3f5f"
          },
          "geo": {
           "bgcolor": "white",
           "lakecolor": "white",
           "landcolor": "#E5ECF6",
           "showlakes": true,
           "showland": true,
           "subunitcolor": "white"
          },
          "hoverlabel": {
           "align": "left"
          },
          "hovermode": "closest",
          "mapbox": {
           "style": "light"
          },
          "paper_bgcolor": "white",
          "plot_bgcolor": "#E5ECF6",
          "polar": {
           "angularaxis": {
            "gridcolor": "white",
            "linecolor": "white",
            "ticks": ""
           },
           "bgcolor": "#E5ECF6",
           "radialaxis": {
            "gridcolor": "white",
            "linecolor": "white",
            "ticks": ""
           }
          },
          "scene": {
           "xaxis": {
            "backgroundcolor": "#E5ECF6",
            "gridcolor": "white",
            "gridwidth": 2,
            "linecolor": "white",
            "showbackground": true,
            "ticks": "",
            "zerolinecolor": "white"
           },
           "yaxis": {
            "backgroundcolor": "#E5ECF6",
            "gridcolor": "white",
            "gridwidth": 2,
            "linecolor": "white",
            "showbackground": true,
            "ticks": "",
            "zerolinecolor": "white"
           },
           "zaxis": {
            "backgroundcolor": "#E5ECF6",
            "gridcolor": "white",
            "gridwidth": 2,
            "linecolor": "white",
            "showbackground": true,
            "ticks": "",
            "zerolinecolor": "white"
           }
          },
          "shapedefaults": {
           "line": {
            "color": "#2a3f5f"
           }
          },
          "ternary": {
           "aaxis": {
            "gridcolor": "white",
            "linecolor": "white",
            "ticks": ""
           },
           "baxis": {
            "gridcolor": "white",
            "linecolor": "white",
            "ticks": ""
           },
           "bgcolor": "#E5ECF6",
           "caxis": {
            "gridcolor": "white",
            "linecolor": "white",
            "ticks": ""
           }
          },
          "title": {
           "x": 0.05
          },
          "xaxis": {
           "automargin": true,
           "gridcolor": "white",
           "linecolor": "white",
           "ticks": "",
           "title": {
            "standoff": 15
           },
           "zerolinecolor": "white",
           "zerolinewidth": 2
          },
          "yaxis": {
           "automargin": true,
           "gridcolor": "white",
           "linecolor": "white",
           "ticks": "",
           "title": {
            "standoff": 15
           },
           "zerolinecolor": "white",
           "zerolinewidth": 2
          }
         }
        },
        "uniformtext": {
         "minsize": 10,
         "mode": "hide"
        }
       }
      }
     },
     "metadata": {},
     "output_type": "display_data"
    }
   ],
   "source": [
    "# avg readings for O3 across all cities (pie chart)\n",
    "trace9=go.Pie(labels=avg_readings['City'], values=avg_readings['O3'],\n",
    "             title='Average O3 readings by City')\n",
    "fig=go.Figure(trace9)\n",
    "fig.update_traces(textposition='inside')\n",
    "fig.update_layout(uniformtext_minsize=10, uniformtext_mode='hide')\n",
    "fig.show()"
   ]
  },
  {
   "cell_type": "code",
   "execution_count": null,
   "id": "765727be",
   "metadata": {
    "execution": {
     "iopub.execute_input": "2023-05-10T11:43:47.741465Z",
     "iopub.status.busy": "2023-05-10T11:43:47.740644Z",
     "iopub.status.idle": "2023-05-10T11:43:47.755567Z",
     "shell.execute_reply": "2023-05-10T11:43:47.754337Z"
    },
    "papermill": {
     "duration": 0.044022,
     "end_time": "2023-05-10T11:43:47.758091",
     "exception": false,
     "start_time": "2023-05-10T11:43:47.714069",
     "status": "completed"
    },
    "tags": []
   },
   "outputs": [
    {
     "data": {
      "application/vnd.plotly.v1+json": {
       "config": {
        "plotlyServerURL": "https://plot.ly"
       },
       "data": [
        {
         "labels": [
          "Ahmedabad",
          "Aizawl",
          "Amaravati",
          "Amritsar",
          "Bengaluru",
          "Bhopal",
          "Brajrajnagar",
          "Chandigarh",
          "Chennai",
          "Coimbatore",
          "Delhi",
          "Ernakulam",
          "Gurugram",
          "Guwahati",
          "Hyderabad",
          "Jaipur",
          "Jorapokhar",
          "Kochi",
          "Kolkata",
          "Lucknow",
          "Mumbai",
          "Patna",
          "Shillong",
          "Talcher",
          "Thiruvananthapuram",
          "Visakhapatnam"
         ],
         "textposition": "inside",
         "title": {
          "text": "Average Benzene readings by City"
         },
         "type": "pie",
         "values": [
          4.9,
          8.94,
          0.76,
          4.04,
          3.23,
          3.28,
          4.55,
          5.07,
          1.93,
          0.03,
          3.54,
          0.67,
          2.13,
          4.04,
          1.31,
          1.6,
          3.28,
          3.28,
          10.86,
          2.91,
          1.33,
          1.81,
          34.69,
          0.91,
          3.28,
          3.88
         ]
        }
       ],
       "layout": {
        "template": {
         "data": {
          "bar": [
           {
            "error_x": {
             "color": "#2a3f5f"
            },
            "error_y": {
             "color": "#2a3f5f"
            },
            "marker": {
             "line": {
              "color": "#E5ECF6",
              "width": 0.5
             },
             "pattern": {
              "fillmode": "overlay",
              "size": 10,
              "solidity": 0.2
             }
            },
            "type": "bar"
           }
          ],
          "barpolar": [
           {
            "marker": {
             "line": {
              "color": "#E5ECF6",
              "width": 0.5
             },
             "pattern": {
              "fillmode": "overlay",
              "size": 10,
              "solidity": 0.2
             }
            },
            "type": "barpolar"
           }
          ],
          "carpet": [
           {
            "aaxis": {
             "endlinecolor": "#2a3f5f",
             "gridcolor": "white",
             "linecolor": "white",
             "minorgridcolor": "white",
             "startlinecolor": "#2a3f5f"
            },
            "baxis": {
             "endlinecolor": "#2a3f5f",
             "gridcolor": "white",
             "linecolor": "white",
             "minorgridcolor": "white",
             "startlinecolor": "#2a3f5f"
            },
            "type": "carpet"
           }
          ],
          "choropleth": [
           {
            "colorbar": {
             "outlinewidth": 0,
             "ticks": ""
            },
            "type": "choropleth"
           }
          ],
          "contour": [
           {
            "colorbar": {
             "outlinewidth": 0,
             "ticks": ""
            },
            "colorscale": [
             [
              0,
              "#0d0887"
             ],
             [
              0.1111111111111111,
              "#46039f"
             ],
             [
              0.2222222222222222,
              "#7201a8"
             ],
             [
              0.3333333333333333,
              "#9c179e"
             ],
             [
              0.4444444444444444,
              "#bd3786"
             ],
             [
              0.5555555555555556,
              "#d8576b"
             ],
             [
              0.6666666666666666,
              "#ed7953"
             ],
             [
              0.7777777777777778,
              "#fb9f3a"
             ],
             [
              0.8888888888888888,
              "#fdca26"
             ],
             [
              1,
              "#f0f921"
             ]
            ],
            "type": "contour"
           }
          ],
          "contourcarpet": [
           {
            "colorbar": {
             "outlinewidth": 0,
             "ticks": ""
            },
            "type": "contourcarpet"
           }
          ],
          "heatmap": [
           {
            "colorbar": {
             "outlinewidth": 0,
             "ticks": ""
            },
            "colorscale": [
             [
              0,
              "#0d0887"
             ],
             [
              0.1111111111111111,
              "#46039f"
             ],
             [
              0.2222222222222222,
              "#7201a8"
             ],
             [
              0.3333333333333333,
              "#9c179e"
             ],
             [
              0.4444444444444444,
              "#bd3786"
             ],
             [
              0.5555555555555556,
              "#d8576b"
             ],
             [
              0.6666666666666666,
              "#ed7953"
             ],
             [
              0.7777777777777778,
              "#fb9f3a"
             ],
             [
              0.8888888888888888,
              "#fdca26"
             ],
             [
              1,
              "#f0f921"
             ]
            ],
            "type": "heatmap"
           }
          ],
          "heatmapgl": [
           {
            "colorbar": {
             "outlinewidth": 0,
             "ticks": ""
            },
            "colorscale": [
             [
              0,
              "#0d0887"
             ],
             [
              0.1111111111111111,
              "#46039f"
             ],
             [
              0.2222222222222222,
              "#7201a8"
             ],
             [
              0.3333333333333333,
              "#9c179e"
             ],
             [
              0.4444444444444444,
              "#bd3786"
             ],
             [
              0.5555555555555556,
              "#d8576b"
             ],
             [
              0.6666666666666666,
              "#ed7953"
             ],
             [
              0.7777777777777778,
              "#fb9f3a"
             ],
             [
              0.8888888888888888,
              "#fdca26"
             ],
             [
              1,
              "#f0f921"
             ]
            ],
            "type": "heatmapgl"
           }
          ],
          "histogram": [
           {
            "marker": {
             "pattern": {
              "fillmode": "overlay",
              "size": 10,
              "solidity": 0.2
             }
            },
            "type": "histogram"
           }
          ],
          "histogram2d": [
           {
            "colorbar": {
             "outlinewidth": 0,
             "ticks": ""
            },
            "colorscale": [
             [
              0,
              "#0d0887"
             ],
             [
              0.1111111111111111,
              "#46039f"
             ],
             [
              0.2222222222222222,
              "#7201a8"
             ],
             [
              0.3333333333333333,
              "#9c179e"
             ],
             [
              0.4444444444444444,
              "#bd3786"
             ],
             [
              0.5555555555555556,
              "#d8576b"
             ],
             [
              0.6666666666666666,
              "#ed7953"
             ],
             [
              0.7777777777777778,
              "#fb9f3a"
             ],
             [
              0.8888888888888888,
              "#fdca26"
             ],
             [
              1,
              "#f0f921"
             ]
            ],
            "type": "histogram2d"
           }
          ],
          "histogram2dcontour": [
           {
            "colorbar": {
             "outlinewidth": 0,
             "ticks": ""
            },
            "colorscale": [
             [
              0,
              "#0d0887"
             ],
             [
              0.1111111111111111,
              "#46039f"
             ],
             [
              0.2222222222222222,
              "#7201a8"
             ],
             [
              0.3333333333333333,
              "#9c179e"
             ],
             [
              0.4444444444444444,
              "#bd3786"
             ],
             [
              0.5555555555555556,
              "#d8576b"
             ],
             [
              0.6666666666666666,
              "#ed7953"
             ],
             [
              0.7777777777777778,
              "#fb9f3a"
             ],
             [
              0.8888888888888888,
              "#fdca26"
             ],
             [
              1,
              "#f0f921"
             ]
            ],
            "type": "histogram2dcontour"
           }
          ],
          "mesh3d": [
           {
            "colorbar": {
             "outlinewidth": 0,
             "ticks": ""
            },
            "type": "mesh3d"
           }
          ],
          "parcoords": [
           {
            "line": {
             "colorbar": {
              "outlinewidth": 0,
              "ticks": ""
             }
            },
            "type": "parcoords"
           }
          ],
          "pie": [
           {
            "automargin": true,
            "type": "pie"
           }
          ],
          "scatter": [
           {
            "fillpattern": {
             "fillmode": "overlay",
             "size": 10,
             "solidity": 0.2
            },
            "type": "scatter"
           }
          ],
          "scatter3d": [
           {
            "line": {
             "colorbar": {
              "outlinewidth": 0,
              "ticks": ""
             }
            },
            "marker": {
             "colorbar": {
              "outlinewidth": 0,
              "ticks": ""
             }
            },
            "type": "scatter3d"
           }
          ],
          "scattercarpet": [
           {
            "marker": {
             "colorbar": {
              "outlinewidth": 0,
              "ticks": ""
             }
            },
            "type": "scattercarpet"
           }
          ],
          "scattergeo": [
           {
            "marker": {
             "colorbar": {
              "outlinewidth": 0,
              "ticks": ""
             }
            },
            "type": "scattergeo"
           }
          ],
          "scattergl": [
           {
            "marker": {
             "colorbar": {
              "outlinewidth": 0,
              "ticks": ""
             }
            },
            "type": "scattergl"
           }
          ],
          "scattermapbox": [
           {
            "marker": {
             "colorbar": {
              "outlinewidth": 0,
              "ticks": ""
             }
            },
            "type": "scattermapbox"
           }
          ],
          "scatterpolar": [
           {
            "marker": {
             "colorbar": {
              "outlinewidth": 0,
              "ticks": ""
             }
            },
            "type": "scatterpolar"
           }
          ],
          "scatterpolargl": [
           {
            "marker": {
             "colorbar": {
              "outlinewidth": 0,
              "ticks": ""
             }
            },
            "type": "scatterpolargl"
           }
          ],
          "scatterternary": [
           {
            "marker": {
             "colorbar": {
              "outlinewidth": 0,
              "ticks": ""
             }
            },
            "type": "scatterternary"
           }
          ],
          "surface": [
           {
            "colorbar": {
             "outlinewidth": 0,
             "ticks": ""
            },
            "colorscale": [
             [
              0,
              "#0d0887"
             ],
             [
              0.1111111111111111,
              "#46039f"
             ],
             [
              0.2222222222222222,
              "#7201a8"
             ],
             [
              0.3333333333333333,
              "#9c179e"
             ],
             [
              0.4444444444444444,
              "#bd3786"
             ],
             [
              0.5555555555555556,
              "#d8576b"
             ],
             [
              0.6666666666666666,
              "#ed7953"
             ],
             [
              0.7777777777777778,
              "#fb9f3a"
             ],
             [
              0.8888888888888888,
              "#fdca26"
             ],
             [
              1,
              "#f0f921"
             ]
            ],
            "type": "surface"
           }
          ],
          "table": [
           {
            "cells": {
             "fill": {
              "color": "#EBF0F8"
             },
             "line": {
              "color": "white"
             }
            },
            "header": {
             "fill": {
              "color": "#C8D4E3"
             },
             "line": {
              "color": "white"
             }
            },
            "type": "table"
           }
          ]
         },
         "layout": {
          "annotationdefaults": {
           "arrowcolor": "#2a3f5f",
           "arrowhead": 0,
           "arrowwidth": 1
          },
          "autotypenumbers": "strict",
          "coloraxis": {
           "colorbar": {
            "outlinewidth": 0,
            "ticks": ""
           }
          },
          "colorscale": {
           "diverging": [
            [
             0,
             "#8e0152"
            ],
            [
             0.1,
             "#c51b7d"
            ],
            [
             0.2,
             "#de77ae"
            ],
            [
             0.3,
             "#f1b6da"
            ],
            [
             0.4,
             "#fde0ef"
            ],
            [
             0.5,
             "#f7f7f7"
            ],
            [
             0.6,
             "#e6f5d0"
            ],
            [
             0.7,
             "#b8e186"
            ],
            [
             0.8,
             "#7fbc41"
            ],
            [
             0.9,
             "#4d9221"
            ],
            [
             1,
             "#276419"
            ]
           ],
           "sequential": [
            [
             0,
             "#0d0887"
            ],
            [
             0.1111111111111111,
             "#46039f"
            ],
            [
             0.2222222222222222,
             "#7201a8"
            ],
            [
             0.3333333333333333,
             "#9c179e"
            ],
            [
             0.4444444444444444,
             "#bd3786"
            ],
            [
             0.5555555555555556,
             "#d8576b"
            ],
            [
             0.6666666666666666,
             "#ed7953"
            ],
            [
             0.7777777777777778,
             "#fb9f3a"
            ],
            [
             0.8888888888888888,
             "#fdca26"
            ],
            [
             1,
             "#f0f921"
            ]
           ],
           "sequentialminus": [
            [
             0,
             "#0d0887"
            ],
            [
             0.1111111111111111,
             "#46039f"
            ],
            [
             0.2222222222222222,
             "#7201a8"
            ],
            [
             0.3333333333333333,
             "#9c179e"
            ],
            [
             0.4444444444444444,
             "#bd3786"
            ],
            [
             0.5555555555555556,
             "#d8576b"
            ],
            [
             0.6666666666666666,
             "#ed7953"
            ],
            [
             0.7777777777777778,
             "#fb9f3a"
            ],
            [
             0.8888888888888888,
             "#fdca26"
            ],
            [
             1,
             "#f0f921"
            ]
           ]
          },
          "colorway": [
           "#636efa",
           "#EF553B",
           "#00cc96",
           "#ab63fa",
           "#FFA15A",
           "#19d3f3",
           "#FF6692",
           "#B6E880",
           "#FF97FF",
           "#FECB52"
          ],
          "font": {
           "color": "#2a3f5f"
          },
          "geo": {
           "bgcolor": "white",
           "lakecolor": "white",
           "landcolor": "#E5ECF6",
           "showlakes": true,
           "showland": true,
           "subunitcolor": "white"
          },
          "hoverlabel": {
           "align": "left"
          },
          "hovermode": "closest",
          "mapbox": {
           "style": "light"
          },
          "paper_bgcolor": "white",
          "plot_bgcolor": "#E5ECF6",
          "polar": {
           "angularaxis": {
            "gridcolor": "white",
            "linecolor": "white",
            "ticks": ""
           },
           "bgcolor": "#E5ECF6",
           "radialaxis": {
            "gridcolor": "white",
            "linecolor": "white",
            "ticks": ""
           }
          },
          "scene": {
           "xaxis": {
            "backgroundcolor": "#E5ECF6",
            "gridcolor": "white",
            "gridwidth": 2,
            "linecolor": "white",
            "showbackground": true,
            "ticks": "",
            "zerolinecolor": "white"
           },
           "yaxis": {
            "backgroundcolor": "#E5ECF6",
            "gridcolor": "white",
            "gridwidth": 2,
            "linecolor": "white",
            "showbackground": true,
            "ticks": "",
            "zerolinecolor": "white"
           },
           "zaxis": {
            "backgroundcolor": "#E5ECF6",
            "gridcolor": "white",
            "gridwidth": 2,
            "linecolor": "white",
            "showbackground": true,
            "ticks": "",
            "zerolinecolor": "white"
           }
          },
          "shapedefaults": {
           "line": {
            "color": "#2a3f5f"
           }
          },
          "ternary": {
           "aaxis": {
            "gridcolor": "white",
            "linecolor": "white",
            "ticks": ""
           },
           "baxis": {
            "gridcolor": "white",
            "linecolor": "white",
            "ticks": ""
           },
           "bgcolor": "#E5ECF6",
           "caxis": {
            "gridcolor": "white",
            "linecolor": "white",
            "ticks": ""
           }
          },
          "title": {
           "x": 0.05
          },
          "xaxis": {
           "automargin": true,
           "gridcolor": "white",
           "linecolor": "white",
           "ticks": "",
           "title": {
            "standoff": 15
           },
           "zerolinecolor": "white",
           "zerolinewidth": 2
          },
          "yaxis": {
           "automargin": true,
           "gridcolor": "white",
           "linecolor": "white",
           "ticks": "",
           "title": {
            "standoff": 15
           },
           "zerolinecolor": "white",
           "zerolinewidth": 2
          }
         }
        },
        "uniformtext": {
         "minsize": 12,
         "mode": "hide"
        }
       }
      }
     },
     "metadata": {},
     "output_type": "display_data"
    }
   ],
   "source": [
    "# avg readings for Benzene across all cities (pie chart)\n",
    "trace10=go.Pie(labels=avg_readings['City'], values=avg_readings['Benzene'].round(2),\n",
    "             title='Average Benzene readings by City')\n",
    "fig=go.Figure(trace10)\n",
    "fig.update_traces(textposition='inside')\n",
    "fig.update_layout(uniformtext_minsize=12, uniformtext_mode='hide')\n",
    "fig.show()"
   ]
  },
  {
   "cell_type": "code",
   "execution_count": null,
   "id": "a26b4d16",
   "metadata": {
    "execution": {
     "iopub.execute_input": "2023-05-10T11:43:47.811848Z",
     "iopub.status.busy": "2023-05-10T11:43:47.811371Z",
     "iopub.status.idle": "2023-05-10T11:43:47.828056Z",
     "shell.execute_reply": "2023-05-10T11:43:47.826997Z"
    },
    "papermill": {
     "duration": 0.046544,
     "end_time": "2023-05-10T11:43:47.830518",
     "exception": false,
     "start_time": "2023-05-10T11:43:47.783974",
     "status": "completed"
    },
    "tags": []
   },
   "outputs": [
    {
     "data": {
      "application/vnd.plotly.v1+json": {
       "config": {
        "plotlyServerURL": "https://plot.ly"
       },
       "data": [
        {
         "labels": [
          "Ahmedabad",
          "Aizawl",
          "Amaravati",
          "Amritsar",
          "Bengaluru",
          "Bhopal",
          "Brajrajnagar",
          "Chandigarh",
          "Chennai",
          "Coimbatore",
          "Delhi",
          "Ernakulam",
          "Gurugram",
          "Guwahati",
          "Hyderabad",
          "Jaipur",
          "Jorapokhar",
          "Kochi",
          "Kolkata",
          "Lucknow",
          "Mumbai",
          "Patna",
          "Shillong",
          "Talcher",
          "Thiruvananthapuram",
          "Visakhapatnam"
         ],
         "textposition": "inside",
         "title": {
          "text": "Average Toluene readings by City"
         },
         "type": "pie",
         "values": [
          23.16,
          10.04,
          2.42,
          4.02,
          4.94,
          8.7,
          8.7,
          1.4,
          3.36,
          0.11,
          17.19,
          1.45,
          6.84,
          8.7,
          7.93,
          6.73,
          8.7,
          0,
          15.39,
          5.2,
          4.31,
          10.22,
          35.37,
          7.13,
          8.7,
          8.36
         ]
        }
       ],
       "layout": {
        "template": {
         "data": {
          "bar": [
           {
            "error_x": {
             "color": "#2a3f5f"
            },
            "error_y": {
             "color": "#2a3f5f"
            },
            "marker": {
             "line": {
              "color": "#E5ECF6",
              "width": 0.5
             },
             "pattern": {
              "fillmode": "overlay",
              "size": 10,
              "solidity": 0.2
             }
            },
            "type": "bar"
           }
          ],
          "barpolar": [
           {
            "marker": {
             "line": {
              "color": "#E5ECF6",
              "width": 0.5
             },
             "pattern": {
              "fillmode": "overlay",
              "size": 10,
              "solidity": 0.2
             }
            },
            "type": "barpolar"
           }
          ],
          "carpet": [
           {
            "aaxis": {
             "endlinecolor": "#2a3f5f",
             "gridcolor": "white",
             "linecolor": "white",
             "minorgridcolor": "white",
             "startlinecolor": "#2a3f5f"
            },
            "baxis": {
             "endlinecolor": "#2a3f5f",
             "gridcolor": "white",
             "linecolor": "white",
             "minorgridcolor": "white",
             "startlinecolor": "#2a3f5f"
            },
            "type": "carpet"
           }
          ],
          "choropleth": [
           {
            "colorbar": {
             "outlinewidth": 0,
             "ticks": ""
            },
            "type": "choropleth"
           }
          ],
          "contour": [
           {
            "colorbar": {
             "outlinewidth": 0,
             "ticks": ""
            },
            "colorscale": [
             [
              0,
              "#0d0887"
             ],
             [
              0.1111111111111111,
              "#46039f"
             ],
             [
              0.2222222222222222,
              "#7201a8"
             ],
             [
              0.3333333333333333,
              "#9c179e"
             ],
             [
              0.4444444444444444,
              "#bd3786"
             ],
             [
              0.5555555555555556,
              "#d8576b"
             ],
             [
              0.6666666666666666,
              "#ed7953"
             ],
             [
              0.7777777777777778,
              "#fb9f3a"
             ],
             [
              0.8888888888888888,
              "#fdca26"
             ],
             [
              1,
              "#f0f921"
             ]
            ],
            "type": "contour"
           }
          ],
          "contourcarpet": [
           {
            "colorbar": {
             "outlinewidth": 0,
             "ticks": ""
            },
            "type": "contourcarpet"
           }
          ],
          "heatmap": [
           {
            "colorbar": {
             "outlinewidth": 0,
             "ticks": ""
            },
            "colorscale": [
             [
              0,
              "#0d0887"
             ],
             [
              0.1111111111111111,
              "#46039f"
             ],
             [
              0.2222222222222222,
              "#7201a8"
             ],
             [
              0.3333333333333333,
              "#9c179e"
             ],
             [
              0.4444444444444444,
              "#bd3786"
             ],
             [
              0.5555555555555556,
              "#d8576b"
             ],
             [
              0.6666666666666666,
              "#ed7953"
             ],
             [
              0.7777777777777778,
              "#fb9f3a"
             ],
             [
              0.8888888888888888,
              "#fdca26"
             ],
             [
              1,
              "#f0f921"
             ]
            ],
            "type": "heatmap"
           }
          ],
          "heatmapgl": [
           {
            "colorbar": {
             "outlinewidth": 0,
             "ticks": ""
            },
            "colorscale": [
             [
              0,
              "#0d0887"
             ],
             [
              0.1111111111111111,
              "#46039f"
             ],
             [
              0.2222222222222222,
              "#7201a8"
             ],
             [
              0.3333333333333333,
              "#9c179e"
             ],
             [
              0.4444444444444444,
              "#bd3786"
             ],
             [
              0.5555555555555556,
              "#d8576b"
             ],
             [
              0.6666666666666666,
              "#ed7953"
             ],
             [
              0.7777777777777778,
              "#fb9f3a"
             ],
             [
              0.8888888888888888,
              "#fdca26"
             ],
             [
              1,
              "#f0f921"
             ]
            ],
            "type": "heatmapgl"
           }
          ],
          "histogram": [
           {
            "marker": {
             "pattern": {
              "fillmode": "overlay",
              "size": 10,
              "solidity": 0.2
             }
            },
            "type": "histogram"
           }
          ],
          "histogram2d": [
           {
            "colorbar": {
             "outlinewidth": 0,
             "ticks": ""
            },
            "colorscale": [
             [
              0,
              "#0d0887"
             ],
             [
              0.1111111111111111,
              "#46039f"
             ],
             [
              0.2222222222222222,
              "#7201a8"
             ],
             [
              0.3333333333333333,
              "#9c179e"
             ],
             [
              0.4444444444444444,
              "#bd3786"
             ],
             [
              0.5555555555555556,
              "#d8576b"
             ],
             [
              0.6666666666666666,
              "#ed7953"
             ],
             [
              0.7777777777777778,
              "#fb9f3a"
             ],
             [
              0.8888888888888888,
              "#fdca26"
             ],
             [
              1,
              "#f0f921"
             ]
            ],
            "type": "histogram2d"
           }
          ],
          "histogram2dcontour": [
           {
            "colorbar": {
             "outlinewidth": 0,
             "ticks": ""
            },
            "colorscale": [
             [
              0,
              "#0d0887"
             ],
             [
              0.1111111111111111,
              "#46039f"
             ],
             [
              0.2222222222222222,
              "#7201a8"
             ],
             [
              0.3333333333333333,
              "#9c179e"
             ],
             [
              0.4444444444444444,
              "#bd3786"
             ],
             [
              0.5555555555555556,
              "#d8576b"
             ],
             [
              0.6666666666666666,
              "#ed7953"
             ],
             [
              0.7777777777777778,
              "#fb9f3a"
             ],
             [
              0.8888888888888888,
              "#fdca26"
             ],
             [
              1,
              "#f0f921"
             ]
            ],
            "type": "histogram2dcontour"
           }
          ],
          "mesh3d": [
           {
            "colorbar": {
             "outlinewidth": 0,
             "ticks": ""
            },
            "type": "mesh3d"
           }
          ],
          "parcoords": [
           {
            "line": {
             "colorbar": {
              "outlinewidth": 0,
              "ticks": ""
             }
            },
            "type": "parcoords"
           }
          ],
          "pie": [
           {
            "automargin": true,
            "type": "pie"
           }
          ],
          "scatter": [
           {
            "fillpattern": {
             "fillmode": "overlay",
             "size": 10,
             "solidity": 0.2
            },
            "type": "scatter"
           }
          ],
          "scatter3d": [
           {
            "line": {
             "colorbar": {
              "outlinewidth": 0,
              "ticks": ""
             }
            },
            "marker": {
             "colorbar": {
              "outlinewidth": 0,
              "ticks": ""
             }
            },
            "type": "scatter3d"
           }
          ],
          "scattercarpet": [
           {
            "marker": {
             "colorbar": {
              "outlinewidth": 0,
              "ticks": ""
             }
            },
            "type": "scattercarpet"
           }
          ],
          "scattergeo": [
           {
            "marker": {
             "colorbar": {
              "outlinewidth": 0,
              "ticks": ""
             }
            },
            "type": "scattergeo"
           }
          ],
          "scattergl": [
           {
            "marker": {
             "colorbar": {
              "outlinewidth": 0,
              "ticks": ""
             }
            },
            "type": "scattergl"
           }
          ],
          "scattermapbox": [
           {
            "marker": {
             "colorbar": {
              "outlinewidth": 0,
              "ticks": ""
             }
            },
            "type": "scattermapbox"
           }
          ],
          "scatterpolar": [
           {
            "marker": {
             "colorbar": {
              "outlinewidth": 0,
              "ticks": ""
             }
            },
            "type": "scatterpolar"
           }
          ],
          "scatterpolargl": [
           {
            "marker": {
             "colorbar": {
              "outlinewidth": 0,
              "ticks": ""
             }
            },
            "type": "scatterpolargl"
           }
          ],
          "scatterternary": [
           {
            "marker": {
             "colorbar": {
              "outlinewidth": 0,
              "ticks": ""
             }
            },
            "type": "scatterternary"
           }
          ],
          "surface": [
           {
            "colorbar": {
             "outlinewidth": 0,
             "ticks": ""
            },
            "colorscale": [
             [
              0,
              "#0d0887"
             ],
             [
              0.1111111111111111,
              "#46039f"
             ],
             [
              0.2222222222222222,
              "#7201a8"
             ],
             [
              0.3333333333333333,
              "#9c179e"
             ],
             [
              0.4444444444444444,
              "#bd3786"
             ],
             [
              0.5555555555555556,
              "#d8576b"
             ],
             [
              0.6666666666666666,
              "#ed7953"
             ],
             [
              0.7777777777777778,
              "#fb9f3a"
             ],
             [
              0.8888888888888888,
              "#fdca26"
             ],
             [
              1,
              "#f0f921"
             ]
            ],
            "type": "surface"
           }
          ],
          "table": [
           {
            "cells": {
             "fill": {
              "color": "#EBF0F8"
             },
             "line": {
              "color": "white"
             }
            },
            "header": {
             "fill": {
              "color": "#C8D4E3"
             },
             "line": {
              "color": "white"
             }
            },
            "type": "table"
           }
          ]
         },
         "layout": {
          "annotationdefaults": {
           "arrowcolor": "#2a3f5f",
           "arrowhead": 0,
           "arrowwidth": 1
          },
          "autotypenumbers": "strict",
          "coloraxis": {
           "colorbar": {
            "outlinewidth": 0,
            "ticks": ""
           }
          },
          "colorscale": {
           "diverging": [
            [
             0,
             "#8e0152"
            ],
            [
             0.1,
             "#c51b7d"
            ],
            [
             0.2,
             "#de77ae"
            ],
            [
             0.3,
             "#f1b6da"
            ],
            [
             0.4,
             "#fde0ef"
            ],
            [
             0.5,
             "#f7f7f7"
            ],
            [
             0.6,
             "#e6f5d0"
            ],
            [
             0.7,
             "#b8e186"
            ],
            [
             0.8,
             "#7fbc41"
            ],
            [
             0.9,
             "#4d9221"
            ],
            [
             1,
             "#276419"
            ]
           ],
           "sequential": [
            [
             0,
             "#0d0887"
            ],
            [
             0.1111111111111111,
             "#46039f"
            ],
            [
             0.2222222222222222,
             "#7201a8"
            ],
            [
             0.3333333333333333,
             "#9c179e"
            ],
            [
             0.4444444444444444,
             "#bd3786"
            ],
            [
             0.5555555555555556,
             "#d8576b"
            ],
            [
             0.6666666666666666,
             "#ed7953"
            ],
            [
             0.7777777777777778,
             "#fb9f3a"
            ],
            [
             0.8888888888888888,
             "#fdca26"
            ],
            [
             1,
             "#f0f921"
            ]
           ],
           "sequentialminus": [
            [
             0,
             "#0d0887"
            ],
            [
             0.1111111111111111,
             "#46039f"
            ],
            [
             0.2222222222222222,
             "#7201a8"
            ],
            [
             0.3333333333333333,
             "#9c179e"
            ],
            [
             0.4444444444444444,
             "#bd3786"
            ],
            [
             0.5555555555555556,
             "#d8576b"
            ],
            [
             0.6666666666666666,
             "#ed7953"
            ],
            [
             0.7777777777777778,
             "#fb9f3a"
            ],
            [
             0.8888888888888888,
             "#fdca26"
            ],
            [
             1,
             "#f0f921"
            ]
           ]
          },
          "colorway": [
           "#636efa",
           "#EF553B",
           "#00cc96",
           "#ab63fa",
           "#FFA15A",
           "#19d3f3",
           "#FF6692",
           "#B6E880",
           "#FF97FF",
           "#FECB52"
          ],
          "font": {
           "color": "#2a3f5f"
          },
          "geo": {
           "bgcolor": "white",
           "lakecolor": "white",
           "landcolor": "#E5ECF6",
           "showlakes": true,
           "showland": true,
           "subunitcolor": "white"
          },
          "hoverlabel": {
           "align": "left"
          },
          "hovermode": "closest",
          "mapbox": {
           "style": "light"
          },
          "paper_bgcolor": "white",
          "plot_bgcolor": "#E5ECF6",
          "polar": {
           "angularaxis": {
            "gridcolor": "white",
            "linecolor": "white",
            "ticks": ""
           },
           "bgcolor": "#E5ECF6",
           "radialaxis": {
            "gridcolor": "white",
            "linecolor": "white",
            "ticks": ""
           }
          },
          "scene": {
           "xaxis": {
            "backgroundcolor": "#E5ECF6",
            "gridcolor": "white",
            "gridwidth": 2,
            "linecolor": "white",
            "showbackground": true,
            "ticks": "",
            "zerolinecolor": "white"
           },
           "yaxis": {
            "backgroundcolor": "#E5ECF6",
            "gridcolor": "white",
            "gridwidth": 2,
            "linecolor": "white",
            "showbackground": true,
            "ticks": "",
            "zerolinecolor": "white"
           },
           "zaxis": {
            "backgroundcolor": "#E5ECF6",
            "gridcolor": "white",
            "gridwidth": 2,
            "linecolor": "white",
            "showbackground": true,
            "ticks": "",
            "zerolinecolor": "white"
           }
          },
          "shapedefaults": {
           "line": {
            "color": "#2a3f5f"
           }
          },
          "ternary": {
           "aaxis": {
            "gridcolor": "white",
            "linecolor": "white",
            "ticks": ""
           },
           "baxis": {
            "gridcolor": "white",
            "linecolor": "white",
            "ticks": ""
           },
           "bgcolor": "#E5ECF6",
           "caxis": {
            "gridcolor": "white",
            "linecolor": "white",
            "ticks": ""
           }
          },
          "title": {
           "x": 0.05
          },
          "xaxis": {
           "automargin": true,
           "gridcolor": "white",
           "linecolor": "white",
           "ticks": "",
           "title": {
            "standoff": 15
           },
           "zerolinecolor": "white",
           "zerolinewidth": 2
          },
          "yaxis": {
           "automargin": true,
           "gridcolor": "white",
           "linecolor": "white",
           "ticks": "",
           "title": {
            "standoff": 15
           },
           "zerolinecolor": "white",
           "zerolinewidth": 2
          }
         }
        },
        "uniformtext": {
         "minsize": 12,
         "mode": "hide"
        }
       }
      }
     },
     "metadata": {},
     "output_type": "display_data"
    }
   ],
   "source": [
    "# avg readings for Toluene across all cities (pie chart)\n",
    "trace11=go.Pie(labels=avg_readings['City'], values=avg_readings['Toluene'],\n",
    "             title='Average Toluene readings by City')\n",
    "fig=go.Figure(trace11)\n",
    "fig.update_traces(textposition='inside')\n",
    "fig=fig.update_layout(uniformtext_minsize=12, uniformtext_mode='hide')\n",
    "fig.show()"
   ]
  },
  {
   "cell_type": "code",
   "execution_count": null,
   "id": "dce1cba6",
   "metadata": {
    "execution": {
     "iopub.execute_input": "2023-05-10T11:43:47.885054Z",
     "iopub.status.busy": "2023-05-10T11:43:47.884076Z",
     "iopub.status.idle": "2023-05-10T11:43:47.898433Z",
     "shell.execute_reply": "2023-05-10T11:43:47.897176Z"
    },
    "papermill": {
     "duration": 0.046729,
     "end_time": "2023-05-10T11:43:47.902804",
     "exception": false,
     "start_time": "2023-05-10T11:43:47.856075",
     "status": "completed"
    },
    "tags": []
   },
   "outputs": [
    {
     "data": {
      "application/vnd.plotly.v1+json": {
       "config": {
        "plotlyServerURL": "https://plot.ly"
       },
       "data": [
        {
         "labels": [
          "Ahmedabad",
          "Aizawl",
          "Amaravati",
          "Amritsar",
          "Bengaluru",
          "Bhopal",
          "Brajrajnagar",
          "Chandigarh",
          "Chennai",
          "Coimbatore",
          "Delhi",
          "Ernakulam",
          "Gurugram",
          "Guwahati",
          "Hyderabad",
          "Jaipur",
          "Jorapokhar",
          "Kochi",
          "Kolkata",
          "Lucknow",
          "Mumbai",
          "Patna",
          "Shillong",
          "Talcher",
          "Thiruvananthapuram",
          "Visakhapatnam"
         ],
         "textposition": "inside",
         "title": {
          "text": "Average Xylene readings by City"
         },
         "type": "pie",
         "values": [
          3.96,
          3.07,
          1.57,
          6.61,
          3.07,
          3.07,
          3.07,
          2.62,
          3.07,
          3.07,
          2.07,
          0.22,
          3.26,
          3.07,
          1.77,
          3.07,
          3.07,
          3.07,
          2.83,
          3.07,
          1.52,
          5.17,
          3.07,
          3.07,
          3.07,
          2.8
         ]
        }
       ],
       "layout": {
        "template": {
         "data": {
          "bar": [
           {
            "error_x": {
             "color": "#2a3f5f"
            },
            "error_y": {
             "color": "#2a3f5f"
            },
            "marker": {
             "line": {
              "color": "#E5ECF6",
              "width": 0.5
             },
             "pattern": {
              "fillmode": "overlay",
              "size": 10,
              "solidity": 0.2
             }
            },
            "type": "bar"
           }
          ],
          "barpolar": [
           {
            "marker": {
             "line": {
              "color": "#E5ECF6",
              "width": 0.5
             },
             "pattern": {
              "fillmode": "overlay",
              "size": 10,
              "solidity": 0.2
             }
            },
            "type": "barpolar"
           }
          ],
          "carpet": [
           {
            "aaxis": {
             "endlinecolor": "#2a3f5f",
             "gridcolor": "white",
             "linecolor": "white",
             "minorgridcolor": "white",
             "startlinecolor": "#2a3f5f"
            },
            "baxis": {
             "endlinecolor": "#2a3f5f",
             "gridcolor": "white",
             "linecolor": "white",
             "minorgridcolor": "white",
             "startlinecolor": "#2a3f5f"
            },
            "type": "carpet"
           }
          ],
          "choropleth": [
           {
            "colorbar": {
             "outlinewidth": 0,
             "ticks": ""
            },
            "type": "choropleth"
           }
          ],
          "contour": [
           {
            "colorbar": {
             "outlinewidth": 0,
             "ticks": ""
            },
            "colorscale": [
             [
              0,
              "#0d0887"
             ],
             [
              0.1111111111111111,
              "#46039f"
             ],
             [
              0.2222222222222222,
              "#7201a8"
             ],
             [
              0.3333333333333333,
              "#9c179e"
             ],
             [
              0.4444444444444444,
              "#bd3786"
             ],
             [
              0.5555555555555556,
              "#d8576b"
             ],
             [
              0.6666666666666666,
              "#ed7953"
             ],
             [
              0.7777777777777778,
              "#fb9f3a"
             ],
             [
              0.8888888888888888,
              "#fdca26"
             ],
             [
              1,
              "#f0f921"
             ]
            ],
            "type": "contour"
           }
          ],
          "contourcarpet": [
           {
            "colorbar": {
             "outlinewidth": 0,
             "ticks": ""
            },
            "type": "contourcarpet"
           }
          ],
          "heatmap": [
           {
            "colorbar": {
             "outlinewidth": 0,
             "ticks": ""
            },
            "colorscale": [
             [
              0,
              "#0d0887"
             ],
             [
              0.1111111111111111,
              "#46039f"
             ],
             [
              0.2222222222222222,
              "#7201a8"
             ],
             [
              0.3333333333333333,
              "#9c179e"
             ],
             [
              0.4444444444444444,
              "#bd3786"
             ],
             [
              0.5555555555555556,
              "#d8576b"
             ],
             [
              0.6666666666666666,
              "#ed7953"
             ],
             [
              0.7777777777777778,
              "#fb9f3a"
             ],
             [
              0.8888888888888888,
              "#fdca26"
             ],
             [
              1,
              "#f0f921"
             ]
            ],
            "type": "heatmap"
           }
          ],
          "heatmapgl": [
           {
            "colorbar": {
             "outlinewidth": 0,
             "ticks": ""
            },
            "colorscale": [
             [
              0,
              "#0d0887"
             ],
             [
              0.1111111111111111,
              "#46039f"
             ],
             [
              0.2222222222222222,
              "#7201a8"
             ],
             [
              0.3333333333333333,
              "#9c179e"
             ],
             [
              0.4444444444444444,
              "#bd3786"
             ],
             [
              0.5555555555555556,
              "#d8576b"
             ],
             [
              0.6666666666666666,
              "#ed7953"
             ],
             [
              0.7777777777777778,
              "#fb9f3a"
             ],
             [
              0.8888888888888888,
              "#fdca26"
             ],
             [
              1,
              "#f0f921"
             ]
            ],
            "type": "heatmapgl"
           }
          ],
          "histogram": [
           {
            "marker": {
             "pattern": {
              "fillmode": "overlay",
              "size": 10,
              "solidity": 0.2
             }
            },
            "type": "histogram"
           }
          ],
          "histogram2d": [
           {
            "colorbar": {
             "outlinewidth": 0,
             "ticks": ""
            },
            "colorscale": [
             [
              0,
              "#0d0887"
             ],
             [
              0.1111111111111111,
              "#46039f"
             ],
             [
              0.2222222222222222,
              "#7201a8"
             ],
             [
              0.3333333333333333,
              "#9c179e"
             ],
             [
              0.4444444444444444,
              "#bd3786"
             ],
             [
              0.5555555555555556,
              "#d8576b"
             ],
             [
              0.6666666666666666,
              "#ed7953"
             ],
             [
              0.7777777777777778,
              "#fb9f3a"
             ],
             [
              0.8888888888888888,
              "#fdca26"
             ],
             [
              1,
              "#f0f921"
             ]
            ],
            "type": "histogram2d"
           }
          ],
          "histogram2dcontour": [
           {
            "colorbar": {
             "outlinewidth": 0,
             "ticks": ""
            },
            "colorscale": [
             [
              0,
              "#0d0887"
             ],
             [
              0.1111111111111111,
              "#46039f"
             ],
             [
              0.2222222222222222,
              "#7201a8"
             ],
             [
              0.3333333333333333,
              "#9c179e"
             ],
             [
              0.4444444444444444,
              "#bd3786"
             ],
             [
              0.5555555555555556,
              "#d8576b"
             ],
             [
              0.6666666666666666,
              "#ed7953"
             ],
             [
              0.7777777777777778,
              "#fb9f3a"
             ],
             [
              0.8888888888888888,
              "#fdca26"
             ],
             [
              1,
              "#f0f921"
             ]
            ],
            "type": "histogram2dcontour"
           }
          ],
          "mesh3d": [
           {
            "colorbar": {
             "outlinewidth": 0,
             "ticks": ""
            },
            "type": "mesh3d"
           }
          ],
          "parcoords": [
           {
            "line": {
             "colorbar": {
              "outlinewidth": 0,
              "ticks": ""
             }
            },
            "type": "parcoords"
           }
          ],
          "pie": [
           {
            "automargin": true,
            "type": "pie"
           }
          ],
          "scatter": [
           {
            "fillpattern": {
             "fillmode": "overlay",
             "size": 10,
             "solidity": 0.2
            },
            "type": "scatter"
           }
          ],
          "scatter3d": [
           {
            "line": {
             "colorbar": {
              "outlinewidth": 0,
              "ticks": ""
             }
            },
            "marker": {
             "colorbar": {
              "outlinewidth": 0,
              "ticks": ""
             }
            },
            "type": "scatter3d"
           }
          ],
          "scattercarpet": [
           {
            "marker": {
             "colorbar": {
              "outlinewidth": 0,
              "ticks": ""
             }
            },
            "type": "scattercarpet"
           }
          ],
          "scattergeo": [
           {
            "marker": {
             "colorbar": {
              "outlinewidth": 0,
              "ticks": ""
             }
            },
            "type": "scattergeo"
           }
          ],
          "scattergl": [
           {
            "marker": {
             "colorbar": {
              "outlinewidth": 0,
              "ticks": ""
             }
            },
            "type": "scattergl"
           }
          ],
          "scattermapbox": [
           {
            "marker": {
             "colorbar": {
              "outlinewidth": 0,
              "ticks": ""
             }
            },
            "type": "scattermapbox"
           }
          ],
          "scatterpolar": [
           {
            "marker": {
             "colorbar": {
              "outlinewidth": 0,
              "ticks": ""
             }
            },
            "type": "scatterpolar"
           }
          ],
          "scatterpolargl": [
           {
            "marker": {
             "colorbar": {
              "outlinewidth": 0,
              "ticks": ""
             }
            },
            "type": "scatterpolargl"
           }
          ],
          "scatterternary": [
           {
            "marker": {
             "colorbar": {
              "outlinewidth": 0,
              "ticks": ""
             }
            },
            "type": "scatterternary"
           }
          ],
          "surface": [
           {
            "colorbar": {
             "outlinewidth": 0,
             "ticks": ""
            },
            "colorscale": [
             [
              0,
              "#0d0887"
             ],
             [
              0.1111111111111111,
              "#46039f"
             ],
             [
              0.2222222222222222,
              "#7201a8"
             ],
             [
              0.3333333333333333,
              "#9c179e"
             ],
             [
              0.4444444444444444,
              "#bd3786"
             ],
             [
              0.5555555555555556,
              "#d8576b"
             ],
             [
              0.6666666666666666,
              "#ed7953"
             ],
             [
              0.7777777777777778,
              "#fb9f3a"
             ],
             [
              0.8888888888888888,
              "#fdca26"
             ],
             [
              1,
              "#f0f921"
             ]
            ],
            "type": "surface"
           }
          ],
          "table": [
           {
            "cells": {
             "fill": {
              "color": "#EBF0F8"
             },
             "line": {
              "color": "white"
             }
            },
            "header": {
             "fill": {
              "color": "#C8D4E3"
             },
             "line": {
              "color": "white"
             }
            },
            "type": "table"
           }
          ]
         },
         "layout": {
          "annotationdefaults": {
           "arrowcolor": "#2a3f5f",
           "arrowhead": 0,
           "arrowwidth": 1
          },
          "autotypenumbers": "strict",
          "coloraxis": {
           "colorbar": {
            "outlinewidth": 0,
            "ticks": ""
           }
          },
          "colorscale": {
           "diverging": [
            [
             0,
             "#8e0152"
            ],
            [
             0.1,
             "#c51b7d"
            ],
            [
             0.2,
             "#de77ae"
            ],
            [
             0.3,
             "#f1b6da"
            ],
            [
             0.4,
             "#fde0ef"
            ],
            [
             0.5,
             "#f7f7f7"
            ],
            [
             0.6,
             "#e6f5d0"
            ],
            [
             0.7,
             "#b8e186"
            ],
            [
             0.8,
             "#7fbc41"
            ],
            [
             0.9,
             "#4d9221"
            ],
            [
             1,
             "#276419"
            ]
           ],
           "sequential": [
            [
             0,
             "#0d0887"
            ],
            [
             0.1111111111111111,
             "#46039f"
            ],
            [
             0.2222222222222222,
             "#7201a8"
            ],
            [
             0.3333333333333333,
             "#9c179e"
            ],
            [
             0.4444444444444444,
             "#bd3786"
            ],
            [
             0.5555555555555556,
             "#d8576b"
            ],
            [
             0.6666666666666666,
             "#ed7953"
            ],
            [
             0.7777777777777778,
             "#fb9f3a"
            ],
            [
             0.8888888888888888,
             "#fdca26"
            ],
            [
             1,
             "#f0f921"
            ]
           ],
           "sequentialminus": [
            [
             0,
             "#0d0887"
            ],
            [
             0.1111111111111111,
             "#46039f"
            ],
            [
             0.2222222222222222,
             "#7201a8"
            ],
            [
             0.3333333333333333,
             "#9c179e"
            ],
            [
             0.4444444444444444,
             "#bd3786"
            ],
            [
             0.5555555555555556,
             "#d8576b"
            ],
            [
             0.6666666666666666,
             "#ed7953"
            ],
            [
             0.7777777777777778,
             "#fb9f3a"
            ],
            [
             0.8888888888888888,
             "#fdca26"
            ],
            [
             1,
             "#f0f921"
            ]
           ]
          },
          "colorway": [
           "#636efa",
           "#EF553B",
           "#00cc96",
           "#ab63fa",
           "#FFA15A",
           "#19d3f3",
           "#FF6692",
           "#B6E880",
           "#FF97FF",
           "#FECB52"
          ],
          "font": {
           "color": "#2a3f5f"
          },
          "geo": {
           "bgcolor": "white",
           "lakecolor": "white",
           "landcolor": "#E5ECF6",
           "showlakes": true,
           "showland": true,
           "subunitcolor": "white"
          },
          "hoverlabel": {
           "align": "left"
          },
          "hovermode": "closest",
          "mapbox": {
           "style": "light"
          },
          "paper_bgcolor": "white",
          "plot_bgcolor": "#E5ECF6",
          "polar": {
           "angularaxis": {
            "gridcolor": "white",
            "linecolor": "white",
            "ticks": ""
           },
           "bgcolor": "#E5ECF6",
           "radialaxis": {
            "gridcolor": "white",
            "linecolor": "white",
            "ticks": ""
           }
          },
          "scene": {
           "xaxis": {
            "backgroundcolor": "#E5ECF6",
            "gridcolor": "white",
            "gridwidth": 2,
            "linecolor": "white",
            "showbackground": true,
            "ticks": "",
            "zerolinecolor": "white"
           },
           "yaxis": {
            "backgroundcolor": "#E5ECF6",
            "gridcolor": "white",
            "gridwidth": 2,
            "linecolor": "white",
            "showbackground": true,
            "ticks": "",
            "zerolinecolor": "white"
           },
           "zaxis": {
            "backgroundcolor": "#E5ECF6",
            "gridcolor": "white",
            "gridwidth": 2,
            "linecolor": "white",
            "showbackground": true,
            "ticks": "",
            "zerolinecolor": "white"
           }
          },
          "shapedefaults": {
           "line": {
            "color": "#2a3f5f"
           }
          },
          "ternary": {
           "aaxis": {
            "gridcolor": "white",
            "linecolor": "white",
            "ticks": ""
           },
           "baxis": {
            "gridcolor": "white",
            "linecolor": "white",
            "ticks": ""
           },
           "bgcolor": "#E5ECF6",
           "caxis": {
            "gridcolor": "white",
            "linecolor": "white",
            "ticks": ""
           }
          },
          "title": {
           "x": 0.05
          },
          "xaxis": {
           "automargin": true,
           "gridcolor": "white",
           "linecolor": "white",
           "ticks": "",
           "title": {
            "standoff": 15
           },
           "zerolinecolor": "white",
           "zerolinewidth": 2
          },
          "yaxis": {
           "automargin": true,
           "gridcolor": "white",
           "linecolor": "white",
           "ticks": "",
           "title": {
            "standoff": 15
           },
           "zerolinecolor": "white",
           "zerolinewidth": 2
          }
         }
        },
        "uniformtext": {
         "minsize": 12,
         "mode": "hide"
        }
       }
      }
     },
     "metadata": {},
     "output_type": "display_data"
    }
   ],
   "source": [
    "# avg readings for Xylene across all cities (pie chart)\n",
    "trace12=go.Pie(labels=avg_readings['City'], values=avg_readings['Xylene'],\n",
    "             title='Average Xylene readings by City')\n",
    "fig=go.Figure(trace12)\n",
    "fig.update_traces(textposition='inside')\n",
    "fig=fig.update_layout(uniformtext_minsize=12, uniformtext_mode='hide')\n",
    "fig.show()"
   ]
  },
  {
   "cell_type": "code",
   "execution_count": null,
   "id": "3e918ffe",
   "metadata": {
    "execution": {
     "iopub.execute_input": "2023-05-10T11:43:47.958360Z",
     "iopub.status.busy": "2023-05-10T11:43:47.957048Z",
     "iopub.status.idle": "2023-05-10T11:43:47.972703Z",
     "shell.execute_reply": "2023-05-10T11:43:47.971558Z"
    },
    "papermill": {
     "duration": 0.045516,
     "end_time": "2023-05-10T11:43:47.975124",
     "exception": false,
     "start_time": "2023-05-10T11:43:47.929608",
     "status": "completed"
    },
    "tags": []
   },
   "outputs": [
    {
     "data": {
      "application/vnd.plotly.v1+json": {
       "config": {
        "plotlyServerURL": "https://plot.ly"
       },
       "data": [
        {
         "labels": [
          "Ahmedabad",
          "Aizawl",
          "Amaravati",
          "Amritsar",
          "Bengaluru",
          "Bhopal",
          "Brajrajnagar",
          "Chandigarh",
          "Chennai",
          "Coimbatore",
          "Delhi",
          "Ernakulam",
          "Gurugram",
          "Guwahati",
          "Hyderabad",
          "Jaipur",
          "Jorapokhar",
          "Kochi",
          "Kolkata",
          "Lucknow",
          "Mumbai",
          "Patna",
          "Shillong",
          "Talcher",
          "Thiruvananthapuram",
          "Visakhapatnam"
         ],
         "textposition": "inside",
         "title": {
          "text": "Average AQI readings by City"
         },
         "type": "pie",
         "values": [
          356.14,
          37.1,
          103.53,
          123.54,
          97.87,
          134.11,
          154.16,
          97.65,
          117.74,
          83.19,
          259.02,
          96.48,
          217.23,
          140.48,
          112.8,
          134.27,
          161.71,
          105.82,
          142.47,
          215,
          142.89,
          224.82,
          91.96,
          171.31,
          80.77,
          127.06
         ]
        }
       ],
       "layout": {
        "template": {
         "data": {
          "bar": [
           {
            "error_x": {
             "color": "#2a3f5f"
            },
            "error_y": {
             "color": "#2a3f5f"
            },
            "marker": {
             "line": {
              "color": "#E5ECF6",
              "width": 0.5
             },
             "pattern": {
              "fillmode": "overlay",
              "size": 10,
              "solidity": 0.2
             }
            },
            "type": "bar"
           }
          ],
          "barpolar": [
           {
            "marker": {
             "line": {
              "color": "#E5ECF6",
              "width": 0.5
             },
             "pattern": {
              "fillmode": "overlay",
              "size": 10,
              "solidity": 0.2
             }
            },
            "type": "barpolar"
           }
          ],
          "carpet": [
           {
            "aaxis": {
             "endlinecolor": "#2a3f5f",
             "gridcolor": "white",
             "linecolor": "white",
             "minorgridcolor": "white",
             "startlinecolor": "#2a3f5f"
            },
            "baxis": {
             "endlinecolor": "#2a3f5f",
             "gridcolor": "white",
             "linecolor": "white",
             "minorgridcolor": "white",
             "startlinecolor": "#2a3f5f"
            },
            "type": "carpet"
           }
          ],
          "choropleth": [
           {
            "colorbar": {
             "outlinewidth": 0,
             "ticks": ""
            },
            "type": "choropleth"
           }
          ],
          "contour": [
           {
            "colorbar": {
             "outlinewidth": 0,
             "ticks": ""
            },
            "colorscale": [
             [
              0,
              "#0d0887"
             ],
             [
              0.1111111111111111,
              "#46039f"
             ],
             [
              0.2222222222222222,
              "#7201a8"
             ],
             [
              0.3333333333333333,
              "#9c179e"
             ],
             [
              0.4444444444444444,
              "#bd3786"
             ],
             [
              0.5555555555555556,
              "#d8576b"
             ],
             [
              0.6666666666666666,
              "#ed7953"
             ],
             [
              0.7777777777777778,
              "#fb9f3a"
             ],
             [
              0.8888888888888888,
              "#fdca26"
             ],
             [
              1,
              "#f0f921"
             ]
            ],
            "type": "contour"
           }
          ],
          "contourcarpet": [
           {
            "colorbar": {
             "outlinewidth": 0,
             "ticks": ""
            },
            "type": "contourcarpet"
           }
          ],
          "heatmap": [
           {
            "colorbar": {
             "outlinewidth": 0,
             "ticks": ""
            },
            "colorscale": [
             [
              0,
              "#0d0887"
             ],
             [
              0.1111111111111111,
              "#46039f"
             ],
             [
              0.2222222222222222,
              "#7201a8"
             ],
             [
              0.3333333333333333,
              "#9c179e"
             ],
             [
              0.4444444444444444,
              "#bd3786"
             ],
             [
              0.5555555555555556,
              "#d8576b"
             ],
             [
              0.6666666666666666,
              "#ed7953"
             ],
             [
              0.7777777777777778,
              "#fb9f3a"
             ],
             [
              0.8888888888888888,
              "#fdca26"
             ],
             [
              1,
              "#f0f921"
             ]
            ],
            "type": "heatmap"
           }
          ],
          "heatmapgl": [
           {
            "colorbar": {
             "outlinewidth": 0,
             "ticks": ""
            },
            "colorscale": [
             [
              0,
              "#0d0887"
             ],
             [
              0.1111111111111111,
              "#46039f"
             ],
             [
              0.2222222222222222,
              "#7201a8"
             ],
             [
              0.3333333333333333,
              "#9c179e"
             ],
             [
              0.4444444444444444,
              "#bd3786"
             ],
             [
              0.5555555555555556,
              "#d8576b"
             ],
             [
              0.6666666666666666,
              "#ed7953"
             ],
             [
              0.7777777777777778,
              "#fb9f3a"
             ],
             [
              0.8888888888888888,
              "#fdca26"
             ],
             [
              1,
              "#f0f921"
             ]
            ],
            "type": "heatmapgl"
           }
          ],
          "histogram": [
           {
            "marker": {
             "pattern": {
              "fillmode": "overlay",
              "size": 10,
              "solidity": 0.2
             }
            },
            "type": "histogram"
           }
          ],
          "histogram2d": [
           {
            "colorbar": {
             "outlinewidth": 0,
             "ticks": ""
            },
            "colorscale": [
             [
              0,
              "#0d0887"
             ],
             [
              0.1111111111111111,
              "#46039f"
             ],
             [
              0.2222222222222222,
              "#7201a8"
             ],
             [
              0.3333333333333333,
              "#9c179e"
             ],
             [
              0.4444444444444444,
              "#bd3786"
             ],
             [
              0.5555555555555556,
              "#d8576b"
             ],
             [
              0.6666666666666666,
              "#ed7953"
             ],
             [
              0.7777777777777778,
              "#fb9f3a"
             ],
             [
              0.8888888888888888,
              "#fdca26"
             ],
             [
              1,
              "#f0f921"
             ]
            ],
            "type": "histogram2d"
           }
          ],
          "histogram2dcontour": [
           {
            "colorbar": {
             "outlinewidth": 0,
             "ticks": ""
            },
            "colorscale": [
             [
              0,
              "#0d0887"
             ],
             [
              0.1111111111111111,
              "#46039f"
             ],
             [
              0.2222222222222222,
              "#7201a8"
             ],
             [
              0.3333333333333333,
              "#9c179e"
             ],
             [
              0.4444444444444444,
              "#bd3786"
             ],
             [
              0.5555555555555556,
              "#d8576b"
             ],
             [
              0.6666666666666666,
              "#ed7953"
             ],
             [
              0.7777777777777778,
              "#fb9f3a"
             ],
             [
              0.8888888888888888,
              "#fdca26"
             ],
             [
              1,
              "#f0f921"
             ]
            ],
            "type": "histogram2dcontour"
           }
          ],
          "mesh3d": [
           {
            "colorbar": {
             "outlinewidth": 0,
             "ticks": ""
            },
            "type": "mesh3d"
           }
          ],
          "parcoords": [
           {
            "line": {
             "colorbar": {
              "outlinewidth": 0,
              "ticks": ""
             }
            },
            "type": "parcoords"
           }
          ],
          "pie": [
           {
            "automargin": true,
            "type": "pie"
           }
          ],
          "scatter": [
           {
            "fillpattern": {
             "fillmode": "overlay",
             "size": 10,
             "solidity": 0.2
            },
            "type": "scatter"
           }
          ],
          "scatter3d": [
           {
            "line": {
             "colorbar": {
              "outlinewidth": 0,
              "ticks": ""
             }
            },
            "marker": {
             "colorbar": {
              "outlinewidth": 0,
              "ticks": ""
             }
            },
            "type": "scatter3d"
           }
          ],
          "scattercarpet": [
           {
            "marker": {
             "colorbar": {
              "outlinewidth": 0,
              "ticks": ""
             }
            },
            "type": "scattercarpet"
           }
          ],
          "scattergeo": [
           {
            "marker": {
             "colorbar": {
              "outlinewidth": 0,
              "ticks": ""
             }
            },
            "type": "scattergeo"
           }
          ],
          "scattergl": [
           {
            "marker": {
             "colorbar": {
              "outlinewidth": 0,
              "ticks": ""
             }
            },
            "type": "scattergl"
           }
          ],
          "scattermapbox": [
           {
            "marker": {
             "colorbar": {
              "outlinewidth": 0,
              "ticks": ""
             }
            },
            "type": "scattermapbox"
           }
          ],
          "scatterpolar": [
           {
            "marker": {
             "colorbar": {
              "outlinewidth": 0,
              "ticks": ""
             }
            },
            "type": "scatterpolar"
           }
          ],
          "scatterpolargl": [
           {
            "marker": {
             "colorbar": {
              "outlinewidth": 0,
              "ticks": ""
             }
            },
            "type": "scatterpolargl"
           }
          ],
          "scatterternary": [
           {
            "marker": {
             "colorbar": {
              "outlinewidth": 0,
              "ticks": ""
             }
            },
            "type": "scatterternary"
           }
          ],
          "surface": [
           {
            "colorbar": {
             "outlinewidth": 0,
             "ticks": ""
            },
            "colorscale": [
             [
              0,
              "#0d0887"
             ],
             [
              0.1111111111111111,
              "#46039f"
             ],
             [
              0.2222222222222222,
              "#7201a8"
             ],
             [
              0.3333333333333333,
              "#9c179e"
             ],
             [
              0.4444444444444444,
              "#bd3786"
             ],
             [
              0.5555555555555556,
              "#d8576b"
             ],
             [
              0.6666666666666666,
              "#ed7953"
             ],
             [
              0.7777777777777778,
              "#fb9f3a"
             ],
             [
              0.8888888888888888,
              "#fdca26"
             ],
             [
              1,
              "#f0f921"
             ]
            ],
            "type": "surface"
           }
          ],
          "table": [
           {
            "cells": {
             "fill": {
              "color": "#EBF0F8"
             },
             "line": {
              "color": "white"
             }
            },
            "header": {
             "fill": {
              "color": "#C8D4E3"
             },
             "line": {
              "color": "white"
             }
            },
            "type": "table"
           }
          ]
         },
         "layout": {
          "annotationdefaults": {
           "arrowcolor": "#2a3f5f",
           "arrowhead": 0,
           "arrowwidth": 1
          },
          "autotypenumbers": "strict",
          "coloraxis": {
           "colorbar": {
            "outlinewidth": 0,
            "ticks": ""
           }
          },
          "colorscale": {
           "diverging": [
            [
             0,
             "#8e0152"
            ],
            [
             0.1,
             "#c51b7d"
            ],
            [
             0.2,
             "#de77ae"
            ],
            [
             0.3,
             "#f1b6da"
            ],
            [
             0.4,
             "#fde0ef"
            ],
            [
             0.5,
             "#f7f7f7"
            ],
            [
             0.6,
             "#e6f5d0"
            ],
            [
             0.7,
             "#b8e186"
            ],
            [
             0.8,
             "#7fbc41"
            ],
            [
             0.9,
             "#4d9221"
            ],
            [
             1,
             "#276419"
            ]
           ],
           "sequential": [
            [
             0,
             "#0d0887"
            ],
            [
             0.1111111111111111,
             "#46039f"
            ],
            [
             0.2222222222222222,
             "#7201a8"
            ],
            [
             0.3333333333333333,
             "#9c179e"
            ],
            [
             0.4444444444444444,
             "#bd3786"
            ],
            [
             0.5555555555555556,
             "#d8576b"
            ],
            [
             0.6666666666666666,
             "#ed7953"
            ],
            [
             0.7777777777777778,
             "#fb9f3a"
            ],
            [
             0.8888888888888888,
             "#fdca26"
            ],
            [
             1,
             "#f0f921"
            ]
           ],
           "sequentialminus": [
            [
             0,
             "#0d0887"
            ],
            [
             0.1111111111111111,
             "#46039f"
            ],
            [
             0.2222222222222222,
             "#7201a8"
            ],
            [
             0.3333333333333333,
             "#9c179e"
            ],
            [
             0.4444444444444444,
             "#bd3786"
            ],
            [
             0.5555555555555556,
             "#d8576b"
            ],
            [
             0.6666666666666666,
             "#ed7953"
            ],
            [
             0.7777777777777778,
             "#fb9f3a"
            ],
            [
             0.8888888888888888,
             "#fdca26"
            ],
            [
             1,
             "#f0f921"
            ]
           ]
          },
          "colorway": [
           "#636efa",
           "#EF553B",
           "#00cc96",
           "#ab63fa",
           "#FFA15A",
           "#19d3f3",
           "#FF6692",
           "#B6E880",
           "#FF97FF",
           "#FECB52"
          ],
          "font": {
           "color": "#2a3f5f"
          },
          "geo": {
           "bgcolor": "white",
           "lakecolor": "white",
           "landcolor": "#E5ECF6",
           "showlakes": true,
           "showland": true,
           "subunitcolor": "white"
          },
          "hoverlabel": {
           "align": "left"
          },
          "hovermode": "closest",
          "mapbox": {
           "style": "light"
          },
          "paper_bgcolor": "white",
          "plot_bgcolor": "#E5ECF6",
          "polar": {
           "angularaxis": {
            "gridcolor": "white",
            "linecolor": "white",
            "ticks": ""
           },
           "bgcolor": "#E5ECF6",
           "radialaxis": {
            "gridcolor": "white",
            "linecolor": "white",
            "ticks": ""
           }
          },
          "scene": {
           "xaxis": {
            "backgroundcolor": "#E5ECF6",
            "gridcolor": "white",
            "gridwidth": 2,
            "linecolor": "white",
            "showbackground": true,
            "ticks": "",
            "zerolinecolor": "white"
           },
           "yaxis": {
            "backgroundcolor": "#E5ECF6",
            "gridcolor": "white",
            "gridwidth": 2,
            "linecolor": "white",
            "showbackground": true,
            "ticks": "",
            "zerolinecolor": "white"
           },
           "zaxis": {
            "backgroundcolor": "#E5ECF6",
            "gridcolor": "white",
            "gridwidth": 2,
            "linecolor": "white",
            "showbackground": true,
            "ticks": "",
            "zerolinecolor": "white"
           }
          },
          "shapedefaults": {
           "line": {
            "color": "#2a3f5f"
           }
          },
          "ternary": {
           "aaxis": {
            "gridcolor": "white",
            "linecolor": "white",
            "ticks": ""
           },
           "baxis": {
            "gridcolor": "white",
            "linecolor": "white",
            "ticks": ""
           },
           "bgcolor": "#E5ECF6",
           "caxis": {
            "gridcolor": "white",
            "linecolor": "white",
            "ticks": ""
           }
          },
          "title": {
           "x": 0.05
          },
          "xaxis": {
           "automargin": true,
           "gridcolor": "white",
           "linecolor": "white",
           "ticks": "",
           "title": {
            "standoff": 15
           },
           "zerolinecolor": "white",
           "zerolinewidth": 2
          },
          "yaxis": {
           "automargin": true,
           "gridcolor": "white",
           "linecolor": "white",
           "ticks": "",
           "title": {
            "standoff": 15
           },
           "zerolinecolor": "white",
           "zerolinewidth": 2
          }
         }
        },
        "uniformtext": {
         "minsize": 12,
         "mode": "hide"
        }
       }
      }
     },
     "metadata": {},
     "output_type": "display_data"
    }
   ],
   "source": [
    "# avg readings for AQI across all cities (pie chart)\n",
    "trace13=go.Pie(labels=avg_readings['City'], values=avg_readings['AQI'],\n",
    "             title='Average AQI readings by City')\n",
    "fig=go.Figure(trace13)\n",
    "fig.update_traces(textposition='inside')\n",
    "fig=fig.update_layout(uniformtext_minsize=12, uniformtext_mode='hide')\n",
    "fig.show()"
   ]
  },
  {
   "cell_type": "code",
   "execution_count": null,
   "id": "1399483a",
   "metadata": {
    "execution": {
     "iopub.execute_input": "2023-05-10T11:43:48.082417Z",
     "iopub.status.busy": "2023-05-10T11:43:48.080981Z",
     "iopub.status.idle": "2023-05-10T11:43:48.106316Z",
     "shell.execute_reply": "2023-05-10T11:43:48.105215Z"
    },
    "papermill": {
     "duration": 0.05551,
     "end_time": "2023-05-10T11:43:48.108871",
     "exception": false,
     "start_time": "2023-05-10T11:43:48.053361",
     "status": "completed"
    },
    "tags": []
   },
   "outputs": [
    {
     "data": {
      "text/html": [
       "<div>\n",
       "<style scoped>\n",
       "    .dataframe tbody tr th:only-of-type {\n",
       "        vertical-align: middle;\n",
       "    }\n",
       "\n",
       "    .dataframe tbody tr th {\n",
       "        vertical-align: top;\n",
       "    }\n",
       "\n",
       "    .dataframe thead th {\n",
       "        text-align: right;\n",
       "    }\n",
       "</style>\n",
       "<table border=\"1\" class=\"dataframe\">\n",
       "  <thead>\n",
       "    <tr style=\"text-align: right;\">\n",
       "      <th></th>\n",
       "      <th>City</th>\n",
       "      <th>PM2.5</th>\n",
       "      <th>PM10</th>\n",
       "      <th>NO</th>\n",
       "      <th>NO2</th>\n",
       "      <th>NOx</th>\n",
       "      <th>NH3</th>\n",
       "      <th>CO</th>\n",
       "      <th>SO2</th>\n",
       "      <th>O3</th>\n",
       "      <th>Benzene</th>\n",
       "      <th>Toluene</th>\n",
       "      <th>Xylene</th>\n",
       "      <th>AQI</th>\n",
       "    </tr>\n",
       "  </thead>\n",
       "  <tbody>\n",
       "    <tr>\n",
       "      <th>0</th>\n",
       "      <td>Ahmedabad</td>\n",
       "      <td>67.73</td>\n",
       "      <td>117.41</td>\n",
       "      <td>20.96</td>\n",
       "      <td>49.81</td>\n",
       "      <td>42.92</td>\n",
       "      <td>23.48</td>\n",
       "      <td>16.15</td>\n",
       "      <td>42.28</td>\n",
       "      <td>37.56</td>\n",
       "      <td>4.90</td>\n",
       "      <td>23.16</td>\n",
       "      <td>3.96</td>\n",
       "      <td>356.14</td>\n",
       "    </tr>\n",
       "    <tr>\n",
       "      <th>1</th>\n",
       "      <td>Aizawl</td>\n",
       "      <td>18.02</td>\n",
       "      <td>24.19</td>\n",
       "      <td>9.41</td>\n",
       "      <td>0.39</td>\n",
       "      <td>12.61</td>\n",
       "      <td>22.31</td>\n",
       "      <td>0.28</td>\n",
       "      <td>7.38</td>\n",
       "      <td>6.16</td>\n",
       "      <td>8.94</td>\n",
       "      <td>10.04</td>\n",
       "      <td>3.07</td>\n",
       "      <td>37.10</td>\n",
       "    </tr>\n",
       "    <tr>\n",
       "      <th>2</th>\n",
       "      <td>Amaravati</td>\n",
       "      <td>39.61</td>\n",
       "      <td>78.78</td>\n",
       "      <td>5.20</td>\n",
       "      <td>22.54</td>\n",
       "      <td>16.36</td>\n",
       "      <td>12.65</td>\n",
       "      <td>0.79</td>\n",
       "      <td>14.28</td>\n",
       "      <td>37.91</td>\n",
       "      <td>0.76</td>\n",
       "      <td>2.42</td>\n",
       "      <td>1.57</td>\n",
       "      <td>103.53</td>\n",
       "    </tr>\n",
       "    <tr>\n",
       "      <th>3</th>\n",
       "      <td>Amritsar</td>\n",
       "      <td>56.72</td>\n",
       "      <td>115.35</td>\n",
       "      <td>18.64</td>\n",
       "      <td>18.88</td>\n",
       "      <td>34.86</td>\n",
       "      <td>14.69</td>\n",
       "      <td>0.66</td>\n",
       "      <td>9.03</td>\n",
       "      <td>23.55</td>\n",
       "      <td>4.04</td>\n",
       "      <td>4.02</td>\n",
       "      <td>6.61</td>\n",
       "      <td>123.54</td>\n",
       "    </tr>\n",
       "    <tr>\n",
       "      <th>4</th>\n",
       "      <td>Bengaluru</td>\n",
       "      <td>38.12</td>\n",
       "      <td>89.49</td>\n",
       "      <td>9.43</td>\n",
       "      <td>28.00</td>\n",
       "      <td>19.74</td>\n",
       "      <td>22.13</td>\n",
       "      <td>1.84</td>\n",
       "      <td>5.55</td>\n",
       "      <td>32.98</td>\n",
       "      <td>3.23</td>\n",
       "      <td>4.94</td>\n",
       "      <td>3.07</td>\n",
       "      <td>97.87</td>\n",
       "    </tr>\n",
       "  </tbody>\n",
       "</table>\n",
       "</div>"
      ],
      "text/plain": [
       "        City  PM2.5    PM10     NO    NO2    NOx    NH3     CO    SO2     O3  \\\n",
       "0  Ahmedabad  67.73  117.41  20.96  49.81  42.92  23.48  16.15  42.28  37.56   \n",
       "1     Aizawl  18.02   24.19   9.41   0.39  12.61  22.31   0.28   7.38   6.16   \n",
       "2  Amaravati  39.61   78.78   5.20  22.54  16.36  12.65   0.79  14.28  37.91   \n",
       "3   Amritsar  56.72  115.35  18.64  18.88  34.86  14.69   0.66   9.03  23.55   \n",
       "4  Bengaluru  38.12   89.49   9.43  28.00  19.74  22.13   1.84   5.55  32.98   \n",
       "\n",
       "   Benzene  Toluene  Xylene     AQI  \n",
       "0     4.90    23.16    3.96  356.14  \n",
       "1     8.94    10.04    3.07   37.10  \n",
       "2     0.76     2.42    1.57  103.53  \n",
       "3     4.04     4.02    6.61  123.54  \n",
       "4     3.23     4.94    3.07   97.87  "
      ]
     },
     "execution_count": 96,
     "metadata": {},
     "output_type": "execute_result"
    }
   ],
   "source": [
    "avg_readings.round(2).head(5)"
   ]
  },
  {
   "cell_type": "code",
   "execution_count": null,
   "id": "36884d2c",
   "metadata": {
    "execution": {
     "iopub.execute_input": "2023-05-10T11:43:48.164579Z",
     "iopub.status.busy": "2023-05-10T11:43:48.163743Z",
     "iopub.status.idle": "2023-05-10T11:43:48.175881Z",
     "shell.execute_reply": "2023-05-10T11:43:48.174464Z"
    },
    "papermill": {
     "duration": 0.043029,
     "end_time": "2023-05-10T11:43:48.178641",
     "exception": false,
     "start_time": "2023-05-10T11:43:48.135612",
     "status": "completed"
    },
    "tags": []
   },
   "outputs": [
    {
     "data": {
      "text/plain": [
       "PM2.5      10\n",
       "PM10       10\n",
       "NO         17\n",
       "NO2        10\n",
       "NOx        17\n",
       "NH3         8\n",
       "CO          0\n",
       "SO2         0\n",
       "O3          5\n",
       "Benzene    22\n",
       "Toluene    22\n",
       "Xylene      3\n",
       "AQI         0\n",
       "dtype: int64"
      ]
     },
     "execution_count": 97,
     "metadata": {},
     "output_type": "execute_result"
    }
   ],
   "source": [
    "MaxVals=avg_readings[['PM2.5', 'PM10', 'NO', 'NO2', 'NOx', 'NH3', 'CO', 'SO2', 'O3',\n",
    "       'Benzene', 'Toluene', 'Xylene', 'AQI']].dropna().idxmax()\n",
    "MaxVals"
   ]
  },
  {
   "cell_type": "code",
   "execution_count": null,
   "id": "c86b5b93",
   "metadata": {
    "execution": {
     "iopub.execute_input": "2023-05-10T11:43:48.235046Z",
     "iopub.status.busy": "2023-05-10T11:43:48.233942Z",
     "iopub.status.idle": "2023-05-10T11:43:48.248342Z",
     "shell.execute_reply": "2023-05-10T11:43:48.246932Z"
    },
    "papermill": {
     "duration": 0.045276,
     "end_time": "2023-05-10T11:43:48.251226",
     "exception": false,
     "start_time": "2023-05-10T11:43:48.205950",
     "status": "completed"
    },
    "tags": []
   },
   "outputs": [
    {
     "data": {
      "text/html": [
       "<div>\n",
       "<style scoped>\n",
       "    .dataframe tbody tr th:only-of-type {\n",
       "        vertical-align: middle;\n",
       "    }\n",
       "\n",
       "    .dataframe tbody tr th {\n",
       "        vertical-align: top;\n",
       "    }\n",
       "\n",
       "    .dataframe thead th {\n",
       "        text-align: right;\n",
       "    }\n",
       "</style>\n",
       "<table border=\"1\" class=\"dataframe\">\n",
       "  <thead>\n",
       "    <tr style=\"text-align: right;\">\n",
       "      <th></th>\n",
       "      <th>index</th>\n",
       "      <th>City, Max. Readings</th>\n",
       "    </tr>\n",
       "  </thead>\n",
       "  <tbody>\n",
       "    <tr>\n",
       "      <th>0</th>\n",
       "      <td>10</td>\n",
       "      <td>Delhi</td>\n",
       "    </tr>\n",
       "    <tr>\n",
       "      <th>1</th>\n",
       "      <td>10</td>\n",
       "      <td>Delhi</td>\n",
       "    </tr>\n",
       "    <tr>\n",
       "      <th>2</th>\n",
       "      <td>17</td>\n",
       "      <td>Kochi</td>\n",
       "    </tr>\n",
       "    <tr>\n",
       "      <th>3</th>\n",
       "      <td>10</td>\n",
       "      <td>Delhi</td>\n",
       "    </tr>\n",
       "    <tr>\n",
       "      <th>4</th>\n",
       "      <td>17</td>\n",
       "      <td>Kochi</td>\n",
       "    </tr>\n",
       "    <tr>\n",
       "      <th>5</th>\n",
       "      <td>8</td>\n",
       "      <td>Chennai</td>\n",
       "    </tr>\n",
       "    <tr>\n",
       "      <th>6</th>\n",
       "      <td>0</td>\n",
       "      <td>Ahmedabad</td>\n",
       "    </tr>\n",
       "    <tr>\n",
       "      <th>7</th>\n",
       "      <td>0</td>\n",
       "      <td>Ahmedabad</td>\n",
       "    </tr>\n",
       "    <tr>\n",
       "      <th>8</th>\n",
       "      <td>5</td>\n",
       "      <td>Bhopal</td>\n",
       "    </tr>\n",
       "    <tr>\n",
       "      <th>9</th>\n",
       "      <td>22</td>\n",
       "      <td>Shillong</td>\n",
       "    </tr>\n",
       "    <tr>\n",
       "      <th>10</th>\n",
       "      <td>22</td>\n",
       "      <td>Shillong</td>\n",
       "    </tr>\n",
       "    <tr>\n",
       "      <th>11</th>\n",
       "      <td>3</td>\n",
       "      <td>Amritsar</td>\n",
       "    </tr>\n",
       "    <tr>\n",
       "      <th>12</th>\n",
       "      <td>0</td>\n",
       "      <td>Ahmedabad</td>\n",
       "    </tr>\n",
       "  </tbody>\n",
       "</table>\n",
       "</div>"
      ],
      "text/plain": [
       "    index City, Max. Readings\n",
       "0      10               Delhi\n",
       "1      10               Delhi\n",
       "2      17               Kochi\n",
       "3      10               Delhi\n",
       "4      17               Kochi\n",
       "5       8             Chennai\n",
       "6       0           Ahmedabad\n",
       "7       0           Ahmedabad\n",
       "8       5              Bhopal\n",
       "9      22            Shillong\n",
       "10     22            Shillong\n",
       "11      3            Amritsar\n",
       "12      0           Ahmedabad"
      ]
     },
     "execution_count": 98,
     "metadata": {},
     "output_type": "execute_result"
    }
   ],
   "source": [
    "MaxCities=avg_readings.iloc[[10,10,17,10,17,8,0,0,5,22,22,3,0], [0]].reset_index().rename(columns={'City':'City, Max. Readings'})\n",
    "MaxCities"
   ]
  },
  {
   "cell_type": "code",
   "execution_count": null,
   "id": "01fa90de",
   "metadata": {
    "execution": {
     "iopub.execute_input": "2023-05-10T11:43:48.308156Z",
     "iopub.status.busy": "2023-05-10T11:43:48.307687Z",
     "iopub.status.idle": "2023-05-10T11:43:48.320399Z",
     "shell.execute_reply": "2023-05-10T11:43:48.319133Z"
    },
    "papermill": {
     "duration": 0.044165,
     "end_time": "2023-05-10T11:43:48.323198",
     "exception": false,
     "start_time": "2023-05-10T11:43:48.279033",
     "status": "completed"
    },
    "tags": []
   },
   "outputs": [
    {
     "data": {
      "text/plain": [
       "PM2.5       1\n",
       "PM10        1\n",
       "NO         24\n",
       "NO2         1\n",
       "NOx        22\n",
       "NH3        22\n",
       "CO          1\n",
       "SO2        11\n",
       "O3         17\n",
       "Benzene     9\n",
       "Toluene    17\n",
       "Xylene     11\n",
       "AQI         1\n",
       "dtype: int64"
      ]
     },
     "execution_count": 99,
     "metadata": {},
     "output_type": "execute_result"
    }
   ],
   "source": [
    "MinVals=avg_readings[['PM2.5', 'PM10', 'NO', 'NO2', 'NOx', 'NH3', 'CO', 'SO2', 'O3',\n",
    "       'Benzene', 'Toluene', 'Xylene', 'AQI']].dropna().idxmin()\n",
    "MinVals\n"
   ]
  },
  {
   "cell_type": "code",
   "execution_count": null,
   "id": "03733998",
   "metadata": {
    "execution": {
     "iopub.execute_input": "2023-05-10T11:43:48.380195Z",
     "iopub.status.busy": "2023-05-10T11:43:48.379692Z",
     "iopub.status.idle": "2023-05-10T11:43:48.393582Z",
     "shell.execute_reply": "2023-05-10T11:43:48.392623Z"
    },
    "papermill": {
     "duration": 0.045497,
     "end_time": "2023-05-10T11:43:48.395888",
     "exception": false,
     "start_time": "2023-05-10T11:43:48.350391",
     "status": "completed"
    },
    "tags": []
   },
   "outputs": [
    {
     "data": {
      "text/html": [
       "<div>\n",
       "<style scoped>\n",
       "    .dataframe tbody tr th:only-of-type {\n",
       "        vertical-align: middle;\n",
       "    }\n",
       "\n",
       "    .dataframe tbody tr th {\n",
       "        vertical-align: top;\n",
       "    }\n",
       "\n",
       "    .dataframe thead th {\n",
       "        text-align: right;\n",
       "    }\n",
       "</style>\n",
       "<table border=\"1\" class=\"dataframe\">\n",
       "  <thead>\n",
       "    <tr style=\"text-align: right;\">\n",
       "      <th></th>\n",
       "      <th>index</th>\n",
       "      <th>City, Min. Readings</th>\n",
       "    </tr>\n",
       "  </thead>\n",
       "  <tbody>\n",
       "    <tr>\n",
       "      <th>0</th>\n",
       "      <td>20</td>\n",
       "      <td>Mumbai</td>\n",
       "    </tr>\n",
       "    <tr>\n",
       "      <th>1</th>\n",
       "      <td>19</td>\n",
       "      <td>Lucknow</td>\n",
       "    </tr>\n",
       "    <tr>\n",
       "      <th>2</th>\n",
       "      <td>22</td>\n",
       "      <td>Shillong</td>\n",
       "    </tr>\n",
       "    <tr>\n",
       "      <th>3</th>\n",
       "      <td>1</td>\n",
       "      <td>Aizawl</td>\n",
       "    </tr>\n",
       "    <tr>\n",
       "      <th>4</th>\n",
       "      <td>16</td>\n",
       "      <td>Jorapokhar</td>\n",
       "    </tr>\n",
       "    <tr>\n",
       "      <th>5</th>\n",
       "      <td>0</td>\n",
       "      <td>Ahmedabad</td>\n",
       "    </tr>\n",
       "    <tr>\n",
       "      <th>6</th>\n",
       "      <td>22</td>\n",
       "      <td>Shillong</td>\n",
       "    </tr>\n",
       "    <tr>\n",
       "      <th>7</th>\n",
       "      <td>11</td>\n",
       "      <td>Ernakulam</td>\n",
       "    </tr>\n",
       "    <tr>\n",
       "      <th>8</th>\n",
       "      <td>11</td>\n",
       "      <td>Ernakulam</td>\n",
       "    </tr>\n",
       "    <tr>\n",
       "      <th>9</th>\n",
       "      <td>5</td>\n",
       "      <td>Bhopal</td>\n",
       "    </tr>\n",
       "    <tr>\n",
       "      <th>10</th>\n",
       "      <td>5</td>\n",
       "      <td>Bhopal</td>\n",
       "    </tr>\n",
       "    <tr>\n",
       "      <th>11</th>\n",
       "      <td>1</td>\n",
       "      <td>Aizawl</td>\n",
       "    </tr>\n",
       "    <tr>\n",
       "      <th>12</th>\n",
       "      <td>1</td>\n",
       "      <td>Aizawl</td>\n",
       "    </tr>\n",
       "  </tbody>\n",
       "</table>\n",
       "</div>"
      ],
      "text/plain": [
       "    index City, Min. Readings\n",
       "0      20              Mumbai\n",
       "1      19             Lucknow\n",
       "2      22            Shillong\n",
       "3       1              Aizawl\n",
       "4      16          Jorapokhar\n",
       "5       0           Ahmedabad\n",
       "6      22            Shillong\n",
       "7      11           Ernakulam\n",
       "8      11           Ernakulam\n",
       "9       5              Bhopal\n",
       "10      5              Bhopal\n",
       "11      1              Aizawl\n",
       "12      1              Aizawl"
      ]
     },
     "execution_count": 100,
     "metadata": {},
     "output_type": "execute_result"
    }
   ],
   "source": [
    "MinCities=avg_readings.iloc[[20,19,22,1,16,0,22,11,11,5,5,1,1], [0]].reset_index().rename(columns={'City':'City, Min. Readings'})\n",
    "MinCities"
   ]
  },
  {
   "cell_type": "code",
   "execution_count": null,
   "id": "6aee5876",
   "metadata": {
    "execution": {
     "iopub.execute_input": "2023-05-10T11:43:48.453503Z",
     "iopub.status.busy": "2023-05-10T11:43:48.452205Z",
     "iopub.status.idle": "2023-05-10T11:43:48.466480Z",
     "shell.execute_reply": "2023-05-10T11:43:48.465234Z"
    },
    "papermill": {
     "duration": 0.046131,
     "end_time": "2023-05-10T11:43:48.469523",
     "exception": false,
     "start_time": "2023-05-10T11:43:48.423392",
     "status": "completed"
    },
    "tags": []
   },
   "outputs": [
    {
     "data": {
      "text/html": [
       "<div>\n",
       "<style scoped>\n",
       "    .dataframe tbody tr th:only-of-type {\n",
       "        vertical-align: middle;\n",
       "    }\n",
       "\n",
       "    .dataframe tbody tr th {\n",
       "        vertical-align: top;\n",
       "    }\n",
       "\n",
       "    .dataframe thead th {\n",
       "        text-align: right;\n",
       "    }\n",
       "</style>\n",
       "<table border=\"1\" class=\"dataframe\">\n",
       "  <thead>\n",
       "    <tr style=\"text-align: right;\">\n",
       "      <th></th>\n",
       "      <th>index</th>\n",
       "      <th>0</th>\n",
       "    </tr>\n",
       "  </thead>\n",
       "  <tbody>\n",
       "    <tr>\n",
       "      <th>0</th>\n",
       "      <td>PM2.5</td>\n",
       "      <td>PM2.5</td>\n",
       "    </tr>\n",
       "    <tr>\n",
       "      <th>1</th>\n",
       "      <td>PM10</td>\n",
       "      <td>PM10</td>\n",
       "    </tr>\n",
       "    <tr>\n",
       "      <th>2</th>\n",
       "      <td>NO</td>\n",
       "      <td>NO</td>\n",
       "    </tr>\n",
       "    <tr>\n",
       "      <th>3</th>\n",
       "      <td>NO2</td>\n",
       "      <td>NO2</td>\n",
       "    </tr>\n",
       "    <tr>\n",
       "      <th>4</th>\n",
       "      <td>NOx</td>\n",
       "      <td>NOx</td>\n",
       "    </tr>\n",
       "    <tr>\n",
       "      <th>5</th>\n",
       "      <td>NH3</td>\n",
       "      <td>NH3</td>\n",
       "    </tr>\n",
       "    <tr>\n",
       "      <th>6</th>\n",
       "      <td>CO</td>\n",
       "      <td>CO</td>\n",
       "    </tr>\n",
       "    <tr>\n",
       "      <th>7</th>\n",
       "      <td>SO2</td>\n",
       "      <td>SO2</td>\n",
       "    </tr>\n",
       "    <tr>\n",
       "      <th>8</th>\n",
       "      <td>O3</td>\n",
       "      <td>O3</td>\n",
       "    </tr>\n",
       "    <tr>\n",
       "      <th>9</th>\n",
       "      <td>Benzene</td>\n",
       "      <td>Benzene</td>\n",
       "    </tr>\n",
       "    <tr>\n",
       "      <th>10</th>\n",
       "      <td>Toluene</td>\n",
       "      <td>Toluene</td>\n",
       "    </tr>\n",
       "    <tr>\n",
       "      <th>11</th>\n",
       "      <td>Xylene</td>\n",
       "      <td>Xylene</td>\n",
       "    </tr>\n",
       "    <tr>\n",
       "      <th>12</th>\n",
       "      <td>AQI</td>\n",
       "      <td>AQI</td>\n",
       "    </tr>\n",
       "  </tbody>\n",
       "</table>\n",
       "</div>"
      ],
      "text/plain": [
       "      index        0\n",
       "0     PM2.5    PM2.5\n",
       "1      PM10     PM10\n",
       "2        NO       NO\n",
       "3       NO2      NO2\n",
       "4       NOx      NOx\n",
       "5       NH3      NH3\n",
       "6        CO       CO\n",
       "7       SO2      SO2\n",
       "8        O3       O3\n",
       "9   Benzene  Benzene\n",
       "10  Toluene  Toluene\n",
       "11   Xylene   Xylene\n",
       "12      AQI      AQI"
      ]
     },
     "execution_count": 101,
     "metadata": {},
     "output_type": "execute_result"
    }
   ],
   "source": [
    "pollutants=avg_readings.columns.to_frame().drop(labels='City', axis=0).reset_index()\n",
    "pollutants"
   ]
  },
  {
   "cell_type": "code",
   "execution_count": null,
   "id": "3186f396",
   "metadata": {
    "execution": {
     "iopub.execute_input": "2023-05-10T11:43:48.526797Z",
     "iopub.status.busy": "2023-05-10T11:43:48.526327Z",
     "iopub.status.idle": "2023-05-10T11:43:48.544160Z",
     "shell.execute_reply": "2023-05-10T11:43:48.542798Z"
    },
    "papermill": {
     "duration": 0.049836,
     "end_time": "2023-05-10T11:43:48.547005",
     "exception": false,
     "start_time": "2023-05-10T11:43:48.497169",
     "status": "completed"
    },
    "tags": []
   },
   "outputs": [
    {
     "data": {
      "text/html": [
       "<div>\n",
       "<style scoped>\n",
       "    .dataframe tbody tr th:only-of-type {\n",
       "        vertical-align: middle;\n",
       "    }\n",
       "\n",
       "    .dataframe tbody tr th {\n",
       "        vertical-align: top;\n",
       "    }\n",
       "\n",
       "    .dataframe thead th {\n",
       "        text-align: right;\n",
       "    }\n",
       "</style>\n",
       "<table border=\"1\" class=\"dataframe\">\n",
       "  <thead>\n",
       "    <tr style=\"text-align: right;\">\n",
       "      <th></th>\n",
       "      <th>Pollutant</th>\n",
       "      <th>City, Max. Readings</th>\n",
       "      <th>City, Min. Readings</th>\n",
       "    </tr>\n",
       "  </thead>\n",
       "  <tbody>\n",
       "    <tr>\n",
       "      <th>0</th>\n",
       "      <td>PM2.5</td>\n",
       "      <td>Delhi</td>\n",
       "      <td>Mumbai</td>\n",
       "    </tr>\n",
       "    <tr>\n",
       "      <th>1</th>\n",
       "      <td>PM10</td>\n",
       "      <td>Delhi</td>\n",
       "      <td>Lucknow</td>\n",
       "    </tr>\n",
       "    <tr>\n",
       "      <th>2</th>\n",
       "      <td>NO</td>\n",
       "      <td>Kochi</td>\n",
       "      <td>Shillong</td>\n",
       "    </tr>\n",
       "    <tr>\n",
       "      <th>3</th>\n",
       "      <td>NO2</td>\n",
       "      <td>Delhi</td>\n",
       "      <td>Aizawl</td>\n",
       "    </tr>\n",
       "    <tr>\n",
       "      <th>4</th>\n",
       "      <td>NOx</td>\n",
       "      <td>Kochi</td>\n",
       "      <td>Jorapokhar</td>\n",
       "    </tr>\n",
       "    <tr>\n",
       "      <th>5</th>\n",
       "      <td>NH3</td>\n",
       "      <td>Chennai</td>\n",
       "      <td>Ahmedabad</td>\n",
       "    </tr>\n",
       "    <tr>\n",
       "      <th>6</th>\n",
       "      <td>CO</td>\n",
       "      <td>Ahmedabad</td>\n",
       "      <td>Shillong</td>\n",
       "    </tr>\n",
       "    <tr>\n",
       "      <th>7</th>\n",
       "      <td>SO2</td>\n",
       "      <td>Ahmedabad</td>\n",
       "      <td>Ernakulam</td>\n",
       "    </tr>\n",
       "    <tr>\n",
       "      <th>8</th>\n",
       "      <td>O3</td>\n",
       "      <td>Bhopal</td>\n",
       "      <td>Ernakulam</td>\n",
       "    </tr>\n",
       "    <tr>\n",
       "      <th>9</th>\n",
       "      <td>Benzene</td>\n",
       "      <td>Shillong</td>\n",
       "      <td>Bhopal</td>\n",
       "    </tr>\n",
       "    <tr>\n",
       "      <th>10</th>\n",
       "      <td>Toluene</td>\n",
       "      <td>Shillong</td>\n",
       "      <td>Bhopal</td>\n",
       "    </tr>\n",
       "    <tr>\n",
       "      <th>11</th>\n",
       "      <td>Xylene</td>\n",
       "      <td>Amritsar</td>\n",
       "      <td>Aizawl</td>\n",
       "    </tr>\n",
       "    <tr>\n",
       "      <th>12</th>\n",
       "      <td>AQI</td>\n",
       "      <td>Ahmedabad</td>\n",
       "      <td>Aizawl</td>\n",
       "    </tr>\n",
       "  </tbody>\n",
       "</table>\n",
       "</div>"
      ],
      "text/plain": [
       "   Pollutant City, Max. Readings City, Min. Readings\n",
       "0      PM2.5               Delhi              Mumbai\n",
       "1       PM10               Delhi             Lucknow\n",
       "2         NO               Kochi            Shillong\n",
       "3        NO2               Delhi              Aizawl\n",
       "4        NOx               Kochi          Jorapokhar\n",
       "5        NH3             Chennai           Ahmedabad\n",
       "6         CO           Ahmedabad            Shillong\n",
       "7        SO2           Ahmedabad           Ernakulam\n",
       "8         O3              Bhopal           Ernakulam\n",
       "9    Benzene            Shillong              Bhopal\n",
       "10   Toluene            Shillong              Bhopal\n",
       "11    Xylene            Amritsar              Aizawl\n",
       "12       AQI           Ahmedabad              Aizawl"
      ]
     },
     "execution_count": 102,
     "metadata": {},
     "output_type": "execute_result"
    }
   ],
   "source": [
    "summ_max_min=pd.concat([pollutants, MaxCities, MinCities], axis=1).drop(columns=['index'])\n",
    "summ_max_min.rename(columns={0:'Pollutant'} )"
   ]
  },
  {
   "cell_type": "code",
   "execution_count": null,
   "id": "8f139244",
   "metadata": {
    "execution": {
     "iopub.execute_input": "2023-05-10T11:43:48.770971Z",
     "iopub.status.busy": "2023-05-10T11:43:48.770557Z",
     "iopub.status.idle": "2023-05-10T11:43:48.786627Z",
     "shell.execute_reply": "2023-05-10T11:43:48.785504Z"
    },
    "papermill": {
     "duration": 0.047729,
     "end_time": "2023-05-10T11:43:48.788965",
     "exception": false,
     "start_time": "2023-05-10T11:43:48.741236",
     "status": "completed"
    },
    "tags": []
   },
   "outputs": [
    {
     "data": {
      "text/html": [
       "<div>\n",
       "<style scoped>\n",
       "    .dataframe tbody tr th:only-of-type {\n",
       "        vertical-align: middle;\n",
       "    }\n",
       "\n",
       "    .dataframe tbody tr th {\n",
       "        vertical-align: top;\n",
       "    }\n",
       "\n",
       "    .dataframe thead th {\n",
       "        text-align: right;\n",
       "    }\n",
       "</style>\n",
       "<table border=\"1\" class=\"dataframe\">\n",
       "  <thead>\n",
       "    <tr style=\"text-align: right;\">\n",
       "      <th></th>\n",
       "      <th>City</th>\n",
       "      <th>CO</th>\n",
       "    </tr>\n",
       "  </thead>\n",
       "  <tbody>\n",
       "    <tr>\n",
       "      <th>0</th>\n",
       "      <td>Ahmedabad</td>\n",
       "      <td>16.15</td>\n",
       "    </tr>\n",
       "    <tr>\n",
       "      <th>19</th>\n",
       "      <td>Lucknow</td>\n",
       "      <td>2.13</td>\n",
       "    </tr>\n",
       "    <tr>\n",
       "      <th>10</th>\n",
       "      <td>Delhi</td>\n",
       "      <td>1.98</td>\n",
       "    </tr>\n",
       "    <tr>\n",
       "      <th>23</th>\n",
       "      <td>Talcher</td>\n",
       "      <td>1.91</td>\n",
       "    </tr>\n",
       "    <tr>\n",
       "      <th>6</th>\n",
       "      <td>Brajrajnagar</td>\n",
       "      <td>1.87</td>\n",
       "    </tr>\n",
       "    <tr>\n",
       "      <th>4</th>\n",
       "      <td>Bengaluru</td>\n",
       "      <td>1.84</td>\n",
       "    </tr>\n",
       "    <tr>\n",
       "      <th>11</th>\n",
       "      <td>Ernakulam</td>\n",
       "      <td>1.64</td>\n",
       "    </tr>\n",
       "    <tr>\n",
       "      <th>21</th>\n",
       "      <td>Patna</td>\n",
       "      <td>1.59</td>\n",
       "    </tr>\n",
       "    <tr>\n",
       "      <th>16</th>\n",
       "      <td>Jorapokhar</td>\n",
       "      <td>1.36</td>\n",
       "    </tr>\n",
       "    <tr>\n",
       "      <th>12</th>\n",
       "      <td>Gurugram</td>\n",
       "      <td>1.32</td>\n",
       "    </tr>\n",
       "    <tr>\n",
       "      <th>17</th>\n",
       "      <td>Kochi</td>\n",
       "      <td>1.30</td>\n",
       "    </tr>\n",
       "    <tr>\n",
       "      <th>8</th>\n",
       "      <td>Chennai</td>\n",
       "      <td>1.08</td>\n",
       "    </tr>\n",
       "    <tr>\n",
       "      <th>24</th>\n",
       "      <td>Thiruvananthapuram</td>\n",
       "      <td>0.97</td>\n",
       "    </tr>\n",
       "    <tr>\n",
       "      <th>9</th>\n",
       "      <td>Coimbatore</td>\n",
       "      <td>0.96</td>\n",
       "    </tr>\n",
       "    <tr>\n",
       "      <th>5</th>\n",
       "      <td>Bhopal</td>\n",
       "      <td>0.92</td>\n",
       "    </tr>\n",
       "    <tr>\n",
       "      <th>15</th>\n",
       "      <td>Jaipur</td>\n",
       "      <td>0.81</td>\n",
       "    </tr>\n",
       "    <tr>\n",
       "      <th>18</th>\n",
       "      <td>Kolkata</td>\n",
       "      <td>0.80</td>\n",
       "    </tr>\n",
       "    <tr>\n",
       "      <th>2</th>\n",
       "      <td>Amaravati</td>\n",
       "      <td>0.79</td>\n",
       "    </tr>\n",
       "    <tr>\n",
       "      <th>25</th>\n",
       "      <td>Visakhapatnam</td>\n",
       "      <td>0.78</td>\n",
       "    </tr>\n",
       "    <tr>\n",
       "      <th>13</th>\n",
       "      <td>Guwahati</td>\n",
       "      <td>0.74</td>\n",
       "    </tr>\n",
       "    <tr>\n",
       "      <th>3</th>\n",
       "      <td>Amritsar</td>\n",
       "      <td>0.66</td>\n",
       "    </tr>\n",
       "    <tr>\n",
       "      <th>7</th>\n",
       "      <td>Chandigarh</td>\n",
       "      <td>0.63</td>\n",
       "    </tr>\n",
       "    <tr>\n",
       "      <th>14</th>\n",
       "      <td>Hyderabad</td>\n",
       "      <td>0.59</td>\n",
       "    </tr>\n",
       "    <tr>\n",
       "      <th>20</th>\n",
       "      <td>Mumbai</td>\n",
       "      <td>0.59</td>\n",
       "    </tr>\n",
       "    <tr>\n",
       "      <th>22</th>\n",
       "      <td>Shillong</td>\n",
       "      <td>0.45</td>\n",
       "    </tr>\n",
       "    <tr>\n",
       "      <th>1</th>\n",
       "      <td>Aizawl</td>\n",
       "      <td>0.28</td>\n",
       "    </tr>\n",
       "  </tbody>\n",
       "</table>\n",
       "</div>"
      ],
      "text/plain": [
       "                  City     CO\n",
       "0            Ahmedabad  16.15\n",
       "19             Lucknow   2.13\n",
       "10               Delhi   1.98\n",
       "23             Talcher   1.91\n",
       "6         Brajrajnagar   1.87\n",
       "4            Bengaluru   1.84\n",
       "11           Ernakulam   1.64\n",
       "21               Patna   1.59\n",
       "16          Jorapokhar   1.36\n",
       "12            Gurugram   1.32\n",
       "17               Kochi   1.30\n",
       "8              Chennai   1.08\n",
       "24  Thiruvananthapuram   0.97\n",
       "9           Coimbatore   0.96\n",
       "5               Bhopal   0.92\n",
       "15              Jaipur   0.81\n",
       "18             Kolkata   0.80\n",
       "2            Amaravati   0.79\n",
       "25       Visakhapatnam   0.78\n",
       "13            Guwahati   0.74\n",
       "3             Amritsar   0.66\n",
       "7           Chandigarh   0.63\n",
       "14           Hyderabad   0.59\n",
       "20              Mumbai   0.59\n",
       "22            Shillong   0.45\n",
       "1               Aizawl   0.28"
      ]
     },
     "execution_count": 103,
     "metadata": {},
     "output_type": "execute_result"
    }
   ],
   "source": [
    "#avg co readings in order of high to low by city \n",
    "avg_co_df=avg_readings[['City', 'CO']].sort_values('CO', ascending=False)\n",
    "avg_co_df"
   ]
  },
  {
   "cell_type": "code",
   "execution_count": null,
   "id": "37255f8f",
   "metadata": {
    "execution": {
     "iopub.execute_input": "2023-05-10T11:43:48.848232Z",
     "iopub.status.busy": "2023-05-10T11:43:48.847760Z",
     "iopub.status.idle": "2023-05-10T11:43:48.863784Z",
     "shell.execute_reply": "2023-05-10T11:43:48.862609Z"
    },
    "papermill": {
     "duration": 0.049059,
     "end_time": "2023-05-10T11:43:48.866466",
     "exception": false,
     "start_time": "2023-05-10T11:43:48.817407",
     "status": "completed"
    },
    "tags": []
   },
   "outputs": [
    {
     "data": {
      "text/html": [
       "<div>\n",
       "<style scoped>\n",
       "    .dataframe tbody tr th:only-of-type {\n",
       "        vertical-align: middle;\n",
       "    }\n",
       "\n",
       "    .dataframe tbody tr th {\n",
       "        vertical-align: top;\n",
       "    }\n",
       "\n",
       "    .dataframe thead th {\n",
       "        text-align: right;\n",
       "    }\n",
       "</style>\n",
       "<table border=\"1\" class=\"dataframe\">\n",
       "  <thead>\n",
       "    <tr style=\"text-align: right;\">\n",
       "      <th></th>\n",
       "      <th>City</th>\n",
       "      <th>SO2</th>\n",
       "    </tr>\n",
       "  </thead>\n",
       "  <tbody>\n",
       "    <tr>\n",
       "      <th>0</th>\n",
       "      <td>Ahmedabad</td>\n",
       "      <td>42.28</td>\n",
       "    </tr>\n",
       "    <tr>\n",
       "      <th>16</th>\n",
       "      <td>Jorapokhar</td>\n",
       "      <td>27.91</td>\n",
       "    </tr>\n",
       "    <tr>\n",
       "      <th>23</th>\n",
       "      <td>Talcher</td>\n",
       "      <td>25.60</td>\n",
       "    </tr>\n",
       "    <tr>\n",
       "      <th>21</th>\n",
       "      <td>Patna</td>\n",
       "      <td>21.29</td>\n",
       "    </tr>\n",
       "    <tr>\n",
       "      <th>17</th>\n",
       "      <td>Kochi</td>\n",
       "      <td>17.60</td>\n",
       "    </tr>\n",
       "    <tr>\n",
       "      <th>10</th>\n",
       "      <td>Delhi</td>\n",
       "      <td>15.83</td>\n",
       "    </tr>\n",
       "    <tr>\n",
       "      <th>20</th>\n",
       "      <td>Mumbai</td>\n",
       "      <td>14.79</td>\n",
       "    </tr>\n",
       "    <tr>\n",
       "      <th>13</th>\n",
       "      <td>Guwahati</td>\n",
       "      <td>14.66</td>\n",
       "    </tr>\n",
       "    <tr>\n",
       "      <th>2</th>\n",
       "      <td>Amaravati</td>\n",
       "      <td>14.28</td>\n",
       "    </tr>\n",
       "    <tr>\n",
       "      <th>5</th>\n",
       "      <td>Bhopal</td>\n",
       "      <td>13.11</td>\n",
       "    </tr>\n",
       "    <tr>\n",
       "      <th>25</th>\n",
       "      <td>Visakhapatnam</td>\n",
       "      <td>12.95</td>\n",
       "    </tr>\n",
       "    <tr>\n",
       "      <th>15</th>\n",
       "      <td>Jaipur</td>\n",
       "      <td>11.11</td>\n",
       "    </tr>\n",
       "    <tr>\n",
       "      <th>6</th>\n",
       "      <td>Brajrajnagar</td>\n",
       "      <td>10.76</td>\n",
       "    </tr>\n",
       "    <tr>\n",
       "      <th>7</th>\n",
       "      <td>Chandigarh</td>\n",
       "      <td>10.16</td>\n",
       "    </tr>\n",
       "    <tr>\n",
       "      <th>19</th>\n",
       "      <td>Lucknow</td>\n",
       "      <td>10.10</td>\n",
       "    </tr>\n",
       "    <tr>\n",
       "      <th>12</th>\n",
       "      <td>Gurugram</td>\n",
       "      <td>9.95</td>\n",
       "    </tr>\n",
       "    <tr>\n",
       "      <th>14</th>\n",
       "      <td>Hyderabad</td>\n",
       "      <td>9.24</td>\n",
       "    </tr>\n",
       "    <tr>\n",
       "      <th>3</th>\n",
       "      <td>Amritsar</td>\n",
       "      <td>9.03</td>\n",
       "    </tr>\n",
       "    <tr>\n",
       "      <th>18</th>\n",
       "      <td>Kolkata</td>\n",
       "      <td>8.86</td>\n",
       "    </tr>\n",
       "    <tr>\n",
       "      <th>9</th>\n",
       "      <td>Coimbatore</td>\n",
       "      <td>8.65</td>\n",
       "    </tr>\n",
       "    <tr>\n",
       "      <th>22</th>\n",
       "      <td>Shillong</td>\n",
       "      <td>8.00</td>\n",
       "    </tr>\n",
       "    <tr>\n",
       "      <th>8</th>\n",
       "      <td>Chennai</td>\n",
       "      <td>8.00</td>\n",
       "    </tr>\n",
       "    <tr>\n",
       "      <th>1</th>\n",
       "      <td>Aizawl</td>\n",
       "      <td>7.38</td>\n",
       "    </tr>\n",
       "    <tr>\n",
       "      <th>24</th>\n",
       "      <td>Thiruvananthapuram</td>\n",
       "      <td>5.90</td>\n",
       "    </tr>\n",
       "    <tr>\n",
       "      <th>4</th>\n",
       "      <td>Bengaluru</td>\n",
       "      <td>5.55</td>\n",
       "    </tr>\n",
       "    <tr>\n",
       "      <th>11</th>\n",
       "      <td>Ernakulam</td>\n",
       "      <td>3.46</td>\n",
       "    </tr>\n",
       "  </tbody>\n",
       "</table>\n",
       "</div>"
      ],
      "text/plain": [
       "                  City    SO2\n",
       "0            Ahmedabad  42.28\n",
       "16          Jorapokhar  27.91\n",
       "23             Talcher  25.60\n",
       "21               Patna  21.29\n",
       "17               Kochi  17.60\n",
       "10               Delhi  15.83\n",
       "20              Mumbai  14.79\n",
       "13            Guwahati  14.66\n",
       "2            Amaravati  14.28\n",
       "5               Bhopal  13.11\n",
       "25       Visakhapatnam  12.95\n",
       "15              Jaipur  11.11\n",
       "6         Brajrajnagar  10.76\n",
       "7           Chandigarh  10.16\n",
       "19             Lucknow  10.10\n",
       "12            Gurugram   9.95\n",
       "14           Hyderabad   9.24\n",
       "3             Amritsar   9.03\n",
       "18             Kolkata   8.86\n",
       "9           Coimbatore   8.65\n",
       "22            Shillong   8.00\n",
       "8              Chennai   8.00\n",
       "1               Aizawl   7.38\n",
       "24  Thiruvananthapuram   5.90\n",
       "4            Bengaluru   5.55\n",
       "11           Ernakulam   3.46"
      ]
     },
     "execution_count": 104,
     "metadata": {},
     "output_type": "execute_result"
    }
   ],
   "source": [
    "#avg so2 readings in order of high to low by city \n",
    "avg_so2_df=avg_readings[['City', 'SO2']].sort_values('SO2', ascending=False)\n",
    "avg_so2_df"
   ]
  },
  {
   "cell_type": "code",
   "execution_count": null,
   "id": "d2be22f2",
   "metadata": {
    "execution": {
     "iopub.execute_input": "2023-05-10T11:43:48.926865Z",
     "iopub.status.busy": "2023-05-10T11:43:48.926386Z",
     "iopub.status.idle": "2023-05-10T11:43:48.986555Z",
     "shell.execute_reply": "2023-05-10T11:43:48.985508Z"
    },
    "papermill": {
     "duration": 0.092594,
     "end_time": "2023-05-10T11:43:48.989112",
     "exception": false,
     "start_time": "2023-05-10T11:43:48.896518",
     "status": "completed"
    },
    "tags": []
   },
   "outputs": [
    {
     "data": {
      "text/html": [
       "<div>\n",
       "<style scoped>\n",
       "    .dataframe tbody tr th:only-of-type {\n",
       "        vertical-align: middle;\n",
       "    }\n",
       "\n",
       "    .dataframe tbody tr th {\n",
       "        vertical-align: top;\n",
       "    }\n",
       "\n",
       "    .dataframe thead th {\n",
       "        text-align: right;\n",
       "    }\n",
       "</style>\n",
       "<table border=\"1\" class=\"dataframe\">\n",
       "  <thead>\n",
       "    <tr style=\"text-align: right;\">\n",
       "      <th></th>\n",
       "      <th>City</th>\n",
       "      <th>Year</th>\n",
       "      <th>PM2.5</th>\n",
       "      <th>PM10</th>\n",
       "      <th>NO</th>\n",
       "      <th>NO2</th>\n",
       "      <th>NOx</th>\n",
       "      <th>NH3</th>\n",
       "      <th>CO</th>\n",
       "      <th>SO2</th>\n",
       "      <th>O3</th>\n",
       "      <th>Benzene</th>\n",
       "      <th>Toluene</th>\n",
       "      <th>Xylene</th>\n",
       "      <th>AQI</th>\n",
       "    </tr>\n",
       "  </thead>\n",
       "  <tbody>\n",
       "    <tr>\n",
       "      <th>0</th>\n",
       "      <td>Ahmedabad</td>\n",
       "      <td>2015</td>\n",
       "      <td>76.479315</td>\n",
       "      <td>118.130000</td>\n",
       "      <td>14.244055</td>\n",
       "      <td>22.435068</td>\n",
       "      <td>33.122329</td>\n",
       "      <td>23.480000</td>\n",
       "      <td>11.725699</td>\n",
       "      <td>29.207671</td>\n",
       "      <td>31.872603</td>\n",
       "      <td>4.413178</td>\n",
       "      <td>11.816795</td>\n",
       "      <td>3.251151</td>\n",
       "      <td>270.572384</td>\n",
       "    </tr>\n",
       "    <tr>\n",
       "      <th>1</th>\n",
       "      <td>Ahmedabad</td>\n",
       "      <td>2016</td>\n",
       "      <td>65.759836</td>\n",
       "      <td>118.130000</td>\n",
       "      <td>16.654399</td>\n",
       "      <td>23.916175</td>\n",
       "      <td>30.713060</td>\n",
       "      <td>23.480000</td>\n",
       "      <td>6.566639</td>\n",
       "      <td>15.638060</td>\n",
       "      <td>29.917650</td>\n",
       "      <td>2.461011</td>\n",
       "      <td>6.401967</td>\n",
       "      <td>2.120492</td>\n",
       "      <td>212.397650</td>\n",
       "    </tr>\n",
       "    <tr>\n",
       "      <th>2</th>\n",
       "      <td>Ahmedabad</td>\n",
       "      <td>2017</td>\n",
       "      <td>71.711288</td>\n",
       "      <td>118.130000</td>\n",
       "      <td>19.921479</td>\n",
       "      <td>37.441507</td>\n",
       "      <td>38.070164</td>\n",
       "      <td>23.480000</td>\n",
       "      <td>7.329699</td>\n",
       "      <td>30.038438</td>\n",
       "      <td>37.943808</td>\n",
       "      <td>5.170932</td>\n",
       "      <td>15.022795</td>\n",
       "      <td>4.319397</td>\n",
       "      <td>240.622356</td>\n",
       "    </tr>\n",
       "    <tr>\n",
       "      <th>3</th>\n",
       "      <td>Ahmedabad</td>\n",
       "      <td>2018</td>\n",
       "      <td>74.649123</td>\n",
       "      <td>118.130000</td>\n",
       "      <td>33.158521</td>\n",
       "      <td>84.628575</td>\n",
       "      <td>60.277890</td>\n",
       "      <td>23.480000</td>\n",
       "      <td>33.074575</td>\n",
       "      <td>69.468767</td>\n",
       "      <td>38.786932</td>\n",
       "      <td>8.078493</td>\n",
       "      <td>37.385151</td>\n",
       "      <td>6.019370</td>\n",
       "      <td>612.273096</td>\n",
       "    </tr>\n",
       "    <tr>\n",
       "      <th>4</th>\n",
       "      <td>Ahmedabad</td>\n",
       "      <td>2019</td>\n",
       "      <td>62.206110</td>\n",
       "      <td>119.383945</td>\n",
       "      <td>25.993068</td>\n",
       "      <td>90.062959</td>\n",
       "      <td>62.681671</td>\n",
       "      <td>23.480000</td>\n",
       "      <td>25.741233</td>\n",
       "      <td>71.195945</td>\n",
       "      <td>46.355836</td>\n",
       "      <td>5.065589</td>\n",
       "      <td>41.045726</td>\n",
       "      <td>5.090137</td>\n",
       "      <td>503.890356</td>\n",
       "    </tr>\n",
       "    <tr>\n",
       "      <th>...</th>\n",
       "      <td>...</td>\n",
       "      <td>...</td>\n",
       "      <td>...</td>\n",
       "      <td>...</td>\n",
       "      <td>...</td>\n",
       "      <td>...</td>\n",
       "      <td>...</td>\n",
       "      <td>...</td>\n",
       "      <td>...</td>\n",
       "      <td>...</td>\n",
       "      <td>...</td>\n",
       "      <td>...</td>\n",
       "      <td>...</td>\n",
       "      <td>...</td>\n",
       "      <td>...</td>\n",
       "    </tr>\n",
       "    <tr>\n",
       "      <th>98</th>\n",
       "      <td>Visakhapatnam</td>\n",
       "      <td>2016</td>\n",
       "      <td>45.718587</td>\n",
       "      <td>88.915489</td>\n",
       "      <td>16.692120</td>\n",
       "      <td>41.956957</td>\n",
       "      <td>32.827065</td>\n",
       "      <td>13.706141</td>\n",
       "      <td>1.127283</td>\n",
       "      <td>21.364946</td>\n",
       "      <td>43.233641</td>\n",
       "      <td>6.144076</td>\n",
       "      <td>10.597391</td>\n",
       "      <td>6.710815</td>\n",
       "      <td>109.749022</td>\n",
       "    </tr>\n",
       "    <tr>\n",
       "      <th>99</th>\n",
       "      <td>Visakhapatnam</td>\n",
       "      <td>2017</td>\n",
       "      <td>62.346740</td>\n",
       "      <td>113.471014</td>\n",
       "      <td>15.426027</td>\n",
       "      <td>30.628767</td>\n",
       "      <td>12.335781</td>\n",
       "      <td>15.574329</td>\n",
       "      <td>0.512959</td>\n",
       "      <td>12.528521</td>\n",
       "      <td>41.515370</td>\n",
       "      <td>1.899260</td>\n",
       "      <td>3.629178</td>\n",
       "      <td>1.186493</td>\n",
       "      <td>156.281534</td>\n",
       "    </tr>\n",
       "    <tr>\n",
       "      <th>100</th>\n",
       "      <td>Visakhapatnam</td>\n",
       "      <td>2018</td>\n",
       "      <td>51.365507</td>\n",
       "      <td>116.734904</td>\n",
       "      <td>12.708877</td>\n",
       "      <td>38.365178</td>\n",
       "      <td>30.652027</td>\n",
       "      <td>12.704740</td>\n",
       "      <td>0.802603</td>\n",
       "      <td>11.423699</td>\n",
       "      <td>38.049699</td>\n",
       "      <td>4.729233</td>\n",
       "      <td>11.043288</td>\n",
       "      <td>3.210932</td>\n",
       "      <td>127.482027</td>\n",
       "    </tr>\n",
       "    <tr>\n",
       "      <th>101</th>\n",
       "      <td>Visakhapatnam</td>\n",
       "      <td>2019</td>\n",
       "      <td>48.038466</td>\n",
       "      <td>115.358904</td>\n",
       "      <td>14.056795</td>\n",
       "      <td>37.482767</td>\n",
       "      <td>31.397890</td>\n",
       "      <td>10.685808</td>\n",
       "      <td>0.901836</td>\n",
       "      <td>13.007836</td>\n",
       "      <td>33.051205</td>\n",
       "      <td>4.114548</td>\n",
       "      <td>9.099753</td>\n",
       "      <td>2.532986</td>\n",
       "      <td>126.271342</td>\n",
       "    </tr>\n",
       "    <tr>\n",
       "      <th>102</th>\n",
       "      <td>Visakhapatnam</td>\n",
       "      <td>2020</td>\n",
       "      <td>32.397978</td>\n",
       "      <td>83.516011</td>\n",
       "      <td>6.756612</td>\n",
       "      <td>30.881585</td>\n",
       "      <td>21.708415</td>\n",
       "      <td>10.754590</td>\n",
       "      <td>0.652240</td>\n",
       "      <td>8.262459</td>\n",
       "      <td>27.896503</td>\n",
       "      <td>3.356284</td>\n",
       "      <td>8.719235</td>\n",
       "      <td>1.780765</td>\n",
       "      <td>86.919672</td>\n",
       "    </tr>\n",
       "  </tbody>\n",
       "</table>\n",
       "<p>103 rows × 15 columns</p>\n",
       "</div>"
      ],
      "text/plain": [
       "              City  Year      PM2.5        PM10         NO        NO2  \\\n",
       "0        Ahmedabad  2015  76.479315  118.130000  14.244055  22.435068   \n",
       "1        Ahmedabad  2016  65.759836  118.130000  16.654399  23.916175   \n",
       "2        Ahmedabad  2017  71.711288  118.130000  19.921479  37.441507   \n",
       "3        Ahmedabad  2018  74.649123  118.130000  33.158521  84.628575   \n",
       "4        Ahmedabad  2019  62.206110  119.383945  25.993068  90.062959   \n",
       "..             ...   ...        ...         ...        ...        ...   \n",
       "98   Visakhapatnam  2016  45.718587   88.915489  16.692120  41.956957   \n",
       "99   Visakhapatnam  2017  62.346740  113.471014  15.426027  30.628767   \n",
       "100  Visakhapatnam  2018  51.365507  116.734904  12.708877  38.365178   \n",
       "101  Visakhapatnam  2019  48.038466  115.358904  14.056795  37.482767   \n",
       "102  Visakhapatnam  2020  32.397978   83.516011   6.756612  30.881585   \n",
       "\n",
       "           NOx        NH3         CO        SO2         O3   Benzene  \\\n",
       "0    33.122329  23.480000  11.725699  29.207671  31.872603  4.413178   \n",
       "1    30.713060  23.480000   6.566639  15.638060  29.917650  2.461011   \n",
       "2    38.070164  23.480000   7.329699  30.038438  37.943808  5.170932   \n",
       "3    60.277890  23.480000  33.074575  69.468767  38.786932  8.078493   \n",
       "4    62.681671  23.480000  25.741233  71.195945  46.355836  5.065589   \n",
       "..         ...        ...        ...        ...        ...       ...   \n",
       "98   32.827065  13.706141   1.127283  21.364946  43.233641  6.144076   \n",
       "99   12.335781  15.574329   0.512959  12.528521  41.515370  1.899260   \n",
       "100  30.652027  12.704740   0.802603  11.423699  38.049699  4.729233   \n",
       "101  31.397890  10.685808   0.901836  13.007836  33.051205  4.114548   \n",
       "102  21.708415  10.754590   0.652240   8.262459  27.896503  3.356284   \n",
       "\n",
       "       Toluene    Xylene         AQI  \n",
       "0    11.816795  3.251151  270.572384  \n",
       "1     6.401967  2.120492  212.397650  \n",
       "2    15.022795  4.319397  240.622356  \n",
       "3    37.385151  6.019370  612.273096  \n",
       "4    41.045726  5.090137  503.890356  \n",
       "..         ...       ...         ...  \n",
       "98   10.597391  6.710815  109.749022  \n",
       "99    3.629178  1.186493  156.281534  \n",
       "100  11.043288  3.210932  127.482027  \n",
       "101   9.099753  2.532986  126.271342  \n",
       "102   8.719235  1.780765   86.919672  \n",
       "\n",
       "[103 rows x 15 columns]"
      ]
     },
     "execution_count": 105,
     "metadata": {},
     "output_type": "execute_result"
    }
   ],
   "source": [
    "city_annual_avg=india_air_data.copy()\n",
    "city_annual_avg['Date'] = pd.to_datetime(city_annual_avg['Date'])\n",
    "city_annual_avg=city_annual_avg.groupby(['City', city_annual_avg.Date.dt.year]).mean().reset_index().rename(columns={'Date':'Year'})\n",
    "city_annual_avg"
   ]
  },
  {
   "cell_type": "code",
   "execution_count": null,
   "id": "42d9a5c2",
   "metadata": {
    "execution": {
     "iopub.execute_input": "2023-05-10T11:43:49.051269Z",
     "iopub.status.busy": "2023-05-10T11:43:49.050016Z",
     "iopub.status.idle": "2023-05-10T11:43:50.804858Z",
     "shell.execute_reply": "2023-05-10T11:43:50.803566Z"
    },
    "papermill": {
     "duration": 1.788847,
     "end_time": "2023-05-10T11:43:50.807661",
     "exception": false,
     "start_time": "2023-05-10T11:43:49.018814",
     "status": "completed"
    },
    "tags": []
   },
   "outputs": [
    {
     "data": {
      "application/vnd.plotly.v1+json": {
       "config": {
        "plotlyServerURL": "https://plot.ly"
       },
       "data": [
        {
         "alignmentgroup": "True",
         "hovertemplate": "City=Ahmedabad<br>Year=%{x}<br>CO=%{y}<extra></extra>",
         "legendgroup": "Ahmedabad",
         "marker": {
          "color": "#636efa",
          "pattern": {
           "shape": ""
          }
         },
         "name": "Ahmedabad",
         "offsetgroup": "Ahmedabad",
         "orientation": "v",
         "showlegend": true,
         "textposition": "auto",
         "type": "bar",
         "x": [
          2015,
          2016,
          2017,
          2018,
          2019,
          2020
         ],
         "xaxis": "x",
         "y": [
          11.725698630136987,
          6.566639344262297,
          7.329698630136984,
          33.07457534246575,
          25.74123287671234,
          8.823169398907101
         ],
         "yaxis": "y"
        },
        {
         "alignmentgroup": "True",
         "hovertemplate": "City=Aizawl<br>Year=%{x}<br>CO=%{y}<extra></extra>",
         "legendgroup": "Aizawl",
         "marker": {
          "color": "#EF553B",
          "pattern": {
           "shape": ""
          }
         },
         "name": "Aizawl",
         "offsetgroup": "Aizawl",
         "orientation": "v",
         "showlegend": true,
         "textposition": "auto",
         "type": "bar",
         "x": [
          2020
         ],
         "xaxis": "x",
         "y": [
          0.28362831858407084
         ],
         "yaxis": "y"
        },
        {
         "alignmentgroup": "True",
         "hovertemplate": "City=Amaravati<br>Year=%{x}<br>CO=%{y}<extra></extra>",
         "legendgroup": "Amaravati",
         "marker": {
          "color": "#00cc96",
          "pattern": {
           "shape": ""
          }
         },
         "name": "Amaravati",
         "offsetgroup": "Amaravati",
         "orientation": "v",
         "showlegend": true,
         "textposition": "auto",
         "type": "bar",
         "x": [
          2017,
          2018,
          2019,
          2020
         ],
         "xaxis": "x",
         "y": [
          0.14605263157894735,
          0.7978904109589039,
          0.8453972602739721,
          0.8149180327868849
         ],
         "yaxis": "y"
        },
        {
         "alignmentgroup": "True",
         "hovertemplate": "City=Amritsar<br>Year=%{x}<br>CO=%{y}<extra></extra>",
         "legendgroup": "Amritsar",
         "marker": {
          "color": "#ab63fa",
          "pattern": {
           "shape": ""
          }
         },
         "name": "Amritsar",
         "offsetgroup": "Amritsar",
         "orientation": "v",
         "showlegend": true,
         "textposition": "auto",
         "type": "bar",
         "x": [
          2017,
          2018,
          2019,
          2020
         ],
         "xaxis": "x",
         "y": [
          0.6613636363636366,
          0.7286027397260263,
          0.5359178082191783,
          0.7485792349726775
         ],
         "yaxis": "y"
        },
        {
         "alignmentgroup": "True",
         "hovertemplate": "City=Bengaluru<br>Year=%{x}<br>CO=%{y}<extra></extra>",
         "legendgroup": "Bengaluru",
         "marker": {
          "color": "#FFA15A",
          "pattern": {
           "shape": ""
          }
         },
         "name": "Bengaluru",
         "offsetgroup": "Bengaluru",
         "orientation": "v",
         "showlegend": true,
         "textposition": "auto",
         "type": "bar",
         "x": [
          2015,
          2016,
          2017,
          2018,
          2019,
          2020
         ],
         "xaxis": "x",
         "y": [
          5.4927123287671265,
          1.2945901639344266,
          1.0573150684931507,
          0.9456712328767128,
          0.9017534246575334,
          0.8713114754098356
         ],
         "yaxis": "y"
        },
        {
         "alignmentgroup": "True",
         "hovertemplate": "City=Bhopal<br>Year=%{x}<br>CO=%{y}<extra></extra>",
         "legendgroup": "Bhopal",
         "marker": {
          "color": "#19d3f3",
          "pattern": {
           "shape": ""
          }
         },
         "name": "Bhopal",
         "offsetgroup": "Bhopal",
         "orientation": "v",
         "showlegend": true,
         "textposition": "auto",
         "type": "bar",
         "x": [
          2019,
          2020
         ],
         "xaxis": "x",
         "y": [
          1.1785849056603779,
          0.775027322404372
         ],
         "yaxis": "y"
        },
        {
         "alignmentgroup": "True",
         "hovertemplate": "City=Brajrajnagar<br>Year=%{x}<br>CO=%{y}<extra></extra>",
         "legendgroup": "Brajrajnagar",
         "marker": {
          "color": "#FF6692",
          "pattern": {
           "shape": ""
          }
         },
         "name": "Brajrajnagar",
         "offsetgroup": "Brajrajnagar",
         "orientation": "v",
         "showlegend": true,
         "textposition": "auto",
         "type": "bar",
         "x": [
          2017,
          2018,
          2019,
          2020
         ],
         "xaxis": "x",
         "y": [
          2.7544,
          2.344849315068495,
          1.8800547945205486,
          0.7846448087431687
         ],
         "yaxis": "y"
        },
        {
         "alignmentgroup": "True",
         "hovertemplate": "City=Chandigarh<br>Year=%{x}<br>CO=%{y}<extra></extra>",
         "legendgroup": "Chandigarh",
         "marker": {
          "color": "#B6E880",
          "pattern": {
           "shape": ""
          }
         },
         "name": "Chandigarh",
         "offsetgroup": "Chandigarh",
         "orientation": "v",
         "showlegend": true,
         "textposition": "auto",
         "type": "bar",
         "x": [
          2019,
          2020
         ],
         "xaxis": "x",
         "y": [
          0.7509090909090907,
          0.5522950819672133
         ],
         "yaxis": "y"
        },
        {
         "alignmentgroup": "True",
         "hovertemplate": "City=Chennai<br>Year=%{x}<br>CO=%{y}<extra></extra>",
         "legendgroup": "Chennai",
         "marker": {
          "color": "#FF97FF",
          "pattern": {
           "shape": ""
          }
         },
         "name": "Chennai",
         "offsetgroup": "Chennai",
         "orientation": "v",
         "showlegend": true,
         "textposition": "auto",
         "type": "bar",
         "x": [
          2015,
          2016,
          2017,
          2018,
          2019,
          2020
         ],
         "xaxis": "x",
         "y": [
          2.3853698630136972,
          1.2003551912568293,
          0.22087671232876718,
          0.8704109589041105,
          0.8640273972602751,
          0.8207103825136614
         ],
         "yaxis": "y"
        },
        {
         "alignmentgroup": "True",
         "hovertemplate": "City=Coimbatore<br>Year=%{x}<br>CO=%{y}<extra></extra>",
         "legendgroup": "Coimbatore",
         "marker": {
          "color": "#FECB52",
          "pattern": {
           "shape": ""
          }
         },
         "name": "Coimbatore",
         "offsetgroup": "Coimbatore",
         "orientation": "v",
         "showlegend": true,
         "textposition": "auto",
         "type": "bar",
         "x": [
          2019,
          2020
         ],
         "xaxis": "x",
         "y": [
          1.2146798029556651,
          0.6762841530054645
         ],
         "yaxis": "y"
        },
        {
         "alignmentgroup": "True",
         "hovertemplate": "City=Delhi<br>Year=%{x}<br>CO=%{y}<extra></extra>",
         "legendgroup": "Delhi",
         "marker": {
          "color": "#636efa",
          "pattern": {
           "shape": ""
          }
         },
         "name": "Delhi",
         "offsetgroup": "Delhi",
         "orientation": "v",
         "showlegend": true,
         "textposition": "auto",
         "type": "bar",
         "x": [
          2015,
          2016,
          2017,
          2018,
          2019,
          2020
         ],
         "xaxis": "x",
         "y": [
          5.255150684931505,
          1.6100819672131141,
          0.6977534246575344,
          1.407068493150685,
          1.3716164383561646,
          1.0577595628415302
         ],
         "yaxis": "y"
        },
        {
         "alignmentgroup": "True",
         "hovertemplate": "City=Ernakulam<br>Year=%{x}<br>CO=%{y}<extra></extra>",
         "legendgroup": "Ernakulam",
         "marker": {
          "color": "#EF553B",
          "pattern": {
           "shape": ""
          }
         },
         "name": "Ernakulam",
         "offsetgroup": "Ernakulam",
         "orientation": "v",
         "showlegend": true,
         "textposition": "auto",
         "type": "bar",
         "x": [
          2020
         ],
         "xaxis": "x",
         "y": [
          1.6432098765432102
         ],
         "yaxis": "y"
        },
        {
         "alignmentgroup": "True",
         "hovertemplate": "City=Gurugram<br>Year=%{x}<br>CO=%{y}<extra></extra>",
         "legendgroup": "Gurugram",
         "marker": {
          "color": "#00cc96",
          "pattern": {
           "shape": ""
          }
         },
         "name": "Gurugram",
         "offsetgroup": "Gurugram",
         "orientation": "v",
         "showlegend": true,
         "textposition": "auto",
         "type": "bar",
         "x": [
          2015,
          2016,
          2017,
          2018,
          2019,
          2020
         ],
         "xaxis": "x",
         "y": [
          1.6594285714285715,
          1.6912568306010929,
          1.8525479452054794,
          0.9046575342465758,
          0.9037534246575338,
          1.1268852459016394
         ],
         "yaxis": "y"
        },
        {
         "alignmentgroup": "True",
         "hovertemplate": "City=Guwahati<br>Year=%{x}<br>CO=%{y}<extra></extra>",
         "legendgroup": "Guwahati",
         "marker": {
          "color": "#ab63fa",
          "pattern": {
           "shape": ""
          }
         },
         "name": "Guwahati",
         "offsetgroup": "Guwahati",
         "orientation": "v",
         "showlegend": true,
         "textposition": "auto",
         "type": "bar",
         "x": [
          2019,
          2020
         ],
         "xaxis": "x",
         "y": [
          0.7174608150470222,
          0.7745901639344268
         ],
         "yaxis": "y"
        },
        {
         "alignmentgroup": "True",
         "hovertemplate": "City=Hyderabad<br>Year=%{x}<br>CO=%{y}<extra></extra>",
         "legendgroup": "Hyderabad",
         "marker": {
          "color": "#FFA15A",
          "pattern": {
           "shape": ""
          }
         },
         "name": "Hyderabad",
         "offsetgroup": "Hyderabad",
         "orientation": "v",
         "showlegend": true,
         "textposition": "auto",
         "type": "bar",
         "x": [
          2015,
          2016,
          2017,
          2018,
          2019,
          2020
         ],
         "xaxis": "x",
         "y": [
          0.7620165745856358,
          0.8324590163934417,
          0.2543013698630137,
          0.6217260273972608,
          0.5701095890410955,
          0.46464480874316955
         ],
         "yaxis": "y"
        },
        {
         "alignmentgroup": "True",
         "hovertemplate": "City=Jaipur<br>Year=%{x}<br>CO=%{y}<extra></extra>",
         "legendgroup": "Jaipur",
         "marker": {
          "color": "#19d3f3",
          "pattern": {
           "shape": ""
          }
         },
         "name": "Jaipur",
         "offsetgroup": "Jaipur",
         "orientation": "v",
         "showlegend": true,
         "textposition": "auto",
         "type": "bar",
         "x": [
          2017,
          2018,
          2019,
          2020
         ],
         "xaxis": "x",
         "y": [
          0.5236815920398011,
          0.8974520547945201,
          0.8995616438356169,
          0.7714207650273225
         ],
         "yaxis": "y"
        },
        {
         "alignmentgroup": "True",
         "hovertemplate": "City=Jorapokhar<br>Year=%{x}<br>CO=%{y}<extra></extra>",
         "legendgroup": "Jorapokhar",
         "marker": {
          "color": "#FF6692",
          "pattern": {
           "shape": ""
          }
         },
         "name": "Jorapokhar",
         "offsetgroup": "Jorapokhar",
         "orientation": "v",
         "showlegend": true,
         "textposition": "auto",
         "type": "bar",
         "x": [
          2017,
          2018,
          2019,
          2020
         ],
         "xaxis": "x",
         "y": [
          1.2085546875000004,
          0.8286575342465754,
          1.7814794520547939,
          1.7875409836065574
         ],
         "yaxis": "y"
        },
        {
         "alignmentgroup": "True",
         "hovertemplate": "City=Kochi<br>Year=%{x}<br>CO=%{y}<extra></extra>",
         "legendgroup": "Kochi",
         "marker": {
          "color": "#B6E880",
          "pattern": {
           "shape": ""
          }
         },
         "name": "Kochi",
         "offsetgroup": "Kochi",
         "orientation": "v",
         "showlegend": true,
         "textposition": "auto",
         "type": "bar",
         "x": [
          2020
         ],
         "xaxis": "x",
         "y": [
          1.2966666666666657
         ],
         "yaxis": "y"
        },
        {
         "alignmentgroup": "True",
         "hovertemplate": "City=Kolkata<br>Year=%{x}<br>CO=%{y}<extra></extra>",
         "legendgroup": "Kolkata",
         "marker": {
          "color": "#FF97FF",
          "pattern": {
           "shape": ""
          }
         },
         "name": "Kolkata",
         "offsetgroup": "Kolkata",
         "orientation": "v",
         "showlegend": true,
         "textposition": "auto",
         "type": "bar",
         "x": [
          2018,
          2019,
          2020
         ],
         "xaxis": "x",
         "y": [
          0.9420300751879699,
          0.7735342465753424,
          0.6430054644808741
         ],
         "yaxis": "y"
        },
        {
         "alignmentgroup": "True",
         "hovertemplate": "City=Lucknow<br>Year=%{x}<br>CO=%{y}<extra></extra>",
         "legendgroup": "Lucknow",
         "marker": {
          "color": "#FECB52",
          "pattern": {
           "shape": ""
          }
         },
         "name": "Lucknow",
         "offsetgroup": "Lucknow",
         "orientation": "v",
         "showlegend": true,
         "textposition": "auto",
         "type": "bar",
         "x": [
          2015,
          2016,
          2017,
          2018,
          2019,
          2020
         ],
         "xaxis": "x",
         "y": [
          4.9615342465753445,
          2.163989071038251,
          1.7301369863013683,
          1.0426027397260271,
          1.2304109589041101,
          1.1969945355191254
         ],
         "yaxis": "y"
        },
        {
         "alignmentgroup": "True",
         "hovertemplate": "City=Mumbai<br>Year=%{x}<br>CO=%{y}<extra></extra>",
         "legendgroup": "Mumbai",
         "marker": {
          "color": "#636efa",
          "pattern": {
           "shape": ""
          }
         },
         "name": "Mumbai",
         "offsetgroup": "Mumbai",
         "orientation": "v",
         "showlegend": true,
         "textposition": "auto",
         "type": "bar",
         "x": [
          2015,
          2016,
          2017,
          2018,
          2019,
          2020
         ],
         "xaxis": "x",
         "y": [
          0,
          0.055327868852459015,
          0,
          1.6001917808219173,
          1.2735890410958892,
          0.6267759562841532
         ],
         "yaxis": "y"
        },
        {
         "alignmentgroup": "True",
         "hovertemplate": "City=Patna<br>Year=%{x}<br>CO=%{y}<extra></extra>",
         "legendgroup": "Patna",
         "marker": {
          "color": "#EF553B",
          "pattern": {
           "shape": ""
          }
         },
         "name": "Patna",
         "offsetgroup": "Patna",
         "orientation": "v",
         "showlegend": true,
         "textposition": "auto",
         "type": "bar",
         "x": [
          2015,
          2016,
          2017,
          2018,
          2019,
          2020
         ],
         "xaxis": "x",
         "y": [
          1.8340186915887855,
          1.6946448087431694,
          1.6704109589041096,
          1.529671232876712,
          1.5601095890410954,
          1.1333333333333333
         ],
         "yaxis": "y"
        },
        {
         "alignmentgroup": "True",
         "hovertemplate": "City=Shillong<br>Year=%{x}<br>CO=%{y}<extra></extra>",
         "legendgroup": "Shillong",
         "marker": {
          "color": "#00cc96",
          "pattern": {
           "shape": ""
          }
         },
         "name": "Shillong",
         "offsetgroup": "Shillong",
         "orientation": "v",
         "showlegend": true,
         "textposition": "auto",
         "type": "bar",
         "x": [
          2019,
          2020
         ],
         "xaxis": "x",
         "y": [
          0.6670078740157482,
          0.30562841530054624
         ],
         "yaxis": "y"
        },
        {
         "alignmentgroup": "True",
         "hovertemplate": "City=Talcher<br>Year=%{x}<br>CO=%{y}<extra></extra>",
         "legendgroup": "Talcher",
         "marker": {
          "color": "#ab63fa",
          "pattern": {
           "shape": ""
          }
         },
         "name": "Talcher",
         "offsetgroup": "Talcher",
         "orientation": "v",
         "showlegend": true,
         "textposition": "auto",
         "type": "bar",
         "x": [
          2017,
          2018,
          2019,
          2020
         ],
         "xaxis": "x",
         "y": [
          2.6533333333333333,
          2.116547945205479,
          1.784054794520548,
          1.7110382513661209
         ],
         "yaxis": "y"
        },
        {
         "alignmentgroup": "True",
         "hovertemplate": "City=Thiruvananthapuram<br>Year=%{x}<br>CO=%{y}<extra></extra>",
         "legendgroup": "Thiruvananthapuram",
         "marker": {
          "color": "#FFA15A",
          "pattern": {
           "shape": ""
          }
         },
         "name": "Thiruvananthapuram",
         "offsetgroup": "Thiruvananthapuram",
         "orientation": "v",
         "showlegend": true,
         "textposition": "auto",
         "type": "bar",
         "x": [
          2017,
          2018,
          2019,
          2020
         ],
         "xaxis": "x",
         "y": [
          0.8895477386934677,
          1.186547945205479,
          0.9092602739726019,
          0.747103825136612
         ],
         "yaxis": "y"
        },
        {
         "alignmentgroup": "True",
         "hovertemplate": "City=Visakhapatnam<br>Year=%{x}<br>CO=%{y}<extra></extra>",
         "legendgroup": "Visakhapatnam",
         "marker": {
          "color": "#19d3f3",
          "pattern": {
           "shape": ""
          }
         },
         "name": "Visakhapatnam",
         "offsetgroup": "Visakhapatnam",
         "orientation": "v",
         "showlegend": true,
         "textposition": "auto",
         "type": "bar",
         "x": [
          2016,
          2017,
          2018,
          2019,
          2020
         ],
         "xaxis": "x",
         "y": [
          1.1272826086956524,
          0.512958904109589,
          0.8026027397260272,
          0.9018356164383561,
          0.6522404371584699
         ],
         "yaxis": "y"
        }
       ],
       "layout": {
        "barmode": "group",
        "legend": {
         "title": {
          "text": "City"
         },
         "tracegroupgap": 0
        },
        "template": {
         "data": {
          "bar": [
           {
            "error_x": {
             "color": "#2a3f5f"
            },
            "error_y": {
             "color": "#2a3f5f"
            },
            "marker": {
             "line": {
              "color": "#E5ECF6",
              "width": 0.5
             },
             "pattern": {
              "fillmode": "overlay",
              "size": 10,
              "solidity": 0.2
             }
            },
            "type": "bar"
           }
          ],
          "barpolar": [
           {
            "marker": {
             "line": {
              "color": "#E5ECF6",
              "width": 0.5
             },
             "pattern": {
              "fillmode": "overlay",
              "size": 10,
              "solidity": 0.2
             }
            },
            "type": "barpolar"
           }
          ],
          "carpet": [
           {
            "aaxis": {
             "endlinecolor": "#2a3f5f",
             "gridcolor": "white",
             "linecolor": "white",
             "minorgridcolor": "white",
             "startlinecolor": "#2a3f5f"
            },
            "baxis": {
             "endlinecolor": "#2a3f5f",
             "gridcolor": "white",
             "linecolor": "white",
             "minorgridcolor": "white",
             "startlinecolor": "#2a3f5f"
            },
            "type": "carpet"
           }
          ],
          "choropleth": [
           {
            "colorbar": {
             "outlinewidth": 0,
             "ticks": ""
            },
            "type": "choropleth"
           }
          ],
          "contour": [
           {
            "colorbar": {
             "outlinewidth": 0,
             "ticks": ""
            },
            "colorscale": [
             [
              0,
              "#0d0887"
             ],
             [
              0.1111111111111111,
              "#46039f"
             ],
             [
              0.2222222222222222,
              "#7201a8"
             ],
             [
              0.3333333333333333,
              "#9c179e"
             ],
             [
              0.4444444444444444,
              "#bd3786"
             ],
             [
              0.5555555555555556,
              "#d8576b"
             ],
             [
              0.6666666666666666,
              "#ed7953"
             ],
             [
              0.7777777777777778,
              "#fb9f3a"
             ],
             [
              0.8888888888888888,
              "#fdca26"
             ],
             [
              1,
              "#f0f921"
             ]
            ],
            "type": "contour"
           }
          ],
          "contourcarpet": [
           {
            "colorbar": {
             "outlinewidth": 0,
             "ticks": ""
            },
            "type": "contourcarpet"
           }
          ],
          "heatmap": [
           {
            "colorbar": {
             "outlinewidth": 0,
             "ticks": ""
            },
            "colorscale": [
             [
              0,
              "#0d0887"
             ],
             [
              0.1111111111111111,
              "#46039f"
             ],
             [
              0.2222222222222222,
              "#7201a8"
             ],
             [
              0.3333333333333333,
              "#9c179e"
             ],
             [
              0.4444444444444444,
              "#bd3786"
             ],
             [
              0.5555555555555556,
              "#d8576b"
             ],
             [
              0.6666666666666666,
              "#ed7953"
             ],
             [
              0.7777777777777778,
              "#fb9f3a"
             ],
             [
              0.8888888888888888,
              "#fdca26"
             ],
             [
              1,
              "#f0f921"
             ]
            ],
            "type": "heatmap"
           }
          ],
          "heatmapgl": [
           {
            "colorbar": {
             "outlinewidth": 0,
             "ticks": ""
            },
            "colorscale": [
             [
              0,
              "#0d0887"
             ],
             [
              0.1111111111111111,
              "#46039f"
             ],
             [
              0.2222222222222222,
              "#7201a8"
             ],
             [
              0.3333333333333333,
              "#9c179e"
             ],
             [
              0.4444444444444444,
              "#bd3786"
             ],
             [
              0.5555555555555556,
              "#d8576b"
             ],
             [
              0.6666666666666666,
              "#ed7953"
             ],
             [
              0.7777777777777778,
              "#fb9f3a"
             ],
             [
              0.8888888888888888,
              "#fdca26"
             ],
             [
              1,
              "#f0f921"
             ]
            ],
            "type": "heatmapgl"
           }
          ],
          "histogram": [
           {
            "marker": {
             "pattern": {
              "fillmode": "overlay",
              "size": 10,
              "solidity": 0.2
             }
            },
            "type": "histogram"
           }
          ],
          "histogram2d": [
           {
            "colorbar": {
             "outlinewidth": 0,
             "ticks": ""
            },
            "colorscale": [
             [
              0,
              "#0d0887"
             ],
             [
              0.1111111111111111,
              "#46039f"
             ],
             [
              0.2222222222222222,
              "#7201a8"
             ],
             [
              0.3333333333333333,
              "#9c179e"
             ],
             [
              0.4444444444444444,
              "#bd3786"
             ],
             [
              0.5555555555555556,
              "#d8576b"
             ],
             [
              0.6666666666666666,
              "#ed7953"
             ],
             [
              0.7777777777777778,
              "#fb9f3a"
             ],
             [
              0.8888888888888888,
              "#fdca26"
             ],
             [
              1,
              "#f0f921"
             ]
            ],
            "type": "histogram2d"
           }
          ],
          "histogram2dcontour": [
           {
            "colorbar": {
             "outlinewidth": 0,
             "ticks": ""
            },
            "colorscale": [
             [
              0,
              "#0d0887"
             ],
             [
              0.1111111111111111,
              "#46039f"
             ],
             [
              0.2222222222222222,
              "#7201a8"
             ],
             [
              0.3333333333333333,
              "#9c179e"
             ],
             [
              0.4444444444444444,
              "#bd3786"
             ],
             [
              0.5555555555555556,
              "#d8576b"
             ],
             [
              0.6666666666666666,
              "#ed7953"
             ],
             [
              0.7777777777777778,
              "#fb9f3a"
             ],
             [
              0.8888888888888888,
              "#fdca26"
             ],
             [
              1,
              "#f0f921"
             ]
            ],
            "type": "histogram2dcontour"
           }
          ],
          "mesh3d": [
           {
            "colorbar": {
             "outlinewidth": 0,
             "ticks": ""
            },
            "type": "mesh3d"
           }
          ],
          "parcoords": [
           {
            "line": {
             "colorbar": {
              "outlinewidth": 0,
              "ticks": ""
             }
            },
            "type": "parcoords"
           }
          ],
          "pie": [
           {
            "automargin": true,
            "type": "pie"
           }
          ],
          "scatter": [
           {
            "fillpattern": {
             "fillmode": "overlay",
             "size": 10,
             "solidity": 0.2
            },
            "type": "scatter"
           }
          ],
          "scatter3d": [
           {
            "line": {
             "colorbar": {
              "outlinewidth": 0,
              "ticks": ""
             }
            },
            "marker": {
             "colorbar": {
              "outlinewidth": 0,
              "ticks": ""
             }
            },
            "type": "scatter3d"
           }
          ],
          "scattercarpet": [
           {
            "marker": {
             "colorbar": {
              "outlinewidth": 0,
              "ticks": ""
             }
            },
            "type": "scattercarpet"
           }
          ],
          "scattergeo": [
           {
            "marker": {
             "colorbar": {
              "outlinewidth": 0,
              "ticks": ""
             }
            },
            "type": "scattergeo"
           }
          ],
          "scattergl": [
           {
            "marker": {
             "colorbar": {
              "outlinewidth": 0,
              "ticks": ""
             }
            },
            "type": "scattergl"
           }
          ],
          "scattermapbox": [
           {
            "marker": {
             "colorbar": {
              "outlinewidth": 0,
              "ticks": ""
             }
            },
            "type": "scattermapbox"
           }
          ],
          "scatterpolar": [
           {
            "marker": {
             "colorbar": {
              "outlinewidth": 0,
              "ticks": ""
             }
            },
            "type": "scatterpolar"
           }
          ],
          "scatterpolargl": [
           {
            "marker": {
             "colorbar": {
              "outlinewidth": 0,
              "ticks": ""
             }
            },
            "type": "scatterpolargl"
           }
          ],
          "scatterternary": [
           {
            "marker": {
             "colorbar": {
              "outlinewidth": 0,
              "ticks": ""
             }
            },
            "type": "scatterternary"
           }
          ],
          "surface": [
           {
            "colorbar": {
             "outlinewidth": 0,
             "ticks": ""
            },
            "colorscale": [
             [
              0,
              "#0d0887"
             ],
             [
              0.1111111111111111,
              "#46039f"
             ],
             [
              0.2222222222222222,
              "#7201a8"
             ],
             [
              0.3333333333333333,
              "#9c179e"
             ],
             [
              0.4444444444444444,
              "#bd3786"
             ],
             [
              0.5555555555555556,
              "#d8576b"
             ],
             [
              0.6666666666666666,
              "#ed7953"
             ],
             [
              0.7777777777777778,
              "#fb9f3a"
             ],
             [
              0.8888888888888888,
              "#fdca26"
             ],
             [
              1,
              "#f0f921"
             ]
            ],
            "type": "surface"
           }
          ],
          "table": [
           {
            "cells": {
             "fill": {
              "color": "#EBF0F8"
             },
             "line": {
              "color": "white"
             }
            },
            "header": {
             "fill": {
              "color": "#C8D4E3"
             },
             "line": {
              "color": "white"
             }
            },
            "type": "table"
           }
          ]
         },
         "layout": {
          "annotationdefaults": {
           "arrowcolor": "#2a3f5f",
           "arrowhead": 0,
           "arrowwidth": 1
          },
          "autotypenumbers": "strict",
          "coloraxis": {
           "colorbar": {
            "outlinewidth": 0,
            "ticks": ""
           }
          },
          "colorscale": {
           "diverging": [
            [
             0,
             "#8e0152"
            ],
            [
             0.1,
             "#c51b7d"
            ],
            [
             0.2,
             "#de77ae"
            ],
            [
             0.3,
             "#f1b6da"
            ],
            [
             0.4,
             "#fde0ef"
            ],
            [
             0.5,
             "#f7f7f7"
            ],
            [
             0.6,
             "#e6f5d0"
            ],
            [
             0.7,
             "#b8e186"
            ],
            [
             0.8,
             "#7fbc41"
            ],
            [
             0.9,
             "#4d9221"
            ],
            [
             1,
             "#276419"
            ]
           ],
           "sequential": [
            [
             0,
             "#0d0887"
            ],
            [
             0.1111111111111111,
             "#46039f"
            ],
            [
             0.2222222222222222,
             "#7201a8"
            ],
            [
             0.3333333333333333,
             "#9c179e"
            ],
            [
             0.4444444444444444,
             "#bd3786"
            ],
            [
             0.5555555555555556,
             "#d8576b"
            ],
            [
             0.6666666666666666,
             "#ed7953"
            ],
            [
             0.7777777777777778,
             "#fb9f3a"
            ],
            [
             0.8888888888888888,
             "#fdca26"
            ],
            [
             1,
             "#f0f921"
            ]
           ],
           "sequentialminus": [
            [
             0,
             "#0d0887"
            ],
            [
             0.1111111111111111,
             "#46039f"
            ],
            [
             0.2222222222222222,
             "#7201a8"
            ],
            [
             0.3333333333333333,
             "#9c179e"
            ],
            [
             0.4444444444444444,
             "#bd3786"
            ],
            [
             0.5555555555555556,
             "#d8576b"
            ],
            [
             0.6666666666666666,
             "#ed7953"
            ],
            [
             0.7777777777777778,
             "#fb9f3a"
            ],
            [
             0.8888888888888888,
             "#fdca26"
            ],
            [
             1,
             "#f0f921"
            ]
           ]
          },
          "colorway": [
           "#636efa",
           "#EF553B",
           "#00cc96",
           "#ab63fa",
           "#FFA15A",
           "#19d3f3",
           "#FF6692",
           "#B6E880",
           "#FF97FF",
           "#FECB52"
          ],
          "font": {
           "color": "#2a3f5f"
          },
          "geo": {
           "bgcolor": "white",
           "lakecolor": "white",
           "landcolor": "#E5ECF6",
           "showlakes": true,
           "showland": true,
           "subunitcolor": "white"
          },
          "hoverlabel": {
           "align": "left"
          },
          "hovermode": "closest",
          "mapbox": {
           "style": "light"
          },
          "paper_bgcolor": "white",
          "plot_bgcolor": "#E5ECF6",
          "polar": {
           "angularaxis": {
            "gridcolor": "white",
            "linecolor": "white",
            "ticks": ""
           },
           "bgcolor": "#E5ECF6",
           "radialaxis": {
            "gridcolor": "white",
            "linecolor": "white",
            "ticks": ""
           }
          },
          "scene": {
           "xaxis": {
            "backgroundcolor": "#E5ECF6",
            "gridcolor": "white",
            "gridwidth": 2,
            "linecolor": "white",
            "showbackground": true,
            "ticks": "",
            "zerolinecolor": "white"
           },
           "yaxis": {
            "backgroundcolor": "#E5ECF6",
            "gridcolor": "white",
            "gridwidth": 2,
            "linecolor": "white",
            "showbackground": true,
            "ticks": "",
            "zerolinecolor": "white"
           },
           "zaxis": {
            "backgroundcolor": "#E5ECF6",
            "gridcolor": "white",
            "gridwidth": 2,
            "linecolor": "white",
            "showbackground": true,
            "ticks": "",
            "zerolinecolor": "white"
           }
          },
          "shapedefaults": {
           "line": {
            "color": "#2a3f5f"
           }
          },
          "ternary": {
           "aaxis": {
            "gridcolor": "white",
            "linecolor": "white",
            "ticks": ""
           },
           "baxis": {
            "gridcolor": "white",
            "linecolor": "white",
            "ticks": ""
           },
           "bgcolor": "#E5ECF6",
           "caxis": {
            "gridcolor": "white",
            "linecolor": "white",
            "ticks": ""
           }
          },
          "title": {
           "x": 0.05
          },
          "xaxis": {
           "automargin": true,
           "gridcolor": "white",
           "linecolor": "white",
           "ticks": "",
           "title": {
            "standoff": 15
           },
           "zerolinecolor": "white",
           "zerolinewidth": 2
          },
          "yaxis": {
           "automargin": true,
           "gridcolor": "white",
           "linecolor": "white",
           "ticks": "",
           "title": {
            "standoff": 15
           },
           "zerolinecolor": "white",
           "zerolinewidth": 2
          }
         }
        },
        "title": {
         "text": "Carbon Monoxide (CO) average readings for each city between 2015 - 2020"
        },
        "xaxis": {
         "anchor": "y",
         "domain": [
          0,
          1
         ],
         "title": {
          "text": "Year"
         }
        },
        "yaxis": {
         "anchor": "x",
         "domain": [
          0,
          1
         ],
         "title": {
          "text": "CO"
         }
        }
       }
      }
     },
     "metadata": {},
     "output_type": "display_data"
    }
   ],
   "source": [
    "fig=px.bar(city_annual_avg, x='Year', y='CO', color='City', barmode='group',title='Carbon Monoxide (CO) average readings for each city between 2015 - 2020')\n",
    "fig.show()"
   ]
  },
  {
   "cell_type": "code",
   "execution_count": null,
   "id": "1566a29a",
   "metadata": {
    "execution": {
     "iopub.execute_input": "2023-05-10T11:43:50.869693Z",
     "iopub.status.busy": "2023-05-10T11:43:50.868879Z",
     "iopub.status.idle": "2023-05-10T11:43:50.955478Z",
     "shell.execute_reply": "2023-05-10T11:43:50.953925Z"
    },
    "papermill": {
     "duration": 0.120055,
     "end_time": "2023-05-10T11:43:50.958443",
     "exception": false,
     "start_time": "2023-05-10T11:43:50.838388",
     "status": "completed"
    },
    "tags": []
   },
   "outputs": [
    {
     "data": {
      "application/vnd.plotly.v1+json": {
       "config": {
        "plotlyServerURL": "https://plot.ly"
       },
       "data": [
        {
         "alignmentgroup": "True",
         "hovertemplate": "City=%{x}<br>CO=%{y}<br>Year=%{marker.color}<extra></extra>",
         "legendgroup": "",
         "marker": {
          "color": [
           2015,
           2016,
           2017,
           2018,
           2019,
           2020,
           2020,
           2017,
           2018,
           2019,
           2020,
           2017,
           2018,
           2019,
           2020,
           2015,
           2016,
           2017,
           2018,
           2019,
           2020,
           2019,
           2020,
           2017,
           2018,
           2019,
           2020,
           2019,
           2020,
           2015,
           2016,
           2017,
           2018,
           2019,
           2020,
           2019,
           2020,
           2015,
           2016,
           2017,
           2018,
           2019,
           2020,
           2020,
           2015,
           2016,
           2017,
           2018,
           2019,
           2020,
           2019,
           2020,
           2015,
           2016,
           2017,
           2018,
           2019,
           2020,
           2017,
           2018,
           2019,
           2020,
           2017,
           2018,
           2019,
           2020,
           2020,
           2018,
           2019,
           2020,
           2015,
           2016,
           2017,
           2018,
           2019,
           2020,
           2015,
           2016,
           2017,
           2018,
           2019,
           2020,
           2015,
           2016,
           2017,
           2018,
           2019,
           2020,
           2019,
           2020,
           2017,
           2018,
           2019,
           2020,
           2017,
           2018,
           2019,
           2020,
           2016,
           2017,
           2018,
           2019,
           2020
          ],
          "coloraxis": "coloraxis",
          "pattern": {
           "shape": ""
          }
         },
         "name": "",
         "offsetgroup": "",
         "orientation": "v",
         "showlegend": false,
         "textposition": "auto",
         "type": "bar",
         "x": [
          "Ahmedabad",
          "Ahmedabad",
          "Ahmedabad",
          "Ahmedabad",
          "Ahmedabad",
          "Ahmedabad",
          "Aizawl",
          "Amaravati",
          "Amaravati",
          "Amaravati",
          "Amaravati",
          "Amritsar",
          "Amritsar",
          "Amritsar",
          "Amritsar",
          "Bengaluru",
          "Bengaluru",
          "Bengaluru",
          "Bengaluru",
          "Bengaluru",
          "Bengaluru",
          "Bhopal",
          "Bhopal",
          "Brajrajnagar",
          "Brajrajnagar",
          "Brajrajnagar",
          "Brajrajnagar",
          "Chandigarh",
          "Chandigarh",
          "Chennai",
          "Chennai",
          "Chennai",
          "Chennai",
          "Chennai",
          "Chennai",
          "Coimbatore",
          "Coimbatore",
          "Delhi",
          "Delhi",
          "Delhi",
          "Delhi",
          "Delhi",
          "Delhi",
          "Ernakulam",
          "Gurugram",
          "Gurugram",
          "Gurugram",
          "Gurugram",
          "Gurugram",
          "Gurugram",
          "Guwahati",
          "Guwahati",
          "Hyderabad",
          "Hyderabad",
          "Hyderabad",
          "Hyderabad",
          "Hyderabad",
          "Hyderabad",
          "Jaipur",
          "Jaipur",
          "Jaipur",
          "Jaipur",
          "Jorapokhar",
          "Jorapokhar",
          "Jorapokhar",
          "Jorapokhar",
          "Kochi",
          "Kolkata",
          "Kolkata",
          "Kolkata",
          "Lucknow",
          "Lucknow",
          "Lucknow",
          "Lucknow",
          "Lucknow",
          "Lucknow",
          "Mumbai",
          "Mumbai",
          "Mumbai",
          "Mumbai",
          "Mumbai",
          "Mumbai",
          "Patna",
          "Patna",
          "Patna",
          "Patna",
          "Patna",
          "Patna",
          "Shillong",
          "Shillong",
          "Talcher",
          "Talcher",
          "Talcher",
          "Talcher",
          "Thiruvananthapuram",
          "Thiruvananthapuram",
          "Thiruvananthapuram",
          "Thiruvananthapuram",
          "Visakhapatnam",
          "Visakhapatnam",
          "Visakhapatnam",
          "Visakhapatnam",
          "Visakhapatnam"
         ],
         "xaxis": "x",
         "y": [
          11.725698630136987,
          6.566639344262297,
          7.329698630136984,
          33.07457534246575,
          25.74123287671234,
          8.823169398907101,
          0.28362831858407084,
          0.14605263157894735,
          0.7978904109589039,
          0.8453972602739721,
          0.8149180327868849,
          0.6613636363636366,
          0.7286027397260263,
          0.5359178082191783,
          0.7485792349726775,
          5.4927123287671265,
          1.2945901639344266,
          1.0573150684931507,
          0.9456712328767128,
          0.9017534246575334,
          0.8713114754098356,
          1.1785849056603779,
          0.775027322404372,
          2.7544,
          2.344849315068495,
          1.8800547945205486,
          0.7846448087431687,
          0.7509090909090907,
          0.5522950819672133,
          2.3853698630136972,
          1.2003551912568293,
          0.22087671232876718,
          0.8704109589041105,
          0.8640273972602751,
          0.8207103825136614,
          1.2146798029556651,
          0.6762841530054645,
          5.255150684931505,
          1.6100819672131141,
          0.6977534246575344,
          1.407068493150685,
          1.3716164383561646,
          1.0577595628415302,
          1.6432098765432102,
          1.6594285714285715,
          1.6912568306010929,
          1.8525479452054794,
          0.9046575342465758,
          0.9037534246575338,
          1.1268852459016394,
          0.7174608150470222,
          0.7745901639344268,
          0.7620165745856358,
          0.8324590163934417,
          0.2543013698630137,
          0.6217260273972608,
          0.5701095890410955,
          0.46464480874316955,
          0.5236815920398011,
          0.8974520547945201,
          0.8995616438356169,
          0.7714207650273225,
          1.2085546875000004,
          0.8286575342465754,
          1.7814794520547939,
          1.7875409836065574,
          1.2966666666666657,
          0.9420300751879699,
          0.7735342465753424,
          0.6430054644808741,
          4.9615342465753445,
          2.163989071038251,
          1.7301369863013683,
          1.0426027397260271,
          1.2304109589041101,
          1.1969945355191254,
          0,
          0.055327868852459015,
          0,
          1.6001917808219173,
          1.2735890410958892,
          0.6267759562841532,
          1.8340186915887855,
          1.6946448087431694,
          1.6704109589041096,
          1.529671232876712,
          1.5601095890410954,
          1.1333333333333333,
          0.6670078740157482,
          0.30562841530054624,
          2.6533333333333333,
          2.116547945205479,
          1.784054794520548,
          1.7110382513661209,
          0.8895477386934677,
          1.186547945205479,
          0.9092602739726019,
          0.747103825136612,
          1.1272826086956524,
          0.512958904109589,
          0.8026027397260272,
          0.9018356164383561,
          0.6522404371584699
         ],
         "yaxis": "y"
        }
       ],
       "layout": {
        "barmode": "relative",
        "coloraxis": {
         "colorbar": {
          "title": {
           "text": "Year"
          }
         },
         "colorscale": [
          [
           0,
           "#0d0887"
          ],
          [
           0.1111111111111111,
           "#46039f"
          ],
          [
           0.2222222222222222,
           "#7201a8"
          ],
          [
           0.3333333333333333,
           "#9c179e"
          ],
          [
           0.4444444444444444,
           "#bd3786"
          ],
          [
           0.5555555555555556,
           "#d8576b"
          ],
          [
           0.6666666666666666,
           "#ed7953"
          ],
          [
           0.7777777777777778,
           "#fb9f3a"
          ],
          [
           0.8888888888888888,
           "#fdca26"
          ],
          [
           1,
           "#f0f921"
          ]
         ]
        },
        "legend": {
         "tracegroupgap": 0
        },
        "template": {
         "data": {
          "bar": [
           {
            "error_x": {
             "color": "#2a3f5f"
            },
            "error_y": {
             "color": "#2a3f5f"
            },
            "marker": {
             "line": {
              "color": "#E5ECF6",
              "width": 0.5
             },
             "pattern": {
              "fillmode": "overlay",
              "size": 10,
              "solidity": 0.2
             }
            },
            "type": "bar"
           }
          ],
          "barpolar": [
           {
            "marker": {
             "line": {
              "color": "#E5ECF6",
              "width": 0.5
             },
             "pattern": {
              "fillmode": "overlay",
              "size": 10,
              "solidity": 0.2
             }
            },
            "type": "barpolar"
           }
          ],
          "carpet": [
           {
            "aaxis": {
             "endlinecolor": "#2a3f5f",
             "gridcolor": "white",
             "linecolor": "white",
             "minorgridcolor": "white",
             "startlinecolor": "#2a3f5f"
            },
            "baxis": {
             "endlinecolor": "#2a3f5f",
             "gridcolor": "white",
             "linecolor": "white",
             "minorgridcolor": "white",
             "startlinecolor": "#2a3f5f"
            },
            "type": "carpet"
           }
          ],
          "choropleth": [
           {
            "colorbar": {
             "outlinewidth": 0,
             "ticks": ""
            },
            "type": "choropleth"
           }
          ],
          "contour": [
           {
            "colorbar": {
             "outlinewidth": 0,
             "ticks": ""
            },
            "colorscale": [
             [
              0,
              "#0d0887"
             ],
             [
              0.1111111111111111,
              "#46039f"
             ],
             [
              0.2222222222222222,
              "#7201a8"
             ],
             [
              0.3333333333333333,
              "#9c179e"
             ],
             [
              0.4444444444444444,
              "#bd3786"
             ],
             [
              0.5555555555555556,
              "#d8576b"
             ],
             [
              0.6666666666666666,
              "#ed7953"
             ],
             [
              0.7777777777777778,
              "#fb9f3a"
             ],
             [
              0.8888888888888888,
              "#fdca26"
             ],
             [
              1,
              "#f0f921"
             ]
            ],
            "type": "contour"
           }
          ],
          "contourcarpet": [
           {
            "colorbar": {
             "outlinewidth": 0,
             "ticks": ""
            },
            "type": "contourcarpet"
           }
          ],
          "heatmap": [
           {
            "colorbar": {
             "outlinewidth": 0,
             "ticks": ""
            },
            "colorscale": [
             [
              0,
              "#0d0887"
             ],
             [
              0.1111111111111111,
              "#46039f"
             ],
             [
              0.2222222222222222,
              "#7201a8"
             ],
             [
              0.3333333333333333,
              "#9c179e"
             ],
             [
              0.4444444444444444,
              "#bd3786"
             ],
             [
              0.5555555555555556,
              "#d8576b"
             ],
             [
              0.6666666666666666,
              "#ed7953"
             ],
             [
              0.7777777777777778,
              "#fb9f3a"
             ],
             [
              0.8888888888888888,
              "#fdca26"
             ],
             [
              1,
              "#f0f921"
             ]
            ],
            "type": "heatmap"
           }
          ],
          "heatmapgl": [
           {
            "colorbar": {
             "outlinewidth": 0,
             "ticks": ""
            },
            "colorscale": [
             [
              0,
              "#0d0887"
             ],
             [
              0.1111111111111111,
              "#46039f"
             ],
             [
              0.2222222222222222,
              "#7201a8"
             ],
             [
              0.3333333333333333,
              "#9c179e"
             ],
             [
              0.4444444444444444,
              "#bd3786"
             ],
             [
              0.5555555555555556,
              "#d8576b"
             ],
             [
              0.6666666666666666,
              "#ed7953"
             ],
             [
              0.7777777777777778,
              "#fb9f3a"
             ],
             [
              0.8888888888888888,
              "#fdca26"
             ],
             [
              1,
              "#f0f921"
             ]
            ],
            "type": "heatmapgl"
           }
          ],
          "histogram": [
           {
            "marker": {
             "pattern": {
              "fillmode": "overlay",
              "size": 10,
              "solidity": 0.2
             }
            },
            "type": "histogram"
           }
          ],
          "histogram2d": [
           {
            "colorbar": {
             "outlinewidth": 0,
             "ticks": ""
            },
            "colorscale": [
             [
              0,
              "#0d0887"
             ],
             [
              0.1111111111111111,
              "#46039f"
             ],
             [
              0.2222222222222222,
              "#7201a8"
             ],
             [
              0.3333333333333333,
              "#9c179e"
             ],
             [
              0.4444444444444444,
              "#bd3786"
             ],
             [
              0.5555555555555556,
              "#d8576b"
             ],
             [
              0.6666666666666666,
              "#ed7953"
             ],
             [
              0.7777777777777778,
              "#fb9f3a"
             ],
             [
              0.8888888888888888,
              "#fdca26"
             ],
             [
              1,
              "#f0f921"
             ]
            ],
            "type": "histogram2d"
           }
          ],
          "histogram2dcontour": [
           {
            "colorbar": {
             "outlinewidth": 0,
             "ticks": ""
            },
            "colorscale": [
             [
              0,
              "#0d0887"
             ],
             [
              0.1111111111111111,
              "#46039f"
             ],
             [
              0.2222222222222222,
              "#7201a8"
             ],
             [
              0.3333333333333333,
              "#9c179e"
             ],
             [
              0.4444444444444444,
              "#bd3786"
             ],
             [
              0.5555555555555556,
              "#d8576b"
             ],
             [
              0.6666666666666666,
              "#ed7953"
             ],
             [
              0.7777777777777778,
              "#fb9f3a"
             ],
             [
              0.8888888888888888,
              "#fdca26"
             ],
             [
              1,
              "#f0f921"
             ]
            ],
            "type": "histogram2dcontour"
           }
          ],
          "mesh3d": [
           {
            "colorbar": {
             "outlinewidth": 0,
             "ticks": ""
            },
            "type": "mesh3d"
           }
          ],
          "parcoords": [
           {
            "line": {
             "colorbar": {
              "outlinewidth": 0,
              "ticks": ""
             }
            },
            "type": "parcoords"
           }
          ],
          "pie": [
           {
            "automargin": true,
            "type": "pie"
           }
          ],
          "scatter": [
           {
            "fillpattern": {
             "fillmode": "overlay",
             "size": 10,
             "solidity": 0.2
            },
            "type": "scatter"
           }
          ],
          "scatter3d": [
           {
            "line": {
             "colorbar": {
              "outlinewidth": 0,
              "ticks": ""
             }
            },
            "marker": {
             "colorbar": {
              "outlinewidth": 0,
              "ticks": ""
             }
            },
            "type": "scatter3d"
           }
          ],
          "scattercarpet": [
           {
            "marker": {
             "colorbar": {
              "outlinewidth": 0,
              "ticks": ""
             }
            },
            "type": "scattercarpet"
           }
          ],
          "scattergeo": [
           {
            "marker": {
             "colorbar": {
              "outlinewidth": 0,
              "ticks": ""
             }
            },
            "type": "scattergeo"
           }
          ],
          "scattergl": [
           {
            "marker": {
             "colorbar": {
              "outlinewidth": 0,
              "ticks": ""
             }
            },
            "type": "scattergl"
           }
          ],
          "scattermapbox": [
           {
            "marker": {
             "colorbar": {
              "outlinewidth": 0,
              "ticks": ""
             }
            },
            "type": "scattermapbox"
           }
          ],
          "scatterpolar": [
           {
            "marker": {
             "colorbar": {
              "outlinewidth": 0,
              "ticks": ""
             }
            },
            "type": "scatterpolar"
           }
          ],
          "scatterpolargl": [
           {
            "marker": {
             "colorbar": {
              "outlinewidth": 0,
              "ticks": ""
             }
            },
            "type": "scatterpolargl"
           }
          ],
          "scatterternary": [
           {
            "marker": {
             "colorbar": {
              "outlinewidth": 0,
              "ticks": ""
             }
            },
            "type": "scatterternary"
           }
          ],
          "surface": [
           {
            "colorbar": {
             "outlinewidth": 0,
             "ticks": ""
            },
            "colorscale": [
             [
              0,
              "#0d0887"
             ],
             [
              0.1111111111111111,
              "#46039f"
             ],
             [
              0.2222222222222222,
              "#7201a8"
             ],
             [
              0.3333333333333333,
              "#9c179e"
             ],
             [
              0.4444444444444444,
              "#bd3786"
             ],
             [
              0.5555555555555556,
              "#d8576b"
             ],
             [
              0.6666666666666666,
              "#ed7953"
             ],
             [
              0.7777777777777778,
              "#fb9f3a"
             ],
             [
              0.8888888888888888,
              "#fdca26"
             ],
             [
              1,
              "#f0f921"
             ]
            ],
            "type": "surface"
           }
          ],
          "table": [
           {
            "cells": {
             "fill": {
              "color": "#EBF0F8"
             },
             "line": {
              "color": "white"
             }
            },
            "header": {
             "fill": {
              "color": "#C8D4E3"
             },
             "line": {
              "color": "white"
             }
            },
            "type": "table"
           }
          ]
         },
         "layout": {
          "annotationdefaults": {
           "arrowcolor": "#2a3f5f",
           "arrowhead": 0,
           "arrowwidth": 1
          },
          "autotypenumbers": "strict",
          "coloraxis": {
           "colorbar": {
            "outlinewidth": 0,
            "ticks": ""
           }
          },
          "colorscale": {
           "diverging": [
            [
             0,
             "#8e0152"
            ],
            [
             0.1,
             "#c51b7d"
            ],
            [
             0.2,
             "#de77ae"
            ],
            [
             0.3,
             "#f1b6da"
            ],
            [
             0.4,
             "#fde0ef"
            ],
            [
             0.5,
             "#f7f7f7"
            ],
            [
             0.6,
             "#e6f5d0"
            ],
            [
             0.7,
             "#b8e186"
            ],
            [
             0.8,
             "#7fbc41"
            ],
            [
             0.9,
             "#4d9221"
            ],
            [
             1,
             "#276419"
            ]
           ],
           "sequential": [
            [
             0,
             "#0d0887"
            ],
            [
             0.1111111111111111,
             "#46039f"
            ],
            [
             0.2222222222222222,
             "#7201a8"
            ],
            [
             0.3333333333333333,
             "#9c179e"
            ],
            [
             0.4444444444444444,
             "#bd3786"
            ],
            [
             0.5555555555555556,
             "#d8576b"
            ],
            [
             0.6666666666666666,
             "#ed7953"
            ],
            [
             0.7777777777777778,
             "#fb9f3a"
            ],
            [
             0.8888888888888888,
             "#fdca26"
            ],
            [
             1,
             "#f0f921"
            ]
           ],
           "sequentialminus": [
            [
             0,
             "#0d0887"
            ],
            [
             0.1111111111111111,
             "#46039f"
            ],
            [
             0.2222222222222222,
             "#7201a8"
            ],
            [
             0.3333333333333333,
             "#9c179e"
            ],
            [
             0.4444444444444444,
             "#bd3786"
            ],
            [
             0.5555555555555556,
             "#d8576b"
            ],
            [
             0.6666666666666666,
             "#ed7953"
            ],
            [
             0.7777777777777778,
             "#fb9f3a"
            ],
            [
             0.8888888888888888,
             "#fdca26"
            ],
            [
             1,
             "#f0f921"
            ]
           ]
          },
          "colorway": [
           "#636efa",
           "#EF553B",
           "#00cc96",
           "#ab63fa",
           "#FFA15A",
           "#19d3f3",
           "#FF6692",
           "#B6E880",
           "#FF97FF",
           "#FECB52"
          ],
          "font": {
           "color": "#2a3f5f"
          },
          "geo": {
           "bgcolor": "white",
           "lakecolor": "white",
           "landcolor": "#E5ECF6",
           "showlakes": true,
           "showland": true,
           "subunitcolor": "white"
          },
          "hoverlabel": {
           "align": "left"
          },
          "hovermode": "closest",
          "mapbox": {
           "style": "light"
          },
          "paper_bgcolor": "white",
          "plot_bgcolor": "#E5ECF6",
          "polar": {
           "angularaxis": {
            "gridcolor": "white",
            "linecolor": "white",
            "ticks": ""
           },
           "bgcolor": "#E5ECF6",
           "radialaxis": {
            "gridcolor": "white",
            "linecolor": "white",
            "ticks": ""
           }
          },
          "scene": {
           "xaxis": {
            "backgroundcolor": "#E5ECF6",
            "gridcolor": "white",
            "gridwidth": 2,
            "linecolor": "white",
            "showbackground": true,
            "ticks": "",
            "zerolinecolor": "white"
           },
           "yaxis": {
            "backgroundcolor": "#E5ECF6",
            "gridcolor": "white",
            "gridwidth": 2,
            "linecolor": "white",
            "showbackground": true,
            "ticks": "",
            "zerolinecolor": "white"
           },
           "zaxis": {
            "backgroundcolor": "#E5ECF6",
            "gridcolor": "white",
            "gridwidth": 2,
            "linecolor": "white",
            "showbackground": true,
            "ticks": "",
            "zerolinecolor": "white"
           }
          },
          "shapedefaults": {
           "line": {
            "color": "#2a3f5f"
           }
          },
          "ternary": {
           "aaxis": {
            "gridcolor": "white",
            "linecolor": "white",
            "ticks": ""
           },
           "baxis": {
            "gridcolor": "white",
            "linecolor": "white",
            "ticks": ""
           },
           "bgcolor": "#E5ECF6",
           "caxis": {
            "gridcolor": "white",
            "linecolor": "white",
            "ticks": ""
           }
          },
          "title": {
           "x": 0.05
          },
          "xaxis": {
           "automargin": true,
           "gridcolor": "white",
           "linecolor": "white",
           "ticks": "",
           "title": {
            "standoff": 15
           },
           "zerolinecolor": "white",
           "zerolinewidth": 2
          },
          "yaxis": {
           "automargin": true,
           "gridcolor": "white",
           "linecolor": "white",
           "ticks": "",
           "title": {
            "standoff": 15
           },
           "zerolinecolor": "white",
           "zerolinewidth": 2
          }
         }
        },
        "title": {
         "text": "Annual Average Carbon Monoxide (CO) Readings for each City, 2015-2020"
        },
        "xaxis": {
         "anchor": "y",
         "domain": [
          0,
          1
         ],
         "title": {
          "text": "City"
         }
        },
        "yaxis": {
         "anchor": "x",
         "domain": [
          0,
          1
         ],
         "title": {
          "text": "CO"
         }
        }
       }
      }
     },
     "metadata": {},
     "output_type": "display_data"
    }
   ],
   "source": [
    "fig=px.bar(city_annual_avg, x='City', y='CO' , color='Year', title='Annual Average Carbon Monoxide (CO) Readings for each City, 2015-2020')\n",
    "fig.show()"
   ]
  },
  {
   "cell_type": "code",
   "execution_count": null,
   "id": "e51f3d1c",
   "metadata": {
    "execution": {
     "iopub.execute_input": "2023-05-10T11:43:51.019909Z",
     "iopub.status.busy": "2023-05-10T11:43:51.019449Z",
     "iopub.status.idle": "2023-05-10T11:43:51.188946Z",
     "shell.execute_reply": "2023-05-10T11:43:51.187661Z"
    },
    "papermill": {
     "duration": 0.203454,
     "end_time": "2023-05-10T11:43:51.191681",
     "exception": false,
     "start_time": "2023-05-10T11:43:50.988227",
     "status": "completed"
    },
    "tags": []
   },
   "outputs": [
    {
     "data": {
      "application/vnd.plotly.v1+json": {
       "config": {
        "plotlyServerURL": "https://plot.ly"
       },
       "data": [
        {
         "alignmentgroup": "True",
         "hovertemplate": "City=Ahmedabad<br>Year=%{x}<br>SO2=%{y}<extra></extra>",
         "legendgroup": "Ahmedabad",
         "marker": {
          "color": "#636efa",
          "pattern": {
           "shape": ""
          }
         },
         "name": "Ahmedabad",
         "offsetgroup": "Ahmedabad",
         "orientation": "v",
         "showlegend": true,
         "textposition": "auto",
         "type": "bar",
         "x": [
          2015,
          2016,
          2017,
          2018,
          2019,
          2020
         ],
         "xaxis": "x",
         "y": [
          29.20767123287679,
          15.638060109289599,
          30.038438356164423,
          69.46876712328772,
          71.19594520547952,
          34.15617486338793
         ],
         "yaxis": "y"
        },
        {
         "alignmentgroup": "True",
         "hovertemplate": "City=Aizawl<br>Year=%{x}<br>SO2=%{y}<extra></extra>",
         "legendgroup": "Aizawl",
         "marker": {
          "color": "#EF553B",
          "pattern": {
           "shape": ""
          }
         },
         "name": "Aizawl",
         "offsetgroup": "Aizawl",
         "orientation": "v",
         "showlegend": true,
         "textposition": "auto",
         "type": "bar",
         "x": [
          2020
         ],
         "xaxis": "x",
         "y": [
          7.378053097345139
         ],
         "yaxis": "y"
        },
        {
         "alignmentgroup": "True",
         "hovertemplate": "City=Amaravati<br>Year=%{x}<br>SO2=%{y}<extra></extra>",
         "legendgroup": "Amaravati",
         "marker": {
          "color": "#00cc96",
          "pattern": {
           "shape": ""
          }
         },
         "name": "Amaravati",
         "offsetgroup": "Amaravati",
         "orientation": "v",
         "showlegend": true,
         "textposition": "auto",
         "type": "bar",
         "x": [
          2017,
          2018,
          2019,
          2020
         ],
         "xaxis": "x",
         "y": [
          15.101842105263161,
          12.153506849315065,
          15.32641095890413,
          16.247540983606562
         ],
         "yaxis": "y"
        },
        {
         "alignmentgroup": "True",
         "hovertemplate": "City=Amritsar<br>Year=%{x}<br>SO2=%{y}<extra></extra>",
         "legendgroup": "Amritsar",
         "marker": {
          "color": "#ab63fa",
          "pattern": {
           "shape": ""
          }
         },
         "name": "Amritsar",
         "offsetgroup": "Amritsar",
         "orientation": "v",
         "showlegend": true,
         "textposition": "auto",
         "type": "bar",
         "x": [
          2017,
          2018,
          2019,
          2020
         ],
         "xaxis": "x",
         "y": [
          7.180909090909092,
          6.0899726027397305,
          12.798410958904118,
          10.469234972677597
         ],
         "yaxis": "y"
        },
        {
         "alignmentgroup": "True",
         "hovertemplate": "City=Bengaluru<br>Year=%{x}<br>SO2=%{y}<extra></extra>",
         "legendgroup": "Bengaluru",
         "marker": {
          "color": "#FFA15A",
          "pattern": {
           "shape": ""
          }
         },
         "name": "Bengaluru",
         "offsetgroup": "Bengaluru",
         "orientation": "v",
         "showlegend": true,
         "textposition": "auto",
         "type": "bar",
         "x": [
          2015,
          2016,
          2017,
          2018,
          2019,
          2020
         ],
         "xaxis": "x",
         "y": [
          6.233671232876708,
          4.907076502732237,
          5.015753424657537,
          5.5577260273972575,
          5.351178082191781,
          6.87431693989071
         ],
         "yaxis": "y"
        },
        {
         "alignmentgroup": "True",
         "hovertemplate": "City=Bhopal<br>Year=%{x}<br>SO2=%{y}<extra></extra>",
         "legendgroup": "Bhopal",
         "marker": {
          "color": "#19d3f3",
          "pattern": {
           "shape": ""
          }
         },
         "name": "Bhopal",
         "offsetgroup": "Bhopal",
         "orientation": "v",
         "showlegend": true,
         "textposition": "auto",
         "type": "bar",
         "x": [
          2019,
          2020
         ],
         "xaxis": "x",
         "y": [
          12.529056603773583,
          13.447213114754106
         ],
         "yaxis": "y"
        },
        {
         "alignmentgroup": "True",
         "hovertemplate": "City=Brajrajnagar<br>Year=%{x}<br>SO2=%{y}<extra></extra>",
         "legendgroup": "Brajrajnagar",
         "marker": {
          "color": "#FF6692",
          "pattern": {
           "shape": ""
          }
         },
         "name": "Brajrajnagar",
         "offsetgroup": "Brajrajnagar",
         "orientation": "v",
         "showlegend": true,
         "textposition": "auto",
         "type": "bar",
         "x": [
          2017,
          2018,
          2019,
          2020
         ],
         "xaxis": "x",
         "y": [
          6.532,
          13.629698630137014,
          9.59865753424658,
          7.929726775956276
         ],
         "yaxis": "y"
        },
        {
         "alignmentgroup": "True",
         "hovertemplate": "City=Chandigarh<br>Year=%{x}<br>SO2=%{y}<extra></extra>",
         "legendgroup": "Chandigarh",
         "marker": {
          "color": "#B6E880",
          "pattern": {
           "shape": ""
          }
         },
         "name": "Chandigarh",
         "offsetgroup": "Chandigarh",
         "orientation": "v",
         "showlegend": true,
         "textposition": "auto",
         "type": "bar",
         "x": [
          2019,
          2020
         ],
         "xaxis": "x",
         "y": [
          10.0806611570248,
          10.21142076502732
         ],
         "yaxis": "y"
        },
        {
         "alignmentgroup": "True",
         "hovertemplate": "City=Chennai<br>Year=%{x}<br>SO2=%{y}<extra></extra>",
         "legendgroup": "Chennai",
         "marker": {
          "color": "#FF97FF",
          "pattern": {
           "shape": ""
          }
         },
         "name": "Chennai",
         "offsetgroup": "Chennai",
         "orientation": "v",
         "showlegend": true,
         "textposition": "auto",
         "type": "bar",
         "x": [
          2015,
          2016,
          2017,
          2018,
          2019,
          2020
         ],
         "xaxis": "x",
         "y": [
          9.828164383561644,
          5.184453551912565,
          7.5296438356164375,
          8.985616438356162,
          8.168164383561644,
          8.582076502732239
         ],
         "yaxis": "y"
        },
        {
         "alignmentgroup": "True",
         "hovertemplate": "City=Coimbatore<br>Year=%{x}<br>SO2=%{y}<extra></extra>",
         "legendgroup": "Coimbatore",
         "marker": {
          "color": "#FECB52",
          "pattern": {
           "shape": ""
          }
         },
         "name": "Coimbatore",
         "offsetgroup": "Coimbatore",
         "orientation": "v",
         "showlegend": true,
         "textposition": "auto",
         "type": "bar",
         "x": [
          2019,
          2020
         ],
         "xaxis": "x",
         "y": [
          9.532857142857141,
          7.666338797814208
         ],
         "yaxis": "y"
        },
        {
         "alignmentgroup": "True",
         "hovertemplate": "City=Delhi<br>Year=%{x}<br>SO2=%{y}<extra></extra>",
         "legendgroup": "Delhi",
         "marker": {
          "color": "#636efa",
          "pattern": {
           "shape": ""
          }
         },
         "name": "Delhi",
         "offsetgroup": "Delhi",
         "orientation": "v",
         "showlegend": true,
         "textposition": "auto",
         "type": "bar",
         "x": [
          2015,
          2016,
          2017,
          2018,
          2019,
          2020
         ],
         "xaxis": "x",
         "y": [
          12.606904109589047,
          18.792021857923505,
          21.009150684931438,
          13.642958904109593,
          14.031205479452048,
          13.912404371584701
         ],
         "yaxis": "y"
        },
        {
         "alignmentgroup": "True",
         "hovertemplate": "City=Ernakulam<br>Year=%{x}<br>SO2=%{y}<extra></extra>",
         "legendgroup": "Ernakulam",
         "marker": {
          "color": "#EF553B",
          "pattern": {
           "shape": ""
          }
         },
         "name": "Ernakulam",
         "offsetgroup": "Ernakulam",
         "orientation": "v",
         "showlegend": true,
         "textposition": "auto",
         "type": "bar",
         "x": [
          2020
         ],
         "xaxis": "x",
         "y": [
          3.4641975308641983
         ],
         "yaxis": "y"
        },
        {
         "alignmentgroup": "True",
         "hovertemplate": "City=Gurugram<br>Year=%{x}<br>SO2=%{y}<extra></extra>",
         "legendgroup": "Gurugram",
         "marker": {
          "color": "#00cc96",
          "pattern": {
           "shape": ""
          }
         },
         "name": "Gurugram",
         "offsetgroup": "Gurugram",
         "orientation": "v",
         "showlegend": true,
         "textposition": "auto",
         "type": "bar",
         "x": [
          2015,
          2016,
          2017,
          2018,
          2019,
          2020
         ],
         "xaxis": "x",
         "y": [
          8.559714285714287,
          8.007923497267763,
          8.76827397260275,
          9.581232876712322,
          13.666547945205469,
          9.801256830601089
         ],
         "yaxis": "y"
        },
        {
         "alignmentgroup": "True",
         "hovertemplate": "City=Guwahati<br>Year=%{x}<br>SO2=%{y}<extra></extra>",
         "legendgroup": "Guwahati",
         "marker": {
          "color": "#ab63fa",
          "pattern": {
           "shape": ""
          }
         },
         "name": "Guwahati",
         "offsetgroup": "Guwahati",
         "orientation": "v",
         "showlegend": true,
         "textposition": "auto",
         "type": "bar",
         "x": [
          2019,
          2020
         ],
         "xaxis": "x",
         "y": [
          14.706959247648896,
          14.58945355191257
         ],
         "yaxis": "y"
        },
        {
         "alignmentgroup": "True",
         "hovertemplate": "City=Hyderabad<br>Year=%{x}<br>SO2=%{y}<extra></extra>",
         "legendgroup": "Hyderabad",
         "marker": {
          "color": "#FFA15A",
          "pattern": {
           "shape": ""
          }
         },
         "name": "Hyderabad",
         "offsetgroup": "Hyderabad",
         "orientation": "v",
         "showlegend": true,
         "textposition": "auto",
         "type": "bar",
         "x": [
          2015,
          2016,
          2017,
          2018,
          2019,
          2020
         ],
         "xaxis": "x",
         "y": [
          7.305662983425417,
          13.137103825136613,
          11.000986301369872,
          8.95479452054794,
          7.109808219178088,
          6.611803278688525
         ],
         "yaxis": "y"
        },
        {
         "alignmentgroup": "True",
         "hovertemplate": "City=Jaipur<br>Year=%{x}<br>SO2=%{y}<extra></extra>",
         "legendgroup": "Jaipur",
         "marker": {
          "color": "#19d3f3",
          "pattern": {
           "shape": ""
          }
         },
         "name": "Jaipur",
         "offsetgroup": "Jaipur",
         "orientation": "v",
         "showlegend": true,
         "textposition": "auto",
         "type": "bar",
         "x": [
          2017,
          2018,
          2019,
          2020
         ],
         "xaxis": "x",
         "y": [
          8.950597014925373,
          10.847671232876712,
          12.077369863013708,
          12.065355191256836
         ],
         "yaxis": "y"
        },
        {
         "alignmentgroup": "True",
         "hovertemplate": "City=Jorapokhar<br>Year=%{x}<br>SO2=%{y}<extra></extra>",
         "legendgroup": "Jorapokhar",
         "marker": {
          "color": "#FF6692",
          "pattern": {
           "shape": ""
          }
         },
         "name": "Jorapokhar",
         "offsetgroup": "Jorapokhar",
         "orientation": "v",
         "showlegend": true,
         "textposition": "auto",
         "type": "bar",
         "x": [
          2017,
          2018,
          2019,
          2020
         ],
         "xaxis": "x",
         "y": [
          24.09835937500002,
          39.3850136986303,
          19.1548219178082,
          27.790000000000028
         ],
         "yaxis": "y"
        },
        {
         "alignmentgroup": "True",
         "hovertemplate": "City=Kochi<br>Year=%{x}<br>SO2=%{y}<extra></extra>",
         "legendgroup": "Kochi",
         "marker": {
          "color": "#B6E880",
          "pattern": {
           "shape": ""
          }
         },
         "name": "Kochi",
         "offsetgroup": "Kochi",
         "orientation": "v",
         "showlegend": true,
         "textposition": "auto",
         "type": "bar",
         "x": [
          2020
         ],
         "xaxis": "x",
         "y": [
          17.595987654320993
         ],
         "yaxis": "y"
        },
        {
         "alignmentgroup": "True",
         "hovertemplate": "City=Kolkata<br>Year=%{x}<br>SO2=%{y}<extra></extra>",
         "legendgroup": "Kolkata",
         "marker": {
          "color": "#FF97FF",
          "pattern": {
           "shape": ""
          }
         },
         "name": "Kolkata",
         "offsetgroup": "Kolkata",
         "orientation": "v",
         "showlegend": true,
         "textposition": "auto",
         "type": "bar",
         "x": [
          2018,
          2019,
          2020
         ],
         "xaxis": "x",
         "y": [
          9.045939849624055,
          8.137890410958901,
          10.02825136612022
         ],
         "yaxis": "y"
        },
        {
         "alignmentgroup": "True",
         "hovertemplate": "City=Lucknow<br>Year=%{x}<br>SO2=%{y}<extra></extra>",
         "legendgroup": "Lucknow",
         "marker": {
          "color": "#FECB52",
          "pattern": {
           "shape": ""
          }
         },
         "name": "Lucknow",
         "offsetgroup": "Lucknow",
         "orientation": "v",
         "showlegend": true,
         "textposition": "auto",
         "type": "bar",
         "x": [
          2015,
          2016,
          2017,
          2018,
          2019,
          2020
         ],
         "xaxis": "x",
         "y": [
          20.415616438356164,
          7.2024316939890705,
          7.293342465753422,
          9.08465753424658,
          7.684630136986295,
          7.712513661202187
         ],
         "yaxis": "y"
        },
        {
         "alignmentgroup": "True",
         "hovertemplate": "City=Mumbai<br>Year=%{x}<br>SO2=%{y}<extra></extra>",
         "legendgroup": "Mumbai",
         "marker": {
          "color": "#636efa",
          "pattern": {
           "shape": ""
          }
         },
         "name": "Mumbai",
         "offsetgroup": "Mumbai",
         "orientation": "v",
         "showlegend": true,
         "textposition": "auto",
         "type": "bar",
         "x": [
          2015,
          2016,
          2017,
          2018,
          2019,
          2020
         ],
         "xaxis": "x",
         "y": [
          14.53000000000001,
          14.530000000000008,
          14.991424657534257,
          17.6253424657534,
          14.177369863013704,
          11.0172131147541
         ],
         "yaxis": "y"
        },
        {
         "alignmentgroup": "True",
         "hovertemplate": "City=Patna<br>Year=%{x}<br>SO2=%{y}<extra></extra>",
         "legendgroup": "Patna",
         "marker": {
          "color": "#EF553B",
          "pattern": {
           "shape": ""
          }
         },
         "name": "Patna",
         "offsetgroup": "Patna",
         "orientation": "v",
         "showlegend": true,
         "textposition": "auto",
         "type": "bar",
         "x": [
          2015,
          2016,
          2017,
          2018,
          2019,
          2020
         ],
         "xaxis": "x",
         "y": [
          7.096168224299067,
          6.652896174863387,
          14.362383561643865,
          37.51375342465753,
          41.36978082191781,
          8.608633879781422
         ],
         "yaxis": "y"
        },
        {
         "alignmentgroup": "True",
         "hovertemplate": "City=Shillong<br>Year=%{x}<br>SO2=%{y}<extra></extra>",
         "legendgroup": "Shillong",
         "marker": {
          "color": "#00cc96",
          "pattern": {
           "shape": ""
          }
         },
         "name": "Shillong",
         "offsetgroup": "Shillong",
         "orientation": "v",
         "showlegend": true,
         "textposition": "auto",
         "type": "bar",
         "x": [
          2019,
          2020
         ],
         "xaxis": "x",
         "y": [
          7.171811023622044,
          8.578797814207649
         ],
         "yaxis": "y"
        },
        {
         "alignmentgroup": "True",
         "hovertemplate": "City=Talcher<br>Year=%{x}<br>SO2=%{y}<extra></extra>",
         "legendgroup": "Talcher",
         "marker": {
          "color": "#ab63fa",
          "pattern": {
           "shape": ""
          }
         },
         "name": "Talcher",
         "offsetgroup": "Talcher",
         "orientation": "v",
         "showlegend": true,
         "textposition": "auto",
         "type": "bar",
         "x": [
          2017,
          2018,
          2019,
          2020
         ],
         "xaxis": "x",
         "y": [
          14.53,
          27.231945205479462,
          26.59290410958905,
          21.071092896174918
         ],
         "yaxis": "y"
        },
        {
         "alignmentgroup": "True",
         "hovertemplate": "City=Thiruvananthapuram<br>Year=%{x}<br>SO2=%{y}<extra></extra>",
         "legendgroup": "Thiruvananthapuram",
         "marker": {
          "color": "#FFA15A",
          "pattern": {
           "shape": ""
          }
         },
         "name": "Thiruvananthapuram",
         "offsetgroup": "Thiruvananthapuram",
         "orientation": "v",
         "showlegend": true,
         "textposition": "auto",
         "type": "bar",
         "x": [
          2017,
          2018,
          2019,
          2020
         ],
         "xaxis": "x",
         "y": [
          5.037336683417085,
          6.99917808219178,
          4.889808219178085,
          6.684480874316936
         ],
         "yaxis": "y"
        },
        {
         "alignmentgroup": "True",
         "hovertemplate": "City=Visakhapatnam<br>Year=%{x}<br>SO2=%{y}<extra></extra>",
         "legendgroup": "Visakhapatnam",
         "marker": {
          "color": "#19d3f3",
          "pattern": {
           "shape": ""
          }
         },
         "name": "Visakhapatnam",
         "offsetgroup": "Visakhapatnam",
         "orientation": "v",
         "showlegend": true,
         "textposition": "auto",
         "type": "bar",
         "x": [
          2016,
          2017,
          2018,
          2019,
          2020
         ],
         "xaxis": "x",
         "y": [
          21.36494565217393,
          12.528520547945265,
          11.423698630136993,
          13.007835616438358,
          8.262459016393441
         ],
         "yaxis": "y"
        }
       ],
       "layout": {
        "barmode": "group",
        "legend": {
         "title": {
          "text": "City"
         },
         "tracegroupgap": 0
        },
        "template": {
         "data": {
          "bar": [
           {
            "error_x": {
             "color": "#2a3f5f"
            },
            "error_y": {
             "color": "#2a3f5f"
            },
            "marker": {
             "line": {
              "color": "#E5ECF6",
              "width": 0.5
             },
             "pattern": {
              "fillmode": "overlay",
              "size": 10,
              "solidity": 0.2
             }
            },
            "type": "bar"
           }
          ],
          "barpolar": [
           {
            "marker": {
             "line": {
              "color": "#E5ECF6",
              "width": 0.5
             },
             "pattern": {
              "fillmode": "overlay",
              "size": 10,
              "solidity": 0.2
             }
            },
            "type": "barpolar"
           }
          ],
          "carpet": [
           {
            "aaxis": {
             "endlinecolor": "#2a3f5f",
             "gridcolor": "white",
             "linecolor": "white",
             "minorgridcolor": "white",
             "startlinecolor": "#2a3f5f"
            },
            "baxis": {
             "endlinecolor": "#2a3f5f",
             "gridcolor": "white",
             "linecolor": "white",
             "minorgridcolor": "white",
             "startlinecolor": "#2a3f5f"
            },
            "type": "carpet"
           }
          ],
          "choropleth": [
           {
            "colorbar": {
             "outlinewidth": 0,
             "ticks": ""
            },
            "type": "choropleth"
           }
          ],
          "contour": [
           {
            "colorbar": {
             "outlinewidth": 0,
             "ticks": ""
            },
            "colorscale": [
             [
              0,
              "#0d0887"
             ],
             [
              0.1111111111111111,
              "#46039f"
             ],
             [
              0.2222222222222222,
              "#7201a8"
             ],
             [
              0.3333333333333333,
              "#9c179e"
             ],
             [
              0.4444444444444444,
              "#bd3786"
             ],
             [
              0.5555555555555556,
              "#d8576b"
             ],
             [
              0.6666666666666666,
              "#ed7953"
             ],
             [
              0.7777777777777778,
              "#fb9f3a"
             ],
             [
              0.8888888888888888,
              "#fdca26"
             ],
             [
              1,
              "#f0f921"
             ]
            ],
            "type": "contour"
           }
          ],
          "contourcarpet": [
           {
            "colorbar": {
             "outlinewidth": 0,
             "ticks": ""
            },
            "type": "contourcarpet"
           }
          ],
          "heatmap": [
           {
            "colorbar": {
             "outlinewidth": 0,
             "ticks": ""
            },
            "colorscale": [
             [
              0,
              "#0d0887"
             ],
             [
              0.1111111111111111,
              "#46039f"
             ],
             [
              0.2222222222222222,
              "#7201a8"
             ],
             [
              0.3333333333333333,
              "#9c179e"
             ],
             [
              0.4444444444444444,
              "#bd3786"
             ],
             [
              0.5555555555555556,
              "#d8576b"
             ],
             [
              0.6666666666666666,
              "#ed7953"
             ],
             [
              0.7777777777777778,
              "#fb9f3a"
             ],
             [
              0.8888888888888888,
              "#fdca26"
             ],
             [
              1,
              "#f0f921"
             ]
            ],
            "type": "heatmap"
           }
          ],
          "heatmapgl": [
           {
            "colorbar": {
             "outlinewidth": 0,
             "ticks": ""
            },
            "colorscale": [
             [
              0,
              "#0d0887"
             ],
             [
              0.1111111111111111,
              "#46039f"
             ],
             [
              0.2222222222222222,
              "#7201a8"
             ],
             [
              0.3333333333333333,
              "#9c179e"
             ],
             [
              0.4444444444444444,
              "#bd3786"
             ],
             [
              0.5555555555555556,
              "#d8576b"
             ],
             [
              0.6666666666666666,
              "#ed7953"
             ],
             [
              0.7777777777777778,
              "#fb9f3a"
             ],
             [
              0.8888888888888888,
              "#fdca26"
             ],
             [
              1,
              "#f0f921"
             ]
            ],
            "type": "heatmapgl"
           }
          ],
          "histogram": [
           {
            "marker": {
             "pattern": {
              "fillmode": "overlay",
              "size": 10,
              "solidity": 0.2
             }
            },
            "type": "histogram"
           }
          ],
          "histogram2d": [
           {
            "colorbar": {
             "outlinewidth": 0,
             "ticks": ""
            },
            "colorscale": [
             [
              0,
              "#0d0887"
             ],
             [
              0.1111111111111111,
              "#46039f"
             ],
             [
              0.2222222222222222,
              "#7201a8"
             ],
             [
              0.3333333333333333,
              "#9c179e"
             ],
             [
              0.4444444444444444,
              "#bd3786"
             ],
             [
              0.5555555555555556,
              "#d8576b"
             ],
             [
              0.6666666666666666,
              "#ed7953"
             ],
             [
              0.7777777777777778,
              "#fb9f3a"
             ],
             [
              0.8888888888888888,
              "#fdca26"
             ],
             [
              1,
              "#f0f921"
             ]
            ],
            "type": "histogram2d"
           }
          ],
          "histogram2dcontour": [
           {
            "colorbar": {
             "outlinewidth": 0,
             "ticks": ""
            },
            "colorscale": [
             [
              0,
              "#0d0887"
             ],
             [
              0.1111111111111111,
              "#46039f"
             ],
             [
              0.2222222222222222,
              "#7201a8"
             ],
             [
              0.3333333333333333,
              "#9c179e"
             ],
             [
              0.4444444444444444,
              "#bd3786"
             ],
             [
              0.5555555555555556,
              "#d8576b"
             ],
             [
              0.6666666666666666,
              "#ed7953"
             ],
             [
              0.7777777777777778,
              "#fb9f3a"
             ],
             [
              0.8888888888888888,
              "#fdca26"
             ],
             [
              1,
              "#f0f921"
             ]
            ],
            "type": "histogram2dcontour"
           }
          ],
          "mesh3d": [
           {
            "colorbar": {
             "outlinewidth": 0,
             "ticks": ""
            },
            "type": "mesh3d"
           }
          ],
          "parcoords": [
           {
            "line": {
             "colorbar": {
              "outlinewidth": 0,
              "ticks": ""
             }
            },
            "type": "parcoords"
           }
          ],
          "pie": [
           {
            "automargin": true,
            "type": "pie"
           }
          ],
          "scatter": [
           {
            "fillpattern": {
             "fillmode": "overlay",
             "size": 10,
             "solidity": 0.2
            },
            "type": "scatter"
           }
          ],
          "scatter3d": [
           {
            "line": {
             "colorbar": {
              "outlinewidth": 0,
              "ticks": ""
             }
            },
            "marker": {
             "colorbar": {
              "outlinewidth": 0,
              "ticks": ""
             }
            },
            "type": "scatter3d"
           }
          ],
          "scattercarpet": [
           {
            "marker": {
             "colorbar": {
              "outlinewidth": 0,
              "ticks": ""
             }
            },
            "type": "scattercarpet"
           }
          ],
          "scattergeo": [
           {
            "marker": {
             "colorbar": {
              "outlinewidth": 0,
              "ticks": ""
             }
            },
            "type": "scattergeo"
           }
          ],
          "scattergl": [
           {
            "marker": {
             "colorbar": {
              "outlinewidth": 0,
              "ticks": ""
             }
            },
            "type": "scattergl"
           }
          ],
          "scattermapbox": [
           {
            "marker": {
             "colorbar": {
              "outlinewidth": 0,
              "ticks": ""
             }
            },
            "type": "scattermapbox"
           }
          ],
          "scatterpolar": [
           {
            "marker": {
             "colorbar": {
              "outlinewidth": 0,
              "ticks": ""
             }
            },
            "type": "scatterpolar"
           }
          ],
          "scatterpolargl": [
           {
            "marker": {
             "colorbar": {
              "outlinewidth": 0,
              "ticks": ""
             }
            },
            "type": "scatterpolargl"
           }
          ],
          "scatterternary": [
           {
            "marker": {
             "colorbar": {
              "outlinewidth": 0,
              "ticks": ""
             }
            },
            "type": "scatterternary"
           }
          ],
          "surface": [
           {
            "colorbar": {
             "outlinewidth": 0,
             "ticks": ""
            },
            "colorscale": [
             [
              0,
              "#0d0887"
             ],
             [
              0.1111111111111111,
              "#46039f"
             ],
             [
              0.2222222222222222,
              "#7201a8"
             ],
             [
              0.3333333333333333,
              "#9c179e"
             ],
             [
              0.4444444444444444,
              "#bd3786"
             ],
             [
              0.5555555555555556,
              "#d8576b"
             ],
             [
              0.6666666666666666,
              "#ed7953"
             ],
             [
              0.7777777777777778,
              "#fb9f3a"
             ],
             [
              0.8888888888888888,
              "#fdca26"
             ],
             [
              1,
              "#f0f921"
             ]
            ],
            "type": "surface"
           }
          ],
          "table": [
           {
            "cells": {
             "fill": {
              "color": "#EBF0F8"
             },
             "line": {
              "color": "white"
             }
            },
            "header": {
             "fill": {
              "color": "#C8D4E3"
             },
             "line": {
              "color": "white"
             }
            },
            "type": "table"
           }
          ]
         },
         "layout": {
          "annotationdefaults": {
           "arrowcolor": "#2a3f5f",
           "arrowhead": 0,
           "arrowwidth": 1
          },
          "autotypenumbers": "strict",
          "coloraxis": {
           "colorbar": {
            "outlinewidth": 0,
            "ticks": ""
           }
          },
          "colorscale": {
           "diverging": [
            [
             0,
             "#8e0152"
            ],
            [
             0.1,
             "#c51b7d"
            ],
            [
             0.2,
             "#de77ae"
            ],
            [
             0.3,
             "#f1b6da"
            ],
            [
             0.4,
             "#fde0ef"
            ],
            [
             0.5,
             "#f7f7f7"
            ],
            [
             0.6,
             "#e6f5d0"
            ],
            [
             0.7,
             "#b8e186"
            ],
            [
             0.8,
             "#7fbc41"
            ],
            [
             0.9,
             "#4d9221"
            ],
            [
             1,
             "#276419"
            ]
           ],
           "sequential": [
            [
             0,
             "#0d0887"
            ],
            [
             0.1111111111111111,
             "#46039f"
            ],
            [
             0.2222222222222222,
             "#7201a8"
            ],
            [
             0.3333333333333333,
             "#9c179e"
            ],
            [
             0.4444444444444444,
             "#bd3786"
            ],
            [
             0.5555555555555556,
             "#d8576b"
            ],
            [
             0.6666666666666666,
             "#ed7953"
            ],
            [
             0.7777777777777778,
             "#fb9f3a"
            ],
            [
             0.8888888888888888,
             "#fdca26"
            ],
            [
             1,
             "#f0f921"
            ]
           ],
           "sequentialminus": [
            [
             0,
             "#0d0887"
            ],
            [
             0.1111111111111111,
             "#46039f"
            ],
            [
             0.2222222222222222,
             "#7201a8"
            ],
            [
             0.3333333333333333,
             "#9c179e"
            ],
            [
             0.4444444444444444,
             "#bd3786"
            ],
            [
             0.5555555555555556,
             "#d8576b"
            ],
            [
             0.6666666666666666,
             "#ed7953"
            ],
            [
             0.7777777777777778,
             "#fb9f3a"
            ],
            [
             0.8888888888888888,
             "#fdca26"
            ],
            [
             1,
             "#f0f921"
            ]
           ]
          },
          "colorway": [
           "#636efa",
           "#EF553B",
           "#00cc96",
           "#ab63fa",
           "#FFA15A",
           "#19d3f3",
           "#FF6692",
           "#B6E880",
           "#FF97FF",
           "#FECB52"
          ],
          "font": {
           "color": "#2a3f5f"
          },
          "geo": {
           "bgcolor": "white",
           "lakecolor": "white",
           "landcolor": "#E5ECF6",
           "showlakes": true,
           "showland": true,
           "subunitcolor": "white"
          },
          "hoverlabel": {
           "align": "left"
          },
          "hovermode": "closest",
          "mapbox": {
           "style": "light"
          },
          "paper_bgcolor": "white",
          "plot_bgcolor": "#E5ECF6",
          "polar": {
           "angularaxis": {
            "gridcolor": "white",
            "linecolor": "white",
            "ticks": ""
           },
           "bgcolor": "#E5ECF6",
           "radialaxis": {
            "gridcolor": "white",
            "linecolor": "white",
            "ticks": ""
           }
          },
          "scene": {
           "xaxis": {
            "backgroundcolor": "#E5ECF6",
            "gridcolor": "white",
            "gridwidth": 2,
            "linecolor": "white",
            "showbackground": true,
            "ticks": "",
            "zerolinecolor": "white"
           },
           "yaxis": {
            "backgroundcolor": "#E5ECF6",
            "gridcolor": "white",
            "gridwidth": 2,
            "linecolor": "white",
            "showbackground": true,
            "ticks": "",
            "zerolinecolor": "white"
           },
           "zaxis": {
            "backgroundcolor": "#E5ECF6",
            "gridcolor": "white",
            "gridwidth": 2,
            "linecolor": "white",
            "showbackground": true,
            "ticks": "",
            "zerolinecolor": "white"
           }
          },
          "shapedefaults": {
           "line": {
            "color": "#2a3f5f"
           }
          },
          "ternary": {
           "aaxis": {
            "gridcolor": "white",
            "linecolor": "white",
            "ticks": ""
           },
           "baxis": {
            "gridcolor": "white",
            "linecolor": "white",
            "ticks": ""
           },
           "bgcolor": "#E5ECF6",
           "caxis": {
            "gridcolor": "white",
            "linecolor": "white",
            "ticks": ""
           }
          },
          "title": {
           "x": 0.05
          },
          "xaxis": {
           "automargin": true,
           "gridcolor": "white",
           "linecolor": "white",
           "ticks": "",
           "title": {
            "standoff": 15
           },
           "zerolinecolor": "white",
           "zerolinewidth": 2
          },
          "yaxis": {
           "automargin": true,
           "gridcolor": "white",
           "linecolor": "white",
           "ticks": "",
           "title": {
            "standoff": 15
           },
           "zerolinecolor": "white",
           "zerolinewidth": 2
          }
         }
        },
        "title": {
         "text": "Sulfur Dioxide (SO2) average readings for each city between 2015 - 2020"
        },
        "xaxis": {
         "anchor": "y",
         "domain": [
          0,
          1
         ],
         "title": {
          "text": "Year"
         }
        },
        "yaxis": {
         "anchor": "x",
         "domain": [
          0,
          1
         ],
         "title": {
          "text": "SO2"
         }
        }
       }
      }
     },
     "metadata": {},
     "output_type": "display_data"
    }
   ],
   "source": [
    "fig=px.bar(city_annual_avg, x='Year', y='SO2', color='City', barmode='group', title='Sulfur Dioxide (SO2) average readings for each city between 2015 - 2020')\n",
    "fig.show()"
   ]
  },
  {
   "cell_type": "code",
   "execution_count": null,
   "id": "bda78a18",
   "metadata": {
    "execution": {
     "iopub.execute_input": "2023-05-10T11:43:51.253379Z",
     "iopub.status.busy": "2023-05-10T11:43:51.252509Z",
     "iopub.status.idle": "2023-05-10T11:43:51.316759Z",
     "shell.execute_reply": "2023-05-10T11:43:51.315512Z"
    },
    "papermill": {
     "duration": 0.098097,
     "end_time": "2023-05-10T11:43:51.319461",
     "exception": false,
     "start_time": "2023-05-10T11:43:51.221364",
     "status": "completed"
    },
    "tags": []
   },
   "outputs": [
    {
     "data": {
      "application/vnd.plotly.v1+json": {
       "config": {
        "plotlyServerURL": "https://plot.ly"
       },
       "data": [
        {
         "alignmentgroup": "True",
         "hovertemplate": "City=%{x}<br>SO2=%{y}<br>Year=%{marker.color}<extra></extra>",
         "legendgroup": "",
         "marker": {
          "color": [
           2015,
           2016,
           2017,
           2018,
           2019,
           2020,
           2020,
           2017,
           2018,
           2019,
           2020,
           2017,
           2018,
           2019,
           2020,
           2015,
           2016,
           2017,
           2018,
           2019,
           2020,
           2019,
           2020,
           2017,
           2018,
           2019,
           2020,
           2019,
           2020,
           2015,
           2016,
           2017,
           2018,
           2019,
           2020,
           2019,
           2020,
           2015,
           2016,
           2017,
           2018,
           2019,
           2020,
           2020,
           2015,
           2016,
           2017,
           2018,
           2019,
           2020,
           2019,
           2020,
           2015,
           2016,
           2017,
           2018,
           2019,
           2020,
           2017,
           2018,
           2019,
           2020,
           2017,
           2018,
           2019,
           2020,
           2020,
           2018,
           2019,
           2020,
           2015,
           2016,
           2017,
           2018,
           2019,
           2020,
           2015,
           2016,
           2017,
           2018,
           2019,
           2020,
           2015,
           2016,
           2017,
           2018,
           2019,
           2020,
           2019,
           2020,
           2017,
           2018,
           2019,
           2020,
           2017,
           2018,
           2019,
           2020,
           2016,
           2017,
           2018,
           2019,
           2020
          ],
          "coloraxis": "coloraxis",
          "pattern": {
           "shape": ""
          }
         },
         "name": "",
         "offsetgroup": "",
         "orientation": "v",
         "showlegend": false,
         "textposition": "auto",
         "type": "bar",
         "x": [
          "Ahmedabad",
          "Ahmedabad",
          "Ahmedabad",
          "Ahmedabad",
          "Ahmedabad",
          "Ahmedabad",
          "Aizawl",
          "Amaravati",
          "Amaravati",
          "Amaravati",
          "Amaravati",
          "Amritsar",
          "Amritsar",
          "Amritsar",
          "Amritsar",
          "Bengaluru",
          "Bengaluru",
          "Bengaluru",
          "Bengaluru",
          "Bengaluru",
          "Bengaluru",
          "Bhopal",
          "Bhopal",
          "Brajrajnagar",
          "Brajrajnagar",
          "Brajrajnagar",
          "Brajrajnagar",
          "Chandigarh",
          "Chandigarh",
          "Chennai",
          "Chennai",
          "Chennai",
          "Chennai",
          "Chennai",
          "Chennai",
          "Coimbatore",
          "Coimbatore",
          "Delhi",
          "Delhi",
          "Delhi",
          "Delhi",
          "Delhi",
          "Delhi",
          "Ernakulam",
          "Gurugram",
          "Gurugram",
          "Gurugram",
          "Gurugram",
          "Gurugram",
          "Gurugram",
          "Guwahati",
          "Guwahati",
          "Hyderabad",
          "Hyderabad",
          "Hyderabad",
          "Hyderabad",
          "Hyderabad",
          "Hyderabad",
          "Jaipur",
          "Jaipur",
          "Jaipur",
          "Jaipur",
          "Jorapokhar",
          "Jorapokhar",
          "Jorapokhar",
          "Jorapokhar",
          "Kochi",
          "Kolkata",
          "Kolkata",
          "Kolkata",
          "Lucknow",
          "Lucknow",
          "Lucknow",
          "Lucknow",
          "Lucknow",
          "Lucknow",
          "Mumbai",
          "Mumbai",
          "Mumbai",
          "Mumbai",
          "Mumbai",
          "Mumbai",
          "Patna",
          "Patna",
          "Patna",
          "Patna",
          "Patna",
          "Patna",
          "Shillong",
          "Shillong",
          "Talcher",
          "Talcher",
          "Talcher",
          "Talcher",
          "Thiruvananthapuram",
          "Thiruvananthapuram",
          "Thiruvananthapuram",
          "Thiruvananthapuram",
          "Visakhapatnam",
          "Visakhapatnam",
          "Visakhapatnam",
          "Visakhapatnam",
          "Visakhapatnam"
         ],
         "xaxis": "x",
         "y": [
          29.20767123287679,
          15.638060109289599,
          30.038438356164423,
          69.46876712328772,
          71.19594520547952,
          34.15617486338793,
          7.378053097345139,
          15.101842105263161,
          12.153506849315065,
          15.32641095890413,
          16.247540983606562,
          7.180909090909092,
          6.0899726027397305,
          12.798410958904118,
          10.469234972677597,
          6.233671232876708,
          4.907076502732237,
          5.015753424657537,
          5.5577260273972575,
          5.351178082191781,
          6.87431693989071,
          12.529056603773583,
          13.447213114754106,
          6.532,
          13.629698630137014,
          9.59865753424658,
          7.929726775956276,
          10.0806611570248,
          10.21142076502732,
          9.828164383561644,
          5.184453551912565,
          7.5296438356164375,
          8.985616438356162,
          8.168164383561644,
          8.582076502732239,
          9.532857142857141,
          7.666338797814208,
          12.606904109589047,
          18.792021857923505,
          21.009150684931438,
          13.642958904109593,
          14.031205479452048,
          13.912404371584701,
          3.4641975308641983,
          8.559714285714287,
          8.007923497267763,
          8.76827397260275,
          9.581232876712322,
          13.666547945205469,
          9.801256830601089,
          14.706959247648896,
          14.58945355191257,
          7.305662983425417,
          13.137103825136613,
          11.000986301369872,
          8.95479452054794,
          7.109808219178088,
          6.611803278688525,
          8.950597014925373,
          10.847671232876712,
          12.077369863013708,
          12.065355191256836,
          24.09835937500002,
          39.3850136986303,
          19.1548219178082,
          27.790000000000028,
          17.595987654320993,
          9.045939849624055,
          8.137890410958901,
          10.02825136612022,
          20.415616438356164,
          7.2024316939890705,
          7.293342465753422,
          9.08465753424658,
          7.684630136986295,
          7.712513661202187,
          14.53000000000001,
          14.530000000000008,
          14.991424657534257,
          17.6253424657534,
          14.177369863013704,
          11.0172131147541,
          7.096168224299067,
          6.652896174863387,
          14.362383561643865,
          37.51375342465753,
          41.36978082191781,
          8.608633879781422,
          7.171811023622044,
          8.578797814207649,
          14.53,
          27.231945205479462,
          26.59290410958905,
          21.071092896174918,
          5.037336683417085,
          6.99917808219178,
          4.889808219178085,
          6.684480874316936,
          21.36494565217393,
          12.528520547945265,
          11.423698630136993,
          13.007835616438358,
          8.262459016393441
         ],
         "yaxis": "y"
        }
       ],
       "layout": {
        "barmode": "relative",
        "coloraxis": {
         "colorbar": {
          "title": {
           "text": "Year"
          }
         },
         "colorscale": [
          [
           0,
           "#0d0887"
          ],
          [
           0.1111111111111111,
           "#46039f"
          ],
          [
           0.2222222222222222,
           "#7201a8"
          ],
          [
           0.3333333333333333,
           "#9c179e"
          ],
          [
           0.4444444444444444,
           "#bd3786"
          ],
          [
           0.5555555555555556,
           "#d8576b"
          ],
          [
           0.6666666666666666,
           "#ed7953"
          ],
          [
           0.7777777777777778,
           "#fb9f3a"
          ],
          [
           0.8888888888888888,
           "#fdca26"
          ],
          [
           1,
           "#f0f921"
          ]
         ]
        },
        "legend": {
         "tracegroupgap": 0
        },
        "template": {
         "data": {
          "bar": [
           {
            "error_x": {
             "color": "#2a3f5f"
            },
            "error_y": {
             "color": "#2a3f5f"
            },
            "marker": {
             "line": {
              "color": "#E5ECF6",
              "width": 0.5
             },
             "pattern": {
              "fillmode": "overlay",
              "size": 10,
              "solidity": 0.2
             }
            },
            "type": "bar"
           }
          ],
          "barpolar": [
           {
            "marker": {
             "line": {
              "color": "#E5ECF6",
              "width": 0.5
             },
             "pattern": {
              "fillmode": "overlay",
              "size": 10,
              "solidity": 0.2
             }
            },
            "type": "barpolar"
           }
          ],
          "carpet": [
           {
            "aaxis": {
             "endlinecolor": "#2a3f5f",
             "gridcolor": "white",
             "linecolor": "white",
             "minorgridcolor": "white",
             "startlinecolor": "#2a3f5f"
            },
            "baxis": {
             "endlinecolor": "#2a3f5f",
             "gridcolor": "white",
             "linecolor": "white",
             "minorgridcolor": "white",
             "startlinecolor": "#2a3f5f"
            },
            "type": "carpet"
           }
          ],
          "choropleth": [
           {
            "colorbar": {
             "outlinewidth": 0,
             "ticks": ""
            },
            "type": "choropleth"
           }
          ],
          "contour": [
           {
            "colorbar": {
             "outlinewidth": 0,
             "ticks": ""
            },
            "colorscale": [
             [
              0,
              "#0d0887"
             ],
             [
              0.1111111111111111,
              "#46039f"
             ],
             [
              0.2222222222222222,
              "#7201a8"
             ],
             [
              0.3333333333333333,
              "#9c179e"
             ],
             [
              0.4444444444444444,
              "#bd3786"
             ],
             [
              0.5555555555555556,
              "#d8576b"
             ],
             [
              0.6666666666666666,
              "#ed7953"
             ],
             [
              0.7777777777777778,
              "#fb9f3a"
             ],
             [
              0.8888888888888888,
              "#fdca26"
             ],
             [
              1,
              "#f0f921"
             ]
            ],
            "type": "contour"
           }
          ],
          "contourcarpet": [
           {
            "colorbar": {
             "outlinewidth": 0,
             "ticks": ""
            },
            "type": "contourcarpet"
           }
          ],
          "heatmap": [
           {
            "colorbar": {
             "outlinewidth": 0,
             "ticks": ""
            },
            "colorscale": [
             [
              0,
              "#0d0887"
             ],
             [
              0.1111111111111111,
              "#46039f"
             ],
             [
              0.2222222222222222,
              "#7201a8"
             ],
             [
              0.3333333333333333,
              "#9c179e"
             ],
             [
              0.4444444444444444,
              "#bd3786"
             ],
             [
              0.5555555555555556,
              "#d8576b"
             ],
             [
              0.6666666666666666,
              "#ed7953"
             ],
             [
              0.7777777777777778,
              "#fb9f3a"
             ],
             [
              0.8888888888888888,
              "#fdca26"
             ],
             [
              1,
              "#f0f921"
             ]
            ],
            "type": "heatmap"
           }
          ],
          "heatmapgl": [
           {
            "colorbar": {
             "outlinewidth": 0,
             "ticks": ""
            },
            "colorscale": [
             [
              0,
              "#0d0887"
             ],
             [
              0.1111111111111111,
              "#46039f"
             ],
             [
              0.2222222222222222,
              "#7201a8"
             ],
             [
              0.3333333333333333,
              "#9c179e"
             ],
             [
              0.4444444444444444,
              "#bd3786"
             ],
             [
              0.5555555555555556,
              "#d8576b"
             ],
             [
              0.6666666666666666,
              "#ed7953"
             ],
             [
              0.7777777777777778,
              "#fb9f3a"
             ],
             [
              0.8888888888888888,
              "#fdca26"
             ],
             [
              1,
              "#f0f921"
             ]
            ],
            "type": "heatmapgl"
           }
          ],
          "histogram": [
           {
            "marker": {
             "pattern": {
              "fillmode": "overlay",
              "size": 10,
              "solidity": 0.2
             }
            },
            "type": "histogram"
           }
          ],
          "histogram2d": [
           {
            "colorbar": {
             "outlinewidth": 0,
             "ticks": ""
            },
            "colorscale": [
             [
              0,
              "#0d0887"
             ],
             [
              0.1111111111111111,
              "#46039f"
             ],
             [
              0.2222222222222222,
              "#7201a8"
             ],
             [
              0.3333333333333333,
              "#9c179e"
             ],
             [
              0.4444444444444444,
              "#bd3786"
             ],
             [
              0.5555555555555556,
              "#d8576b"
             ],
             [
              0.6666666666666666,
              "#ed7953"
             ],
             [
              0.7777777777777778,
              "#fb9f3a"
             ],
             [
              0.8888888888888888,
              "#fdca26"
             ],
             [
              1,
              "#f0f921"
             ]
            ],
            "type": "histogram2d"
           }
          ],
          "histogram2dcontour": [
           {
            "colorbar": {
             "outlinewidth": 0,
             "ticks": ""
            },
            "colorscale": [
             [
              0,
              "#0d0887"
             ],
             [
              0.1111111111111111,
              "#46039f"
             ],
             [
              0.2222222222222222,
              "#7201a8"
             ],
             [
              0.3333333333333333,
              "#9c179e"
             ],
             [
              0.4444444444444444,
              "#bd3786"
             ],
             [
              0.5555555555555556,
              "#d8576b"
             ],
             [
              0.6666666666666666,
              "#ed7953"
             ],
             [
              0.7777777777777778,
              "#fb9f3a"
             ],
             [
              0.8888888888888888,
              "#fdca26"
             ],
             [
              1,
              "#f0f921"
             ]
            ],
            "type": "histogram2dcontour"
           }
          ],
          "mesh3d": [
           {
            "colorbar": {
             "outlinewidth": 0,
             "ticks": ""
            },
            "type": "mesh3d"
           }
          ],
          "parcoords": [
           {
            "line": {
             "colorbar": {
              "outlinewidth": 0,
              "ticks": ""
             }
            },
            "type": "parcoords"
           }
          ],
          "pie": [
           {
            "automargin": true,
            "type": "pie"
           }
          ],
          "scatter": [
           {
            "fillpattern": {
             "fillmode": "overlay",
             "size": 10,
             "solidity": 0.2
            },
            "type": "scatter"
           }
          ],
          "scatter3d": [
           {
            "line": {
             "colorbar": {
              "outlinewidth": 0,
              "ticks": ""
             }
            },
            "marker": {
             "colorbar": {
              "outlinewidth": 0,
              "ticks": ""
             }
            },
            "type": "scatter3d"
           }
          ],
          "scattercarpet": [
           {
            "marker": {
             "colorbar": {
              "outlinewidth": 0,
              "ticks": ""
             }
            },
            "type": "scattercarpet"
           }
          ],
          "scattergeo": [
           {
            "marker": {
             "colorbar": {
              "outlinewidth": 0,
              "ticks": ""
             }
            },
            "type": "scattergeo"
           }
          ],
          "scattergl": [
           {
            "marker": {
             "colorbar": {
              "outlinewidth": 0,
              "ticks": ""
             }
            },
            "type": "scattergl"
           }
          ],
          "scattermapbox": [
           {
            "marker": {
             "colorbar": {
              "outlinewidth": 0,
              "ticks": ""
             }
            },
            "type": "scattermapbox"
           }
          ],
          "scatterpolar": [
           {
            "marker": {
             "colorbar": {
              "outlinewidth": 0,
              "ticks": ""
             }
            },
            "type": "scatterpolar"
           }
          ],
          "scatterpolargl": [
           {
            "marker": {
             "colorbar": {
              "outlinewidth": 0,
              "ticks": ""
             }
            },
            "type": "scatterpolargl"
           }
          ],
          "scatterternary": [
           {
            "marker": {
             "colorbar": {
              "outlinewidth": 0,
              "ticks": ""
             }
            },
            "type": "scatterternary"
           }
          ],
          "surface": [
           {
            "colorbar": {
             "outlinewidth": 0,
             "ticks": ""
            },
            "colorscale": [
             [
              0,
              "#0d0887"
             ],
             [
              0.1111111111111111,
              "#46039f"
             ],
             [
              0.2222222222222222,
              "#7201a8"
             ],
             [
              0.3333333333333333,
              "#9c179e"
             ],
             [
              0.4444444444444444,
              "#bd3786"
             ],
             [
              0.5555555555555556,
              "#d8576b"
             ],
             [
              0.6666666666666666,
              "#ed7953"
             ],
             [
              0.7777777777777778,
              "#fb9f3a"
             ],
             [
              0.8888888888888888,
              "#fdca26"
             ],
             [
              1,
              "#f0f921"
             ]
            ],
            "type": "surface"
           }
          ],
          "table": [
           {
            "cells": {
             "fill": {
              "color": "#EBF0F8"
             },
             "line": {
              "color": "white"
             }
            },
            "header": {
             "fill": {
              "color": "#C8D4E3"
             },
             "line": {
              "color": "white"
             }
            },
            "type": "table"
           }
          ]
         },
         "layout": {
          "annotationdefaults": {
           "arrowcolor": "#2a3f5f",
           "arrowhead": 0,
           "arrowwidth": 1
          },
          "autotypenumbers": "strict",
          "coloraxis": {
           "colorbar": {
            "outlinewidth": 0,
            "ticks": ""
           }
          },
          "colorscale": {
           "diverging": [
            [
             0,
             "#8e0152"
            ],
            [
             0.1,
             "#c51b7d"
            ],
            [
             0.2,
             "#de77ae"
            ],
            [
             0.3,
             "#f1b6da"
            ],
            [
             0.4,
             "#fde0ef"
            ],
            [
             0.5,
             "#f7f7f7"
            ],
            [
             0.6,
             "#e6f5d0"
            ],
            [
             0.7,
             "#b8e186"
            ],
            [
             0.8,
             "#7fbc41"
            ],
            [
             0.9,
             "#4d9221"
            ],
            [
             1,
             "#276419"
            ]
           ],
           "sequential": [
            [
             0,
             "#0d0887"
            ],
            [
             0.1111111111111111,
             "#46039f"
            ],
            [
             0.2222222222222222,
             "#7201a8"
            ],
            [
             0.3333333333333333,
             "#9c179e"
            ],
            [
             0.4444444444444444,
             "#bd3786"
            ],
            [
             0.5555555555555556,
             "#d8576b"
            ],
            [
             0.6666666666666666,
             "#ed7953"
            ],
            [
             0.7777777777777778,
             "#fb9f3a"
            ],
            [
             0.8888888888888888,
             "#fdca26"
            ],
            [
             1,
             "#f0f921"
            ]
           ],
           "sequentialminus": [
            [
             0,
             "#0d0887"
            ],
            [
             0.1111111111111111,
             "#46039f"
            ],
            [
             0.2222222222222222,
             "#7201a8"
            ],
            [
             0.3333333333333333,
             "#9c179e"
            ],
            [
             0.4444444444444444,
             "#bd3786"
            ],
            [
             0.5555555555555556,
             "#d8576b"
            ],
            [
             0.6666666666666666,
             "#ed7953"
            ],
            [
             0.7777777777777778,
             "#fb9f3a"
            ],
            [
             0.8888888888888888,
             "#fdca26"
            ],
            [
             1,
             "#f0f921"
            ]
           ]
          },
          "colorway": [
           "#636efa",
           "#EF553B",
           "#00cc96",
           "#ab63fa",
           "#FFA15A",
           "#19d3f3",
           "#FF6692",
           "#B6E880",
           "#FF97FF",
           "#FECB52"
          ],
          "font": {
           "color": "#2a3f5f"
          },
          "geo": {
           "bgcolor": "white",
           "lakecolor": "white",
           "landcolor": "#E5ECF6",
           "showlakes": true,
           "showland": true,
           "subunitcolor": "white"
          },
          "hoverlabel": {
           "align": "left"
          },
          "hovermode": "closest",
          "mapbox": {
           "style": "light"
          },
          "paper_bgcolor": "white",
          "plot_bgcolor": "#E5ECF6",
          "polar": {
           "angularaxis": {
            "gridcolor": "white",
            "linecolor": "white",
            "ticks": ""
           },
           "bgcolor": "#E5ECF6",
           "radialaxis": {
            "gridcolor": "white",
            "linecolor": "white",
            "ticks": ""
           }
          },
          "scene": {
           "xaxis": {
            "backgroundcolor": "#E5ECF6",
            "gridcolor": "white",
            "gridwidth": 2,
            "linecolor": "white",
            "showbackground": true,
            "ticks": "",
            "zerolinecolor": "white"
           },
           "yaxis": {
            "backgroundcolor": "#E5ECF6",
            "gridcolor": "white",
            "gridwidth": 2,
            "linecolor": "white",
            "showbackground": true,
            "ticks": "",
            "zerolinecolor": "white"
           },
           "zaxis": {
            "backgroundcolor": "#E5ECF6",
            "gridcolor": "white",
            "gridwidth": 2,
            "linecolor": "white",
            "showbackground": true,
            "ticks": "",
            "zerolinecolor": "white"
           }
          },
          "shapedefaults": {
           "line": {
            "color": "#2a3f5f"
           }
          },
          "ternary": {
           "aaxis": {
            "gridcolor": "white",
            "linecolor": "white",
            "ticks": ""
           },
           "baxis": {
            "gridcolor": "white",
            "linecolor": "white",
            "ticks": ""
           },
           "bgcolor": "#E5ECF6",
           "caxis": {
            "gridcolor": "white",
            "linecolor": "white",
            "ticks": ""
           }
          },
          "title": {
           "x": 0.05
          },
          "xaxis": {
           "automargin": true,
           "gridcolor": "white",
           "linecolor": "white",
           "ticks": "",
           "title": {
            "standoff": 15
           },
           "zerolinecolor": "white",
           "zerolinewidth": 2
          },
          "yaxis": {
           "automargin": true,
           "gridcolor": "white",
           "linecolor": "white",
           "ticks": "",
           "title": {
            "standoff": 15
           },
           "zerolinecolor": "white",
           "zerolinewidth": 2
          }
         }
        },
        "title": {
         "text": "Annual Average Sulfur Dioxide (SO2) Readings for each City, 2015-2020"
        },
        "xaxis": {
         "anchor": "y",
         "domain": [
          0,
          1
         ],
         "title": {
          "text": "City"
         }
        },
        "yaxis": {
         "anchor": "x",
         "domain": [
          0,
          1
         ],
         "title": {
          "text": "SO2"
         }
        }
       }
      }
     },
     "metadata": {},
     "output_type": "display_data"
    }
   ],
   "source": [
    "fig=px.bar(city_annual_avg, x='City', y='SO2' , color='Year', title='Annual Average Sulfur Dioxide (SO2) Readings for each City, 2015-2020')\n",
    "fig.show()"
   ]
  },
  {
   "cell_type": "code",
   "execution_count": null,
   "id": "212c53db",
   "metadata": {
    "execution": {
     "iopub.execute_input": "2023-05-10T11:43:51.561903Z",
     "iopub.status.busy": "2023-05-10T11:43:51.561451Z",
     "iopub.status.idle": "2023-05-10T11:43:51.580900Z",
     "shell.execute_reply": "2023-05-10T11:43:51.579608Z"
    },
    "papermill": {
     "duration": 0.054013,
     "end_time": "2023-05-10T11:43:51.583593",
     "exception": false,
     "start_time": "2023-05-10T11:43:51.529580",
     "status": "completed"
    },
    "tags": []
   },
   "outputs": [
    {
     "data": {
      "application/vnd.plotly.v1+json": {
       "config": {
        "plotlyServerURL": "https://plot.ly"
       },
       "data": [
        {
         "name": "PM2.5",
         "type": "box",
         "x": [
          76.4793150684933,
          65.75983606557396,
          71.71128767123317,
          74.64912328767126,
          62.206109589041155,
          43.47448087431693,
          18.02061946902656,
          84.00605263157894,
          38.51104109589043,
          42.536931506849434,
          26.767868852459014,
          73.07909090909095,
          58.05832876712344,
          50.733561643835614,
          38.48683060109293,
          37.10676712328765,
          49.38825136612027,
          35.929917808219166,
          36.54884931506851,
          35.424767123287666,
          30.46546448087431,
          67.28849056603774,
          40.93524590163936,
          88.3748,
          67.94934246575362,
          58.51660273972607,
          67.45459016393447,
          64.71000000000002,
          27.69661202185793,
          62.27161643835614,
          56.405901639344314,
          53.348356164383574,
          52.14273972602739,
          43.93802739726027,
          29.407540983606552,
          30.154532019704416,
          29.713278688524603,
          117.34082191780824,
          138.50284153005467,
          124.77487671232873,
          115.01939726027392,
          108.50147945205488,
          80.31797814207653,
          25.994259259259252,
          67.45,
          111.54448087431693,
          157.49917808219183,
          114.42728767123292,
          93.8833972602739,
          67.01792349726779,
          57.80338557993731,
          73.95939890710386,
          64.98715469613258,
          54.331010928961824,
          43.7210684931507,
          43.12846575342466,
          41.55378082191781,
          35.09781420765026,
          65.87353233830845,
          61.34679452054795,
          48.93131506849316,
          40.31196721311476,
          67.45000000000032,
          67.45000000000044,
          68.1792328767126,
          59.32453551912578,
          31.42851851851853,
          71.48090225563905,
          68.31945205479455,
          47.05256830601093,
          93.36147945205477,
          120.79368852459018,
          121.7092876712329,
          119.2455342465753,
          98.08865753424654,
          76.86508196721307,
          67.45000000000044,
          67.45000000000044,
          67.45000000000044,
          46.358575342465734,
          34.73684931506848,
          36.594316939890696,
          125.18401869158872,
          132.76557377049178,
          117.10698630137021,
          120.72506849315073,
          104.2646301369863,
          61.32169398907104,
          43.594409448818865,
          34.7705464480874,
          67.45000000000002,
          70.59408219178096,
          51.67158904109592,
          68.17404371584709,
          30.00472361809043,
          33.14605479452054,
          26.9844109589041,
          26.849836065573783,
          45.71858695652173,
          62.34673972602772,
          51.36550684931512,
          48.0384657534247,
          32.39797814207651
         ]
        }
       ],
       "layout": {
        "template": {
         "data": {
          "bar": [
           {
            "error_x": {
             "color": "#2a3f5f"
            },
            "error_y": {
             "color": "#2a3f5f"
            },
            "marker": {
             "line": {
              "color": "#E5ECF6",
              "width": 0.5
             },
             "pattern": {
              "fillmode": "overlay",
              "size": 10,
              "solidity": 0.2
             }
            },
            "type": "bar"
           }
          ],
          "barpolar": [
           {
            "marker": {
             "line": {
              "color": "#E5ECF6",
              "width": 0.5
             },
             "pattern": {
              "fillmode": "overlay",
              "size": 10,
              "solidity": 0.2
             }
            },
            "type": "barpolar"
           }
          ],
          "carpet": [
           {
            "aaxis": {
             "endlinecolor": "#2a3f5f",
             "gridcolor": "white",
             "linecolor": "white",
             "minorgridcolor": "white",
             "startlinecolor": "#2a3f5f"
            },
            "baxis": {
             "endlinecolor": "#2a3f5f",
             "gridcolor": "white",
             "linecolor": "white",
             "minorgridcolor": "white",
             "startlinecolor": "#2a3f5f"
            },
            "type": "carpet"
           }
          ],
          "choropleth": [
           {
            "colorbar": {
             "outlinewidth": 0,
             "ticks": ""
            },
            "type": "choropleth"
           }
          ],
          "contour": [
           {
            "colorbar": {
             "outlinewidth": 0,
             "ticks": ""
            },
            "colorscale": [
             [
              0,
              "#0d0887"
             ],
             [
              0.1111111111111111,
              "#46039f"
             ],
             [
              0.2222222222222222,
              "#7201a8"
             ],
             [
              0.3333333333333333,
              "#9c179e"
             ],
             [
              0.4444444444444444,
              "#bd3786"
             ],
             [
              0.5555555555555556,
              "#d8576b"
             ],
             [
              0.6666666666666666,
              "#ed7953"
             ],
             [
              0.7777777777777778,
              "#fb9f3a"
             ],
             [
              0.8888888888888888,
              "#fdca26"
             ],
             [
              1,
              "#f0f921"
             ]
            ],
            "type": "contour"
           }
          ],
          "contourcarpet": [
           {
            "colorbar": {
             "outlinewidth": 0,
             "ticks": ""
            },
            "type": "contourcarpet"
           }
          ],
          "heatmap": [
           {
            "colorbar": {
             "outlinewidth": 0,
             "ticks": ""
            },
            "colorscale": [
             [
              0,
              "#0d0887"
             ],
             [
              0.1111111111111111,
              "#46039f"
             ],
             [
              0.2222222222222222,
              "#7201a8"
             ],
             [
              0.3333333333333333,
              "#9c179e"
             ],
             [
              0.4444444444444444,
              "#bd3786"
             ],
             [
              0.5555555555555556,
              "#d8576b"
             ],
             [
              0.6666666666666666,
              "#ed7953"
             ],
             [
              0.7777777777777778,
              "#fb9f3a"
             ],
             [
              0.8888888888888888,
              "#fdca26"
             ],
             [
              1,
              "#f0f921"
             ]
            ],
            "type": "heatmap"
           }
          ],
          "heatmapgl": [
           {
            "colorbar": {
             "outlinewidth": 0,
             "ticks": ""
            },
            "colorscale": [
             [
              0,
              "#0d0887"
             ],
             [
              0.1111111111111111,
              "#46039f"
             ],
             [
              0.2222222222222222,
              "#7201a8"
             ],
             [
              0.3333333333333333,
              "#9c179e"
             ],
             [
              0.4444444444444444,
              "#bd3786"
             ],
             [
              0.5555555555555556,
              "#d8576b"
             ],
             [
              0.6666666666666666,
              "#ed7953"
             ],
             [
              0.7777777777777778,
              "#fb9f3a"
             ],
             [
              0.8888888888888888,
              "#fdca26"
             ],
             [
              1,
              "#f0f921"
             ]
            ],
            "type": "heatmapgl"
           }
          ],
          "histogram": [
           {
            "marker": {
             "pattern": {
              "fillmode": "overlay",
              "size": 10,
              "solidity": 0.2
             }
            },
            "type": "histogram"
           }
          ],
          "histogram2d": [
           {
            "colorbar": {
             "outlinewidth": 0,
             "ticks": ""
            },
            "colorscale": [
             [
              0,
              "#0d0887"
             ],
             [
              0.1111111111111111,
              "#46039f"
             ],
             [
              0.2222222222222222,
              "#7201a8"
             ],
             [
              0.3333333333333333,
              "#9c179e"
             ],
             [
              0.4444444444444444,
              "#bd3786"
             ],
             [
              0.5555555555555556,
              "#d8576b"
             ],
             [
              0.6666666666666666,
              "#ed7953"
             ],
             [
              0.7777777777777778,
              "#fb9f3a"
             ],
             [
              0.8888888888888888,
              "#fdca26"
             ],
             [
              1,
              "#f0f921"
             ]
            ],
            "type": "histogram2d"
           }
          ],
          "histogram2dcontour": [
           {
            "colorbar": {
             "outlinewidth": 0,
             "ticks": ""
            },
            "colorscale": [
             [
              0,
              "#0d0887"
             ],
             [
              0.1111111111111111,
              "#46039f"
             ],
             [
              0.2222222222222222,
              "#7201a8"
             ],
             [
              0.3333333333333333,
              "#9c179e"
             ],
             [
              0.4444444444444444,
              "#bd3786"
             ],
             [
              0.5555555555555556,
              "#d8576b"
             ],
             [
              0.6666666666666666,
              "#ed7953"
             ],
             [
              0.7777777777777778,
              "#fb9f3a"
             ],
             [
              0.8888888888888888,
              "#fdca26"
             ],
             [
              1,
              "#f0f921"
             ]
            ],
            "type": "histogram2dcontour"
           }
          ],
          "mesh3d": [
           {
            "colorbar": {
             "outlinewidth": 0,
             "ticks": ""
            },
            "type": "mesh3d"
           }
          ],
          "parcoords": [
           {
            "line": {
             "colorbar": {
              "outlinewidth": 0,
              "ticks": ""
             }
            },
            "type": "parcoords"
           }
          ],
          "pie": [
           {
            "automargin": true,
            "type": "pie"
           }
          ],
          "scatter": [
           {
            "fillpattern": {
             "fillmode": "overlay",
             "size": 10,
             "solidity": 0.2
            },
            "type": "scatter"
           }
          ],
          "scatter3d": [
           {
            "line": {
             "colorbar": {
              "outlinewidth": 0,
              "ticks": ""
             }
            },
            "marker": {
             "colorbar": {
              "outlinewidth": 0,
              "ticks": ""
             }
            },
            "type": "scatter3d"
           }
          ],
          "scattercarpet": [
           {
            "marker": {
             "colorbar": {
              "outlinewidth": 0,
              "ticks": ""
             }
            },
            "type": "scattercarpet"
           }
          ],
          "scattergeo": [
           {
            "marker": {
             "colorbar": {
              "outlinewidth": 0,
              "ticks": ""
             }
            },
            "type": "scattergeo"
           }
          ],
          "scattergl": [
           {
            "marker": {
             "colorbar": {
              "outlinewidth": 0,
              "ticks": ""
             }
            },
            "type": "scattergl"
           }
          ],
          "scattermapbox": [
           {
            "marker": {
             "colorbar": {
              "outlinewidth": 0,
              "ticks": ""
             }
            },
            "type": "scattermapbox"
           }
          ],
          "scatterpolar": [
           {
            "marker": {
             "colorbar": {
              "outlinewidth": 0,
              "ticks": ""
             }
            },
            "type": "scatterpolar"
           }
          ],
          "scatterpolargl": [
           {
            "marker": {
             "colorbar": {
              "outlinewidth": 0,
              "ticks": ""
             }
            },
            "type": "scatterpolargl"
           }
          ],
          "scatterternary": [
           {
            "marker": {
             "colorbar": {
              "outlinewidth": 0,
              "ticks": ""
             }
            },
            "type": "scatterternary"
           }
          ],
          "surface": [
           {
            "colorbar": {
             "outlinewidth": 0,
             "ticks": ""
            },
            "colorscale": [
             [
              0,
              "#0d0887"
             ],
             [
              0.1111111111111111,
              "#46039f"
             ],
             [
              0.2222222222222222,
              "#7201a8"
             ],
             [
              0.3333333333333333,
              "#9c179e"
             ],
             [
              0.4444444444444444,
              "#bd3786"
             ],
             [
              0.5555555555555556,
              "#d8576b"
             ],
             [
              0.6666666666666666,
              "#ed7953"
             ],
             [
              0.7777777777777778,
              "#fb9f3a"
             ],
             [
              0.8888888888888888,
              "#fdca26"
             ],
             [
              1,
              "#f0f921"
             ]
            ],
            "type": "surface"
           }
          ],
          "table": [
           {
            "cells": {
             "fill": {
              "color": "#EBF0F8"
             },
             "line": {
              "color": "white"
             }
            },
            "header": {
             "fill": {
              "color": "#C8D4E3"
             },
             "line": {
              "color": "white"
             }
            },
            "type": "table"
           }
          ]
         },
         "layout": {
          "annotationdefaults": {
           "arrowcolor": "#2a3f5f",
           "arrowhead": 0,
           "arrowwidth": 1
          },
          "autotypenumbers": "strict",
          "coloraxis": {
           "colorbar": {
            "outlinewidth": 0,
            "ticks": ""
           }
          },
          "colorscale": {
           "diverging": [
            [
             0,
             "#8e0152"
            ],
            [
             0.1,
             "#c51b7d"
            ],
            [
             0.2,
             "#de77ae"
            ],
            [
             0.3,
             "#f1b6da"
            ],
            [
             0.4,
             "#fde0ef"
            ],
            [
             0.5,
             "#f7f7f7"
            ],
            [
             0.6,
             "#e6f5d0"
            ],
            [
             0.7,
             "#b8e186"
            ],
            [
             0.8,
             "#7fbc41"
            ],
            [
             0.9,
             "#4d9221"
            ],
            [
             1,
             "#276419"
            ]
           ],
           "sequential": [
            [
             0,
             "#0d0887"
            ],
            [
             0.1111111111111111,
             "#46039f"
            ],
            [
             0.2222222222222222,
             "#7201a8"
            ],
            [
             0.3333333333333333,
             "#9c179e"
            ],
            [
             0.4444444444444444,
             "#bd3786"
            ],
            [
             0.5555555555555556,
             "#d8576b"
            ],
            [
             0.6666666666666666,
             "#ed7953"
            ],
            [
             0.7777777777777778,
             "#fb9f3a"
            ],
            [
             0.8888888888888888,
             "#fdca26"
            ],
            [
             1,
             "#f0f921"
            ]
           ],
           "sequentialminus": [
            [
             0,
             "#0d0887"
            ],
            [
             0.1111111111111111,
             "#46039f"
            ],
            [
             0.2222222222222222,
             "#7201a8"
            ],
            [
             0.3333333333333333,
             "#9c179e"
            ],
            [
             0.4444444444444444,
             "#bd3786"
            ],
            [
             0.5555555555555556,
             "#d8576b"
            ],
            [
             0.6666666666666666,
             "#ed7953"
            ],
            [
             0.7777777777777778,
             "#fb9f3a"
            ],
            [
             0.8888888888888888,
             "#fdca26"
            ],
            [
             1,
             "#f0f921"
            ]
           ]
          },
          "colorway": [
           "#636efa",
           "#EF553B",
           "#00cc96",
           "#ab63fa",
           "#FFA15A",
           "#19d3f3",
           "#FF6692",
           "#B6E880",
           "#FF97FF",
           "#FECB52"
          ],
          "font": {
           "color": "#2a3f5f"
          },
          "geo": {
           "bgcolor": "white",
           "lakecolor": "white",
           "landcolor": "#E5ECF6",
           "showlakes": true,
           "showland": true,
           "subunitcolor": "white"
          },
          "hoverlabel": {
           "align": "left"
          },
          "hovermode": "closest",
          "mapbox": {
           "style": "light"
          },
          "paper_bgcolor": "white",
          "plot_bgcolor": "#E5ECF6",
          "polar": {
           "angularaxis": {
            "gridcolor": "white",
            "linecolor": "white",
            "ticks": ""
           },
           "bgcolor": "#E5ECF6",
           "radialaxis": {
            "gridcolor": "white",
            "linecolor": "white",
            "ticks": ""
           }
          },
          "scene": {
           "xaxis": {
            "backgroundcolor": "#E5ECF6",
            "gridcolor": "white",
            "gridwidth": 2,
            "linecolor": "white",
            "showbackground": true,
            "ticks": "",
            "zerolinecolor": "white"
           },
           "yaxis": {
            "backgroundcolor": "#E5ECF6",
            "gridcolor": "white",
            "gridwidth": 2,
            "linecolor": "white",
            "showbackground": true,
            "ticks": "",
            "zerolinecolor": "white"
           },
           "zaxis": {
            "backgroundcolor": "#E5ECF6",
            "gridcolor": "white",
            "gridwidth": 2,
            "linecolor": "white",
            "showbackground": true,
            "ticks": "",
            "zerolinecolor": "white"
           }
          },
          "shapedefaults": {
           "line": {
            "color": "#2a3f5f"
           }
          },
          "ternary": {
           "aaxis": {
            "gridcolor": "white",
            "linecolor": "white",
            "ticks": ""
           },
           "baxis": {
            "gridcolor": "white",
            "linecolor": "white",
            "ticks": ""
           },
           "bgcolor": "#E5ECF6",
           "caxis": {
            "gridcolor": "white",
            "linecolor": "white",
            "ticks": ""
           }
          },
          "title": {
           "x": 0.05
          },
          "xaxis": {
           "automargin": true,
           "gridcolor": "white",
           "linecolor": "white",
           "ticks": "",
           "title": {
            "standoff": 15
           },
           "zerolinecolor": "white",
           "zerolinewidth": 2
          },
          "yaxis": {
           "automargin": true,
           "gridcolor": "white",
           "linecolor": "white",
           "ticks": "",
           "title": {
            "standoff": 15
           },
           "zerolinecolor": "white",
           "zerolinewidth": 2
          }
         }
        },
        "title": {
         "text": "Range of PM2.5 readings"
        }
       }
      }
     },
     "metadata": {},
     "output_type": "display_data"
    }
   ],
   "source": [
    "trace5=go.Box(x=city_annual_avg['PM2.5'], name='PM2.5')\n",
    "d5=[trace5]\n",
    "layout=go.Layout(title='Range of PM2.5 readings')\n",
    "fig=go.Figure(data=d5, layout=layout)\n",
    "fig.show()"
   ]
  },
  {
   "cell_type": "code",
   "execution_count": null,
   "id": "37355784",
   "metadata": {
    "execution": {
     "iopub.execute_input": "2023-05-10T11:43:51.648043Z",
     "iopub.status.busy": "2023-05-10T11:43:51.646847Z",
     "iopub.status.idle": "2023-05-10T11:43:51.811344Z",
     "shell.execute_reply": "2023-05-10T11:43:51.809824Z"
    },
    "papermill": {
     "duration": 0.199566,
     "end_time": "2023-05-10T11:43:51.814069",
     "exception": false,
     "start_time": "2023-05-10T11:43:51.614503",
     "status": "completed"
    },
    "tags": []
   },
   "outputs": [
    {
     "data": {
      "application/vnd.plotly.v1+json": {
       "config": {
        "plotlyServerURL": "https://plot.ly"
       },
       "data": [
        {
         "alignmentgroup": "True",
         "hovertemplate": "City=Ahmedabad<br>Year=%{x}<br>PM2.5=%{y}<extra></extra>",
         "legendgroup": "Ahmedabad",
         "marker": {
          "color": "#636efa",
          "pattern": {
           "shape": ""
          }
         },
         "name": "Ahmedabad",
         "offsetgroup": "Ahmedabad",
         "orientation": "v",
         "showlegend": true,
         "textposition": "auto",
         "type": "bar",
         "x": [
          2015,
          2016,
          2017,
          2018,
          2019,
          2020
         ],
         "xaxis": "x",
         "y": [
          76.4793150684933,
          65.75983606557396,
          71.71128767123317,
          74.64912328767126,
          62.206109589041155,
          43.47448087431693
         ],
         "yaxis": "y"
        },
        {
         "alignmentgroup": "True",
         "hovertemplate": "City=Aizawl<br>Year=%{x}<br>PM2.5=%{y}<extra></extra>",
         "legendgroup": "Aizawl",
         "marker": {
          "color": "#EF553B",
          "pattern": {
           "shape": ""
          }
         },
         "name": "Aizawl",
         "offsetgroup": "Aizawl",
         "orientation": "v",
         "showlegend": true,
         "textposition": "auto",
         "type": "bar",
         "x": [
          2020
         ],
         "xaxis": "x",
         "y": [
          18.02061946902656
         ],
         "yaxis": "y"
        },
        {
         "alignmentgroup": "True",
         "hovertemplate": "City=Amaravati<br>Year=%{x}<br>PM2.5=%{y}<extra></extra>",
         "legendgroup": "Amaravati",
         "marker": {
          "color": "#00cc96",
          "pattern": {
           "shape": ""
          }
         },
         "name": "Amaravati",
         "offsetgroup": "Amaravati",
         "orientation": "v",
         "showlegend": true,
         "textposition": "auto",
         "type": "bar",
         "x": [
          2017,
          2018,
          2019,
          2020
         ],
         "xaxis": "x",
         "y": [
          84.00605263157894,
          38.51104109589043,
          42.536931506849434,
          26.767868852459014
         ],
         "yaxis": "y"
        },
        {
         "alignmentgroup": "True",
         "hovertemplate": "City=Amritsar<br>Year=%{x}<br>PM2.5=%{y}<extra></extra>",
         "legendgroup": "Amritsar",
         "marker": {
          "color": "#ab63fa",
          "pattern": {
           "shape": ""
          }
         },
         "name": "Amritsar",
         "offsetgroup": "Amritsar",
         "orientation": "v",
         "showlegend": true,
         "textposition": "auto",
         "type": "bar",
         "x": [
          2017,
          2018,
          2019,
          2020
         ],
         "xaxis": "x",
         "y": [
          73.07909090909095,
          58.05832876712344,
          50.733561643835614,
          38.48683060109293
         ],
         "yaxis": "y"
        },
        {
         "alignmentgroup": "True",
         "hovertemplate": "City=Bengaluru<br>Year=%{x}<br>PM2.5=%{y}<extra></extra>",
         "legendgroup": "Bengaluru",
         "marker": {
          "color": "#FFA15A",
          "pattern": {
           "shape": ""
          }
         },
         "name": "Bengaluru",
         "offsetgroup": "Bengaluru",
         "orientation": "v",
         "showlegend": true,
         "textposition": "auto",
         "type": "bar",
         "x": [
          2015,
          2016,
          2017,
          2018,
          2019,
          2020
         ],
         "xaxis": "x",
         "y": [
          37.10676712328765,
          49.38825136612027,
          35.929917808219166,
          36.54884931506851,
          35.424767123287666,
          30.46546448087431
         ],
         "yaxis": "y"
        },
        {
         "alignmentgroup": "True",
         "hovertemplate": "City=Bhopal<br>Year=%{x}<br>PM2.5=%{y}<extra></extra>",
         "legendgroup": "Bhopal",
         "marker": {
          "color": "#19d3f3",
          "pattern": {
           "shape": ""
          }
         },
         "name": "Bhopal",
         "offsetgroup": "Bhopal",
         "orientation": "v",
         "showlegend": true,
         "textposition": "auto",
         "type": "bar",
         "x": [
          2019,
          2020
         ],
         "xaxis": "x",
         "y": [
          67.28849056603774,
          40.93524590163936
         ],
         "yaxis": "y"
        },
        {
         "alignmentgroup": "True",
         "hovertemplate": "City=Brajrajnagar<br>Year=%{x}<br>PM2.5=%{y}<extra></extra>",
         "legendgroup": "Brajrajnagar",
         "marker": {
          "color": "#FF6692",
          "pattern": {
           "shape": ""
          }
         },
         "name": "Brajrajnagar",
         "offsetgroup": "Brajrajnagar",
         "orientation": "v",
         "showlegend": true,
         "textposition": "auto",
         "type": "bar",
         "x": [
          2017,
          2018,
          2019,
          2020
         ],
         "xaxis": "x",
         "y": [
          88.3748,
          67.94934246575362,
          58.51660273972607,
          67.45459016393447
         ],
         "yaxis": "y"
        },
        {
         "alignmentgroup": "True",
         "hovertemplate": "City=Chandigarh<br>Year=%{x}<br>PM2.5=%{y}<extra></extra>",
         "legendgroup": "Chandigarh",
         "marker": {
          "color": "#B6E880",
          "pattern": {
           "shape": ""
          }
         },
         "name": "Chandigarh",
         "offsetgroup": "Chandigarh",
         "orientation": "v",
         "showlegend": true,
         "textposition": "auto",
         "type": "bar",
         "x": [
          2019,
          2020
         ],
         "xaxis": "x",
         "y": [
          64.71000000000002,
          27.69661202185793
         ],
         "yaxis": "y"
        },
        {
         "alignmentgroup": "True",
         "hovertemplate": "City=Chennai<br>Year=%{x}<br>PM2.5=%{y}<extra></extra>",
         "legendgroup": "Chennai",
         "marker": {
          "color": "#FF97FF",
          "pattern": {
           "shape": ""
          }
         },
         "name": "Chennai",
         "offsetgroup": "Chennai",
         "orientation": "v",
         "showlegend": true,
         "textposition": "auto",
         "type": "bar",
         "x": [
          2015,
          2016,
          2017,
          2018,
          2019,
          2020
         ],
         "xaxis": "x",
         "y": [
          62.27161643835614,
          56.405901639344314,
          53.348356164383574,
          52.14273972602739,
          43.93802739726027,
          29.407540983606552
         ],
         "yaxis": "y"
        },
        {
         "alignmentgroup": "True",
         "hovertemplate": "City=Coimbatore<br>Year=%{x}<br>PM2.5=%{y}<extra></extra>",
         "legendgroup": "Coimbatore",
         "marker": {
          "color": "#FECB52",
          "pattern": {
           "shape": ""
          }
         },
         "name": "Coimbatore",
         "offsetgroup": "Coimbatore",
         "orientation": "v",
         "showlegend": true,
         "textposition": "auto",
         "type": "bar",
         "x": [
          2019,
          2020
         ],
         "xaxis": "x",
         "y": [
          30.154532019704416,
          29.713278688524603
         ],
         "yaxis": "y"
        },
        {
         "alignmentgroup": "True",
         "hovertemplate": "City=Delhi<br>Year=%{x}<br>PM2.5=%{y}<extra></extra>",
         "legendgroup": "Delhi",
         "marker": {
          "color": "#636efa",
          "pattern": {
           "shape": ""
          }
         },
         "name": "Delhi",
         "offsetgroup": "Delhi",
         "orientation": "v",
         "showlegend": true,
         "textposition": "auto",
         "type": "bar",
         "x": [
          2015,
          2016,
          2017,
          2018,
          2019,
          2020
         ],
         "xaxis": "x",
         "y": [
          117.34082191780824,
          138.50284153005467,
          124.77487671232873,
          115.01939726027392,
          108.50147945205488,
          80.31797814207653
         ],
         "yaxis": "y"
        },
        {
         "alignmentgroup": "True",
         "hovertemplate": "City=Ernakulam<br>Year=%{x}<br>PM2.5=%{y}<extra></extra>",
         "legendgroup": "Ernakulam",
         "marker": {
          "color": "#EF553B",
          "pattern": {
           "shape": ""
          }
         },
         "name": "Ernakulam",
         "offsetgroup": "Ernakulam",
         "orientation": "v",
         "showlegend": true,
         "textposition": "auto",
         "type": "bar",
         "x": [
          2020
         ],
         "xaxis": "x",
         "y": [
          25.994259259259252
         ],
         "yaxis": "y"
        },
        {
         "alignmentgroup": "True",
         "hovertemplate": "City=Gurugram<br>Year=%{x}<br>PM2.5=%{y}<extra></extra>",
         "legendgroup": "Gurugram",
         "marker": {
          "color": "#00cc96",
          "pattern": {
           "shape": ""
          }
         },
         "name": "Gurugram",
         "offsetgroup": "Gurugram",
         "orientation": "v",
         "showlegend": true,
         "textposition": "auto",
         "type": "bar",
         "x": [
          2015,
          2016,
          2017,
          2018,
          2019,
          2020
         ],
         "xaxis": "x",
         "y": [
          67.45,
          111.54448087431693,
          157.49917808219183,
          114.42728767123292,
          93.8833972602739,
          67.01792349726779
         ],
         "yaxis": "y"
        },
        {
         "alignmentgroup": "True",
         "hovertemplate": "City=Guwahati<br>Year=%{x}<br>PM2.5=%{y}<extra></extra>",
         "legendgroup": "Guwahati",
         "marker": {
          "color": "#ab63fa",
          "pattern": {
           "shape": ""
          }
         },
         "name": "Guwahati",
         "offsetgroup": "Guwahati",
         "orientation": "v",
         "showlegend": true,
         "textposition": "auto",
         "type": "bar",
         "x": [
          2019,
          2020
         ],
         "xaxis": "x",
         "y": [
          57.80338557993731,
          73.95939890710386
         ],
         "yaxis": "y"
        },
        {
         "alignmentgroup": "True",
         "hovertemplate": "City=Hyderabad<br>Year=%{x}<br>PM2.5=%{y}<extra></extra>",
         "legendgroup": "Hyderabad",
         "marker": {
          "color": "#FFA15A",
          "pattern": {
           "shape": ""
          }
         },
         "name": "Hyderabad",
         "offsetgroup": "Hyderabad",
         "orientation": "v",
         "showlegend": true,
         "textposition": "auto",
         "type": "bar",
         "x": [
          2015,
          2016,
          2017,
          2018,
          2019,
          2020
         ],
         "xaxis": "x",
         "y": [
          64.98715469613258,
          54.331010928961824,
          43.7210684931507,
          43.12846575342466,
          41.55378082191781,
          35.09781420765026
         ],
         "yaxis": "y"
        },
        {
         "alignmentgroup": "True",
         "hovertemplate": "City=Jaipur<br>Year=%{x}<br>PM2.5=%{y}<extra></extra>",
         "legendgroup": "Jaipur",
         "marker": {
          "color": "#19d3f3",
          "pattern": {
           "shape": ""
          }
         },
         "name": "Jaipur",
         "offsetgroup": "Jaipur",
         "orientation": "v",
         "showlegend": true,
         "textposition": "auto",
         "type": "bar",
         "x": [
          2017,
          2018,
          2019,
          2020
         ],
         "xaxis": "x",
         "y": [
          65.87353233830845,
          61.34679452054795,
          48.93131506849316,
          40.31196721311476
         ],
         "yaxis": "y"
        },
        {
         "alignmentgroup": "True",
         "hovertemplate": "City=Jorapokhar<br>Year=%{x}<br>PM2.5=%{y}<extra></extra>",
         "legendgroup": "Jorapokhar",
         "marker": {
          "color": "#FF6692",
          "pattern": {
           "shape": ""
          }
         },
         "name": "Jorapokhar",
         "offsetgroup": "Jorapokhar",
         "orientation": "v",
         "showlegend": true,
         "textposition": "auto",
         "type": "bar",
         "x": [
          2017,
          2018,
          2019,
          2020
         ],
         "xaxis": "x",
         "y": [
          67.45000000000032,
          67.45000000000044,
          68.1792328767126,
          59.32453551912578
         ],
         "yaxis": "y"
        },
        {
         "alignmentgroup": "True",
         "hovertemplate": "City=Kochi<br>Year=%{x}<br>PM2.5=%{y}<extra></extra>",
         "legendgroup": "Kochi",
         "marker": {
          "color": "#B6E880",
          "pattern": {
           "shape": ""
          }
         },
         "name": "Kochi",
         "offsetgroup": "Kochi",
         "orientation": "v",
         "showlegend": true,
         "textposition": "auto",
         "type": "bar",
         "x": [
          2020
         ],
         "xaxis": "x",
         "y": [
          31.42851851851853
         ],
         "yaxis": "y"
        },
        {
         "alignmentgroup": "True",
         "hovertemplate": "City=Kolkata<br>Year=%{x}<br>PM2.5=%{y}<extra></extra>",
         "legendgroup": "Kolkata",
         "marker": {
          "color": "#FF97FF",
          "pattern": {
           "shape": ""
          }
         },
         "name": "Kolkata",
         "offsetgroup": "Kolkata",
         "orientation": "v",
         "showlegend": true,
         "textposition": "auto",
         "type": "bar",
         "x": [
          2018,
          2019,
          2020
         ],
         "xaxis": "x",
         "y": [
          71.48090225563905,
          68.31945205479455,
          47.05256830601093
         ],
         "yaxis": "y"
        },
        {
         "alignmentgroup": "True",
         "hovertemplate": "City=Lucknow<br>Year=%{x}<br>PM2.5=%{y}<extra></extra>",
         "legendgroup": "Lucknow",
         "marker": {
          "color": "#FECB52",
          "pattern": {
           "shape": ""
          }
         },
         "name": "Lucknow",
         "offsetgroup": "Lucknow",
         "orientation": "v",
         "showlegend": true,
         "textposition": "auto",
         "type": "bar",
         "x": [
          2015,
          2016,
          2017,
          2018,
          2019,
          2020
         ],
         "xaxis": "x",
         "y": [
          93.36147945205477,
          120.79368852459018,
          121.7092876712329,
          119.2455342465753,
          98.08865753424654,
          76.86508196721307
         ],
         "yaxis": "y"
        },
        {
         "alignmentgroup": "True",
         "hovertemplate": "City=Mumbai<br>Year=%{x}<br>PM2.5=%{y}<extra></extra>",
         "legendgroup": "Mumbai",
         "marker": {
          "color": "#636efa",
          "pattern": {
           "shape": ""
          }
         },
         "name": "Mumbai",
         "offsetgroup": "Mumbai",
         "orientation": "v",
         "showlegend": true,
         "textposition": "auto",
         "type": "bar",
         "x": [
          2015,
          2016,
          2017,
          2018,
          2019,
          2020
         ],
         "xaxis": "x",
         "y": [
          67.45000000000044,
          67.45000000000044,
          67.45000000000044,
          46.358575342465734,
          34.73684931506848,
          36.594316939890696
         ],
         "yaxis": "y"
        },
        {
         "alignmentgroup": "True",
         "hovertemplate": "City=Patna<br>Year=%{x}<br>PM2.5=%{y}<extra></extra>",
         "legendgroup": "Patna",
         "marker": {
          "color": "#EF553B",
          "pattern": {
           "shape": ""
          }
         },
         "name": "Patna",
         "offsetgroup": "Patna",
         "orientation": "v",
         "showlegend": true,
         "textposition": "auto",
         "type": "bar",
         "x": [
          2015,
          2016,
          2017,
          2018,
          2019,
          2020
         ],
         "xaxis": "x",
         "y": [
          125.18401869158872,
          132.76557377049178,
          117.10698630137021,
          120.72506849315073,
          104.2646301369863,
          61.32169398907104
         ],
         "yaxis": "y"
        },
        {
         "alignmentgroup": "True",
         "hovertemplate": "City=Shillong<br>Year=%{x}<br>PM2.5=%{y}<extra></extra>",
         "legendgroup": "Shillong",
         "marker": {
          "color": "#00cc96",
          "pattern": {
           "shape": ""
          }
         },
         "name": "Shillong",
         "offsetgroup": "Shillong",
         "orientation": "v",
         "showlegend": true,
         "textposition": "auto",
         "type": "bar",
         "x": [
          2019,
          2020
         ],
         "xaxis": "x",
         "y": [
          43.594409448818865,
          34.7705464480874
         ],
         "yaxis": "y"
        },
        {
         "alignmentgroup": "True",
         "hovertemplate": "City=Talcher<br>Year=%{x}<br>PM2.5=%{y}<extra></extra>",
         "legendgroup": "Talcher",
         "marker": {
          "color": "#ab63fa",
          "pattern": {
           "shape": ""
          }
         },
         "name": "Talcher",
         "offsetgroup": "Talcher",
         "orientation": "v",
         "showlegend": true,
         "textposition": "auto",
         "type": "bar",
         "x": [
          2017,
          2018,
          2019,
          2020
         ],
         "xaxis": "x",
         "y": [
          67.45000000000002,
          70.59408219178096,
          51.67158904109592,
          68.17404371584709
         ],
         "yaxis": "y"
        },
        {
         "alignmentgroup": "True",
         "hovertemplate": "City=Thiruvananthapuram<br>Year=%{x}<br>PM2.5=%{y}<extra></extra>",
         "legendgroup": "Thiruvananthapuram",
         "marker": {
          "color": "#FFA15A",
          "pattern": {
           "shape": ""
          }
         },
         "name": "Thiruvananthapuram",
         "offsetgroup": "Thiruvananthapuram",
         "orientation": "v",
         "showlegend": true,
         "textposition": "auto",
         "type": "bar",
         "x": [
          2017,
          2018,
          2019,
          2020
         ],
         "xaxis": "x",
         "y": [
          30.00472361809043,
          33.14605479452054,
          26.9844109589041,
          26.849836065573783
         ],
         "yaxis": "y"
        },
        {
         "alignmentgroup": "True",
         "hovertemplate": "City=Visakhapatnam<br>Year=%{x}<br>PM2.5=%{y}<extra></extra>",
         "legendgroup": "Visakhapatnam",
         "marker": {
          "color": "#19d3f3",
          "pattern": {
           "shape": ""
          }
         },
         "name": "Visakhapatnam",
         "offsetgroup": "Visakhapatnam",
         "orientation": "v",
         "showlegend": true,
         "textposition": "auto",
         "type": "bar",
         "x": [
          2016,
          2017,
          2018,
          2019,
          2020
         ],
         "xaxis": "x",
         "y": [
          45.71858695652173,
          62.34673972602772,
          51.36550684931512,
          48.0384657534247,
          32.39797814207651
         ],
         "yaxis": "y"
        }
       ],
       "layout": {
        "barmode": "group",
        "legend": {
         "title": {
          "text": "City"
         },
         "tracegroupgap": 0
        },
        "template": {
         "data": {
          "bar": [
           {
            "error_x": {
             "color": "#2a3f5f"
            },
            "error_y": {
             "color": "#2a3f5f"
            },
            "marker": {
             "line": {
              "color": "#E5ECF6",
              "width": 0.5
             },
             "pattern": {
              "fillmode": "overlay",
              "size": 10,
              "solidity": 0.2
             }
            },
            "type": "bar"
           }
          ],
          "barpolar": [
           {
            "marker": {
             "line": {
              "color": "#E5ECF6",
              "width": 0.5
             },
             "pattern": {
              "fillmode": "overlay",
              "size": 10,
              "solidity": 0.2
             }
            },
            "type": "barpolar"
           }
          ],
          "carpet": [
           {
            "aaxis": {
             "endlinecolor": "#2a3f5f",
             "gridcolor": "white",
             "linecolor": "white",
             "minorgridcolor": "white",
             "startlinecolor": "#2a3f5f"
            },
            "baxis": {
             "endlinecolor": "#2a3f5f",
             "gridcolor": "white",
             "linecolor": "white",
             "minorgridcolor": "white",
             "startlinecolor": "#2a3f5f"
            },
            "type": "carpet"
           }
          ],
          "choropleth": [
           {
            "colorbar": {
             "outlinewidth": 0,
             "ticks": ""
            },
            "type": "choropleth"
           }
          ],
          "contour": [
           {
            "colorbar": {
             "outlinewidth": 0,
             "ticks": ""
            },
            "colorscale": [
             [
              0,
              "#0d0887"
             ],
             [
              0.1111111111111111,
              "#46039f"
             ],
             [
              0.2222222222222222,
              "#7201a8"
             ],
             [
              0.3333333333333333,
              "#9c179e"
             ],
             [
              0.4444444444444444,
              "#bd3786"
             ],
             [
              0.5555555555555556,
              "#d8576b"
             ],
             [
              0.6666666666666666,
              "#ed7953"
             ],
             [
              0.7777777777777778,
              "#fb9f3a"
             ],
             [
              0.8888888888888888,
              "#fdca26"
             ],
             [
              1,
              "#f0f921"
             ]
            ],
            "type": "contour"
           }
          ],
          "contourcarpet": [
           {
            "colorbar": {
             "outlinewidth": 0,
             "ticks": ""
            },
            "type": "contourcarpet"
           }
          ],
          "heatmap": [
           {
            "colorbar": {
             "outlinewidth": 0,
             "ticks": ""
            },
            "colorscale": [
             [
              0,
              "#0d0887"
             ],
             [
              0.1111111111111111,
              "#46039f"
             ],
             [
              0.2222222222222222,
              "#7201a8"
             ],
             [
              0.3333333333333333,
              "#9c179e"
             ],
             [
              0.4444444444444444,
              "#bd3786"
             ],
             [
              0.5555555555555556,
              "#d8576b"
             ],
             [
              0.6666666666666666,
              "#ed7953"
             ],
             [
              0.7777777777777778,
              "#fb9f3a"
             ],
             [
              0.8888888888888888,
              "#fdca26"
             ],
             [
              1,
              "#f0f921"
             ]
            ],
            "type": "heatmap"
           }
          ],
          "heatmapgl": [
           {
            "colorbar": {
             "outlinewidth": 0,
             "ticks": ""
            },
            "colorscale": [
             [
              0,
              "#0d0887"
             ],
             [
              0.1111111111111111,
              "#46039f"
             ],
             [
              0.2222222222222222,
              "#7201a8"
             ],
             [
              0.3333333333333333,
              "#9c179e"
             ],
             [
              0.4444444444444444,
              "#bd3786"
             ],
             [
              0.5555555555555556,
              "#d8576b"
             ],
             [
              0.6666666666666666,
              "#ed7953"
             ],
             [
              0.7777777777777778,
              "#fb9f3a"
             ],
             [
              0.8888888888888888,
              "#fdca26"
             ],
             [
              1,
              "#f0f921"
             ]
            ],
            "type": "heatmapgl"
           }
          ],
          "histogram": [
           {
            "marker": {
             "pattern": {
              "fillmode": "overlay",
              "size": 10,
              "solidity": 0.2
             }
            },
            "type": "histogram"
           }
          ],
          "histogram2d": [
           {
            "colorbar": {
             "outlinewidth": 0,
             "ticks": ""
            },
            "colorscale": [
             [
              0,
              "#0d0887"
             ],
             [
              0.1111111111111111,
              "#46039f"
             ],
             [
              0.2222222222222222,
              "#7201a8"
             ],
             [
              0.3333333333333333,
              "#9c179e"
             ],
             [
              0.4444444444444444,
              "#bd3786"
             ],
             [
              0.5555555555555556,
              "#d8576b"
             ],
             [
              0.6666666666666666,
              "#ed7953"
             ],
             [
              0.7777777777777778,
              "#fb9f3a"
             ],
             [
              0.8888888888888888,
              "#fdca26"
             ],
             [
              1,
              "#f0f921"
             ]
            ],
            "type": "histogram2d"
           }
          ],
          "histogram2dcontour": [
           {
            "colorbar": {
             "outlinewidth": 0,
             "ticks": ""
            },
            "colorscale": [
             [
              0,
              "#0d0887"
             ],
             [
              0.1111111111111111,
              "#46039f"
             ],
             [
              0.2222222222222222,
              "#7201a8"
             ],
             [
              0.3333333333333333,
              "#9c179e"
             ],
             [
              0.4444444444444444,
              "#bd3786"
             ],
             [
              0.5555555555555556,
              "#d8576b"
             ],
             [
              0.6666666666666666,
              "#ed7953"
             ],
             [
              0.7777777777777778,
              "#fb9f3a"
             ],
             [
              0.8888888888888888,
              "#fdca26"
             ],
             [
              1,
              "#f0f921"
             ]
            ],
            "type": "histogram2dcontour"
           }
          ],
          "mesh3d": [
           {
            "colorbar": {
             "outlinewidth": 0,
             "ticks": ""
            },
            "type": "mesh3d"
           }
          ],
          "parcoords": [
           {
            "line": {
             "colorbar": {
              "outlinewidth": 0,
              "ticks": ""
             }
            },
            "type": "parcoords"
           }
          ],
          "pie": [
           {
            "automargin": true,
            "type": "pie"
           }
          ],
          "scatter": [
           {
            "fillpattern": {
             "fillmode": "overlay",
             "size": 10,
             "solidity": 0.2
            },
            "type": "scatter"
           }
          ],
          "scatter3d": [
           {
            "line": {
             "colorbar": {
              "outlinewidth": 0,
              "ticks": ""
             }
            },
            "marker": {
             "colorbar": {
              "outlinewidth": 0,
              "ticks": ""
             }
            },
            "type": "scatter3d"
           }
          ],
          "scattercarpet": [
           {
            "marker": {
             "colorbar": {
              "outlinewidth": 0,
              "ticks": ""
             }
            },
            "type": "scattercarpet"
           }
          ],
          "scattergeo": [
           {
            "marker": {
             "colorbar": {
              "outlinewidth": 0,
              "ticks": ""
             }
            },
            "type": "scattergeo"
           }
          ],
          "scattergl": [
           {
            "marker": {
             "colorbar": {
              "outlinewidth": 0,
              "ticks": ""
             }
            },
            "type": "scattergl"
           }
          ],
          "scattermapbox": [
           {
            "marker": {
             "colorbar": {
              "outlinewidth": 0,
              "ticks": ""
             }
            },
            "type": "scattermapbox"
           }
          ],
          "scatterpolar": [
           {
            "marker": {
             "colorbar": {
              "outlinewidth": 0,
              "ticks": ""
             }
            },
            "type": "scatterpolar"
           }
          ],
          "scatterpolargl": [
           {
            "marker": {
             "colorbar": {
              "outlinewidth": 0,
              "ticks": ""
             }
            },
            "type": "scatterpolargl"
           }
          ],
          "scatterternary": [
           {
            "marker": {
             "colorbar": {
              "outlinewidth": 0,
              "ticks": ""
             }
            },
            "type": "scatterternary"
           }
          ],
          "surface": [
           {
            "colorbar": {
             "outlinewidth": 0,
             "ticks": ""
            },
            "colorscale": [
             [
              0,
              "#0d0887"
             ],
             [
              0.1111111111111111,
              "#46039f"
             ],
             [
              0.2222222222222222,
              "#7201a8"
             ],
             [
              0.3333333333333333,
              "#9c179e"
             ],
             [
              0.4444444444444444,
              "#bd3786"
             ],
             [
              0.5555555555555556,
              "#d8576b"
             ],
             [
              0.6666666666666666,
              "#ed7953"
             ],
             [
              0.7777777777777778,
              "#fb9f3a"
             ],
             [
              0.8888888888888888,
              "#fdca26"
             ],
             [
              1,
              "#f0f921"
             ]
            ],
            "type": "surface"
           }
          ],
          "table": [
           {
            "cells": {
             "fill": {
              "color": "#EBF0F8"
             },
             "line": {
              "color": "white"
             }
            },
            "header": {
             "fill": {
              "color": "#C8D4E3"
             },
             "line": {
              "color": "white"
             }
            },
            "type": "table"
           }
          ]
         },
         "layout": {
          "annotationdefaults": {
           "arrowcolor": "#2a3f5f",
           "arrowhead": 0,
           "arrowwidth": 1
          },
          "autotypenumbers": "strict",
          "coloraxis": {
           "colorbar": {
            "outlinewidth": 0,
            "ticks": ""
           }
          },
          "colorscale": {
           "diverging": [
            [
             0,
             "#8e0152"
            ],
            [
             0.1,
             "#c51b7d"
            ],
            [
             0.2,
             "#de77ae"
            ],
            [
             0.3,
             "#f1b6da"
            ],
            [
             0.4,
             "#fde0ef"
            ],
            [
             0.5,
             "#f7f7f7"
            ],
            [
             0.6,
             "#e6f5d0"
            ],
            [
             0.7,
             "#b8e186"
            ],
            [
             0.8,
             "#7fbc41"
            ],
            [
             0.9,
             "#4d9221"
            ],
            [
             1,
             "#276419"
            ]
           ],
           "sequential": [
            [
             0,
             "#0d0887"
            ],
            [
             0.1111111111111111,
             "#46039f"
            ],
            [
             0.2222222222222222,
             "#7201a8"
            ],
            [
             0.3333333333333333,
             "#9c179e"
            ],
            [
             0.4444444444444444,
             "#bd3786"
            ],
            [
             0.5555555555555556,
             "#d8576b"
            ],
            [
             0.6666666666666666,
             "#ed7953"
            ],
            [
             0.7777777777777778,
             "#fb9f3a"
            ],
            [
             0.8888888888888888,
             "#fdca26"
            ],
            [
             1,
             "#f0f921"
            ]
           ],
           "sequentialminus": [
            [
             0,
             "#0d0887"
            ],
            [
             0.1111111111111111,
             "#46039f"
            ],
            [
             0.2222222222222222,
             "#7201a8"
            ],
            [
             0.3333333333333333,
             "#9c179e"
            ],
            [
             0.4444444444444444,
             "#bd3786"
            ],
            [
             0.5555555555555556,
             "#d8576b"
            ],
            [
             0.6666666666666666,
             "#ed7953"
            ],
            [
             0.7777777777777778,
             "#fb9f3a"
            ],
            [
             0.8888888888888888,
             "#fdca26"
            ],
            [
             1,
             "#f0f921"
            ]
           ]
          },
          "colorway": [
           "#636efa",
           "#EF553B",
           "#00cc96",
           "#ab63fa",
           "#FFA15A",
           "#19d3f3",
           "#FF6692",
           "#B6E880",
           "#FF97FF",
           "#FECB52"
          ],
          "font": {
           "color": "#2a3f5f"
          },
          "geo": {
           "bgcolor": "white",
           "lakecolor": "white",
           "landcolor": "#E5ECF6",
           "showlakes": true,
           "showland": true,
           "subunitcolor": "white"
          },
          "hoverlabel": {
           "align": "left"
          },
          "hovermode": "closest",
          "mapbox": {
           "style": "light"
          },
          "paper_bgcolor": "white",
          "plot_bgcolor": "#E5ECF6",
          "polar": {
           "angularaxis": {
            "gridcolor": "white",
            "linecolor": "white",
            "ticks": ""
           },
           "bgcolor": "#E5ECF6",
           "radialaxis": {
            "gridcolor": "white",
            "linecolor": "white",
            "ticks": ""
           }
          },
          "scene": {
           "xaxis": {
            "backgroundcolor": "#E5ECF6",
            "gridcolor": "white",
            "gridwidth": 2,
            "linecolor": "white",
            "showbackground": true,
            "ticks": "",
            "zerolinecolor": "white"
           },
           "yaxis": {
            "backgroundcolor": "#E5ECF6",
            "gridcolor": "white",
            "gridwidth": 2,
            "linecolor": "white",
            "showbackground": true,
            "ticks": "",
            "zerolinecolor": "white"
           },
           "zaxis": {
            "backgroundcolor": "#E5ECF6",
            "gridcolor": "white",
            "gridwidth": 2,
            "linecolor": "white",
            "showbackground": true,
            "ticks": "",
            "zerolinecolor": "white"
           }
          },
          "shapedefaults": {
           "line": {
            "color": "#2a3f5f"
           }
          },
          "ternary": {
           "aaxis": {
            "gridcolor": "white",
            "linecolor": "white",
            "ticks": ""
           },
           "baxis": {
            "gridcolor": "white",
            "linecolor": "white",
            "ticks": ""
           },
           "bgcolor": "#E5ECF6",
           "caxis": {
            "gridcolor": "white",
            "linecolor": "white",
            "ticks": ""
           }
          },
          "title": {
           "x": 0.05
          },
          "xaxis": {
           "automargin": true,
           "gridcolor": "white",
           "linecolor": "white",
           "ticks": "",
           "title": {
            "standoff": 15
           },
           "zerolinecolor": "white",
           "zerolinewidth": 2
          },
          "yaxis": {
           "automargin": true,
           "gridcolor": "white",
           "linecolor": "white",
           "ticks": "",
           "title": {
            "standoff": 15
           },
           "zerolinecolor": "white",
           "zerolinewidth": 2
          }
         }
        },
        "title": {
         "text": "PM2.5 average readings for each city between 2015 - 2020"
        },
        "xaxis": {
         "anchor": "y",
         "domain": [
          0,
          1
         ],
         "title": {
          "text": "Year"
         }
        },
        "yaxis": {
         "anchor": "x",
         "domain": [
          0,
          1
         ],
         "title": {
          "text": "PM2.5"
         }
        }
       }
      }
     },
     "metadata": {},
     "output_type": "display_data"
    }
   ],
   "source": [
    "fig=px.bar(city_annual_avg, x='Year', y='PM2.5', color='City', barmode='group',title='PM2.5 average readings for each city between 2015 - 2020')\n",
    "fig.show()"
   ]
  },
  {
   "cell_type": "code",
   "execution_count": null,
   "id": "f29d20e8",
   "metadata": {
    "execution": {
     "iopub.execute_input": "2023-05-10T11:43:51.879532Z",
     "iopub.status.busy": "2023-05-10T11:43:51.879054Z",
     "iopub.status.idle": "2023-05-10T11:43:51.943432Z",
     "shell.execute_reply": "2023-05-10T11:43:51.941856Z"
    },
    "papermill": {
     "duration": 0.10048,
     "end_time": "2023-05-10T11:43:51.946271",
     "exception": false,
     "start_time": "2023-05-10T11:43:51.845791",
     "status": "completed"
    },
    "tags": []
   },
   "outputs": [
    {
     "data": {
      "application/vnd.plotly.v1+json": {
       "config": {
        "plotlyServerURL": "https://plot.ly"
       },
       "data": [
        {
         "alignmentgroup": "True",
         "hovertemplate": "City=%{x}<br>PM2.5=%{y}<br>Year=%{marker.color}<extra></extra>",
         "legendgroup": "",
         "marker": {
          "color": [
           2015,
           2016,
           2017,
           2018,
           2019,
           2020,
           2020,
           2017,
           2018,
           2019,
           2020,
           2017,
           2018,
           2019,
           2020,
           2015,
           2016,
           2017,
           2018,
           2019,
           2020,
           2019,
           2020,
           2017,
           2018,
           2019,
           2020,
           2019,
           2020,
           2015,
           2016,
           2017,
           2018,
           2019,
           2020,
           2019,
           2020,
           2015,
           2016,
           2017,
           2018,
           2019,
           2020,
           2020,
           2015,
           2016,
           2017,
           2018,
           2019,
           2020,
           2019,
           2020,
           2015,
           2016,
           2017,
           2018,
           2019,
           2020,
           2017,
           2018,
           2019,
           2020,
           2017,
           2018,
           2019,
           2020,
           2020,
           2018,
           2019,
           2020,
           2015,
           2016,
           2017,
           2018,
           2019,
           2020,
           2015,
           2016,
           2017,
           2018,
           2019,
           2020,
           2015,
           2016,
           2017,
           2018,
           2019,
           2020,
           2019,
           2020,
           2017,
           2018,
           2019,
           2020,
           2017,
           2018,
           2019,
           2020,
           2016,
           2017,
           2018,
           2019,
           2020
          ],
          "coloraxis": "coloraxis",
          "pattern": {
           "shape": ""
          }
         },
         "name": "",
         "offsetgroup": "",
         "orientation": "v",
         "showlegend": false,
         "textposition": "auto",
         "type": "bar",
         "x": [
          "Ahmedabad",
          "Ahmedabad",
          "Ahmedabad",
          "Ahmedabad",
          "Ahmedabad",
          "Ahmedabad",
          "Aizawl",
          "Amaravati",
          "Amaravati",
          "Amaravati",
          "Amaravati",
          "Amritsar",
          "Amritsar",
          "Amritsar",
          "Amritsar",
          "Bengaluru",
          "Bengaluru",
          "Bengaluru",
          "Bengaluru",
          "Bengaluru",
          "Bengaluru",
          "Bhopal",
          "Bhopal",
          "Brajrajnagar",
          "Brajrajnagar",
          "Brajrajnagar",
          "Brajrajnagar",
          "Chandigarh",
          "Chandigarh",
          "Chennai",
          "Chennai",
          "Chennai",
          "Chennai",
          "Chennai",
          "Chennai",
          "Coimbatore",
          "Coimbatore",
          "Delhi",
          "Delhi",
          "Delhi",
          "Delhi",
          "Delhi",
          "Delhi",
          "Ernakulam",
          "Gurugram",
          "Gurugram",
          "Gurugram",
          "Gurugram",
          "Gurugram",
          "Gurugram",
          "Guwahati",
          "Guwahati",
          "Hyderabad",
          "Hyderabad",
          "Hyderabad",
          "Hyderabad",
          "Hyderabad",
          "Hyderabad",
          "Jaipur",
          "Jaipur",
          "Jaipur",
          "Jaipur",
          "Jorapokhar",
          "Jorapokhar",
          "Jorapokhar",
          "Jorapokhar",
          "Kochi",
          "Kolkata",
          "Kolkata",
          "Kolkata",
          "Lucknow",
          "Lucknow",
          "Lucknow",
          "Lucknow",
          "Lucknow",
          "Lucknow",
          "Mumbai",
          "Mumbai",
          "Mumbai",
          "Mumbai",
          "Mumbai",
          "Mumbai",
          "Patna",
          "Patna",
          "Patna",
          "Patna",
          "Patna",
          "Patna",
          "Shillong",
          "Shillong",
          "Talcher",
          "Talcher",
          "Talcher",
          "Talcher",
          "Thiruvananthapuram",
          "Thiruvananthapuram",
          "Thiruvananthapuram",
          "Thiruvananthapuram",
          "Visakhapatnam",
          "Visakhapatnam",
          "Visakhapatnam",
          "Visakhapatnam",
          "Visakhapatnam"
         ],
         "xaxis": "x",
         "y": [
          76.4793150684933,
          65.75983606557396,
          71.71128767123317,
          74.64912328767126,
          62.206109589041155,
          43.47448087431693,
          18.02061946902656,
          84.00605263157894,
          38.51104109589043,
          42.536931506849434,
          26.767868852459014,
          73.07909090909095,
          58.05832876712344,
          50.733561643835614,
          38.48683060109293,
          37.10676712328765,
          49.38825136612027,
          35.929917808219166,
          36.54884931506851,
          35.424767123287666,
          30.46546448087431,
          67.28849056603774,
          40.93524590163936,
          88.3748,
          67.94934246575362,
          58.51660273972607,
          67.45459016393447,
          64.71000000000002,
          27.69661202185793,
          62.27161643835614,
          56.405901639344314,
          53.348356164383574,
          52.14273972602739,
          43.93802739726027,
          29.407540983606552,
          30.154532019704416,
          29.713278688524603,
          117.34082191780824,
          138.50284153005467,
          124.77487671232873,
          115.01939726027392,
          108.50147945205488,
          80.31797814207653,
          25.994259259259252,
          67.45,
          111.54448087431693,
          157.49917808219183,
          114.42728767123292,
          93.8833972602739,
          67.01792349726779,
          57.80338557993731,
          73.95939890710386,
          64.98715469613258,
          54.331010928961824,
          43.7210684931507,
          43.12846575342466,
          41.55378082191781,
          35.09781420765026,
          65.87353233830845,
          61.34679452054795,
          48.93131506849316,
          40.31196721311476,
          67.45000000000032,
          67.45000000000044,
          68.1792328767126,
          59.32453551912578,
          31.42851851851853,
          71.48090225563905,
          68.31945205479455,
          47.05256830601093,
          93.36147945205477,
          120.79368852459018,
          121.7092876712329,
          119.2455342465753,
          98.08865753424654,
          76.86508196721307,
          67.45000000000044,
          67.45000000000044,
          67.45000000000044,
          46.358575342465734,
          34.73684931506848,
          36.594316939890696,
          125.18401869158872,
          132.76557377049178,
          117.10698630137021,
          120.72506849315073,
          104.2646301369863,
          61.32169398907104,
          43.594409448818865,
          34.7705464480874,
          67.45000000000002,
          70.59408219178096,
          51.67158904109592,
          68.17404371584709,
          30.00472361809043,
          33.14605479452054,
          26.9844109589041,
          26.849836065573783,
          45.71858695652173,
          62.34673972602772,
          51.36550684931512,
          48.0384657534247,
          32.39797814207651
         ],
         "yaxis": "y"
        }
       ],
       "layout": {
        "barmode": "relative",
        "coloraxis": {
         "colorbar": {
          "title": {
           "text": "Year"
          }
         },
         "colorscale": [
          [
           0,
           "#0d0887"
          ],
          [
           0.1111111111111111,
           "#46039f"
          ],
          [
           0.2222222222222222,
           "#7201a8"
          ],
          [
           0.3333333333333333,
           "#9c179e"
          ],
          [
           0.4444444444444444,
           "#bd3786"
          ],
          [
           0.5555555555555556,
           "#d8576b"
          ],
          [
           0.6666666666666666,
           "#ed7953"
          ],
          [
           0.7777777777777778,
           "#fb9f3a"
          ],
          [
           0.8888888888888888,
           "#fdca26"
          ],
          [
           1,
           "#f0f921"
          ]
         ]
        },
        "legend": {
         "tracegroupgap": 0
        },
        "template": {
         "data": {
          "bar": [
           {
            "error_x": {
             "color": "#2a3f5f"
            },
            "error_y": {
             "color": "#2a3f5f"
            },
            "marker": {
             "line": {
              "color": "#E5ECF6",
              "width": 0.5
             },
             "pattern": {
              "fillmode": "overlay",
              "size": 10,
              "solidity": 0.2
             }
            },
            "type": "bar"
           }
          ],
          "barpolar": [
           {
            "marker": {
             "line": {
              "color": "#E5ECF6",
              "width": 0.5
             },
             "pattern": {
              "fillmode": "overlay",
              "size": 10,
              "solidity": 0.2
             }
            },
            "type": "barpolar"
           }
          ],
          "carpet": [
           {
            "aaxis": {
             "endlinecolor": "#2a3f5f",
             "gridcolor": "white",
             "linecolor": "white",
             "minorgridcolor": "white",
             "startlinecolor": "#2a3f5f"
            },
            "baxis": {
             "endlinecolor": "#2a3f5f",
             "gridcolor": "white",
             "linecolor": "white",
             "minorgridcolor": "white",
             "startlinecolor": "#2a3f5f"
            },
            "type": "carpet"
           }
          ],
          "choropleth": [
           {
            "colorbar": {
             "outlinewidth": 0,
             "ticks": ""
            },
            "type": "choropleth"
           }
          ],
          "contour": [
           {
            "colorbar": {
             "outlinewidth": 0,
             "ticks": ""
            },
            "colorscale": [
             [
              0,
              "#0d0887"
             ],
             [
              0.1111111111111111,
              "#46039f"
             ],
             [
              0.2222222222222222,
              "#7201a8"
             ],
             [
              0.3333333333333333,
              "#9c179e"
             ],
             [
              0.4444444444444444,
              "#bd3786"
             ],
             [
              0.5555555555555556,
              "#d8576b"
             ],
             [
              0.6666666666666666,
              "#ed7953"
             ],
             [
              0.7777777777777778,
              "#fb9f3a"
             ],
             [
              0.8888888888888888,
              "#fdca26"
             ],
             [
              1,
              "#f0f921"
             ]
            ],
            "type": "contour"
           }
          ],
          "contourcarpet": [
           {
            "colorbar": {
             "outlinewidth": 0,
             "ticks": ""
            },
            "type": "contourcarpet"
           }
          ],
          "heatmap": [
           {
            "colorbar": {
             "outlinewidth": 0,
             "ticks": ""
            },
            "colorscale": [
             [
              0,
              "#0d0887"
             ],
             [
              0.1111111111111111,
              "#46039f"
             ],
             [
              0.2222222222222222,
              "#7201a8"
             ],
             [
              0.3333333333333333,
              "#9c179e"
             ],
             [
              0.4444444444444444,
              "#bd3786"
             ],
             [
              0.5555555555555556,
              "#d8576b"
             ],
             [
              0.6666666666666666,
              "#ed7953"
             ],
             [
              0.7777777777777778,
              "#fb9f3a"
             ],
             [
              0.8888888888888888,
              "#fdca26"
             ],
             [
              1,
              "#f0f921"
             ]
            ],
            "type": "heatmap"
           }
          ],
          "heatmapgl": [
           {
            "colorbar": {
             "outlinewidth": 0,
             "ticks": ""
            },
            "colorscale": [
             [
              0,
              "#0d0887"
             ],
             [
              0.1111111111111111,
              "#46039f"
             ],
             [
              0.2222222222222222,
              "#7201a8"
             ],
             [
              0.3333333333333333,
              "#9c179e"
             ],
             [
              0.4444444444444444,
              "#bd3786"
             ],
             [
              0.5555555555555556,
              "#d8576b"
             ],
             [
              0.6666666666666666,
              "#ed7953"
             ],
             [
              0.7777777777777778,
              "#fb9f3a"
             ],
             [
              0.8888888888888888,
              "#fdca26"
             ],
             [
              1,
              "#f0f921"
             ]
            ],
            "type": "heatmapgl"
           }
          ],
          "histogram": [
           {
            "marker": {
             "pattern": {
              "fillmode": "overlay",
              "size": 10,
              "solidity": 0.2
             }
            },
            "type": "histogram"
           }
          ],
          "histogram2d": [
           {
            "colorbar": {
             "outlinewidth": 0,
             "ticks": ""
            },
            "colorscale": [
             [
              0,
              "#0d0887"
             ],
             [
              0.1111111111111111,
              "#46039f"
             ],
             [
              0.2222222222222222,
              "#7201a8"
             ],
             [
              0.3333333333333333,
              "#9c179e"
             ],
             [
              0.4444444444444444,
              "#bd3786"
             ],
             [
              0.5555555555555556,
              "#d8576b"
             ],
             [
              0.6666666666666666,
              "#ed7953"
             ],
             [
              0.7777777777777778,
              "#fb9f3a"
             ],
             [
              0.8888888888888888,
              "#fdca26"
             ],
             [
              1,
              "#f0f921"
             ]
            ],
            "type": "histogram2d"
           }
          ],
          "histogram2dcontour": [
           {
            "colorbar": {
             "outlinewidth": 0,
             "ticks": ""
            },
            "colorscale": [
             [
              0,
              "#0d0887"
             ],
             [
              0.1111111111111111,
              "#46039f"
             ],
             [
              0.2222222222222222,
              "#7201a8"
             ],
             [
              0.3333333333333333,
              "#9c179e"
             ],
             [
              0.4444444444444444,
              "#bd3786"
             ],
             [
              0.5555555555555556,
              "#d8576b"
             ],
             [
              0.6666666666666666,
              "#ed7953"
             ],
             [
              0.7777777777777778,
              "#fb9f3a"
             ],
             [
              0.8888888888888888,
              "#fdca26"
             ],
             [
              1,
              "#f0f921"
             ]
            ],
            "type": "histogram2dcontour"
           }
          ],
          "mesh3d": [
           {
            "colorbar": {
             "outlinewidth": 0,
             "ticks": ""
            },
            "type": "mesh3d"
           }
          ],
          "parcoords": [
           {
            "line": {
             "colorbar": {
              "outlinewidth": 0,
              "ticks": ""
             }
            },
            "type": "parcoords"
           }
          ],
          "pie": [
           {
            "automargin": true,
            "type": "pie"
           }
          ],
          "scatter": [
           {
            "fillpattern": {
             "fillmode": "overlay",
             "size": 10,
             "solidity": 0.2
            },
            "type": "scatter"
           }
          ],
          "scatter3d": [
           {
            "line": {
             "colorbar": {
              "outlinewidth": 0,
              "ticks": ""
             }
            },
            "marker": {
             "colorbar": {
              "outlinewidth": 0,
              "ticks": ""
             }
            },
            "type": "scatter3d"
           }
          ],
          "scattercarpet": [
           {
            "marker": {
             "colorbar": {
              "outlinewidth": 0,
              "ticks": ""
             }
            },
            "type": "scattercarpet"
           }
          ],
          "scattergeo": [
           {
            "marker": {
             "colorbar": {
              "outlinewidth": 0,
              "ticks": ""
             }
            },
            "type": "scattergeo"
           }
          ],
          "scattergl": [
           {
            "marker": {
             "colorbar": {
              "outlinewidth": 0,
              "ticks": ""
             }
            },
            "type": "scattergl"
           }
          ],
          "scattermapbox": [
           {
            "marker": {
             "colorbar": {
              "outlinewidth": 0,
              "ticks": ""
             }
            },
            "type": "scattermapbox"
           }
          ],
          "scatterpolar": [
           {
            "marker": {
             "colorbar": {
              "outlinewidth": 0,
              "ticks": ""
             }
            },
            "type": "scatterpolar"
           }
          ],
          "scatterpolargl": [
           {
            "marker": {
             "colorbar": {
              "outlinewidth": 0,
              "ticks": ""
             }
            },
            "type": "scatterpolargl"
           }
          ],
          "scatterternary": [
           {
            "marker": {
             "colorbar": {
              "outlinewidth": 0,
              "ticks": ""
             }
            },
            "type": "scatterternary"
           }
          ],
          "surface": [
           {
            "colorbar": {
             "outlinewidth": 0,
             "ticks": ""
            },
            "colorscale": [
             [
              0,
              "#0d0887"
             ],
             [
              0.1111111111111111,
              "#46039f"
             ],
             [
              0.2222222222222222,
              "#7201a8"
             ],
             [
              0.3333333333333333,
              "#9c179e"
             ],
             [
              0.4444444444444444,
              "#bd3786"
             ],
             [
              0.5555555555555556,
              "#d8576b"
             ],
             [
              0.6666666666666666,
              "#ed7953"
             ],
             [
              0.7777777777777778,
              "#fb9f3a"
             ],
             [
              0.8888888888888888,
              "#fdca26"
             ],
             [
              1,
              "#f0f921"
             ]
            ],
            "type": "surface"
           }
          ],
          "table": [
           {
            "cells": {
             "fill": {
              "color": "#EBF0F8"
             },
             "line": {
              "color": "white"
             }
            },
            "header": {
             "fill": {
              "color": "#C8D4E3"
             },
             "line": {
              "color": "white"
             }
            },
            "type": "table"
           }
          ]
         },
         "layout": {
          "annotationdefaults": {
           "arrowcolor": "#2a3f5f",
           "arrowhead": 0,
           "arrowwidth": 1
          },
          "autotypenumbers": "strict",
          "coloraxis": {
           "colorbar": {
            "outlinewidth": 0,
            "ticks": ""
           }
          },
          "colorscale": {
           "diverging": [
            [
             0,
             "#8e0152"
            ],
            [
             0.1,
             "#c51b7d"
            ],
            [
             0.2,
             "#de77ae"
            ],
            [
             0.3,
             "#f1b6da"
            ],
            [
             0.4,
             "#fde0ef"
            ],
            [
             0.5,
             "#f7f7f7"
            ],
            [
             0.6,
             "#e6f5d0"
            ],
            [
             0.7,
             "#b8e186"
            ],
            [
             0.8,
             "#7fbc41"
            ],
            [
             0.9,
             "#4d9221"
            ],
            [
             1,
             "#276419"
            ]
           ],
           "sequential": [
            [
             0,
             "#0d0887"
            ],
            [
             0.1111111111111111,
             "#46039f"
            ],
            [
             0.2222222222222222,
             "#7201a8"
            ],
            [
             0.3333333333333333,
             "#9c179e"
            ],
            [
             0.4444444444444444,
             "#bd3786"
            ],
            [
             0.5555555555555556,
             "#d8576b"
            ],
            [
             0.6666666666666666,
             "#ed7953"
            ],
            [
             0.7777777777777778,
             "#fb9f3a"
            ],
            [
             0.8888888888888888,
             "#fdca26"
            ],
            [
             1,
             "#f0f921"
            ]
           ],
           "sequentialminus": [
            [
             0,
             "#0d0887"
            ],
            [
             0.1111111111111111,
             "#46039f"
            ],
            [
             0.2222222222222222,
             "#7201a8"
            ],
            [
             0.3333333333333333,
             "#9c179e"
            ],
            [
             0.4444444444444444,
             "#bd3786"
            ],
            [
             0.5555555555555556,
             "#d8576b"
            ],
            [
             0.6666666666666666,
             "#ed7953"
            ],
            [
             0.7777777777777778,
             "#fb9f3a"
            ],
            [
             0.8888888888888888,
             "#fdca26"
            ],
            [
             1,
             "#f0f921"
            ]
           ]
          },
          "colorway": [
           "#636efa",
           "#EF553B",
           "#00cc96",
           "#ab63fa",
           "#FFA15A",
           "#19d3f3",
           "#FF6692",
           "#B6E880",
           "#FF97FF",
           "#FECB52"
          ],
          "font": {
           "color": "#2a3f5f"
          },
          "geo": {
           "bgcolor": "white",
           "lakecolor": "white",
           "landcolor": "#E5ECF6",
           "showlakes": true,
           "showland": true,
           "subunitcolor": "white"
          },
          "hoverlabel": {
           "align": "left"
          },
          "hovermode": "closest",
          "mapbox": {
           "style": "light"
          },
          "paper_bgcolor": "white",
          "plot_bgcolor": "#E5ECF6",
          "polar": {
           "angularaxis": {
            "gridcolor": "white",
            "linecolor": "white",
            "ticks": ""
           },
           "bgcolor": "#E5ECF6",
           "radialaxis": {
            "gridcolor": "white",
            "linecolor": "white",
            "ticks": ""
           }
          },
          "scene": {
           "xaxis": {
            "backgroundcolor": "#E5ECF6",
            "gridcolor": "white",
            "gridwidth": 2,
            "linecolor": "white",
            "showbackground": true,
            "ticks": "",
            "zerolinecolor": "white"
           },
           "yaxis": {
            "backgroundcolor": "#E5ECF6",
            "gridcolor": "white",
            "gridwidth": 2,
            "linecolor": "white",
            "showbackground": true,
            "ticks": "",
            "zerolinecolor": "white"
           },
           "zaxis": {
            "backgroundcolor": "#E5ECF6",
            "gridcolor": "white",
            "gridwidth": 2,
            "linecolor": "white",
            "showbackground": true,
            "ticks": "",
            "zerolinecolor": "white"
           }
          },
          "shapedefaults": {
           "line": {
            "color": "#2a3f5f"
           }
          },
          "ternary": {
           "aaxis": {
            "gridcolor": "white",
            "linecolor": "white",
            "ticks": ""
           },
           "baxis": {
            "gridcolor": "white",
            "linecolor": "white",
            "ticks": ""
           },
           "bgcolor": "#E5ECF6",
           "caxis": {
            "gridcolor": "white",
            "linecolor": "white",
            "ticks": ""
           }
          },
          "title": {
           "x": 0.05
          },
          "xaxis": {
           "automargin": true,
           "gridcolor": "white",
           "linecolor": "white",
           "ticks": "",
           "title": {
            "standoff": 15
           },
           "zerolinecolor": "white",
           "zerolinewidth": 2
          },
          "yaxis": {
           "automargin": true,
           "gridcolor": "white",
           "linecolor": "white",
           "ticks": "",
           "title": {
            "standoff": 15
           },
           "zerolinecolor": "white",
           "zerolinewidth": 2
          }
         }
        },
        "title": {
         "text": "Annual Average PM2.5 Readings for each City, 2015-2020"
        },
        "xaxis": {
         "anchor": "y",
         "domain": [
          0,
          1
         ],
         "title": {
          "text": "City"
         }
        },
        "yaxis": {
         "anchor": "x",
         "domain": [
          0,
          1
         ],
         "title": {
          "text": "PM2.5"
         }
        }
       }
      }
     },
     "metadata": {},
     "output_type": "display_data"
    }
   ],
   "source": [
    "fig=px.bar(city_annual_avg, x='City', y='PM2.5' , color='Year', title='Annual Average PM2.5 Readings for each City, 2015-2020')\n",
    "fig.show()"
   ]
  },
  {
   "cell_type": "code",
   "execution_count": null,
   "id": "8959be22",
   "metadata": {
    "execution": {
     "iopub.execute_input": "2023-05-10T11:43:52.071375Z",
     "iopub.status.busy": "2023-05-10T11:43:52.070900Z",
     "iopub.status.idle": "2023-05-10T11:43:52.241027Z",
     "shell.execute_reply": "2023-05-10T11:43:52.239753Z"
    },
    "papermill": {
     "duration": 0.205462,
     "end_time": "2023-05-10T11:43:52.243938",
     "exception": false,
     "start_time": "2023-05-10T11:43:52.038476",
     "status": "completed"
    },
    "tags": []
   },
   "outputs": [
    {
     "data": {
      "application/vnd.plotly.v1+json": {
       "config": {
        "plotlyServerURL": "https://plot.ly"
       },
       "data": [
        {
         "alignmentgroup": "True",
         "hovertemplate": "City=Ahmedabad<br>Year=%{x}<br>NO2=%{y}<extra></extra>",
         "legendgroup": "Ahmedabad",
         "marker": {
          "color": "#636efa",
          "pattern": {
           "shape": ""
          }
         },
         "name": "Ahmedabad",
         "offsetgroup": "Ahmedabad",
         "orientation": "v",
         "showlegend": true,
         "textposition": "auto",
         "type": "bar",
         "x": [
          2015,
          2016,
          2017,
          2018,
          2019,
          2020
         ],
         "xaxis": "x",
         "y": [
          22.435068493150748,
          23.91617486338801,
          37.44150684931518,
          84.62857534246572,
          90.06295890410954,
          31.0848087431694
         ],
         "yaxis": "y"
        },
        {
         "alignmentgroup": "True",
         "hovertemplate": "City=Aizawl<br>Year=%{x}<br>NO2=%{y}<extra></extra>",
         "legendgroup": "Aizawl",
         "marker": {
          "color": "#EF553B",
          "pattern": {
           "shape": ""
          }
         },
         "name": "Aizawl",
         "offsetgroup": "Aizawl",
         "orientation": "v",
         "showlegend": true,
         "textposition": "auto",
         "type": "bar",
         "x": [
          2020
         ],
         "xaxis": "x",
         "y": [
          0.38849557522123906
         ],
         "yaxis": "y"
        },
        {
         "alignmentgroup": "True",
         "hovertemplate": "City=Amaravati<br>Year=%{x}<br>NO2=%{y}<extra></extra>",
         "legendgroup": "Amaravati",
         "marker": {
          "color": "#00cc96",
          "pattern": {
           "shape": ""
          }
         },
         "name": "Amaravati",
         "offsetgroup": "Amaravati",
         "orientation": "v",
         "showlegend": true,
         "textposition": "auto",
         "type": "bar",
         "x": [
          2017,
          2018,
          2019,
          2020
         ],
         "xaxis": "x",
         "y": [
          37.028684210526315,
          26.43224657534248,
          23.709616438356214,
          9.461202185792356
         ],
         "yaxis": "y"
        },
        {
         "alignmentgroup": "True",
         "hovertemplate": "City=Amritsar<br>Year=%{x}<br>NO2=%{y}<extra></extra>",
         "legendgroup": "Amritsar",
         "marker": {
          "color": "#ab63fa",
          "pattern": {
           "shape": ""
          }
         },
         "name": "Amritsar",
         "offsetgroup": "Amritsar",
         "orientation": "v",
         "showlegend": true,
         "textposition": "auto",
         "type": "bar",
         "x": [
          2017,
          2018,
          2019,
          2020
         ],
         "xaxis": "x",
         "y": [
          21.195519480519483,
          22.062986301369854,
          15.86534246575342,
          14.672732240437151
         ],
         "yaxis": "y"
        },
        {
         "alignmentgroup": "True",
         "hovertemplate": "City=Bengaluru<br>Year=%{x}<br>NO2=%{y}<extra></extra>",
         "legendgroup": "Bengaluru",
         "marker": {
          "color": "#FFA15A",
          "pattern": {
           "shape": ""
          }
         },
         "name": "Bengaluru",
         "offsetgroup": "Bengaluru",
         "orientation": "v",
         "showlegend": true,
         "textposition": "auto",
         "type": "bar",
         "x": [
          2015,
          2016,
          2017,
          2018,
          2019,
          2020
         ],
         "xaxis": "x",
         "y": [
          19.923643835616435,
          30.0700819672131,
          36.346438356164384,
          28.56367123287671,
          28.37643835616438,
          21.410163934426233
         ],
         "yaxis": "y"
        },
        {
         "alignmentgroup": "True",
         "hovertemplate": "City=Bhopal<br>Year=%{x}<br>NO2=%{y}<extra></extra>",
         "legendgroup": "Bhopal",
         "marker": {
          "color": "#19d3f3",
          "pattern": {
           "shape": ""
          }
         },
         "name": "Bhopal",
         "offsetgroup": "Bhopal",
         "orientation": "v",
         "showlegend": true,
         "textposition": "auto",
         "type": "bar",
         "x": [
          2019,
          2020
         ],
         "xaxis": "x",
         "y": [
          44.74905660377359,
          23.44442622950821
         ],
         "yaxis": "y"
        },
        {
         "alignmentgroup": "True",
         "hovertemplate": "City=Brajrajnagar<br>Year=%{x}<br>NO2=%{y}<extra></extra>",
         "legendgroup": "Brajrajnagar",
         "marker": {
          "color": "#FF6692",
          "pattern": {
           "shape": ""
          }
         },
         "name": "Brajrajnagar",
         "offsetgroup": "Brajrajnagar",
         "orientation": "v",
         "showlegend": true,
         "textposition": "auto",
         "type": "bar",
         "x": [
          2017,
          2018,
          2019,
          2020
         ],
         "xaxis": "x",
         "y": [
          15.187199999999994,
          20.361616438356233,
          17.387561643835614,
          22.706939890710366
         ],
         "yaxis": "y"
        },
        {
         "alignmentgroup": "True",
         "hovertemplate": "City=Chandigarh<br>Year=%{x}<br>NO2=%{y}<extra></extra>",
         "legendgroup": "Chandigarh",
         "marker": {
          "color": "#B6E880",
          "pattern": {
           "shape": ""
          }
         },
         "name": "Chandigarh",
         "offsetgroup": "Chandigarh",
         "orientation": "v",
         "showlegend": true,
         "textposition": "auto",
         "type": "bar",
         "x": [
          2019,
          2020
         ],
         "xaxis": "x",
         "y": [
          11.106528925619836,
          12.315136612021863
         ],
         "yaxis": "y"
        },
        {
         "alignmentgroup": "True",
         "hovertemplate": "City=Chennai<br>Year=%{x}<br>NO2=%{y}<extra></extra>",
         "legendgroup": "Chennai",
         "marker": {
          "color": "#FF97FF",
          "pattern": {
           "shape": ""
          }
         },
         "name": "Chennai",
         "offsetgroup": "Chennai",
         "orientation": "v",
         "showlegend": true,
         "textposition": "auto",
         "type": "bar",
         "x": [
          2015,
          2016,
          2017,
          2018,
          2019,
          2020
         ],
         "xaxis": "x",
         "y": [
          19.38334246575342,
          17.472677595628422,
          15.139726027397263,
          20.052109589041095,
          16.206876712328757,
          11.244808743169397
         ],
         "yaxis": "y"
        },
        {
         "alignmentgroup": "True",
         "hovertemplate": "City=Coimbatore<br>Year=%{x}<br>NO2=%{y}<extra></extra>",
         "legendgroup": "Coimbatore",
         "marker": {
          "color": "#FECB52",
          "pattern": {
           "shape": ""
          }
         },
         "name": "Coimbatore",
         "offsetgroup": "Coimbatore",
         "orientation": "v",
         "showlegend": true,
         "textposition": "auto",
         "type": "bar",
         "x": [
          2019,
          2020
         ],
         "xaxis": "x",
         "y": [
          15.31911330049261,
          43.708087431693976
         ],
         "yaxis": "y"
        },
        {
         "alignmentgroup": "True",
         "hovertemplate": "City=Delhi<br>Year=%{x}<br>NO2=%{y}<extra></extra>",
         "legendgroup": "Delhi",
         "marker": {
          "color": "#636efa",
          "pattern": {
           "shape": ""
          }
         },
         "name": "Delhi",
         "offsetgroup": "Delhi",
         "orientation": "v",
         "showlegend": true,
         "textposition": "auto",
         "type": "bar",
         "x": [
          2015,
          2016,
          2017,
          2018,
          2019,
          2020
         ],
         "xaxis": "x",
         "y": [
          50.43438356164381,
          63.488606557377004,
          57.50358904109589,
          45.92252054794516,
          45.236027397260315,
          33.201748633879795
         ],
         "yaxis": "y"
        },
        {
         "alignmentgroup": "True",
         "hovertemplate": "City=Ernakulam<br>Year=%{x}<br>NO2=%{y}<extra></extra>",
         "legendgroup": "Ernakulam",
         "marker": {
          "color": "#EF553B",
          "pattern": {
           "shape": ""
          }
         },
         "name": "Ernakulam",
         "offsetgroup": "Ernakulam",
         "orientation": "v",
         "showlegend": true,
         "textposition": "auto",
         "type": "bar",
         "x": [
          2020
         ],
         "xaxis": "x",
         "y": [
          12.157407407407392
         ],
         "yaxis": "y"
        },
        {
         "alignmentgroup": "True",
         "hovertemplate": "City=Gurugram<br>Year=%{x}<br>NO2=%{y}<extra></extra>",
         "legendgroup": "Gurugram",
         "marker": {
          "color": "#00cc96",
          "pattern": {
           "shape": ""
          }
         },
         "name": "Gurugram",
         "offsetgroup": "Gurugram",
         "orientation": "v",
         "showlegend": true,
         "textposition": "auto",
         "type": "bar",
         "x": [
          2015,
          2016,
          2017,
          2018,
          2019,
          2020
         ],
         "xaxis": "x",
         "y": [
          15.847714285714288,
          19.593743169398977,
          19.766136986301355,
          30.575315068493136,
          27.13783561643835,
          21.588797814207656
         ],
         "yaxis": "y"
        },
        {
         "alignmentgroup": "True",
         "hovertemplate": "City=Guwahati<br>Year=%{x}<br>NO2=%{y}<extra></extra>",
         "legendgroup": "Guwahati",
         "marker": {
          "color": "#ab63fa",
          "pattern": {
           "shape": ""
          }
         },
         "name": "Guwahati",
         "offsetgroup": "Guwahati",
         "orientation": "v",
         "showlegend": true,
         "textposition": "auto",
         "type": "bar",
         "x": [
          2019,
          2020
         ],
         "xaxis": "x",
         "y": [
          13.118714733542319,
          14.435136612021866
         ],
         "yaxis": "y"
        },
        {
         "alignmentgroup": "True",
         "hovertemplate": "City=Hyderabad<br>Year=%{x}<br>NO2=%{y}<extra></extra>",
         "legendgroup": "Hyderabad",
         "marker": {
          "color": "#FFA15A",
          "pattern": {
           "shape": ""
          }
         },
         "name": "Hyderabad",
         "offsetgroup": "Hyderabad",
         "orientation": "v",
         "showlegend": true,
         "textposition": "auto",
         "type": "bar",
         "x": [
          2015,
          2016,
          2017,
          2018,
          2019,
          2020
         ],
         "xaxis": "x",
         "y": [
          15.207734806629839,
          28.445081967213113,
          31.62717808219179,
          37.51347945205483,
          29.669068493150668,
          27.142240437158467
         ],
         "yaxis": "y"
        },
        {
         "alignmentgroup": "True",
         "hovertemplate": "City=Jaipur<br>Year=%{x}<br>NO2=%{y}<extra></extra>",
         "legendgroup": "Jaipur",
         "marker": {
          "color": "#19d3f3",
          "pattern": {
           "shape": ""
          }
         },
         "name": "Jaipur",
         "offsetgroup": "Jaipur",
         "orientation": "v",
         "showlegend": true,
         "textposition": "auto",
         "type": "bar",
         "x": [
          2017,
          2018,
          2019,
          2020
         ],
         "xaxis": "x",
         "y": [
          33.34368159203979,
          33.296904109589036,
          33.045945205479434,
          28.10442622950823
         ],
         "yaxis": "y"
        },
        {
         "alignmentgroup": "True",
         "hovertemplate": "City=Jorapokhar<br>Year=%{x}<br>NO2=%{y}<extra></extra>",
         "legendgroup": "Jorapokhar",
         "marker": {
          "color": "#FF6692",
          "pattern": {
           "shape": ""
          }
         },
         "name": "Jorapokhar",
         "offsetgroup": "Jorapokhar",
         "orientation": "v",
         "showlegend": true,
         "textposition": "auto",
         "type": "bar",
         "x": [
          2017,
          2018,
          2019,
          2020
         ],
         "xaxis": "x",
         "y": [
          18.812929687500016,
          14.03800000000002,
          11.68205479452054,
          10.418469945355191
         ],
         "yaxis": "y"
        },
        {
         "alignmentgroup": "True",
         "hovertemplate": "City=Kochi<br>Year=%{x}<br>NO2=%{y}<extra></extra>",
         "legendgroup": "Kochi",
         "marker": {
          "color": "#B6E880",
          "pattern": {
           "shape": ""
          }
         },
         "name": "Kochi",
         "offsetgroup": "Kochi",
         "orientation": "v",
         "showlegend": true,
         "textposition": "auto",
         "type": "bar",
         "x": [
          2020
         ],
         "xaxis": "x",
         "y": [
          15.449938271604937
         ],
         "yaxis": "y"
        },
        {
         "alignmentgroup": "True",
         "hovertemplate": "City=Kolkata<br>Year=%{x}<br>NO2=%{y}<extra></extra>",
         "legendgroup": "Kolkata",
         "marker": {
          "color": "#FF97FF",
          "pattern": {
           "shape": ""
          }
         },
         "name": "Kolkata",
         "offsetgroup": "Kolkata",
         "orientation": "v",
         "showlegend": true,
         "textposition": "auto",
         "type": "bar",
         "x": [
          2018,
          2019,
          2020
         ],
         "xaxis": "x",
         "y": [
          43.348120300751916,
          43.38479452054793,
          28.52765027322405
         ],
         "yaxis": "y"
        },
        {
         "alignmentgroup": "True",
         "hovertemplate": "City=Lucknow<br>Year=%{x}<br>NO2=%{y}<extra></extra>",
         "legendgroup": "Lucknow",
         "marker": {
          "color": "#FECB52",
          "pattern": {
           "shape": ""
          }
         },
         "name": "Lucknow",
         "offsetgroup": "Lucknow",
         "orientation": "v",
         "showlegend": true,
         "textposition": "auto",
         "type": "bar",
         "x": [
          2015,
          2016,
          2017,
          2018,
          2019,
          2020
         ],
         "xaxis": "x",
         "y": [
          16.75723287671233,
          36.07825136612026,
          37.71605479452055,
          41.71734246575346,
          35.22276712328768,
          30.08224043715846
         ],
         "yaxis": "y"
        },
        {
         "alignmentgroup": "True",
         "hovertemplate": "City=Mumbai<br>Year=%{x}<br>NO2=%{y}<extra></extra>",
         "legendgroup": "Mumbai",
         "marker": {
          "color": "#636efa",
          "pattern": {
           "shape": ""
          }
         },
         "name": "Mumbai",
         "offsetgroup": "Mumbai",
         "orientation": "v",
         "showlegend": true,
         "textposition": "auto",
         "type": "bar",
         "x": [
          2015,
          2016,
          2017,
          2018,
          2019,
          2020
         ],
         "xaxis": "x",
         "y": [
          28.560000000000027,
          28.560000000000027,
          28.560000000000027,
          30.175068493150675,
          23.659917808219177,
          22.698852459016386
         ],
         "yaxis": "y"
        },
        {
         "alignmentgroup": "True",
         "hovertemplate": "City=Patna<br>Year=%{x}<br>NO2=%{y}<extra></extra>",
         "legendgroup": "Patna",
         "marker": {
          "color": "#EF553B",
          "pattern": {
           "shape": ""
          }
         },
         "name": "Patna",
         "offsetgroup": "Patna",
         "orientation": "v",
         "showlegend": true,
         "textposition": "auto",
         "type": "bar",
         "x": [
          2015,
          2016,
          2017,
          2018,
          2019,
          2020
         ],
         "xaxis": "x",
         "y": [
          23.67214953271027,
          23.178087431694,
          43.73476712328781,
          45.72304109589041,
          42.10926027397259,
          34.20650273224044
         ],
         "yaxis": "y"
        },
        {
         "alignmentgroup": "True",
         "hovertemplate": "City=Shillong<br>Year=%{x}<br>NO2=%{y}<extra></extra>",
         "legendgroup": "Shillong",
         "marker": {
          "color": "#00cc96",
          "pattern": {
           "shape": ""
          }
         },
         "name": "Shillong",
         "offsetgroup": "Shillong",
         "orientation": "v",
         "showlegend": true,
         "textposition": "auto",
         "type": "bar",
         "x": [
          2019,
          2020
         ],
         "xaxis": "x",
         "y": [
          9.134173228346448,
          6.642021857923496
         ],
         "yaxis": "y"
        },
        {
         "alignmentgroup": "True",
         "hovertemplate": "City=Talcher<br>Year=%{x}<br>NO2=%{y}<extra></extra>",
         "legendgroup": "Talcher",
         "marker": {
          "color": "#ab63fa",
          "pattern": {
           "shape": ""
          }
         },
         "name": "Talcher",
         "offsetgroup": "Talcher",
         "orientation": "v",
         "showlegend": true,
         "textposition": "auto",
         "type": "bar",
         "x": [
          2017,
          2018,
          2019,
          2020
         ],
         "xaxis": "x",
         "y": [
          28.56,
          22.562438356164467,
          13.852657534246571,
          13.15961748633879
         ],
         "yaxis": "y"
        },
        {
         "alignmentgroup": "True",
         "hovertemplate": "City=Thiruvananthapuram<br>Year=%{x}<br>NO2=%{y}<extra></extra>",
         "legendgroup": "Thiruvananthapuram",
         "marker": {
          "color": "#FFA15A",
          "pattern": {
           "shape": ""
          }
         },
         "name": "Thiruvananthapuram",
         "offsetgroup": "Thiruvananthapuram",
         "orientation": "v",
         "showlegend": true,
         "textposition": "auto",
         "type": "bar",
         "x": [
          2017,
          2018,
          2019,
          2020
         ],
         "xaxis": "x",
         "y": [
          9.312361809045216,
          10.200821917808222,
          7.463013698630133,
          14.889562841530065
         ],
         "yaxis": "y"
        },
        {
         "alignmentgroup": "True",
         "hovertemplate": "City=Visakhapatnam<br>Year=%{x}<br>NO2=%{y}<extra></extra>",
         "legendgroup": "Visakhapatnam",
         "marker": {
          "color": "#19d3f3",
          "pattern": {
           "shape": ""
          }
         },
         "name": "Visakhapatnam",
         "offsetgroup": "Visakhapatnam",
         "orientation": "v",
         "showlegend": true,
         "textposition": "auto",
         "type": "bar",
         "x": [
          2016,
          2017,
          2018,
          2019,
          2020
         ],
         "xaxis": "x",
         "y": [
          41.956956521739144,
          30.628767123287787,
          38.365178082191726,
          37.48276712328764,
          30.881584699453562
         ],
         "yaxis": "y"
        }
       ],
       "layout": {
        "barmode": "group",
        "legend": {
         "title": {
          "text": "City"
         },
         "tracegroupgap": 0
        },
        "template": {
         "data": {
          "bar": [
           {
            "error_x": {
             "color": "#2a3f5f"
            },
            "error_y": {
             "color": "#2a3f5f"
            },
            "marker": {
             "line": {
              "color": "#E5ECF6",
              "width": 0.5
             },
             "pattern": {
              "fillmode": "overlay",
              "size": 10,
              "solidity": 0.2
             }
            },
            "type": "bar"
           }
          ],
          "barpolar": [
           {
            "marker": {
             "line": {
              "color": "#E5ECF6",
              "width": 0.5
             },
             "pattern": {
              "fillmode": "overlay",
              "size": 10,
              "solidity": 0.2
             }
            },
            "type": "barpolar"
           }
          ],
          "carpet": [
           {
            "aaxis": {
             "endlinecolor": "#2a3f5f",
             "gridcolor": "white",
             "linecolor": "white",
             "minorgridcolor": "white",
             "startlinecolor": "#2a3f5f"
            },
            "baxis": {
             "endlinecolor": "#2a3f5f",
             "gridcolor": "white",
             "linecolor": "white",
             "minorgridcolor": "white",
             "startlinecolor": "#2a3f5f"
            },
            "type": "carpet"
           }
          ],
          "choropleth": [
           {
            "colorbar": {
             "outlinewidth": 0,
             "ticks": ""
            },
            "type": "choropleth"
           }
          ],
          "contour": [
           {
            "colorbar": {
             "outlinewidth": 0,
             "ticks": ""
            },
            "colorscale": [
             [
              0,
              "#0d0887"
             ],
             [
              0.1111111111111111,
              "#46039f"
             ],
             [
              0.2222222222222222,
              "#7201a8"
             ],
             [
              0.3333333333333333,
              "#9c179e"
             ],
             [
              0.4444444444444444,
              "#bd3786"
             ],
             [
              0.5555555555555556,
              "#d8576b"
             ],
             [
              0.6666666666666666,
              "#ed7953"
             ],
             [
              0.7777777777777778,
              "#fb9f3a"
             ],
             [
              0.8888888888888888,
              "#fdca26"
             ],
             [
              1,
              "#f0f921"
             ]
            ],
            "type": "contour"
           }
          ],
          "contourcarpet": [
           {
            "colorbar": {
             "outlinewidth": 0,
             "ticks": ""
            },
            "type": "contourcarpet"
           }
          ],
          "heatmap": [
           {
            "colorbar": {
             "outlinewidth": 0,
             "ticks": ""
            },
            "colorscale": [
             [
              0,
              "#0d0887"
             ],
             [
              0.1111111111111111,
              "#46039f"
             ],
             [
              0.2222222222222222,
              "#7201a8"
             ],
             [
              0.3333333333333333,
              "#9c179e"
             ],
             [
              0.4444444444444444,
              "#bd3786"
             ],
             [
              0.5555555555555556,
              "#d8576b"
             ],
             [
              0.6666666666666666,
              "#ed7953"
             ],
             [
              0.7777777777777778,
              "#fb9f3a"
             ],
             [
              0.8888888888888888,
              "#fdca26"
             ],
             [
              1,
              "#f0f921"
             ]
            ],
            "type": "heatmap"
           }
          ],
          "heatmapgl": [
           {
            "colorbar": {
             "outlinewidth": 0,
             "ticks": ""
            },
            "colorscale": [
             [
              0,
              "#0d0887"
             ],
             [
              0.1111111111111111,
              "#46039f"
             ],
             [
              0.2222222222222222,
              "#7201a8"
             ],
             [
              0.3333333333333333,
              "#9c179e"
             ],
             [
              0.4444444444444444,
              "#bd3786"
             ],
             [
              0.5555555555555556,
              "#d8576b"
             ],
             [
              0.6666666666666666,
              "#ed7953"
             ],
             [
              0.7777777777777778,
              "#fb9f3a"
             ],
             [
              0.8888888888888888,
              "#fdca26"
             ],
             [
              1,
              "#f0f921"
             ]
            ],
            "type": "heatmapgl"
           }
          ],
          "histogram": [
           {
            "marker": {
             "pattern": {
              "fillmode": "overlay",
              "size": 10,
              "solidity": 0.2
             }
            },
            "type": "histogram"
           }
          ],
          "histogram2d": [
           {
            "colorbar": {
             "outlinewidth": 0,
             "ticks": ""
            },
            "colorscale": [
             [
              0,
              "#0d0887"
             ],
             [
              0.1111111111111111,
              "#46039f"
             ],
             [
              0.2222222222222222,
              "#7201a8"
             ],
             [
              0.3333333333333333,
              "#9c179e"
             ],
             [
              0.4444444444444444,
              "#bd3786"
             ],
             [
              0.5555555555555556,
              "#d8576b"
             ],
             [
              0.6666666666666666,
              "#ed7953"
             ],
             [
              0.7777777777777778,
              "#fb9f3a"
             ],
             [
              0.8888888888888888,
              "#fdca26"
             ],
             [
              1,
              "#f0f921"
             ]
            ],
            "type": "histogram2d"
           }
          ],
          "histogram2dcontour": [
           {
            "colorbar": {
             "outlinewidth": 0,
             "ticks": ""
            },
            "colorscale": [
             [
              0,
              "#0d0887"
             ],
             [
              0.1111111111111111,
              "#46039f"
             ],
             [
              0.2222222222222222,
              "#7201a8"
             ],
             [
              0.3333333333333333,
              "#9c179e"
             ],
             [
              0.4444444444444444,
              "#bd3786"
             ],
             [
              0.5555555555555556,
              "#d8576b"
             ],
             [
              0.6666666666666666,
              "#ed7953"
             ],
             [
              0.7777777777777778,
              "#fb9f3a"
             ],
             [
              0.8888888888888888,
              "#fdca26"
             ],
             [
              1,
              "#f0f921"
             ]
            ],
            "type": "histogram2dcontour"
           }
          ],
          "mesh3d": [
           {
            "colorbar": {
             "outlinewidth": 0,
             "ticks": ""
            },
            "type": "mesh3d"
           }
          ],
          "parcoords": [
           {
            "line": {
             "colorbar": {
              "outlinewidth": 0,
              "ticks": ""
             }
            },
            "type": "parcoords"
           }
          ],
          "pie": [
           {
            "automargin": true,
            "type": "pie"
           }
          ],
          "scatter": [
           {
            "fillpattern": {
             "fillmode": "overlay",
             "size": 10,
             "solidity": 0.2
            },
            "type": "scatter"
           }
          ],
          "scatter3d": [
           {
            "line": {
             "colorbar": {
              "outlinewidth": 0,
              "ticks": ""
             }
            },
            "marker": {
             "colorbar": {
              "outlinewidth": 0,
              "ticks": ""
             }
            },
            "type": "scatter3d"
           }
          ],
          "scattercarpet": [
           {
            "marker": {
             "colorbar": {
              "outlinewidth": 0,
              "ticks": ""
             }
            },
            "type": "scattercarpet"
           }
          ],
          "scattergeo": [
           {
            "marker": {
             "colorbar": {
              "outlinewidth": 0,
              "ticks": ""
             }
            },
            "type": "scattergeo"
           }
          ],
          "scattergl": [
           {
            "marker": {
             "colorbar": {
              "outlinewidth": 0,
              "ticks": ""
             }
            },
            "type": "scattergl"
           }
          ],
          "scattermapbox": [
           {
            "marker": {
             "colorbar": {
              "outlinewidth": 0,
              "ticks": ""
             }
            },
            "type": "scattermapbox"
           }
          ],
          "scatterpolar": [
           {
            "marker": {
             "colorbar": {
              "outlinewidth": 0,
              "ticks": ""
             }
            },
            "type": "scatterpolar"
           }
          ],
          "scatterpolargl": [
           {
            "marker": {
             "colorbar": {
              "outlinewidth": 0,
              "ticks": ""
             }
            },
            "type": "scatterpolargl"
           }
          ],
          "scatterternary": [
           {
            "marker": {
             "colorbar": {
              "outlinewidth": 0,
              "ticks": ""
             }
            },
            "type": "scatterternary"
           }
          ],
          "surface": [
           {
            "colorbar": {
             "outlinewidth": 0,
             "ticks": ""
            },
            "colorscale": [
             [
              0,
              "#0d0887"
             ],
             [
              0.1111111111111111,
              "#46039f"
             ],
             [
              0.2222222222222222,
              "#7201a8"
             ],
             [
              0.3333333333333333,
              "#9c179e"
             ],
             [
              0.4444444444444444,
              "#bd3786"
             ],
             [
              0.5555555555555556,
              "#d8576b"
             ],
             [
              0.6666666666666666,
              "#ed7953"
             ],
             [
              0.7777777777777778,
              "#fb9f3a"
             ],
             [
              0.8888888888888888,
              "#fdca26"
             ],
             [
              1,
              "#f0f921"
             ]
            ],
            "type": "surface"
           }
          ],
          "table": [
           {
            "cells": {
             "fill": {
              "color": "#EBF0F8"
             },
             "line": {
              "color": "white"
             }
            },
            "header": {
             "fill": {
              "color": "#C8D4E3"
             },
             "line": {
              "color": "white"
             }
            },
            "type": "table"
           }
          ]
         },
         "layout": {
          "annotationdefaults": {
           "arrowcolor": "#2a3f5f",
           "arrowhead": 0,
           "arrowwidth": 1
          },
          "autotypenumbers": "strict",
          "coloraxis": {
           "colorbar": {
            "outlinewidth": 0,
            "ticks": ""
           }
          },
          "colorscale": {
           "diverging": [
            [
             0,
             "#8e0152"
            ],
            [
             0.1,
             "#c51b7d"
            ],
            [
             0.2,
             "#de77ae"
            ],
            [
             0.3,
             "#f1b6da"
            ],
            [
             0.4,
             "#fde0ef"
            ],
            [
             0.5,
             "#f7f7f7"
            ],
            [
             0.6,
             "#e6f5d0"
            ],
            [
             0.7,
             "#b8e186"
            ],
            [
             0.8,
             "#7fbc41"
            ],
            [
             0.9,
             "#4d9221"
            ],
            [
             1,
             "#276419"
            ]
           ],
           "sequential": [
            [
             0,
             "#0d0887"
            ],
            [
             0.1111111111111111,
             "#46039f"
            ],
            [
             0.2222222222222222,
             "#7201a8"
            ],
            [
             0.3333333333333333,
             "#9c179e"
            ],
            [
             0.4444444444444444,
             "#bd3786"
            ],
            [
             0.5555555555555556,
             "#d8576b"
            ],
            [
             0.6666666666666666,
             "#ed7953"
            ],
            [
             0.7777777777777778,
             "#fb9f3a"
            ],
            [
             0.8888888888888888,
             "#fdca26"
            ],
            [
             1,
             "#f0f921"
            ]
           ],
           "sequentialminus": [
            [
             0,
             "#0d0887"
            ],
            [
             0.1111111111111111,
             "#46039f"
            ],
            [
             0.2222222222222222,
             "#7201a8"
            ],
            [
             0.3333333333333333,
             "#9c179e"
            ],
            [
             0.4444444444444444,
             "#bd3786"
            ],
            [
             0.5555555555555556,
             "#d8576b"
            ],
            [
             0.6666666666666666,
             "#ed7953"
            ],
            [
             0.7777777777777778,
             "#fb9f3a"
            ],
            [
             0.8888888888888888,
             "#fdca26"
            ],
            [
             1,
             "#f0f921"
            ]
           ]
          },
          "colorway": [
           "#636efa",
           "#EF553B",
           "#00cc96",
           "#ab63fa",
           "#FFA15A",
           "#19d3f3",
           "#FF6692",
           "#B6E880",
           "#FF97FF",
           "#FECB52"
          ],
          "font": {
           "color": "#2a3f5f"
          },
          "geo": {
           "bgcolor": "white",
           "lakecolor": "white",
           "landcolor": "#E5ECF6",
           "showlakes": true,
           "showland": true,
           "subunitcolor": "white"
          },
          "hoverlabel": {
           "align": "left"
          },
          "hovermode": "closest",
          "mapbox": {
           "style": "light"
          },
          "paper_bgcolor": "white",
          "plot_bgcolor": "#E5ECF6",
          "polar": {
           "angularaxis": {
            "gridcolor": "white",
            "linecolor": "white",
            "ticks": ""
           },
           "bgcolor": "#E5ECF6",
           "radialaxis": {
            "gridcolor": "white",
            "linecolor": "white",
            "ticks": ""
           }
          },
          "scene": {
           "xaxis": {
            "backgroundcolor": "#E5ECF6",
            "gridcolor": "white",
            "gridwidth": 2,
            "linecolor": "white",
            "showbackground": true,
            "ticks": "",
            "zerolinecolor": "white"
           },
           "yaxis": {
            "backgroundcolor": "#E5ECF6",
            "gridcolor": "white",
            "gridwidth": 2,
            "linecolor": "white",
            "showbackground": true,
            "ticks": "",
            "zerolinecolor": "white"
           },
           "zaxis": {
            "backgroundcolor": "#E5ECF6",
            "gridcolor": "white",
            "gridwidth": 2,
            "linecolor": "white",
            "showbackground": true,
            "ticks": "",
            "zerolinecolor": "white"
           }
          },
          "shapedefaults": {
           "line": {
            "color": "#2a3f5f"
           }
          },
          "ternary": {
           "aaxis": {
            "gridcolor": "white",
            "linecolor": "white",
            "ticks": ""
           },
           "baxis": {
            "gridcolor": "white",
            "linecolor": "white",
            "ticks": ""
           },
           "bgcolor": "#E5ECF6",
           "caxis": {
            "gridcolor": "white",
            "linecolor": "white",
            "ticks": ""
           }
          },
          "title": {
           "x": 0.05
          },
          "xaxis": {
           "automargin": true,
           "gridcolor": "white",
           "linecolor": "white",
           "ticks": "",
           "title": {
            "standoff": 15
           },
           "zerolinecolor": "white",
           "zerolinewidth": 2
          },
          "yaxis": {
           "automargin": true,
           "gridcolor": "white",
           "linecolor": "white",
           "ticks": "",
           "title": {
            "standoff": 15
           },
           "zerolinecolor": "white",
           "zerolinewidth": 2
          }
         }
        },
        "title": {
         "text": "NO2 average readings for each city between 2015 - 2020"
        },
        "xaxis": {
         "anchor": "y",
         "domain": [
          0,
          1
         ],
         "title": {
          "text": "Year"
         }
        },
        "yaxis": {
         "anchor": "x",
         "domain": [
          0,
          1
         ],
         "title": {
          "text": "NO2"
         }
        }
       }
      }
     },
     "metadata": {},
     "output_type": "display_data"
    }
   ],
   "source": [
    "fig=px.bar(city_annual_avg, x='Year', y='NO2', color='City', barmode='group', title='NO2 average readings for each city between 2015 - 2020')\n",
    "fig.show()"
   ]
  },
  {
   "cell_type": "code",
   "execution_count": null,
   "id": "54fb9afe",
   "metadata": {
    "execution": {
     "iopub.execute_input": "2023-05-10T11:43:52.310420Z",
     "iopub.status.busy": "2023-05-10T11:43:52.309079Z",
     "iopub.status.idle": "2023-05-10T11:43:52.321955Z",
     "shell.execute_reply": "2023-05-10T11:43:52.320508Z"
    },
    "papermill": {
     "duration": 0.049219,
     "end_time": "2023-05-10T11:43:52.324825",
     "exception": false,
     "start_time": "2023-05-10T11:43:52.275606",
     "status": "completed"
    },
    "tags": []
   },
   "outputs": [
    {
     "data": {
      "application/vnd.plotly.v1+json": {
       "config": {
        "plotlyServerURL": "https://plot.ly"
       },
       "data": [
        {
         "name": "NO2",
         "type": "box",
         "x": [
          22.435068493150748,
          23.91617486338801,
          37.44150684931518,
          84.62857534246572,
          90.06295890410954,
          31.0848087431694,
          0.38849557522123906,
          37.028684210526315,
          26.43224657534248,
          23.709616438356214,
          9.461202185792356,
          21.195519480519483,
          22.062986301369854,
          15.86534246575342,
          14.672732240437151,
          19.923643835616435,
          30.0700819672131,
          36.346438356164384,
          28.56367123287671,
          28.37643835616438,
          21.410163934426233,
          44.74905660377359,
          23.44442622950821,
          15.187199999999994,
          20.361616438356233,
          17.387561643835614,
          22.706939890710366,
          11.106528925619836,
          12.315136612021863,
          19.38334246575342,
          17.472677595628422,
          15.139726027397263,
          20.052109589041095,
          16.206876712328757,
          11.244808743169397,
          15.31911330049261,
          43.708087431693976,
          50.43438356164381,
          63.488606557377004,
          57.50358904109589,
          45.92252054794516,
          45.236027397260315,
          33.201748633879795,
          12.157407407407392,
          15.847714285714288,
          19.593743169398977,
          19.766136986301355,
          30.575315068493136,
          27.13783561643835,
          21.588797814207656,
          13.118714733542319,
          14.435136612021866,
          15.207734806629839,
          28.445081967213113,
          31.62717808219179,
          37.51347945205483,
          29.669068493150668,
          27.142240437158467,
          33.34368159203979,
          33.296904109589036,
          33.045945205479434,
          28.10442622950823,
          18.812929687500016,
          14.03800000000002,
          11.68205479452054,
          10.418469945355191,
          15.449938271604937,
          43.348120300751916,
          43.38479452054793,
          28.52765027322405,
          16.75723287671233,
          36.07825136612026,
          37.71605479452055,
          41.71734246575346,
          35.22276712328768,
          30.08224043715846,
          28.560000000000027,
          28.560000000000027,
          28.560000000000027,
          30.175068493150675,
          23.659917808219177,
          22.698852459016386,
          23.67214953271027,
          23.178087431694,
          43.73476712328781,
          45.72304109589041,
          42.10926027397259,
          34.20650273224044,
          9.134173228346448,
          6.642021857923496,
          28.56,
          22.562438356164467,
          13.852657534246571,
          13.15961748633879,
          9.312361809045216,
          10.200821917808222,
          7.463013698630133,
          14.889562841530065,
          41.956956521739144,
          30.628767123287787,
          38.365178082191726,
          37.48276712328764,
          30.881584699453562
         ]
        }
       ],
       "layout": {
        "template": {
         "data": {
          "bar": [
           {
            "error_x": {
             "color": "#2a3f5f"
            },
            "error_y": {
             "color": "#2a3f5f"
            },
            "marker": {
             "line": {
              "color": "#E5ECF6",
              "width": 0.5
             },
             "pattern": {
              "fillmode": "overlay",
              "size": 10,
              "solidity": 0.2
             }
            },
            "type": "bar"
           }
          ],
          "barpolar": [
           {
            "marker": {
             "line": {
              "color": "#E5ECF6",
              "width": 0.5
             },
             "pattern": {
              "fillmode": "overlay",
              "size": 10,
              "solidity": 0.2
             }
            },
            "type": "barpolar"
           }
          ],
          "carpet": [
           {
            "aaxis": {
             "endlinecolor": "#2a3f5f",
             "gridcolor": "white",
             "linecolor": "white",
             "minorgridcolor": "white",
             "startlinecolor": "#2a3f5f"
            },
            "baxis": {
             "endlinecolor": "#2a3f5f",
             "gridcolor": "white",
             "linecolor": "white",
             "minorgridcolor": "white",
             "startlinecolor": "#2a3f5f"
            },
            "type": "carpet"
           }
          ],
          "choropleth": [
           {
            "colorbar": {
             "outlinewidth": 0,
             "ticks": ""
            },
            "type": "choropleth"
           }
          ],
          "contour": [
           {
            "colorbar": {
             "outlinewidth": 0,
             "ticks": ""
            },
            "colorscale": [
             [
              0,
              "#0d0887"
             ],
             [
              0.1111111111111111,
              "#46039f"
             ],
             [
              0.2222222222222222,
              "#7201a8"
             ],
             [
              0.3333333333333333,
              "#9c179e"
             ],
             [
              0.4444444444444444,
              "#bd3786"
             ],
             [
              0.5555555555555556,
              "#d8576b"
             ],
             [
              0.6666666666666666,
              "#ed7953"
             ],
             [
              0.7777777777777778,
              "#fb9f3a"
             ],
             [
              0.8888888888888888,
              "#fdca26"
             ],
             [
              1,
              "#f0f921"
             ]
            ],
            "type": "contour"
           }
          ],
          "contourcarpet": [
           {
            "colorbar": {
             "outlinewidth": 0,
             "ticks": ""
            },
            "type": "contourcarpet"
           }
          ],
          "heatmap": [
           {
            "colorbar": {
             "outlinewidth": 0,
             "ticks": ""
            },
            "colorscale": [
             [
              0,
              "#0d0887"
             ],
             [
              0.1111111111111111,
              "#46039f"
             ],
             [
              0.2222222222222222,
              "#7201a8"
             ],
             [
              0.3333333333333333,
              "#9c179e"
             ],
             [
              0.4444444444444444,
              "#bd3786"
             ],
             [
              0.5555555555555556,
              "#d8576b"
             ],
             [
              0.6666666666666666,
              "#ed7953"
             ],
             [
              0.7777777777777778,
              "#fb9f3a"
             ],
             [
              0.8888888888888888,
              "#fdca26"
             ],
             [
              1,
              "#f0f921"
             ]
            ],
            "type": "heatmap"
           }
          ],
          "heatmapgl": [
           {
            "colorbar": {
             "outlinewidth": 0,
             "ticks": ""
            },
            "colorscale": [
             [
              0,
              "#0d0887"
             ],
             [
              0.1111111111111111,
              "#46039f"
             ],
             [
              0.2222222222222222,
              "#7201a8"
             ],
             [
              0.3333333333333333,
              "#9c179e"
             ],
             [
              0.4444444444444444,
              "#bd3786"
             ],
             [
              0.5555555555555556,
              "#d8576b"
             ],
             [
              0.6666666666666666,
              "#ed7953"
             ],
             [
              0.7777777777777778,
              "#fb9f3a"
             ],
             [
              0.8888888888888888,
              "#fdca26"
             ],
             [
              1,
              "#f0f921"
             ]
            ],
            "type": "heatmapgl"
           }
          ],
          "histogram": [
           {
            "marker": {
             "pattern": {
              "fillmode": "overlay",
              "size": 10,
              "solidity": 0.2
             }
            },
            "type": "histogram"
           }
          ],
          "histogram2d": [
           {
            "colorbar": {
             "outlinewidth": 0,
             "ticks": ""
            },
            "colorscale": [
             [
              0,
              "#0d0887"
             ],
             [
              0.1111111111111111,
              "#46039f"
             ],
             [
              0.2222222222222222,
              "#7201a8"
             ],
             [
              0.3333333333333333,
              "#9c179e"
             ],
             [
              0.4444444444444444,
              "#bd3786"
             ],
             [
              0.5555555555555556,
              "#d8576b"
             ],
             [
              0.6666666666666666,
              "#ed7953"
             ],
             [
              0.7777777777777778,
              "#fb9f3a"
             ],
             [
              0.8888888888888888,
              "#fdca26"
             ],
             [
              1,
              "#f0f921"
             ]
            ],
            "type": "histogram2d"
           }
          ],
          "histogram2dcontour": [
           {
            "colorbar": {
             "outlinewidth": 0,
             "ticks": ""
            },
            "colorscale": [
             [
              0,
              "#0d0887"
             ],
             [
              0.1111111111111111,
              "#46039f"
             ],
             [
              0.2222222222222222,
              "#7201a8"
             ],
             [
              0.3333333333333333,
              "#9c179e"
             ],
             [
              0.4444444444444444,
              "#bd3786"
             ],
             [
              0.5555555555555556,
              "#d8576b"
             ],
             [
              0.6666666666666666,
              "#ed7953"
             ],
             [
              0.7777777777777778,
              "#fb9f3a"
             ],
             [
              0.8888888888888888,
              "#fdca26"
             ],
             [
              1,
              "#f0f921"
             ]
            ],
            "type": "histogram2dcontour"
           }
          ],
          "mesh3d": [
           {
            "colorbar": {
             "outlinewidth": 0,
             "ticks": ""
            },
            "type": "mesh3d"
           }
          ],
          "parcoords": [
           {
            "line": {
             "colorbar": {
              "outlinewidth": 0,
              "ticks": ""
             }
            },
            "type": "parcoords"
           }
          ],
          "pie": [
           {
            "automargin": true,
            "type": "pie"
           }
          ],
          "scatter": [
           {
            "fillpattern": {
             "fillmode": "overlay",
             "size": 10,
             "solidity": 0.2
            },
            "type": "scatter"
           }
          ],
          "scatter3d": [
           {
            "line": {
             "colorbar": {
              "outlinewidth": 0,
              "ticks": ""
             }
            },
            "marker": {
             "colorbar": {
              "outlinewidth": 0,
              "ticks": ""
             }
            },
            "type": "scatter3d"
           }
          ],
          "scattercarpet": [
           {
            "marker": {
             "colorbar": {
              "outlinewidth": 0,
              "ticks": ""
             }
            },
            "type": "scattercarpet"
           }
          ],
          "scattergeo": [
           {
            "marker": {
             "colorbar": {
              "outlinewidth": 0,
              "ticks": ""
             }
            },
            "type": "scattergeo"
           }
          ],
          "scattergl": [
           {
            "marker": {
             "colorbar": {
              "outlinewidth": 0,
              "ticks": ""
             }
            },
            "type": "scattergl"
           }
          ],
          "scattermapbox": [
           {
            "marker": {
             "colorbar": {
              "outlinewidth": 0,
              "ticks": ""
             }
            },
            "type": "scattermapbox"
           }
          ],
          "scatterpolar": [
           {
            "marker": {
             "colorbar": {
              "outlinewidth": 0,
              "ticks": ""
             }
            },
            "type": "scatterpolar"
           }
          ],
          "scatterpolargl": [
           {
            "marker": {
             "colorbar": {
              "outlinewidth": 0,
              "ticks": ""
             }
            },
            "type": "scatterpolargl"
           }
          ],
          "scatterternary": [
           {
            "marker": {
             "colorbar": {
              "outlinewidth": 0,
              "ticks": ""
             }
            },
            "type": "scatterternary"
           }
          ],
          "surface": [
           {
            "colorbar": {
             "outlinewidth": 0,
             "ticks": ""
            },
            "colorscale": [
             [
              0,
              "#0d0887"
             ],
             [
              0.1111111111111111,
              "#46039f"
             ],
             [
              0.2222222222222222,
              "#7201a8"
             ],
             [
              0.3333333333333333,
              "#9c179e"
             ],
             [
              0.4444444444444444,
              "#bd3786"
             ],
             [
              0.5555555555555556,
              "#d8576b"
             ],
             [
              0.6666666666666666,
              "#ed7953"
             ],
             [
              0.7777777777777778,
              "#fb9f3a"
             ],
             [
              0.8888888888888888,
              "#fdca26"
             ],
             [
              1,
              "#f0f921"
             ]
            ],
            "type": "surface"
           }
          ],
          "table": [
           {
            "cells": {
             "fill": {
              "color": "#EBF0F8"
             },
             "line": {
              "color": "white"
             }
            },
            "header": {
             "fill": {
              "color": "#C8D4E3"
             },
             "line": {
              "color": "white"
             }
            },
            "type": "table"
           }
          ]
         },
         "layout": {
          "annotationdefaults": {
           "arrowcolor": "#2a3f5f",
           "arrowhead": 0,
           "arrowwidth": 1
          },
          "autotypenumbers": "strict",
          "coloraxis": {
           "colorbar": {
            "outlinewidth": 0,
            "ticks": ""
           }
          },
          "colorscale": {
           "diverging": [
            [
             0,
             "#8e0152"
            ],
            [
             0.1,
             "#c51b7d"
            ],
            [
             0.2,
             "#de77ae"
            ],
            [
             0.3,
             "#f1b6da"
            ],
            [
             0.4,
             "#fde0ef"
            ],
            [
             0.5,
             "#f7f7f7"
            ],
            [
             0.6,
             "#e6f5d0"
            ],
            [
             0.7,
             "#b8e186"
            ],
            [
             0.8,
             "#7fbc41"
            ],
            [
             0.9,
             "#4d9221"
            ],
            [
             1,
             "#276419"
            ]
           ],
           "sequential": [
            [
             0,
             "#0d0887"
            ],
            [
             0.1111111111111111,
             "#46039f"
            ],
            [
             0.2222222222222222,
             "#7201a8"
            ],
            [
             0.3333333333333333,
             "#9c179e"
            ],
            [
             0.4444444444444444,
             "#bd3786"
            ],
            [
             0.5555555555555556,
             "#d8576b"
            ],
            [
             0.6666666666666666,
             "#ed7953"
            ],
            [
             0.7777777777777778,
             "#fb9f3a"
            ],
            [
             0.8888888888888888,
             "#fdca26"
            ],
            [
             1,
             "#f0f921"
            ]
           ],
           "sequentialminus": [
            [
             0,
             "#0d0887"
            ],
            [
             0.1111111111111111,
             "#46039f"
            ],
            [
             0.2222222222222222,
             "#7201a8"
            ],
            [
             0.3333333333333333,
             "#9c179e"
            ],
            [
             0.4444444444444444,
             "#bd3786"
            ],
            [
             0.5555555555555556,
             "#d8576b"
            ],
            [
             0.6666666666666666,
             "#ed7953"
            ],
            [
             0.7777777777777778,
             "#fb9f3a"
            ],
            [
             0.8888888888888888,
             "#fdca26"
            ],
            [
             1,
             "#f0f921"
            ]
           ]
          },
          "colorway": [
           "#636efa",
           "#EF553B",
           "#00cc96",
           "#ab63fa",
           "#FFA15A",
           "#19d3f3",
           "#FF6692",
           "#B6E880",
           "#FF97FF",
           "#FECB52"
          ],
          "font": {
           "color": "#2a3f5f"
          },
          "geo": {
           "bgcolor": "white",
           "lakecolor": "white",
           "landcolor": "#E5ECF6",
           "showlakes": true,
           "showland": true,
           "subunitcolor": "white"
          },
          "hoverlabel": {
           "align": "left"
          },
          "hovermode": "closest",
          "mapbox": {
           "style": "light"
          },
          "paper_bgcolor": "white",
          "plot_bgcolor": "#E5ECF6",
          "polar": {
           "angularaxis": {
            "gridcolor": "white",
            "linecolor": "white",
            "ticks": ""
           },
           "bgcolor": "#E5ECF6",
           "radialaxis": {
            "gridcolor": "white",
            "linecolor": "white",
            "ticks": ""
           }
          },
          "scene": {
           "xaxis": {
            "backgroundcolor": "#E5ECF6",
            "gridcolor": "white",
            "gridwidth": 2,
            "linecolor": "white",
            "showbackground": true,
            "ticks": "",
            "zerolinecolor": "white"
           },
           "yaxis": {
            "backgroundcolor": "#E5ECF6",
            "gridcolor": "white",
            "gridwidth": 2,
            "linecolor": "white",
            "showbackground": true,
            "ticks": "",
            "zerolinecolor": "white"
           },
           "zaxis": {
            "backgroundcolor": "#E5ECF6",
            "gridcolor": "white",
            "gridwidth": 2,
            "linecolor": "white",
            "showbackground": true,
            "ticks": "",
            "zerolinecolor": "white"
           }
          },
          "shapedefaults": {
           "line": {
            "color": "#2a3f5f"
           }
          },
          "ternary": {
           "aaxis": {
            "gridcolor": "white",
            "linecolor": "white",
            "ticks": ""
           },
           "baxis": {
            "gridcolor": "white",
            "linecolor": "white",
            "ticks": ""
           },
           "bgcolor": "#E5ECF6",
           "caxis": {
            "gridcolor": "white",
            "linecolor": "white",
            "ticks": ""
           }
          },
          "title": {
           "x": 0.05
          },
          "xaxis": {
           "automargin": true,
           "gridcolor": "white",
           "linecolor": "white",
           "ticks": "",
           "title": {
            "standoff": 15
           },
           "zerolinecolor": "white",
           "zerolinewidth": 2
          },
          "yaxis": {
           "automargin": true,
           "gridcolor": "white",
           "linecolor": "white",
           "ticks": "",
           "title": {
            "standoff": 15
           },
           "zerolinecolor": "white",
           "zerolinewidth": 2
          }
         }
        },
        "title": {
         "text": "Range of NO2 readings"
        }
       }
      }
     },
     "metadata": {},
     "output_type": "display_data"
    }
   ],
   "source": [
    "trace4=go.Box(x=city_annual_avg['NO2'], name='NO2')\n",
    "d4=[trace4]\n",
    "layout=go.Layout(title='Range of NO2 readings')\n",
    "fig=go.Figure(data=d4, layout=layout)\n",
    "fig.show()"
   ]
  },
  {
   "cell_type": "code",
   "execution_count": null,
   "id": "edc10dff",
   "metadata": {
    "execution": {
     "iopub.execute_input": "2023-05-10T11:43:52.389695Z",
     "iopub.status.busy": "2023-05-10T11:43:52.389282Z",
     "iopub.status.idle": "2023-05-10T11:43:52.455520Z",
     "shell.execute_reply": "2023-05-10T11:43:52.453967Z"
    },
    "papermill": {
     "duration": 0.102021,
     "end_time": "2023-05-10T11:43:52.458402",
     "exception": false,
     "start_time": "2023-05-10T11:43:52.356381",
     "status": "completed"
    },
    "tags": []
   },
   "outputs": [
    {
     "data": {
      "application/vnd.plotly.v1+json": {
       "config": {
        "plotlyServerURL": "https://plot.ly"
       },
       "data": [
        {
         "alignmentgroup": "True",
         "hovertemplate": "City=%{x}<br>NO2=%{y}<br>Year=%{marker.color}<extra></extra>",
         "legendgroup": "",
         "marker": {
          "color": [
           2015,
           2016,
           2017,
           2018,
           2019,
           2020,
           2020,
           2017,
           2018,
           2019,
           2020,
           2017,
           2018,
           2019,
           2020,
           2015,
           2016,
           2017,
           2018,
           2019,
           2020,
           2019,
           2020,
           2017,
           2018,
           2019,
           2020,
           2019,
           2020,
           2015,
           2016,
           2017,
           2018,
           2019,
           2020,
           2019,
           2020,
           2015,
           2016,
           2017,
           2018,
           2019,
           2020,
           2020,
           2015,
           2016,
           2017,
           2018,
           2019,
           2020,
           2019,
           2020,
           2015,
           2016,
           2017,
           2018,
           2019,
           2020,
           2017,
           2018,
           2019,
           2020,
           2017,
           2018,
           2019,
           2020,
           2020,
           2018,
           2019,
           2020,
           2015,
           2016,
           2017,
           2018,
           2019,
           2020,
           2015,
           2016,
           2017,
           2018,
           2019,
           2020,
           2015,
           2016,
           2017,
           2018,
           2019,
           2020,
           2019,
           2020,
           2017,
           2018,
           2019,
           2020,
           2017,
           2018,
           2019,
           2020,
           2016,
           2017,
           2018,
           2019,
           2020
          ],
          "coloraxis": "coloraxis",
          "pattern": {
           "shape": ""
          }
         },
         "name": "",
         "offsetgroup": "",
         "orientation": "v",
         "showlegend": false,
         "textposition": "auto",
         "type": "bar",
         "x": [
          "Ahmedabad",
          "Ahmedabad",
          "Ahmedabad",
          "Ahmedabad",
          "Ahmedabad",
          "Ahmedabad",
          "Aizawl",
          "Amaravati",
          "Amaravati",
          "Amaravati",
          "Amaravati",
          "Amritsar",
          "Amritsar",
          "Amritsar",
          "Amritsar",
          "Bengaluru",
          "Bengaluru",
          "Bengaluru",
          "Bengaluru",
          "Bengaluru",
          "Bengaluru",
          "Bhopal",
          "Bhopal",
          "Brajrajnagar",
          "Brajrajnagar",
          "Brajrajnagar",
          "Brajrajnagar",
          "Chandigarh",
          "Chandigarh",
          "Chennai",
          "Chennai",
          "Chennai",
          "Chennai",
          "Chennai",
          "Chennai",
          "Coimbatore",
          "Coimbatore",
          "Delhi",
          "Delhi",
          "Delhi",
          "Delhi",
          "Delhi",
          "Delhi",
          "Ernakulam",
          "Gurugram",
          "Gurugram",
          "Gurugram",
          "Gurugram",
          "Gurugram",
          "Gurugram",
          "Guwahati",
          "Guwahati",
          "Hyderabad",
          "Hyderabad",
          "Hyderabad",
          "Hyderabad",
          "Hyderabad",
          "Hyderabad",
          "Jaipur",
          "Jaipur",
          "Jaipur",
          "Jaipur",
          "Jorapokhar",
          "Jorapokhar",
          "Jorapokhar",
          "Jorapokhar",
          "Kochi",
          "Kolkata",
          "Kolkata",
          "Kolkata",
          "Lucknow",
          "Lucknow",
          "Lucknow",
          "Lucknow",
          "Lucknow",
          "Lucknow",
          "Mumbai",
          "Mumbai",
          "Mumbai",
          "Mumbai",
          "Mumbai",
          "Mumbai",
          "Patna",
          "Patna",
          "Patna",
          "Patna",
          "Patna",
          "Patna",
          "Shillong",
          "Shillong",
          "Talcher",
          "Talcher",
          "Talcher",
          "Talcher",
          "Thiruvananthapuram",
          "Thiruvananthapuram",
          "Thiruvananthapuram",
          "Thiruvananthapuram",
          "Visakhapatnam",
          "Visakhapatnam",
          "Visakhapatnam",
          "Visakhapatnam",
          "Visakhapatnam"
         ],
         "xaxis": "x",
         "y": [
          22.435068493150748,
          23.91617486338801,
          37.44150684931518,
          84.62857534246572,
          90.06295890410954,
          31.0848087431694,
          0.38849557522123906,
          37.028684210526315,
          26.43224657534248,
          23.709616438356214,
          9.461202185792356,
          21.195519480519483,
          22.062986301369854,
          15.86534246575342,
          14.672732240437151,
          19.923643835616435,
          30.0700819672131,
          36.346438356164384,
          28.56367123287671,
          28.37643835616438,
          21.410163934426233,
          44.74905660377359,
          23.44442622950821,
          15.187199999999994,
          20.361616438356233,
          17.387561643835614,
          22.706939890710366,
          11.106528925619836,
          12.315136612021863,
          19.38334246575342,
          17.472677595628422,
          15.139726027397263,
          20.052109589041095,
          16.206876712328757,
          11.244808743169397,
          15.31911330049261,
          43.708087431693976,
          50.43438356164381,
          63.488606557377004,
          57.50358904109589,
          45.92252054794516,
          45.236027397260315,
          33.201748633879795,
          12.157407407407392,
          15.847714285714288,
          19.593743169398977,
          19.766136986301355,
          30.575315068493136,
          27.13783561643835,
          21.588797814207656,
          13.118714733542319,
          14.435136612021866,
          15.207734806629839,
          28.445081967213113,
          31.62717808219179,
          37.51347945205483,
          29.669068493150668,
          27.142240437158467,
          33.34368159203979,
          33.296904109589036,
          33.045945205479434,
          28.10442622950823,
          18.812929687500016,
          14.03800000000002,
          11.68205479452054,
          10.418469945355191,
          15.449938271604937,
          43.348120300751916,
          43.38479452054793,
          28.52765027322405,
          16.75723287671233,
          36.07825136612026,
          37.71605479452055,
          41.71734246575346,
          35.22276712328768,
          30.08224043715846,
          28.560000000000027,
          28.560000000000027,
          28.560000000000027,
          30.175068493150675,
          23.659917808219177,
          22.698852459016386,
          23.67214953271027,
          23.178087431694,
          43.73476712328781,
          45.72304109589041,
          42.10926027397259,
          34.20650273224044,
          9.134173228346448,
          6.642021857923496,
          28.56,
          22.562438356164467,
          13.852657534246571,
          13.15961748633879,
          9.312361809045216,
          10.200821917808222,
          7.463013698630133,
          14.889562841530065,
          41.956956521739144,
          30.628767123287787,
          38.365178082191726,
          37.48276712328764,
          30.881584699453562
         ],
         "yaxis": "y"
        }
       ],
       "layout": {
        "barmode": "relative",
        "coloraxis": {
         "colorbar": {
          "title": {
           "text": "Year"
          }
         },
         "colorscale": [
          [
           0,
           "#0d0887"
          ],
          [
           0.1111111111111111,
           "#46039f"
          ],
          [
           0.2222222222222222,
           "#7201a8"
          ],
          [
           0.3333333333333333,
           "#9c179e"
          ],
          [
           0.4444444444444444,
           "#bd3786"
          ],
          [
           0.5555555555555556,
           "#d8576b"
          ],
          [
           0.6666666666666666,
           "#ed7953"
          ],
          [
           0.7777777777777778,
           "#fb9f3a"
          ],
          [
           0.8888888888888888,
           "#fdca26"
          ],
          [
           1,
           "#f0f921"
          ]
         ]
        },
        "legend": {
         "tracegroupgap": 0
        },
        "template": {
         "data": {
          "bar": [
           {
            "error_x": {
             "color": "#2a3f5f"
            },
            "error_y": {
             "color": "#2a3f5f"
            },
            "marker": {
             "line": {
              "color": "#E5ECF6",
              "width": 0.5
             },
             "pattern": {
              "fillmode": "overlay",
              "size": 10,
              "solidity": 0.2
             }
            },
            "type": "bar"
           }
          ],
          "barpolar": [
           {
            "marker": {
             "line": {
              "color": "#E5ECF6",
              "width": 0.5
             },
             "pattern": {
              "fillmode": "overlay",
              "size": 10,
              "solidity": 0.2
             }
            },
            "type": "barpolar"
           }
          ],
          "carpet": [
           {
            "aaxis": {
             "endlinecolor": "#2a3f5f",
             "gridcolor": "white",
             "linecolor": "white",
             "minorgridcolor": "white",
             "startlinecolor": "#2a3f5f"
            },
            "baxis": {
             "endlinecolor": "#2a3f5f",
             "gridcolor": "white",
             "linecolor": "white",
             "minorgridcolor": "white",
             "startlinecolor": "#2a3f5f"
            },
            "type": "carpet"
           }
          ],
          "choropleth": [
           {
            "colorbar": {
             "outlinewidth": 0,
             "ticks": ""
            },
            "type": "choropleth"
           }
          ],
          "contour": [
           {
            "colorbar": {
             "outlinewidth": 0,
             "ticks": ""
            },
            "colorscale": [
             [
              0,
              "#0d0887"
             ],
             [
              0.1111111111111111,
              "#46039f"
             ],
             [
              0.2222222222222222,
              "#7201a8"
             ],
             [
              0.3333333333333333,
              "#9c179e"
             ],
             [
              0.4444444444444444,
              "#bd3786"
             ],
             [
              0.5555555555555556,
              "#d8576b"
             ],
             [
              0.6666666666666666,
              "#ed7953"
             ],
             [
              0.7777777777777778,
              "#fb9f3a"
             ],
             [
              0.8888888888888888,
              "#fdca26"
             ],
             [
              1,
              "#f0f921"
             ]
            ],
            "type": "contour"
           }
          ],
          "contourcarpet": [
           {
            "colorbar": {
             "outlinewidth": 0,
             "ticks": ""
            },
            "type": "contourcarpet"
           }
          ],
          "heatmap": [
           {
            "colorbar": {
             "outlinewidth": 0,
             "ticks": ""
            },
            "colorscale": [
             [
              0,
              "#0d0887"
             ],
             [
              0.1111111111111111,
              "#46039f"
             ],
             [
              0.2222222222222222,
              "#7201a8"
             ],
             [
              0.3333333333333333,
              "#9c179e"
             ],
             [
              0.4444444444444444,
              "#bd3786"
             ],
             [
              0.5555555555555556,
              "#d8576b"
             ],
             [
              0.6666666666666666,
              "#ed7953"
             ],
             [
              0.7777777777777778,
              "#fb9f3a"
             ],
             [
              0.8888888888888888,
              "#fdca26"
             ],
             [
              1,
              "#f0f921"
             ]
            ],
            "type": "heatmap"
           }
          ],
          "heatmapgl": [
           {
            "colorbar": {
             "outlinewidth": 0,
             "ticks": ""
            },
            "colorscale": [
             [
              0,
              "#0d0887"
             ],
             [
              0.1111111111111111,
              "#46039f"
             ],
             [
              0.2222222222222222,
              "#7201a8"
             ],
             [
              0.3333333333333333,
              "#9c179e"
             ],
             [
              0.4444444444444444,
              "#bd3786"
             ],
             [
              0.5555555555555556,
              "#d8576b"
             ],
             [
              0.6666666666666666,
              "#ed7953"
             ],
             [
              0.7777777777777778,
              "#fb9f3a"
             ],
             [
              0.8888888888888888,
              "#fdca26"
             ],
             [
              1,
              "#f0f921"
             ]
            ],
            "type": "heatmapgl"
           }
          ],
          "histogram": [
           {
            "marker": {
             "pattern": {
              "fillmode": "overlay",
              "size": 10,
              "solidity": 0.2
             }
            },
            "type": "histogram"
           }
          ],
          "histogram2d": [
           {
            "colorbar": {
             "outlinewidth": 0,
             "ticks": ""
            },
            "colorscale": [
             [
              0,
              "#0d0887"
             ],
             [
              0.1111111111111111,
              "#46039f"
             ],
             [
              0.2222222222222222,
              "#7201a8"
             ],
             [
              0.3333333333333333,
              "#9c179e"
             ],
             [
              0.4444444444444444,
              "#bd3786"
             ],
             [
              0.5555555555555556,
              "#d8576b"
             ],
             [
              0.6666666666666666,
              "#ed7953"
             ],
             [
              0.7777777777777778,
              "#fb9f3a"
             ],
             [
              0.8888888888888888,
              "#fdca26"
             ],
             [
              1,
              "#f0f921"
             ]
            ],
            "type": "histogram2d"
           }
          ],
          "histogram2dcontour": [
           {
            "colorbar": {
             "outlinewidth": 0,
             "ticks": ""
            },
            "colorscale": [
             [
              0,
              "#0d0887"
             ],
             [
              0.1111111111111111,
              "#46039f"
             ],
             [
              0.2222222222222222,
              "#7201a8"
             ],
             [
              0.3333333333333333,
              "#9c179e"
             ],
             [
              0.4444444444444444,
              "#bd3786"
             ],
             [
              0.5555555555555556,
              "#d8576b"
             ],
             [
              0.6666666666666666,
              "#ed7953"
             ],
             [
              0.7777777777777778,
              "#fb9f3a"
             ],
             [
              0.8888888888888888,
              "#fdca26"
             ],
             [
              1,
              "#f0f921"
             ]
            ],
            "type": "histogram2dcontour"
           }
          ],
          "mesh3d": [
           {
            "colorbar": {
             "outlinewidth": 0,
             "ticks": ""
            },
            "type": "mesh3d"
           }
          ],
          "parcoords": [
           {
            "line": {
             "colorbar": {
              "outlinewidth": 0,
              "ticks": ""
             }
            },
            "type": "parcoords"
           }
          ],
          "pie": [
           {
            "automargin": true,
            "type": "pie"
           }
          ],
          "scatter": [
           {
            "fillpattern": {
             "fillmode": "overlay",
             "size": 10,
             "solidity": 0.2
            },
            "type": "scatter"
           }
          ],
          "scatter3d": [
           {
            "line": {
             "colorbar": {
              "outlinewidth": 0,
              "ticks": ""
             }
            },
            "marker": {
             "colorbar": {
              "outlinewidth": 0,
              "ticks": ""
             }
            },
            "type": "scatter3d"
           }
          ],
          "scattercarpet": [
           {
            "marker": {
             "colorbar": {
              "outlinewidth": 0,
              "ticks": ""
             }
            },
            "type": "scattercarpet"
           }
          ],
          "scattergeo": [
           {
            "marker": {
             "colorbar": {
              "outlinewidth": 0,
              "ticks": ""
             }
            },
            "type": "scattergeo"
           }
          ],
          "scattergl": [
           {
            "marker": {
             "colorbar": {
              "outlinewidth": 0,
              "ticks": ""
             }
            },
            "type": "scattergl"
           }
          ],
          "scattermapbox": [
           {
            "marker": {
             "colorbar": {
              "outlinewidth": 0,
              "ticks": ""
             }
            },
            "type": "scattermapbox"
           }
          ],
          "scatterpolar": [
           {
            "marker": {
             "colorbar": {
              "outlinewidth": 0,
              "ticks": ""
             }
            },
            "type": "scatterpolar"
           }
          ],
          "scatterpolargl": [
           {
            "marker": {
             "colorbar": {
              "outlinewidth": 0,
              "ticks": ""
             }
            },
            "type": "scatterpolargl"
           }
          ],
          "scatterternary": [
           {
            "marker": {
             "colorbar": {
              "outlinewidth": 0,
              "ticks": ""
             }
            },
            "type": "scatterternary"
           }
          ],
          "surface": [
           {
            "colorbar": {
             "outlinewidth": 0,
             "ticks": ""
            },
            "colorscale": [
             [
              0,
              "#0d0887"
             ],
             [
              0.1111111111111111,
              "#46039f"
             ],
             [
              0.2222222222222222,
              "#7201a8"
             ],
             [
              0.3333333333333333,
              "#9c179e"
             ],
             [
              0.4444444444444444,
              "#bd3786"
             ],
             [
              0.5555555555555556,
              "#d8576b"
             ],
             [
              0.6666666666666666,
              "#ed7953"
             ],
             [
              0.7777777777777778,
              "#fb9f3a"
             ],
             [
              0.8888888888888888,
              "#fdca26"
             ],
             [
              1,
              "#f0f921"
             ]
            ],
            "type": "surface"
           }
          ],
          "table": [
           {
            "cells": {
             "fill": {
              "color": "#EBF0F8"
             },
             "line": {
              "color": "white"
             }
            },
            "header": {
             "fill": {
              "color": "#C8D4E3"
             },
             "line": {
              "color": "white"
             }
            },
            "type": "table"
           }
          ]
         },
         "layout": {
          "annotationdefaults": {
           "arrowcolor": "#2a3f5f",
           "arrowhead": 0,
           "arrowwidth": 1
          },
          "autotypenumbers": "strict",
          "coloraxis": {
           "colorbar": {
            "outlinewidth": 0,
            "ticks": ""
           }
          },
          "colorscale": {
           "diverging": [
            [
             0,
             "#8e0152"
            ],
            [
             0.1,
             "#c51b7d"
            ],
            [
             0.2,
             "#de77ae"
            ],
            [
             0.3,
             "#f1b6da"
            ],
            [
             0.4,
             "#fde0ef"
            ],
            [
             0.5,
             "#f7f7f7"
            ],
            [
             0.6,
             "#e6f5d0"
            ],
            [
             0.7,
             "#b8e186"
            ],
            [
             0.8,
             "#7fbc41"
            ],
            [
             0.9,
             "#4d9221"
            ],
            [
             1,
             "#276419"
            ]
           ],
           "sequential": [
            [
             0,
             "#0d0887"
            ],
            [
             0.1111111111111111,
             "#46039f"
            ],
            [
             0.2222222222222222,
             "#7201a8"
            ],
            [
             0.3333333333333333,
             "#9c179e"
            ],
            [
             0.4444444444444444,
             "#bd3786"
            ],
            [
             0.5555555555555556,
             "#d8576b"
            ],
            [
             0.6666666666666666,
             "#ed7953"
            ],
            [
             0.7777777777777778,
             "#fb9f3a"
            ],
            [
             0.8888888888888888,
             "#fdca26"
            ],
            [
             1,
             "#f0f921"
            ]
           ],
           "sequentialminus": [
            [
             0,
             "#0d0887"
            ],
            [
             0.1111111111111111,
             "#46039f"
            ],
            [
             0.2222222222222222,
             "#7201a8"
            ],
            [
             0.3333333333333333,
             "#9c179e"
            ],
            [
             0.4444444444444444,
             "#bd3786"
            ],
            [
             0.5555555555555556,
             "#d8576b"
            ],
            [
             0.6666666666666666,
             "#ed7953"
            ],
            [
             0.7777777777777778,
             "#fb9f3a"
            ],
            [
             0.8888888888888888,
             "#fdca26"
            ],
            [
             1,
             "#f0f921"
            ]
           ]
          },
          "colorway": [
           "#636efa",
           "#EF553B",
           "#00cc96",
           "#ab63fa",
           "#FFA15A",
           "#19d3f3",
           "#FF6692",
           "#B6E880",
           "#FF97FF",
           "#FECB52"
          ],
          "font": {
           "color": "#2a3f5f"
          },
          "geo": {
           "bgcolor": "white",
           "lakecolor": "white",
           "landcolor": "#E5ECF6",
           "showlakes": true,
           "showland": true,
           "subunitcolor": "white"
          },
          "hoverlabel": {
           "align": "left"
          },
          "hovermode": "closest",
          "mapbox": {
           "style": "light"
          },
          "paper_bgcolor": "white",
          "plot_bgcolor": "#E5ECF6",
          "polar": {
           "angularaxis": {
            "gridcolor": "white",
            "linecolor": "white",
            "ticks": ""
           },
           "bgcolor": "#E5ECF6",
           "radialaxis": {
            "gridcolor": "white",
            "linecolor": "white",
            "ticks": ""
           }
          },
          "scene": {
           "xaxis": {
            "backgroundcolor": "#E5ECF6",
            "gridcolor": "white",
            "gridwidth": 2,
            "linecolor": "white",
            "showbackground": true,
            "ticks": "",
            "zerolinecolor": "white"
           },
           "yaxis": {
            "backgroundcolor": "#E5ECF6",
            "gridcolor": "white",
            "gridwidth": 2,
            "linecolor": "white",
            "showbackground": true,
            "ticks": "",
            "zerolinecolor": "white"
           },
           "zaxis": {
            "backgroundcolor": "#E5ECF6",
            "gridcolor": "white",
            "gridwidth": 2,
            "linecolor": "white",
            "showbackground": true,
            "ticks": "",
            "zerolinecolor": "white"
           }
          },
          "shapedefaults": {
           "line": {
            "color": "#2a3f5f"
           }
          },
          "ternary": {
           "aaxis": {
            "gridcolor": "white",
            "linecolor": "white",
            "ticks": ""
           },
           "baxis": {
            "gridcolor": "white",
            "linecolor": "white",
            "ticks": ""
           },
           "bgcolor": "#E5ECF6",
           "caxis": {
            "gridcolor": "white",
            "linecolor": "white",
            "ticks": ""
           }
          },
          "title": {
           "x": 0.05
          },
          "xaxis": {
           "automargin": true,
           "gridcolor": "white",
           "linecolor": "white",
           "ticks": "",
           "title": {
            "standoff": 15
           },
           "zerolinecolor": "white",
           "zerolinewidth": 2
          },
          "yaxis": {
           "automargin": true,
           "gridcolor": "white",
           "linecolor": "white",
           "ticks": "",
           "title": {
            "standoff": 15
           },
           "zerolinecolor": "white",
           "zerolinewidth": 2
          }
         }
        },
        "title": {
         "text": "Annual Average NO2 Readings for each City"
        },
        "xaxis": {
         "anchor": "y",
         "domain": [
          0,
          1
         ],
         "title": {
          "text": "City"
         }
        },
        "yaxis": {
         "anchor": "x",
         "domain": [
          0,
          1
         ],
         "title": {
          "text": "NO2"
         }
        }
       }
      }
     },
     "metadata": {},
     "output_type": "display_data"
    }
   ],
   "source": [
    "fig=px.bar(city_annual_avg, x='City', y='NO2' , color='Year', title='Annual Average NO2 Readings for each City')\n",
    "fig.show()"
   ]
  },
  {
   "attachments": {},
   "cell_type": "markdown",
   "id": "c84a2770",
   "metadata": {
    "papermill": {
     "duration": 0.032632,
     "end_time": "2023-05-10T11:43:52.650989",
     "exception": false,
     "start_time": "2023-05-10T11:43:52.618357",
     "status": "completed"
    },
    "tags": []
   },
   "source": [
    "The AQI is measured accordingly:-\n",
    "\n",
    "* Good (0-50)\n",
    "* Satisfactory (51-100)\n",
    "* Moderate (101-200)\n",
    "* Poor (201-300)\n",
    "* Very poor (301-400)\n",
    "* Severe (401-500)"
   ]
  },
  {
   "cell_type": "code",
   "execution_count": null,
   "id": "55090b1c",
   "metadata": {
    "execution": {
     "iopub.execute_input": "2023-05-10T11:43:52.716991Z",
     "iopub.status.busy": "2023-05-10T11:43:52.716211Z",
     "iopub.status.idle": "2023-05-10T11:43:52.733858Z",
     "shell.execute_reply": "2023-05-10T11:43:52.732581Z"
    },
    "papermill": {
     "duration": 0.053878,
     "end_time": "2023-05-10T11:43:52.736505",
     "exception": false,
     "start_time": "2023-05-10T11:43:52.682627",
     "status": "completed"
    },
    "tags": []
   },
   "outputs": [
    {
     "data": {
      "text/html": [
       "<div>\n",
       "<style scoped>\n",
       "    .dataframe tbody tr th:only-of-type {\n",
       "        vertical-align: middle;\n",
       "    }\n",
       "\n",
       "    .dataframe tbody tr th {\n",
       "        vertical-align: top;\n",
       "    }\n",
       "\n",
       "    .dataframe thead th {\n",
       "        text-align: right;\n",
       "    }\n",
       "</style>\n",
       "<table border=\"1\" class=\"dataframe\">\n",
       "  <thead>\n",
       "    <tr style=\"text-align: right;\">\n",
       "      <th></th>\n",
       "      <th>City</th>\n",
       "      <th>Year</th>\n",
       "      <th>AQI</th>\n",
       "    </tr>\n",
       "  </thead>\n",
       "  <tbody>\n",
       "    <tr>\n",
       "      <th>0</th>\n",
       "      <td>Ahmedabad</td>\n",
       "      <td>2015</td>\n",
       "      <td>270.572384</td>\n",
       "    </tr>\n",
       "    <tr>\n",
       "      <th>1</th>\n",
       "      <td>Ahmedabad</td>\n",
       "      <td>2016</td>\n",
       "      <td>212.397650</td>\n",
       "    </tr>\n",
       "    <tr>\n",
       "      <th>2</th>\n",
       "      <td>Ahmedabad</td>\n",
       "      <td>2017</td>\n",
       "      <td>240.622356</td>\n",
       "    </tr>\n",
       "    <tr>\n",
       "      <th>3</th>\n",
       "      <td>Ahmedabad</td>\n",
       "      <td>2018</td>\n",
       "      <td>612.273096</td>\n",
       "    </tr>\n",
       "    <tr>\n",
       "      <th>4</th>\n",
       "      <td>Ahmedabad</td>\n",
       "      <td>2019</td>\n",
       "      <td>503.890356</td>\n",
       "    </tr>\n",
       "    <tr>\n",
       "      <th>...</th>\n",
       "      <td>...</td>\n",
       "      <td>...</td>\n",
       "      <td>...</td>\n",
       "    </tr>\n",
       "    <tr>\n",
       "      <th>98</th>\n",
       "      <td>Visakhapatnam</td>\n",
       "      <td>2016</td>\n",
       "      <td>109.749022</td>\n",
       "    </tr>\n",
       "    <tr>\n",
       "      <th>99</th>\n",
       "      <td>Visakhapatnam</td>\n",
       "      <td>2017</td>\n",
       "      <td>156.281534</td>\n",
       "    </tr>\n",
       "    <tr>\n",
       "      <th>100</th>\n",
       "      <td>Visakhapatnam</td>\n",
       "      <td>2018</td>\n",
       "      <td>127.482027</td>\n",
       "    </tr>\n",
       "    <tr>\n",
       "      <th>101</th>\n",
       "      <td>Visakhapatnam</td>\n",
       "      <td>2019</td>\n",
       "      <td>126.271342</td>\n",
       "    </tr>\n",
       "    <tr>\n",
       "      <th>102</th>\n",
       "      <td>Visakhapatnam</td>\n",
       "      <td>2020</td>\n",
       "      <td>86.919672</td>\n",
       "    </tr>\n",
       "  </tbody>\n",
       "</table>\n",
       "<p>103 rows × 3 columns</p>\n",
       "</div>"
      ],
      "text/plain": [
       "              City  Year         AQI\n",
       "0        Ahmedabad  2015  270.572384\n",
       "1        Ahmedabad  2016  212.397650\n",
       "2        Ahmedabad  2017  240.622356\n",
       "3        Ahmedabad  2018  612.273096\n",
       "4        Ahmedabad  2019  503.890356\n",
       "..             ...   ...         ...\n",
       "98   Visakhapatnam  2016  109.749022\n",
       "99   Visakhapatnam  2017  156.281534\n",
       "100  Visakhapatnam  2018  127.482027\n",
       "101  Visakhapatnam  2019  126.271342\n",
       "102  Visakhapatnam  2020   86.919672\n",
       "\n",
       "[103 rows x 3 columns]"
      ]
     },
     "execution_count": 116,
     "metadata": {},
     "output_type": "execute_result"
    }
   ],
   "source": [
    "aqi_avg_df=city_annual_avg.copy().drop(columns=['PM2.5', 'PM10', 'NO', 'NO2', 'NOx', 'NH3', 'CO', 'SO2','O3', 'Benzene', 'Toluene', 'Xylene'])\n",
    "aqi_avg_df"
   ]
  },
  {
   "cell_type": "code",
   "execution_count": null,
   "id": "ce40e540",
   "metadata": {
    "execution": {
     "iopub.execute_input": "2023-05-10T11:43:52.804289Z",
     "iopub.status.busy": "2023-05-10T11:43:52.802950Z",
     "iopub.status.idle": "2023-05-10T11:43:52.821667Z",
     "shell.execute_reply": "2023-05-10T11:43:52.820402Z"
    },
    "papermill": {
     "duration": 0.055635,
     "end_time": "2023-05-10T11:43:52.824112",
     "exception": false,
     "start_time": "2023-05-10T11:43:52.768477",
     "status": "completed"
    },
    "tags": []
   },
   "outputs": [
    {
     "data": {
      "text/html": [
       "<div>\n",
       "<style scoped>\n",
       "    .dataframe tbody tr th:only-of-type {\n",
       "        vertical-align: middle;\n",
       "    }\n",
       "\n",
       "    .dataframe tbody tr th {\n",
       "        vertical-align: top;\n",
       "    }\n",
       "\n",
       "    .dataframe thead th {\n",
       "        text-align: right;\n",
       "    }\n",
       "</style>\n",
       "<table border=\"1\" class=\"dataframe\">\n",
       "  <thead>\n",
       "    <tr style=\"text-align: right;\">\n",
       "      <th></th>\n",
       "      <th>City</th>\n",
       "      <th>Year</th>\n",
       "      <th>AQI</th>\n",
       "      <th>Average_AQI</th>\n",
       "    </tr>\n",
       "  </thead>\n",
       "  <tbody>\n",
       "    <tr>\n",
       "      <th>0</th>\n",
       "      <td>Ahmedabad</td>\n",
       "      <td>2015</td>\n",
       "      <td>270.572384</td>\n",
       "      <td>158.681593</td>\n",
       "    </tr>\n",
       "    <tr>\n",
       "      <th>1</th>\n",
       "      <td>Ahmedabad</td>\n",
       "      <td>2016</td>\n",
       "      <td>212.397650</td>\n",
       "      <td>158.681593</td>\n",
       "    </tr>\n",
       "    <tr>\n",
       "      <th>2</th>\n",
       "      <td>Ahmedabad</td>\n",
       "      <td>2017</td>\n",
       "      <td>240.622356</td>\n",
       "      <td>158.681593</td>\n",
       "    </tr>\n",
       "    <tr>\n",
       "      <th>3</th>\n",
       "      <td>Ahmedabad</td>\n",
       "      <td>2018</td>\n",
       "      <td>612.273096</td>\n",
       "      <td>158.681593</td>\n",
       "    </tr>\n",
       "    <tr>\n",
       "      <th>4</th>\n",
       "      <td>Ahmedabad</td>\n",
       "      <td>2019</td>\n",
       "      <td>503.890356</td>\n",
       "      <td>158.681593</td>\n",
       "    </tr>\n",
       "    <tr>\n",
       "      <th>...</th>\n",
       "      <td>...</td>\n",
       "      <td>...</td>\n",
       "      <td>...</td>\n",
       "      <td>...</td>\n",
       "    </tr>\n",
       "    <tr>\n",
       "      <th>98</th>\n",
       "      <td>Visakhapatnam</td>\n",
       "      <td>2016</td>\n",
       "      <td>109.749022</td>\n",
       "      <td>158.681593</td>\n",
       "    </tr>\n",
       "    <tr>\n",
       "      <th>99</th>\n",
       "      <td>Visakhapatnam</td>\n",
       "      <td>2017</td>\n",
       "      <td>156.281534</td>\n",
       "      <td>158.681593</td>\n",
       "    </tr>\n",
       "    <tr>\n",
       "      <th>100</th>\n",
       "      <td>Visakhapatnam</td>\n",
       "      <td>2018</td>\n",
       "      <td>127.482027</td>\n",
       "      <td>158.681593</td>\n",
       "    </tr>\n",
       "    <tr>\n",
       "      <th>101</th>\n",
       "      <td>Visakhapatnam</td>\n",
       "      <td>2019</td>\n",
       "      <td>126.271342</td>\n",
       "      <td>158.681593</td>\n",
       "    </tr>\n",
       "    <tr>\n",
       "      <th>102</th>\n",
       "      <td>Visakhapatnam</td>\n",
       "      <td>2020</td>\n",
       "      <td>86.919672</td>\n",
       "      <td>158.681593</td>\n",
       "    </tr>\n",
       "  </tbody>\n",
       "</table>\n",
       "<p>103 rows × 4 columns</p>\n",
       "</div>"
      ],
      "text/plain": [
       "              City  Year         AQI  Average_AQI\n",
       "0        Ahmedabad  2015  270.572384   158.681593\n",
       "1        Ahmedabad  2016  212.397650   158.681593\n",
       "2        Ahmedabad  2017  240.622356   158.681593\n",
       "3        Ahmedabad  2018  612.273096   158.681593\n",
       "4        Ahmedabad  2019  503.890356   158.681593\n",
       "..             ...   ...         ...          ...\n",
       "98   Visakhapatnam  2016  109.749022   158.681593\n",
       "99   Visakhapatnam  2017  156.281534   158.681593\n",
       "100  Visakhapatnam  2018  127.482027   158.681593\n",
       "101  Visakhapatnam  2019  126.271342   158.681593\n",
       "102  Visakhapatnam  2020   86.919672   158.681593\n",
       "\n",
       "[103 rows x 4 columns]"
      ]
     },
     "execution_count": 117,
     "metadata": {},
     "output_type": "execute_result"
    }
   ],
   "source": [
    "aqi_avg_df['Average_AQI']=aqi_avg_df['AQI'].mean()\n",
    "aqi_avg_df"
   ]
  },
  {
   "cell_type": "code",
   "execution_count": null,
   "id": "f82d3c73",
   "metadata": {
    "execution": {
     "iopub.execute_input": "2023-05-10T11:43:52.891349Z",
     "iopub.status.busy": "2023-05-10T11:43:52.890897Z",
     "iopub.status.idle": "2023-05-10T11:43:53.149454Z",
     "shell.execute_reply": "2023-05-10T11:43:53.148475Z"
    },
    "papermill": {
     "duration": 0.295396,
     "end_time": "2023-05-10T11:43:53.151905",
     "exception": false,
     "start_time": "2023-05-10T11:43:52.856509",
     "status": "completed"
    },
    "tags": []
   },
   "outputs": [
    {
     "data": {
      "application/vnd.plotly.v1+json": {
       "config": {
        "plotlyServerURL": "https://plot.ly"
       },
       "data": [
        {
         "alignmentgroup": "True",
         "hovertemplate": "City=Ahmedabad<br>Year=%{x}<br>AQI=%{y}<extra></extra>",
         "legendgroup": "Ahmedabad",
         "marker": {
          "color": "#636efa",
          "pattern": {
           "shape": ""
          }
         },
         "name": "Ahmedabad",
         "offsetgroup": "Ahmedabad",
         "orientation": "v",
         "showlegend": true,
         "textposition": "auto",
         "type": "bar",
         "x": [
          2015,
          2016,
          2017,
          2018,
          2019,
          2020
         ],
         "xaxis": "x",
         "y": [
          270.57238356164487,
          212.3976502732247,
          240.62235616438298,
          612.2730958904109,
          503.89035616438366,
          239.1760655737705
         ],
         "yaxis": "y"
        },
        {
         "alignmentgroup": "True",
         "hovertemplate": "City=Aizawl<br>Year=%{x}<br>AQI=%{y}<extra></extra>",
         "legendgroup": "Aizawl",
         "marker": {
          "color": "#EF553B",
          "pattern": {
           "shape": ""
          }
         },
         "name": "Aizawl",
         "offsetgroup": "Aizawl",
         "orientation": "v",
         "showlegend": true,
         "textposition": "auto",
         "type": "bar",
         "x": [
          2020
         ],
         "xaxis": "x",
         "y": [
          37.09663716814159
         ],
         "yaxis": "y"
        },
        {
         "alignmentgroup": "True",
         "hovertemplate": "City=Amaravati<br>Year=%{x}<br>AQI=%{y}<extra></extra>",
         "legendgroup": "Amaravati",
         "marker": {
          "color": "#00cc96",
          "pattern": {
           "shape": ""
          }
         },
         "name": "Amaravati",
         "offsetgroup": "Amaravati",
         "orientation": "v",
         "showlegend": true,
         "textposition": "auto",
         "type": "bar",
         "x": [
          2017,
          2018,
          2019,
          2020
         ],
         "xaxis": "x",
         "y": [
          191.8278947368421,
          110.83939726027384,
          108.91441095890397,
          59.87978142076503
         ],
         "yaxis": "y"
        },
        {
         "alignmentgroup": "True",
         "hovertemplate": "City=Amritsar<br>Year=%{x}<br>AQI=%{y}<extra></extra>",
         "legendgroup": "Amritsar",
         "marker": {
          "color": "#ab63fa",
          "pattern": {
           "shape": ""
          }
         },
         "name": "Amritsar",
         "offsetgroup": "Amritsar",
         "orientation": "v",
         "showlegend": true,
         "textposition": "auto",
         "type": "bar",
         "x": [
          2017,
          2018,
          2019,
          2020
         ],
         "xaxis": "x",
         "y": [
          150.57571428571418,
          127.81605479452047,
          109.96816438356164,
          96.59092896174862
         ],
         "yaxis": "y"
        },
        {
         "alignmentgroup": "True",
         "hovertemplate": "City=Bengaluru<br>Year=%{x}<br>AQI=%{y}<extra></extra>",
         "legendgroup": "Bengaluru",
         "marker": {
          "color": "#FFA15A",
          "pattern": {
           "shape": ""
          }
         },
         "name": "Bengaluru",
         "offsetgroup": "Bengaluru",
         "orientation": "v",
         "showlegend": true,
         "textposition": "auto",
         "type": "bar",
         "x": [
          2015,
          2016,
          2017,
          2018,
          2019,
          2020
         ],
         "xaxis": "x",
         "y": [
          124.23654794520542,
          108.07896174863384,
          87.33824657534247,
          87.18586301369862,
          91.6027397260274,
          79.71584699453553
         ],
         "yaxis": "y"
        },
        {
         "alignmentgroup": "True",
         "hovertemplate": "City=Bhopal<br>Year=%{x}<br>AQI=%{y}<extra></extra>",
         "legendgroup": "Bhopal",
         "marker": {
          "color": "#19d3f3",
          "pattern": {
           "shape": ""
          }
         },
         "name": "Bhopal",
         "offsetgroup": "Bhopal",
         "orientation": "v",
         "showlegend": true,
         "textposition": "auto",
         "type": "bar",
         "x": [
          2019,
          2020
         ],
         "xaxis": "x",
         "y": [
          162.64584905660377,
          117.57704918032782
         ],
         "yaxis": "y"
        },
        {
         "alignmentgroup": "True",
         "hovertemplate": "City=Brajrajnagar<br>Year=%{x}<br>AQI=%{y}<extra></extra>",
         "legendgroup": "Brajrajnagar",
         "marker": {
          "color": "#FF6692",
          "pattern": {
           "shape": ""
          }
         },
         "name": "Brajrajnagar",
         "offsetgroup": "Brajrajnagar",
         "orientation": "v",
         "showlegend": true,
         "textposition": "auto",
         "type": "bar",
         "x": [
          2017,
          2018,
          2019,
          2020
         ],
         "xaxis": "x",
         "y": [
          198.91600000000003,
          158.29397260273956,
          150.52816438356155,
          147.05202185792322
         ],
         "yaxis": "y"
        },
        {
         "alignmentgroup": "True",
         "hovertemplate": "City=Chandigarh<br>Year=%{x}<br>AQI=%{y}<extra></extra>",
         "legendgroup": "Chandigarh",
         "marker": {
          "color": "#B6E880",
          "pattern": {
           "shape": ""
          }
         },
         "name": "Chandigarh",
         "offsetgroup": "Chandigarh",
         "orientation": "v",
         "showlegend": true,
         "textposition": "auto",
         "type": "bar",
         "x": [
          2019,
          2020
         ],
         "xaxis": "x",
         "y": [
          136.56892561983472,
          71.91508196721311
         ],
         "yaxis": "y"
        },
        {
         "alignmentgroup": "True",
         "hovertemplate": "City=Chennai<br>Year=%{x}<br>AQI=%{y}<extra></extra>",
         "legendgroup": "Chennai",
         "marker": {
          "color": "#FF97FF",
          "pattern": {
           "shape": ""
          }
         },
         "name": "Chennai",
         "offsetgroup": "Chennai",
         "orientation": "v",
         "showlegend": true,
         "textposition": "auto",
         "type": "bar",
         "x": [
          2015,
          2016,
          2017,
          2018,
          2019,
          2020
         ],
         "xaxis": "x",
         "y": [
          152.7532602739725,
          141.00469945355184,
          105.216,
          105.4904109589041,
          102.94246575342466,
          80.25136612021858
         ],
         "yaxis": "y"
        },
        {
         "alignmentgroup": "True",
         "hovertemplate": "City=Coimbatore<br>Year=%{x}<br>AQI=%{y}<extra></extra>",
         "legendgroup": "Coimbatore",
         "marker": {
          "color": "#FECB52",
          "pattern": {
           "shape": ""
          }
         },
         "name": "Coimbatore",
         "offsetgroup": "Coimbatore",
         "orientation": "v",
         "showlegend": true,
         "textposition": "auto",
         "type": "bar",
         "x": [
          2019,
          2020
         ],
         "xaxis": "x",
         "y": [
          83.63497536945812,
          82.69628415300538
         ],
         "yaxis": "y"
        },
        {
         "alignmentgroup": "True",
         "hovertemplate": "City=Delhi<br>Year=%{x}<br>AQI=%{y}<extra></extra>",
         "legendgroup": "Delhi",
         "marker": {
          "color": "#636efa",
          "pattern": {
           "shape": ""
          }
         },
         "name": "Delhi",
         "offsetgroup": "Delhi",
         "orientation": "v",
         "showlegend": true,
         "textposition": "auto",
         "type": "bar",
         "x": [
          2015,
          2016,
          2017,
          2018,
          2019,
          2020
         ],
         "xaxis": "x",
         "y": [
          297.02465753424656,
          301.00125683060105,
          254.5017534246575,
          249.15890410958903,
          232.1041095890411,
          181.672131147541
         ],
         "yaxis": "y"
        },
        {
         "alignmentgroup": "True",
         "hovertemplate": "City=Ernakulam<br>Year=%{x}<br>AQI=%{y}<extra></extra>",
         "legendgroup": "Ernakulam",
         "marker": {
          "color": "#EF553B",
          "pattern": {
           "shape": ""
          }
         },
         "name": "Ernakulam",
         "offsetgroup": "Ernakulam",
         "orientation": "v",
         "showlegend": true,
         "textposition": "auto",
         "type": "bar",
         "x": [
          2020
         ],
         "xaxis": "x",
         "y": [
          96.47617283950616
         ],
         "yaxis": "y"
        },
        {
         "alignmentgroup": "True",
         "hovertemplate": "City=Gurugram<br>Year=%{x}<br>AQI=%{y}<extra></extra>",
         "legendgroup": "Gurugram",
         "marker": {
          "color": "#00cc96",
          "pattern": {
           "shape": ""
          }
         },
         "name": "Gurugram",
         "offsetgroup": "Gurugram",
         "orientation": "v",
         "showlegend": true,
         "textposition": "auto",
         "type": "bar",
         "x": [
          2015,
          2016,
          2017,
          2018,
          2019,
          2020
         ],
         "xaxis": "x",
         "y": [
          166.46,
          205.476338797814,
          273.03989041095895,
          229.51643835616431,
          195.14372602739724,
          158.65573770491804
         ],
         "yaxis": "y"
        },
        {
         "alignmentgroup": "True",
         "hovertemplate": "City=Guwahati<br>Year=%{x}<br>AQI=%{y}<extra></extra>",
         "legendgroup": "Guwahati",
         "marker": {
          "color": "#ab63fa",
          "pattern": {
           "shape": ""
          }
         },
         "name": "Guwahati",
         "offsetgroup": "Guwahati",
         "orientation": "v",
         "showlegend": true,
         "textposition": "auto",
         "type": "bar",
         "x": [
          2019,
          2020
         ],
         "xaxis": "x",
         "y": [
          128.41448275862066,
          161.50819672131146
         ],
         "yaxis": "y"
        },
        {
         "alignmentgroup": "True",
         "hovertemplate": "City=Hyderabad<br>Year=%{x}<br>AQI=%{y}<extra></extra>",
         "legendgroup": "Hyderabad",
         "marker": {
          "color": "#FFA15A",
          "pattern": {
           "shape": ""
          }
         },
         "name": "Hyderabad",
         "offsetgroup": "Hyderabad",
         "orientation": "v",
         "showlegend": true,
         "textposition": "auto",
         "type": "bar",
         "x": [
          2015,
          2016,
          2017,
          2018,
          2019,
          2020
         ],
         "xaxis": "x",
         "y": [
          149.1475138121546,
          127.58562841530048,
          113.36772602739724,
          97.55616438356165,
          93.98082191780821,
          78.17486338797814
         ],
         "yaxis": "y"
        },
        {
         "alignmentgroup": "True",
         "hovertemplate": "City=Jaipur<br>Year=%{x}<br>AQI=%{y}<extra></extra>",
         "legendgroup": "Jaipur",
         "marker": {
          "color": "#19d3f3",
          "pattern": {
           "shape": ""
          }
         },
         "name": "Jaipur",
         "offsetgroup": "Jaipur",
         "orientation": "v",
         "showlegend": true,
         "textposition": "auto",
         "type": "bar",
         "x": [
          2017,
          2018,
          2019,
          2020
         ],
         "xaxis": "x",
         "y": [
          157.16517412935323,
          150.02739726027397,
          120.5123287671233,
          105.12021857923497
         ],
         "yaxis": "y"
        },
        {
         "alignmentgroup": "True",
         "hovertemplate": "City=Jorapokhar<br>Year=%{x}<br>AQI=%{y}<extra></extra>",
         "legendgroup": "Jorapokhar",
         "marker": {
          "color": "#FF6692",
          "pattern": {
           "shape": ""
          }
         },
         "name": "Jorapokhar",
         "offsetgroup": "Jorapokhar",
         "orientation": "v",
         "showlegend": true,
         "textposition": "auto",
         "type": "bar",
         "x": [
          2017,
          2018,
          2019,
          2020
         ],
         "xaxis": "x",
         "y": [
          152.1347656249994,
          178.0202739726024,
          159.09457534246562,
          147.763169398907
         ],
         "yaxis": "y"
        },
        {
         "alignmentgroup": "True",
         "hovertemplate": "City=Kochi<br>Year=%{x}<br>AQI=%{y}<extra></extra>",
         "legendgroup": "Kochi",
         "marker": {
          "color": "#B6E880",
          "pattern": {
           "shape": ""
          }
         },
         "name": "Kochi",
         "offsetgroup": "Kochi",
         "orientation": "v",
         "showlegend": true,
         "textposition": "auto",
         "type": "bar",
         "x": [
          2020
         ],
         "xaxis": "x",
         "y": [
          105.81999999999998
         ],
         "yaxis": "y"
        },
        {
         "alignmentgroup": "True",
         "hovertemplate": "City=Kolkata<br>Year=%{x}<br>AQI=%{y}<extra></extra>",
         "legendgroup": "Kolkata",
         "marker": {
          "color": "#FF97FF",
          "pattern": {
           "shape": ""
          }
         },
         "name": "Kolkata",
         "offsetgroup": "Kolkata",
         "orientation": "v",
         "showlegend": true,
         "textposition": "auto",
         "type": "bar",
         "x": [
          2018,
          2019,
          2020
         ],
         "xaxis": "x",
         "y": [
          157.82932330827063,
          143.9095890410959,
          117.29508196721312
         ],
         "yaxis": "y"
        },
        {
         "alignmentgroup": "True",
         "hovertemplate": "City=Lucknow<br>Year=%{x}<br>AQI=%{y}<extra></extra>",
         "legendgroup": "Lucknow",
         "marker": {
          "color": "#FECB52",
          "pattern": {
           "shape": ""
          }
         },
         "name": "Lucknow",
         "offsetgroup": "Lucknow",
         "orientation": "v",
         "showlegend": true,
         "textposition": "auto",
         "type": "bar",
         "x": [
          2015,
          2016,
          2017,
          2018,
          2019,
          2020
         ],
         "xaxis": "x",
         "y": [
          194.29660273972598,
          236.283387978142,
          237.0366575342466,
          233.77260273972604,
          202.56164383561645,
          157.12568306010928
         ],
         "yaxis": "y"
        },
        {
         "alignmentgroup": "True",
         "hovertemplate": "City=Mumbai<br>Year=%{x}<br>AQI=%{y}<extra></extra>",
         "legendgroup": "Mumbai",
         "marker": {
          "color": "#636efa",
          "pattern": {
           "shape": ""
          }
         },
         "name": "Mumbai",
         "offsetgroup": "Mumbai",
         "orientation": "v",
         "showlegend": true,
         "textposition": "auto",
         "type": "bar",
         "x": [
          2015,
          2016,
          2017,
          2018,
          2019,
          2020
         ],
         "xaxis": "x",
         "y": [
          166.45999999999924,
          166.45999999999924,
          166.45999999999924,
          126.7519999999998,
          107.95068493150686,
          103.56830601092896
         ],
         "yaxis": "y"
        },
        {
         "alignmentgroup": "True",
         "hovertemplate": "City=Patna<br>Year=%{x}<br>AQI=%{y}<extra></extra>",
         "legendgroup": "Patna",
         "marker": {
          "color": "#EF553B",
          "pattern": {
           "shape": ""
          }
         },
         "name": "Patna",
         "offsetgroup": "Patna",
         "orientation": "v",
         "showlegend": true,
         "textposition": "auto",
         "type": "bar",
         "x": [
          2015,
          2016,
          2017,
          2018,
          2019,
          2020
         ],
         "xaxis": "x",
         "y": [
          236.14102803738285,
          244.11502732240436,
          229.54701369862966,
          232.89819178082195,
          217.4075616438356,
          162.2513661202186
         ],
         "yaxis": "y"
        },
        {
         "alignmentgroup": "True",
         "hovertemplate": "City=Shillong<br>Year=%{x}<br>AQI=%{y}<extra></extra>",
         "legendgroup": "Shillong",
         "marker": {
          "color": "#00cc96",
          "pattern": {
           "shape": ""
          }
         },
         "name": "Shillong",
         "offsetgroup": "Shillong",
         "orientation": "v",
         "showlegend": true,
         "textposition": "auto",
         "type": "bar",
         "x": [
          2019,
          2020
         ],
         "xaxis": "x",
         "y": [
          105.9483464566927,
          82.24513661202172
         ],
         "yaxis": "y"
        },
        {
         "alignmentgroup": "True",
         "hovertemplate": "City=Talcher<br>Year=%{x}<br>AQI=%{y}<extra></extra>",
         "legendgroup": "Talcher",
         "marker": {
          "color": "#ab63fa",
          "pattern": {
           "shape": ""
          }
         },
         "name": "Talcher",
         "offsetgroup": "Talcher",
         "orientation": "v",
         "showlegend": true,
         "textposition": "auto",
         "type": "bar",
         "x": [
          2017,
          2018,
          2019,
          2020
         ],
         "xaxis": "x",
         "y": [
          166.46,
          179.08756164383541,
          168.5877260273971,
          161.54327868852448
         ],
         "yaxis": "y"
        },
        {
         "alignmentgroup": "True",
         "hovertemplate": "City=Thiruvananthapuram<br>Year=%{x}<br>AQI=%{y}<extra></extra>",
         "legendgroup": "Thiruvananthapuram",
         "marker": {
          "color": "#FFA15A",
          "pattern": {
           "shape": ""
          }
         },
         "name": "Thiruvananthapuram",
         "offsetgroup": "Thiruvananthapuram",
         "orientation": "v",
         "showlegend": true,
         "textposition": "auto",
         "type": "bar",
         "x": [
          2017,
          2018,
          2019,
          2020
         ],
         "xaxis": "x",
         "y": [
          89.2629145728642,
          84.37216438356164,
          79.69709589041092,
          66.46448087431693
         ],
         "yaxis": "y"
        },
        {
         "alignmentgroup": "True",
         "hovertemplate": "City=Visakhapatnam<br>Year=%{x}<br>AQI=%{y}<extra></extra>",
         "legendgroup": "Visakhapatnam",
         "marker": {
          "color": "#19d3f3",
          "pattern": {
           "shape": ""
          }
         },
         "name": "Visakhapatnam",
         "offsetgroup": "Visakhapatnam",
         "orientation": "v",
         "showlegend": true,
         "textposition": "auto",
         "type": "bar",
         "x": [
          2016,
          2017,
          2018,
          2019,
          2020
         ],
         "xaxis": "x",
         "y": [
          109.7490217391304,
          156.28153424657484,
          127.48202739726018,
          126.27134246575336,
          86.91967213114754
         ],
         "yaxis": "y"
        },
        {
         "hovertemplate": "Year=%{x}<br>Average_AQI=%{y}<extra></extra>",
         "legendgroup": "",
         "line": {
          "color": "black",
          "dash": "solid"
         },
         "marker": {
          "symbol": "circle"
         },
         "mode": "lines",
         "name": "Average AQI",
         "orientation": "v",
         "showlegend": true,
         "type": "scatter",
         "x": [
          2015,
          2016,
          2017,
          2018,
          2019,
          2020,
          2020,
          2017,
          2018,
          2019,
          2020,
          2017,
          2018,
          2019,
          2020,
          2015,
          2016,
          2017,
          2018,
          2019,
          2020,
          2019,
          2020,
          2017,
          2018,
          2019,
          2020,
          2019,
          2020,
          2015,
          2016,
          2017,
          2018,
          2019,
          2020,
          2019,
          2020,
          2015,
          2016,
          2017,
          2018,
          2019,
          2020,
          2020,
          2015,
          2016,
          2017,
          2018,
          2019,
          2020,
          2019,
          2020,
          2015,
          2016,
          2017,
          2018,
          2019,
          2020,
          2017,
          2018,
          2019,
          2020,
          2017,
          2018,
          2019,
          2020,
          2020,
          2018,
          2019,
          2020,
          2015,
          2016,
          2017,
          2018,
          2019,
          2020,
          2015,
          2016,
          2017,
          2018,
          2019,
          2020,
          2015,
          2016,
          2017,
          2018,
          2019,
          2020,
          2019,
          2020,
          2017,
          2018,
          2019,
          2020,
          2017,
          2018,
          2019,
          2020,
          2016,
          2017,
          2018,
          2019,
          2020
         ],
         "xaxis": "x",
         "y": [
          158.68159316993555,
          158.68159316993555,
          158.68159316993555,
          158.68159316993555,
          158.68159316993555,
          158.68159316993555,
          158.68159316993555,
          158.68159316993555,
          158.68159316993555,
          158.68159316993555,
          158.68159316993555,
          158.68159316993555,
          158.68159316993555,
          158.68159316993555,
          158.68159316993555,
          158.68159316993555,
          158.68159316993555,
          158.68159316993555,
          158.68159316993555,
          158.68159316993555,
          158.68159316993555,
          158.68159316993555,
          158.68159316993555,
          158.68159316993555,
          158.68159316993555,
          158.68159316993555,
          158.68159316993555,
          158.68159316993555,
          158.68159316993555,
          158.68159316993555,
          158.68159316993555,
          158.68159316993555,
          158.68159316993555,
          158.68159316993555,
          158.68159316993555,
          158.68159316993555,
          158.68159316993555,
          158.68159316993555,
          158.68159316993555,
          158.68159316993555,
          158.68159316993555,
          158.68159316993555,
          158.68159316993555,
          158.68159316993555,
          158.68159316993555,
          158.68159316993555,
          158.68159316993555,
          158.68159316993555,
          158.68159316993555,
          158.68159316993555,
          158.68159316993555,
          158.68159316993555,
          158.68159316993555,
          158.68159316993555,
          158.68159316993555,
          158.68159316993555,
          158.68159316993555,
          158.68159316993555,
          158.68159316993555,
          158.68159316993555,
          158.68159316993555,
          158.68159316993555,
          158.68159316993555,
          158.68159316993555,
          158.68159316993555,
          158.68159316993555,
          158.68159316993555,
          158.68159316993555,
          158.68159316993555,
          158.68159316993555,
          158.68159316993555,
          158.68159316993555,
          158.68159316993555,
          158.68159316993555,
          158.68159316993555,
          158.68159316993555,
          158.68159316993555,
          158.68159316993555,
          158.68159316993555,
          158.68159316993555,
          158.68159316993555,
          158.68159316993555,
          158.68159316993555,
          158.68159316993555,
          158.68159316993555,
          158.68159316993555,
          158.68159316993555,
          158.68159316993555,
          158.68159316993555,
          158.68159316993555,
          158.68159316993555,
          158.68159316993555,
          158.68159316993555,
          158.68159316993555,
          158.68159316993555,
          158.68159316993555,
          158.68159316993555,
          158.68159316993555,
          158.68159316993555,
          158.68159316993555,
          158.68159316993555,
          158.68159316993555,
          158.68159316993555
         ],
         "yaxis": "y"
        }
       ],
       "layout": {
        "barmode": "group",
        "legend": {
         "title": {
          "text": "City"
         },
         "tracegroupgap": 0
        },
        "template": {
         "data": {
          "bar": [
           {
            "error_x": {
             "color": "#2a3f5f"
            },
            "error_y": {
             "color": "#2a3f5f"
            },
            "marker": {
             "line": {
              "color": "#E5ECF6",
              "width": 0.5
             },
             "pattern": {
              "fillmode": "overlay",
              "size": 10,
              "solidity": 0.2
             }
            },
            "type": "bar"
           }
          ],
          "barpolar": [
           {
            "marker": {
             "line": {
              "color": "#E5ECF6",
              "width": 0.5
             },
             "pattern": {
              "fillmode": "overlay",
              "size": 10,
              "solidity": 0.2
             }
            },
            "type": "barpolar"
           }
          ],
          "carpet": [
           {
            "aaxis": {
             "endlinecolor": "#2a3f5f",
             "gridcolor": "white",
             "linecolor": "white",
             "minorgridcolor": "white",
             "startlinecolor": "#2a3f5f"
            },
            "baxis": {
             "endlinecolor": "#2a3f5f",
             "gridcolor": "white",
             "linecolor": "white",
             "minorgridcolor": "white",
             "startlinecolor": "#2a3f5f"
            },
            "type": "carpet"
           }
          ],
          "choropleth": [
           {
            "colorbar": {
             "outlinewidth": 0,
             "ticks": ""
            },
            "type": "choropleth"
           }
          ],
          "contour": [
           {
            "colorbar": {
             "outlinewidth": 0,
             "ticks": ""
            },
            "colorscale": [
             [
              0,
              "#0d0887"
             ],
             [
              0.1111111111111111,
              "#46039f"
             ],
             [
              0.2222222222222222,
              "#7201a8"
             ],
             [
              0.3333333333333333,
              "#9c179e"
             ],
             [
              0.4444444444444444,
              "#bd3786"
             ],
             [
              0.5555555555555556,
              "#d8576b"
             ],
             [
              0.6666666666666666,
              "#ed7953"
             ],
             [
              0.7777777777777778,
              "#fb9f3a"
             ],
             [
              0.8888888888888888,
              "#fdca26"
             ],
             [
              1,
              "#f0f921"
             ]
            ],
            "type": "contour"
           }
          ],
          "contourcarpet": [
           {
            "colorbar": {
             "outlinewidth": 0,
             "ticks": ""
            },
            "type": "contourcarpet"
           }
          ],
          "heatmap": [
           {
            "colorbar": {
             "outlinewidth": 0,
             "ticks": ""
            },
            "colorscale": [
             [
              0,
              "#0d0887"
             ],
             [
              0.1111111111111111,
              "#46039f"
             ],
             [
              0.2222222222222222,
              "#7201a8"
             ],
             [
              0.3333333333333333,
              "#9c179e"
             ],
             [
              0.4444444444444444,
              "#bd3786"
             ],
             [
              0.5555555555555556,
              "#d8576b"
             ],
             [
              0.6666666666666666,
              "#ed7953"
             ],
             [
              0.7777777777777778,
              "#fb9f3a"
             ],
             [
              0.8888888888888888,
              "#fdca26"
             ],
             [
              1,
              "#f0f921"
             ]
            ],
            "type": "heatmap"
           }
          ],
          "heatmapgl": [
           {
            "colorbar": {
             "outlinewidth": 0,
             "ticks": ""
            },
            "colorscale": [
             [
              0,
              "#0d0887"
             ],
             [
              0.1111111111111111,
              "#46039f"
             ],
             [
              0.2222222222222222,
              "#7201a8"
             ],
             [
              0.3333333333333333,
              "#9c179e"
             ],
             [
              0.4444444444444444,
              "#bd3786"
             ],
             [
              0.5555555555555556,
              "#d8576b"
             ],
             [
              0.6666666666666666,
              "#ed7953"
             ],
             [
              0.7777777777777778,
              "#fb9f3a"
             ],
             [
              0.8888888888888888,
              "#fdca26"
             ],
             [
              1,
              "#f0f921"
             ]
            ],
            "type": "heatmapgl"
           }
          ],
          "histogram": [
           {
            "marker": {
             "pattern": {
              "fillmode": "overlay",
              "size": 10,
              "solidity": 0.2
             }
            },
            "type": "histogram"
           }
          ],
          "histogram2d": [
           {
            "colorbar": {
             "outlinewidth": 0,
             "ticks": ""
            },
            "colorscale": [
             [
              0,
              "#0d0887"
             ],
             [
              0.1111111111111111,
              "#46039f"
             ],
             [
              0.2222222222222222,
              "#7201a8"
             ],
             [
              0.3333333333333333,
              "#9c179e"
             ],
             [
              0.4444444444444444,
              "#bd3786"
             ],
             [
              0.5555555555555556,
              "#d8576b"
             ],
             [
              0.6666666666666666,
              "#ed7953"
             ],
             [
              0.7777777777777778,
              "#fb9f3a"
             ],
             [
              0.8888888888888888,
              "#fdca26"
             ],
             [
              1,
              "#f0f921"
             ]
            ],
            "type": "histogram2d"
           }
          ],
          "histogram2dcontour": [
           {
            "colorbar": {
             "outlinewidth": 0,
             "ticks": ""
            },
            "colorscale": [
             [
              0,
              "#0d0887"
             ],
             [
              0.1111111111111111,
              "#46039f"
             ],
             [
              0.2222222222222222,
              "#7201a8"
             ],
             [
              0.3333333333333333,
              "#9c179e"
             ],
             [
              0.4444444444444444,
              "#bd3786"
             ],
             [
              0.5555555555555556,
              "#d8576b"
             ],
             [
              0.6666666666666666,
              "#ed7953"
             ],
             [
              0.7777777777777778,
              "#fb9f3a"
             ],
             [
              0.8888888888888888,
              "#fdca26"
             ],
             [
              1,
              "#f0f921"
             ]
            ],
            "type": "histogram2dcontour"
           }
          ],
          "mesh3d": [
           {
            "colorbar": {
             "outlinewidth": 0,
             "ticks": ""
            },
            "type": "mesh3d"
           }
          ],
          "parcoords": [
           {
            "line": {
             "colorbar": {
              "outlinewidth": 0,
              "ticks": ""
             }
            },
            "type": "parcoords"
           }
          ],
          "pie": [
           {
            "automargin": true,
            "type": "pie"
           }
          ],
          "scatter": [
           {
            "fillpattern": {
             "fillmode": "overlay",
             "size": 10,
             "solidity": 0.2
            },
            "type": "scatter"
           }
          ],
          "scatter3d": [
           {
            "line": {
             "colorbar": {
              "outlinewidth": 0,
              "ticks": ""
             }
            },
            "marker": {
             "colorbar": {
              "outlinewidth": 0,
              "ticks": ""
             }
            },
            "type": "scatter3d"
           }
          ],
          "scattercarpet": [
           {
            "marker": {
             "colorbar": {
              "outlinewidth": 0,
              "ticks": ""
             }
            },
            "type": "scattercarpet"
           }
          ],
          "scattergeo": [
           {
            "marker": {
             "colorbar": {
              "outlinewidth": 0,
              "ticks": ""
             }
            },
            "type": "scattergeo"
           }
          ],
          "scattergl": [
           {
            "marker": {
             "colorbar": {
              "outlinewidth": 0,
              "ticks": ""
             }
            },
            "type": "scattergl"
           }
          ],
          "scattermapbox": [
           {
            "marker": {
             "colorbar": {
              "outlinewidth": 0,
              "ticks": ""
             }
            },
            "type": "scattermapbox"
           }
          ],
          "scatterpolar": [
           {
            "marker": {
             "colorbar": {
              "outlinewidth": 0,
              "ticks": ""
             }
            },
            "type": "scatterpolar"
           }
          ],
          "scatterpolargl": [
           {
            "marker": {
             "colorbar": {
              "outlinewidth": 0,
              "ticks": ""
             }
            },
            "type": "scatterpolargl"
           }
          ],
          "scatterternary": [
           {
            "marker": {
             "colorbar": {
              "outlinewidth": 0,
              "ticks": ""
             }
            },
            "type": "scatterternary"
           }
          ],
          "surface": [
           {
            "colorbar": {
             "outlinewidth": 0,
             "ticks": ""
            },
            "colorscale": [
             [
              0,
              "#0d0887"
             ],
             [
              0.1111111111111111,
              "#46039f"
             ],
             [
              0.2222222222222222,
              "#7201a8"
             ],
             [
              0.3333333333333333,
              "#9c179e"
             ],
             [
              0.4444444444444444,
              "#bd3786"
             ],
             [
              0.5555555555555556,
              "#d8576b"
             ],
             [
              0.6666666666666666,
              "#ed7953"
             ],
             [
              0.7777777777777778,
              "#fb9f3a"
             ],
             [
              0.8888888888888888,
              "#fdca26"
             ],
             [
              1,
              "#f0f921"
             ]
            ],
            "type": "surface"
           }
          ],
          "table": [
           {
            "cells": {
             "fill": {
              "color": "#EBF0F8"
             },
             "line": {
              "color": "white"
             }
            },
            "header": {
             "fill": {
              "color": "#C8D4E3"
             },
             "line": {
              "color": "white"
             }
            },
            "type": "table"
           }
          ]
         },
         "layout": {
          "annotationdefaults": {
           "arrowcolor": "#2a3f5f",
           "arrowhead": 0,
           "arrowwidth": 1
          },
          "autotypenumbers": "strict",
          "coloraxis": {
           "colorbar": {
            "outlinewidth": 0,
            "ticks": ""
           }
          },
          "colorscale": {
           "diverging": [
            [
             0,
             "#8e0152"
            ],
            [
             0.1,
             "#c51b7d"
            ],
            [
             0.2,
             "#de77ae"
            ],
            [
             0.3,
             "#f1b6da"
            ],
            [
             0.4,
             "#fde0ef"
            ],
            [
             0.5,
             "#f7f7f7"
            ],
            [
             0.6,
             "#e6f5d0"
            ],
            [
             0.7,
             "#b8e186"
            ],
            [
             0.8,
             "#7fbc41"
            ],
            [
             0.9,
             "#4d9221"
            ],
            [
             1,
             "#276419"
            ]
           ],
           "sequential": [
            [
             0,
             "#0d0887"
            ],
            [
             0.1111111111111111,
             "#46039f"
            ],
            [
             0.2222222222222222,
             "#7201a8"
            ],
            [
             0.3333333333333333,
             "#9c179e"
            ],
            [
             0.4444444444444444,
             "#bd3786"
            ],
            [
             0.5555555555555556,
             "#d8576b"
            ],
            [
             0.6666666666666666,
             "#ed7953"
            ],
            [
             0.7777777777777778,
             "#fb9f3a"
            ],
            [
             0.8888888888888888,
             "#fdca26"
            ],
            [
             1,
             "#f0f921"
            ]
           ],
           "sequentialminus": [
            [
             0,
             "#0d0887"
            ],
            [
             0.1111111111111111,
             "#46039f"
            ],
            [
             0.2222222222222222,
             "#7201a8"
            ],
            [
             0.3333333333333333,
             "#9c179e"
            ],
            [
             0.4444444444444444,
             "#bd3786"
            ],
            [
             0.5555555555555556,
             "#d8576b"
            ],
            [
             0.6666666666666666,
             "#ed7953"
            ],
            [
             0.7777777777777778,
             "#fb9f3a"
            ],
            [
             0.8888888888888888,
             "#fdca26"
            ],
            [
             1,
             "#f0f921"
            ]
           ]
          },
          "colorway": [
           "#636efa",
           "#EF553B",
           "#00cc96",
           "#ab63fa",
           "#FFA15A",
           "#19d3f3",
           "#FF6692",
           "#B6E880",
           "#FF97FF",
           "#FECB52"
          ],
          "font": {
           "color": "#2a3f5f"
          },
          "geo": {
           "bgcolor": "white",
           "lakecolor": "white",
           "landcolor": "#E5ECF6",
           "showlakes": true,
           "showland": true,
           "subunitcolor": "white"
          },
          "hoverlabel": {
           "align": "left"
          },
          "hovermode": "closest",
          "mapbox": {
           "style": "light"
          },
          "paper_bgcolor": "white",
          "plot_bgcolor": "#E5ECF6",
          "polar": {
           "angularaxis": {
            "gridcolor": "white",
            "linecolor": "white",
            "ticks": ""
           },
           "bgcolor": "#E5ECF6",
           "radialaxis": {
            "gridcolor": "white",
            "linecolor": "white",
            "ticks": ""
           }
          },
          "scene": {
           "xaxis": {
            "backgroundcolor": "#E5ECF6",
            "gridcolor": "white",
            "gridwidth": 2,
            "linecolor": "white",
            "showbackground": true,
            "ticks": "",
            "zerolinecolor": "white"
           },
           "yaxis": {
            "backgroundcolor": "#E5ECF6",
            "gridcolor": "white",
            "gridwidth": 2,
            "linecolor": "white",
            "showbackground": true,
            "ticks": "",
            "zerolinecolor": "white"
           },
           "zaxis": {
            "backgroundcolor": "#E5ECF6",
            "gridcolor": "white",
            "gridwidth": 2,
            "linecolor": "white",
            "showbackground": true,
            "ticks": "",
            "zerolinecolor": "white"
           }
          },
          "shapedefaults": {
           "line": {
            "color": "#2a3f5f"
           }
          },
          "ternary": {
           "aaxis": {
            "gridcolor": "white",
            "linecolor": "white",
            "ticks": ""
           },
           "baxis": {
            "gridcolor": "white",
            "linecolor": "white",
            "ticks": ""
           },
           "bgcolor": "#E5ECF6",
           "caxis": {
            "gridcolor": "white",
            "linecolor": "white",
            "ticks": ""
           }
          },
          "title": {
           "x": 0.05
          },
          "xaxis": {
           "automargin": true,
           "gridcolor": "white",
           "linecolor": "white",
           "ticks": "",
           "title": {
            "standoff": 15
           },
           "zerolinecolor": "white",
           "zerolinewidth": 2
          },
          "yaxis": {
           "automargin": true,
           "gridcolor": "white",
           "linecolor": "white",
           "ticks": "",
           "title": {
            "standoff": 15
           },
           "zerolinecolor": "white",
           "zerolinewidth": 2
          }
         }
        },
        "title": {
         "text": "AQI for each city between 2015 - 2020"
        },
        "xaxis": {
         "anchor": "y",
         "domain": [
          0,
          1
         ],
         "title": {
          "text": "Year"
         }
        },
        "yaxis": {
         "anchor": "x",
         "domain": [
          0,
          1
         ],
         "title": {
          "text": "AQI"
         }
        }
       }
      }
     },
     "metadata": {},
     "output_type": "display_data"
    }
   ],
   "source": [
    "fig=px.bar(aqi_avg_df, x='Year', y='AQI', color='City', barmode='group', title='AQI for each city between 2015 - 2020')\n",
    "l=px.line(aqi_avg_df, x='Year', y='Average_AQI').update_traces(line_color=\"black\", name='Average AQI', showlegend=True)\n",
    "fig.add_traces(l.data)\n",
    "fig.show()"
   ]
  },
  {
   "cell_type": "code",
   "execution_count": null,
   "id": "8c57c579",
   "metadata": {
    "execution": {
     "iopub.execute_input": "2023-05-10T11:43:53.288076Z",
     "iopub.status.busy": "2023-05-10T11:43:53.287187Z",
     "iopub.status.idle": "2023-05-10T11:43:53.304729Z",
     "shell.execute_reply": "2023-05-10T11:43:53.303704Z"
    },
    "papermill": {
     "duration": 0.055665,
     "end_time": "2023-05-10T11:43:53.307563",
     "exception": false,
     "start_time": "2023-05-10T11:43:53.251898",
     "status": "completed"
    },
    "tags": []
   },
   "outputs": [
    {
     "data": {
      "text/html": [
       "<div>\n",
       "<style scoped>\n",
       "    .dataframe tbody tr th:only-of-type {\n",
       "        vertical-align: middle;\n",
       "    }\n",
       "\n",
       "    .dataframe tbody tr th {\n",
       "        vertical-align: top;\n",
       "    }\n",
       "\n",
       "    .dataframe thead th {\n",
       "        text-align: right;\n",
       "    }\n",
       "</style>\n",
       "<table border=\"1\" class=\"dataframe\">\n",
       "  <thead>\n",
       "    <tr style=\"text-align: right;\">\n",
       "      <th></th>\n",
       "      <th>City</th>\n",
       "      <th>Date</th>\n",
       "      <th>AQI_Bucket</th>\n",
       "    </tr>\n",
       "  </thead>\n",
       "  <tbody>\n",
       "    <tr>\n",
       "      <th>0</th>\n",
       "      <td>Ahmedabad</td>\n",
       "      <td>2015-01-01</td>\n",
       "      <td>Moderate</td>\n",
       "    </tr>\n",
       "    <tr>\n",
       "      <th>1</th>\n",
       "      <td>Ahmedabad</td>\n",
       "      <td>2015-01-02</td>\n",
       "      <td>Moderate</td>\n",
       "    </tr>\n",
       "    <tr>\n",
       "      <th>2</th>\n",
       "      <td>Ahmedabad</td>\n",
       "      <td>2015-01-03</td>\n",
       "      <td>Moderate</td>\n",
       "    </tr>\n",
       "    <tr>\n",
       "      <th>3</th>\n",
       "      <td>Ahmedabad</td>\n",
       "      <td>2015-01-04</td>\n",
       "      <td>Moderate</td>\n",
       "    </tr>\n",
       "    <tr>\n",
       "      <th>4</th>\n",
       "      <td>Ahmedabad</td>\n",
       "      <td>2015-01-05</td>\n",
       "      <td>Moderate</td>\n",
       "    </tr>\n",
       "    <tr>\n",
       "      <th>...</th>\n",
       "      <td>...</td>\n",
       "      <td>...</td>\n",
       "      <td>...</td>\n",
       "    </tr>\n",
       "    <tr>\n",
       "      <th>29526</th>\n",
       "      <td>Visakhapatnam</td>\n",
       "      <td>2020-06-27</td>\n",
       "      <td>Good</td>\n",
       "    </tr>\n",
       "    <tr>\n",
       "      <th>29527</th>\n",
       "      <td>Visakhapatnam</td>\n",
       "      <td>2020-06-28</td>\n",
       "      <td>Satisfactory</td>\n",
       "    </tr>\n",
       "    <tr>\n",
       "      <th>29528</th>\n",
       "      <td>Visakhapatnam</td>\n",
       "      <td>2020-06-29</td>\n",
       "      <td>Satisfactory</td>\n",
       "    </tr>\n",
       "    <tr>\n",
       "      <th>29529</th>\n",
       "      <td>Visakhapatnam</td>\n",
       "      <td>2020-06-30</td>\n",
       "      <td>Satisfactory</td>\n",
       "    </tr>\n",
       "    <tr>\n",
       "      <th>29530</th>\n",
       "      <td>Visakhapatnam</td>\n",
       "      <td>2020-07-01</td>\n",
       "      <td>Good</td>\n",
       "    </tr>\n",
       "  </tbody>\n",
       "</table>\n",
       "<p>29531 rows × 3 columns</p>\n",
       "</div>"
      ],
      "text/plain": [
       "                City       Date    AQI_Bucket\n",
       "0          Ahmedabad 2015-01-01      Moderate\n",
       "1          Ahmedabad 2015-01-02      Moderate\n",
       "2          Ahmedabad 2015-01-03      Moderate\n",
       "3          Ahmedabad 2015-01-04      Moderate\n",
       "4          Ahmedabad 2015-01-05      Moderate\n",
       "...              ...        ...           ...\n",
       "29526  Visakhapatnam 2020-06-27          Good\n",
       "29527  Visakhapatnam 2020-06-28  Satisfactory\n",
       "29528  Visakhapatnam 2020-06-29  Satisfactory\n",
       "29529  Visakhapatnam 2020-06-30  Satisfactory\n",
       "29530  Visakhapatnam 2020-07-01          Good\n",
       "\n",
       "[29531 rows x 3 columns]"
      ]
     },
     "execution_count": 119,
     "metadata": {},
     "output_type": "execute_result"
    }
   ],
   "source": [
    "aqi_bucket_df=india_air_data[['City', 'Date', 'AQI_Bucket']] \n",
    "aqi_bucket_df"
   ]
  },
  {
   "cell_type": "code",
   "execution_count": null,
   "id": "d554387b",
   "metadata": {
    "execution": {
     "iopub.execute_input": "2023-05-10T11:43:53.378456Z",
     "iopub.status.busy": "2023-05-10T11:43:53.376975Z",
     "iopub.status.idle": "2023-05-10T11:43:53.413986Z",
     "shell.execute_reply": "2023-05-10T11:43:53.412685Z"
    },
    "papermill": {
     "duration": 0.074646,
     "end_time": "2023-05-10T11:43:53.416671",
     "exception": false,
     "start_time": "2023-05-10T11:43:53.342025",
     "status": "completed"
    },
    "tags": []
   },
   "outputs": [
    {
     "data": {
      "text/html": [
       "<div>\n",
       "<style scoped>\n",
       "    .dataframe tbody tr th:only-of-type {\n",
       "        vertical-align: middle;\n",
       "    }\n",
       "\n",
       "    .dataframe tbody tr th {\n",
       "        vertical-align: top;\n",
       "    }\n",
       "\n",
       "    .dataframe thead th {\n",
       "        text-align: right;\n",
       "    }\n",
       "</style>\n",
       "<table border=\"1\" class=\"dataframe\">\n",
       "  <thead>\n",
       "    <tr style=\"text-align: right;\">\n",
       "      <th></th>\n",
       "      <th>City</th>\n",
       "      <th>Year</th>\n",
       "      <th>AQI_Bucket</th>\n",
       "      <th>Quantity</th>\n",
       "    </tr>\n",
       "  </thead>\n",
       "  <tbody>\n",
       "    <tr>\n",
       "      <th>0</th>\n",
       "      <td>Ahmedabad</td>\n",
       "      <td>2015</td>\n",
       "      <td>Good</td>\n",
       "      <td>1</td>\n",
       "    </tr>\n",
       "    <tr>\n",
       "      <th>1</th>\n",
       "      <td>Ahmedabad</td>\n",
       "      <td>2015</td>\n",
       "      <td>Moderate</td>\n",
       "      <td>174</td>\n",
       "    </tr>\n",
       "    <tr>\n",
       "      <th>2</th>\n",
       "      <td>Ahmedabad</td>\n",
       "      <td>2015</td>\n",
       "      <td>Poor</td>\n",
       "      <td>74</td>\n",
       "    </tr>\n",
       "    <tr>\n",
       "      <th>3</th>\n",
       "      <td>Ahmedabad</td>\n",
       "      <td>2015</td>\n",
       "      <td>Satisfactory</td>\n",
       "      <td>8</td>\n",
       "    </tr>\n",
       "    <tr>\n",
       "      <th>4</th>\n",
       "      <td>Ahmedabad</td>\n",
       "      <td>2015</td>\n",
       "      <td>Severe</td>\n",
       "      <td>51</td>\n",
       "    </tr>\n",
       "    <tr>\n",
       "      <th>...</th>\n",
       "      <td>...</td>\n",
       "      <td>...</td>\n",
       "      <td>...</td>\n",
       "      <td>...</td>\n",
       "    </tr>\n",
       "    <tr>\n",
       "      <th>452</th>\n",
       "      <td>Visakhapatnam</td>\n",
       "      <td>2020</td>\n",
       "      <td>Good</td>\n",
       "      <td>29</td>\n",
       "    </tr>\n",
       "    <tr>\n",
       "      <th>453</th>\n",
       "      <td>Visakhapatnam</td>\n",
       "      <td>2020</td>\n",
       "      <td>Moderate</td>\n",
       "      <td>47</td>\n",
       "    </tr>\n",
       "    <tr>\n",
       "      <th>454</th>\n",
       "      <td>Visakhapatnam</td>\n",
       "      <td>2020</td>\n",
       "      <td>Poor</td>\n",
       "      <td>1</td>\n",
       "    </tr>\n",
       "    <tr>\n",
       "      <th>455</th>\n",
       "      <td>Visakhapatnam</td>\n",
       "      <td>2020</td>\n",
       "      <td>Satisfactory</td>\n",
       "      <td>105</td>\n",
       "    </tr>\n",
       "    <tr>\n",
       "      <th>456</th>\n",
       "      <td>Visakhapatnam</td>\n",
       "      <td>2020</td>\n",
       "      <td>Very poor</td>\n",
       "      <td>1</td>\n",
       "    </tr>\n",
       "  </tbody>\n",
       "</table>\n",
       "<p>457 rows × 4 columns</p>\n",
       "</div>"
      ],
      "text/plain": [
       "              City  Year    AQI_Bucket  Quantity\n",
       "0        Ahmedabad  2015          Good         1\n",
       "1        Ahmedabad  2015      Moderate       174\n",
       "2        Ahmedabad  2015          Poor        74\n",
       "3        Ahmedabad  2015  Satisfactory         8\n",
       "4        Ahmedabad  2015        Severe        51\n",
       "..             ...   ...           ...       ...\n",
       "452  Visakhapatnam  2020          Good        29\n",
       "453  Visakhapatnam  2020      Moderate        47\n",
       "454  Visakhapatnam  2020          Poor         1\n",
       "455  Visakhapatnam  2020  Satisfactory       105\n",
       "456  Visakhapatnam  2020     Very poor         1\n",
       "\n",
       "[457 rows x 4 columns]"
      ]
     },
     "execution_count": 120,
     "metadata": {},
     "output_type": "execute_result"
    }
   ],
   "source": [
    "aqi_bucket_df_by_yr = aqi_bucket_df.groupby(['City', aqi_bucket_df.Date.dt.year, 'AQI_Bucket']).count().rename(columns={'Date':'Quantity'}).reset_index()\n",
    "aqi_bucket_df_by_yr = aqi_bucket_df_by_yr.rename(columns={'Date':'Year'})\n",
    "aqi_bucket_df_by_yr"
   ]
  },
  {
   "cell_type": "code",
   "execution_count": null,
   "id": "56bbb50f",
   "metadata": {
    "execution": {
     "iopub.execute_input": "2023-05-10T11:43:53.485251Z",
     "iopub.status.busy": "2023-05-10T11:43:53.484800Z",
     "iopub.status.idle": "2023-05-10T11:43:53.570992Z",
     "shell.execute_reply": "2023-05-10T11:43:53.569641Z"
    },
    "papermill": {
     "duration": 0.123538,
     "end_time": "2023-05-10T11:43:53.573709",
     "exception": false,
     "start_time": "2023-05-10T11:43:53.450171",
     "status": "completed"
    },
    "tags": []
   },
   "outputs": [
    {
     "data": {
      "application/vnd.plotly.v1+json": {
       "config": {
        "plotlyServerURL": "https://plot.ly"
       },
       "data": [
        {
         "alignmentgroup": "True",
         "hovertemplate": "AQI_Bucket=Good<br>City=%{x}<br>Quantity=%{y}<extra></extra>",
         "legendgroup": "Good",
         "marker": {
          "color": "#636efa",
          "pattern": {
           "shape": ""
          }
         },
         "name": "Good",
         "offsetgroup": "Good",
         "orientation": "v",
         "showlegend": true,
         "textposition": "auto",
         "type": "bar",
         "x": [
          "Ahmedabad",
          "Aizawl",
          "Amaravati",
          "Amaravati",
          "Amaravati",
          "Amritsar",
          "Amritsar",
          "Amritsar",
          "Amritsar",
          "Bengaluru",
          "Bengaluru",
          "Bengaluru",
          "Bengaluru",
          "Bengaluru",
          "Bengaluru",
          "Bhopal",
          "Bhopal",
          "Brajrajnagar",
          "Brajrajnagar",
          "Brajrajnagar",
          "Chandigarh",
          "Chandigarh",
          "Chennai",
          "Chennai",
          "Chennai",
          "Chennai",
          "Coimbatore",
          "Coimbatore",
          "Delhi",
          "Gurugram",
          "Gurugram",
          "Gurugram",
          "Guwahati",
          "Guwahati",
          "Hyderabad",
          "Hyderabad",
          "Hyderabad",
          "Hyderabad",
          "Hyderabad",
          "Hyderabad",
          "Jaipur",
          "Jaipur",
          "Jorapokhar",
          "Jorapokhar",
          "Kolkata",
          "Kolkata",
          "Kolkata",
          "Lucknow",
          "Lucknow",
          "Lucknow",
          "Lucknow",
          "Mumbai",
          "Mumbai",
          "Mumbai",
          "Shillong",
          "Shillong",
          "Talcher",
          "Talcher",
          "Talcher",
          "Thiruvananthapuram",
          "Thiruvananthapuram",
          "Thiruvananthapuram",
          "Thiruvananthapuram",
          "Visakhapatnam",
          "Visakhapatnam",
          "Visakhapatnam",
          "Visakhapatnam"
         ],
         "xaxis": "x",
         "y": [
          1,
          83,
          27,
          58,
          73,
          17,
          32,
          23,
          12,
          13,
          52,
          28,
          4,
          8,
          10,
          1,
          1,
          9,
          2,
          3,
          2,
          46,
          2,
          3,
          6,
          1,
          5,
          38,
          21,
          9,
          2,
          10,
          64,
          52,
          12,
          6,
          7,
          39,
          59,
          18,
          2,
          2,
          4,
          6,
          21,
          53,
          45,
          1,
          10,
          3,
          1,
          1,
          10,
          15,
          47,
          64,
          15,
          2,
          2,
          25,
          21,
          43,
          37,
          1,
          11,
          11,
          29
         ],
         "yaxis": "y"
        },
        {
         "alignmentgroup": "True",
         "hovertemplate": "AQI_Bucket=Moderate<br>City=%{x}<br>Quantity=%{y}<extra></extra>",
         "legendgroup": "Moderate",
         "marker": {
          "color": "#EF553B",
          "pattern": {
           "shape": ""
          }
         },
         "name": "Moderate",
         "offsetgroup": "Moderate",
         "orientation": "v",
         "showlegend": true,
         "textposition": "auto",
         "type": "bar",
         "x": [
          "Ahmedabad",
          "Ahmedabad",
          "Ahmedabad",
          "Ahmedabad",
          "Ahmedabad",
          "Ahmedabad",
          "Aizawl",
          "Amaravati",
          "Amaravati",
          "Amaravati",
          "Amaravati",
          "Amritsar",
          "Amritsar",
          "Amritsar",
          "Amritsar",
          "Bengaluru",
          "Bengaluru",
          "Bengaluru",
          "Bengaluru",
          "Bengaluru",
          "Bengaluru",
          "Bhopal",
          "Bhopal",
          "Brajrajnagar",
          "Brajrajnagar",
          "Brajrajnagar",
          "Brajrajnagar",
          "Chandigarh",
          "Chandigarh",
          "Chennai",
          "Chennai",
          "Chennai",
          "Chennai",
          "Chennai",
          "Chennai",
          "Coimbatore",
          "Coimbatore",
          "Delhi",
          "Delhi",
          "Delhi",
          "Delhi",
          "Delhi",
          "Delhi",
          "Ernakulam",
          "Gurugram",
          "Gurugram",
          "Gurugram",
          "Gurugram",
          "Gurugram",
          "Gurugram",
          "Guwahati",
          "Guwahati",
          "Hyderabad",
          "Hyderabad",
          "Hyderabad",
          "Hyderabad",
          "Hyderabad",
          "Hyderabad",
          "Jaipur",
          "Jaipur",
          "Jaipur",
          "Jaipur",
          "Jorapokhar",
          "Jorapokhar",
          "Jorapokhar",
          "Jorapokhar",
          "Kochi",
          "Kolkata",
          "Kolkata",
          "Kolkata",
          "Lucknow",
          "Lucknow",
          "Lucknow",
          "Lucknow",
          "Lucknow",
          "Lucknow",
          "Mumbai",
          "Mumbai",
          "Mumbai",
          "Mumbai",
          "Mumbai",
          "Mumbai",
          "Patna",
          "Patna",
          "Patna",
          "Patna",
          "Patna",
          "Patna",
          "Shillong",
          "Shillong",
          "Talcher",
          "Talcher",
          "Talcher",
          "Talcher",
          "Thiruvananthapuram",
          "Thiruvananthapuram",
          "Thiruvananthapuram",
          "Thiruvananthapuram",
          "Visakhapatnam",
          "Visakhapatnam",
          "Visakhapatnam",
          "Visakhapatnam",
          "Visakhapatnam"
         ],
         "xaxis": "x",
         "y": [
          174,
          261,
          306,
          14,
          30,
          88,
          2,
          25,
          152,
          137,
          15,
          120,
          227,
          128,
          68,
          200,
          186,
          82,
          90,
          140,
          31,
          56,
          120,
          19,
          253,
          233,
          141,
          51,
          28,
          274,
          239,
          118,
          139,
          134,
          25,
          22,
          33,
          51,
          84,
          63,
          105,
          128,
          98,
          58,
          35,
          183,
          88,
          122,
          122,
          130,
          85,
          33,
          255,
          239,
          210,
          181,
          164,
          35,
          98,
          253,
          221,
          99,
          232,
          256,
          212,
          149,
          78,
          87,
          78,
          47,
          236,
          115,
          67,
          83,
          123,
          70,
          365,
          366,
          365,
          231,
          133,
          59,
          140,
          157,
          230,
          124,
          152,
          103,
          65,
          50,
          12,
          250,
          191,
          98,
          55,
          88,
          66,
          5,
          115,
          321,
          194,
          194,
          47
         ],
         "yaxis": "y"
        },
        {
         "alignmentgroup": "True",
         "hovertemplate": "AQI_Bucket=Poor<br>City=%{x}<br>Quantity=%{y}<extra></extra>",
         "legendgroup": "Poor",
         "marker": {
          "color": "#00cc96",
          "pattern": {
           "shape": ""
          }
         },
         "name": "Poor",
         "offsetgroup": "Poor",
         "orientation": "v",
         "showlegend": true,
         "textposition": "auto",
         "type": "bar",
         "x": [
          "Ahmedabad",
          "Ahmedabad",
          "Ahmedabad",
          "Ahmedabad",
          "Ahmedabad",
          "Ahmedabad",
          "Amaravati",
          "Amaravati",
          "Amaravati",
          "Amritsar",
          "Amritsar",
          "Amritsar",
          "Amritsar",
          "Bengaluru",
          "Bengaluru",
          "Bengaluru",
          "Bengaluru",
          "Bhopal",
          "Bhopal",
          "Brajrajnagar",
          "Brajrajnagar",
          "Brajrajnagar",
          "Brajrajnagar",
          "Chandigarh",
          "Chennai",
          "Chennai",
          "Chennai",
          "Chennai",
          "Chennai",
          "Chennai",
          "Delhi",
          "Delhi",
          "Delhi",
          "Delhi",
          "Delhi",
          "Delhi",
          "Gurugram",
          "Gurugram",
          "Gurugram",
          "Gurugram",
          "Gurugram",
          "Guwahati",
          "Guwahati",
          "Hyderabad",
          "Hyderabad",
          "Hyderabad",
          "Jaipur",
          "Jaipur",
          "Jaipur",
          "Jorapokhar",
          "Jorapokhar",
          "Jorapokhar",
          "Jorapokhar",
          "Kochi",
          "Kolkata",
          "Kolkata",
          "Kolkata",
          "Lucknow",
          "Lucknow",
          "Lucknow",
          "Lucknow",
          "Lucknow",
          "Lucknow",
          "Mumbai",
          "Mumbai",
          "Mumbai",
          "Patna",
          "Patna",
          "Patna",
          "Patna",
          "Patna",
          "Patna",
          "Talcher",
          "Talcher",
          "Talcher",
          "Thiruvananthapuram",
          "Thiruvananthapuram",
          "Thiruvananthapuram",
          "Visakhapatnam",
          "Visakhapatnam",
          "Visakhapatnam",
          "Visakhapatnam"
         ],
         "xaxis": "x",
         "y": [
          74,
          65,
          9,
          32,
          37,
          21,
          12,
          21,
          14,
          31,
          15,
          19,
          2,
          18,
          9,
          8,
          1,
          26,
          5,
          2,
          47,
          57,
          14,
          20,
          38,
          33,
          12,
          14,
          12,
          1,
          130,
          105,
          68,
          105,
          99,
          35,
          54,
          66,
          87,
          82,
          21,
          36,
          33,
          30,
          19,
          5,
          49,
          47,
          14,
          3,
          41,
          57,
          20,
          2,
          24,
          63,
          32,
          24,
          53,
          68,
          87,
          86,
          34,
          3,
          20,
          12,
          12,
          50,
          26,
          61,
          48,
          39,
          31,
          39,
          14,
          1,
          2,
          1,
          18,
          30,
          25,
          1
         ],
         "yaxis": "y"
        },
        {
         "alignmentgroup": "True",
         "hovertemplate": "AQI_Bucket=Satisfactory<br>City=%{x}<br>Quantity=%{y}<extra></extra>",
         "legendgroup": "Satisfactory",
         "marker": {
          "color": "#ab63fa",
          "pattern": {
           "shape": ""
          }
         },
         "name": "Satisfactory",
         "offsetgroup": "Satisfactory",
         "orientation": "v",
         "showlegend": true,
         "textposition": "auto",
         "type": "bar",
         "x": [
          "Ahmedabad",
          "Ahmedabad",
          "Ahmedabad",
          "Ahmedabad",
          "Aizawl",
          "Amaravati",
          "Amaravati",
          "Amaravati",
          "Amritsar",
          "Amritsar",
          "Amritsar",
          "Amritsar",
          "Bengaluru",
          "Bengaluru",
          "Bengaluru",
          "Bengaluru",
          "Bengaluru",
          "Bengaluru",
          "Bhopal",
          "Bhopal",
          "Brajrajnagar",
          "Brajrajnagar",
          "Brajrajnagar",
          "Chandigarh",
          "Chandigarh",
          "Chennai",
          "Chennai",
          "Chennai",
          "Chennai",
          "Chennai",
          "Chennai",
          "Coimbatore",
          "Coimbatore",
          "Delhi",
          "Delhi",
          "Delhi",
          "Delhi",
          "Delhi",
          "Delhi",
          "Ernakulam",
          "Gurugram",
          "Gurugram",
          "Gurugram",
          "Gurugram",
          "Gurugram",
          "Guwahati",
          "Guwahati",
          "Hyderabad",
          "Hyderabad",
          "Hyderabad",
          "Hyderabad",
          "Hyderabad",
          "Hyderabad",
          "Jaipur",
          "Jaipur",
          "Jaipur",
          "Jaipur",
          "Jorapokhar",
          "Jorapokhar",
          "Jorapokhar",
          "Jorapokhar",
          "Kochi",
          "Kolkata",
          "Kolkata",
          "Kolkata",
          "Lucknow",
          "Lucknow",
          "Lucknow",
          "Lucknow",
          "Lucknow",
          "Lucknow",
          "Mumbai",
          "Mumbai",
          "Mumbai",
          "Patna",
          "Patna",
          "Patna",
          "Patna",
          "Patna",
          "Shillong",
          "Shillong",
          "Talcher",
          "Talcher",
          "Talcher",
          "Thiruvananthapuram",
          "Thiruvananthapuram",
          "Thiruvananthapuram",
          "Thiruvananthapuram",
          "Visakhapatnam",
          "Visakhapatnam",
          "Visakhapatnam",
          "Visakhapatnam",
          "Visakhapatnam"
         ],
         "xaxis": "x",
         "y": [
          8,
          3,
          1,
          31,
          28,
          165,
          149,
          95,
          104,
          84,
          185,
          100,
          133,
          116,
          247,
          269,
          217,
          142,
          20,
          56,
          35,
          62,
          25,
          45,
          109,
          47,
          87,
          227,
          212,
          212,
          156,
          176,
          112,
          1,
          4,
          50,
          35,
          43,
          25,
          104,
          45,
          34,
          46,
          79,
          21,
          107,
          28,
          54,
          96,
          143,
          145,
          142,
          130,
          48,
          61,
          124,
          84,
          17,
          35,
          71,
          14,
          82,
          93,
          135,
          57,
          35,
          48,
          78,
          66,
          75,
          63,
          129,
          202,
          97,
          27,
          8,
          51,
          54,
          31,
          15,
          69,
          19,
          87,
          44,
          118,
          254,
          256,
          140,
          68,
          26,
          126,
          122,
          105
         ],
         "yaxis": "y"
        },
        {
         "alignmentgroup": "True",
         "hovertemplate": "AQI_Bucket=Severe<br>City=%{x}<br>Quantity=%{y}<extra></extra>",
         "legendgroup": "Severe",
         "marker": {
          "color": "#FFA15A",
          "pattern": {
           "shape": ""
          }
         },
         "name": "Severe",
         "offsetgroup": "Severe",
         "orientation": "v",
         "showlegend": true,
         "textposition": "auto",
         "type": "bar",
         "x": [
          "Ahmedabad",
          "Ahmedabad",
          "Ahmedabad",
          "Ahmedabad",
          "Ahmedabad",
          "Ahmedabad",
          "Amritsar",
          "Amritsar",
          "Amritsar",
          "Chennai",
          "Chennai",
          "Chennai",
          "Delhi",
          "Delhi",
          "Delhi",
          "Delhi",
          "Delhi",
          "Delhi",
          "Gurugram",
          "Gurugram",
          "Gurugram",
          "Gurugram",
          "Gurugram",
          "Guwahati",
          "Guwahati",
          "Hyderabad",
          "Hyderabad",
          "Jaipur",
          "Jaipur",
          "Jorapokhar",
          "Jorapokhar",
          "Kolkata",
          "Kolkata",
          "Lucknow",
          "Lucknow",
          "Lucknow",
          "Lucknow",
          "Lucknow",
          "Lucknow",
          "Patna",
          "Patna",
          "Patna",
          "Patna",
          "Patna",
          "Talcher",
          "Talcher"
         ],
         "xaxis": "x",
         "y": [
          51,
          20,
          37,
          277,
          224,
          29,
          3,
          3,
          1,
          2,
          3,
          1,
          33,
          85,
          44,
          38,
          36,
          3,
          23,
          42,
          14,
          14,
          2,
          3,
          2,
          3,
          4,
          1,
          1,
          11,
          7,
          4,
          9,
          32,
          33,
          21,
          15,
          8,
          1,
          24,
          48,
          37,
          32,
          33,
          14,
          10
         ],
         "yaxis": "y"
        },
        {
         "alignmentgroup": "True",
         "hovertemplate": "AQI_Bucket=Very poor<br>City=%{x}<br>Quantity=%{y}<extra></extra>",
         "legendgroup": "Very poor",
         "marker": {
          "color": "#19d3f3",
          "pattern": {
           "shape": ""
          }
         },
         "name": "Very poor",
         "offsetgroup": "Very poor",
         "orientation": "v",
         "showlegend": true,
         "textposition": "auto",
         "type": "bar",
         "x": [
          "Ahmedabad",
          "Ahmedabad",
          "Ahmedabad",
          "Ahmedabad",
          "Ahmedabad",
          "Ahmedabad",
          "Amaravati",
          "Amaravati",
          "Amritsar",
          "Amritsar",
          "Amritsar",
          "Bengaluru",
          "Bengaluru",
          "Bengaluru",
          "Bhopal",
          "Bhopal",
          "Brajrajnagar",
          "Brajrajnagar",
          "Brajrajnagar",
          "Chandigarh",
          "Chennai",
          "Chennai",
          "Chennai",
          "Chennai",
          "Delhi",
          "Delhi",
          "Delhi",
          "Delhi",
          "Delhi",
          "Delhi",
          "Gurugram",
          "Gurugram",
          "Gurugram",
          "Gurugram",
          "Gurugram",
          "Guwahati",
          "Guwahati",
          "Hyderabad",
          "Hyderabad",
          "Jaipur",
          "Jaipur",
          "Jaipur",
          "Jorapokhar",
          "Jorapokhar",
          "Kolkata",
          "Kolkata",
          "Kolkata",
          "Lucknow",
          "Lucknow",
          "Lucknow",
          "Lucknow",
          "Lucknow",
          "Lucknow",
          "Mumbai",
          "Patna",
          "Patna",
          "Patna",
          "Patna",
          "Patna",
          "Patna",
          "Talcher",
          "Talcher",
          "Talcher",
          "Visakhapatnam",
          "Visakhapatnam",
          "Visakhapatnam"
         ],
         "xaxis": "x",
         "y": [
          57,
          17,
          12,
          42,
          74,
          14,
          1,
          7,
          33,
          4,
          10,
          1,
          3,
          1,
          3,
          1,
          4,
          21,
          11,
          3,
          4,
          2,
          4,
          1,
          150,
          88,
          119,
          82,
          59,
          22,
          52,
          135,
          94,
          58,
          9,
          24,
          35,
          8,
          2,
          4,
          3,
          3,
          22,
          12,
          37,
          27,
          2,
          37,
          107,
          128,
          113,
          73,
          15,
          1,
          38,
          84,
          64,
          97,
          78,
          10,
          36,
          36,
          25,
          4,
          13,
          1
         ],
         "yaxis": "y"
        }
       ],
       "layout": {
        "barmode": "relative",
        "legend": {
         "title": {
          "text": "AQI_Bucket"
         },
         "tracegroupgap": 0
        },
        "template": {
         "data": {
          "bar": [
           {
            "error_x": {
             "color": "#2a3f5f"
            },
            "error_y": {
             "color": "#2a3f5f"
            },
            "marker": {
             "line": {
              "color": "#E5ECF6",
              "width": 0.5
             },
             "pattern": {
              "fillmode": "overlay",
              "size": 10,
              "solidity": 0.2
             }
            },
            "type": "bar"
           }
          ],
          "barpolar": [
           {
            "marker": {
             "line": {
              "color": "#E5ECF6",
              "width": 0.5
             },
             "pattern": {
              "fillmode": "overlay",
              "size": 10,
              "solidity": 0.2
             }
            },
            "type": "barpolar"
           }
          ],
          "carpet": [
           {
            "aaxis": {
             "endlinecolor": "#2a3f5f",
             "gridcolor": "white",
             "linecolor": "white",
             "minorgridcolor": "white",
             "startlinecolor": "#2a3f5f"
            },
            "baxis": {
             "endlinecolor": "#2a3f5f",
             "gridcolor": "white",
             "linecolor": "white",
             "minorgridcolor": "white",
             "startlinecolor": "#2a3f5f"
            },
            "type": "carpet"
           }
          ],
          "choropleth": [
           {
            "colorbar": {
             "outlinewidth": 0,
             "ticks": ""
            },
            "type": "choropleth"
           }
          ],
          "contour": [
           {
            "colorbar": {
             "outlinewidth": 0,
             "ticks": ""
            },
            "colorscale": [
             [
              0,
              "#0d0887"
             ],
             [
              0.1111111111111111,
              "#46039f"
             ],
             [
              0.2222222222222222,
              "#7201a8"
             ],
             [
              0.3333333333333333,
              "#9c179e"
             ],
             [
              0.4444444444444444,
              "#bd3786"
             ],
             [
              0.5555555555555556,
              "#d8576b"
             ],
             [
              0.6666666666666666,
              "#ed7953"
             ],
             [
              0.7777777777777778,
              "#fb9f3a"
             ],
             [
              0.8888888888888888,
              "#fdca26"
             ],
             [
              1,
              "#f0f921"
             ]
            ],
            "type": "contour"
           }
          ],
          "contourcarpet": [
           {
            "colorbar": {
             "outlinewidth": 0,
             "ticks": ""
            },
            "type": "contourcarpet"
           }
          ],
          "heatmap": [
           {
            "colorbar": {
             "outlinewidth": 0,
             "ticks": ""
            },
            "colorscale": [
             [
              0,
              "#0d0887"
             ],
             [
              0.1111111111111111,
              "#46039f"
             ],
             [
              0.2222222222222222,
              "#7201a8"
             ],
             [
              0.3333333333333333,
              "#9c179e"
             ],
             [
              0.4444444444444444,
              "#bd3786"
             ],
             [
              0.5555555555555556,
              "#d8576b"
             ],
             [
              0.6666666666666666,
              "#ed7953"
             ],
             [
              0.7777777777777778,
              "#fb9f3a"
             ],
             [
              0.8888888888888888,
              "#fdca26"
             ],
             [
              1,
              "#f0f921"
             ]
            ],
            "type": "heatmap"
           }
          ],
          "heatmapgl": [
           {
            "colorbar": {
             "outlinewidth": 0,
             "ticks": ""
            },
            "colorscale": [
             [
              0,
              "#0d0887"
             ],
             [
              0.1111111111111111,
              "#46039f"
             ],
             [
              0.2222222222222222,
              "#7201a8"
             ],
             [
              0.3333333333333333,
              "#9c179e"
             ],
             [
              0.4444444444444444,
              "#bd3786"
             ],
             [
              0.5555555555555556,
              "#d8576b"
             ],
             [
              0.6666666666666666,
              "#ed7953"
             ],
             [
              0.7777777777777778,
              "#fb9f3a"
             ],
             [
              0.8888888888888888,
              "#fdca26"
             ],
             [
              1,
              "#f0f921"
             ]
            ],
            "type": "heatmapgl"
           }
          ],
          "histogram": [
           {
            "marker": {
             "pattern": {
              "fillmode": "overlay",
              "size": 10,
              "solidity": 0.2
             }
            },
            "type": "histogram"
           }
          ],
          "histogram2d": [
           {
            "colorbar": {
             "outlinewidth": 0,
             "ticks": ""
            },
            "colorscale": [
             [
              0,
              "#0d0887"
             ],
             [
              0.1111111111111111,
              "#46039f"
             ],
             [
              0.2222222222222222,
              "#7201a8"
             ],
             [
              0.3333333333333333,
              "#9c179e"
             ],
             [
              0.4444444444444444,
              "#bd3786"
             ],
             [
              0.5555555555555556,
              "#d8576b"
             ],
             [
              0.6666666666666666,
              "#ed7953"
             ],
             [
              0.7777777777777778,
              "#fb9f3a"
             ],
             [
              0.8888888888888888,
              "#fdca26"
             ],
             [
              1,
              "#f0f921"
             ]
            ],
            "type": "histogram2d"
           }
          ],
          "histogram2dcontour": [
           {
            "colorbar": {
             "outlinewidth": 0,
             "ticks": ""
            },
            "colorscale": [
             [
              0,
              "#0d0887"
             ],
             [
              0.1111111111111111,
              "#46039f"
             ],
             [
              0.2222222222222222,
              "#7201a8"
             ],
             [
              0.3333333333333333,
              "#9c179e"
             ],
             [
              0.4444444444444444,
              "#bd3786"
             ],
             [
              0.5555555555555556,
              "#d8576b"
             ],
             [
              0.6666666666666666,
              "#ed7953"
             ],
             [
              0.7777777777777778,
              "#fb9f3a"
             ],
             [
              0.8888888888888888,
              "#fdca26"
             ],
             [
              1,
              "#f0f921"
             ]
            ],
            "type": "histogram2dcontour"
           }
          ],
          "mesh3d": [
           {
            "colorbar": {
             "outlinewidth": 0,
             "ticks": ""
            },
            "type": "mesh3d"
           }
          ],
          "parcoords": [
           {
            "line": {
             "colorbar": {
              "outlinewidth": 0,
              "ticks": ""
             }
            },
            "type": "parcoords"
           }
          ],
          "pie": [
           {
            "automargin": true,
            "type": "pie"
           }
          ],
          "scatter": [
           {
            "fillpattern": {
             "fillmode": "overlay",
             "size": 10,
             "solidity": 0.2
            },
            "type": "scatter"
           }
          ],
          "scatter3d": [
           {
            "line": {
             "colorbar": {
              "outlinewidth": 0,
              "ticks": ""
             }
            },
            "marker": {
             "colorbar": {
              "outlinewidth": 0,
              "ticks": ""
             }
            },
            "type": "scatter3d"
           }
          ],
          "scattercarpet": [
           {
            "marker": {
             "colorbar": {
              "outlinewidth": 0,
              "ticks": ""
             }
            },
            "type": "scattercarpet"
           }
          ],
          "scattergeo": [
           {
            "marker": {
             "colorbar": {
              "outlinewidth": 0,
              "ticks": ""
             }
            },
            "type": "scattergeo"
           }
          ],
          "scattergl": [
           {
            "marker": {
             "colorbar": {
              "outlinewidth": 0,
              "ticks": ""
             }
            },
            "type": "scattergl"
           }
          ],
          "scattermapbox": [
           {
            "marker": {
             "colorbar": {
              "outlinewidth": 0,
              "ticks": ""
             }
            },
            "type": "scattermapbox"
           }
          ],
          "scatterpolar": [
           {
            "marker": {
             "colorbar": {
              "outlinewidth": 0,
              "ticks": ""
             }
            },
            "type": "scatterpolar"
           }
          ],
          "scatterpolargl": [
           {
            "marker": {
             "colorbar": {
              "outlinewidth": 0,
              "ticks": ""
             }
            },
            "type": "scatterpolargl"
           }
          ],
          "scatterternary": [
           {
            "marker": {
             "colorbar": {
              "outlinewidth": 0,
              "ticks": ""
             }
            },
            "type": "scatterternary"
           }
          ],
          "surface": [
           {
            "colorbar": {
             "outlinewidth": 0,
             "ticks": ""
            },
            "colorscale": [
             [
              0,
              "#0d0887"
             ],
             [
              0.1111111111111111,
              "#46039f"
             ],
             [
              0.2222222222222222,
              "#7201a8"
             ],
             [
              0.3333333333333333,
              "#9c179e"
             ],
             [
              0.4444444444444444,
              "#bd3786"
             ],
             [
              0.5555555555555556,
              "#d8576b"
             ],
             [
              0.6666666666666666,
              "#ed7953"
             ],
             [
              0.7777777777777778,
              "#fb9f3a"
             ],
             [
              0.8888888888888888,
              "#fdca26"
             ],
             [
              1,
              "#f0f921"
             ]
            ],
            "type": "surface"
           }
          ],
          "table": [
           {
            "cells": {
             "fill": {
              "color": "#EBF0F8"
             },
             "line": {
              "color": "white"
             }
            },
            "header": {
             "fill": {
              "color": "#C8D4E3"
             },
             "line": {
              "color": "white"
             }
            },
            "type": "table"
           }
          ]
         },
         "layout": {
          "annotationdefaults": {
           "arrowcolor": "#2a3f5f",
           "arrowhead": 0,
           "arrowwidth": 1
          },
          "autotypenumbers": "strict",
          "coloraxis": {
           "colorbar": {
            "outlinewidth": 0,
            "ticks": ""
           }
          },
          "colorscale": {
           "diverging": [
            [
             0,
             "#8e0152"
            ],
            [
             0.1,
             "#c51b7d"
            ],
            [
             0.2,
             "#de77ae"
            ],
            [
             0.3,
             "#f1b6da"
            ],
            [
             0.4,
             "#fde0ef"
            ],
            [
             0.5,
             "#f7f7f7"
            ],
            [
             0.6,
             "#e6f5d0"
            ],
            [
             0.7,
             "#b8e186"
            ],
            [
             0.8,
             "#7fbc41"
            ],
            [
             0.9,
             "#4d9221"
            ],
            [
             1,
             "#276419"
            ]
           ],
           "sequential": [
            [
             0,
             "#0d0887"
            ],
            [
             0.1111111111111111,
             "#46039f"
            ],
            [
             0.2222222222222222,
             "#7201a8"
            ],
            [
             0.3333333333333333,
             "#9c179e"
            ],
            [
             0.4444444444444444,
             "#bd3786"
            ],
            [
             0.5555555555555556,
             "#d8576b"
            ],
            [
             0.6666666666666666,
             "#ed7953"
            ],
            [
             0.7777777777777778,
             "#fb9f3a"
            ],
            [
             0.8888888888888888,
             "#fdca26"
            ],
            [
             1,
             "#f0f921"
            ]
           ],
           "sequentialminus": [
            [
             0,
             "#0d0887"
            ],
            [
             0.1111111111111111,
             "#46039f"
            ],
            [
             0.2222222222222222,
             "#7201a8"
            ],
            [
             0.3333333333333333,
             "#9c179e"
            ],
            [
             0.4444444444444444,
             "#bd3786"
            ],
            [
             0.5555555555555556,
             "#d8576b"
            ],
            [
             0.6666666666666666,
             "#ed7953"
            ],
            [
             0.7777777777777778,
             "#fb9f3a"
            ],
            [
             0.8888888888888888,
             "#fdca26"
            ],
            [
             1,
             "#f0f921"
            ]
           ]
          },
          "colorway": [
           "#636efa",
           "#EF553B",
           "#00cc96",
           "#ab63fa",
           "#FFA15A",
           "#19d3f3",
           "#FF6692",
           "#B6E880",
           "#FF97FF",
           "#FECB52"
          ],
          "font": {
           "color": "#2a3f5f"
          },
          "geo": {
           "bgcolor": "white",
           "lakecolor": "white",
           "landcolor": "#E5ECF6",
           "showlakes": true,
           "showland": true,
           "subunitcolor": "white"
          },
          "hoverlabel": {
           "align": "left"
          },
          "hovermode": "closest",
          "mapbox": {
           "style": "light"
          },
          "paper_bgcolor": "white",
          "plot_bgcolor": "#E5ECF6",
          "polar": {
           "angularaxis": {
            "gridcolor": "white",
            "linecolor": "white",
            "ticks": ""
           },
           "bgcolor": "#E5ECF6",
           "radialaxis": {
            "gridcolor": "white",
            "linecolor": "white",
            "ticks": ""
           }
          },
          "scene": {
           "xaxis": {
            "backgroundcolor": "#E5ECF6",
            "gridcolor": "white",
            "gridwidth": 2,
            "linecolor": "white",
            "showbackground": true,
            "ticks": "",
            "zerolinecolor": "white"
           },
           "yaxis": {
            "backgroundcolor": "#E5ECF6",
            "gridcolor": "white",
            "gridwidth": 2,
            "linecolor": "white",
            "showbackground": true,
            "ticks": "",
            "zerolinecolor": "white"
           },
           "zaxis": {
            "backgroundcolor": "#E5ECF6",
            "gridcolor": "white",
            "gridwidth": 2,
            "linecolor": "white",
            "showbackground": true,
            "ticks": "",
            "zerolinecolor": "white"
           }
          },
          "shapedefaults": {
           "line": {
            "color": "#2a3f5f"
           }
          },
          "ternary": {
           "aaxis": {
            "gridcolor": "white",
            "linecolor": "white",
            "ticks": ""
           },
           "baxis": {
            "gridcolor": "white",
            "linecolor": "white",
            "ticks": ""
           },
           "bgcolor": "#E5ECF6",
           "caxis": {
            "gridcolor": "white",
            "linecolor": "white",
            "ticks": ""
           }
          },
          "title": {
           "x": 0.05
          },
          "xaxis": {
           "automargin": true,
           "gridcolor": "white",
           "linecolor": "white",
           "ticks": "",
           "title": {
            "standoff": 15
           },
           "zerolinecolor": "white",
           "zerolinewidth": 2
          },
          "yaxis": {
           "automargin": true,
           "gridcolor": "white",
           "linecolor": "white",
           "ticks": "",
           "title": {
            "standoff": 15
           },
           "zerolinecolor": "white",
           "zerolinewidth": 2
          }
         }
        },
        "title": {
         "text": "Annual Air Quality Index by City, 2015-2020"
        },
        "xaxis": {
         "anchor": "y",
         "domain": [
          0,
          1
         ],
         "title": {
          "text": "City"
         }
        },
        "yaxis": {
         "anchor": "x",
         "domain": [
          0,
          1
         ],
         "title": {
          "text": "Quantity"
         }
        }
       }
      }
     },
     "metadata": {},
     "output_type": "display_data"
    }
   ],
   "source": [
    "fig=px.bar(aqi_bucket_df_by_yr, x='City', y='Quantity' , color='AQI_Bucket', title='Annual Air Quality Index by City, 2015-2020')\n",
    "fig.show()"
   ]
  },
  {
   "cell_type": "code",
   "execution_count": null,
   "id": "5fd62239",
   "metadata": {
    "execution": {
     "iopub.execute_input": "2023-05-10T11:43:53.710368Z",
     "iopub.status.busy": "2023-05-10T11:43:53.709900Z",
     "iopub.status.idle": "2023-05-10T11:43:53.798044Z",
     "shell.execute_reply": "2023-05-10T11:43:53.796707Z"
    },
    "papermill": {
     "duration": 0.126071,
     "end_time": "2023-05-10T11:43:53.800882",
     "exception": false,
     "start_time": "2023-05-10T11:43:53.674811",
     "status": "completed"
    },
    "tags": []
   },
   "outputs": [
    {
     "data": {
      "application/vnd.plotly.v1+json": {
       "config": {
        "plotlyServerURL": "https://plot.ly"
       },
       "data": [
        {
         "alignmentgroup": "True",
         "bingroup": "x",
         "hovertemplate": "AQI_Bucket=%{x}<br>count=%{y}<extra></extra>",
         "legendgroup": "",
         "marker": {
          "color": "indianred",
          "pattern": {
           "shape": ""
          }
         },
         "name": "",
         "offsetgroup": "",
         "orientation": "v",
         "showlegend": false,
         "type": "histogram",
         "x": [
          "Good",
          "Moderate",
          "Poor",
          "Satisfactory",
          "Severe",
          "Very poor",
          "Moderate",
          "Poor",
          "Satisfactory",
          "Severe",
          "Very poor",
          "Moderate",
          "Poor",
          "Satisfactory",
          "Severe",
          "Very poor",
          "Moderate",
          "Poor",
          "Severe",
          "Very poor",
          "Moderate",
          "Poor",
          "Severe",
          "Very poor",
          "Moderate",
          "Poor",
          "Satisfactory",
          "Severe",
          "Very poor",
          "Good",
          "Moderate",
          "Satisfactory",
          "Moderate",
          "Poor",
          "Very poor",
          "Good",
          "Moderate",
          "Poor",
          "Satisfactory",
          "Good",
          "Moderate",
          "Poor",
          "Satisfactory",
          "Very poor",
          "Good",
          "Moderate",
          "Satisfactory",
          "Good",
          "Moderate",
          "Poor",
          "Satisfactory",
          "Severe",
          "Very poor",
          "Good",
          "Moderate",
          "Poor",
          "Satisfactory",
          "Severe",
          "Very poor",
          "Good",
          "Moderate",
          "Poor",
          "Satisfactory",
          "Very poor",
          "Good",
          "Moderate",
          "Poor",
          "Satisfactory",
          "Severe",
          "Good",
          "Moderate",
          "Poor",
          "Satisfactory",
          "Very poor",
          "Good",
          "Moderate",
          "Poor",
          "Satisfactory",
          "Very poor",
          "Good",
          "Moderate",
          "Poor",
          "Satisfactory",
          "Good",
          "Moderate",
          "Poor",
          "Satisfactory",
          "Very poor",
          "Good",
          "Moderate",
          "Satisfactory",
          "Good",
          "Moderate",
          "Satisfactory",
          "Good",
          "Moderate",
          "Poor",
          "Satisfactory",
          "Very poor",
          "Good",
          "Moderate",
          "Poor",
          "Satisfactory",
          "Very poor",
          "Moderate",
          "Poor",
          "Very poor",
          "Good",
          "Moderate",
          "Poor",
          "Satisfactory",
          "Very poor",
          "Good",
          "Moderate",
          "Poor",
          "Satisfactory",
          "Very poor",
          "Good",
          "Moderate",
          "Poor",
          "Satisfactory",
          "Good",
          "Moderate",
          "Poor",
          "Satisfactory",
          "Very poor",
          "Good",
          "Moderate",
          "Satisfactory",
          "Moderate",
          "Poor",
          "Satisfactory",
          "Severe",
          "Very poor",
          "Good",
          "Moderate",
          "Poor",
          "Satisfactory",
          "Severe",
          "Very poor",
          "Good",
          "Moderate",
          "Poor",
          "Satisfactory",
          "Severe",
          "Very poor",
          "Moderate",
          "Poor",
          "Satisfactory",
          "Good",
          "Moderate",
          "Poor",
          "Satisfactory",
          "Very poor",
          "Good",
          "Moderate",
          "Poor",
          "Satisfactory",
          "Good",
          "Moderate",
          "Satisfactory",
          "Good",
          "Moderate",
          "Satisfactory",
          "Moderate",
          "Poor",
          "Satisfactory",
          "Severe",
          "Very poor",
          "Moderate",
          "Poor",
          "Satisfactory",
          "Severe",
          "Very poor",
          "Good",
          "Moderate",
          "Poor",
          "Satisfactory",
          "Severe",
          "Very poor",
          "Moderate",
          "Poor",
          "Satisfactory",
          "Severe",
          "Very poor",
          "Moderate",
          "Poor",
          "Satisfactory",
          "Severe",
          "Very poor",
          "Moderate",
          "Poor",
          "Satisfactory",
          "Severe",
          "Very poor",
          "Moderate",
          "Satisfactory",
          "Moderate",
          "Good",
          "Moderate",
          "Poor",
          "Satisfactory",
          "Severe",
          "Very poor",
          "Moderate",
          "Poor",
          "Satisfactory",
          "Severe",
          "Very poor",
          "Good",
          "Moderate",
          "Poor",
          "Satisfactory",
          "Severe",
          "Very poor",
          "Good",
          "Moderate",
          "Poor",
          "Satisfactory",
          "Severe",
          "Very poor",
          "Moderate",
          "Poor",
          "Satisfactory",
          "Severe",
          "Very poor",
          "Good",
          "Moderate",
          "Poor",
          "Satisfactory",
          "Severe",
          "Very poor",
          "Good",
          "Moderate",
          "Poor",
          "Satisfactory",
          "Severe",
          "Very poor",
          "Good",
          "Moderate",
          "Poor",
          "Satisfactory",
          "Severe",
          "Very poor",
          "Good",
          "Moderate",
          "Poor",
          "Satisfactory",
          "Severe",
          "Very poor",
          "Good",
          "Moderate",
          "Poor",
          "Satisfactory",
          "Good",
          "Moderate",
          "Satisfactory",
          "Good",
          "Moderate",
          "Satisfactory",
          "Good",
          "Moderate",
          "Satisfactory",
          "Good",
          "Moderate",
          "Poor",
          "Satisfactory",
          "Very poor",
          "Moderate",
          "Poor",
          "Satisfactory",
          "Severe",
          "Very poor",
          "Good",
          "Moderate",
          "Poor",
          "Satisfactory",
          "Severe",
          "Very poor",
          "Moderate",
          "Satisfactory",
          "Good",
          "Moderate",
          "Poor",
          "Satisfactory",
          "Moderate",
          "Poor",
          "Satisfactory",
          "Severe",
          "Very poor",
          "Good",
          "Moderate",
          "Poor",
          "Satisfactory",
          "Severe",
          "Very poor",
          "Moderate",
          "Poor",
          "Satisfactory",
          "Moderate",
          "Poor",
          "Satisfactory",
          "Good",
          "Moderate",
          "Poor",
          "Satisfactory",
          "Severe",
          "Very poor",
          "Good",
          "Moderate",
          "Poor",
          "Satisfactory",
          "Severe",
          "Very poor",
          "Good",
          "Moderate",
          "Poor",
          "Satisfactory",
          "Very poor",
          "Good",
          "Moderate",
          "Poor",
          "Satisfactory",
          "Severe",
          "Very poor",
          "Good",
          "Moderate",
          "Poor",
          "Satisfactory",
          "Severe",
          "Very poor",
          "Good",
          "Moderate",
          "Poor",
          "Satisfactory",
          "Severe",
          "Very poor",
          "Good",
          "Moderate",
          "Poor",
          "Satisfactory",
          "Severe",
          "Very poor",
          "Moderate",
          "Poor",
          "Satisfactory",
          "Severe",
          "Very poor",
          "Moderate",
          "Poor",
          "Satisfactory",
          "Severe",
          "Very poor",
          "Moderate",
          "Moderate",
          "Moderate",
          "Good",
          "Moderate",
          "Poor",
          "Satisfactory",
          "Very poor",
          "Good",
          "Moderate",
          "Poor",
          "Satisfactory",
          "Good",
          "Moderate",
          "Poor",
          "Satisfactory",
          "Moderate",
          "Poor",
          "Severe",
          "Very poor",
          "Moderate",
          "Poor",
          "Satisfactory",
          "Severe",
          "Very poor",
          "Moderate",
          "Poor",
          "Satisfactory",
          "Severe",
          "Very poor",
          "Moderate",
          "Poor",
          "Satisfactory",
          "Severe",
          "Very poor",
          "Moderate",
          "Poor",
          "Satisfactory",
          "Severe",
          "Very poor",
          "Moderate",
          "Poor",
          "Satisfactory",
          "Very poor",
          "Good",
          "Moderate",
          "Satisfactory",
          "Good",
          "Moderate",
          "Satisfactory",
          "Moderate",
          "Good",
          "Moderate",
          "Poor",
          "Satisfactory",
          "Severe",
          "Very poor",
          "Good",
          "Moderate",
          "Poor",
          "Satisfactory",
          "Severe",
          "Very poor",
          "Good",
          "Moderate",
          "Poor",
          "Satisfactory",
          "Very poor",
          "Good",
          "Moderate",
          "Poor",
          "Satisfactory",
          "Good",
          "Moderate",
          "Poor",
          "Satisfactory",
          "Good",
          "Moderate",
          "Satisfactory",
          "Good",
          "Moderate",
          "Poor",
          "Satisfactory",
          "Good",
          "Moderate",
          "Satisfactory",
          "Moderate",
          "Poor",
          "Satisfactory",
          "Good",
          "Moderate",
          "Poor",
          "Satisfactory",
          "Very poor",
          "Good",
          "Moderate",
          "Poor",
          "Satisfactory",
          "Very poor",
          "Good",
          "Moderate",
          "Poor",
          "Satisfactory",
          "Very poor"
         ],
         "xaxis": "x",
         "yaxis": "y"
        }
       ],
       "layout": {
        "barmode": "relative",
        "legend": {
         "tracegroupgap": 0
        },
        "template": {
         "data": {
          "bar": [
           {
            "error_x": {
             "color": "#2a3f5f"
            },
            "error_y": {
             "color": "#2a3f5f"
            },
            "marker": {
             "line": {
              "color": "#E5ECF6",
              "width": 0.5
             },
             "pattern": {
              "fillmode": "overlay",
              "size": 10,
              "solidity": 0.2
             }
            },
            "type": "bar"
           }
          ],
          "barpolar": [
           {
            "marker": {
             "line": {
              "color": "#E5ECF6",
              "width": 0.5
             },
             "pattern": {
              "fillmode": "overlay",
              "size": 10,
              "solidity": 0.2
             }
            },
            "type": "barpolar"
           }
          ],
          "carpet": [
           {
            "aaxis": {
             "endlinecolor": "#2a3f5f",
             "gridcolor": "white",
             "linecolor": "white",
             "minorgridcolor": "white",
             "startlinecolor": "#2a3f5f"
            },
            "baxis": {
             "endlinecolor": "#2a3f5f",
             "gridcolor": "white",
             "linecolor": "white",
             "minorgridcolor": "white",
             "startlinecolor": "#2a3f5f"
            },
            "type": "carpet"
           }
          ],
          "choropleth": [
           {
            "colorbar": {
             "outlinewidth": 0,
             "ticks": ""
            },
            "type": "choropleth"
           }
          ],
          "contour": [
           {
            "colorbar": {
             "outlinewidth": 0,
             "ticks": ""
            },
            "colorscale": [
             [
              0,
              "#0d0887"
             ],
             [
              0.1111111111111111,
              "#46039f"
             ],
             [
              0.2222222222222222,
              "#7201a8"
             ],
             [
              0.3333333333333333,
              "#9c179e"
             ],
             [
              0.4444444444444444,
              "#bd3786"
             ],
             [
              0.5555555555555556,
              "#d8576b"
             ],
             [
              0.6666666666666666,
              "#ed7953"
             ],
             [
              0.7777777777777778,
              "#fb9f3a"
             ],
             [
              0.8888888888888888,
              "#fdca26"
             ],
             [
              1,
              "#f0f921"
             ]
            ],
            "type": "contour"
           }
          ],
          "contourcarpet": [
           {
            "colorbar": {
             "outlinewidth": 0,
             "ticks": ""
            },
            "type": "contourcarpet"
           }
          ],
          "heatmap": [
           {
            "colorbar": {
             "outlinewidth": 0,
             "ticks": ""
            },
            "colorscale": [
             [
              0,
              "#0d0887"
             ],
             [
              0.1111111111111111,
              "#46039f"
             ],
             [
              0.2222222222222222,
              "#7201a8"
             ],
             [
              0.3333333333333333,
              "#9c179e"
             ],
             [
              0.4444444444444444,
              "#bd3786"
             ],
             [
              0.5555555555555556,
              "#d8576b"
             ],
             [
              0.6666666666666666,
              "#ed7953"
             ],
             [
              0.7777777777777778,
              "#fb9f3a"
             ],
             [
              0.8888888888888888,
              "#fdca26"
             ],
             [
              1,
              "#f0f921"
             ]
            ],
            "type": "heatmap"
           }
          ],
          "heatmapgl": [
           {
            "colorbar": {
             "outlinewidth": 0,
             "ticks": ""
            },
            "colorscale": [
             [
              0,
              "#0d0887"
             ],
             [
              0.1111111111111111,
              "#46039f"
             ],
             [
              0.2222222222222222,
              "#7201a8"
             ],
             [
              0.3333333333333333,
              "#9c179e"
             ],
             [
              0.4444444444444444,
              "#bd3786"
             ],
             [
              0.5555555555555556,
              "#d8576b"
             ],
             [
              0.6666666666666666,
              "#ed7953"
             ],
             [
              0.7777777777777778,
              "#fb9f3a"
             ],
             [
              0.8888888888888888,
              "#fdca26"
             ],
             [
              1,
              "#f0f921"
             ]
            ],
            "type": "heatmapgl"
           }
          ],
          "histogram": [
           {
            "marker": {
             "pattern": {
              "fillmode": "overlay",
              "size": 10,
              "solidity": 0.2
             }
            },
            "type": "histogram"
           }
          ],
          "histogram2d": [
           {
            "colorbar": {
             "outlinewidth": 0,
             "ticks": ""
            },
            "colorscale": [
             [
              0,
              "#0d0887"
             ],
             [
              0.1111111111111111,
              "#46039f"
             ],
             [
              0.2222222222222222,
              "#7201a8"
             ],
             [
              0.3333333333333333,
              "#9c179e"
             ],
             [
              0.4444444444444444,
              "#bd3786"
             ],
             [
              0.5555555555555556,
              "#d8576b"
             ],
             [
              0.6666666666666666,
              "#ed7953"
             ],
             [
              0.7777777777777778,
              "#fb9f3a"
             ],
             [
              0.8888888888888888,
              "#fdca26"
             ],
             [
              1,
              "#f0f921"
             ]
            ],
            "type": "histogram2d"
           }
          ],
          "histogram2dcontour": [
           {
            "colorbar": {
             "outlinewidth": 0,
             "ticks": ""
            },
            "colorscale": [
             [
              0,
              "#0d0887"
             ],
             [
              0.1111111111111111,
              "#46039f"
             ],
             [
              0.2222222222222222,
              "#7201a8"
             ],
             [
              0.3333333333333333,
              "#9c179e"
             ],
             [
              0.4444444444444444,
              "#bd3786"
             ],
             [
              0.5555555555555556,
              "#d8576b"
             ],
             [
              0.6666666666666666,
              "#ed7953"
             ],
             [
              0.7777777777777778,
              "#fb9f3a"
             ],
             [
              0.8888888888888888,
              "#fdca26"
             ],
             [
              1,
              "#f0f921"
             ]
            ],
            "type": "histogram2dcontour"
           }
          ],
          "mesh3d": [
           {
            "colorbar": {
             "outlinewidth": 0,
             "ticks": ""
            },
            "type": "mesh3d"
           }
          ],
          "parcoords": [
           {
            "line": {
             "colorbar": {
              "outlinewidth": 0,
              "ticks": ""
             }
            },
            "type": "parcoords"
           }
          ],
          "pie": [
           {
            "automargin": true,
            "type": "pie"
           }
          ],
          "scatter": [
           {
            "fillpattern": {
             "fillmode": "overlay",
             "size": 10,
             "solidity": 0.2
            },
            "type": "scatter"
           }
          ],
          "scatter3d": [
           {
            "line": {
             "colorbar": {
              "outlinewidth": 0,
              "ticks": ""
             }
            },
            "marker": {
             "colorbar": {
              "outlinewidth": 0,
              "ticks": ""
             }
            },
            "type": "scatter3d"
           }
          ],
          "scattercarpet": [
           {
            "marker": {
             "colorbar": {
              "outlinewidth": 0,
              "ticks": ""
             }
            },
            "type": "scattercarpet"
           }
          ],
          "scattergeo": [
           {
            "marker": {
             "colorbar": {
              "outlinewidth": 0,
              "ticks": ""
             }
            },
            "type": "scattergeo"
           }
          ],
          "scattergl": [
           {
            "marker": {
             "colorbar": {
              "outlinewidth": 0,
              "ticks": ""
             }
            },
            "type": "scattergl"
           }
          ],
          "scattermapbox": [
           {
            "marker": {
             "colorbar": {
              "outlinewidth": 0,
              "ticks": ""
             }
            },
            "type": "scattermapbox"
           }
          ],
          "scatterpolar": [
           {
            "marker": {
             "colorbar": {
              "outlinewidth": 0,
              "ticks": ""
             }
            },
            "type": "scatterpolar"
           }
          ],
          "scatterpolargl": [
           {
            "marker": {
             "colorbar": {
              "outlinewidth": 0,
              "ticks": ""
             }
            },
            "type": "scatterpolargl"
           }
          ],
          "scatterternary": [
           {
            "marker": {
             "colorbar": {
              "outlinewidth": 0,
              "ticks": ""
             }
            },
            "type": "scatterternary"
           }
          ],
          "surface": [
           {
            "colorbar": {
             "outlinewidth": 0,
             "ticks": ""
            },
            "colorscale": [
             [
              0,
              "#0d0887"
             ],
             [
              0.1111111111111111,
              "#46039f"
             ],
             [
              0.2222222222222222,
              "#7201a8"
             ],
             [
              0.3333333333333333,
              "#9c179e"
             ],
             [
              0.4444444444444444,
              "#bd3786"
             ],
             [
              0.5555555555555556,
              "#d8576b"
             ],
             [
              0.6666666666666666,
              "#ed7953"
             ],
             [
              0.7777777777777778,
              "#fb9f3a"
             ],
             [
              0.8888888888888888,
              "#fdca26"
             ],
             [
              1,
              "#f0f921"
             ]
            ],
            "type": "surface"
           }
          ],
          "table": [
           {
            "cells": {
             "fill": {
              "color": "#EBF0F8"
             },
             "line": {
              "color": "white"
             }
            },
            "header": {
             "fill": {
              "color": "#C8D4E3"
             },
             "line": {
              "color": "white"
             }
            },
            "type": "table"
           }
          ]
         },
         "layout": {
          "annotationdefaults": {
           "arrowcolor": "#2a3f5f",
           "arrowhead": 0,
           "arrowwidth": 1
          },
          "autotypenumbers": "strict",
          "coloraxis": {
           "colorbar": {
            "outlinewidth": 0,
            "ticks": ""
           }
          },
          "colorscale": {
           "diverging": [
            [
             0,
             "#8e0152"
            ],
            [
             0.1,
             "#c51b7d"
            ],
            [
             0.2,
             "#de77ae"
            ],
            [
             0.3,
             "#f1b6da"
            ],
            [
             0.4,
             "#fde0ef"
            ],
            [
             0.5,
             "#f7f7f7"
            ],
            [
             0.6,
             "#e6f5d0"
            ],
            [
             0.7,
             "#b8e186"
            ],
            [
             0.8,
             "#7fbc41"
            ],
            [
             0.9,
             "#4d9221"
            ],
            [
             1,
             "#276419"
            ]
           ],
           "sequential": [
            [
             0,
             "#0d0887"
            ],
            [
             0.1111111111111111,
             "#46039f"
            ],
            [
             0.2222222222222222,
             "#7201a8"
            ],
            [
             0.3333333333333333,
             "#9c179e"
            ],
            [
             0.4444444444444444,
             "#bd3786"
            ],
            [
             0.5555555555555556,
             "#d8576b"
            ],
            [
             0.6666666666666666,
             "#ed7953"
            ],
            [
             0.7777777777777778,
             "#fb9f3a"
            ],
            [
             0.8888888888888888,
             "#fdca26"
            ],
            [
             1,
             "#f0f921"
            ]
           ],
           "sequentialminus": [
            [
             0,
             "#0d0887"
            ],
            [
             0.1111111111111111,
             "#46039f"
            ],
            [
             0.2222222222222222,
             "#7201a8"
            ],
            [
             0.3333333333333333,
             "#9c179e"
            ],
            [
             0.4444444444444444,
             "#bd3786"
            ],
            [
             0.5555555555555556,
             "#d8576b"
            ],
            [
             0.6666666666666666,
             "#ed7953"
            ],
            [
             0.7777777777777778,
             "#fb9f3a"
            ],
            [
             0.8888888888888888,
             "#fdca26"
            ],
            [
             1,
             "#f0f921"
            ]
           ]
          },
          "colorway": [
           "#636efa",
           "#EF553B",
           "#00cc96",
           "#ab63fa",
           "#FFA15A",
           "#19d3f3",
           "#FF6692",
           "#B6E880",
           "#FF97FF",
           "#FECB52"
          ],
          "font": {
           "color": "#2a3f5f"
          },
          "geo": {
           "bgcolor": "white",
           "lakecolor": "white",
           "landcolor": "#E5ECF6",
           "showlakes": true,
           "showland": true,
           "subunitcolor": "white"
          },
          "hoverlabel": {
           "align": "left"
          },
          "hovermode": "closest",
          "mapbox": {
           "style": "light"
          },
          "paper_bgcolor": "white",
          "plot_bgcolor": "#E5ECF6",
          "polar": {
           "angularaxis": {
            "gridcolor": "white",
            "linecolor": "white",
            "ticks": ""
           },
           "bgcolor": "#E5ECF6",
           "radialaxis": {
            "gridcolor": "white",
            "linecolor": "white",
            "ticks": ""
           }
          },
          "scene": {
           "xaxis": {
            "backgroundcolor": "#E5ECF6",
            "gridcolor": "white",
            "gridwidth": 2,
            "linecolor": "white",
            "showbackground": true,
            "ticks": "",
            "zerolinecolor": "white"
           },
           "yaxis": {
            "backgroundcolor": "#E5ECF6",
            "gridcolor": "white",
            "gridwidth": 2,
            "linecolor": "white",
            "showbackground": true,
            "ticks": "",
            "zerolinecolor": "white"
           },
           "zaxis": {
            "backgroundcolor": "#E5ECF6",
            "gridcolor": "white",
            "gridwidth": 2,
            "linecolor": "white",
            "showbackground": true,
            "ticks": "",
            "zerolinecolor": "white"
           }
          },
          "shapedefaults": {
           "line": {
            "color": "#2a3f5f"
           }
          },
          "ternary": {
           "aaxis": {
            "gridcolor": "white",
            "linecolor": "white",
            "ticks": ""
           },
           "baxis": {
            "gridcolor": "white",
            "linecolor": "white",
            "ticks": ""
           },
           "bgcolor": "#E5ECF6",
           "caxis": {
            "gridcolor": "white",
            "linecolor": "white",
            "ticks": ""
           }
          },
          "title": {
           "x": 0.05
          },
          "xaxis": {
           "automargin": true,
           "gridcolor": "white",
           "linecolor": "white",
           "ticks": "",
           "title": {
            "standoff": 15
           },
           "zerolinecolor": "white",
           "zerolinewidth": 2
          },
          "yaxis": {
           "automargin": true,
           "gridcolor": "white",
           "linecolor": "white",
           "ticks": "",
           "title": {
            "standoff": 15
           },
           "zerolinecolor": "white",
           "zerolinewidth": 2
          }
         }
        },
        "title": {
         "text": "AQI Rating Histogram"
        },
        "xaxis": {
         "anchor": "y",
         "domain": [
          0,
          1
         ],
         "title": {
          "text": "AQI_Bucket"
         }
        },
        "yaxis": {
         "anchor": "x",
         "domain": [
          0,
          1
         ],
         "title": {
          "text": "count"
         }
        }
       }
      }
     },
     "metadata": {},
     "output_type": "display_data"
    }
   ],
   "source": [
    "fig=px.histogram(aqi_bucket_df_by_yr, x='AQI_Bucket', title='AQI Rating Histogram', color_discrete_sequence=['indianred'])\n",
    "fig.show()"
   ]
  },
  {
   "attachments": {},
   "cell_type": "markdown",
   "id": "5bccc09b",
   "metadata": {
    "papermill": {
     "duration": 0.033473,
     "end_time": "2023-05-10T11:43:53.936621",
     "exception": false,
     "start_time": "2023-05-10T11:43:53.903148",
     "status": "completed"
    },
    "tags": []
   },
   "source": [
    "### 3.6 Correlations"
   ]
  },
  {
   "cell_type": "code",
   "execution_count": null,
   "id": "c680326d",
   "metadata": {
    "execution": {
     "iopub.execute_input": "2023-05-10T11:43:54.006497Z",
     "iopub.status.busy": "2023-05-10T11:43:54.006030Z",
     "iopub.status.idle": "2023-05-10T11:43:54.130857Z",
     "shell.execute_reply": "2023-05-10T11:43:54.129909Z"
    },
    "papermill": {
     "duration": 0.162928,
     "end_time": "2023-05-10T11:43:54.133356",
     "exception": false,
     "start_time": "2023-05-10T11:43:53.970428",
     "status": "completed"
    },
    "tags": []
   },
   "outputs": [
    {
     "data": {
      "text/html": [
       "<style  type=\"text/css\" >\n",
       "#T_795018f6_f0e4_11ed_8000_8cc68187f5e5row0_col0,#T_795018f6_f0e4_11ed_8000_8cc68187f5e5row1_col1,#T_795018f6_f0e4_11ed_8000_8cc68187f5e5row2_col2,#T_795018f6_f0e4_11ed_8000_8cc68187f5e5row3_col3,#T_795018f6_f0e4_11ed_8000_8cc68187f5e5row4_col4,#T_795018f6_f0e4_11ed_8000_8cc68187f5e5row5_col5,#T_795018f6_f0e4_11ed_8000_8cc68187f5e5row6_col6,#T_795018f6_f0e4_11ed_8000_8cc68187f5e5row7_col7,#T_795018f6_f0e4_11ed_8000_8cc68187f5e5row8_col8,#T_795018f6_f0e4_11ed_8000_8cc68187f5e5row9_col9,#T_795018f6_f0e4_11ed_8000_8cc68187f5e5row10_col10,#T_795018f6_f0e4_11ed_8000_8cc68187f5e5row11_col11,#T_795018f6_f0e4_11ed_8000_8cc68187f5e5row12_col12,#T_795018f6_f0e4_11ed_8000_8cc68187f5e5row13_col13{\n",
       "            background-color:  #7f2704;\n",
       "            color:  #f1f1f1;\n",
       "        }#T_795018f6_f0e4_11ed_8000_8cc68187f5e5row0_col1,#T_795018f6_f0e4_11ed_8000_8cc68187f5e5row0_col2,#T_795018f6_f0e4_11ed_8000_8cc68187f5e5row0_col4,#T_795018f6_f0e4_11ed_8000_8cc68187f5e5row0_col6,#T_795018f6_f0e4_11ed_8000_8cc68187f5e5row0_col7,#T_795018f6_f0e4_11ed_8000_8cc68187f5e5row0_col13,#T_795018f6_f0e4_11ed_8000_8cc68187f5e5row1_col0,#T_795018f6_f0e4_11ed_8000_8cc68187f5e5row6_col8,#T_795018f6_f0e4_11ed_8000_8cc68187f5e5row6_col10,#T_795018f6_f0e4_11ed_8000_8cc68187f5e5row6_col11,#T_795018f6_f0e4_11ed_8000_8cc68187f5e5row6_col12,#T_795018f6_f0e4_11ed_8000_8cc68187f5e5row9_col3,#T_795018f6_f0e4_11ed_8000_8cc68187f5e5row10_col3,#T_795018f6_f0e4_11ed_8000_8cc68187f5e5row10_col5,#T_795018f6_f0e4_11ed_8000_8cc68187f5e5row10_col9{\n",
       "            background-color:  #fff5eb;\n",
       "            color:  #000000;\n",
       "        }#T_795018f6_f0e4_11ed_8000_8cc68187f5e5row0_col3{\n",
       "            background-color:  #fff1e3;\n",
       "            color:  #000000;\n",
       "        }#T_795018f6_f0e4_11ed_8000_8cc68187f5e5row0_col5,#T_795018f6_f0e4_11ed_8000_8cc68187f5e5row1_col10{\n",
       "            background-color:  #fff2e6;\n",
       "            color:  #000000;\n",
       "        }#T_795018f6_f0e4_11ed_8000_8cc68187f5e5row0_col8,#T_795018f6_f0e4_11ed_8000_8cc68187f5e5row0_col9{\n",
       "            background-color:  #feeddb;\n",
       "            color:  #000000;\n",
       "        }#T_795018f6_f0e4_11ed_8000_8cc68187f5e5row0_col10{\n",
       "            background-color:  #fdd5ad;\n",
       "            color:  #000000;\n",
       "        }#T_795018f6_f0e4_11ed_8000_8cc68187f5e5row0_col11,#T_795018f6_f0e4_11ed_8000_8cc68187f5e5row8_col6{\n",
       "            background-color:  #fedebd;\n",
       "            color:  #000000;\n",
       "        }#T_795018f6_f0e4_11ed_8000_8cc68187f5e5row0_col12,#T_795018f6_f0e4_11ed_8000_8cc68187f5e5row10_col4{\n",
       "            background-color:  #feebd8;\n",
       "            color:  #000000;\n",
       "        }#T_795018f6_f0e4_11ed_8000_8cc68187f5e5row1_col2,#T_795018f6_f0e4_11ed_8000_8cc68187f5e5row4_col13,#T_795018f6_f0e4_11ed_8000_8cc68187f5e5row8_col13{\n",
       "            background-color:  #d04501;\n",
       "            color:  #f1f1f1;\n",
       "        }#T_795018f6_f0e4_11ed_8000_8cc68187f5e5row1_col3,#T_795018f6_f0e4_11ed_8000_8cc68187f5e5row9_col1{\n",
       "            background-color:  #fd974a;\n",
       "            color:  #000000;\n",
       "        }#T_795018f6_f0e4_11ed_8000_8cc68187f5e5row1_col4{\n",
       "            background-color:  #fd9141;\n",
       "            color:  #000000;\n",
       "        }#T_795018f6_f0e4_11ed_8000_8cc68187f5e5row1_col5{\n",
       "            background-color:  #fd9d53;\n",
       "            color:  #000000;\n",
       "        }#T_795018f6_f0e4_11ed_8000_8cc68187f5e5row1_col6{\n",
       "            background-color:  #fd984b;\n",
       "            color:  #000000;\n",
       "        }#T_795018f6_f0e4_11ed_8000_8cc68187f5e5row1_col7,#T_795018f6_f0e4_11ed_8000_8cc68187f5e5row5_col11,#T_795018f6_f0e4_11ed_8000_8cc68187f5e5row7_col10,#T_795018f6_f0e4_11ed_8000_8cc68187f5e5row12_col9{\n",
       "            background-color:  #feddbc;\n",
       "            color:  #000000;\n",
       "        }#T_795018f6_f0e4_11ed_8000_8cc68187f5e5row1_col8,#T_795018f6_f0e4_11ed_8000_8cc68187f5e5row2_col11,#T_795018f6_f0e4_11ed_8000_8cc68187f5e5row4_col0,#T_795018f6_f0e4_11ed_8000_8cc68187f5e5row6_col3,#T_795018f6_f0e4_11ed_8000_8cc68187f5e5row7_col3,#T_795018f6_f0e4_11ed_8000_8cc68187f5e5row11_col5{\n",
       "            background-color:  #fdd8b2;\n",
       "            color:  #000000;\n",
       "        }#T_795018f6_f0e4_11ed_8000_8cc68187f5e5row1_col9,#T_795018f6_f0e4_11ed_8000_8cc68187f5e5row8_col3,#T_795018f6_f0e4_11ed_8000_8cc68187f5e5row9_col8,#T_795018f6_f0e4_11ed_8000_8cc68187f5e5row12_col7{\n",
       "            background-color:  #fdc794;\n",
       "            color:  #000000;\n",
       "        }#T_795018f6_f0e4_11ed_8000_8cc68187f5e5row1_col11,#T_795018f6_f0e4_11ed_8000_8cc68187f5e5row9_col5,#T_795018f6_f0e4_11ed_8000_8cc68187f5e5row9_col12,#T_795018f6_f0e4_11ed_8000_8cc68187f5e5row10_col12{\n",
       "            background-color:  #fee3c8;\n",
       "            color:  #000000;\n",
       "        }#T_795018f6_f0e4_11ed_8000_8cc68187f5e5row1_col12{\n",
       "            background-color:  #fee5cc;\n",
       "            color:  #000000;\n",
       "        }#T_795018f6_f0e4_11ed_8000_8cc68187f5e5row1_col13{\n",
       "            background-color:  #da4902;\n",
       "            color:  #f1f1f1;\n",
       "        }#T_795018f6_f0e4_11ed_8000_8cc68187f5e5row2_col0{\n",
       "            background-color:  #fee9d4;\n",
       "            color:  #000000;\n",
       "        }#T_795018f6_f0e4_11ed_8000_8cc68187f5e5row2_col1{\n",
       "            background-color:  #c64102;\n",
       "            color:  #f1f1f1;\n",
       "        }#T_795018f6_f0e4_11ed_8000_8cc68187f5e5row2_col3{\n",
       "            background-color:  #f87f2c;\n",
       "            color:  #000000;\n",
       "        }#T_795018f6_f0e4_11ed_8000_8cc68187f5e5row2_col4{\n",
       "            background-color:  #fc8937;\n",
       "            color:  #000000;\n",
       "        }#T_795018f6_f0e4_11ed_8000_8cc68187f5e5row2_col5{\n",
       "            background-color:  #fa8532;\n",
       "            color:  #000000;\n",
       "        }#T_795018f6_f0e4_11ed_8000_8cc68187f5e5row2_col6,#T_795018f6_f0e4_11ed_8000_8cc68187f5e5row4_col9{\n",
       "            background-color:  #fb8634;\n",
       "            color:  #000000;\n",
       "        }#T_795018f6_f0e4_11ed_8000_8cc68187f5e5row2_col7,#T_795018f6_f0e4_11ed_8000_8cc68187f5e5row10_col7{\n",
       "            background-color:  #fee0c1;\n",
       "            color:  #000000;\n",
       "        }#T_795018f6_f0e4_11ed_8000_8cc68187f5e5row2_col8{\n",
       "            background-color:  #fdc997;\n",
       "            color:  #000000;\n",
       "        }#T_795018f6_f0e4_11ed_8000_8cc68187f5e5row2_col9{\n",
       "            background-color:  #fdb373;\n",
       "            color:  #000000;\n",
       "        }#T_795018f6_f0e4_11ed_8000_8cc68187f5e5row2_col10,#T_795018f6_f0e4_11ed_8000_8cc68187f5e5row5_col12{\n",
       "            background-color:  #fff2e5;\n",
       "            color:  #000000;\n",
       "        }#T_795018f6_f0e4_11ed_8000_8cc68187f5e5row2_col12,#T_795018f6_f0e4_11ed_8000_8cc68187f5e5row3_col12{\n",
       "            background-color:  #ffefe0;\n",
       "            color:  #000000;\n",
       "        }#T_795018f6_f0e4_11ed_8000_8cc68187f5e5row2_col13{\n",
       "            background-color:  #eb600e;\n",
       "            color:  #000000;\n",
       "        }#T_795018f6_f0e4_11ed_8000_8cc68187f5e5row3_col0,#T_795018f6_f0e4_11ed_8000_8cc68187f5e5row7_col2{\n",
       "            background-color:  #fdc590;\n",
       "            color:  #000000;\n",
       "        }#T_795018f6_f0e4_11ed_8000_8cc68187f5e5row3_col1,#T_795018f6_f0e4_11ed_8000_8cc68187f5e5row5_col2,#T_795018f6_f0e4_11ed_8000_8cc68187f5e5row5_col13{\n",
       "            background-color:  #f36e19;\n",
       "            color:  #000000;\n",
       "        }#T_795018f6_f0e4_11ed_8000_8cc68187f5e5row3_col2{\n",
       "            background-color:  #f06712;\n",
       "            color:  #000000;\n",
       "        }#T_795018f6_f0e4_11ed_8000_8cc68187f5e5row3_col4{\n",
       "            background-color:  #fd9547;\n",
       "            color:  #000000;\n",
       "        }#T_795018f6_f0e4_11ed_8000_8cc68187f5e5row3_col5,#T_795018f6_f0e4_11ed_8000_8cc68187f5e5row13_col7{\n",
       "            background-color:  #c34002;\n",
       "            color:  #f1f1f1;\n",
       "        }#T_795018f6_f0e4_11ed_8000_8cc68187f5e5row3_col6,#T_795018f6_f0e4_11ed_8000_8cc68187f5e5row9_col6{\n",
       "            background-color:  #fdb87c;\n",
       "            color:  #000000;\n",
       "        }#T_795018f6_f0e4_11ed_8000_8cc68187f5e5row3_col7{\n",
       "            background-color:  #fdd3a9;\n",
       "            color:  #000000;\n",
       "        }#T_795018f6_f0e4_11ed_8000_8cc68187f5e5row3_col8,#T_795018f6_f0e4_11ed_8000_8cc68187f5e5row12_col11{\n",
       "            background-color:  #fdc895;\n",
       "            color:  #000000;\n",
       "        }#T_795018f6_f0e4_11ed_8000_8cc68187f5e5row3_col9{\n",
       "            background-color:  #fff3e7;\n",
       "            color:  #000000;\n",
       "        }#T_795018f6_f0e4_11ed_8000_8cc68187f5e5row3_col10{\n",
       "            background-color:  #ffeedd;\n",
       "            color:  #000000;\n",
       "        }#T_795018f6_f0e4_11ed_8000_8cc68187f5e5row3_col11{\n",
       "            background-color:  #fee6cf;\n",
       "            color:  #000000;\n",
       "        }#T_795018f6_f0e4_11ed_8000_8cc68187f5e5row3_col13{\n",
       "            background-color:  #f67925;\n",
       "            color:  #000000;\n",
       "        }#T_795018f6_f0e4_11ed_8000_8cc68187f5e5row4_col1{\n",
       "            background-color:  #f4721e;\n",
       "            color:  #000000;\n",
       "        }#T_795018f6_f0e4_11ed_8000_8cc68187f5e5row4_col2{\n",
       "            background-color:  #f67824;\n",
       "            color:  #000000;\n",
       "        }#T_795018f6_f0e4_11ed_8000_8cc68187f5e5row4_col3,#T_795018f6_f0e4_11ed_8000_8cc68187f5e5row4_col11,#T_795018f6_f0e4_11ed_8000_8cc68187f5e5row9_col13{\n",
       "            background-color:  #fda057;\n",
       "            color:  #000000;\n",
       "        }#T_795018f6_f0e4_11ed_8000_8cc68187f5e5row4_col5{\n",
       "            background-color:  #f67723;\n",
       "            color:  #000000;\n",
       "        }#T_795018f6_f0e4_11ed_8000_8cc68187f5e5row4_col6{\n",
       "            background-color:  #fdac67;\n",
       "            color:  #000000;\n",
       "        }#T_795018f6_f0e4_11ed_8000_8cc68187f5e5row4_col7,#T_795018f6_f0e4_11ed_8000_8cc68187f5e5row11_col13{\n",
       "            background-color:  #f5741f;\n",
       "            color:  #000000;\n",
       "        }#T_795018f6_f0e4_11ed_8000_8cc68187f5e5row4_col8,#T_795018f6_f0e4_11ed_8000_8cc68187f5e5row8_col11{\n",
       "            background-color:  #f9812e;\n",
       "            color:  #000000;\n",
       "        }#T_795018f6_f0e4_11ed_8000_8cc68187f5e5row4_col10,#T_795018f6_f0e4_11ed_8000_8cc68187f5e5row10_col8,#T_795018f6_f0e4_11ed_8000_8cc68187f5e5row12_col3,#T_795018f6_f0e4_11ed_8000_8cc68187f5e5row12_col5{\n",
       "            background-color:  #feeddc;\n",
       "            color:  #000000;\n",
       "        }#T_795018f6_f0e4_11ed_8000_8cc68187f5e5row4_col12{\n",
       "            background-color:  #fddab6;\n",
       "            color:  #000000;\n",
       "        }#T_795018f6_f0e4_11ed_8000_8cc68187f5e5row5_col0,#T_795018f6_f0e4_11ed_8000_8cc68187f5e5row11_col12,#T_795018f6_f0e4_11ed_8000_8cc68187f5e5row12_col4{\n",
       "            background-color:  #fdca99;\n",
       "            color:  #000000;\n",
       "        }#T_795018f6_f0e4_11ed_8000_8cc68187f5e5row5_col1,#T_795018f6_f0e4_11ed_8000_8cc68187f5e5row8_col4{\n",
       "            background-color:  #f57622;\n",
       "            color:  #000000;\n",
       "        }#T_795018f6_f0e4_11ed_8000_8cc68187f5e5row5_col3{\n",
       "            background-color:  #c54102;\n",
       "            color:  #f1f1f1;\n",
       "        }#T_795018f6_f0e4_11ed_8000_8cc68187f5e5row5_col4,#T_795018f6_f0e4_11ed_8000_8cc68187f5e5row7_col4{\n",
       "            background-color:  #f36f1a;\n",
       "            color:  #000000;\n",
       "        }#T_795018f6_f0e4_11ed_8000_8cc68187f5e5row5_col6,#T_795018f6_f0e4_11ed_8000_8cc68187f5e5row7_col5,#T_795018f6_f0e4_11ed_8000_8cc68187f5e5row8_col9{\n",
       "            background-color:  #fdc38d;\n",
       "            color:  #000000;\n",
       "        }#T_795018f6_f0e4_11ed_8000_8cc68187f5e5row5_col7,#T_795018f6_f0e4_11ed_8000_8cc68187f5e5row6_col4{\n",
       "            background-color:  #fdbf86;\n",
       "            color:  #000000;\n",
       "        }#T_795018f6_f0e4_11ed_8000_8cc68187f5e5row5_col8,#T_795018f6_f0e4_11ed_8000_8cc68187f5e5row9_col0,#T_795018f6_f0e4_11ed_8000_8cc68187f5e5row13_col9{\n",
       "            background-color:  #fdc189;\n",
       "            color:  #000000;\n",
       "        }#T_795018f6_f0e4_11ed_8000_8cc68187f5e5row5_col9{\n",
       "            background-color:  #fee2c7;\n",
       "            color:  #000000;\n",
       "        }#T_795018f6_f0e4_11ed_8000_8cc68187f5e5row5_col10,#T_795018f6_f0e4_11ed_8000_8cc68187f5e5row9_col10{\n",
       "            background-color:  #fff0e2;\n",
       "            color:  #000000;\n",
       "        }#T_795018f6_f0e4_11ed_8000_8cc68187f5e5row6_col0{\n",
       "            background-color:  #fee7d1;\n",
       "            color:  #000000;\n",
       "        }#T_795018f6_f0e4_11ed_8000_8cc68187f5e5row6_col1,#T_795018f6_f0e4_11ed_8000_8cc68187f5e5row13_col5{\n",
       "            background-color:  #fb8735;\n",
       "            color:  #000000;\n",
       "        }#T_795018f6_f0e4_11ed_8000_8cc68187f5e5row6_col2,#T_795018f6_f0e4_11ed_8000_8cc68187f5e5row7_col11{\n",
       "            background-color:  #f98230;\n",
       "            color:  #000000;\n",
       "        }#T_795018f6_f0e4_11ed_8000_8cc68187f5e5row6_col5,#T_795018f6_f0e4_11ed_8000_8cc68187f5e5row9_col7{\n",
       "            background-color:  #fedebf;\n",
       "            color:  #000000;\n",
       "        }#T_795018f6_f0e4_11ed_8000_8cc68187f5e5row6_col7{\n",
       "            background-color:  #fee4ca;\n",
       "            color:  #000000;\n",
       "        }#T_795018f6_f0e4_11ed_8000_8cc68187f5e5row6_col9{\n",
       "            background-color:  #fdd6ae;\n",
       "            color:  #000000;\n",
       "        }#T_795018f6_f0e4_11ed_8000_8cc68187f5e5row6_col13,#T_795018f6_f0e4_11ed_8000_8cc68187f5e5row11_col0,#T_795018f6_f0e4_11ed_8000_8cc68187f5e5row12_col8{\n",
       "            background-color:  #fda660;\n",
       "            color:  #000000;\n",
       "        }#T_795018f6_f0e4_11ed_8000_8cc68187f5e5row7_col0,#T_795018f6_f0e4_11ed_8000_8cc68187f5e5row7_col12{\n",
       "            background-color:  #fdd3a7;\n",
       "            color:  #000000;\n",
       "        }#T_795018f6_f0e4_11ed_8000_8cc68187f5e5row7_col1{\n",
       "            background-color:  #fdb06e;\n",
       "            color:  #000000;\n",
       "        }#T_795018f6_f0e4_11ed_8000_8cc68187f5e5row7_col6,#T_795018f6_f0e4_11ed_8000_8cc68187f5e5row11_col9{\n",
       "            background-color:  #fdcfa0;\n",
       "            color:  #000000;\n",
       "        }#T_795018f6_f0e4_11ed_8000_8cc68187f5e5row7_col8{\n",
       "            background-color:  #cd4401;\n",
       "            color:  #f1f1f1;\n",
       "        }#T_795018f6_f0e4_11ed_8000_8cc68187f5e5row7_col9{\n",
       "            background-color:  #fee1c4;\n",
       "            color:  #000000;\n",
       "        }#T_795018f6_f0e4_11ed_8000_8cc68187f5e5row7_col13{\n",
       "            background-color:  #b63c02;\n",
       "            color:  #f1f1f1;\n",
       "        }#T_795018f6_f0e4_11ed_8000_8cc68187f5e5row8_col0{\n",
       "            background-color:  #fdbd83;\n",
       "            color:  #000000;\n",
       "        }#T_795018f6_f0e4_11ed_8000_8cc68187f5e5row8_col1{\n",
       "            background-color:  #fda25a;\n",
       "            color:  #000000;\n",
       "        }#T_795018f6_f0e4_11ed_8000_8cc68187f5e5row8_col2{\n",
       "            background-color:  #fda45d;\n",
       "            color:  #000000;\n",
       "        }#T_795018f6_f0e4_11ed_8000_8cc68187f5e5row8_col5{\n",
       "            background-color:  #fdbb81;\n",
       "            color:  #000000;\n",
       "        }#T_795018f6_f0e4_11ed_8000_8cc68187f5e5row8_col7{\n",
       "            background-color:  #c94202;\n",
       "            color:  #f1f1f1;\n",
       "        }#T_795018f6_f0e4_11ed_8000_8cc68187f5e5row8_col10{\n",
       "            background-color:  #fee6ce;\n",
       "            color:  #000000;\n",
       "        }#T_795018f6_f0e4_11ed_8000_8cc68187f5e5row8_col12,#T_795018f6_f0e4_11ed_8000_8cc68187f5e5row10_col0{\n",
       "            background-color:  #fda965;\n",
       "            color:  #000000;\n",
       "        }#T_795018f6_f0e4_11ed_8000_8cc68187f5e5row9_col2,#T_795018f6_f0e4_11ed_8000_8cc68187f5e5row13_col3{\n",
       "            background-color:  #fd9649;\n",
       "            color:  #000000;\n",
       "        }#T_795018f6_f0e4_11ed_8000_8cc68187f5e5row9_col4{\n",
       "            background-color:  #f87e2b;\n",
       "            color:  #000000;\n",
       "        }#T_795018f6_f0e4_11ed_8000_8cc68187f5e5row9_col11{\n",
       "            background-color:  #fdd4aa;\n",
       "            color:  #000000;\n",
       "        }#T_795018f6_f0e4_11ed_8000_8cc68187f5e5row10_col1,#T_795018f6_f0e4_11ed_8000_8cc68187f5e5row12_col2{\n",
       "            background-color:  #fdd2a6;\n",
       "            color:  #000000;\n",
       "        }#T_795018f6_f0e4_11ed_8000_8cc68187f5e5row10_col2{\n",
       "            background-color:  #fee0c3;\n",
       "            color:  #000000;\n",
       "        }#T_795018f6_f0e4_11ed_8000_8cc68187f5e5row10_col6{\n",
       "            background-color:  #fee7d0;\n",
       "            color:  #000000;\n",
       "        }#T_795018f6_f0e4_11ed_8000_8cc68187f5e5row10_col11{\n",
       "            background-color:  #e5590a;\n",
       "            color:  #000000;\n",
       "        }#T_795018f6_f0e4_11ed_8000_8cc68187f5e5row10_col13{\n",
       "            background-color:  #fdd5ab;\n",
       "            color:  #000000;\n",
       "        }#T_795018f6_f0e4_11ed_8000_8cc68187f5e5row11_col1{\n",
       "            background-color:  #fdad69;\n",
       "            color:  #000000;\n",
       "        }#T_795018f6_f0e4_11ed_8000_8cc68187f5e5row11_col2{\n",
       "            background-color:  #fdb271;\n",
       "            color:  #000000;\n",
       "        }#T_795018f6_f0e4_11ed_8000_8cc68187f5e5row11_col3{\n",
       "            background-color:  #fee5cb;\n",
       "            color:  #000000;\n",
       "        }#T_795018f6_f0e4_11ed_8000_8cc68187f5e5row11_col4{\n",
       "            background-color:  #fd9344;\n",
       "            color:  #000000;\n",
       "        }#T_795018f6_f0e4_11ed_8000_8cc68187f5e5row11_col6{\n",
       "            background-color:  #fedcb9;\n",
       "            color:  #000000;\n",
       "        }#T_795018f6_f0e4_11ed_8000_8cc68187f5e5row11_col7{\n",
       "            background-color:  #f77b28;\n",
       "            color:  #000000;\n",
       "        }#T_795018f6_f0e4_11ed_8000_8cc68187f5e5row11_col8{\n",
       "            background-color:  #f9802d;\n",
       "            color:  #000000;\n",
       "        }#T_795018f6_f0e4_11ed_8000_8cc68187f5e5row11_col10{\n",
       "            background-color:  #e15307;\n",
       "            color:  #000000;\n",
       "        }#T_795018f6_f0e4_11ed_8000_8cc68187f5e5row12_col0{\n",
       "            background-color:  #fdb77a;\n",
       "            color:  #000000;\n",
       "        }#T_795018f6_f0e4_11ed_8000_8cc68187f5e5row12_col1,#T_795018f6_f0e4_11ed_8000_8cc68187f5e5row12_col13{\n",
       "            background-color:  #fdae6a;\n",
       "            color:  #000000;\n",
       "        }#T_795018f6_f0e4_11ed_8000_8cc68187f5e5row12_col6{\n",
       "            background-color:  #fddbb8;\n",
       "            color:  #000000;\n",
       "        }#T_795018f6_f0e4_11ed_8000_8cc68187f5e5row12_col10{\n",
       "            background-color:  #fdd7af;\n",
       "            color:  #000000;\n",
       "        }#T_795018f6_f0e4_11ed_8000_8cc68187f5e5row13_col0{\n",
       "            background-color:  #feead6;\n",
       "            color:  #000000;\n",
       "        }#T_795018f6_f0e4_11ed_8000_8cc68187f5e5row13_col1{\n",
       "            background-color:  #d14501;\n",
       "            color:  #f1f1f1;\n",
       "        }#T_795018f6_f0e4_11ed_8000_8cc68187f5e5row13_col2{\n",
       "            background-color:  #eb610f;\n",
       "            color:  #000000;\n",
       "        }#T_795018f6_f0e4_11ed_8000_8cc68187f5e5row13_col4{\n",
       "            background-color:  #db4a02;\n",
       "            color:  #f1f1f1;\n",
       "        }#T_795018f6_f0e4_11ed_8000_8cc68187f5e5row13_col6{\n",
       "            background-color:  #fdab66;\n",
       "            color:  #000000;\n",
       "        }#T_795018f6_f0e4_11ed_8000_8cc68187f5e5row13_col8{\n",
       "            background-color:  #df5106;\n",
       "            color:  #f1f1f1;\n",
       "        }#T_795018f6_f0e4_11ed_8000_8cc68187f5e5row13_col10{\n",
       "            background-color:  #feead5;\n",
       "            color:  #000000;\n",
       "        }#T_795018f6_f0e4_11ed_8000_8cc68187f5e5row13_col11{\n",
       "            background-color:  #fd9243;\n",
       "            color:  #000000;\n",
       "        }#T_795018f6_f0e4_11ed_8000_8cc68187f5e5row13_col12{\n",
       "            background-color:  #fdd7b1;\n",
       "            color:  #000000;\n",
       "        }</style><table id=\"T_795018f6_f0e4_11ed_8000_8cc68187f5e5\" ><thead>    <tr>        <th class=\"blank level0\" ></th>        <th class=\"col_heading level0 col0\" >Year</th>        <th class=\"col_heading level0 col1\" >PM2.5</th>        <th class=\"col_heading level0 col2\" >PM10</th>        <th class=\"col_heading level0 col3\" >NO</th>        <th class=\"col_heading level0 col4\" >NO2</th>        <th class=\"col_heading level0 col5\" >NOx</th>        <th class=\"col_heading level0 col6\" >NH3</th>        <th class=\"col_heading level0 col7\" >CO</th>        <th class=\"col_heading level0 col8\" >SO2</th>        <th class=\"col_heading level0 col9\" >O3</th>        <th class=\"col_heading level0 col10\" >Benzene</th>        <th class=\"col_heading level0 col11\" >Toluene</th>        <th class=\"col_heading level0 col12\" >Xylene</th>        <th class=\"col_heading level0 col13\" >AQI</th>    </tr></thead><tbody>\n",
       "                <tr>\n",
       "                        <th id=\"T_795018f6_f0e4_11ed_8000_8cc68187f5e5level0_row0\" class=\"row_heading level0 row0\" >Year</th>\n",
       "                        <td id=\"T_795018f6_f0e4_11ed_8000_8cc68187f5e5row0_col0\" class=\"data row0 col0\" >1.000000</td>\n",
       "                        <td id=\"T_795018f6_f0e4_11ed_8000_8cc68187f5e5row0_col1\" class=\"data row0 col1\" >-0.445202</td>\n",
       "                        <td id=\"T_795018f6_f0e4_11ed_8000_8cc68187f5e5row0_col2\" class=\"data row0 col2\" >-0.302519</td>\n",
       "                        <td id=\"T_795018f6_f0e4_11ed_8000_8cc68187f5e5row0_col3\" class=\"data row0 col3\" >-0.025523</td>\n",
       "                        <td id=\"T_795018f6_f0e4_11ed_8000_8cc68187f5e5row0_col4\" class=\"data row0 col4\" >-0.149706</td>\n",
       "                        <td id=\"T_795018f6_f0e4_11ed_8000_8cc68187f5e5row0_col5\" class=\"data row0 col5\" >-0.055147</td>\n",
       "                        <td id=\"T_795018f6_f0e4_11ed_8000_8cc68187f5e5row0_col6\" class=\"data row0 col6\" >-0.280496</td>\n",
       "                        <td id=\"T_795018f6_f0e4_11ed_8000_8cc68187f5e5row0_col7\" class=\"data row0 col7\" >-0.105266</td>\n",
       "                        <td id=\"T_795018f6_f0e4_11ed_8000_8cc68187f5e5row0_col8\" class=\"data row0 col8\" >0.019277</td>\n",
       "                        <td id=\"T_795018f6_f0e4_11ed_8000_8cc68187f5e5row0_col9\" class=\"data row0 col9\" >-0.004326</td>\n",
       "                        <td id=\"T_795018f6_f0e4_11ed_8000_8cc68187f5e5row0_col10\" class=\"data row0 col10\" >0.120859</td>\n",
       "                        <td id=\"T_795018f6_f0e4_11ed_8000_8cc68187f5e5row0_col11\" class=\"data row0 col11\" >0.137301</td>\n",
       "                        <td id=\"T_795018f6_f0e4_11ed_8000_8cc68187f5e5row0_col12\" class=\"data row0 col12\" >0.049276</td>\n",
       "                        <td id=\"T_795018f6_f0e4_11ed_8000_8cc68187f5e5row0_col13\" class=\"data row0 col13\" >-0.315253</td>\n",
       "            </tr>\n",
       "            <tr>\n",
       "                        <th id=\"T_795018f6_f0e4_11ed_8000_8cc68187f5e5level0_row1\" class=\"row_heading level0 row1\" >PM2.5</th>\n",
       "                        <td id=\"T_795018f6_f0e4_11ed_8000_8cc68187f5e5row1_col0\" class=\"data row1 col0\" >-0.445202</td>\n",
       "                        <td id=\"T_795018f6_f0e4_11ed_8000_8cc68187f5e5row1_col1\" class=\"data row1 col1\" >1.000000</td>\n",
       "                        <td id=\"T_795018f6_f0e4_11ed_8000_8cc68187f5e5row1_col2\" class=\"data row1 col2\" >0.703278</td>\n",
       "                        <td id=\"T_795018f6_f0e4_11ed_8000_8cc68187f5e5row1_col3\" class=\"data row1 col3\" >0.429849</td>\n",
       "                        <td id=\"T_795018f6_f0e4_11ed_8000_8cc68187f5e5row1_col4\" class=\"data row1 col4\" >0.407713</td>\n",
       "                        <td id=\"T_795018f6_f0e4_11ed_8000_8cc68187f5e5row1_col5\" class=\"data row1 col5\" >0.392225</td>\n",
       "                        <td id=\"T_795018f6_f0e4_11ed_8000_8cc68187f5e5row1_col6\" class=\"data row1 col6\" >0.306462</td>\n",
       "                        <td id=\"T_795018f6_f0e4_11ed_8000_8cc68187f5e5row1_col7\" class=\"data row1 col7\" >0.090017</td>\n",
       "                        <td id=\"T_795018f6_f0e4_11ed_8000_8cc68187f5e5row1_col8\" class=\"data row1 col8\" >0.159529</td>\n",
       "                        <td id=\"T_795018f6_f0e4_11ed_8000_8cc68187f5e5row1_col9\" class=\"data row1 col9\" >0.225417</td>\n",
       "                        <td id=\"T_795018f6_f0e4_11ed_8000_8cc68187f5e5row1_col10\" class=\"data row1 col10\" >-0.099351</td>\n",
       "                        <td id=\"T_795018f6_f0e4_11ed_8000_8cc68187f5e5row1_col11\" class=\"data row1 col11\" >0.104279</td>\n",
       "                        <td id=\"T_795018f6_f0e4_11ed_8000_8cc68187f5e5row1_col12\" class=\"data row1 col12\" >0.099959</td>\n",
       "                        <td id=\"T_795018f6_f0e4_11ed_8000_8cc68187f5e5row1_col13\" class=\"data row1 col13\" >0.665022</td>\n",
       "            </tr>\n",
       "            <tr>\n",
       "                        <th id=\"T_795018f6_f0e4_11ed_8000_8cc68187f5e5level0_row2\" class=\"row_heading level0 row2\" >PM10</th>\n",
       "                        <td id=\"T_795018f6_f0e4_11ed_8000_8cc68187f5e5row2_col0\" class=\"data row2 col0\" >-0.302519</td>\n",
       "                        <td id=\"T_795018f6_f0e4_11ed_8000_8cc68187f5e5row2_col1\" class=\"data row2 col1\" >0.703278</td>\n",
       "                        <td id=\"T_795018f6_f0e4_11ed_8000_8cc68187f5e5row2_col2\" class=\"data row2 col2\" >1.000000</td>\n",
       "                        <td id=\"T_795018f6_f0e4_11ed_8000_8cc68187f5e5row2_col3\" class=\"data row2 col3\" >0.519555</td>\n",
       "                        <td id=\"T_795018f6_f0e4_11ed_8000_8cc68187f5e5row2_col4\" class=\"data row2 col4\" >0.440451</td>\n",
       "                        <td id=\"T_795018f6_f0e4_11ed_8000_8cc68187f5e5row2_col5\" class=\"data row2 col5\" >0.490705</td>\n",
       "                        <td id=\"T_795018f6_f0e4_11ed_8000_8cc68187f5e5row2_col6\" class=\"data row2 col6\" >0.394562</td>\n",
       "                        <td id=\"T_795018f6_f0e4_11ed_8000_8cc68187f5e5row2_col7\" class=\"data row2 col7\" >0.074290</td>\n",
       "                        <td id=\"T_795018f6_f0e4_11ed_8000_8cc68187f5e5row2_col8\" class=\"data row2 col8\" >0.236217</td>\n",
       "                        <td id=\"T_795018f6_f0e4_11ed_8000_8cc68187f5e5row2_col9\" class=\"data row2 col9\" >0.303025</td>\n",
       "                        <td id=\"T_795018f6_f0e4_11ed_8000_8cc68187f5e5row2_col10\" class=\"data row2 col10\" >-0.095899</td>\n",
       "                        <td id=\"T_795018f6_f0e4_11ed_8000_8cc68187f5e5row2_col11\" class=\"data row2 col11\" >0.169693</td>\n",
       "                        <td id=\"T_795018f6_f0e4_11ed_8000_8cc68187f5e5row2_col12\" class=\"data row2 col12\" >0.010973</td>\n",
       "                        <td id=\"T_795018f6_f0e4_11ed_8000_8cc68187f5e5row2_col13\" class=\"data row2 col13\" >0.549195</td>\n",
       "            </tr>\n",
       "            <tr>\n",
       "                        <th id=\"T_795018f6_f0e4_11ed_8000_8cc68187f5e5level0_row3\" class=\"row_heading level0 row3\" >NO</th>\n",
       "                        <td id=\"T_795018f6_f0e4_11ed_8000_8cc68187f5e5row3_col0\" class=\"data row3 col0\" >-0.025523</td>\n",
       "                        <td id=\"T_795018f6_f0e4_11ed_8000_8cc68187f5e5row3_col1\" class=\"data row3 col1\" >0.429849</td>\n",
       "                        <td id=\"T_795018f6_f0e4_11ed_8000_8cc68187f5e5row3_col2\" class=\"data row3 col2\" >0.519555</td>\n",
       "                        <td id=\"T_795018f6_f0e4_11ed_8000_8cc68187f5e5row3_col3\" class=\"data row3 col3\" >1.000000</td>\n",
       "                        <td id=\"T_795018f6_f0e4_11ed_8000_8cc68187f5e5row3_col4\" class=\"data row3 col4\" >0.392842</td>\n",
       "                        <td id=\"T_795018f6_f0e4_11ed_8000_8cc68187f5e5row3_col5\" class=\"data row3 col5\" >0.785856</td>\n",
       "                        <td id=\"T_795018f6_f0e4_11ed_8000_8cc68187f5e5row3_col6\" class=\"data row3 col6\" >0.154110</td>\n",
       "                        <td id=\"T_795018f6_f0e4_11ed_8000_8cc68187f5e5row3_col7\" class=\"data row3 col7\" >0.153612</td>\n",
       "                        <td id=\"T_795018f6_f0e4_11ed_8000_8cc68187f5e5row3_col8\" class=\"data row3 col8\" >0.238570</td>\n",
       "                        <td id=\"T_795018f6_f0e4_11ed_8000_8cc68187f5e5row3_col9\" class=\"data row3 col9\" >-0.063059</td>\n",
       "                        <td id=\"T_795018f6_f0e4_11ed_8000_8cc68187f5e5row3_col10\" class=\"data row3 col10\" >-0.060927</td>\n",
       "                        <td id=\"T_795018f6_f0e4_11ed_8000_8cc68187f5e5row3_col11\" class=\"data row3 col11\" >0.081972</td>\n",
       "                        <td id=\"T_795018f6_f0e4_11ed_8000_8cc68187f5e5row3_col12\" class=\"data row3 col12\" >0.011330</td>\n",
       "                        <td id=\"T_795018f6_f0e4_11ed_8000_8cc68187f5e5row3_col13\" class=\"data row3 col13\" >0.432370</td>\n",
       "            </tr>\n",
       "            <tr>\n",
       "                        <th id=\"T_795018f6_f0e4_11ed_8000_8cc68187f5e5level0_row4\" class=\"row_heading level0 row4\" >NO2</th>\n",
       "                        <td id=\"T_795018f6_f0e4_11ed_8000_8cc68187f5e5row4_col0\" class=\"data row4 col0\" >-0.149706</td>\n",
       "                        <td id=\"T_795018f6_f0e4_11ed_8000_8cc68187f5e5row4_col1\" class=\"data row4 col1\" >0.407713</td>\n",
       "                        <td id=\"T_795018f6_f0e4_11ed_8000_8cc68187f5e5row4_col2\" class=\"data row4 col2\" >0.440451</td>\n",
       "                        <td id=\"T_795018f6_f0e4_11ed_8000_8cc68187f5e5row4_col3\" class=\"data row4 col3\" >0.392842</td>\n",
       "                        <td id=\"T_795018f6_f0e4_11ed_8000_8cc68187f5e5row4_col4\" class=\"data row4 col4\" >1.000000</td>\n",
       "                        <td id=\"T_795018f6_f0e4_11ed_8000_8cc68187f5e5row4_col5\" class=\"data row4 col5\" >0.542134</td>\n",
       "                        <td id=\"T_795018f6_f0e4_11ed_8000_8cc68187f5e5row4_col6\" class=\"data row4 col6\" >0.213802</td>\n",
       "                        <td id=\"T_795018f6_f0e4_11ed_8000_8cc68187f5e5row4_col7\" class=\"data row4 col7\" >0.542621</td>\n",
       "                        <td id=\"T_795018f6_f0e4_11ed_8000_8cc68187f5e5row4_col8\" class=\"data row4 col8\" >0.515071</td>\n",
       "                        <td id=\"T_795018f6_f0e4_11ed_8000_8cc68187f5e5row4_col9\" class=\"data row4 col9\" >0.485991</td>\n",
       "                        <td id=\"T_795018f6_f0e4_11ed_8000_8cc68187f5e5row4_col10\" class=\"data row4 col10\" >-0.054782</td>\n",
       "                        <td id=\"T_795018f6_f0e4_11ed_8000_8cc68187f5e5row4_col11\" class=\"data row4 col11\" >0.401761</td>\n",
       "                        <td id=\"T_795018f6_f0e4_11ed_8000_8cc68187f5e5row4_col12\" class=\"data row4 col12\" >0.164479</td>\n",
       "                        <td id=\"T_795018f6_f0e4_11ed_8000_8cc68187f5e5row4_col13\" class=\"data row4 col13\" >0.700016</td>\n",
       "            </tr>\n",
       "            <tr>\n",
       "                        <th id=\"T_795018f6_f0e4_11ed_8000_8cc68187f5e5level0_row5\" class=\"row_heading level0 row5\" >NOx</th>\n",
       "                        <td id=\"T_795018f6_f0e4_11ed_8000_8cc68187f5e5row5_col0\" class=\"data row5 col0\" >-0.055147</td>\n",
       "                        <td id=\"T_795018f6_f0e4_11ed_8000_8cc68187f5e5row5_col1\" class=\"data row5 col1\" >0.392225</td>\n",
       "                        <td id=\"T_795018f6_f0e4_11ed_8000_8cc68187f5e5row5_col2\" class=\"data row5 col2\" >0.490705</td>\n",
       "                        <td id=\"T_795018f6_f0e4_11ed_8000_8cc68187f5e5row5_col3\" class=\"data row5 col3\" >0.785856</td>\n",
       "                        <td id=\"T_795018f6_f0e4_11ed_8000_8cc68187f5e5row5_col4\" class=\"data row5 col4\" >0.542134</td>\n",
       "                        <td id=\"T_795018f6_f0e4_11ed_8000_8cc68187f5e5row5_col5\" class=\"data row5 col5\" >1.000000</td>\n",
       "                        <td id=\"T_795018f6_f0e4_11ed_8000_8cc68187f5e5row5_col6\" class=\"data row5 col6\" >0.101548</td>\n",
       "                        <td id=\"T_795018f6_f0e4_11ed_8000_8cc68187f5e5row5_col7\" class=\"data row5 col7\" >0.243446</td>\n",
       "                        <td id=\"T_795018f6_f0e4_11ed_8000_8cc68187f5e5row5_col8\" class=\"data row5 col8\" >0.270118</td>\n",
       "                        <td id=\"T_795018f6_f0e4_11ed_8000_8cc68187f5e5row5_col9\" class=\"data row5 col9\" >0.073960</td>\n",
       "                        <td id=\"T_795018f6_f0e4_11ed_8000_8cc68187f5e5row5_col10\" class=\"data row5 col10\" >-0.081248</td>\n",
       "                        <td id=\"T_795018f6_f0e4_11ed_8000_8cc68187f5e5row5_col11\" class=\"data row5 col11\" >0.141128</td>\n",
       "                        <td id=\"T_795018f6_f0e4_11ed_8000_8cc68187f5e5row5_col12\" class=\"data row5 col12\" >-0.008703</td>\n",
       "                        <td id=\"T_795018f6_f0e4_11ed_8000_8cc68187f5e5row5_col13\" class=\"data row5 col13\" >0.481705</td>\n",
       "            </tr>\n",
       "            <tr>\n",
       "                        <th id=\"T_795018f6_f0e4_11ed_8000_8cc68187f5e5level0_row6\" class=\"row_heading level0 row6\" >NH3</th>\n",
       "                        <td id=\"T_795018f6_f0e4_11ed_8000_8cc68187f5e5row6_col0\" class=\"data row6 col0\" >-0.280496</td>\n",
       "                        <td id=\"T_795018f6_f0e4_11ed_8000_8cc68187f5e5row6_col1\" class=\"data row6 col1\" >0.306462</td>\n",
       "                        <td id=\"T_795018f6_f0e4_11ed_8000_8cc68187f5e5row6_col2\" class=\"data row6 col2\" >0.394562</td>\n",
       "                        <td id=\"T_795018f6_f0e4_11ed_8000_8cc68187f5e5row6_col3\" class=\"data row6 col3\" >0.154110</td>\n",
       "                        <td id=\"T_795018f6_f0e4_11ed_8000_8cc68187f5e5row6_col4\" class=\"data row6 col4\" >0.213802</td>\n",
       "                        <td id=\"T_795018f6_f0e4_11ed_8000_8cc68187f5e5row6_col5\" class=\"data row6 col5\" >0.101548</td>\n",
       "                        <td id=\"T_795018f6_f0e4_11ed_8000_8cc68187f5e5row6_col6\" class=\"data row6 col6\" >1.000000</td>\n",
       "                        <td id=\"T_795018f6_f0e4_11ed_8000_8cc68187f5e5row6_col7\" class=\"data row6 col7\" >0.046285</td>\n",
       "                        <td id=\"T_795018f6_f0e4_11ed_8000_8cc68187f5e5row6_col8\" class=\"data row6 col8\" >-0.055518</td>\n",
       "                        <td id=\"T_795018f6_f0e4_11ed_8000_8cc68187f5e5row6_col9\" class=\"data row6 col9\" >0.151477</td>\n",
       "                        <td id=\"T_795018f6_f0e4_11ed_8000_8cc68187f5e5row6_col10\" class=\"data row6 col10\" >-0.128051</td>\n",
       "                        <td id=\"T_795018f6_f0e4_11ed_8000_8cc68187f5e5row6_col11\" class=\"data row6 col11\" >-0.044873</td>\n",
       "                        <td id=\"T_795018f6_f0e4_11ed_8000_8cc68187f5e5row6_col12\" class=\"data row6 col12\" >-0.037880</td>\n",
       "                        <td id=\"T_795018f6_f0e4_11ed_8000_8cc68187f5e5row6_col13\" class=\"data row6 col13\" >0.217978</td>\n",
       "            </tr>\n",
       "            <tr>\n",
       "                        <th id=\"T_795018f6_f0e4_11ed_8000_8cc68187f5e5level0_row7\" class=\"row_heading level0 row7\" >CO</th>\n",
       "                        <td id=\"T_795018f6_f0e4_11ed_8000_8cc68187f5e5row7_col0\" class=\"data row7 col0\" >-0.105266</td>\n",
       "                        <td id=\"T_795018f6_f0e4_11ed_8000_8cc68187f5e5row7_col1\" class=\"data row7 col1\" >0.090017</td>\n",
       "                        <td id=\"T_795018f6_f0e4_11ed_8000_8cc68187f5e5row7_col2\" class=\"data row7 col2\" >0.074290</td>\n",
       "                        <td id=\"T_795018f6_f0e4_11ed_8000_8cc68187f5e5row7_col3\" class=\"data row7 col3\" >0.153612</td>\n",
       "                        <td id=\"T_795018f6_f0e4_11ed_8000_8cc68187f5e5row7_col4\" class=\"data row7 col4\" >0.542621</td>\n",
       "                        <td id=\"T_795018f6_f0e4_11ed_8000_8cc68187f5e5row7_col5\" class=\"data row7 col5\" >0.243446</td>\n",
       "                        <td id=\"T_795018f6_f0e4_11ed_8000_8cc68187f5e5row7_col6\" class=\"data row7 col6\" >0.046285</td>\n",
       "                        <td id=\"T_795018f6_f0e4_11ed_8000_8cc68187f5e5row7_col7\" class=\"data row7 col7\" >1.000000</td>\n",
       "                        <td id=\"T_795018f6_f0e4_11ed_8000_8cc68187f5e5row7_col8\" class=\"data row7 col8\" >0.765527</td>\n",
       "                        <td id=\"T_795018f6_f0e4_11ed_8000_8cc68187f5e5row7_col9\" class=\"data row7 col9\" >0.083850</td>\n",
       "                        <td id=\"T_795018f6_f0e4_11ed_8000_8cc68187f5e5row7_col10\" class=\"data row7 col10\" >0.074190</td>\n",
       "                        <td id=\"T_795018f6_f0e4_11ed_8000_8cc68187f5e5row7_col11\" class=\"data row7 col11\" >0.515130</td>\n",
       "                        <td id=\"T_795018f6_f0e4_11ed_8000_8cc68187f5e5row7_col12\" class=\"data row7 col12\" >0.209081</td>\n",
       "                        <td id=\"T_795018f6_f0e4_11ed_8000_8cc68187f5e5row7_col13\" class=\"data row7 col13\" >0.779918</td>\n",
       "            </tr>\n",
       "            <tr>\n",
       "                        <th id=\"T_795018f6_f0e4_11ed_8000_8cc68187f5e5level0_row8\" class=\"row_heading level0 row8\" >SO2</th>\n",
       "                        <td id=\"T_795018f6_f0e4_11ed_8000_8cc68187f5e5row8_col0\" class=\"data row8 col0\" >0.019277</td>\n",
       "                        <td id=\"T_795018f6_f0e4_11ed_8000_8cc68187f5e5row8_col1\" class=\"data row8 col1\" >0.159529</td>\n",
       "                        <td id=\"T_795018f6_f0e4_11ed_8000_8cc68187f5e5row8_col2\" class=\"data row8 col2\" >0.236217</td>\n",
       "                        <td id=\"T_795018f6_f0e4_11ed_8000_8cc68187f5e5row8_col3\" class=\"data row8 col3\" >0.238570</td>\n",
       "                        <td id=\"T_795018f6_f0e4_11ed_8000_8cc68187f5e5row8_col4\" class=\"data row8 col4\" >0.515071</td>\n",
       "                        <td id=\"T_795018f6_f0e4_11ed_8000_8cc68187f5e5row8_col5\" class=\"data row8 col5\" >0.270118</td>\n",
       "                        <td id=\"T_795018f6_f0e4_11ed_8000_8cc68187f5e5row8_col6\" class=\"data row8 col6\" >-0.055518</td>\n",
       "                        <td id=\"T_795018f6_f0e4_11ed_8000_8cc68187f5e5row8_col7\" class=\"data row8 col7\" >0.765527</td>\n",
       "                        <td id=\"T_795018f6_f0e4_11ed_8000_8cc68187f5e5row8_col8\" class=\"data row8 col8\" >1.000000</td>\n",
       "                        <td id=\"T_795018f6_f0e4_11ed_8000_8cc68187f5e5row8_col9\" class=\"data row8 col9\" >0.241543</td>\n",
       "                        <td id=\"T_795018f6_f0e4_11ed_8000_8cc68187f5e5row8_col10\" class=\"data row8 col10\" >0.015111</td>\n",
       "                        <td id=\"T_795018f6_f0e4_11ed_8000_8cc68187f5e5row8_col11\" class=\"data row8 col11\" >0.518427</td>\n",
       "                        <td id=\"T_795018f6_f0e4_11ed_8000_8cc68187f5e5row8_col12\" class=\"data row8 col12\" >0.370662</td>\n",
       "                        <td id=\"T_795018f6_f0e4_11ed_8000_8cc68187f5e5row8_col13\" class=\"data row8 col13\" >0.701929</td>\n",
       "            </tr>\n",
       "            <tr>\n",
       "                        <th id=\"T_795018f6_f0e4_11ed_8000_8cc68187f5e5level0_row9\" class=\"row_heading level0 row9\" >O3</th>\n",
       "                        <td id=\"T_795018f6_f0e4_11ed_8000_8cc68187f5e5row9_col0\" class=\"data row9 col0\" >-0.004326</td>\n",
       "                        <td id=\"T_795018f6_f0e4_11ed_8000_8cc68187f5e5row9_col1\" class=\"data row9 col1\" >0.225417</td>\n",
       "                        <td id=\"T_795018f6_f0e4_11ed_8000_8cc68187f5e5row9_col2\" class=\"data row9 col2\" >0.303025</td>\n",
       "                        <td id=\"T_795018f6_f0e4_11ed_8000_8cc68187f5e5row9_col3\" class=\"data row9 col3\" >-0.063059</td>\n",
       "                        <td id=\"T_795018f6_f0e4_11ed_8000_8cc68187f5e5row9_col4\" class=\"data row9 col4\" >0.485991</td>\n",
       "                        <td id=\"T_795018f6_f0e4_11ed_8000_8cc68187f5e5row9_col5\" class=\"data row9 col5\" >0.073960</td>\n",
       "                        <td id=\"T_795018f6_f0e4_11ed_8000_8cc68187f5e5row9_col6\" class=\"data row9 col6\" >0.151477</td>\n",
       "                        <td id=\"T_795018f6_f0e4_11ed_8000_8cc68187f5e5row9_col7\" class=\"data row9 col7\" >0.083850</td>\n",
       "                        <td id=\"T_795018f6_f0e4_11ed_8000_8cc68187f5e5row9_col8\" class=\"data row9 col8\" >0.241543</td>\n",
       "                        <td id=\"T_795018f6_f0e4_11ed_8000_8cc68187f5e5row9_col9\" class=\"data row9 col9\" >1.000000</td>\n",
       "                        <td id=\"T_795018f6_f0e4_11ed_8000_8cc68187f5e5row9_col10\" class=\"data row9 col10\" >-0.082838</td>\n",
       "                        <td id=\"T_795018f6_f0e4_11ed_8000_8cc68187f5e5row9_col11\" class=\"data row9 col11\" >0.193463</td>\n",
       "                        <td id=\"T_795018f6_f0e4_11ed_8000_8cc68187f5e5row9_col12\" class=\"data row9 col12\" >0.111593</td>\n",
       "                        <td id=\"T_795018f6_f0e4_11ed_8000_8cc68187f5e5row9_col13\" class=\"data row9 col13\" >0.249714</td>\n",
       "            </tr>\n",
       "            <tr>\n",
       "                        <th id=\"T_795018f6_f0e4_11ed_8000_8cc68187f5e5level0_row10\" class=\"row_heading level0 row10\" >Benzene</th>\n",
       "                        <td id=\"T_795018f6_f0e4_11ed_8000_8cc68187f5e5row10_col0\" class=\"data row10 col0\" >0.120859</td>\n",
       "                        <td id=\"T_795018f6_f0e4_11ed_8000_8cc68187f5e5row10_col1\" class=\"data row10 col1\" >-0.099351</td>\n",
       "                        <td id=\"T_795018f6_f0e4_11ed_8000_8cc68187f5e5row10_col2\" class=\"data row10 col2\" >-0.095899</td>\n",
       "                        <td id=\"T_795018f6_f0e4_11ed_8000_8cc68187f5e5row10_col3\" class=\"data row10 col3\" >-0.060927</td>\n",
       "                        <td id=\"T_795018f6_f0e4_11ed_8000_8cc68187f5e5row10_col4\" class=\"data row10 col4\" >-0.054782</td>\n",
       "                        <td id=\"T_795018f6_f0e4_11ed_8000_8cc68187f5e5row10_col5\" class=\"data row10 col5\" >-0.081248</td>\n",
       "                        <td id=\"T_795018f6_f0e4_11ed_8000_8cc68187f5e5row10_col6\" class=\"data row10 col6\" >-0.128051</td>\n",
       "                        <td id=\"T_795018f6_f0e4_11ed_8000_8cc68187f5e5row10_col7\" class=\"data row10 col7\" >0.074190</td>\n",
       "                        <td id=\"T_795018f6_f0e4_11ed_8000_8cc68187f5e5row10_col8\" class=\"data row10 col8\" >0.015111</td>\n",
       "                        <td id=\"T_795018f6_f0e4_11ed_8000_8cc68187f5e5row10_col9\" class=\"data row10 col9\" >-0.082838</td>\n",
       "                        <td id=\"T_795018f6_f0e4_11ed_8000_8cc68187f5e5row10_col10\" class=\"data row10 col10\" >1.000000</td>\n",
       "                        <td id=\"T_795018f6_f0e4_11ed_8000_8cc68187f5e5row10_col11\" class=\"data row10 col11\" >0.671347</td>\n",
       "                        <td id=\"T_795018f6_f0e4_11ed_8000_8cc68187f5e5row10_col12\" class=\"data row10 col12\" >0.111039</td>\n",
       "                        <td id=\"T_795018f6_f0e4_11ed_8000_8cc68187f5e5row10_col13\" class=\"data row10 col13\" >-0.021823</td>\n",
       "            </tr>\n",
       "            <tr>\n",
       "                        <th id=\"T_795018f6_f0e4_11ed_8000_8cc68187f5e5level0_row11\" class=\"row_heading level0 row11\" >Toluene</th>\n",
       "                        <td id=\"T_795018f6_f0e4_11ed_8000_8cc68187f5e5row11_col0\" class=\"data row11 col0\" >0.137301</td>\n",
       "                        <td id=\"T_795018f6_f0e4_11ed_8000_8cc68187f5e5row11_col1\" class=\"data row11 col1\" >0.104279</td>\n",
       "                        <td id=\"T_795018f6_f0e4_11ed_8000_8cc68187f5e5row11_col2\" class=\"data row11 col2\" >0.169693</td>\n",
       "                        <td id=\"T_795018f6_f0e4_11ed_8000_8cc68187f5e5row11_col3\" class=\"data row11 col3\" >0.081972</td>\n",
       "                        <td id=\"T_795018f6_f0e4_11ed_8000_8cc68187f5e5row11_col4\" class=\"data row11 col4\" >0.401761</td>\n",
       "                        <td id=\"T_795018f6_f0e4_11ed_8000_8cc68187f5e5row11_col5\" class=\"data row11 col5\" >0.141128</td>\n",
       "                        <td id=\"T_795018f6_f0e4_11ed_8000_8cc68187f5e5row11_col6\" class=\"data row11 col6\" >-0.044873</td>\n",
       "                        <td id=\"T_795018f6_f0e4_11ed_8000_8cc68187f5e5row11_col7\" class=\"data row11 col7\" >0.515130</td>\n",
       "                        <td id=\"T_795018f6_f0e4_11ed_8000_8cc68187f5e5row11_col8\" class=\"data row11 col8\" >0.518427</td>\n",
       "                        <td id=\"T_795018f6_f0e4_11ed_8000_8cc68187f5e5row11_col9\" class=\"data row11 col9\" >0.193463</td>\n",
       "                        <td id=\"T_795018f6_f0e4_11ed_8000_8cc68187f5e5row11_col10\" class=\"data row11 col10\" >0.671347</td>\n",
       "                        <td id=\"T_795018f6_f0e4_11ed_8000_8cc68187f5e5row11_col11\" class=\"data row11 col11\" >1.000000</td>\n",
       "                        <td id=\"T_795018f6_f0e4_11ed_8000_8cc68187f5e5row11_col12\" class=\"data row11 col12\" >0.245701</td>\n",
       "                        <td id=\"T_795018f6_f0e4_11ed_8000_8cc68187f5e5row11_col13\" class=\"data row11 col13\" >0.460012</td>\n",
       "            </tr>\n",
       "            <tr>\n",
       "                        <th id=\"T_795018f6_f0e4_11ed_8000_8cc68187f5e5level0_row12\" class=\"row_heading level0 row12\" >Xylene</th>\n",
       "                        <td id=\"T_795018f6_f0e4_11ed_8000_8cc68187f5e5row12_col0\" class=\"data row12 col0\" >0.049276</td>\n",
       "                        <td id=\"T_795018f6_f0e4_11ed_8000_8cc68187f5e5row12_col1\" class=\"data row12 col1\" >0.099959</td>\n",
       "                        <td id=\"T_795018f6_f0e4_11ed_8000_8cc68187f5e5row12_col2\" class=\"data row12 col2\" >0.010973</td>\n",
       "                        <td id=\"T_795018f6_f0e4_11ed_8000_8cc68187f5e5row12_col3\" class=\"data row12 col3\" >0.011330</td>\n",
       "                        <td id=\"T_795018f6_f0e4_11ed_8000_8cc68187f5e5row12_col4\" class=\"data row12 col4\" >0.164479</td>\n",
       "                        <td id=\"T_795018f6_f0e4_11ed_8000_8cc68187f5e5row12_col5\" class=\"data row12 col5\" >-0.008703</td>\n",
       "                        <td id=\"T_795018f6_f0e4_11ed_8000_8cc68187f5e5row12_col6\" class=\"data row12 col6\" >-0.037880</td>\n",
       "                        <td id=\"T_795018f6_f0e4_11ed_8000_8cc68187f5e5row12_col7\" class=\"data row12 col7\" >0.209081</td>\n",
       "                        <td id=\"T_795018f6_f0e4_11ed_8000_8cc68187f5e5row12_col8\" class=\"data row12 col8\" >0.370662</td>\n",
       "                        <td id=\"T_795018f6_f0e4_11ed_8000_8cc68187f5e5row12_col9\" class=\"data row12 col9\" >0.111593</td>\n",
       "                        <td id=\"T_795018f6_f0e4_11ed_8000_8cc68187f5e5row12_col10\" class=\"data row12 col10\" >0.111039</td>\n",
       "                        <td id=\"T_795018f6_f0e4_11ed_8000_8cc68187f5e5row12_col11\" class=\"data row12 col11\" >0.245701</td>\n",
       "                        <td id=\"T_795018f6_f0e4_11ed_8000_8cc68187f5e5row12_col12\" class=\"data row12 col12\" >1.000000</td>\n",
       "                        <td id=\"T_795018f6_f0e4_11ed_8000_8cc68187f5e5row12_col13\" class=\"data row12 col13\" >0.179967</td>\n",
       "            </tr>\n",
       "            <tr>\n",
       "                        <th id=\"T_795018f6_f0e4_11ed_8000_8cc68187f5e5level0_row13\" class=\"row_heading level0 row13\" >AQI</th>\n",
       "                        <td id=\"T_795018f6_f0e4_11ed_8000_8cc68187f5e5row13_col0\" class=\"data row13 col0\" >-0.315253</td>\n",
       "                        <td id=\"T_795018f6_f0e4_11ed_8000_8cc68187f5e5row13_col1\" class=\"data row13 col1\" >0.665022</td>\n",
       "                        <td id=\"T_795018f6_f0e4_11ed_8000_8cc68187f5e5row13_col2\" class=\"data row13 col2\" >0.549195</td>\n",
       "                        <td id=\"T_795018f6_f0e4_11ed_8000_8cc68187f5e5row13_col3\" class=\"data row13 col3\" >0.432370</td>\n",
       "                        <td id=\"T_795018f6_f0e4_11ed_8000_8cc68187f5e5row13_col4\" class=\"data row13 col4\" >0.700016</td>\n",
       "                        <td id=\"T_795018f6_f0e4_11ed_8000_8cc68187f5e5row13_col5\" class=\"data row13 col5\" >0.481705</td>\n",
       "                        <td id=\"T_795018f6_f0e4_11ed_8000_8cc68187f5e5row13_col6\" class=\"data row13 col6\" >0.217978</td>\n",
       "                        <td id=\"T_795018f6_f0e4_11ed_8000_8cc68187f5e5row13_col7\" class=\"data row13 col7\" >0.779918</td>\n",
       "                        <td id=\"T_795018f6_f0e4_11ed_8000_8cc68187f5e5row13_col8\" class=\"data row13 col8\" >0.701929</td>\n",
       "                        <td id=\"T_795018f6_f0e4_11ed_8000_8cc68187f5e5row13_col9\" class=\"data row13 col9\" >0.249714</td>\n",
       "                        <td id=\"T_795018f6_f0e4_11ed_8000_8cc68187f5e5row13_col10\" class=\"data row13 col10\" >-0.021823</td>\n",
       "                        <td id=\"T_795018f6_f0e4_11ed_8000_8cc68187f5e5row13_col11\" class=\"data row13 col11\" >0.460012</td>\n",
       "                        <td id=\"T_795018f6_f0e4_11ed_8000_8cc68187f5e5row13_col12\" class=\"data row13 col12\" >0.179967</td>\n",
       "                        <td id=\"T_795018f6_f0e4_11ed_8000_8cc68187f5e5row13_col13\" class=\"data row13 col13\" >1.000000</td>\n",
       "            </tr>\n",
       "    </tbody></table>"
      ],
      "text/plain": [
       "<pandas.io.formats.style.Styler at 0x220b6d2ce80>"
      ]
     },
     "execution_count": 123,
     "metadata": {},
     "output_type": "execute_result"
    }
   ],
   "source": [
    "#Data correlations\n",
    "city_annual_avg.corr().style.background_gradient(cmap='Oranges')"
   ]
  },
  {
   "attachments": {},
   "cell_type": "markdown",
   "id": "8345818d",
   "metadata": {
    "papermill": {
     "duration": 0.034718,
     "end_time": "2023-05-10T11:43:54.203037",
     "exception": false,
     "start_time": "2023-05-10T11:43:54.168319",
     "status": "completed"
    },
    "tags": []
   },
   "source": [
    "r-values greater than 0.7 indicate a strong correlation. Therefore, it would be reasonable to say there is a strong correlation between the following:-\n",
    "\n",
    "* AQI : NO2 (0.78)\n",
    "* SO2 : CO (0.76)\n",
    "* NOx : NO (0.75)\n",
    "* AQI : CO (0.73)\n",
    "* AQI : SO2 (0.72)\n",
    "* AQI : PM2.5 (0.71) "
   ]
  },
  {
   "attachments": {},
   "cell_type": "markdown",
   "id": "65651614",
   "metadata": {
    "papermill": {
     "duration": 0.034547,
     "end_time": "2023-05-10T11:43:54.272297",
     "exception": false,
     "start_time": "2023-05-10T11:43:54.237750",
     "status": "completed"
    },
    "tags": []
   },
   "source": [
    "Without considering the AQI, the pollutants with a strong correlation are SO2 and CO, and NOx and NO."
   ]
  },
  {
   "cell_type": "code",
   "execution_count": null,
   "id": "92bd38ac",
   "metadata": {
    "execution": {
     "iopub.execute_input": "2023-05-10T11:43:54.345531Z",
     "iopub.status.busy": "2023-05-10T11:43:54.344935Z",
     "iopub.status.idle": "2023-05-10T11:43:54.626295Z",
     "shell.execute_reply": "2023-05-10T11:43:54.625018Z"
    },
    "papermill": {
     "duration": 0.32172,
     "end_time": "2023-05-10T11:43:54.629298",
     "exception": false,
     "start_time": "2023-05-10T11:43:54.307578",
     "status": "completed"
    },
    "tags": []
   },
   "outputs": [
    {
     "data": {
      "text/plain": [
       "[<matplotlib.lines.Line2D at 0x220b6197198>]"
      ]
     },
     "execution_count": 124,
     "metadata": {},
     "output_type": "execute_result"
    },
    {
     "data": {
      "image/png": "[encoded data removed]",
      "text/plain": [
       "<Figure size 432x288 with 1 Axes>"
      ]
     },
     "metadata": {
      "needs_background": "light"
     },
     "output_type": "display_data"
    }
   ],
   "source": [
    "x=city_annual_avg['SO2']\n",
    "y=city_annual_avg['CO']\n",
    "plt.title(\"Relationship between SO2 and CO\")\n",
    "plt.xlabel(\"SO2\")\n",
    "plt.ylabel(\"CO\")\n",
    "plt.plot(x, y, 'o')\n",
    "m, b = np.polyfit(x, y, 1)\n",
    "plt.plot(x, m*x+b)"
   ]
  },
  {
   "attachments": {},
   "cell_type": "markdown",
   "id": "00d9c075",
   "metadata": {
    "papermill": {
     "duration": 0.036144,
     "end_time": "2023-05-10T11:43:54.701280",
     "exception": false,
     "start_time": "2023-05-10T11:43:54.665136",
     "status": "completed"
    },
    "tags": []
   },
   "source": [
    "SO2 and CO have an r-value of 0.76 and therefore have a strong, positive correlation as shown above. "
   ]
  },
  {
   "cell_type": "code",
   "execution_count": null,
   "id": "86c388d4",
   "metadata": {
    "execution": {
     "iopub.execute_input": "2023-05-10T11:43:54.774118Z",
     "iopub.status.busy": "2023-05-10T11:43:54.773430Z",
     "iopub.status.idle": "2023-05-10T11:43:55.017419Z",
     "shell.execute_reply": "2023-05-10T11:43:55.016188Z"
    },
    "papermill": {
     "duration": 0.283919,
     "end_time": "2023-05-10T11:43:55.020483",
     "exception": false,
     "start_time": "2023-05-10T11:43:54.736564",
     "status": "completed"
    },
    "tags": []
   },
   "outputs": [
    {
     "data": {
      "text/plain": [
       "[<matplotlib.lines.Line2D at 0x220b61f1ac8>]"
      ]
     },
     "execution_count": 125,
     "metadata": {},
     "output_type": "execute_result"
    },
    {
     "data": {
      "image/png": "[encoded data removed]",
      "text/plain": [
       "<Figure size 432x288 with 1 Axes>"
      ]
     },
     "metadata": {
      "needs_background": "light"
     },
     "output_type": "display_data"
    }
   ],
   "source": [
    "x=city_annual_avg['NOx']\n",
    "y=city_annual_avg['NO']\n",
    "plt.title(\"Relationship between NOx and NO\")\n",
    "plt.xlabel(\"NOx\")\n",
    "plt.ylabel(\"NO\")\n",
    "plt.plot(x, y, 'o')\n",
    "m, b = np.polyfit(x, y, 1)\n",
    "plt.plot(x, m*x+b)"
   ]
  },
  {
   "cell_type": "code",
   "execution_count": 1,
   "metadata": {},
   "outputs": [],
   "source": [
    "from tkinter import *\n",
    "import requests\n",
    "from bs4 import BeautifulSoup\n",
    "\n",
    "\n",
    "# link for extract html data\n",
    "\n",
    "def getdata(url):\n",
    "\tr = requests.get(url)\n",
    "\treturn r.text\n",
    "\n",
    "\n",
    "def airinfo():\n",
    "\thtmldata = getdata(\"https://weather.com/en-IN/forecast/air-quality/l/d9a46b04587bfde932f0406024823549c7a2cc72a186e05abca54190fb865cb3\")\n",
    "\tsoup = BeautifulSoup(htmldata, 'html.parser')\n",
    "\tres_data = soup.find(class_=\"DonutChart--innerValue--3_iFF AirQuality--extendedDialText--1kqIb\").text\n",
    "\tair_data = soup.find_all(class_=\"DonutChart--innerValue--3_iFF AirQuality--pollutantDialText--2Q5Oh\")\n",
    "\tair_data=[data.text for data in air_data]\n",
    "\t\n",
    "\n",
    "\tar.set(res_data)\n",
    "\to3.set(air_data[0])\n",
    "\tno2.set(air_data[1])\n",
    "\tso2.set(air_data[2])\n",
    "\tpm.set(air_data[3])\n",
    "\tpml.set(air_data[4])\n",
    "\tco.set(air_data[5])\n",
    "\tres = int(res_data)\n",
    "\tif res <= 50:\n",
    "\t\tremark = \"Good\"\n",
    "\t\timpact = \"Minimal impact\"\n",
    "\telif res <= 100 and res > 51:\n",
    "\t\tremark = \"Satisfactory\"\n",
    "\t\timpact = \"Minor breathing discomfort to sensitive people\"\n",
    "\telif res <= 200 and res >= 101:\n",
    "\t\tremark = \"Moderate\"\n",
    "\t\timpact = \"Breathing discomfort to the people with lungs, asthma and heart diseases\"\n",
    "\telif res <= 400 and res >= 201:\n",
    "\t\tremark = \"Very Poor\"\n",
    "\t\timpact = \"Breathing discomfort to most people on prolonged exposure\"\n",
    "\telif res <= 500 and res >= 401:\n",
    "\t\tremark = \"Severe\"\n",
    "\t\timpact = \"Affects healthy people and seriously impacts those with existing diseases\"\n",
    "\tres_remark.set(remark)\n",
    "\tres_imp.set(impact)\n",
    "\n",
    "\n",
    "# object of tkinter\n",
    "# and background set to grey\n",
    "master = Tk()\n",
    "master.configure(bg='light grey')\n",
    "\n",
    "# Variable Classes in tkinter\n",
    "air_data = StringVar()\n",
    "ar = StringVar()\n",
    "o3 = StringVar()\n",
    "no2 = StringVar()\n",
    "so2 = StringVar()\n",
    "pm = StringVar()\n",
    "pml = StringVar()\n",
    "co = StringVar()\n",
    "res_remark = StringVar()\n",
    "res_imp = StringVar()\n",
    "\n",
    "\n",
    "# Creating label for each information\n",
    "# name using widget Label\n",
    "Label(master, text=\"Air Quality : \",\n",
    "\tbg=\"light grey\").grid(row=0, sticky=W)\n",
    "Label(master, text=\"O3 (μg/m3) :\",\n",
    "\tbg=\"light grey\").grid(row=1, sticky=W)\n",
    "Label(master, text=\"NO2 (μg/m3) :\",\n",
    "\tbg=\"light grey\").grid(row=2, sticky=W)\n",
    "Label(master, text=\"SO2 (μg/m3) :\",\n",
    "\tbg=\"light grey\").grid(row=3, sticky=W)\n",
    "Label(master, text=\"PM2.5 (μg/m3) :\",\n",
    "\tbg=\"light grey\").grid(row=4, sticky=W)\n",
    "Label(master, text=\"PM10 (μg/m3) :\",\n",
    "\tbg=\"light grey\").grid(row=5, sticky=W)\n",
    "Label(master, text=\"CO (μg/m3) :\",\n",
    "\tbg=\"light grey\").grid(row=6, sticky=W)\n",
    "\n",
    "Label(master, text=\"Remark :\",\n",
    "\tbg=\"light grey\").grid(row=7, sticky=W)\n",
    "Label(master, text=\"Possible Health Impacts :\",\n",
    "\tbg=\"light grey\").grid(row=8, sticky=W)\n",
    "\n",
    "\n",
    "# Creating label for class variable\n",
    "# name using widget Entry\n",
    "Label(master, text=\"\", textvariable=ar,\n",
    "\tbg=\"light grey\").grid(\n",
    "\trow=0, column=1, sticky=W)\n",
    "Label(master, text=\"\", textvariable=o3,\n",
    "\tbg=\"light grey\").grid(\n",
    "\trow=1, column=1, sticky=W)\n",
    "Label(master, text=\"\", textvariable=no2,\n",
    "\tbg=\"light grey\").grid(\n",
    "\trow=2, column=1, sticky=W)\n",
    "Label(master, text=\"\", textvariable=so2,\n",
    "\tbg=\"light grey\").grid(\n",
    "\trow=3, column=1, sticky=W)\n",
    "Label(master, text=\"\", textvariable=pm,\n",
    "\tbg=\"light grey\").grid(\n",
    "\trow=4, column=1, sticky=W)\n",
    "Label(master, text=\"\", textvariable=pml,\n",
    "\tbg=\"light grey\").grid(\n",
    "\trow=5, column=1, sticky=W)\n",
    "Label(master, text=\"\", textvariable=co,\n",
    "\tbg=\"light grey\").grid(\n",
    "\trow=6, column=1, sticky=W)\n",
    "Label(master, text=\"\", textvariable=res_remark,\n",
    "\tbg=\"light grey\").grid(row=7, column=1, sticky=W)\n",
    "Label(master, text=\"\", textvariable=res_imp,\n",
    "\tbg=\"light grey\").grid(row=8, column=1, sticky=W)\n",
    "\n",
    "\n",
    "# creating a button using the widget\n",
    "b = Button(master, text=\"Check\",\n",
    "\t\tcommand=airinfo, bg=\"Blue\")\n",
    "b.grid(row=0, column=2, columnspan=2,\n",
    "\trowspan=2, padx=5, pady=5,)\n",
    "\n",
    "mainloop()\n"
   ]
  },
  {
   "attachments": {},
   "cell_type": "markdown",
   "id": "444e3819",
   "metadata": {
    "papermill": {
     "duration": 0.035308,
     "end_time": "2023-05-10T11:43:55.237979",
     "exception": false,
     "start_time": "2023-05-10T11:43:55.202671",
     "status": "completed"
    },
    "tags": []
   },
   "source": [
    "History has shown us that reducing air pollution is a key component to protecting public health. During the industrial revolution, although there were many economic benefits, there was a severe impact on air quality from the increase in pollutants. Currently, a lot of the factors contributing to air pollution in our cities are due to sectors such as energy, urban planning, transport and agriculture. The findings from the data analysis should urge policy makers to implement tighter controls in India and for the global community to come together to innovate cleaner solutions."
   ]
  }
 ],
 "metadata": {
  "kernelspec": {
   "display_name": "Python 3",
   "language": "python",
   "name": "python3"
  },
  "language_info": {
   "codemirror_mode": {
    "name": "ipython",
    "version": 3
   },
   "file_extension": ".py",
   "mimetype": "text/x-python",
   "name": "python",
   "nbconvert_exporter": "python",
   "pygments_lexer": "ipython3",
   "version": "3.11.3"
  },
  "papermill": {
   "default_parameters": {},
   "duration": 25.226661,
   "end_time": "2023-05-10T11:43:56.097992",
   "environment_variables": {},
   "exception": null,
   "input_path": "__notebook__.ipynb",
   "output_path": "__notebook__.ipynb",
   "parameters": {},
   "start_time": "2023-05-10T11:43:30.871331",
   "version": "2.4.0"
  }
 },
 "nbformat": 4,
 "nbformat_minor": 5
}
